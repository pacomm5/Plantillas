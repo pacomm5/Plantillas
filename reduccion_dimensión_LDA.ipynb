{
  "cells": [
    {
      "cell_type": "markdown",
      "metadata": {
        "id": "view-in-github",
        "colab_type": "text"
      },
      "source": [
        "<a href=\"https://colab.research.google.com/github/pacomm5/Plantillas/blob/main/reduccion_dimensi%C3%B3n_LDA.ipynb\" target=\"_parent\"><img src=\"https://colab.research.google.com/assets/colab-badge.svg\" alt=\"Open In Colab\"/></a>"
      ]
    },
    {
      "cell_type": "markdown",
      "metadata": {
        "id": "KdUFcDsdzRyw"
      },
      "source": [
        "# Clonamos el repositorio para obtener los dataSet"
      ]
    },
    {
      "cell_type": "code",
      "execution_count": 1,
      "metadata": {
        "id": "mHReFf3_y9ms",
        "colab": {
          "base_uri": "https://localhost:8080/"
        },
        "outputId": "6f95c66c-348e-4740-f881-c4a534375d43"
      },
      "outputs": [
        {
          "output_type": "stream",
          "name": "stdout",
          "text": [
            "Cloning into 'machinelearning-az'...\n",
            "remote: Enumerating objects: 10541, done.\u001b[K\n",
            "remote: Counting objects: 100% (36/36), done.\u001b[K\n",
            "remote: Compressing objects: 100% (31/31), done.\u001b[K\n",
            "remote: Total 10541 (delta 25), reused 12 (delta 5), pack-reused 10505\u001b[K\n",
            "Receiving objects: 100% (10541/10541), 311.58 MiB | 22.42 MiB/s, done.\n",
            "Resolving deltas: 100% (245/245), done.\n",
            "Checking out files: 100% (10250/10250), done.\n"
          ]
        }
      ],
      "source": [
        "#!git clone https://github.com/joanby/machinelearning-az.git\n",
        "! git clone https://github.com/pacomm5/machinelearning-az"
      ]
    },
    {
      "cell_type": "markdown",
      "metadata": {
        "id": "vNKZXgtKzU2x"
      },
      "source": [
        "# Damos acceso a nuestro Drive"
      ]
    },
    {
      "cell_type": "code",
      "execution_count": 2,
      "metadata": {
        "id": "5gu7KWnzzUQ0",
        "outputId": "78ec3269-bb71-46b1-9b18-c37d348e68b9",
        "colab": {
          "base_uri": "https://localhost:8080/"
        }
      },
      "outputs": [
        {
          "output_type": "stream",
          "name": "stdout",
          "text": [
            "Mounted at /content/drive\n"
          ]
        }
      ],
      "source": [
        "from google.colab import drive\n",
        "drive.mount('/content/drive')"
      ]
    },
    {
      "cell_type": "markdown",
      "metadata": {
        "id": "1gUxIkHWzfHV"
      },
      "source": [
        "# Test it"
      ]
    },
    {
      "cell_type": "code",
      "execution_count": null,
      "metadata": {
        "id": "mIQt3jBMzYRE"
      },
      "outputs": [],
      "source": [
        "!ls '/content/drive/My Drive' "
      ]
    },
    {
      "cell_type": "markdown",
      "metadata": {
        "id": "mHsK36uN0XB-"
      },
      "source": [
        "# Google colab tools"
      ]
    },
    {
      "cell_type": "code",
      "execution_count": 3,
      "metadata": {
        "id": "kTzwfUPWzrm4"
      },
      "outputs": [],
      "source": [
        "from google.colab import files # Para manejar los archivos y, por ejemplo, exportar a su navegador\n",
        "import glob # Para manejar los archivos y, por ejemplo, exportar a su navegador\n",
        "from google.colab import drive # Montar tu Google drive"
      ]
    },
    {
      "cell_type": "markdown",
      "metadata": {
        "id": "uab9OAbV8hYN"
      },
      "source": [
        "# Instalar dependendias"
      ]
    },
    {
      "cell_type": "code",
      "execution_count": 4,
      "metadata": {
        "id": "qukjDgj98kE4",
        "outputId": "381a7dbb-b1f6-4e38-b995-ade0d944e610",
        "colab": {
          "base_uri": "https://localhost:8080/"
        }
      },
      "outputs": [
        {
          "output_type": "stream",
          "name": "stdout",
          "text": [
            "Requirement already satisfied: sklearn in /usr/local/lib/python3.7/dist-packages (0.0)\n",
            "Requirement already satisfied: scikit-learn in /usr/local/lib/python3.7/dist-packages (from sklearn) (1.0.2)\n",
            "Requirement already satisfied: scipy>=1.1.0 in /usr/local/lib/python3.7/dist-packages (from scikit-learn->sklearn) (1.4.1)\n",
            "Requirement already satisfied: numpy>=1.14.6 in /usr/local/lib/python3.7/dist-packages (from scikit-learn->sklearn) (1.21.6)\n",
            "Requirement already satisfied: joblib>=0.11 in /usr/local/lib/python3.7/dist-packages (from scikit-learn->sklearn) (1.1.0)\n",
            "Requirement already satisfied: threadpoolctl>=2.0.0 in /usr/local/lib/python3.7/dist-packages (from scikit-learn->sklearn) (3.1.0)\n"
          ]
        }
      ],
      "source": [
        "!pip install sklearn"
      ]
    },
    {
      "cell_type": "markdown",
      "metadata": {
        "id": "3yFpBwmNz70v"
      },
      "source": [
        "# LDA"
      ]
    },
    {
      "cell_type": "markdown",
      "metadata": {
        "id": "v8OxSXXSz-OP"
      },
      "source": [
        "# Cómo importar las librerías\n"
      ]
    },
    {
      "cell_type": "code",
      "execution_count": 5,
      "metadata": {
        "id": "edZX51YLzs59"
      },
      "outputs": [],
      "source": [
        "import numpy as np\n",
        "import matplotlib.pyplot as plt\n",
        "import pandas as pd"
      ]
    },
    {
      "cell_type": "markdown",
      "metadata": {
        "id": "8XfXlqtF0B58"
      },
      "source": [
        "# Importar el data set\n"
      ]
    },
    {
      "cell_type": "code",
      "execution_count": 6,
      "metadata": {
        "id": "-nnozsHsz_-N"
      },
      "outputs": [],
      "source": [
        "dataset = pd.read_csv('/content/machinelearning-az/datasets/Part 9 - Dimensionality Reduction/Section 44 - Linear Discriminant Analysis (LDA)/Wine.csv')\n",
        "\n",
        "X = dataset.iloc[:, 0:13].values\n",
        "y = dataset.iloc[:, 13].values"
      ]
    },
    {
      "cell_type": "markdown",
      "metadata": {
        "id": "SsVEdPzf4XmV"
      },
      "source": [
        "# Dividir el data set en conjunto de entrenamiento y conjunto de testing\n"
      ]
    },
    {
      "cell_type": "code",
      "execution_count": 7,
      "metadata": {
        "id": "v9CtwK834bjy"
      },
      "outputs": [],
      "source": [
        "from sklearn.model_selection import train_test_split\n",
        "X_train, X_test, y_train, y_test = train_test_split(X, y, test_size = 0.2, random_state = 0)"
      ]
    },
    {
      "cell_type": "markdown",
      "metadata": {
        "id": "5AH_uCEz68rb"
      },
      "source": [
        "# Escalado de variables"
      ]
    },
    {
      "cell_type": "code",
      "execution_count": 8,
      "metadata": {
        "id": "oeuAy8LI69vi"
      },
      "outputs": [],
      "source": [
        "from sklearn.preprocessing import StandardScaler\n",
        "sc_X = StandardScaler()\n",
        "X_train = sc_X.fit_transform(X_train)\n",
        "X_test = sc_X.transform(X_test)"
      ]
    },
    {
      "cell_type": "markdown",
      "metadata": {
        "id": "cgweTaJ67BOB"
      },
      "source": [
        "# Reducir la dimensión del dataset con LDA"
      ]
    },
    {
      "cell_type": "code",
      "execution_count": 9,
      "metadata": {
        "id": "5sMkZ1_fVk87"
      },
      "outputs": [],
      "source": [
        "from sklearn.discriminant_analysis import LinearDiscriminantAnalysis as LDA # aqui utilizamos LDA en vez de PCA"
      ]
    },
    {
      "cell_type": "code",
      "execution_count": 10,
      "metadata": {
        "id": "2AwTWELX7DZQ"
      },
      "outputs": [],
      "source": [
        "lda = LDA(n_components = 2) # aqui ponemos el numero de componentes que queremos\n",
        "X_train = lda.fit_transform(X_train, y_train) # aqui le metemos y train porque es supervisado\n",
        "X_test = lda.transform(X_test)"
      ]
    },
    {
      "cell_type": "code",
      "source": [
        "X_train"
      ],
      "metadata": {
        "id": "Vhlcpay2b20f",
        "outputId": "fa609b16-893b-401c-a767-cef73dc531a8",
        "colab": {
          "base_uri": "https://localhost:8080/"
        }
      },
      "execution_count": 20,
      "outputs": [
        {
          "output_type": "execute_result",
          "data": {
            "text/plain": [
              "array([[ 3.57315552,  1.94018924],\n",
              "       [ 0.85475898, -2.08182977],\n",
              "       [ 0.62173655, -3.06234453],\n",
              "       [ 4.80786412,  2.00638739],\n",
              "       [-3.8579759 ,  0.14987256],\n",
              "       [-3.59455458,  1.24961706],\n",
              "       [-0.53772906, -3.0852704 ],\n",
              "       [ 0.04058577, -2.47312446],\n",
              "       [ 0.99835348, -3.36989668],\n",
              "       [-3.74095658,  1.94844242],\n",
              "       [ 3.76035226,  0.82126218],\n",
              "       [-0.15106412, -1.86820292],\n",
              "       [ 3.62762899,  2.05460026],\n",
              "       [-3.94229781,  2.80328429],\n",
              "       [ 3.33429017,  0.73627798],\n",
              "       [ 3.90206871,  1.03276135],\n",
              "       [-3.55835472,  0.18783108],\n",
              "       [ 5.63175281,  2.40524214],\n",
              "       [-5.56217254,  0.85694946],\n",
              "       [ 0.23296188, -3.94615581],\n",
              "       [ 5.03141997,  3.23313754],\n",
              "       [ 3.52861651,  0.94605778],\n",
              "       [-1.17815662, -2.17294825],\n",
              "       [ 3.58320131,  0.67947364],\n",
              "       [ 5.21649905,  2.41090952],\n",
              "       [-3.01647841,  1.24411621],\n",
              "       [ 1.86178658, -0.47484926],\n",
              "       [ 3.93816398, -0.2204059 ],\n",
              "       [-1.0836235 , -3.32496762],\n",
              "       [ 1.8691488 , -0.63362283],\n",
              "       [ 3.27717205,  1.51263542],\n",
              "       [-0.47842302, -1.16766723],\n",
              "       [-4.14433134,  1.37391708],\n",
              "       [ 2.45009727, -2.49336285],\n",
              "       [-1.20844631, -2.30679956],\n",
              "       [ 2.55631466, -0.98550214],\n",
              "       [-1.6091476 ,  0.55066705],\n",
              "       [-5.52462148,  2.19178828],\n",
              "       [-2.44685583, -2.28937848],\n",
              "       [-1.95474568, -2.02963924],\n",
              "       [ 5.54394234,  1.5236766 ],\n",
              "       [ 5.74409562,  1.85156779],\n",
              "       [ 1.13553056, -3.93865462],\n",
              "       [-1.2483554 , -3.08106324],\n",
              "       [-0.00961488, -3.62708415],\n",
              "       [ 5.21418108,  2.66981962],\n",
              "       [ 4.2290474 ,  0.3886969 ],\n",
              "       [-3.94237521,  0.76214343],\n",
              "       [ 5.30822458,  2.18894363],\n",
              "       [-0.20862902, -3.05785486],\n",
              "       [ 0.47295413, -2.560251  ],\n",
              "       [ 0.46692465, -1.86886738],\n",
              "       [-1.05818513, -2.61576658],\n",
              "       [ 0.33551985, -3.26643922],\n",
              "       [-4.74777848,  2.23081211],\n",
              "       [-2.80968166,  1.32816126],\n",
              "       [-1.02804047, -2.60107642],\n",
              "       [-6.15432728,  2.12945198],\n",
              "       [ 4.33944259,  1.23494233],\n",
              "       [-3.63172128,  0.54074799],\n",
              "       [ 4.79575236,  1.25996976],\n",
              "       [-4.13914056,  0.36020476],\n",
              "       [-3.94468876,  3.0153646 ],\n",
              "       [-0.42472714, -2.30200526],\n",
              "       [-5.17777666,  2.36899585],\n",
              "       [-1.3044572 , -2.87041347],\n",
              "       [ 0.06991014, -2.78082083],\n",
              "       [-4.98245326,  3.83183665],\n",
              "       [ 4.3064623 ,  2.4129711 ],\n",
              "       [ 0.29208614, -2.06937039],\n",
              "       [-5.0934408 ,  3.0899463 ],\n",
              "       [ 0.61101399,  0.17866792],\n",
              "       [ 1.12081287, -2.87291369],\n",
              "       [-0.77339273, -2.03777551],\n",
              "       [ 2.57603424,  0.08537633],\n",
              "       [-4.29104423,  2.28661799],\n",
              "       [ 5.255722  ,  0.61832811],\n",
              "       [ 5.7318737 ,  0.19267558],\n",
              "       [-6.24884704,  3.55128212],\n",
              "       [-5.38587866,  1.77559442],\n",
              "       [ 1.31025756, -2.52845345],\n",
              "       [ 5.00526015,  2.31115606],\n",
              "       [-4.31499585,  1.99154644],\n",
              "       [-3.92894005,  2.13127776],\n",
              "       [-0.05838671, -2.60549973],\n",
              "       [-0.42566332, -1.68426706],\n",
              "       [-3.5253992 ,  0.16028802],\n",
              "       [-4.42913323,  2.47869828],\n",
              "       [-2.85063973,  1.1163819 ],\n",
              "       [ 4.46460374,  3.55045935],\n",
              "       [-1.21751159, -1.31441447],\n",
              "       [-4.94290391,  1.29321013],\n",
              "       [-1.70880192, -2.10638157],\n",
              "       [ 3.42314438,  1.21989584],\n",
              "       [-5.58393165,  2.49598525],\n",
              "       [-0.71859407, -2.67293812],\n",
              "       [ 4.01611408,  0.13560479],\n",
              "       [ 4.64009352, -0.06178578],\n",
              "       [-3.85066489,  1.66509736],\n",
              "       [-3.47123425, -0.07349273],\n",
              "       [ 4.17391188,  0.51767626],\n",
              "       [-4.09941682,  3.11353194],\n",
              "       [ 4.29592104,  0.18486038],\n",
              "       [-0.15570245, -3.78905263],\n",
              "       [-3.29789207,  1.48134709],\n",
              "       [-4.0655232 ,  1.02548943],\n",
              "       [-0.63468603, -2.68007872],\n",
              "       [-4.4641561 ,  2.38128912],\n",
              "       [ 4.52246935,  1.96313747],\n",
              "       [ 0.79712615, -3.04743012],\n",
              "       [ 4.91056287,  1.22473167],\n",
              "       [-3.77150311,  0.30882908],\n",
              "       [ 3.5444653 ,  1.05962644],\n",
              "       [ 4.36398757,  1.78816415],\n",
              "       [ 4.86008035,  2.32823762],\n",
              "       [-3.46481941,  1.07890379],\n",
              "       [-1.65664035, -3.72251678],\n",
              "       [ 0.26593072, -2.87995582],\n",
              "       [-0.66345544, -2.36083579],\n",
              "       [-0.33965319, -5.76922451],\n",
              "       [ 5.14221842,  1.93740967],\n",
              "       [ 5.75746454,  2.94776345],\n",
              "       [ 0.42253477, -1.5887479 ],\n",
              "       [ 0.96267148, -1.57482982],\n",
              "       [-2.5640305 ,  0.20647539],\n",
              "       [-2.30398129, -1.49865287],\n",
              "       [ 4.91741587,  2.32620455],\n",
              "       [ 5.20879938,  2.96660159],\n",
              "       [-3.60895143,  2.468315  ],\n",
              "       [-4.58647662,  2.42583146],\n",
              "       [ 2.89493473,  1.15627605],\n",
              "       [-0.09551518, -1.90444969],\n",
              "       [ 1.30043304, -0.87538895],\n",
              "       [ 0.16805348, -3.21257614],\n",
              "       [-3.19016989,  1.66680508],\n",
              "       [-2.08858151,  0.83647089],\n",
              "       [-4.25960623,  1.54637835],\n",
              "       [ 1.68647094, -3.83427605],\n",
              "       [-0.9020576 , -2.62989337],\n",
              "       [-0.19105618, -3.66017053],\n",
              "       [-4.20632725,  0.8310719 ],\n",
              "       [ 4.52910794,  3.07839306]])"
            ]
          },
          "metadata": {},
          "execution_count": 20
        }
      ]
    },
    {
      "cell_type": "markdown",
      "metadata": {
        "id": "je3kcRlG7JV5"
      },
      "source": [
        "# Ajustar el modelo de Regresión Logística en el Conjunto de Entrenamiento"
      ]
    },
    {
      "cell_type": "code",
      "execution_count": 11,
      "metadata": {
        "id": "iAs3WugHVk88"
      },
      "outputs": [],
      "source": [
        "from sklearn.linear_model import LogisticRegression"
      ]
    },
    {
      "cell_type": "code",
      "execution_count": 12,
      "metadata": {
        "id": "HS-M9s587Kj3",
        "outputId": "7a81b9ba-f456-4e88-849e-2a4e5ec4a336",
        "colab": {
          "base_uri": "https://localhost:8080/"
        }
      },
      "outputs": [
        {
          "output_type": "execute_result",
          "data": {
            "text/plain": [
              "LogisticRegression(random_state=0)"
            ]
          },
          "metadata": {},
          "execution_count": 12
        }
      ],
      "source": [
        "classifier = LogisticRegression(random_state = 0)\n",
        "classifier.fit(X_train, y_train)"
      ]
    },
    {
      "cell_type": "markdown",
      "metadata": {
        "id": "ZHfQJe4FVk88"
      },
      "source": [
        "# Predicción de los resultados con el Conjunto de Testing"
      ]
    },
    {
      "cell_type": "code",
      "execution_count": 13,
      "metadata": {
        "id": "sHfkzw9PVk88"
      },
      "outputs": [],
      "source": [
        "y_pred  = classifier.predict(X_test)"
      ]
    },
    {
      "cell_type": "code",
      "source": [
        "y_pred"
      ],
      "metadata": {
        "id": "DkoBs45RcH4I",
        "outputId": "3bddd634-c380-4553-deb9-2baa3afe186e",
        "colab": {
          "base_uri": "https://localhost:8080/"
        }
      },
      "execution_count": 21,
      "outputs": [
        {
          "output_type": "execute_result",
          "data": {
            "text/plain": [
              "array([1, 3, 2, 1, 2, 2, 1, 3, 2, 2, 3, 3, 1, 2, 3, 2, 1, 1, 2, 1, 2, 1,\n",
              "       1, 2, 2, 2, 2, 2, 2, 3, 1, 1, 2, 1, 1, 1])"
            ]
          },
          "metadata": {},
          "execution_count": 21
        }
      ]
    },
    {
      "cell_type": "markdown",
      "metadata": {
        "id": "JfBM-aXXVk88"
      },
      "source": [
        "# Elaborar una matriz de confusión"
      ]
    },
    {
      "cell_type": "code",
      "execution_count": 14,
      "metadata": {
        "id": "-G10oNuuVk88"
      },
      "outputs": [],
      "source": [
        "from sklearn.metrics import confusion_matrix\n",
        "cm = confusion_matrix(y_test, y_pred)"
      ]
    },
    {
      "cell_type": "code",
      "source": [
        "cm"
      ],
      "metadata": {
        "id": "9FgsKGXzaBl8",
        "outputId": "5965169b-f71f-4e72-e4f1-b651710c37d6",
        "colab": {
          "base_uri": "https://localhost:8080/"
        }
      },
      "execution_count": 15,
      "outputs": [
        {
          "output_type": "execute_result",
          "data": {
            "text/plain": [
              "array([[14,  0,  0],\n",
              "       [ 0, 16,  0],\n",
              "       [ 0,  0,  6]])"
            ]
          },
          "metadata": {},
          "execution_count": 15
        }
      ]
    },
    {
      "cell_type": "code",
      "source": [
        "(14+16+6)/(14+16+6) # 100 por 100"
      ],
      "metadata": {
        "id": "kqlN7j0DaEs8",
        "outputId": "66bb5337-24c0-40dd-a5d1-b3cb7919695d",
        "colab": {
          "base_uri": "https://localhost:8080/"
        }
      },
      "execution_count": 17,
      "outputs": [
        {
          "output_type": "execute_result",
          "data": {
            "text/plain": [
              "1.0"
            ]
          },
          "metadata": {},
          "execution_count": 17
        }
      ]
    },
    {
      "cell_type": "markdown",
      "metadata": {
        "id": "JnMLSqzW8NH7"
      },
      "source": [
        "# Representación gráfica de los resultados del algoritmo en el Conjunto de Entrenamiento"
      ]
    },
    {
      "cell_type": "code",
      "execution_count": 18,
      "metadata": {
        "id": "1qZ3wRR08Oar",
        "outputId": "d096810d-e6a0-45fc-e71d-b5333c1de0bb",
        "colab": {
          "base_uri": "https://localhost:8080/",
          "height": 367
        }
      },
      "outputs": [
        {
          "output_type": "stream",
          "name": "stderr",
          "text": [
            "*c* argument looks like a single numeric RGB or RGBA sequence, which should be avoided as value-mapping will have precedence in case its length matches with *x* & *y*.  Please use the *color* keyword-argument or provide a 2-D array with a single row if you intend to specify the same RGB or RGBA value for all points.\n",
            "*c* argument looks like a single numeric RGB or RGBA sequence, which should be avoided as value-mapping will have precedence in case its length matches with *x* & *y*.  Please use the *color* keyword-argument or provide a 2-D array with a single row if you intend to specify the same RGB or RGBA value for all points.\n",
            "*c* argument looks like a single numeric RGB or RGBA sequence, which should be avoided as value-mapping will have precedence in case its length matches with *x* & *y*.  Please use the *color* keyword-argument or provide a 2-D array with a single row if you intend to specify the same RGB or RGBA value for all points.\n"
          ]
        },
        {
          "output_type": "display_data",
          "data": {
            "text/plain": [
              "<Figure size 432x288 with 1 Axes>"
            ],
            "image/png": "[encoded data removed]"
          },
          "metadata": {
            "needs_background": "light"
          }
        }
      ],
      "source": [
        "from matplotlib.colors import ListedColormap\n",
        "X_set, y_set = X_train, y_train\n",
        "X1, X2 = np.meshgrid(np.arange(start = X_set[:, 0].min() - 1, stop = X_set[:, 0].max() + 1, step = 0.01),\n",
        "                     np.arange(start = X_set[:, 1].min() - 1, stop = X_set[:, 1].max() + 1, step = 0.01))\n",
        "plt.contourf(X1, X2, classifier.predict(np.array([X1.ravel(), X2.ravel()]).T).reshape(X1.shape),\n",
        "             alpha = 0.75, cmap = ListedColormap(('red', 'green', 'blue')))\n",
        "plt.xlim(X1.min(), X1.max())\n",
        "plt.ylim(X2.min(), X2.max())\n",
        "for i, j in enumerate(np.unique(y_set)):\n",
        "    plt.scatter(X_set[y_set == j, 0], X_set[y_set == j, 1],\n",
        "                c = ListedColormap(('red', 'green', 'blue'))(i), label = j)\n",
        "plt.title('Clasificador (Conjunto de Entrenamiento)')\n",
        "plt.xlabel('DL1')\n",
        "plt.ylabel('DL2')\n",
        "plt.legend()\n",
        "plt.show()"
      ]
    },
    {
      "cell_type": "markdown",
      "metadata": {
        "id": "Q205BbWbVk89"
      },
      "source": [
        "# Representación gráfica de los resultados del algoritmo en el Conjunto de Testing"
      ]
    },
    {
      "cell_type": "code",
      "execution_count": 19,
      "metadata": {
        "id": "jh-5CO5fVk89",
        "outputId": "637e3bbf-000f-4e33-8040-1d19a563cbad",
        "colab": {
          "base_uri": "https://localhost:8080/",
          "height": 367
        }
      },
      "outputs": [
        {
          "output_type": "stream",
          "name": "stderr",
          "text": [
            "*c* argument looks like a single numeric RGB or RGBA sequence, which should be avoided as value-mapping will have precedence in case its length matches with *x* & *y*.  Please use the *color* keyword-argument or provide a 2-D array with a single row if you intend to specify the same RGB or RGBA value for all points.\n",
            "*c* argument looks like a single numeric RGB or RGBA sequence, which should be avoided as value-mapping will have precedence in case its length matches with *x* & *y*.  Please use the *color* keyword-argument or provide a 2-D array with a single row if you intend to specify the same RGB or RGBA value for all points.\n",
            "*c* argument looks like a single numeric RGB or RGBA sequence, which should be avoided as value-mapping will have precedence in case its length matches with *x* & *y*.  Please use the *color* keyword-argument or provide a 2-D array with a single row if you intend to specify the same RGB or RGBA value for all points.\n"
          ]
        },
        {
          "output_type": "display_data",
          "data": {
            "text/plain": [
              "<Figure size 432x288 with 1 Axes>"
            ],
            "image/png": "[encoded data removed]"
          },
          "metadata": {
            "needs_background": "light"
          }
        }
      ],
      "source": [
        "X_set, y_set = X_test, y_test\n",
        "X1, X2 = np.meshgrid(np.arange(start = X_set[:, 0].min() - 1, stop = X_set[:, 0].max() + 1, step = 0.01),\n",
        "                     np.arange(start = X_set[:, 1].min() - 1, stop = X_set[:, 1].max() + 1, step = 0.01))\n",
        "plt.contourf(X1, X2, classifier.predict(np.array([X1.ravel(), X2.ravel()]).T).reshape(X1.shape),\n",
        "             alpha = 0.75, cmap = ListedColormap(('red', 'green', 'blue')))\n",
        "plt.xlim(X1.min(), X1.max())\n",
        "plt.ylim(X2.min(), X2.max())\n",
        "for i, j in enumerate(np.unique(y_set)):\n",
        "    plt.scatter(X_set[y_set == j, 0], X_set[y_set == j, 1],\n",
        "                c = ListedColormap(('red', 'green', 'blue'))(i), label = j)\n",
        "plt.title('Clasificador (Conjunto de Test)')\n",
        "plt.xlabel('DL1')\n",
        "plt.ylabel('DL2')\n",
        "plt.legend()\n",
        "plt.show()"
      ]
    },
    {
      "cell_type": "code",
      "source": [
        ""
      ],
      "metadata": {
        "id": "E6z1uYfxaeXs"
      },
      "execution_count": null,
      "outputs": []
    }
  ],
  "metadata": {
    "colab": {
      "collapsed_sections": [],
      "name": "reduccion dimensión LDA.ipynb",
      "provenance": [],
      "include_colab_link": true
    },
    "kernelspec": {
      "display_name": "Python 3",
      "language": "python",
      "name": "python3"
    },
    "language_info": {
      "codemirror_mode": {
        "name": "ipython",
        "version": 3
      },
      "file_extension": ".py",
      "mimetype": "text/x-python",
      "name": "python",
      "nbconvert_exporter": "python",
      "pygments_lexer": "ipython3",
      "version": "3.8.3"
    }
  },
  "nbformat": 4,
  "nbformat_minor": 0
}