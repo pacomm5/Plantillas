{
  "nbformat": 4,
  "nbformat_minor": 0,
  "metadata": {
    "colab": {
      "name": "EXCEL.ipynb",
      "provenance": [],
      "authorship_tag": "ABX9TyNOc0WPivHHd+vn3TgNicm2",
      "include_colab_link": true
    },
    "kernelspec": {
      "name": "python3",
      "display_name": "Python 3"
    },
    "language_info": {
      "name": "python"
    }
  },
  "cells": [
    {
      "cell_type": "markdown",
      "metadata": {
        "id": "view-in-github",
        "colab_type": "text"
      },
      "source": [
        "<a href=\"https://colab.research.google.com/github/pacomm5/Plantillas/blob/main/EXCEL.ipynb\" target=\"_parent\"><img src=\"https://colab.research.google.com/assets/colab-badge.svg\" alt=\"Open In Colab\"/></a>"
      ]
    },
    {
      "cell_type": "markdown",
      "source": [
        "# LLEVAR UN DATAFRAME A UN CSV DE VUELTA. "
      ],
      "metadata": {
        "id": "b9j0GryGio4M"
      }
    },
    {
      "cell_type": "code",
      "execution_count": null,
      "metadata": {
        "id": "nY5VEuj6iaft"
      },
      "outputs": [],
      "source": [
        "# una vez hecho todo toca volcar la información de vuelta a csv\n",
        "merge_full.to_csv(\"salida.csv\", sep= \"|\", index = False)\n",
        "# lo que ha hecho es mandarmelo al temporal de collab, como sabemos lo tenemos que descargar \n",
        "# porque desaparece.\n",
        "# imagino que si lo haces en otra herramienta que no sea colab, habrá que ponerle\n",
        "# la dirección que corresponda. "
      ]
    },
    {
      "cell_type": "markdown",
      "source": [
        "# TRABAJANDO CON ARCHIVOS EN CARPETAS ."
      ],
      "metadata": {
        "id": "YHq9ayiMi25B"
      }
    },
    {
      "cell_type": "code",
      "source": [
        "import pandas as pd\n",
        "import os"
      ],
      "metadata": {
        "id": "Yth1Jq2vi6R_"
      },
      "execution_count": null,
      "outputs": []
    },
    {
      "cell_type": "code",
      "source": [
        "# hemos creado tres carpetas y en cada uno hemos metido el mismo archivo de movies. \n",
        "# para poder ver como se hace.....\n",
        "\n",
        "print(os.listdir(\".\"))  # esto lo que hace es listar todo el contenido de una carpeta.\n",
        "# \".\" te dice lo que hay en el directorio actual\n"
      ],
      "metadata": {
        "id": "lFXwbe99i-m4"
      },
      "execution_count": null,
      "outputs": []
    },
    {
      "cell_type": "code",
      "source": [
        "# asi filtramos solo los ficheros que empiecen por dt=\n",
        "\n",
        "dias_df = [] # abrimos la lista\n",
        "\n",
        "for carpeta in carpetas: # recorre carpeta in carpetas, carpetas ya la hemos definido arriba. \n",
        "    if carpeta.startswith(\"dt=\"): # si la carpeta empieza por lo que está dentro del parentesis. \n",
        "        fichero_datos = f\"{carpeta}/movies.csv\" # esto lo que hace es guardar en fichero de datos los nombres de todas las carpetas que tenemos con esa condición\n",
        "\n",
        "        print(fichero_datos) # aquí la imprime. \n",
        "        df = pd.read_csv(fichero_datos, sep=\";\") # aqui estamos leyendo todas las carpetas de datos. \n",
        "        df[\"fecha\"] = carpeta[-10:]\n",
        "        dias_df.append(df) # aqui apendiza a la lista de arriba el dataframe. \n",
        "\n",
        "print(len(dias_df)) # aqui lo que imprime es el numero de archivos. "
      ],
      "metadata": {
        "id": "Vr5Wz9RQjDkK"
      },
      "execution_count": null,
      "outputs": []
    },
    {
      "cell_type": "code",
      "source": [
        "all_dfs = pd.concat(dias_df) # aqui lo que estamos haciendo es concatenar todos los archivos en uno de la lista que hemos generado arriba. "
      ],
      "metadata": {
        "id": "qrX7E4LcjJEK"
      },
      "execution_count": null,
      "outputs": []
    },
    {
      "cell_type": "code",
      "source": [
        "len(all_dfs) # con esto sabriamos la longitud del dataframe resultante. "
      ],
      "metadata": {
        "id": "Abe6FFltjNCu"
      },
      "execution_count": null,
      "outputs": []
    },
    {
      "cell_type": "code",
      "source": [
        "n_fechas = all_dfs[\"fecha\"].unique() # con esto le estamos diciendo que nos diga las fechas unicas dentro del dataframe"
      ],
      "metadata": {
        "id": "9DWlw2epjQTV"
      },
      "execution_count": null,
      "outputs": []
    },
    {
      "cell_type": "code",
      "source": [
        "len(n_fechas) # con esto nos diría la cantidad de registros únicos de fechas. "
      ],
      "metadata": {
        "id": "czoyf6hKjVOT"
      },
      "execution_count": null,
      "outputs": []
    },
    {
      "cell_type": "code",
      "source": [
        "from datetime import datetime\n",
        "fecha_hoy = datetime.today().strftime(\"%Y-%m-%d\") # asi formateamos la fecha que sale igua que la\n",
        "# tenemos en los\n",
        "# archivos.  Y año m es mes d es día. \n",
        "carpeta_salida = f\"salidas/dt={fecha_hoy}\"\n",
        "print(carpeta_salida)\n",
        "os.makedirs(carpeta_salida, exist_ok = True) # esto crea la carpeta "
      ],
      "metadata": {
        "id": "ltD7rtgTjcGd"
      },
      "execution_count": null,
      "outputs": []
    },
    {
      "cell_type": "code",
      "source": [
        "all_dfs.to_csv(f\"{carpeta_salida}/salida_{fecha_hoy}.csv\", sep = \"|\", index = False)\n",
        "# esto mete el dataframe dentro de una carpeta y le pone el nombre"
      ],
      "metadata": {
        "id": "_uX6tfsJjdNf"
      },
      "execution_count": null,
      "outputs": []
    }
  ]
}