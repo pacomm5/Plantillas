{
  "nbformat": 4,
  "nbformat_minor": 0,
  "metadata": {
    "colab": {
      "name": "EXCEL.ipynb",
      "provenance": [],
      "authorship_tag": "ABX9TyOGQcRl9t5GaEwpovw2ET1e",
      "include_colab_link": true
    },
    "kernelspec": {
      "name": "python3",
      "display_name": "Python 3"
    },
    "language_info": {
      "name": "python"
    }
  },
  "cells": [
    {
      "cell_type": "markdown",
      "metadata": {
        "id": "view-in-github",
        "colab_type": "text"
      },
      "source": [
        "<a href=\"https://colab.research.google.com/github/pacomm5/Plantillas/blob/main/EXCEL.ipynb\" target=\"_parent\"><img src=\"https://colab.research.google.com/assets/colab-badge.svg\" alt=\"Open In Colab\"/></a>"
      ]
    },
    {
      "cell_type": "markdown",
      "source": [
        "# LLEVAR UN DATAFRAME A UN CSV DE VUELTA. "
      ],
      "metadata": {
        "id": "b9j0GryGio4M"
      }
    },
    {
      "cell_type": "code",
      "execution_count": 1,
      "metadata": {
        "colab": {
          "base_uri": "https://localhost:8080/",
          "height": 248
        },
        "id": "nY5VEuj6iaft",
        "outputId": "ed552672-fc6f-4df7-fb5b-1240f10fe815"
      },
      "outputs": [
        {
          "output_type": "error",
          "ename": "NameError",
          "evalue": "ignored",
          "traceback": [
            "\u001b[0;31m---------------------------------------------------------------------------\u001b[0m",
            "\u001b[0;31mNameError\u001b[0m                                 Traceback (most recent call last)",
            "\u001b[0;32m<ipython-input-1-11cffc3ee51a>\u001b[0m in \u001b[0;36m<module>\u001b[0;34m()\u001b[0m\n\u001b[1;32m      1\u001b[0m \u001b[0;31m# una vez hecho todo toca volcar la información de vuelta a csv\u001b[0m\u001b[0;34m\u001b[0m\u001b[0;34m\u001b[0m\u001b[0;34m\u001b[0m\u001b[0m\n\u001b[0;32m----> 2\u001b[0;31m \u001b[0mmerge_full\u001b[0m\u001b[0;34m.\u001b[0m\u001b[0mto_csv\u001b[0m\u001b[0;34m(\u001b[0m\u001b[0;34m\"salida.csv\"\u001b[0m\u001b[0;34m,\u001b[0m \u001b[0msep\u001b[0m\u001b[0;34m=\u001b[0m \u001b[0;34m\"|\"\u001b[0m\u001b[0;34m,\u001b[0m \u001b[0mindex\u001b[0m \u001b[0;34m=\u001b[0m \u001b[0;32mFalse\u001b[0m\u001b[0;34m)\u001b[0m\u001b[0;34m\u001b[0m\u001b[0;34m\u001b[0m\u001b[0m\n\u001b[0m\u001b[1;32m      3\u001b[0m \u001b[0;31m# lo que ha hecho es mandarmelo al temporal de collab, como sabemos lo tenemos que descargar\u001b[0m\u001b[0;34m\u001b[0m\u001b[0;34m\u001b[0m\u001b[0;34m\u001b[0m\u001b[0m\n\u001b[1;32m      4\u001b[0m \u001b[0;31m# porque desaparece.\u001b[0m\u001b[0;34m\u001b[0m\u001b[0;34m\u001b[0m\u001b[0;34m\u001b[0m\u001b[0m\n\u001b[1;32m      5\u001b[0m \u001b[0;31m# imagino que si lo haces en otra herramienta que no sea colab, habrá que ponerle\u001b[0m\u001b[0;34m\u001b[0m\u001b[0;34m\u001b[0m\u001b[0;34m\u001b[0m\u001b[0m\n",
            "\u001b[0;31mNameError\u001b[0m: name 'merge_full' is not defined"
          ]
        }
      ],
      "source": [
        "# una vez hecho todo toca volcar la información de vuelta a csv\n",
        "merge_full.to_csv(\"salida.csv\", sep= \"|\", index = False)\n",
        "# lo que ha hecho es mandarmelo al temporal de collab, como sabemos lo tenemos que descargar \n",
        "# porque desaparece.\n",
        "# imagino que si lo haces en otra herramienta que no sea colab, habrá que ponerle\n",
        "# la dirección que corresponda. "
      ]
    },
    {
      "cell_type": "markdown",
      "source": [
        "# TRABAJANDO CON ARCHIVOS EN CARPETAS ."
      ],
      "metadata": {
        "id": "YHq9ayiMi25B"
      }
    },
    {
      "cell_type": "code",
      "source": [
        "import pandas as pd\n",
        "import os"
      ],
      "metadata": {
        "id": "Yth1Jq2vi6R_"
      },
      "execution_count": null,
      "outputs": []
    },
    {
      "cell_type": "code",
      "source": [
        "# hemos creado tres carpetas y en cada uno hemos metido el mismo archivo de movies. \n",
        "# para poder ver como se hace.....\n",
        "\n",
        "print(os.listdir(\".\"))  # esto lo que hace es listar todo el contenido de una carpeta.\n",
        "# \".\" te dice lo que hay en el directorio actual\n"
      ],
      "metadata": {
        "id": "lFXwbe99i-m4"
      },
      "execution_count": null,
      "outputs": []
    },
    {
      "cell_type": "code",
      "source": [
        "# asi filtramos solo los ficheros que empiecen por dt=\n",
        "\n",
        "dias_df = [] # abrimos la lista\n",
        "\n",
        "for carpeta in carpetas: # recorre carpeta in carpetas, carpetas ya la hemos definido arriba. \n",
        "    if carpeta.startswith(\"dt=\"): # si la carpeta empieza por lo que está dentro del parentesis. \n",
        "        fichero_datos = f\"{carpeta}/movies.csv\" # esto lo que hace es guardar en fichero de datos los nombres de todas las carpetas que tenemos con esa condición\n",
        "\n",
        "        print(fichero_datos) # aquí la imprime. \n",
        "        df = pd.read_csv(fichero_datos, sep=\";\") # aqui estamos leyendo todas las carpetas de datos. \n",
        "        df[\"fecha\"] = carpeta[-10:]\n",
        "        dias_df.append(df) # aqui apendiza a la lista de arriba el dataframe. \n",
        "\n",
        "print(len(dias_df)) # aqui lo que imprime es el numero de archivos. "
      ],
      "metadata": {
        "id": "Vr5Wz9RQjDkK"
      },
      "execution_count": null,
      "outputs": []
    },
    {
      "cell_type": "code",
      "source": [
        "all_dfs = pd.concat(dias_df) # aqui lo que estamos haciendo es concatenar todos los archivos en uno de la lista que hemos generado arriba. "
      ],
      "metadata": {
        "id": "qrX7E4LcjJEK"
      },
      "execution_count": null,
      "outputs": []
    },
    {
      "cell_type": "code",
      "source": [
        "len(all_dfs) # con esto sabriamos la longitud del dataframe resultante. "
      ],
      "metadata": {
        "id": "Abe6FFltjNCu"
      },
      "execution_count": null,
      "outputs": []
    },
    {
      "cell_type": "code",
      "source": [
        "n_fechas = all_dfs[\"fecha\"].unique() # con esto le estamos diciendo que nos diga las fechas unicas dentro del dataframe"
      ],
      "metadata": {
        "id": "9DWlw2epjQTV"
      },
      "execution_count": null,
      "outputs": []
    },
    {
      "cell_type": "code",
      "source": [
        "len(n_fechas) # con esto nos diría la cantidad de registros únicos de fechas. "
      ],
      "metadata": {
        "id": "czoyf6hKjVOT"
      },
      "execution_count": null,
      "outputs": []
    },
    {
      "cell_type": "code",
      "source": [
        "from datetime import datetime\n",
        "fecha_hoy = datetime.today().strftime(\"%Y-%m-%d\") # asi formateamos la fecha que sale igua que la\n",
        "# tenemos en los\n",
        "# archivos.  Y año m es mes d es día. \n",
        "carpeta_salida = f\"salidas/dt={fecha_hoy}\"\n",
        "print(carpeta_salida)\n",
        "os.makedirs(carpeta_salida, exist_ok = True) # esto crea la carpeta "
      ],
      "metadata": {
        "id": "ltD7rtgTjcGd"
      },
      "execution_count": null,
      "outputs": []
    },
    {
      "cell_type": "code",
      "source": [
        "all_dfs.to_csv(f\"{carpeta_salida}/salida_{fecha_hoy}.csv\", sep = \"|\", index = False)\n",
        "# esto mete el dataframe dentro de una carpeta y le pone el nombre"
      ],
      "metadata": {
        "id": "_uX6tfsJjdNf"
      },
      "execution_count": null,
      "outputs": []
    },
    {
      "cell_type": "markdown",
      "source": [
        "# AUTOMATIZACIÓN CON EXCEL"
      ],
      "metadata": {
        "id": "MYnLr8Vqk3oS"
      }
    },
    {
      "cell_type": "code",
      "source": [
        "! git clone https://github.com/pacomm5/Excel-Automation-With-Python"
      ],
      "metadata": {
        "id": "U06L8GLclCzy"
      },
      "execution_count": null,
      "outputs": []
    },
    {
      "cell_type": "markdown",
      "source": [
        "1. Write data using openpyxl\n",
        "2. Write data using pandas\n",
        "3. Read data using openpyxl\n",
        "4. Read data using pandas\n",
        "5. Creating Multiple Sheets in master excel file\n",
        "6. Combining multiple excel speadsheet into a master excel\n",
        "7. Plotting bar graph \n",
        "8. Plotting pie graph\n",
        "9. Sample Project 1  \n",
        "10. Sample Project 2"
      ],
      "metadata": {
        "id": "1qFRLfgblZM9"
      }
    },
    {
      "cell_type": "markdown",
      "source": [
        "Aqui lo que vamos a hacer es escribir dentro de un excel con openpyxl desde python y guardarlo en un archivo. \n",
        "el archivo donde lo voy a guardar es en google drive temporal."
      ],
      "metadata": {
        "id": "mU-TtiKYmMOC"
      }
    },
    {
      "cell_type": "code",
      "source": [
        "from openpyxl import Workbook    # importamos la librería. \n",
        "wb = Workbook()  # abrimos un nuevo archivo excel\n",
        "sheet = wb.active  # activamos la hoja. \n",
        "# todos lo demás son los datos que vamos a meter. \n",
        "\n",
        "sheet['A1'] =\"Roll\"   \n",
        "sheet['A2'] = 1  \n",
        "sheet['A3'] = 2  \n",
        "sheet['A4'] = 3\n",
        "\n",
        "sheet['B1'] =\"Name\"   \n",
        "sheet['B2'] = \"Mickel\"  \n",
        "sheet['B3'] = \"Ronit\"  \n",
        "sheet['B4'] = \"Rohit\"\n",
        "\n",
        "sheet['C1'] =\"Marks\"   \n",
        "sheet['C2'] = 80 \n",
        "sheet['C3'] = 68  \n",
        "sheet['C4'] = 39\n",
        " \n",
        "wb.save(\"/content/Excel-Automation-With-Python/EXCEL/Student_Record_1.xlsx\")\n",
        "\n",
        "# cuando abro el archivo están todos los datos en el excel y se ha creado con el nombre que hemos creado. "
      ],
      "metadata": {
        "id": "-1tDTqKmlS43"
      },
      "execution_count": 9,
      "outputs": []
    },
    {
      "cell_type": "markdown",
      "source": [
        "ahora vamos a hacer lo mismo con pandas. "
      ],
      "metadata": {
        "id": "gWaX-h5AoJHi"
      }
    },
    {
      "cell_type": "code",
      "source": [
        "import pandas as pd\n",
        "\n",
        "Roll = [1, 2, 3]\n",
        "Name = ['Mickel', 'Ronit', 'Rohit']\n",
        "Marks = [80, 68, 39]\n",
        "\n",
        "df = pd.DataFrame({'Name':Name, 'Roll':Roll, 'Marks': Marks})\n",
        "\n",
        "# Create a Pandas Excel writer using XlsxWriter as the engine.\n",
        "writer = pd.ExcelWriter('/content/Excel-Automation-With-Python/EXCEL/Student_Record_2.xlsx')\n",
        "\n",
        "# Convert the dataframe to an XlsxWriter Excel object.\n",
        "df.to_excel(writer, sheet_name='sheet',header=True, index=False)\n",
        "\n",
        "# Close the Pandas Excel writer and output the Excel file.\n",
        "writer.save()"
      ],
      "metadata": {
        "id": "9ehncJAEl6Ho"
      },
      "execution_count": 10,
      "outputs": []
    },
    {
      "cell_type": "markdown",
      "source": [
        "ahora lo que vamos a hacer es leerlo con openpyxl"
      ],
      "metadata": {
        "id": "am_hZBigowmW"
      }
    },
    {
      "cell_type": "code",
      "source": [
        "import openpyxl\n",
        "path = \"/content/Excel-Automation-With-Python/EXCEL/Student_Record_1.xlsx\"\n",
        "wb = openpyxl.load_workbook(path)\n",
        "sheet = wb.active\n",
        "for row in sheet:\n",
        "    print([data.value for data in row]) # lo que está haciendo el leer linea a linea. "
      ],
      "metadata": {
        "colab": {
          "base_uri": "https://localhost:8080/"
        },
        "id": "59ye_ARSoQIG",
        "outputId": "a523cdb3-71b3-4bde-d27f-f4cb88460ab0"
      },
      "execution_count": 11,
      "outputs": [
        {
          "output_type": "stream",
          "name": "stdout",
          "text": [
            "['Roll', 'Name', 'Marks']\n",
            "[1, 'Mickel', 80]\n",
            "[2, 'Ronit', 68]\n",
            "[3, 'Rohit', 39]\n"
          ]
        }
      ]
    },
    {
      "cell_type": "markdown",
      "source": [
        "ahora lo mismo pero con pandas. "
      ],
      "metadata": {
        "id": "95t4omFQpLcl"
      }
    },
    {
      "cell_type": "code",
      "source": [
        "import pandas as pd\n",
        "df = pd.read_excel(\"/content/Excel-Automation-With-Python/EXCEL/Student_Record_2.xlsx\", sheet_name='sheet1')\n",
        "print(df)"
      ],
      "metadata": {
        "colab": {
          "base_uri": "https://localhost:8080/"
        },
        "id": "ZMACZMa-pAnP",
        "outputId": "483c2bd4-4ced-4cdc-877d-3bb9e40114c7"
      },
      "execution_count": 12,
      "outputs": [
        {
          "output_type": "stream",
          "name": "stdout",
          "text": [
            "     Name  Roll  Marks\n",
            "0  Mickel     1     80\n",
            "1   Ronit     2     68\n",
            "2   Rohit     3     39\n"
          ]
        }
      ]
    },
    {
      "cell_type": "markdown",
      "source": [
        "he comprobado y se puede leer los dos archivos con pandas sin problemas. lo unico que tenemos que tener en cuenta es saber como se llaman las pesañas en cada caso"
      ],
      "metadata": {
        "id": "p6TlKxFRp5Q1"
      }
    },
    {
      "cell_type": "markdown",
      "source": [
        "ahora lo que vamos a haceer es crear multiples pestañas dentro de una misma hoja de excel"
      ],
      "metadata": {
        "id": "McEILIZvqMJs"
      }
    },
    {
      "cell_type": "code",
      "source": [
        "import openpyxl\n",
        "\n",
        "book = openpyxl.load_workbook('/content/Excel-Automation-With-Python/Data/Sample_file.xlsx')\n",
        "print(\"Before Creating: \",book.sheetnames)\n",
        "# aqui lo que está haciendo es cargar el excel, y en teoría el mismo lo unico que tiene es una pesaña llamada Sheet\n"
      ],
      "metadata": {
        "colab": {
          "base_uri": "https://localhost:8080/"
        },
        "id": "RwzghEEHqLce",
        "outputId": "2220440e-aca4-42cc-f005-24d006d83d77"
      },
      "execution_count": 13,
      "outputs": [
        {
          "output_type": "stream",
          "name": "stdout",
          "text": [
            "Before Creating:  ['Teacher', 'Student']\n"
          ]
        }
      ]
    },
    {
      "cell_type": "code",
      "source": [
        "#Creating new sheets in Sample_file.xlsx\n",
        "book.create_sheet(\"Student\")\n",
        "print(\"After Creating: \",book.sheetnames) # aqui lo que hacemos es crear la pestaña student sin ponerle posición\n",
        "\n",
        "# creating new sheet (\"Sheet_name\",Position) \n",
        "book.create_sheet(\"Teacher\", 0) # aqui lo que creamos es una pestaña Teacher en la posicion 0\n",
        "print(\"After Creating: \",book.sheetnames)\n",
        "\n",
        "# Delete sheet from file\n",
        "\"\"\"book.remove(book['Sheet'])\n",
        "print(\"After Deleting: \",book.sheetnames) \"\"\"\n",
        "\n",
        "book.save('/content/Excel-Automation-With-Python/EXCEL/Sample_file.xlsx')\n",
        "# VEMOS QUE SOLO SE HACE CON OPENPYXL PERO NO HAY EJEMPLO DE PANDAS. "
      ],
      "metadata": {
        "colab": {
          "base_uri": "https://localhost:8080/"
        },
        "id": "TpJ61aOApXkM",
        "outputId": "1c72f7ab-b9f0-4522-a201-f4d2cc5091ed"
      },
      "execution_count": 14,
      "outputs": [
        {
          "output_type": "stream",
          "name": "stdout",
          "text": [
            "After Creating:  ['Teacher', 'Student', 'Student1']\n",
            "After Creating:  ['Teacher1', 'Teacher', 'Student', 'Student1']\n"
          ]
        }
      ]
    },
    {
      "cell_type": "markdown",
      "source": [
        "VAMOS A UNIR VARIOS EXCEL EN UNO CON PANDAS. HACE UN MERGE CON ROLL NO COMO PRIMARY "
      ],
      "metadata": {
        "id": "LZ2aqkuVs1Is"
      }
    },
    {
      "cell_type": "code",
      "source": [
        "# importing the module\n",
        "import pandas\n",
        "  \n",
        "# reading the files\n",
        "df1 = pandas.read_excel(\"/content/Excel-Automation-With-Python/Data/Student_details.xlsx\")\n",
        "df2 = pandas.read_excel(\"/content/Excel-Automation-With-Python/Data/Marks.xlsx\")\n",
        "  \n",
        "# merging the files\n",
        "df3 = df1[[\"Roll No\",\"Name\",\"Email id\"]].merge(df2[[\"Roll No\",\"English\", \"Science\", \"History\"]], on = \"Roll No\", how = \"left\")\n",
        "  \n",
        "# creating a new file\n",
        "df3.to_excel(\"/content/Excel-Automation-With-Python/Data/Student_details_with_marks.xlsx\", index = False)"
      ],
      "metadata": {
        "id": "kXwvYR9Isqhl"
      },
      "execution_count": 6,
      "outputs": []
    },
    {
      "cell_type": "markdown",
      "source": [
        "ahora lo que vamos a hacer es escribir un grafico de barras con openpyxl"
      ],
      "metadata": {
        "id": "BpYUyUdru2fG"
      }
    },
    {
      "cell_type": "code",
      "source": [
        "import openpyxl\n",
        "from openpyxl.chart import BarChart, Series, Reference\n",
        "\n",
        "path = \"/content/Excel-Automation-With-Python/Data/Mark.xlsx\"\n",
        "wb = openpyxl.load_workbook(path)\n",
        "ws = wb.active\n",
        "\n",
        "chart1 = BarChart()\n",
        "chart1.type = \"col\"\n",
        "chart1.style = 10\n",
        "chart1.title = \"Bar Chart\"\n",
        "chart1.y_axis.title = 'Marks Obtain'\n",
        "chart1.x_axis.title = 'Roll No'\n",
        "\n",
        "data = Reference(ws, min_col=2, min_row=1, max_row=11, max_col=4)\n",
        "cats = Reference(ws, min_col=1, min_row=2, max_row=11)\n",
        "chart1.add_data(data, titles_from_data=True)\n",
        "chart1.set_categories(cats)\n",
        "chart1.shape = 4\n",
        "ws.add_chart(chart1, \"A10\")\n",
        "\n",
        "wb.save(\"/content/Excel-Automation-With-Python/Data/Mark.xlsx\")"
      ],
      "metadata": {
        "id": "wQT6aBwvt-jX"
      },
      "execution_count": 15,
      "outputs": []
    },
    {
      "cell_type": "markdown",
      "source": [
        "ahora lo mismo pero el tipo de grafico es un piechart"
      ],
      "metadata": {
        "id": "3EZxogM1wUCf"
      }
    },
    {
      "cell_type": "code",
      "source": [
        "import openpyxl\n",
        "\n",
        "from openpyxl.chart import (\n",
        "    PieChart,\n",
        "    ProjectedPieChart,\n",
        "    Reference\n",
        ")\n",
        "from openpyxl.chart.series import DataPoint\n",
        "\n",
        "path = \"/content/Excel-Automation-With-Python/Data/pie.xlsx\"\n",
        "wb = openpyxl.load_workbook(path)\n",
        "ws = wb.active\n",
        "\n",
        "pie = PieChart()\n",
        "labels = Reference(ws, min_col=1, min_row=2, max_row=8)\n",
        "data = Reference(ws, min_col=2, min_row=1, max_row=8)\n",
        "pie.add_data(data, titles_from_data=True)\n",
        "pie.set_categories(labels)\n",
        "pie.title = \"Monthly Salary Expense\"\n",
        "\n",
        "# Cut the first slice out of the pie\n",
        "slice = DataPoint(idx=0, explosion=20)\n",
        "pie.series[0].data_points = [slice]\n",
        "\n",
        "ws.add_chart(pie, \"D1\")\n",
        "\n",
        "wb.save(\"/content/Excel-Automation-With-Python/Data/pie.xlsx\")"
      ],
      "metadata": {
        "id": "tgtdZgwLvS2e"
      },
      "execution_count": 16,
      "outputs": []
    },
    {
      "cell_type": "markdown",
      "source": [
        "vamos a añadir columnas al escel desde python con openpyxl"
      ],
      "metadata": {
        "id": "J4gZ_TyIw5sX"
      }
    },
    {
      "cell_type": "markdown",
      "source": [
        "9. Simple Project 1\n",
        "\n",
        "Task 1: we are going to add two more column in excel spreadsheet Result and Grade.\n",
        "\n",
        "In Result column we will put pass and Failed based on Percentage He/She got.\n",
        "\n",
        "Pass: If percentage is greater than and equal to 40.\n",
        "Failed: If percentage is less than 40\n",
        "In Grade column we will put 1st class, 2nd class, 3rd class and Failed based on Percentage He/She got.\n",
        "\n",
        "1st class: If percentage greater than equal to 60.\n",
        "2nd class: If percentage greater than equal to 50 but less than 60.\n",
        "3rd class: If percentage greater than equal to 40 but less than 50.\n",
        "Failed: If percentage less than 40.\n",
        "Task 2: After doing the first task we will create multiple sheet in the same excel file base on Grade He/She got."
      ],
      "metadata": {
        "id": "8SSmw-ohxATo"
      }
    },
    {
      "cell_type": "code",
      "source": [
        "# importing required library\n",
        "import pandas as pd\n",
        "import xlrd\n",
        "import openpyxl\n",
        "from openpyxl import Workbook\n",
        "df = pd.read_excel(\"/content/Excel-Automation-With-Python/Data/student_result.xlsx\", sheet_name='Sheet1')\n",
        "df.head()"
      ],
      "metadata": {
        "colab": {
          "base_uri": "https://localhost:8080/",
          "height": 221
        },
        "id": "zZk-Oj0dwlxO",
        "outputId": "82aec5af-b4d5-42f2-aa21-ac94e11ffeb3"
      },
      "execution_count": 17,
      "outputs": [
        {
          "output_type": "execute_result",
          "data": {
            "text/plain": [
              "   Roll     Name           Email Gender  Percentage  Result     Grades\n",
              "0     1    Asha     asha@rs.com   Femal          58    Pass  2nd class\n",
              "1     2   Sonal    sonal@rs.com   Femal          25  Failed     Failed\n",
              "2     3  Krishan  krishan@rs.com   Male          95    Pass  1st class\n",
              "3     4   Sonali   sonali@rs.com  Femal          45    Pass  3rd class\n",
              "4     5     Ritu     ritu@rs.com  Femal          67    Pass  1st class"
            ],
            "text/html": [
              "\n",
              "  <div id=\"df-7336985f-397c-4674-ab03-a80781e5f871\">\n",
              "    <div class=\"colab-df-container\">\n",
              "      <div>\n",
              "<style scoped>\n",
              "    .dataframe tbody tr th:only-of-type {\n",
              "        vertical-align: middle;\n",
              "    }\n",
              "\n",
              "    .dataframe tbody tr th {\n",
              "        vertical-align: top;\n",
              "    }\n",
              "\n",
              "    .dataframe thead th {\n",
              "        text-align: right;\n",
              "    }\n",
              "</style>\n",
              "<table border=\"1\" class=\"dataframe\">\n",
              "  <thead>\n",
              "    <tr style=\"text-align: right;\">\n",
              "      <th></th>\n",
              "      <th>Roll</th>\n",
              "      <th>Name</th>\n",
              "      <th>Email</th>\n",
              "      <th>Gender</th>\n",
              "      <th>Percentage</th>\n",
              "      <th>Result</th>\n",
              "      <th>Grades</th>\n",
              "    </tr>\n",
              "  </thead>\n",
              "  <tbody>\n",
              "    <tr>\n",
              "      <th>0</th>\n",
              "      <td>1</td>\n",
              "      <td>Asha</td>\n",
              "      <td>asha@rs.com</td>\n",
              "      <td>Femal</td>\n",
              "      <td>58</td>\n",
              "      <td>Pass</td>\n",
              "      <td>2nd class</td>\n",
              "    </tr>\n",
              "    <tr>\n",
              "      <th>1</th>\n",
              "      <td>2</td>\n",
              "      <td>Sonal</td>\n",
              "      <td>sonal@rs.com</td>\n",
              "      <td>Femal</td>\n",
              "      <td>25</td>\n",
              "      <td>Failed</td>\n",
              "      <td>Failed</td>\n",
              "    </tr>\n",
              "    <tr>\n",
              "      <th>2</th>\n",
              "      <td>3</td>\n",
              "      <td>Krishan</td>\n",
              "      <td>krishan@rs.com</td>\n",
              "      <td>Male</td>\n",
              "      <td>95</td>\n",
              "      <td>Pass</td>\n",
              "      <td>1st class</td>\n",
              "    </tr>\n",
              "    <tr>\n",
              "      <th>3</th>\n",
              "      <td>4</td>\n",
              "      <td>Sonali</td>\n",
              "      <td>sonali@rs.com</td>\n",
              "      <td>Femal</td>\n",
              "      <td>45</td>\n",
              "      <td>Pass</td>\n",
              "      <td>3rd class</td>\n",
              "    </tr>\n",
              "    <tr>\n",
              "      <th>4</th>\n",
              "      <td>5</td>\n",
              "      <td>Ritu</td>\n",
              "      <td>ritu@rs.com</td>\n",
              "      <td>Femal</td>\n",
              "      <td>67</td>\n",
              "      <td>Pass</td>\n",
              "      <td>1st class</td>\n",
              "    </tr>\n",
              "  </tbody>\n",
              "</table>\n",
              "</div>\n",
              "      <button class=\"colab-df-convert\" onclick=\"convertToInteractive('df-7336985f-397c-4674-ab03-a80781e5f871')\"\n",
              "              title=\"Convert this dataframe to an interactive table.\"\n",
              "              style=\"display:none;\">\n",
              "        \n",
              "  <svg xmlns=\"http://www.w3.org/2000/svg\" height=\"24px\"viewBox=\"0 0 24 24\"\n",
              "       width=\"24px\">\n",
              "    <path d=\"M0 0h24v24H0V0z\" fill=\"none\"/>\n",
              "    <path d=\"M18.56 5.44l.94 2.06.94-2.06 2.06-.94-2.06-.94-.94-2.06-.94 2.06-2.06.94zm-11 1L8.5 8.5l.94-2.06 2.06-.94-2.06-.94L8.5 2.5l-.94 2.06-2.06.94zm10 10l.94 2.06.94-2.06 2.06-.94-2.06-.94-.94-2.06-.94 2.06-2.06.94z\"/><path d=\"M17.41 7.96l-1.37-1.37c-.4-.4-.92-.59-1.43-.59-.52 0-1.04.2-1.43.59L10.3 9.45l-7.72 7.72c-.78.78-.78 2.05 0 2.83L4 21.41c.39.39.9.59 1.41.59.51 0 1.02-.2 1.41-.59l7.78-7.78 2.81-2.81c.8-.78.8-2.07 0-2.86zM5.41 20L4 18.59l7.72-7.72 1.47 1.35L5.41 20z\"/>\n",
              "  </svg>\n",
              "      </button>\n",
              "      \n",
              "  <style>\n",
              "    .colab-df-container {\n",
              "      display:flex;\n",
              "      flex-wrap:wrap;\n",
              "      gap: 12px;\n",
              "    }\n",
              "\n",
              "    .colab-df-convert {\n",
              "      background-color: #E8F0FE;\n",
              "      border: none;\n",
              "      border-radius: 50%;\n",
              "      cursor: pointer;\n",
              "      display: none;\n",
              "      fill: #1967D2;\n",
              "      height: 32px;\n",
              "      padding: 0 0 0 0;\n",
              "      width: 32px;\n",
              "    }\n",
              "\n",
              "    .colab-df-convert:hover {\n",
              "      background-color: #E2EBFA;\n",
              "      box-shadow: 0px 1px 2px rgba(60, 64, 67, 0.3), 0px 1px 3px 1px rgba(60, 64, 67, 0.15);\n",
              "      fill: #174EA6;\n",
              "    }\n",
              "\n",
              "    [theme=dark] .colab-df-convert {\n",
              "      background-color: #3B4455;\n",
              "      fill: #D2E3FC;\n",
              "    }\n",
              "\n",
              "    [theme=dark] .colab-df-convert:hover {\n",
              "      background-color: #434B5C;\n",
              "      box-shadow: 0px 1px 3px 1px rgba(0, 0, 0, 0.15);\n",
              "      filter: drop-shadow(0px 1px 2px rgba(0, 0, 0, 0.3));\n",
              "      fill: #FFFFFF;\n",
              "    }\n",
              "  </style>\n",
              "\n",
              "      <script>\n",
              "        const buttonEl =\n",
              "          document.querySelector('#df-7336985f-397c-4674-ab03-a80781e5f871 button.colab-df-convert');\n",
              "        buttonEl.style.display =\n",
              "          google.colab.kernel.accessAllowed ? 'block' : 'none';\n",
              "\n",
              "        async function convertToInteractive(key) {\n",
              "          const element = document.querySelector('#df-7336985f-397c-4674-ab03-a80781e5f871');\n",
              "          const dataTable =\n",
              "            await google.colab.kernel.invokeFunction('convertToInteractive',\n",
              "                                                     [key], {});\n",
              "          if (!dataTable) return;\n",
              "\n",
              "          const docLinkHtml = 'Like what you see? Visit the ' +\n",
              "            '<a target=\"_blank\" href=https://colab.research.google.com/notebooks/data_table.ipynb>data table notebook</a>'\n",
              "            + ' to learn more about interactive tables.';\n",
              "          element.innerHTML = '';\n",
              "          dataTable['output_type'] = 'display_data';\n",
              "          await google.colab.output.renderOutput(dataTable, element);\n",
              "          const docLink = document.createElement('div');\n",
              "          docLink.innerHTML = docLinkHtml;\n",
              "          element.appendChild(docLink);\n",
              "        }\n",
              "      </script>\n",
              "    </div>\n",
              "  </div>\n",
              "  "
            ]
          },
          "metadata": {},
          "execution_count": 17
        }
      ]
    },
    {
      "cell_type": "markdown",
      "source": [
        "Performing Task 1 (Adding Result column)"
      ],
      "metadata": {
        "id": "fIrnHgMLxfdr"
      }
    },
    {
      "cell_type": "code",
      "source": [
        "wb= openpyxl.load_workbook(\"/content/Excel-Automation-With-Python/Data/student_result.xlsx\") # abrimos el archivo\n",
        "sheet = wb['Sheet1'] # declaramos una variable que es la pesaña Sheet1\n",
        "rows_max=sheet.max_row\n",
        "sheet.cell(row=1, column=6).value =\"Result\"\n",
        "for i in range(2,sheet.max_row + 1):\n",
        "    if sheet.cell(row=i, column=5).value >= 40:\n",
        "        sheet.cell(row=i, column=6).value = \"Pass\"\n",
        "    else:\n",
        "        sheet.cell(row=i, column=6).value =\"Failed\"\n",
        "        \n",
        "wb.save(\"/content/Excel-Automation-With-Python/Data/student_result.xlsx\")"
      ],
      "metadata": {
        "id": "WvaK94cHxYfl"
      },
      "execution_count": 18,
      "outputs": []
    },
    {
      "cell_type": "code",
      "source": [
        "df = pd.read_excel(\"/content/Excel-Automation-With-Python/Data/student_result.xlsx\", sheet_name='Sheet1')\n",
        "df.head()"
      ],
      "metadata": {
        "colab": {
          "base_uri": "https://localhost:8080/",
          "height": 221
        },
        "id": "AS2Pe-RgyFae",
        "outputId": "19c4b33e-71c8-46a7-c4ca-02263d1678db"
      },
      "execution_count": 20,
      "outputs": [
        {
          "output_type": "execute_result",
          "data": {
            "text/plain": [
              "   Roll     Name           Email Gender  Percentage  Result     Grades\n",
              "0     1    Asha     asha@rs.com   Femal          58    Pass  2nd class\n",
              "1     2   Sonal    sonal@rs.com   Femal          25  Failed     Failed\n",
              "2     3  Krishan  krishan@rs.com   Male          95    Pass  1st class\n",
              "3     4   Sonali   sonali@rs.com  Femal          45    Pass  3rd class\n",
              "4     5     Ritu     ritu@rs.com  Femal          67    Pass  1st class"
            ],
            "text/html": [
              "\n",
              "  <div id=\"df-d4fa930e-6ef0-462c-b2be-5728218aacab\">\n",
              "    <div class=\"colab-df-container\">\n",
              "      <div>\n",
              "<style scoped>\n",
              "    .dataframe tbody tr th:only-of-type {\n",
              "        vertical-align: middle;\n",
              "    }\n",
              "\n",
              "    .dataframe tbody tr th {\n",
              "        vertical-align: top;\n",
              "    }\n",
              "\n",
              "    .dataframe thead th {\n",
              "        text-align: right;\n",
              "    }\n",
              "</style>\n",
              "<table border=\"1\" class=\"dataframe\">\n",
              "  <thead>\n",
              "    <tr style=\"text-align: right;\">\n",
              "      <th></th>\n",
              "      <th>Roll</th>\n",
              "      <th>Name</th>\n",
              "      <th>Email</th>\n",
              "      <th>Gender</th>\n",
              "      <th>Percentage</th>\n",
              "      <th>Result</th>\n",
              "      <th>Grades</th>\n",
              "    </tr>\n",
              "  </thead>\n",
              "  <tbody>\n",
              "    <tr>\n",
              "      <th>0</th>\n",
              "      <td>1</td>\n",
              "      <td>Asha</td>\n",
              "      <td>asha@rs.com</td>\n",
              "      <td>Femal</td>\n",
              "      <td>58</td>\n",
              "      <td>Pass</td>\n",
              "      <td>2nd class</td>\n",
              "    </tr>\n",
              "    <tr>\n",
              "      <th>1</th>\n",
              "      <td>2</td>\n",
              "      <td>Sonal</td>\n",
              "      <td>sonal@rs.com</td>\n",
              "      <td>Femal</td>\n",
              "      <td>25</td>\n",
              "      <td>Failed</td>\n",
              "      <td>Failed</td>\n",
              "    </tr>\n",
              "    <tr>\n",
              "      <th>2</th>\n",
              "      <td>3</td>\n",
              "      <td>Krishan</td>\n",
              "      <td>krishan@rs.com</td>\n",
              "      <td>Male</td>\n",
              "      <td>95</td>\n",
              "      <td>Pass</td>\n",
              "      <td>1st class</td>\n",
              "    </tr>\n",
              "    <tr>\n",
              "      <th>3</th>\n",
              "      <td>4</td>\n",
              "      <td>Sonali</td>\n",
              "      <td>sonali@rs.com</td>\n",
              "      <td>Femal</td>\n",
              "      <td>45</td>\n",
              "      <td>Pass</td>\n",
              "      <td>3rd class</td>\n",
              "    </tr>\n",
              "    <tr>\n",
              "      <th>4</th>\n",
              "      <td>5</td>\n",
              "      <td>Ritu</td>\n",
              "      <td>ritu@rs.com</td>\n",
              "      <td>Femal</td>\n",
              "      <td>67</td>\n",
              "      <td>Pass</td>\n",
              "      <td>1st class</td>\n",
              "    </tr>\n",
              "  </tbody>\n",
              "</table>\n",
              "</div>\n",
              "      <button class=\"colab-df-convert\" onclick=\"convertToInteractive('df-d4fa930e-6ef0-462c-b2be-5728218aacab')\"\n",
              "              title=\"Convert this dataframe to an interactive table.\"\n",
              "              style=\"display:none;\">\n",
              "        \n",
              "  <svg xmlns=\"http://www.w3.org/2000/svg\" height=\"24px\"viewBox=\"0 0 24 24\"\n",
              "       width=\"24px\">\n",
              "    <path d=\"M0 0h24v24H0V0z\" fill=\"none\"/>\n",
              "    <path d=\"M18.56 5.44l.94 2.06.94-2.06 2.06-.94-2.06-.94-.94-2.06-.94 2.06-2.06.94zm-11 1L8.5 8.5l.94-2.06 2.06-.94-2.06-.94L8.5 2.5l-.94 2.06-2.06.94zm10 10l.94 2.06.94-2.06 2.06-.94-2.06-.94-.94-2.06-.94 2.06-2.06.94z\"/><path d=\"M17.41 7.96l-1.37-1.37c-.4-.4-.92-.59-1.43-.59-.52 0-1.04.2-1.43.59L10.3 9.45l-7.72 7.72c-.78.78-.78 2.05 0 2.83L4 21.41c.39.39.9.59 1.41.59.51 0 1.02-.2 1.41-.59l7.78-7.78 2.81-2.81c.8-.78.8-2.07 0-2.86zM5.41 20L4 18.59l7.72-7.72 1.47 1.35L5.41 20z\"/>\n",
              "  </svg>\n",
              "      </button>\n",
              "      \n",
              "  <style>\n",
              "    .colab-df-container {\n",
              "      display:flex;\n",
              "      flex-wrap:wrap;\n",
              "      gap: 12px;\n",
              "    }\n",
              "\n",
              "    .colab-df-convert {\n",
              "      background-color: #E8F0FE;\n",
              "      border: none;\n",
              "      border-radius: 50%;\n",
              "      cursor: pointer;\n",
              "      display: none;\n",
              "      fill: #1967D2;\n",
              "      height: 32px;\n",
              "      padding: 0 0 0 0;\n",
              "      width: 32px;\n",
              "    }\n",
              "\n",
              "    .colab-df-convert:hover {\n",
              "      background-color: #E2EBFA;\n",
              "      box-shadow: 0px 1px 2px rgba(60, 64, 67, 0.3), 0px 1px 3px 1px rgba(60, 64, 67, 0.15);\n",
              "      fill: #174EA6;\n",
              "    }\n",
              "\n",
              "    [theme=dark] .colab-df-convert {\n",
              "      background-color: #3B4455;\n",
              "      fill: #D2E3FC;\n",
              "    }\n",
              "\n",
              "    [theme=dark] .colab-df-convert:hover {\n",
              "      background-color: #434B5C;\n",
              "      box-shadow: 0px 1px 3px 1px rgba(0, 0, 0, 0.15);\n",
              "      filter: drop-shadow(0px 1px 2px rgba(0, 0, 0, 0.3));\n",
              "      fill: #FFFFFF;\n",
              "    }\n",
              "  </style>\n",
              "\n",
              "      <script>\n",
              "        const buttonEl =\n",
              "          document.querySelector('#df-d4fa930e-6ef0-462c-b2be-5728218aacab button.colab-df-convert');\n",
              "        buttonEl.style.display =\n",
              "          google.colab.kernel.accessAllowed ? 'block' : 'none';\n",
              "\n",
              "        async function convertToInteractive(key) {\n",
              "          const element = document.querySelector('#df-d4fa930e-6ef0-462c-b2be-5728218aacab');\n",
              "          const dataTable =\n",
              "            await google.colab.kernel.invokeFunction('convertToInteractive',\n",
              "                                                     [key], {});\n",
              "          if (!dataTable) return;\n",
              "\n",
              "          const docLinkHtml = 'Like what you see? Visit the ' +\n",
              "            '<a target=\"_blank\" href=https://colab.research.google.com/notebooks/data_table.ipynb>data table notebook</a>'\n",
              "            + ' to learn more about interactive tables.';\n",
              "          element.innerHTML = '';\n",
              "          dataTable['output_type'] = 'display_data';\n",
              "          await google.colab.output.renderOutput(dataTable, element);\n",
              "          const docLink = document.createElement('div');\n",
              "          docLink.innerHTML = docLinkHtml;\n",
              "          element.appendChild(docLink);\n",
              "        }\n",
              "      </script>\n",
              "    </div>\n",
              "  </div>\n",
              "  "
            ]
          },
          "metadata": {},
          "execution_count": 20
        }
      ]
    },
    {
      "cell_type": "code",
      "source": [
        "wb= openpyxl.load_workbook(\"/content/Excel-Automation-With-Python/Data/student_result.xlsx\")\n",
        "sheet = wb['Sheet1']\n",
        "rows_max=sheet.max_row\n",
        "sheet.cell(row=1, column=7).value =\"Grades\"\n",
        "for i in range(2,sheet.max_row + 1):\n",
        "    if sheet.cell(row=i, column=5).value >= 60:\n",
        "        sheet.cell(row=i, column=7).value = \"1st class\"\n",
        "        \n",
        "    elif sheet.cell(row=i, column=5).value <= 60 and sheet.cell(row=i, column=5).value >=50 :\n",
        "        sheet.cell(row=i, column=7).value = \"2nd class\"\n",
        "        \n",
        "    elif sheet.cell(row=i, column=5).value <= 50 and sheet.cell(row=i, column=5).value >=40 :\n",
        "        sheet.cell(row=i, column=7).value = \"3rd class\"\n",
        "    else:\n",
        "        sheet.cell(row=i, column=7).value =\"Failed\"\n",
        "        \n",
        "wb.save(\"/content/Excel-Automation-With-Python/Data/student_result.xlsx\")"
      ],
      "metadata": {
        "id": "akIPbhMbyUKH"
      },
      "execution_count": 21,
      "outputs": []
    },
    {
      "cell_type": "code",
      "source": [
        "df = pd.read_excel(\"/content/Excel-Automation-With-Python/Data/student_result.xlsx\", sheet_name='Sheet1')\n",
        "df.head()"
      ],
      "metadata": {
        "colab": {
          "base_uri": "https://localhost:8080/",
          "height": 221
        },
        "id": "mrTvkQ4Gy6Ys",
        "outputId": "56c96c18-260f-4707-8d4a-0f98bcfa4376"
      },
      "execution_count": 22,
      "outputs": [
        {
          "output_type": "execute_result",
          "data": {
            "text/plain": [
              "   Roll     Name           Email Gender  Percentage  Result     Grades\n",
              "0     1    Asha     asha@rs.com   Femal          58    Pass  2nd class\n",
              "1     2   Sonal    sonal@rs.com   Femal          25  Failed     Failed\n",
              "2     3  Krishan  krishan@rs.com   Male          95    Pass  1st class\n",
              "3     4   Sonali   sonali@rs.com  Femal          45    Pass  3rd class\n",
              "4     5     Ritu     ritu@rs.com  Femal          67    Pass  1st class"
            ],
            "text/html": [
              "\n",
              "  <div id=\"df-60d60c21-fd11-448f-bf99-d998a3d2a280\">\n",
              "    <div class=\"colab-df-container\">\n",
              "      <div>\n",
              "<style scoped>\n",
              "    .dataframe tbody tr th:only-of-type {\n",
              "        vertical-align: middle;\n",
              "    }\n",
              "\n",
              "    .dataframe tbody tr th {\n",
              "        vertical-align: top;\n",
              "    }\n",
              "\n",
              "    .dataframe thead th {\n",
              "        text-align: right;\n",
              "    }\n",
              "</style>\n",
              "<table border=\"1\" class=\"dataframe\">\n",
              "  <thead>\n",
              "    <tr style=\"text-align: right;\">\n",
              "      <th></th>\n",
              "      <th>Roll</th>\n",
              "      <th>Name</th>\n",
              "      <th>Email</th>\n",
              "      <th>Gender</th>\n",
              "      <th>Percentage</th>\n",
              "      <th>Result</th>\n",
              "      <th>Grades</th>\n",
              "    </tr>\n",
              "  </thead>\n",
              "  <tbody>\n",
              "    <tr>\n",
              "      <th>0</th>\n",
              "      <td>1</td>\n",
              "      <td>Asha</td>\n",
              "      <td>asha@rs.com</td>\n",
              "      <td>Femal</td>\n",
              "      <td>58</td>\n",
              "      <td>Pass</td>\n",
              "      <td>2nd class</td>\n",
              "    </tr>\n",
              "    <tr>\n",
              "      <th>1</th>\n",
              "      <td>2</td>\n",
              "      <td>Sonal</td>\n",
              "      <td>sonal@rs.com</td>\n",
              "      <td>Femal</td>\n",
              "      <td>25</td>\n",
              "      <td>Failed</td>\n",
              "      <td>Failed</td>\n",
              "    </tr>\n",
              "    <tr>\n",
              "      <th>2</th>\n",
              "      <td>3</td>\n",
              "      <td>Krishan</td>\n",
              "      <td>krishan@rs.com</td>\n",
              "      <td>Male</td>\n",
              "      <td>95</td>\n",
              "      <td>Pass</td>\n",
              "      <td>1st class</td>\n",
              "    </tr>\n",
              "    <tr>\n",
              "      <th>3</th>\n",
              "      <td>4</td>\n",
              "      <td>Sonali</td>\n",
              "      <td>sonali@rs.com</td>\n",
              "      <td>Femal</td>\n",
              "      <td>45</td>\n",
              "      <td>Pass</td>\n",
              "      <td>3rd class</td>\n",
              "    </tr>\n",
              "    <tr>\n",
              "      <th>4</th>\n",
              "      <td>5</td>\n",
              "      <td>Ritu</td>\n",
              "      <td>ritu@rs.com</td>\n",
              "      <td>Femal</td>\n",
              "      <td>67</td>\n",
              "      <td>Pass</td>\n",
              "      <td>1st class</td>\n",
              "    </tr>\n",
              "  </tbody>\n",
              "</table>\n",
              "</div>\n",
              "      <button class=\"colab-df-convert\" onclick=\"convertToInteractive('df-60d60c21-fd11-448f-bf99-d998a3d2a280')\"\n",
              "              title=\"Convert this dataframe to an interactive table.\"\n",
              "              style=\"display:none;\">\n",
              "        \n",
              "  <svg xmlns=\"http://www.w3.org/2000/svg\" height=\"24px\"viewBox=\"0 0 24 24\"\n",
              "       width=\"24px\">\n",
              "    <path d=\"M0 0h24v24H0V0z\" fill=\"none\"/>\n",
              "    <path d=\"M18.56 5.44l.94 2.06.94-2.06 2.06-.94-2.06-.94-.94-2.06-.94 2.06-2.06.94zm-11 1L8.5 8.5l.94-2.06 2.06-.94-2.06-.94L8.5 2.5l-.94 2.06-2.06.94zm10 10l.94 2.06.94-2.06 2.06-.94-2.06-.94-.94-2.06-.94 2.06-2.06.94z\"/><path d=\"M17.41 7.96l-1.37-1.37c-.4-.4-.92-.59-1.43-.59-.52 0-1.04.2-1.43.59L10.3 9.45l-7.72 7.72c-.78.78-.78 2.05 0 2.83L4 21.41c.39.39.9.59 1.41.59.51 0 1.02-.2 1.41-.59l7.78-7.78 2.81-2.81c.8-.78.8-2.07 0-2.86zM5.41 20L4 18.59l7.72-7.72 1.47 1.35L5.41 20z\"/>\n",
              "  </svg>\n",
              "      </button>\n",
              "      \n",
              "  <style>\n",
              "    .colab-df-container {\n",
              "      display:flex;\n",
              "      flex-wrap:wrap;\n",
              "      gap: 12px;\n",
              "    }\n",
              "\n",
              "    .colab-df-convert {\n",
              "      background-color: #E8F0FE;\n",
              "      border: none;\n",
              "      border-radius: 50%;\n",
              "      cursor: pointer;\n",
              "      display: none;\n",
              "      fill: #1967D2;\n",
              "      height: 32px;\n",
              "      padding: 0 0 0 0;\n",
              "      width: 32px;\n",
              "    }\n",
              "\n",
              "    .colab-df-convert:hover {\n",
              "      background-color: #E2EBFA;\n",
              "      box-shadow: 0px 1px 2px rgba(60, 64, 67, 0.3), 0px 1px 3px 1px rgba(60, 64, 67, 0.15);\n",
              "      fill: #174EA6;\n",
              "    }\n",
              "\n",
              "    [theme=dark] .colab-df-convert {\n",
              "      background-color: #3B4455;\n",
              "      fill: #D2E3FC;\n",
              "    }\n",
              "\n",
              "    [theme=dark] .colab-df-convert:hover {\n",
              "      background-color: #434B5C;\n",
              "      box-shadow: 0px 1px 3px 1px rgba(0, 0, 0, 0.15);\n",
              "      filter: drop-shadow(0px 1px 2px rgba(0, 0, 0, 0.3));\n",
              "      fill: #FFFFFF;\n",
              "    }\n",
              "  </style>\n",
              "\n",
              "      <script>\n",
              "        const buttonEl =\n",
              "          document.querySelector('#df-60d60c21-fd11-448f-bf99-d998a3d2a280 button.colab-df-convert');\n",
              "        buttonEl.style.display =\n",
              "          google.colab.kernel.accessAllowed ? 'block' : 'none';\n",
              "\n",
              "        async function convertToInteractive(key) {\n",
              "          const element = document.querySelector('#df-60d60c21-fd11-448f-bf99-d998a3d2a280');\n",
              "          const dataTable =\n",
              "            await google.colab.kernel.invokeFunction('convertToInteractive',\n",
              "                                                     [key], {});\n",
              "          if (!dataTable) return;\n",
              "\n",
              "          const docLinkHtml = 'Like what you see? Visit the ' +\n",
              "            '<a target=\"_blank\" href=https://colab.research.google.com/notebooks/data_table.ipynb>data table notebook</a>'\n",
              "            + ' to learn more about interactive tables.';\n",
              "          element.innerHTML = '';\n",
              "          dataTable['output_type'] = 'display_data';\n",
              "          await google.colab.output.renderOutput(dataTable, element);\n",
              "          const docLink = document.createElement('div');\n",
              "          docLink.innerHTML = docLinkHtml;\n",
              "          element.appendChild(docLink);\n",
              "        }\n",
              "      </script>\n",
              "    </div>\n",
              "  </div>\n",
              "  "
            ]
          },
          "metadata": {},
          "execution_count": 22
        }
      ]
    },
    {
      "cell_type": "markdown",
      "source": [
        "Sperating into multiple sheet in same excel file based on the grade obtain.\n"
      ],
      "metadata": {
        "id": "PV6nALVHzj1F"
      }
    },
    {
      "cell_type": "code",
      "source": [
        "import pandas as pd\n",
        "import xlrd\n",
        "import openpyxl\n",
        "from openpyxl import Workbook\n",
        "wb= openpyxl.load_workbook(\"/content/Excel-Automation-With-Python/Data/student_result.xlsx\")\n",
        "sheet = wb['Sheet1']\n",
        "\n",
        "def multiple_sheet(t1,grade):\n",
        "    work_sheet = wb.create_sheet(title=grade)\n",
        "    for row in t1:\n",
        "        work_sheet.append(row)\n",
        "    wb.save(\"/content/Excel-Automation-With-Python/Data/student_result.xlsx\")\n",
        "\n",
        "def grade_wise(row_num,grade):    \n",
        "    t1=[]\n",
        "    for j in row_num:\n",
        "        t=[]\n",
        "        for col in sheet.iter_cols(min_col=1,max_col=sheet.max_column, min_row = j,max_row=j ):\n",
        "            for cell in col:\n",
        "                t.append(cell.value)\n",
        "        t1.append(tuple(t))                \n",
        "    multiple_sheet(t1,grade)\n",
        "    \n",
        "def separating():\n",
        "    df = pd.read_excel(\"/content/Excel-Automation-With-Python/Data/student_result.xlsx\", sheet_name='Sheet1')\n",
        "    grades=[]\n",
        "    for i in range(len(df[\"Grades\"])):\n",
        "        rec=df[\"Grades\"][i]\n",
        "        grades.append(rec)            \n",
        "    grades=list(set(grades))\n",
        "    start = 1\n",
        "    cols_max=sheet.max_column\n",
        "    rows_max=sheet.max_row\n",
        "\n",
        "    for grade in grades:\n",
        "        row_col=[]\n",
        "        row_col.append(1)\n",
        "        for col in sheet.iter_cols(min_col=cols_max, min_row = start, max_row=rows_max):\n",
        "            for cell in col:\n",
        "                if cell.value == grade:\n",
        "                    row_col.append(cell.row)\n",
        "            grade_wise(row_col,grade)        \n",
        "        \n",
        "separating()"
      ],
      "metadata": {
        "id": "aGo-REpPzbLG"
      },
      "execution_count": 23,
      "outputs": []
    },
    {
      "cell_type": "markdown",
      "source": [
        "10. Simple Project 2\n",
        "\n",
        "In this project we are separating the records in different excel spreadsheet for different Grade"
      ],
      "metadata": {
        "id": "994zS8jm0Nlr"
      }
    },
    {
      "cell_type": "code",
      "source": [
        "import pandas as pd\n",
        "import xlrd\n",
        "import openpyxl\n",
        "from openpyxl import Workbook\n",
        "\n",
        "def separate_excel_file(t1,grade):\n",
        "    book = Workbook()\n",
        "    sheet = book.active\n",
        "    for row in t1:\n",
        "        sheet.append(row)\n",
        "    book.save('output/'+grade+'.xlsx')\n",
        "\n",
        "def grade_wise(row_num,grade):    \n",
        "    t1=[]\n",
        "    for j in row_num:\n",
        "        t=[]\n",
        "        for col in sheet.iter_cols(min_col=1,max_col=sheet.max_column, min_row = j,max_row=j ):\n",
        "            for cell in col:\n",
        "                t.append(cell.value)    \n",
        "        t1.append(tuple(t))                \n",
        "    separate_excel_file(t1,grade)\n",
        "    \n",
        "def separating():\n",
        "    df = pd.read_excel(\"/content/Excel-Automation-With-Python/Data/student_result.xlsx\", sheet_name='Sheet1')\n",
        "    grades=[]\n",
        "    for i in range(len(df[\"Grades\"])):\n",
        "        rec=df[\"Grades\"][i]\n",
        "        grades.append(rec)            \n",
        "    grades=list(set(grades))\n",
        "    start = 1\n",
        "    cols_max=sheet.max_column\n",
        "    rows_max=sheet.max_row\n",
        "    for grade in grades:\n",
        "        row_col=[]\n",
        "        row_col.append(1)\n",
        "        for col in sheet.iter_cols(min_col=cols_max, min_row = start, max_row=rows_max):\n",
        "            for cell in col:\n",
        "                if cell.value == grade:\n",
        "                    row_col.append(cell.row)\n",
        "            grade_wise(row_col,grade) \n",
        "        \n",
        "        \n",
        "separating()"
      ],
      "metadata": {
        "colab": {
          "base_uri": "https://localhost:8080/",
          "height": 354
        },
        "id": "NsW0QX_Dz65f",
        "outputId": "5ce7e08a-d2c3-445b-9d85-d9d662677b1b"
      },
      "execution_count": 24,
      "outputs": [
        {
          "output_type": "error",
          "ename": "FileNotFoundError",
          "evalue": "ignored",
          "traceback": [
            "\u001b[0;31m---------------------------------------------------------------------------\u001b[0m",
            "\u001b[0;31mFileNotFoundError\u001b[0m                         Traceback (most recent call last)",
            "\u001b[0;32m<ipython-input-24-d6bd710c5762>\u001b[0m in \u001b[0;36m<module>\u001b[0;34m()\u001b[0m\n\u001b[1;32m     41\u001b[0m \u001b[0;34m\u001b[0m\u001b[0m\n\u001b[1;32m     42\u001b[0m \u001b[0;34m\u001b[0m\u001b[0m\n\u001b[0;32m---> 43\u001b[0;31m \u001b[0mseparating\u001b[0m\u001b[0;34m(\u001b[0m\u001b[0;34m)\u001b[0m\u001b[0;34m\u001b[0m\u001b[0;34m\u001b[0m\u001b[0m\n\u001b[0m",
            "\u001b[0;32m<ipython-input-24-d6bd710c5762>\u001b[0m in \u001b[0;36mseparating\u001b[0;34m()\u001b[0m\n\u001b[1;32m     38\u001b[0m                 \u001b[0;32mif\u001b[0m \u001b[0mcell\u001b[0m\u001b[0;34m.\u001b[0m\u001b[0mvalue\u001b[0m \u001b[0;34m==\u001b[0m \u001b[0mgrade\u001b[0m\u001b[0;34m:\u001b[0m\u001b[0;34m\u001b[0m\u001b[0;34m\u001b[0m\u001b[0m\n\u001b[1;32m     39\u001b[0m                     \u001b[0mrow_col\u001b[0m\u001b[0;34m.\u001b[0m\u001b[0mappend\u001b[0m\u001b[0;34m(\u001b[0m\u001b[0mcell\u001b[0m\u001b[0;34m.\u001b[0m\u001b[0mrow\u001b[0m\u001b[0;34m)\u001b[0m\u001b[0;34m\u001b[0m\u001b[0;34m\u001b[0m\u001b[0m\n\u001b[0;32m---> 40\u001b[0;31m             \u001b[0mgrade_wise\u001b[0m\u001b[0;34m(\u001b[0m\u001b[0mrow_col\u001b[0m\u001b[0;34m,\u001b[0m\u001b[0mgrade\u001b[0m\u001b[0;34m)\u001b[0m\u001b[0;34m\u001b[0m\u001b[0;34m\u001b[0m\u001b[0m\n\u001b[0m\u001b[1;32m     41\u001b[0m \u001b[0;34m\u001b[0m\u001b[0m\n\u001b[1;32m     42\u001b[0m \u001b[0;34m\u001b[0m\u001b[0m\n",
            "\u001b[0;32m<ipython-input-24-d6bd710c5762>\u001b[0m in \u001b[0;36mgrade_wise\u001b[0;34m(row_num, grade)\u001b[0m\n\u001b[1;32m     19\u001b[0m                 \u001b[0mt\u001b[0m\u001b[0;34m.\u001b[0m\u001b[0mappend\u001b[0m\u001b[0;34m(\u001b[0m\u001b[0mcell\u001b[0m\u001b[0;34m.\u001b[0m\u001b[0mvalue\u001b[0m\u001b[0;34m)\u001b[0m\u001b[0;34m\u001b[0m\u001b[0;34m\u001b[0m\u001b[0m\n\u001b[1;32m     20\u001b[0m         \u001b[0mt1\u001b[0m\u001b[0;34m.\u001b[0m\u001b[0mappend\u001b[0m\u001b[0;34m(\u001b[0m\u001b[0mtuple\u001b[0m\u001b[0;34m(\u001b[0m\u001b[0mt\u001b[0m\u001b[0;34m)\u001b[0m\u001b[0;34m)\u001b[0m\u001b[0;34m\u001b[0m\u001b[0;34m\u001b[0m\u001b[0m\n\u001b[0;32m---> 21\u001b[0;31m     \u001b[0mseparate_excel_file\u001b[0m\u001b[0;34m(\u001b[0m\u001b[0mt1\u001b[0m\u001b[0;34m,\u001b[0m\u001b[0mgrade\u001b[0m\u001b[0;34m)\u001b[0m\u001b[0;34m\u001b[0m\u001b[0;34m\u001b[0m\u001b[0m\n\u001b[0m\u001b[1;32m     22\u001b[0m \u001b[0;34m\u001b[0m\u001b[0m\n\u001b[1;32m     23\u001b[0m \u001b[0;32mdef\u001b[0m \u001b[0mseparating\u001b[0m\u001b[0;34m(\u001b[0m\u001b[0;34m)\u001b[0m\u001b[0;34m:\u001b[0m\u001b[0;34m\u001b[0m\u001b[0;34m\u001b[0m\u001b[0m\n",
            "\u001b[0;32m<ipython-input-24-d6bd710c5762>\u001b[0m in \u001b[0;36mseparate_excel_file\u001b[0;34m(t1, grade)\u001b[0m\n\u001b[1;32m      9\u001b[0m     \u001b[0;32mfor\u001b[0m \u001b[0mrow\u001b[0m \u001b[0;32min\u001b[0m \u001b[0mt1\u001b[0m\u001b[0;34m:\u001b[0m\u001b[0;34m\u001b[0m\u001b[0;34m\u001b[0m\u001b[0m\n\u001b[1;32m     10\u001b[0m         \u001b[0msheet\u001b[0m\u001b[0;34m.\u001b[0m\u001b[0mappend\u001b[0m\u001b[0;34m(\u001b[0m\u001b[0mrow\u001b[0m\u001b[0;34m)\u001b[0m\u001b[0;34m\u001b[0m\u001b[0;34m\u001b[0m\u001b[0m\n\u001b[0;32m---> 11\u001b[0;31m     \u001b[0mbook\u001b[0m\u001b[0;34m.\u001b[0m\u001b[0msave\u001b[0m\u001b[0;34m(\u001b[0m\u001b[0;34m'output/'\u001b[0m\u001b[0;34m+\u001b[0m\u001b[0mgrade\u001b[0m\u001b[0;34m+\u001b[0m\u001b[0;34m'.xlsx'\u001b[0m\u001b[0;34m)\u001b[0m\u001b[0;34m\u001b[0m\u001b[0;34m\u001b[0m\u001b[0m\n\u001b[0m\u001b[1;32m     12\u001b[0m \u001b[0;34m\u001b[0m\u001b[0m\n\u001b[1;32m     13\u001b[0m \u001b[0;32mdef\u001b[0m \u001b[0mgrade_wise\u001b[0m\u001b[0;34m(\u001b[0m\u001b[0mrow_num\u001b[0m\u001b[0;34m,\u001b[0m\u001b[0mgrade\u001b[0m\u001b[0;34m)\u001b[0m\u001b[0;34m:\u001b[0m\u001b[0;34m\u001b[0m\u001b[0;34m\u001b[0m\u001b[0m\n",
            "\u001b[0;32m/usr/local/lib/python3.7/dist-packages/openpyxl/workbook/workbook.py\u001b[0m in \u001b[0;36msave\u001b[0;34m(self, filename)\u001b[0m\n\u001b[1;32m    405\u001b[0m         \u001b[0;32mif\u001b[0m \u001b[0mself\u001b[0m\u001b[0;34m.\u001b[0m\u001b[0mwrite_only\u001b[0m \u001b[0;32mand\u001b[0m \u001b[0;32mnot\u001b[0m \u001b[0mself\u001b[0m\u001b[0;34m.\u001b[0m\u001b[0mworksheets\u001b[0m\u001b[0;34m:\u001b[0m\u001b[0;34m\u001b[0m\u001b[0;34m\u001b[0m\u001b[0m\n\u001b[1;32m    406\u001b[0m             \u001b[0mself\u001b[0m\u001b[0;34m.\u001b[0m\u001b[0mcreate_sheet\u001b[0m\u001b[0;34m(\u001b[0m\u001b[0;34m)\u001b[0m\u001b[0;34m\u001b[0m\u001b[0;34m\u001b[0m\u001b[0m\n\u001b[0;32m--> 407\u001b[0;31m         \u001b[0msave_workbook\u001b[0m\u001b[0;34m(\u001b[0m\u001b[0mself\u001b[0m\u001b[0;34m,\u001b[0m \u001b[0mfilename\u001b[0m\u001b[0;34m)\u001b[0m\u001b[0;34m\u001b[0m\u001b[0;34m\u001b[0m\u001b[0m\n\u001b[0m\u001b[1;32m    408\u001b[0m \u001b[0;34m\u001b[0m\u001b[0m\n\u001b[1;32m    409\u001b[0m \u001b[0;34m\u001b[0m\u001b[0m\n",
            "\u001b[0;32m/usr/local/lib/python3.7/dist-packages/openpyxl/writer/excel.py\u001b[0m in \u001b[0;36msave_workbook\u001b[0;34m(workbook, filename)\u001b[0m\n\u001b[1;32m    289\u001b[0m \u001b[0;34m\u001b[0m\u001b[0m\n\u001b[1;32m    290\u001b[0m     \"\"\"\n\u001b[0;32m--> 291\u001b[0;31m     \u001b[0marchive\u001b[0m \u001b[0;34m=\u001b[0m \u001b[0mZipFile\u001b[0m\u001b[0;34m(\u001b[0m\u001b[0mfilename\u001b[0m\u001b[0;34m,\u001b[0m \u001b[0;34m'w'\u001b[0m\u001b[0;34m,\u001b[0m \u001b[0mZIP_DEFLATED\u001b[0m\u001b[0;34m,\u001b[0m \u001b[0mallowZip64\u001b[0m\u001b[0;34m=\u001b[0m\u001b[0;32mTrue\u001b[0m\u001b[0;34m)\u001b[0m\u001b[0;34m\u001b[0m\u001b[0;34m\u001b[0m\u001b[0m\n\u001b[0m\u001b[1;32m    292\u001b[0m     \u001b[0mwriter\u001b[0m \u001b[0;34m=\u001b[0m \u001b[0mExcelWriter\u001b[0m\u001b[0;34m(\u001b[0m\u001b[0mworkbook\u001b[0m\u001b[0;34m,\u001b[0m \u001b[0marchive\u001b[0m\u001b[0;34m)\u001b[0m\u001b[0;34m\u001b[0m\u001b[0;34m\u001b[0m\u001b[0m\n\u001b[1;32m    293\u001b[0m     \u001b[0mwriter\u001b[0m\u001b[0;34m.\u001b[0m\u001b[0msave\u001b[0m\u001b[0;34m(\u001b[0m\u001b[0;34m)\u001b[0m\u001b[0;34m\u001b[0m\u001b[0;34m\u001b[0m\u001b[0m\n",
            "\u001b[0;32m/usr/lib/python3.7/zipfile.py\u001b[0m in \u001b[0;36m__init__\u001b[0;34m(self, file, mode, compression, allowZip64, compresslevel)\u001b[0m\n\u001b[1;32m   1238\u001b[0m             \u001b[0;32mwhile\u001b[0m \u001b[0;32mTrue\u001b[0m\u001b[0;34m:\u001b[0m\u001b[0;34m\u001b[0m\u001b[0;34m\u001b[0m\u001b[0m\n\u001b[1;32m   1239\u001b[0m                 \u001b[0;32mtry\u001b[0m\u001b[0;34m:\u001b[0m\u001b[0;34m\u001b[0m\u001b[0;34m\u001b[0m\u001b[0m\n\u001b[0;32m-> 1240\u001b[0;31m                     \u001b[0mself\u001b[0m\u001b[0;34m.\u001b[0m\u001b[0mfp\u001b[0m \u001b[0;34m=\u001b[0m \u001b[0mio\u001b[0m\u001b[0;34m.\u001b[0m\u001b[0mopen\u001b[0m\u001b[0;34m(\u001b[0m\u001b[0mfile\u001b[0m\u001b[0;34m,\u001b[0m \u001b[0mfilemode\u001b[0m\u001b[0;34m)\u001b[0m\u001b[0;34m\u001b[0m\u001b[0;34m\u001b[0m\u001b[0m\n\u001b[0m\u001b[1;32m   1241\u001b[0m                 \u001b[0;32mexcept\u001b[0m \u001b[0mOSError\u001b[0m\u001b[0;34m:\u001b[0m\u001b[0;34m\u001b[0m\u001b[0;34m\u001b[0m\u001b[0m\n\u001b[1;32m   1242\u001b[0m                     \u001b[0;32mif\u001b[0m \u001b[0mfilemode\u001b[0m \u001b[0;32min\u001b[0m \u001b[0mmodeDict\u001b[0m\u001b[0;34m:\u001b[0m\u001b[0;34m\u001b[0m\u001b[0;34m\u001b[0m\u001b[0m\n",
            "\u001b[0;31mFileNotFoundError\u001b[0m: [Errno 2] No such file or directory: 'output/2nd class.xlsx'"
          ]
        }
      ]
    },
    {
      "cell_type": "code",
      "source": [
        ""
      ],
      "metadata": {
        "id": "GVcxA9_70m_Z"
      },
      "execution_count": null,
      "outputs": []
    }
  ]
}