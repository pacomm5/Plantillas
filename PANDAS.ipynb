{
  "nbformat": 4,
  "nbformat_minor": 0,
  "metadata": {
    "colab": {
      "name": "PANDAS.ipynb",
      "provenance": [],
      "authorship_tag": "ABX9TyPy5ri65pVpXKSkDc9L0Ctt",
      "include_colab_link": true
    },
    "kernelspec": {
      "name": "python3",
      "display_name": "Python 3"
    },
    "language_info": {
      "name": "python"
    }
  },
  "cells": [
    {
      "cell_type": "markdown",
      "metadata": {
        "id": "view-in-github",
        "colab_type": "text"
      },
      "source": [
        "<a href=\"https://colab.research.google.com/github/pacomm5/Plantillas/blob/main/PANDAS.ipynb\" target=\"_parent\"><img src=\"https://colab.research.google.com/assets/colab-badge.svg\" alt=\"Open In Colab\"/></a>"
      ]
    },
    {
      "cell_type": "markdown",
      "source": [
        "#SERIES"
      ],
      "metadata": {
        "id": "T1i1gxTz3FEg"
      }
    },
    {
      "cell_type": "markdown",
      "source": [
        "##CREAR UNA SERIE DE PANDAS A PARTIR DE UN INDICE NORMAL DE LISTA Y UN INDICE PERSONALIZADO"
      ],
      "metadata": {
        "id": "Xfyq-AkP2N1r"
      }
    },
    {
      "cell_type": "code",
      "source": [
        "import pandas as pd\n"
      ],
      "metadata": {
        "id": "0H7ZcoZ82s2V"
      },
      "execution_count": 4,
      "outputs": []
    },
    {
      "cell_type": "code",
      "execution_count": 5,
      "metadata": {
        "colab": {
          "base_uri": "https://localhost:8080/"
        },
        "id": "5FC6WiLh2EKd",
        "outputId": "0844bd67-eef2-4216-a374-68da7e162dcb"
      },
      "outputs": [
        {
          "output_type": "execute_result",
          "data": {
            "text/plain": [
              "car1     Honda\n",
              "car2    Toyota\n",
              "car3      Ford\n",
              "ev1      Tesla\n",
              "ev2      Lucid\n",
              "ev3     Rivian\n",
              "dtype: object"
            ]
          },
          "metadata": {},
          "execution_count": 5
        }
      ],
      "source": [
        "# Create a pandas data series from a list:\n",
        "\n",
        "L1 = ['Honda', 'Toyota','Ford','Tesla','Lucid','Rivian']\n",
        "L1\n",
        "\n",
        "\n",
        "#['Honda', 'Toyota', 'Ford', 'Tesla', 'Lucid', 'Rivian']\n",
        "\n",
        "pseries_1 = pd.Series(data = L1)\n",
        "pseries_1\n",
        "\n",
        "\n",
        "\n",
        "\n",
        "#create a pandas data series with index\n",
        "car_index = ['car1','car2','car3','ev1','ev2','ev3']\n",
        "\n",
        "pseries_2 = pd.Series(data = L1,index = car_index)\n",
        "pseries_2\n",
        "\n"
      ]
    },
    {
      "cell_type": "code",
      "source": [
        "#create a pandas data series with index\n",
        "car_index = ['car1','car2','car3','ev1','ev2','ev3']\n",
        "\n",
        "pseries_2 = pd.Series(data = L1,index = car_index)\n",
        "pseries_2"
      ],
      "metadata": {
        "colab": {
          "base_uri": "https://localhost:8080/"
        },
        "id": "MneODxT92lfg",
        "outputId": "3c05faf4-deaa-4f55-bee2-d828a8937675"
      },
      "execution_count": 6,
      "outputs": [
        {
          "output_type": "execute_result",
          "data": {
            "text/plain": [
              "car1     Honda\n",
              "car2    Toyota\n",
              "car3      Ford\n",
              "ev1      Tesla\n",
              "ev2      Lucid\n",
              "ev3     Rivian\n",
              "dtype: object"
            ]
          },
          "metadata": {},
          "execution_count": 6
        }
      ]
    },
    {
      "cell_type": "markdown",
      "source": [
        "##Crea una serie de Pandas a partir de un diccionario de pitón"
      ],
      "metadata": {
        "id": "rzdRZAJC2-4l"
      }
    },
    {
      "cell_type": "code",
      "source": [
        "#Create a pandas series from a python dictionary.\n",
        "pdict_1 = {\n",
        "    'car1': 'Honda',\n",
        "    'car2': 'Toyota',\n",
        "    'car3': 'Ford',\n",
        "    'car4': 'GM',\n",
        "    'car5': 'BMW',\n",
        "    'car6': 'Nissan'}\n",
        "    \n",
        "\n",
        "  \n",
        "pseries_2 = pd.Series(pdict_1)\n",
        "pseries_2\n",
        "  \n"
      ],
      "metadata": {
        "colab": {
          "base_uri": "https://localhost:8080/"
        },
        "id": "NFeXdkoV2xPC",
        "outputId": "0665c077-b857-49dd-931f-de73c0dbb383"
      },
      "execution_count": 7,
      "outputs": [
        {
          "output_type": "execute_result",
          "data": {
            "text/plain": [
              "car1     Honda\n",
              "car2    Toyota\n",
              "car3      Ford\n",
              "car4        GM\n",
              "car5       BMW\n",
              "car6    Nissan\n",
              "dtype: object"
            ]
          },
          "metadata": {},
          "execution_count": 7
        }
      ]
    },
    {
      "cell_type": "markdown",
      "source": [
        "## CREAR UNA SERIE DE PANDAS A PARTIR DE UNA AMTRIZ NUMPY"
      ],
      "metadata": {
        "id": "yQ0zX2ut4gqn"
      }
    },
    {
      "cell_type": "code",
      "source": [
        "#Create a pandas series from a Numpy array\n",
        "import numpy as np\n",
        "array_01 = np.random.randn(5)\n",
        "array_01\n",
        "\n"
      ],
      "metadata": {
        "colab": {
          "base_uri": "https://localhost:8080/"
        },
        "id": "yvtm8hoV362O",
        "outputId": "0abeb177-3654-4e67-8ce7-5ae46c9f7fcf"
      },
      "execution_count": 8,
      "outputs": [
        {
          "output_type": "execute_result",
          "data": {
            "text/plain": [
              "array([-0.45152783,  2.60788802,  0.04770416,  0.81680972,  0.54131705])"
            ]
          },
          "metadata": {},
          "execution_count": 8
        }
      ]
    },
    {
      "cell_type": "code",
      "source": [
        "pseries_3 = pd.Series(array_01)\n",
        "pseries_3"
      ],
      "metadata": {
        "colab": {
          "base_uri": "https://localhost:8080/"
        },
        "id": "B-226RlF42Z4",
        "outputId": "5f780873-b2a5-47cf-98d6-56e709593bc4"
      },
      "execution_count": 9,
      "outputs": [
        {
          "output_type": "execute_result",
          "data": {
            "text/plain": [
              "0   -0.451528\n",
              "1    2.607888\n",
              "2    0.047704\n",
              "3    0.816810\n",
              "4    0.541317\n",
              "dtype: float64"
            ]
          },
          "metadata": {},
          "execution_count": 9
        }
      ]
    },
    {
      "cell_type": "markdown",
      "source": [
        "## CREAR UNA SERIE DE PANDAS A PARTIR DE UN VALOR ESCALAR. "
      ],
      "metadata": {
        "id": "bF7O1IkC5EJA"
      }
    },
    {
      "cell_type": "code",
      "source": [
        "#If data is a scalar value, an index must be provided. \n",
        "#The value will be repeated to match the length of index.\n",
        "pseries_4 = pd.Series(8.0, index=[\"a\", \"b\", \"c\", \"d\", \"e\"])\n",
        "pseries_4\n"
      ],
      "metadata": {
        "colab": {
          "base_uri": "https://localhost:8080/"
        },
        "id": "ybBZcvuq46g8",
        "outputId": "7f0dc95e-fa4e-4097-e9b5-76bebeeb33c4"
      },
      "execution_count": 10,
      "outputs": [
        {
          "output_type": "execute_result",
          "data": {
            "text/plain": [
              "a    8.0\n",
              "b    8.0\n",
              "c    8.0\n",
              "d    8.0\n",
              "e    8.0\n",
              "dtype: float64"
            ]
          },
          "metadata": {},
          "execution_count": 10
        }
      ]
    },
    {
      "cell_type": "markdown",
      "source": [
        "## series, attributes-sort, index, sort values, describe, shape"
      ],
      "metadata": {
        "id": "Rd5Cjew55bx7"
      }
    },
    {
      "cell_type": "code",
      "source": [
        "pseries_2.shape"
      ],
      "metadata": {
        "colab": {
          "base_uri": "https://localhost:8080/"
        },
        "id": "MebiSMjf5vNS",
        "outputId": "706f2d5d-3db0-4ccc-c26d-2b507caaac15"
      },
      "execution_count": 11,
      "outputs": [
        {
          "output_type": "execute_result",
          "data": {
            "text/plain": [
              "(6,)"
            ]
          },
          "metadata": {},
          "execution_count": 11
        }
      ]
    },
    {
      "cell_type": "code",
      "source": [
        "pseries_2.describe"
      ],
      "metadata": {
        "colab": {
          "base_uri": "https://localhost:8080/"
        },
        "id": "mG0DD8FC50KV",
        "outputId": "81e8d0d8-adf2-4fbd-9301-dddd0cb2b3d6"
      },
      "execution_count": 12,
      "outputs": [
        {
          "output_type": "execute_result",
          "data": {
            "text/plain": [
              "<bound method NDFrame.describe of car1     Honda\n",
              "car2    Toyota\n",
              "car3      Ford\n",
              "car4        GM\n",
              "car5       BMW\n",
              "car6    Nissan\n",
              "dtype: object>"
            ]
          },
          "metadata": {},
          "execution_count": 12
        }
      ]
    },
    {
      "cell_type": "code",
      "source": [
        "pseries_2.index"
      ],
      "metadata": {
        "colab": {
          "base_uri": "https://localhost:8080/"
        },
        "id": "idFkDAXv53q3",
        "outputId": "b69e189a-77c9-4158-fb96-217489e9e636"
      },
      "execution_count": 13,
      "outputs": [
        {
          "output_type": "execute_result",
          "data": {
            "text/plain": [
              "Index(['car1', 'car2', 'car3', 'car4', 'car5', 'car6'], dtype='object')"
            ]
          },
          "metadata": {},
          "execution_count": 13
        }
      ]
    },
    {
      "cell_type": "code",
      "source": [
        "pseries_2.values"
      ],
      "metadata": {
        "colab": {
          "base_uri": "https://localhost:8080/"
        },
        "id": "cn-Rb_do572T",
        "outputId": "41edc19b-238f-422a-c472-18d62aea5770"
      },
      "execution_count": 14,
      "outputs": [
        {
          "output_type": "execute_result",
          "data": {
            "text/plain": [
              "array(['Honda', 'Toyota', 'Ford', 'GM', 'BMW', 'Nissan'], dtype=object)"
            ]
          },
          "metadata": {},
          "execution_count": 14
        }
      ]
    },
    {
      "cell_type": "code",
      "source": [
        "pseries_2.sort_index"
      ],
      "metadata": {
        "colab": {
          "base_uri": "https://localhost:8080/"
        },
        "id": "tWOYPGWH5-1E",
        "outputId": "9dd3b720-ac43-4d3d-c628-af850ecb7650"
      },
      "execution_count": 15,
      "outputs": [
        {
          "output_type": "execute_result",
          "data": {
            "text/plain": [
              "<bound method Series.sort_index of car1     Honda\n",
              "car2    Toyota\n",
              "car3      Ford\n",
              "car4        GM\n",
              "car5       BMW\n",
              "car6    Nissan\n",
              "dtype: object>"
            ]
          },
          "metadata": {},
          "execution_count": 15
        }
      ]
    },
    {
      "cell_type": "code",
      "source": [
        "pseries_2.sort_values(inplace=True)\n",
        "pseries_2"
      ],
      "metadata": {
        "colab": {
          "base_uri": "https://localhost:8080/"
        },
        "id": "UDqTC1in6CtU",
        "outputId": "58f322e2-61bc-4e3e-fa63-84425f102103"
      },
      "execution_count": 16,
      "outputs": [
        {
          "output_type": "execute_result",
          "data": {
            "text/plain": [
              "car5       BMW\n",
              "car3      Ford\n",
              "car4        GM\n",
              "car1     Honda\n",
              "car6    Nissan\n",
              "car2    Toyota\n",
              "dtype: object"
            ]
          },
          "metadata": {},
          "execution_count": 16
        }
      ]
    },
    {
      "cell_type": "markdown",
      "source": [
        "## renombrar series y atributos únicos"
      ],
      "metadata": {
        "id": "CEc36hyIlvAb"
      }
    },
    {
      "cell_type": "code",
      "source": [
        "import pandas as pd"
      ],
      "metadata": {
        "id": "8a93qvi9m1-s"
      },
      "execution_count": 17,
      "outputs": []
    },
    {
      "cell_type": "code",
      "source": [
        "#Series can also have a name attribute:\n",
        "pseries_5 = pd.Series(pdict_1, name='cars')\n",
        "pseries_5.name"
      ],
      "metadata": {
        "colab": {
          "base_uri": "https://localhost:8080/",
          "height": 34
        },
        "id": "NKG5Dso66Hs_",
        "outputId": "0dfd9f95-befd-4c5d-b7b7-602291cf92bf"
      },
      "execution_count": 18,
      "outputs": [
        {
          "output_type": "execute_result",
          "data": {
            "text/plain": [
              "'cars'"
            ],
            "application/vnd.google.colaboratory.intrinsic+json": {
              "type": "string"
            }
          },
          "metadata": {},
          "execution_count": 18
        }
      ]
    },
    {
      "cell_type": "code",
      "source": [
        "#You can rename a Series with the pandas.Series.rename() method.\n",
        "pseries_6 = pseries_5.rename(\"different_cars\")\n",
        "pseries_6.name"
      ],
      "metadata": {
        "colab": {
          "base_uri": "https://localhost:8080/",
          "height": 34
        },
        "id": "hxkjTugomWqK",
        "outputId": "62c42729-7e11-49fa-96ae-7d73b4d0bb21"
      },
      "execution_count": 19,
      "outputs": [
        {
          "output_type": "execute_result",
          "data": {
            "text/plain": [
              "'different_cars'"
            ],
            "application/vnd.google.colaboratory.intrinsic+json": {
              "type": "string"
            }
          },
          "metadata": {},
          "execution_count": 19
        }
      ]
    },
    {
      "cell_type": "code",
      "source": [
        "# Check if all elements are unique \n",
        "pseries_6.is_unique"
      ],
      "metadata": {
        "colab": {
          "base_uri": "https://localhost:8080/"
        },
        "id": "yItqn-S0mpch",
        "outputId": "10ffcdc8-27ed-487b-de90-1df6b9cdaa61"
      },
      "execution_count": 20,
      "outputs": [
        {
          "output_type": "execute_result",
          "data": {
            "text/plain": [
              "True"
            ]
          },
          "metadata": {},
          "execution_count": 20
        }
      ]
    },
    {
      "cell_type": "markdown",
      "source": [
        "## comprobar algunos metodos de series, head, tail, isnull ..."
      ],
      "metadata": {
        "id": "GRCjO1gEnFgW"
      }
    },
    {
      "cell_type": "code",
      "source": [
        "#Here are few methods. There are around 50-60 mothods. Check the documentation\n",
        "pseries_4.describe()"
      ],
      "metadata": {
        "colab": {
          "base_uri": "https://localhost:8080/"
        },
        "id": "vMlQANevm_Fq",
        "outputId": "cec1c99d-6591-43c5-e1df-613cfc592984"
      },
      "execution_count": 21,
      "outputs": [
        {
          "output_type": "execute_result",
          "data": {
            "text/plain": [
              "count    5.0\n",
              "mean     8.0\n",
              "std      0.0\n",
              "min      8.0\n",
              "25%      8.0\n",
              "50%      8.0\n",
              "75%      8.0\n",
              "max      8.0\n",
              "dtype: float64"
            ]
          },
          "metadata": {},
          "execution_count": 21
        }
      ]
    },
    {
      "cell_type": "code",
      "source": [
        "pseries_4.head(2)"
      ],
      "metadata": {
        "colab": {
          "base_uri": "https://localhost:8080/"
        },
        "id": "_-a2a4nzniUx",
        "outputId": "0d49a9f3-71ff-47b3-814e-bb73ce51eaa7"
      },
      "execution_count": 22,
      "outputs": [
        {
          "output_type": "execute_result",
          "data": {
            "text/plain": [
              "a    8.0\n",
              "b    8.0\n",
              "dtype: float64"
            ]
          },
          "metadata": {},
          "execution_count": 22
        }
      ]
    },
    {
      "cell_type": "code",
      "source": [
        "pseries_4.isnull()"
      ],
      "metadata": {
        "colab": {
          "base_uri": "https://localhost:8080/"
        },
        "id": "9mTIS6G3niNg",
        "outputId": "2948ec1e-89c3-470f-d7e2-651d3f8578c2"
      },
      "execution_count": 23,
      "outputs": [
        {
          "output_type": "execute_result",
          "data": {
            "text/plain": [
              "a    False\n",
              "b    False\n",
              "c    False\n",
              "d    False\n",
              "e    False\n",
              "dtype: bool"
            ]
          },
          "metadata": {},
          "execution_count": 23
        }
      ]
    },
    {
      "cell_type": "code",
      "source": [
        "pseries_4.sum()"
      ],
      "metadata": {
        "colab": {
          "base_uri": "https://localhost:8080/"
        },
        "id": "IGyYQx08niFP",
        "outputId": "bf6812f5-1056-4cee-f6e5-08797a57971f"
      },
      "execution_count": 24,
      "outputs": [
        {
          "output_type": "execute_result",
          "data": {
            "text/plain": [
              "40.0"
            ]
          },
          "metadata": {},
          "execution_count": 24
        }
      ]
    },
    {
      "cell_type": "code",
      "source": [
        "pseries_4.product()"
      ],
      "metadata": {
        "colab": {
          "base_uri": "https://localhost:8080/"
        },
        "id": "0ZHVGHyMnh6f",
        "outputId": "2dbd0e03-e017-4637-f511-102c86c304a4"
      },
      "execution_count": 25,
      "outputs": [
        {
          "output_type": "execute_result",
          "data": {
            "text/plain": [
              "32768.0"
            ]
          },
          "metadata": {},
          "execution_count": 25
        }
      ]
    },
    {
      "cell_type": "markdown",
      "source": [
        "## encontrar valores nulos"
      ],
      "metadata": {
        "id": "UnM591n4nxq6"
      }
    },
    {
      "cell_type": "code",
      "source": [
        "ps6 = pd.Series([10,np.nan,20,30,np.nan])\n",
        "ps6.isna()"
      ],
      "metadata": {
        "colab": {
          "base_uri": "https://localhost:8080/"
        },
        "id": "GVS7TFC-ntjO",
        "outputId": "1e1b446d-6686-4258-b91f-96526a247c1d"
      },
      "execution_count": 26,
      "outputs": [
        {
          "output_type": "execute_result",
          "data": {
            "text/plain": [
              "0    False\n",
              "1     True\n",
              "2    False\n",
              "3    False\n",
              "4     True\n",
              "dtype: bool"
            ]
          },
          "metadata": {},
          "execution_count": 26
        }
      ]
    },
    {
      "cell_type": "code",
      "source": [
        "ps6.isna().sum()"
      ],
      "metadata": {
        "colab": {
          "base_uri": "https://localhost:8080/"
        },
        "id": "4xTU_h6dn8_1",
        "outputId": "e2b587e3-ed0d-4d00-8a5e-b5ad8b973b4c"
      },
      "execution_count": 27,
      "outputs": [
        {
          "output_type": "execute_result",
          "data": {
            "text/plain": [
              "2"
            ]
          },
          "metadata": {},
          "execution_count": 27
        }
      ]
    },
    {
      "cell_type": "markdown",
      "source": [
        "## uso de funciones integradas en series"
      ],
      "metadata": {
        "id": "H7AESqAUoMvx"
      }
    },
    {
      "cell_type": "code",
      "source": [
        "# Python buildin functions:\n",
        "ps7 = pd.Series(np.random.randn(10))\n",
        "ps7"
      ],
      "metadata": {
        "colab": {
          "base_uri": "https://localhost:8080/"
        },
        "id": "PB2XPtl3oGPN",
        "outputId": "a5d93185-8501-440e-b992-a6a461b29548"
      },
      "execution_count": 28,
      "outputs": [
        {
          "output_type": "execute_result",
          "data": {
            "text/plain": [
              "0    0.850809\n",
              "1   -1.394997\n",
              "2   -1.154214\n",
              "3    2.608141\n",
              "4    0.343212\n",
              "5   -0.485921\n",
              "6   -1.150069\n",
              "7    0.392338\n",
              "8    0.387833\n",
              "9    0.174685\n",
              "dtype: float64"
            ]
          },
          "metadata": {},
          "execution_count": 28
        }
      ]
    },
    {
      "cell_type": "code",
      "source": [
        "len(ps7)"
      ],
      "metadata": {
        "colab": {
          "base_uri": "https://localhost:8080/"
        },
        "id": "BwIwEhcXoXbe",
        "outputId": "f671bf7d-20a6-4d2b-cfb5-88a7a676ea79"
      },
      "execution_count": 29,
      "outputs": [
        {
          "output_type": "execute_result",
          "data": {
            "text/plain": [
              "10"
            ]
          },
          "metadata": {},
          "execution_count": 29
        }
      ]
    },
    {
      "cell_type": "code",
      "source": [
        "max(ps7)"
      ],
      "metadata": {
        "colab": {
          "base_uri": "https://localhost:8080/"
        },
        "id": "OZLGGEDeodaK",
        "outputId": "5c3e6d85-3d64-4822-c80d-a9c4b74e7fb9"
      },
      "execution_count": 30,
      "outputs": [
        {
          "output_type": "execute_result",
          "data": {
            "text/plain": [
              "2.6081406997438616"
            ]
          },
          "metadata": {},
          "execution_count": 30
        }
      ]
    },
    {
      "cell_type": "code",
      "source": [
        "min(ps7)"
      ],
      "metadata": {
        "colab": {
          "base_uri": "https://localhost:8080/"
        },
        "id": "6bOmxSkQohOD",
        "outputId": "176bee4a-9b96-424a-c8bb-ce79a4b3bd21"
      },
      "execution_count": 31,
      "outputs": [
        {
          "output_type": "execute_result",
          "data": {
            "text/plain": [
              "-1.3949965682874732"
            ]
          },
          "metadata": {},
          "execution_count": 31
        }
      ]
    },
    {
      "cell_type": "code",
      "source": [
        "type(ps7)"
      ],
      "metadata": {
        "colab": {
          "base_uri": "https://localhost:8080/"
        },
        "id": "rcxZarPMomH-",
        "outputId": "daca0fa1-4352-4fd6-b733-c322c57800f0"
      },
      "execution_count": 32,
      "outputs": [
        {
          "output_type": "execute_result",
          "data": {
            "text/plain": [
              "pandas.core.series.Series"
            ]
          },
          "metadata": {},
          "execution_count": 32
        }
      ]
    },
    {
      "cell_type": "markdown",
      "source": [
        "## convertir una serie a lista, diccionario y matriz de numpy"
      ],
      "metadata": {
        "id": "u8hltajCovBo"
      }
    },
    {
      "cell_type": "code",
      "source": [
        "L1 = ['Honda', 'Toyota','Ford','Tesla','Lucid','Rivian']\n",
        "ps_8 = pd.Series(data = L1)\n",
        "#convert a series to a list\n",
        "list(ps_8)\n",
        "# con esto lo convertimos a lista. "
      ],
      "metadata": {
        "colab": {
          "base_uri": "https://localhost:8080/"
        },
        "id": "r17Ps0K6o3by",
        "outputId": "5fe8703a-d125-4668-fe9f-20c1dd7814ea"
      },
      "execution_count": 33,
      "outputs": [
        {
          "output_type": "execute_result",
          "data": {
            "text/plain": [
              "['Honda', 'Toyota', 'Ford', 'Tesla', 'Lucid', 'Rivian']"
            ]
          },
          "metadata": {},
          "execution_count": 33
        }
      ]
    },
    {
      "cell_type": "code",
      "source": [
        "#convert a series to dictionary\n",
        "dict(ps_8)\n",
        "# con esto lo convertimos a diccionario"
      ],
      "metadata": {
        "colab": {
          "base_uri": "https://localhost:8080/"
        },
        "id": "6MJOnCp0o8T8",
        "outputId": "1eb464fd-b9c2-4542-95c1-646298be013f"
      },
      "execution_count": 34,
      "outputs": [
        {
          "output_type": "execute_result",
          "data": {
            "text/plain": [
              "{0: 'Honda', 1: 'Toyota', 2: 'Ford', 3: 'Tesla', 4: 'Lucid', 5: 'Rivian'}"
            ]
          },
          "metadata": {},
          "execution_count": 34
        }
      ]
    },
    {
      "cell_type": "code",
      "source": [
        "#convert a series to a narray\n",
        "na1 = ps_8.values\n",
        "na1\n",
        "# asi lo estamos convirtiendo a un array. "
      ],
      "metadata": {
        "colab": {
          "base_uri": "https://localhost:8080/"
        },
        "id": "lC2LiO8OpGqG",
        "outputId": "847e2a4f-79cb-4395-bf58-3219c93cdedd"
      },
      "execution_count": 35,
      "outputs": [
        {
          "output_type": "execute_result",
          "data": {
            "text/plain": [
              "array(['Honda', 'Toyota', 'Ford', 'Tesla', 'Lucid', 'Rivian'],\n",
              "      dtype=object)"
            ]
          },
          "metadata": {},
          "execution_count": 35
        }
      ]
    },
    {
      "cell_type": "code",
      "source": [
        "type(na1)"
      ],
      "metadata": {
        "colab": {
          "base_uri": "https://localhost:8080/"
        },
        "id": "F-7P5UUSpRTZ",
        "outputId": "df4050db-de2d-4b87-ae13-3e82881beff9"
      },
      "execution_count": 36,
      "outputs": [
        {
          "output_type": "execute_result",
          "data": {
            "text/plain": [
              "numpy.ndarray"
            ]
          },
          "metadata": {},
          "execution_count": 36
        }
      ]
    },
    {
      "cell_type": "code",
      "source": [
        ""
      ],
      "metadata": {
        "id": "qgJQRvLapa2e"
      },
      "execution_count": null,
      "outputs": []
    }
  ]
}