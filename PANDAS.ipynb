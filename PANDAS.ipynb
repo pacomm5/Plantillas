{
  "nbformat": 4,
  "nbformat_minor": 0,
  "metadata": {
    "colab": {
      "name": "PANDAS.ipynb",
      "provenance": [],
      "authorship_tag": "ABX9TyPb8zkrNlh9SBJt9ViVwMt1",
      "include_colab_link": true
    },
    "kernelspec": {
      "name": "python3",
      "display_name": "Python 3"
    },
    "language_info": {
      "name": "python"
    }
  },
  "cells": [
    {
      "cell_type": "markdown",
      "metadata": {
        "id": "view-in-github",
        "colab_type": "text"
      },
      "source": [
        "<a href=\"https://colab.research.google.com/github/pacomm5/Plantillas/blob/main/PANDAS.ipynb\" target=\"_parent\"><img src=\"https://colab.research.google.com/assets/colab-badge.svg\" alt=\"Open In Colab\"/></a>"
      ]
    },
    {
      "cell_type": "markdown",
      "source": [
        "#SERIES"
      ],
      "metadata": {
        "id": "T1i1gxTz3FEg"
      }
    },
    {
      "cell_type": "markdown",
      "source": [
        "##CREAR UNA SERIE DE PANDAS A PARTIR DE UN INDICE NORMAL DE LISTA Y UN INDICE PERSONALIZADO"
      ],
      "metadata": {
        "id": "Xfyq-AkP2N1r"
      }
    },
    {
      "cell_type": "code",
      "source": [
        "import pandas as pd\n"
      ],
      "metadata": {
        "id": "0H7ZcoZ82s2V"
      },
      "execution_count": null,
      "outputs": []
    },
    {
      "cell_type": "code",
      "execution_count": null,
      "metadata": {
        "colab": {
          "base_uri": "https://localhost:8080/"
        },
        "id": "5FC6WiLh2EKd",
        "outputId": "0844bd67-eef2-4216-a374-68da7e162dcb"
      },
      "outputs": [
        {
          "output_type": "execute_result",
          "data": {
            "text/plain": [
              "car1     Honda\n",
              "car2    Toyota\n",
              "car3      Ford\n",
              "ev1      Tesla\n",
              "ev2      Lucid\n",
              "ev3     Rivian\n",
              "dtype: object"
            ]
          },
          "metadata": {},
          "execution_count": 5
        }
      ],
      "source": [
        "# Create a pandas data series from a list:\n",
        "\n",
        "L1 = ['Honda', 'Toyota','Ford','Tesla','Lucid','Rivian']\n",
        "L1\n",
        "\n",
        "\n",
        "#['Honda', 'Toyota', 'Ford', 'Tesla', 'Lucid', 'Rivian']\n",
        "\n",
        "pseries_1 = pd.Series(data = L1)\n",
        "pseries_1\n",
        "\n",
        "\n",
        "\n",
        "\n",
        "#create a pandas data series with index\n",
        "car_index = ['car1','car2','car3','ev1','ev2','ev3']\n",
        "\n",
        "pseries_2 = pd.Series(data = L1,index = car_index)\n",
        "pseries_2\n",
        "\n"
      ]
    },
    {
      "cell_type": "code",
      "source": [
        "#create a pandas data series with index\n",
        "car_index = ['car1','car2','car3','ev1','ev2','ev3']\n",
        "\n",
        "pseries_2 = pd.Series(data = L1,index = car_index)\n",
        "pseries_2"
      ],
      "metadata": {
        "colab": {
          "base_uri": "https://localhost:8080/"
        },
        "id": "MneODxT92lfg",
        "outputId": "3c05faf4-deaa-4f55-bee2-d828a8937675"
      },
      "execution_count": null,
      "outputs": [
        {
          "output_type": "execute_result",
          "data": {
            "text/plain": [
              "car1     Honda\n",
              "car2    Toyota\n",
              "car3      Ford\n",
              "ev1      Tesla\n",
              "ev2      Lucid\n",
              "ev3     Rivian\n",
              "dtype: object"
            ]
          },
          "metadata": {},
          "execution_count": 6
        }
      ]
    },
    {
      "cell_type": "markdown",
      "source": [
        "##Crea una serie de Pandas a partir de un diccionario de pitón"
      ],
      "metadata": {
        "id": "rzdRZAJC2-4l"
      }
    },
    {
      "cell_type": "code",
      "source": [
        "#Create a pandas series from a python dictionary.\n",
        "pdict_1 = {\n",
        "    'car1': 'Honda',\n",
        "    'car2': 'Toyota',\n",
        "    'car3': 'Ford',\n",
        "    'car4': 'GM',\n",
        "    'car5': 'BMW',\n",
        "    'car6': 'Nissan'}\n",
        "    \n",
        "\n",
        "  \n",
        "pseries_2 = pd.Series(pdict_1)\n",
        "pseries_2\n",
        "  \n"
      ],
      "metadata": {
        "colab": {
          "base_uri": "https://localhost:8080/"
        },
        "id": "NFeXdkoV2xPC",
        "outputId": "0665c077-b857-49dd-931f-de73c0dbb383"
      },
      "execution_count": null,
      "outputs": [
        {
          "output_type": "execute_result",
          "data": {
            "text/plain": [
              "car1     Honda\n",
              "car2    Toyota\n",
              "car3      Ford\n",
              "car4        GM\n",
              "car5       BMW\n",
              "car6    Nissan\n",
              "dtype: object"
            ]
          },
          "metadata": {},
          "execution_count": 7
        }
      ]
    },
    {
      "cell_type": "markdown",
      "source": [
        "## CREAR UNA SERIE DE PANDAS A PARTIR DE UNA AMTRIZ NUMPY"
      ],
      "metadata": {
        "id": "yQ0zX2ut4gqn"
      }
    },
    {
      "cell_type": "code",
      "source": [
        "#Create a pandas series from a Numpy array\n",
        "import numpy as np\n",
        "array_01 = np.random.randn(5)\n",
        "array_01\n",
        "\n"
      ],
      "metadata": {
        "colab": {
          "base_uri": "https://localhost:8080/"
        },
        "id": "yvtm8hoV362O",
        "outputId": "0abeb177-3654-4e67-8ce7-5ae46c9f7fcf"
      },
      "execution_count": null,
      "outputs": [
        {
          "output_type": "execute_result",
          "data": {
            "text/plain": [
              "array([-0.45152783,  2.60788802,  0.04770416,  0.81680972,  0.54131705])"
            ]
          },
          "metadata": {},
          "execution_count": 8
        }
      ]
    },
    {
      "cell_type": "code",
      "source": [
        "pseries_3 = pd.Series(array_01)\n",
        "pseries_3"
      ],
      "metadata": {
        "colab": {
          "base_uri": "https://localhost:8080/"
        },
        "id": "B-226RlF42Z4",
        "outputId": "5f780873-b2a5-47cf-98d6-56e709593bc4"
      },
      "execution_count": null,
      "outputs": [
        {
          "output_type": "execute_result",
          "data": {
            "text/plain": [
              "0   -0.451528\n",
              "1    2.607888\n",
              "2    0.047704\n",
              "3    0.816810\n",
              "4    0.541317\n",
              "dtype: float64"
            ]
          },
          "metadata": {},
          "execution_count": 9
        }
      ]
    },
    {
      "cell_type": "markdown",
      "source": [
        "## CREAR UNA SERIE DE PANDAS A PARTIR DE UN VALOR ESCALAR. "
      ],
      "metadata": {
        "id": "bF7O1IkC5EJA"
      }
    },
    {
      "cell_type": "code",
      "source": [
        "#If data is a scalar value, an index must be provided. \n",
        "#The value will be repeated to match the length of index.\n",
        "pseries_4 = pd.Series(8.0, index=[\"a\", \"b\", \"c\", \"d\", \"e\"])\n",
        "pseries_4\n"
      ],
      "metadata": {
        "colab": {
          "base_uri": "https://localhost:8080/"
        },
        "id": "ybBZcvuq46g8",
        "outputId": "7f0dc95e-fa4e-4097-e9b5-76bebeeb33c4"
      },
      "execution_count": null,
      "outputs": [
        {
          "output_type": "execute_result",
          "data": {
            "text/plain": [
              "a    8.0\n",
              "b    8.0\n",
              "c    8.0\n",
              "d    8.0\n",
              "e    8.0\n",
              "dtype: float64"
            ]
          },
          "metadata": {},
          "execution_count": 10
        }
      ]
    },
    {
      "cell_type": "markdown",
      "source": [
        "## series, attributes-sort, index, sort values, describe, shape"
      ],
      "metadata": {
        "id": "Rd5Cjew55bx7"
      }
    },
    {
      "cell_type": "code",
      "source": [
        "pseries_2.shape"
      ],
      "metadata": {
        "colab": {
          "base_uri": "https://localhost:8080/"
        },
        "id": "MebiSMjf5vNS",
        "outputId": "706f2d5d-3db0-4ccc-c26d-2b507caaac15"
      },
      "execution_count": null,
      "outputs": [
        {
          "output_type": "execute_result",
          "data": {
            "text/plain": [
              "(6,)"
            ]
          },
          "metadata": {},
          "execution_count": 11
        }
      ]
    },
    {
      "cell_type": "code",
      "source": [
        "pseries_2.describe"
      ],
      "metadata": {
        "colab": {
          "base_uri": "https://localhost:8080/"
        },
        "id": "mG0DD8FC50KV",
        "outputId": "81e8d0d8-adf2-4fbd-9301-dddd0cb2b3d6"
      },
      "execution_count": null,
      "outputs": [
        {
          "output_type": "execute_result",
          "data": {
            "text/plain": [
              "<bound method NDFrame.describe of car1     Honda\n",
              "car2    Toyota\n",
              "car3      Ford\n",
              "car4        GM\n",
              "car5       BMW\n",
              "car6    Nissan\n",
              "dtype: object>"
            ]
          },
          "metadata": {},
          "execution_count": 12
        }
      ]
    },
    {
      "cell_type": "code",
      "source": [
        "pseries_2.index"
      ],
      "metadata": {
        "colab": {
          "base_uri": "https://localhost:8080/"
        },
        "id": "idFkDAXv53q3",
        "outputId": "b69e189a-77c9-4158-fb96-217489e9e636"
      },
      "execution_count": null,
      "outputs": [
        {
          "output_type": "execute_result",
          "data": {
            "text/plain": [
              "Index(['car1', 'car2', 'car3', 'car4', 'car5', 'car6'], dtype='object')"
            ]
          },
          "metadata": {},
          "execution_count": 13
        }
      ]
    },
    {
      "cell_type": "code",
      "source": [
        "pseries_2.values"
      ],
      "metadata": {
        "colab": {
          "base_uri": "https://localhost:8080/"
        },
        "id": "cn-Rb_do572T",
        "outputId": "41edc19b-238f-422a-c472-18d62aea5770"
      },
      "execution_count": null,
      "outputs": [
        {
          "output_type": "execute_result",
          "data": {
            "text/plain": [
              "array(['Honda', 'Toyota', 'Ford', 'GM', 'BMW', 'Nissan'], dtype=object)"
            ]
          },
          "metadata": {},
          "execution_count": 14
        }
      ]
    },
    {
      "cell_type": "code",
      "source": [
        "pseries_2.sort_index"
      ],
      "metadata": {
        "colab": {
          "base_uri": "https://localhost:8080/"
        },
        "id": "tWOYPGWH5-1E",
        "outputId": "9dd3b720-ac43-4d3d-c628-af850ecb7650"
      },
      "execution_count": null,
      "outputs": [
        {
          "output_type": "execute_result",
          "data": {
            "text/plain": [
              "<bound method Series.sort_index of car1     Honda\n",
              "car2    Toyota\n",
              "car3      Ford\n",
              "car4        GM\n",
              "car5       BMW\n",
              "car6    Nissan\n",
              "dtype: object>"
            ]
          },
          "metadata": {},
          "execution_count": 15
        }
      ]
    },
    {
      "cell_type": "code",
      "source": [
        "pseries_2.sort_values(inplace=True)\n",
        "pseries_2"
      ],
      "metadata": {
        "colab": {
          "base_uri": "https://localhost:8080/"
        },
        "id": "UDqTC1in6CtU",
        "outputId": "58f322e2-61bc-4e3e-fa63-84425f102103"
      },
      "execution_count": null,
      "outputs": [
        {
          "output_type": "execute_result",
          "data": {
            "text/plain": [
              "car5       BMW\n",
              "car3      Ford\n",
              "car4        GM\n",
              "car1     Honda\n",
              "car6    Nissan\n",
              "car2    Toyota\n",
              "dtype: object"
            ]
          },
          "metadata": {},
          "execution_count": 16
        }
      ]
    },
    {
      "cell_type": "markdown",
      "source": [
        "## renombrar series y atributos únicos"
      ],
      "metadata": {
        "id": "CEc36hyIlvAb"
      }
    },
    {
      "cell_type": "code",
      "source": [
        "import pandas as pd"
      ],
      "metadata": {
        "id": "8a93qvi9m1-s"
      },
      "execution_count": null,
      "outputs": []
    },
    {
      "cell_type": "code",
      "source": [
        "#Series can also have a name attribute:\n",
        "pseries_5 = pd.Series(pdict_1, name='cars')\n",
        "pseries_5.name"
      ],
      "metadata": {
        "colab": {
          "base_uri": "https://localhost:8080/",
          "height": 34
        },
        "id": "NKG5Dso66Hs_",
        "outputId": "0dfd9f95-befd-4c5d-b7b7-602291cf92bf"
      },
      "execution_count": null,
      "outputs": [
        {
          "output_type": "execute_result",
          "data": {
            "text/plain": [
              "'cars'"
            ],
            "application/vnd.google.colaboratory.intrinsic+json": {
              "type": "string"
            }
          },
          "metadata": {},
          "execution_count": 18
        }
      ]
    },
    {
      "cell_type": "code",
      "source": [
        "#You can rename a Series with the pandas.Series.rename() method.\n",
        "pseries_6 = pseries_5.rename(\"different_cars\")\n",
        "pseries_6.name"
      ],
      "metadata": {
        "colab": {
          "base_uri": "https://localhost:8080/",
          "height": 34
        },
        "id": "hxkjTugomWqK",
        "outputId": "62c42729-7e11-49fa-96ae-7d73b4d0bb21"
      },
      "execution_count": null,
      "outputs": [
        {
          "output_type": "execute_result",
          "data": {
            "text/plain": [
              "'different_cars'"
            ],
            "application/vnd.google.colaboratory.intrinsic+json": {
              "type": "string"
            }
          },
          "metadata": {},
          "execution_count": 19
        }
      ]
    },
    {
      "cell_type": "code",
      "source": [
        "# Check if all elements are unique \n",
        "pseries_6.is_unique"
      ],
      "metadata": {
        "colab": {
          "base_uri": "https://localhost:8080/"
        },
        "id": "yItqn-S0mpch",
        "outputId": "10ffcdc8-27ed-487b-de90-1df6b9cdaa61"
      },
      "execution_count": null,
      "outputs": [
        {
          "output_type": "execute_result",
          "data": {
            "text/plain": [
              "True"
            ]
          },
          "metadata": {},
          "execution_count": 20
        }
      ]
    },
    {
      "cell_type": "markdown",
      "source": [
        "## comprobar algunos metodos de series, head, tail, isnull ..."
      ],
      "metadata": {
        "id": "GRCjO1gEnFgW"
      }
    },
    {
      "cell_type": "code",
      "source": [
        "#Here are few methods. There are around 50-60 mothods. Check the documentation\n",
        "pseries_4.describe()"
      ],
      "metadata": {
        "colab": {
          "base_uri": "https://localhost:8080/"
        },
        "id": "vMlQANevm_Fq",
        "outputId": "cec1c99d-6591-43c5-e1df-613cfc592984"
      },
      "execution_count": null,
      "outputs": [
        {
          "output_type": "execute_result",
          "data": {
            "text/plain": [
              "count    5.0\n",
              "mean     8.0\n",
              "std      0.0\n",
              "min      8.0\n",
              "25%      8.0\n",
              "50%      8.0\n",
              "75%      8.0\n",
              "max      8.0\n",
              "dtype: float64"
            ]
          },
          "metadata": {},
          "execution_count": 21
        }
      ]
    },
    {
      "cell_type": "code",
      "source": [
        "pseries_4.head(2)"
      ],
      "metadata": {
        "colab": {
          "base_uri": "https://localhost:8080/"
        },
        "id": "_-a2a4nzniUx",
        "outputId": "0d49a9f3-71ff-47b3-814e-bb73ce51eaa7"
      },
      "execution_count": null,
      "outputs": [
        {
          "output_type": "execute_result",
          "data": {
            "text/plain": [
              "a    8.0\n",
              "b    8.0\n",
              "dtype: float64"
            ]
          },
          "metadata": {},
          "execution_count": 22
        }
      ]
    },
    {
      "cell_type": "code",
      "source": [
        "pseries_4.isnull()"
      ],
      "metadata": {
        "colab": {
          "base_uri": "https://localhost:8080/"
        },
        "id": "9mTIS6G3niNg",
        "outputId": "2948ec1e-89c3-470f-d7e2-651d3f8578c2"
      },
      "execution_count": null,
      "outputs": [
        {
          "output_type": "execute_result",
          "data": {
            "text/plain": [
              "a    False\n",
              "b    False\n",
              "c    False\n",
              "d    False\n",
              "e    False\n",
              "dtype: bool"
            ]
          },
          "metadata": {},
          "execution_count": 23
        }
      ]
    },
    {
      "cell_type": "code",
      "source": [
        "pseries_4.sum()"
      ],
      "metadata": {
        "colab": {
          "base_uri": "https://localhost:8080/"
        },
        "id": "IGyYQx08niFP",
        "outputId": "bf6812f5-1056-4cee-f6e5-08797a57971f"
      },
      "execution_count": null,
      "outputs": [
        {
          "output_type": "execute_result",
          "data": {
            "text/plain": [
              "40.0"
            ]
          },
          "metadata": {},
          "execution_count": 24
        }
      ]
    },
    {
      "cell_type": "code",
      "source": [
        "pseries_4.product()"
      ],
      "metadata": {
        "colab": {
          "base_uri": "https://localhost:8080/"
        },
        "id": "0ZHVGHyMnh6f",
        "outputId": "2dbd0e03-e017-4637-f511-102c86c304a4"
      },
      "execution_count": null,
      "outputs": [
        {
          "output_type": "execute_result",
          "data": {
            "text/plain": [
              "32768.0"
            ]
          },
          "metadata": {},
          "execution_count": 25
        }
      ]
    },
    {
      "cell_type": "markdown",
      "source": [
        "## encontrar valores nulos"
      ],
      "metadata": {
        "id": "UnM591n4nxq6"
      }
    },
    {
      "cell_type": "code",
      "source": [
        "ps6 = pd.Series([10,np.nan,20,30,np.nan])\n",
        "ps6.isna()"
      ],
      "metadata": {
        "colab": {
          "base_uri": "https://localhost:8080/"
        },
        "id": "GVS7TFC-ntjO",
        "outputId": "1e1b446d-6686-4258-b91f-96526a247c1d"
      },
      "execution_count": null,
      "outputs": [
        {
          "output_type": "execute_result",
          "data": {
            "text/plain": [
              "0    False\n",
              "1     True\n",
              "2    False\n",
              "3    False\n",
              "4     True\n",
              "dtype: bool"
            ]
          },
          "metadata": {},
          "execution_count": 26
        }
      ]
    },
    {
      "cell_type": "code",
      "source": [
        "ps6.isna().sum()"
      ],
      "metadata": {
        "colab": {
          "base_uri": "https://localhost:8080/"
        },
        "id": "4xTU_h6dn8_1",
        "outputId": "e2b587e3-ed0d-4d00-8a5e-b5ad8b973b4c"
      },
      "execution_count": null,
      "outputs": [
        {
          "output_type": "execute_result",
          "data": {
            "text/plain": [
              "2"
            ]
          },
          "metadata": {},
          "execution_count": 27
        }
      ]
    },
    {
      "cell_type": "markdown",
      "source": [
        "## uso de funciones integradas en series"
      ],
      "metadata": {
        "id": "H7AESqAUoMvx"
      }
    },
    {
      "cell_type": "code",
      "source": [
        "# Python buildin functions:\n",
        "ps7 = pd.Series(np.random.randn(10))\n",
        "ps7"
      ],
      "metadata": {
        "colab": {
          "base_uri": "https://localhost:8080/"
        },
        "id": "PB2XPtl3oGPN",
        "outputId": "a5d93185-8501-440e-b992-a6a461b29548"
      },
      "execution_count": null,
      "outputs": [
        {
          "output_type": "execute_result",
          "data": {
            "text/plain": [
              "0    0.850809\n",
              "1   -1.394997\n",
              "2   -1.154214\n",
              "3    2.608141\n",
              "4    0.343212\n",
              "5   -0.485921\n",
              "6   -1.150069\n",
              "7    0.392338\n",
              "8    0.387833\n",
              "9    0.174685\n",
              "dtype: float64"
            ]
          },
          "metadata": {},
          "execution_count": 28
        }
      ]
    },
    {
      "cell_type": "code",
      "source": [
        "len(ps7)"
      ],
      "metadata": {
        "colab": {
          "base_uri": "https://localhost:8080/"
        },
        "id": "BwIwEhcXoXbe",
        "outputId": "f671bf7d-20a6-4d2b-cfb5-88a7a676ea79"
      },
      "execution_count": null,
      "outputs": [
        {
          "output_type": "execute_result",
          "data": {
            "text/plain": [
              "10"
            ]
          },
          "metadata": {},
          "execution_count": 29
        }
      ]
    },
    {
      "cell_type": "code",
      "source": [
        "max(ps7)"
      ],
      "metadata": {
        "colab": {
          "base_uri": "https://localhost:8080/"
        },
        "id": "OZLGGEDeodaK",
        "outputId": "5c3e6d85-3d64-4822-c80d-a9c4b74e7fb9"
      },
      "execution_count": null,
      "outputs": [
        {
          "output_type": "execute_result",
          "data": {
            "text/plain": [
              "2.6081406997438616"
            ]
          },
          "metadata": {},
          "execution_count": 30
        }
      ]
    },
    {
      "cell_type": "code",
      "source": [
        "min(ps7)"
      ],
      "metadata": {
        "colab": {
          "base_uri": "https://localhost:8080/"
        },
        "id": "6bOmxSkQohOD",
        "outputId": "176bee4a-9b96-424a-c8bb-ce79a4b3bd21"
      },
      "execution_count": null,
      "outputs": [
        {
          "output_type": "execute_result",
          "data": {
            "text/plain": [
              "-1.3949965682874732"
            ]
          },
          "metadata": {},
          "execution_count": 31
        }
      ]
    },
    {
      "cell_type": "code",
      "source": [
        "type(ps7)"
      ],
      "metadata": {
        "colab": {
          "base_uri": "https://localhost:8080/"
        },
        "id": "rcxZarPMomH-",
        "outputId": "daca0fa1-4352-4fd6-b733-c322c57800f0"
      },
      "execution_count": null,
      "outputs": [
        {
          "output_type": "execute_result",
          "data": {
            "text/plain": [
              "pandas.core.series.Series"
            ]
          },
          "metadata": {},
          "execution_count": 32
        }
      ]
    },
    {
      "cell_type": "markdown",
      "source": [
        "## convertir una serie a lista, diccionario y matriz de numpy"
      ],
      "metadata": {
        "id": "u8hltajCovBo"
      }
    },
    {
      "cell_type": "code",
      "source": [
        "L1 = ['Honda', 'Toyota','Ford','Tesla','Lucid','Rivian']\n",
        "ps_8 = pd.Series(data = L1)\n",
        "#convert a series to a list\n",
        "list(ps_8)\n",
        "# con esto lo convertimos a lista. "
      ],
      "metadata": {
        "colab": {
          "base_uri": "https://localhost:8080/"
        },
        "id": "r17Ps0K6o3by",
        "outputId": "5fe8703a-d125-4668-fe9f-20c1dd7814ea"
      },
      "execution_count": null,
      "outputs": [
        {
          "output_type": "execute_result",
          "data": {
            "text/plain": [
              "['Honda', 'Toyota', 'Ford', 'Tesla', 'Lucid', 'Rivian']"
            ]
          },
          "metadata": {},
          "execution_count": 33
        }
      ]
    },
    {
      "cell_type": "code",
      "source": [
        "#convert a series to dictionary\n",
        "dict(ps_8)\n",
        "# con esto lo convertimos a diccionario"
      ],
      "metadata": {
        "colab": {
          "base_uri": "https://localhost:8080/"
        },
        "id": "6MJOnCp0o8T8",
        "outputId": "1eb464fd-b9c2-4542-95c1-646298be013f"
      },
      "execution_count": null,
      "outputs": [
        {
          "output_type": "execute_result",
          "data": {
            "text/plain": [
              "{0: 'Honda', 1: 'Toyota', 2: 'Ford', 3: 'Tesla', 4: 'Lucid', 5: 'Rivian'}"
            ]
          },
          "metadata": {},
          "execution_count": 34
        }
      ]
    },
    {
      "cell_type": "code",
      "source": [
        "#convert a series to a narray\n",
        "na1 = ps_8.values\n",
        "na1\n",
        "# asi lo estamos convirtiendo a un array. "
      ],
      "metadata": {
        "colab": {
          "base_uri": "https://localhost:8080/"
        },
        "id": "lC2LiO8OpGqG",
        "outputId": "847e2a4f-79cb-4395-bf58-3219c93cdedd"
      },
      "execution_count": null,
      "outputs": [
        {
          "output_type": "execute_result",
          "data": {
            "text/plain": [
              "array(['Honda', 'Toyota', 'Ford', 'Tesla', 'Lucid', 'Rivian'],\n",
              "      dtype=object)"
            ]
          },
          "metadata": {},
          "execution_count": 35
        }
      ]
    },
    {
      "cell_type": "code",
      "source": [
        "type(na1)"
      ],
      "metadata": {
        "colab": {
          "base_uri": "https://localhost:8080/"
        },
        "id": "F-7P5UUSpRTZ",
        "outputId": "df4050db-de2d-4b87-ae13-3e82881beff9"
      },
      "execution_count": null,
      "outputs": [
        {
          "output_type": "execute_result",
          "data": {
            "text/plain": [
              "numpy.ndarray"
            ]
          },
          "metadata": {},
          "execution_count": 36
        }
      ]
    },
    {
      "cell_type": "markdown",
      "source": [
        "## selección filtro de series. "
      ],
      "metadata": {
        "id": "C18HPXQCp2E3"
      }
    },
    {
      "cell_type": "code",
      "source": [
        "#Selecting data from a pandas series\n",
        "L1 = ['Honda', 'Toyota','Ford','Tesla','Lucid','Rivian']\n",
        "ps_8 = pd.Series(data = L1)\n",
        "ps_8[2]\n",
        "# aqui lo que hacemos en convertirlo a una serie y posteriormente decimos\n",
        "# que esta es igual al campo 2 que es Ford"
      ],
      "metadata": {
        "colab": {
          "base_uri": "https://localhost:8080/",
          "height": 34
        },
        "id": "SnDeQoyXp7yR",
        "outputId": "810d5f28-d3c4-4627-cc18-783d3befd4dc"
      },
      "execution_count": null,
      "outputs": [
        {
          "output_type": "execute_result",
          "data": {
            "text/plain": [
              "'Ford'"
            ],
            "application/vnd.google.colaboratory.intrinsic+json": {
              "type": "string"
            }
          },
          "metadata": {},
          "execution_count": 37
        }
      ]
    },
    {
      "cell_type": "code",
      "source": [
        "ps_8[0:2]\n",
        "# aqui le decimos que nos desde el 0 al 2"
      ],
      "metadata": {
        "colab": {
          "base_uri": "https://localhost:8080/"
        },
        "id": "ZTWi74tyqB6U",
        "outputId": "51febe5b-1f4b-446a-9d54-2a1de3c9232e"
      },
      "execution_count": null,
      "outputs": [
        {
          "output_type": "execute_result",
          "data": {
            "text/plain": [
              "0     Honda\n",
              "1    Toyota\n",
              "dtype: object"
            ]
          },
          "metadata": {},
          "execution_count": 38
        }
      ]
    },
    {
      "cell_type": "code",
      "source": [
        "ps_8[-1:]\n",
        "# aqui le decimos que nos de el último"
      ],
      "metadata": {
        "colab": {
          "base_uri": "https://localhost:8080/"
        },
        "id": "zMk0qBg6qV4V",
        "outputId": "66f53b1b-2868-4868-9999-10b3f44352c2"
      },
      "execution_count": null,
      "outputs": [
        {
          "output_type": "execute_result",
          "data": {
            "text/plain": [
              "5    Rivian\n",
              "dtype: object"
            ]
          },
          "metadata": {},
          "execution_count": 39
        }
      ]
    },
    {
      "cell_type": "markdown",
      "source": [
        "## series la más grande y la más pequeña. el mayor y el menor"
      ],
      "metadata": {
        "id": "fDtubOBKqn9L"
      }
    },
    {
      "cell_type": "code",
      "source": [
        "countries_population = {\"Italy\": 59000000, \"France\": 65000000,\n",
        "                        \"Malta\": 434000, \"Maldives\": 434000,\n",
        "                        \"Brunei\": 434000, \"Iceland\": 337000,\n",
        "                        \"Nauru\": 11300, \"Tuvalu\": 11300,\n",
        "                        \"Anguilla\": 11300, \"Montserrat\": 5200}\n",
        "ps_9 = pd.Series(countries_population)\n",
        "\n",
        "#The n largest elements where n=5 by default.\n",
        "ps_9.nlargest()\n",
        "# lo primero que hacemos en convertirlo a series y posteriormente\n",
        "# le pedimos que nos de las mayores"
      ],
      "metadata": {
        "colab": {
          "base_uri": "https://localhost:8080/"
        },
        "id": "vh1sWos9qv7P",
        "outputId": "b70ff8f9-16da-4472-c66d-9c8b0d14752b"
      },
      "execution_count": null,
      "outputs": [
        {
          "output_type": "execute_result",
          "data": {
            "text/plain": [
              "France      65000000\n",
              "Italy       59000000\n",
              "Malta         434000\n",
              "Maldives      434000\n",
              "Brunei        434000\n",
              "dtype: int64"
            ]
          },
          "metadata": {},
          "execution_count": 40
        }
      ]
    },
    {
      "cell_type": "code",
      "source": [
        "ps_9.nsmallest() # aqui que nos de las menores. "
      ],
      "metadata": {
        "colab": {
          "base_uri": "https://localhost:8080/"
        },
        "id": "3EMmldhOq3kQ",
        "outputId": "48d8d468-407a-452d-c8de-ead66f33d3d6"
      },
      "execution_count": null,
      "outputs": [
        {
          "output_type": "execute_result",
          "data": {
            "text/plain": [
              "Montserrat      5200\n",
              "Nauru          11300\n",
              "Tuvalu         11300\n",
              "Anguilla       11300\n",
              "Iceland       337000\n",
              "dtype: int64"
            ]
          },
          "metadata": {},
          "execution_count": 41
        }
      ]
    },
    {
      "cell_type": "markdown",
      "source": [
        "# DATAFRAME"
      ],
      "metadata": {
        "id": "L199cGs2ra0y"
      }
    },
    {
      "cell_type": "markdown",
      "source": [
        "un dataframe es un conjunto de series. "
      ],
      "metadata": {
        "id": "numGRQTerdwA"
      }
    },
    {
      "cell_type": "markdown",
      "source": [
        "## crear un dataframe a partir de un diccionario"
      ],
      "metadata": {
        "id": "Jw8WxHlrripB"
      }
    },
    {
      "cell_type": "code",
      "source": [
        "cars_df = pd.DataFrame({'Cars':['Honda', 'Toyota','Ford','Tesla','Lucid','Rivian'], \n",
        "                        'Type':['IC', 'IC', 'IC', 'EV', 'EV', 'EV']})\n",
        "cars_df\n",
        "\n",
        "# aqui creamos un dataframe a partir de un diccionario"
      ],
      "metadata": {
        "colab": {
          "base_uri": "https://localhost:8080/",
          "height": 231
        },
        "id": "g17yEPbprFoR",
        "outputId": "fdb02d48-4374-4cd0-9bd1-3180d025c596"
      },
      "execution_count": null,
      "outputs": [
        {
          "output_type": "execute_result",
          "data": {
            "text/plain": [
              "     Cars Type\n",
              "0   Honda   IC\n",
              "1  Toyota   IC\n",
              "2    Ford   IC\n",
              "3   Tesla   EV\n",
              "4   Lucid   EV\n",
              "5  Rivian   EV"
            ],
            "text/html": [
              "\n",
              "  <div id=\"df-859d5db7-53fa-4ded-a6f9-9226b7970860\">\n",
              "    <div class=\"colab-df-container\">\n",
              "      <div>\n",
              "<style scoped>\n",
              "    .dataframe tbody tr th:only-of-type {\n",
              "        vertical-align: middle;\n",
              "    }\n",
              "\n",
              "    .dataframe tbody tr th {\n",
              "        vertical-align: top;\n",
              "    }\n",
              "\n",
              "    .dataframe thead th {\n",
              "        text-align: right;\n",
              "    }\n",
              "</style>\n",
              "<table border=\"1\" class=\"dataframe\">\n",
              "  <thead>\n",
              "    <tr style=\"text-align: right;\">\n",
              "      <th></th>\n",
              "      <th>Cars</th>\n",
              "      <th>Type</th>\n",
              "    </tr>\n",
              "  </thead>\n",
              "  <tbody>\n",
              "    <tr>\n",
              "      <th>0</th>\n",
              "      <td>Honda</td>\n",
              "      <td>IC</td>\n",
              "    </tr>\n",
              "    <tr>\n",
              "      <th>1</th>\n",
              "      <td>Toyota</td>\n",
              "      <td>IC</td>\n",
              "    </tr>\n",
              "    <tr>\n",
              "      <th>2</th>\n",
              "      <td>Ford</td>\n",
              "      <td>IC</td>\n",
              "    </tr>\n",
              "    <tr>\n",
              "      <th>3</th>\n",
              "      <td>Tesla</td>\n",
              "      <td>EV</td>\n",
              "    </tr>\n",
              "    <tr>\n",
              "      <th>4</th>\n",
              "      <td>Lucid</td>\n",
              "      <td>EV</td>\n",
              "    </tr>\n",
              "    <tr>\n",
              "      <th>5</th>\n",
              "      <td>Rivian</td>\n",
              "      <td>EV</td>\n",
              "    </tr>\n",
              "  </tbody>\n",
              "</table>\n",
              "</div>\n",
              "      <button class=\"colab-df-convert\" onclick=\"convertToInteractive('df-859d5db7-53fa-4ded-a6f9-9226b7970860')\"\n",
              "              title=\"Convert this dataframe to an interactive table.\"\n",
              "              style=\"display:none;\">\n",
              "        \n",
              "  <svg xmlns=\"http://www.w3.org/2000/svg\" height=\"24px\"viewBox=\"0 0 24 24\"\n",
              "       width=\"24px\">\n",
              "    <path d=\"M0 0h24v24H0V0z\" fill=\"none\"/>\n",
              "    <path d=\"M18.56 5.44l.94 2.06.94-2.06 2.06-.94-2.06-.94-.94-2.06-.94 2.06-2.06.94zm-11 1L8.5 8.5l.94-2.06 2.06-.94-2.06-.94L8.5 2.5l-.94 2.06-2.06.94zm10 10l.94 2.06.94-2.06 2.06-.94-2.06-.94-.94-2.06-.94 2.06-2.06.94z\"/><path d=\"M17.41 7.96l-1.37-1.37c-.4-.4-.92-.59-1.43-.59-.52 0-1.04.2-1.43.59L10.3 9.45l-7.72 7.72c-.78.78-.78 2.05 0 2.83L4 21.41c.39.39.9.59 1.41.59.51 0 1.02-.2 1.41-.59l7.78-7.78 2.81-2.81c.8-.78.8-2.07 0-2.86zM5.41 20L4 18.59l7.72-7.72 1.47 1.35L5.41 20z\"/>\n",
              "  </svg>\n",
              "      </button>\n",
              "      \n",
              "  <style>\n",
              "    .colab-df-container {\n",
              "      display:flex;\n",
              "      flex-wrap:wrap;\n",
              "      gap: 12px;\n",
              "    }\n",
              "\n",
              "    .colab-df-convert {\n",
              "      background-color: #E8F0FE;\n",
              "      border: none;\n",
              "      border-radius: 50%;\n",
              "      cursor: pointer;\n",
              "      display: none;\n",
              "      fill: #1967D2;\n",
              "      height: 32px;\n",
              "      padding: 0 0 0 0;\n",
              "      width: 32px;\n",
              "    }\n",
              "\n",
              "    .colab-df-convert:hover {\n",
              "      background-color: #E2EBFA;\n",
              "      box-shadow: 0px 1px 2px rgba(60, 64, 67, 0.3), 0px 1px 3px 1px rgba(60, 64, 67, 0.15);\n",
              "      fill: #174EA6;\n",
              "    }\n",
              "\n",
              "    [theme=dark] .colab-df-convert {\n",
              "      background-color: #3B4455;\n",
              "      fill: #D2E3FC;\n",
              "    }\n",
              "\n",
              "    [theme=dark] .colab-df-convert:hover {\n",
              "      background-color: #434B5C;\n",
              "      box-shadow: 0px 1px 3px 1px rgba(0, 0, 0, 0.15);\n",
              "      filter: drop-shadow(0px 1px 2px rgba(0, 0, 0, 0.3));\n",
              "      fill: #FFFFFF;\n",
              "    }\n",
              "  </style>\n",
              "\n",
              "      <script>\n",
              "        const buttonEl =\n",
              "          document.querySelector('#df-859d5db7-53fa-4ded-a6f9-9226b7970860 button.colab-df-convert');\n",
              "        buttonEl.style.display =\n",
              "          google.colab.kernel.accessAllowed ? 'block' : 'none';\n",
              "\n",
              "        async function convertToInteractive(key) {\n",
              "          const element = document.querySelector('#df-859d5db7-53fa-4ded-a6f9-9226b7970860');\n",
              "          const dataTable =\n",
              "            await google.colab.kernel.invokeFunction('convertToInteractive',\n",
              "                                                     [key], {});\n",
              "          if (!dataTable) return;\n",
              "\n",
              "          const docLinkHtml = 'Like what you see? Visit the ' +\n",
              "            '<a target=\"_blank\" href=https://colab.research.google.com/notebooks/data_table.ipynb>data table notebook</a>'\n",
              "            + ' to learn more about interactive tables.';\n",
              "          element.innerHTML = '';\n",
              "          dataTable['output_type'] = 'display_data';\n",
              "          await google.colab.output.renderOutput(dataTable, element);\n",
              "          const docLink = document.createElement('div');\n",
              "          docLink.innerHTML = docLinkHtml;\n",
              "          element.appendChild(docLink);\n",
              "        }\n",
              "      </script>\n",
              "    </div>\n",
              "  </div>\n",
              "  "
            ]
          },
          "metadata": {},
          "execution_count": 42
        }
      ]
    },
    {
      "cell_type": "markdown",
      "source": [
        "## crear un dattaframe a partir de un array de numpy"
      ],
      "metadata": {
        "id": "sqjrHYMKrx3c"
      }
    },
    {
      "cell_type": "code",
      "source": [
        "#create a dataframe from a numpy array\n",
        "narray_df = pd.DataFrame(np.random.normal(size=(4,5)))\n",
        "narray_df\n"
      ],
      "metadata": {
        "colab": {
          "base_uri": "https://localhost:8080/",
          "height": 170
        },
        "id": "4fVNAzlOrqUv",
        "outputId": "18df3fcb-cba5-47a9-d0e0-ca2e2a927e05"
      },
      "execution_count": null,
      "outputs": [
        {
          "output_type": "execute_result",
          "data": {
            "text/plain": [
              "          0         1         2         3         4\n",
              "0 -0.181697 -0.077436 -1.131699  0.440240 -0.450203\n",
              "1 -2.244374  1.175509 -1.867085  0.994603 -0.395300\n",
              "2  1.362957  1.697703 -0.881242  0.068173 -0.281188\n",
              "3 -0.910329 -0.769775 -0.648142 -0.133076  0.829075"
            ],
            "text/html": [
              "\n",
              "  <div id=\"df-8e2b5c3f-12f6-441b-8d4d-cc491f1a7986\">\n",
              "    <div class=\"colab-df-container\">\n",
              "      <div>\n",
              "<style scoped>\n",
              "    .dataframe tbody tr th:only-of-type {\n",
              "        vertical-align: middle;\n",
              "    }\n",
              "\n",
              "    .dataframe tbody tr th {\n",
              "        vertical-align: top;\n",
              "    }\n",
              "\n",
              "    .dataframe thead th {\n",
              "        text-align: right;\n",
              "    }\n",
              "</style>\n",
              "<table border=\"1\" class=\"dataframe\">\n",
              "  <thead>\n",
              "    <tr style=\"text-align: right;\">\n",
              "      <th></th>\n",
              "      <th>0</th>\n",
              "      <th>1</th>\n",
              "      <th>2</th>\n",
              "      <th>3</th>\n",
              "      <th>4</th>\n",
              "    </tr>\n",
              "  </thead>\n",
              "  <tbody>\n",
              "    <tr>\n",
              "      <th>0</th>\n",
              "      <td>-0.181697</td>\n",
              "      <td>-0.077436</td>\n",
              "      <td>-1.131699</td>\n",
              "      <td>0.440240</td>\n",
              "      <td>-0.450203</td>\n",
              "    </tr>\n",
              "    <tr>\n",
              "      <th>1</th>\n",
              "      <td>-2.244374</td>\n",
              "      <td>1.175509</td>\n",
              "      <td>-1.867085</td>\n",
              "      <td>0.994603</td>\n",
              "      <td>-0.395300</td>\n",
              "    </tr>\n",
              "    <tr>\n",
              "      <th>2</th>\n",
              "      <td>1.362957</td>\n",
              "      <td>1.697703</td>\n",
              "      <td>-0.881242</td>\n",
              "      <td>0.068173</td>\n",
              "      <td>-0.281188</td>\n",
              "    </tr>\n",
              "    <tr>\n",
              "      <th>3</th>\n",
              "      <td>-0.910329</td>\n",
              "      <td>-0.769775</td>\n",
              "      <td>-0.648142</td>\n",
              "      <td>-0.133076</td>\n",
              "      <td>0.829075</td>\n",
              "    </tr>\n",
              "  </tbody>\n",
              "</table>\n",
              "</div>\n",
              "      <button class=\"colab-df-convert\" onclick=\"convertToInteractive('df-8e2b5c3f-12f6-441b-8d4d-cc491f1a7986')\"\n",
              "              title=\"Convert this dataframe to an interactive table.\"\n",
              "              style=\"display:none;\">\n",
              "        \n",
              "  <svg xmlns=\"http://www.w3.org/2000/svg\" height=\"24px\"viewBox=\"0 0 24 24\"\n",
              "       width=\"24px\">\n",
              "    <path d=\"M0 0h24v24H0V0z\" fill=\"none\"/>\n",
              "    <path d=\"M18.56 5.44l.94 2.06.94-2.06 2.06-.94-2.06-.94-.94-2.06-.94 2.06-2.06.94zm-11 1L8.5 8.5l.94-2.06 2.06-.94-2.06-.94L8.5 2.5l-.94 2.06-2.06.94zm10 10l.94 2.06.94-2.06 2.06-.94-2.06-.94-.94-2.06-.94 2.06-2.06.94z\"/><path d=\"M17.41 7.96l-1.37-1.37c-.4-.4-.92-.59-1.43-.59-.52 0-1.04.2-1.43.59L10.3 9.45l-7.72 7.72c-.78.78-.78 2.05 0 2.83L4 21.41c.39.39.9.59 1.41.59.51 0 1.02-.2 1.41-.59l7.78-7.78 2.81-2.81c.8-.78.8-2.07 0-2.86zM5.41 20L4 18.59l7.72-7.72 1.47 1.35L5.41 20z\"/>\n",
              "  </svg>\n",
              "      </button>\n",
              "      \n",
              "  <style>\n",
              "    .colab-df-container {\n",
              "      display:flex;\n",
              "      flex-wrap:wrap;\n",
              "      gap: 12px;\n",
              "    }\n",
              "\n",
              "    .colab-df-convert {\n",
              "      background-color: #E8F0FE;\n",
              "      border: none;\n",
              "      border-radius: 50%;\n",
              "      cursor: pointer;\n",
              "      display: none;\n",
              "      fill: #1967D2;\n",
              "      height: 32px;\n",
              "      padding: 0 0 0 0;\n",
              "      width: 32px;\n",
              "    }\n",
              "\n",
              "    .colab-df-convert:hover {\n",
              "      background-color: #E2EBFA;\n",
              "      box-shadow: 0px 1px 2px rgba(60, 64, 67, 0.3), 0px 1px 3px 1px rgba(60, 64, 67, 0.15);\n",
              "      fill: #174EA6;\n",
              "    }\n",
              "\n",
              "    [theme=dark] .colab-df-convert {\n",
              "      background-color: #3B4455;\n",
              "      fill: #D2E3FC;\n",
              "    }\n",
              "\n",
              "    [theme=dark] .colab-df-convert:hover {\n",
              "      background-color: #434B5C;\n",
              "      box-shadow: 0px 1px 3px 1px rgba(0, 0, 0, 0.15);\n",
              "      filter: drop-shadow(0px 1px 2px rgba(0, 0, 0, 0.3));\n",
              "      fill: #FFFFFF;\n",
              "    }\n",
              "  </style>\n",
              "\n",
              "      <script>\n",
              "        const buttonEl =\n",
              "          document.querySelector('#df-8e2b5c3f-12f6-441b-8d4d-cc491f1a7986 button.colab-df-convert');\n",
              "        buttonEl.style.display =\n",
              "          google.colab.kernel.accessAllowed ? 'block' : 'none';\n",
              "\n",
              "        async function convertToInteractive(key) {\n",
              "          const element = document.querySelector('#df-8e2b5c3f-12f6-441b-8d4d-cc491f1a7986');\n",
              "          const dataTable =\n",
              "            await google.colab.kernel.invokeFunction('convertToInteractive',\n",
              "                                                     [key], {});\n",
              "          if (!dataTable) return;\n",
              "\n",
              "          const docLinkHtml = 'Like what you see? Visit the ' +\n",
              "            '<a target=\"_blank\" href=https://colab.research.google.com/notebooks/data_table.ipynb>data table notebook</a>'\n",
              "            + ' to learn more about interactive tables.';\n",
              "          element.innerHTML = '';\n",
              "          dataTable['output_type'] = 'display_data';\n",
              "          await google.colab.output.renderOutput(dataTable, element);\n",
              "          const docLink = document.createElement('div');\n",
              "          docLink.innerHTML = docLinkHtml;\n",
              "          element.appendChild(docLink);\n",
              "        }\n",
              "      </script>\n",
              "    </div>\n",
              "  </div>\n",
              "  "
            ]
          },
          "metadata": {},
          "execution_count": 43
        }
      ]
    },
    {
      "cell_type": "markdown",
      "source": [
        "## crear un data frame a partir de una serie"
      ],
      "metadata": {
        "id": "fvMY2hQ0sXQA"
      }
    },
    {
      "cell_type": "code",
      "source": [
        "s1 = pd.Series([1,2], index=['a','b'])\n",
        "series_df = pd.DataFrame([s1])\n",
        "series_df"
      ],
      "metadata": {
        "colab": {
          "base_uri": "https://localhost:8080/",
          "height": 78
        },
        "id": "OPrlFUD_sDDE",
        "outputId": "ba2e6334-e891-41b4-836b-15cafa42980d"
      },
      "execution_count": null,
      "outputs": [
        {
          "output_type": "execute_result",
          "data": {
            "text/plain": [
              "   a  b\n",
              "0  1  2"
            ],
            "text/html": [
              "\n",
              "  <div id=\"df-fbc74ccb-e67e-4eea-a3a5-6d9c1b411cd5\">\n",
              "    <div class=\"colab-df-container\">\n",
              "      <div>\n",
              "<style scoped>\n",
              "    .dataframe tbody tr th:only-of-type {\n",
              "        vertical-align: middle;\n",
              "    }\n",
              "\n",
              "    .dataframe tbody tr th {\n",
              "        vertical-align: top;\n",
              "    }\n",
              "\n",
              "    .dataframe thead th {\n",
              "        text-align: right;\n",
              "    }\n",
              "</style>\n",
              "<table border=\"1\" class=\"dataframe\">\n",
              "  <thead>\n",
              "    <tr style=\"text-align: right;\">\n",
              "      <th></th>\n",
              "      <th>a</th>\n",
              "      <th>b</th>\n",
              "    </tr>\n",
              "  </thead>\n",
              "  <tbody>\n",
              "    <tr>\n",
              "      <th>0</th>\n",
              "      <td>1</td>\n",
              "      <td>2</td>\n",
              "    </tr>\n",
              "  </tbody>\n",
              "</table>\n",
              "</div>\n",
              "      <button class=\"colab-df-convert\" onclick=\"convertToInteractive('df-fbc74ccb-e67e-4eea-a3a5-6d9c1b411cd5')\"\n",
              "              title=\"Convert this dataframe to an interactive table.\"\n",
              "              style=\"display:none;\">\n",
              "        \n",
              "  <svg xmlns=\"http://www.w3.org/2000/svg\" height=\"24px\"viewBox=\"0 0 24 24\"\n",
              "       width=\"24px\">\n",
              "    <path d=\"M0 0h24v24H0V0z\" fill=\"none\"/>\n",
              "    <path d=\"M18.56 5.44l.94 2.06.94-2.06 2.06-.94-2.06-.94-.94-2.06-.94 2.06-2.06.94zm-11 1L8.5 8.5l.94-2.06 2.06-.94-2.06-.94L8.5 2.5l-.94 2.06-2.06.94zm10 10l.94 2.06.94-2.06 2.06-.94-2.06-.94-.94-2.06-.94 2.06-2.06.94z\"/><path d=\"M17.41 7.96l-1.37-1.37c-.4-.4-.92-.59-1.43-.59-.52 0-1.04.2-1.43.59L10.3 9.45l-7.72 7.72c-.78.78-.78 2.05 0 2.83L4 21.41c.39.39.9.59 1.41.59.51 0 1.02-.2 1.41-.59l7.78-7.78 2.81-2.81c.8-.78.8-2.07 0-2.86zM5.41 20L4 18.59l7.72-7.72 1.47 1.35L5.41 20z\"/>\n",
              "  </svg>\n",
              "      </button>\n",
              "      \n",
              "  <style>\n",
              "    .colab-df-container {\n",
              "      display:flex;\n",
              "      flex-wrap:wrap;\n",
              "      gap: 12px;\n",
              "    }\n",
              "\n",
              "    .colab-df-convert {\n",
              "      background-color: #E8F0FE;\n",
              "      border: none;\n",
              "      border-radius: 50%;\n",
              "      cursor: pointer;\n",
              "      display: none;\n",
              "      fill: #1967D2;\n",
              "      height: 32px;\n",
              "      padding: 0 0 0 0;\n",
              "      width: 32px;\n",
              "    }\n",
              "\n",
              "    .colab-df-convert:hover {\n",
              "      background-color: #E2EBFA;\n",
              "      box-shadow: 0px 1px 2px rgba(60, 64, 67, 0.3), 0px 1px 3px 1px rgba(60, 64, 67, 0.15);\n",
              "      fill: #174EA6;\n",
              "    }\n",
              "\n",
              "    [theme=dark] .colab-df-convert {\n",
              "      background-color: #3B4455;\n",
              "      fill: #D2E3FC;\n",
              "    }\n",
              "\n",
              "    [theme=dark] .colab-df-convert:hover {\n",
              "      background-color: #434B5C;\n",
              "      box-shadow: 0px 1px 3px 1px rgba(0, 0, 0, 0.15);\n",
              "      filter: drop-shadow(0px 1px 2px rgba(0, 0, 0, 0.3));\n",
              "      fill: #FFFFFF;\n",
              "    }\n",
              "  </style>\n",
              "\n",
              "      <script>\n",
              "        const buttonEl =\n",
              "          document.querySelector('#df-fbc74ccb-e67e-4eea-a3a5-6d9c1b411cd5 button.colab-df-convert');\n",
              "        buttonEl.style.display =\n",
              "          google.colab.kernel.accessAllowed ? 'block' : 'none';\n",
              "\n",
              "        async function convertToInteractive(key) {\n",
              "          const element = document.querySelector('#df-fbc74ccb-e67e-4eea-a3a5-6d9c1b411cd5');\n",
              "          const dataTable =\n",
              "            await google.colab.kernel.invokeFunction('convertToInteractive',\n",
              "                                                     [key], {});\n",
              "          if (!dataTable) return;\n",
              "\n",
              "          const docLinkHtml = 'Like what you see? Visit the ' +\n",
              "            '<a target=\"_blank\" href=https://colab.research.google.com/notebooks/data_table.ipynb>data table notebook</a>'\n",
              "            + ' to learn more about interactive tables.';\n",
              "          element.innerHTML = '';\n",
              "          dataTable['output_type'] = 'display_data';\n",
              "          await google.colab.output.renderOutput(dataTable, element);\n",
              "          const docLink = document.createElement('div');\n",
              "          docLink.innerHTML = docLinkHtml;\n",
              "          element.appendChild(docLink);\n",
              "        }\n",
              "      </script>\n",
              "    </div>\n",
              "  </div>\n",
              "  "
            ]
          },
          "metadata": {},
          "execution_count": 47
        }
      ]
    },
    {
      "cell_type": "code",
      "source": [
        "list_of_series = [pd.Series([1,2],index=['a','b']), pd.Series([3,4],index=['a','c'])]\n",
        "series2_df = pd.concat(list_of_series, axis=1).transpose()\n",
        "series2_df\n"
      ],
      "metadata": {
        "colab": {
          "base_uri": "https://localhost:8080/",
          "height": 109
        },
        "id": "lCIhZ93Ssmov",
        "outputId": "472f9516-03f6-4f54-8910-f3a46db62dc9"
      },
      "execution_count": null,
      "outputs": [
        {
          "output_type": "execute_result",
          "data": {
            "text/plain": [
              "     a    b    c\n",
              "0  1.0  2.0  NaN\n",
              "1  3.0  NaN  4.0"
            ],
            "text/html": [
              "\n",
              "  <div id=\"df-1c1752f4-7c71-4b82-9e4f-dd83a1ae4d96\">\n",
              "    <div class=\"colab-df-container\">\n",
              "      <div>\n",
              "<style scoped>\n",
              "    .dataframe tbody tr th:only-of-type {\n",
              "        vertical-align: middle;\n",
              "    }\n",
              "\n",
              "    .dataframe tbody tr th {\n",
              "        vertical-align: top;\n",
              "    }\n",
              "\n",
              "    .dataframe thead th {\n",
              "        text-align: right;\n",
              "    }\n",
              "</style>\n",
              "<table border=\"1\" class=\"dataframe\">\n",
              "  <thead>\n",
              "    <tr style=\"text-align: right;\">\n",
              "      <th></th>\n",
              "      <th>a</th>\n",
              "      <th>b</th>\n",
              "      <th>c</th>\n",
              "    </tr>\n",
              "  </thead>\n",
              "  <tbody>\n",
              "    <tr>\n",
              "      <th>0</th>\n",
              "      <td>1.0</td>\n",
              "      <td>2.0</td>\n",
              "      <td>NaN</td>\n",
              "    </tr>\n",
              "    <tr>\n",
              "      <th>1</th>\n",
              "      <td>3.0</td>\n",
              "      <td>NaN</td>\n",
              "      <td>4.0</td>\n",
              "    </tr>\n",
              "  </tbody>\n",
              "</table>\n",
              "</div>\n",
              "      <button class=\"colab-df-convert\" onclick=\"convertToInteractive('df-1c1752f4-7c71-4b82-9e4f-dd83a1ae4d96')\"\n",
              "              title=\"Convert this dataframe to an interactive table.\"\n",
              "              style=\"display:none;\">\n",
              "        \n",
              "  <svg xmlns=\"http://www.w3.org/2000/svg\" height=\"24px\"viewBox=\"0 0 24 24\"\n",
              "       width=\"24px\">\n",
              "    <path d=\"M0 0h24v24H0V0z\" fill=\"none\"/>\n",
              "    <path d=\"M18.56 5.44l.94 2.06.94-2.06 2.06-.94-2.06-.94-.94-2.06-.94 2.06-2.06.94zm-11 1L8.5 8.5l.94-2.06 2.06-.94-2.06-.94L8.5 2.5l-.94 2.06-2.06.94zm10 10l.94 2.06.94-2.06 2.06-.94-2.06-.94-.94-2.06-.94 2.06-2.06.94z\"/><path d=\"M17.41 7.96l-1.37-1.37c-.4-.4-.92-.59-1.43-.59-.52 0-1.04.2-1.43.59L10.3 9.45l-7.72 7.72c-.78.78-.78 2.05 0 2.83L4 21.41c.39.39.9.59 1.41.59.51 0 1.02-.2 1.41-.59l7.78-7.78 2.81-2.81c.8-.78.8-2.07 0-2.86zM5.41 20L4 18.59l7.72-7.72 1.47 1.35L5.41 20z\"/>\n",
              "  </svg>\n",
              "      </button>\n",
              "      \n",
              "  <style>\n",
              "    .colab-df-container {\n",
              "      display:flex;\n",
              "      flex-wrap:wrap;\n",
              "      gap: 12px;\n",
              "    }\n",
              "\n",
              "    .colab-df-convert {\n",
              "      background-color: #E8F0FE;\n",
              "      border: none;\n",
              "      border-radius: 50%;\n",
              "      cursor: pointer;\n",
              "      display: none;\n",
              "      fill: #1967D2;\n",
              "      height: 32px;\n",
              "      padding: 0 0 0 0;\n",
              "      width: 32px;\n",
              "    }\n",
              "\n",
              "    .colab-df-convert:hover {\n",
              "      background-color: #E2EBFA;\n",
              "      box-shadow: 0px 1px 2px rgba(60, 64, 67, 0.3), 0px 1px 3px 1px rgba(60, 64, 67, 0.15);\n",
              "      fill: #174EA6;\n",
              "    }\n",
              "\n",
              "    [theme=dark] .colab-df-convert {\n",
              "      background-color: #3B4455;\n",
              "      fill: #D2E3FC;\n",
              "    }\n",
              "\n",
              "    [theme=dark] .colab-df-convert:hover {\n",
              "      background-color: #434B5C;\n",
              "      box-shadow: 0px 1px 3px 1px rgba(0, 0, 0, 0.15);\n",
              "      filter: drop-shadow(0px 1px 2px rgba(0, 0, 0, 0.3));\n",
              "      fill: #FFFFFF;\n",
              "    }\n",
              "  </style>\n",
              "\n",
              "      <script>\n",
              "        const buttonEl =\n",
              "          document.querySelector('#df-1c1752f4-7c71-4b82-9e4f-dd83a1ae4d96 button.colab-df-convert');\n",
              "        buttonEl.style.display =\n",
              "          google.colab.kernel.accessAllowed ? 'block' : 'none';\n",
              "\n",
              "        async function convertToInteractive(key) {\n",
              "          const element = document.querySelector('#df-1c1752f4-7c71-4b82-9e4f-dd83a1ae4d96');\n",
              "          const dataTable =\n",
              "            await google.colab.kernel.invokeFunction('convertToInteractive',\n",
              "                                                     [key], {});\n",
              "          if (!dataTable) return;\n",
              "\n",
              "          const docLinkHtml = 'Like what you see? Visit the ' +\n",
              "            '<a target=\"_blank\" href=https://colab.research.google.com/notebooks/data_table.ipynb>data table notebook</a>'\n",
              "            + ' to learn more about interactive tables.';\n",
              "          element.innerHTML = '';\n",
              "          dataTable['output_type'] = 'display_data';\n",
              "          await google.colab.output.renderOutput(dataTable, element);\n",
              "          const docLink = document.createElement('div');\n",
              "          docLink.innerHTML = docLinkHtml;\n",
              "          element.appendChild(docLink);\n",
              "        }\n",
              "      </script>\n",
              "    </div>\n",
              "  </div>\n",
              "  "
            ]
          },
          "metadata": {},
          "execution_count": 49
        }
      ]
    },
    {
      "cell_type": "markdown",
      "source": [
        "## tipos de archivos que se pueden leer con pandas. "
      ],
      "metadata": {
        "id": "RxtRMa6atFUM"
      }
    },
    {
      "cell_type": "code",
      "source": [
        "json_df = pd.read_json(\"test.json\", dtype={\"A\": \"float32\", \"bools\": \"int8\"}).dtypes"
      ],
      "metadata": {
        "id": "NmTJJxIttvOu"
      },
      "execution_count": null,
      "outputs": []
    },
    {
      "cell_type": "code",
      "source": [
        "#Read from a url\n",
        "url = \"https://www.fdic.gov/resources/resolutions/bank-failures/failed-bank-list\"\n",
        "dfs = pd.read_html(url)"
      ],
      "metadata": {
        "id": "P1JNUeqat8pd"
      },
      "execution_count": null,
      "outputs": []
    },
    {
      "cell_type": "code",
      "source": [
        "#Read from a xml file\n",
        "df = pd.read_xml(xml)"
      ],
      "metadata": {
        "id": "ZDUnfMzHuSmy"
      },
      "execution_count": null,
      "outputs": []
    },
    {
      "cell_type": "code",
      "source": [
        "\n",
        "#Reading from a excel file\n",
        "xlsx = pd.ExcelFile(\"path_to_file.xls\")\n",
        "df = pd.read_excel(xlsx, \"Sheet1\")"
      ],
      "metadata": {
        "id": "cgnyB6aQuW2u"
      },
      "execution_count": null,
      "outputs": []
    },
    {
      "cell_type": "markdown",
      "source": [
        "## leer datos de una base de datos SQL, tanto en la tabla como en la consulta."
      ],
      "metadata": {
        "id": "gvz_Ag3IumiX"
      }
    },
    {
      "cell_type": "code",
      "source": [
        "pd.read_sql_table(\"datos\", motor)\n",
        "pd.read_sql_query(\"SELECT * FROM data\", motor)\n",
        "pd.read_sql_query(\"SELECT id, Col_1, Col_2 FROM data WHERE id = 42;\", engine)"
      ],
      "metadata": {
        "id": "qpLrIZWsud-9"
      },
      "execution_count": null,
      "outputs": []
    },
    {
      "cell_type": "markdown",
      "source": [
        "## leer varios archivos y crear un unico dataframe"
      ],
      "metadata": {
        "id": "yI8vEgwTuy4s"
      }
    },
    {
      "cell_type": "code",
      "source": [
        "import glob\n",
        "\n",
        "import os\n",
        "\n",
        "files = glob.glob(\"file_*.csv\")\n",
        "\n",
        "result = pd.concat([pd.read_csv(f) for f in files], ignore_index=True)\n",
        "# lo que hacemos aqui es leer todos los archivos que empiecen por el nombre\n",
        "# que estimemos y luego lo que hacemos es concatenarlos todos. "
      ],
      "metadata": {
        "id": "LGYsLTCru3Mq"
      },
      "execution_count": null,
      "outputs": []
    },
    {
      "cell_type": "markdown",
      "source": [
        "## leer un archivo trozo por trozo"
      ],
      "metadata": {
        "id": "xy2WoIRDvTHs"
      }
    },
    {
      "cell_type": "code",
      "source": [
        "\n",
        "tp = pd.read_csv('large_dataset.csv', iterator=True, chunksize=1000)  # gives TextFileReader, which is 3iterable with chunks of 1000 rows.\n",
        "df = pd.concat(tp, ignore_index=True)"
      ],
      "metadata": {
        "id": "lEEAQoeSvWji"
      },
      "execution_count": null,
      "outputs": []
    },
    {
      "cell_type": "markdown",
      "source": [
        "## mandar un datagrame a un archivo csv"
      ],
      "metadata": {
        "id": "wWpQmPQavlZ-"
      }
    },
    {
      "cell_type": "code",
      "source": [
        "# write to a csv file with an index\n",
        "housing_df.to_csv(\"/content/sample_data/california_housing_test1.csv\", index = True)\n",
        "#default is True\n",
        "# write to a csv file without an index\n",
        "housing_df.to_csv(\"/content/sample_data/california_housing_test2.csv\", index = False)"
      ],
      "metadata": {
        "id": "oWrmmgYtvn_r"
      },
      "execution_count": null,
      "outputs": []
    },
    {
      "cell_type": "markdown",
      "source": [
        "## comando para obtener información del dataframe"
      ],
      "metadata": {
        "id": "6Tjqpev_v6_h"
      }
    },
    {
      "cell_type": "code",
      "source": [
        "housing_df.info()\n",
        "\n",
        "housing_df.describe()\n",
        "\n",
        "housing_df.shape\n",
        "\n",
        "housing_df.tail(5)\n",
        "\n",
        "housing_df.head(5)\n"
      ],
      "metadata": {
        "id": "t1U-3RbbvvK2"
      },
      "execution_count": null,
      "outputs": []
    },
    {
      "cell_type": "markdown",
      "source": [
        "## crear un indice, reestablecer el indice al indice original. "
      ],
      "metadata": {
        "id": "vKoTKw-kwYJW"
      }
    },
    {
      "cell_type": "code",
      "source": [
        "df.set_index(\"la columna que yo determine\", inplace =True ) \n",
        "df.reset_index(inplace=True)\n",
        "# ahora lo que vamos a hacer es establecer el indice al leer el archivo\n",
        "housing_df = pd.read_csv(\"el archivo que sea\", index_col = \"Ciudad\")\n",
        "# por defecto es false, es decir cuando sea false, tenemos que asignarle\n",
        "# una variable"
      ],
      "metadata": {
        "id": "lo8hBKcmwFZl"
      },
      "execution_count": null,
      "outputs": []
    },
    {
      "cell_type": "markdown",
      "source": [
        "## selección de una o varias columnas del dataframe"
      ],
      "metadata": {
        "id": "bt0Ikc-sxhth"
      }
    },
    {
      "cell_type": "code",
      "source": [
        "#The titanic dataset is available in Kaggle\n",
        "titanic_df = pd.read_csv(\"/content/sample_data/train.csv\")\n",
        "\n",
        "gender_df = titanic_df['Sex']\n",
        "\n",
        "type(gender_df)\n",
        "pandas.core.series.Series\n",
        "\n",
        "#Select multiple columns\n",
        "name_df = titanic_df[['Name','Sex']]\n",
        "type(name_df)\n",
        "\n",
        "pandas.core.frame.DataFrame"
      ],
      "metadata": {
        "id": "EhjiL1Lgxkj0"
      },
      "execution_count": null,
      "outputs": []
    },
    {
      "cell_type": "markdown",
      "source": [
        "## operaciones con columna. añadir e insertar una columna. "
      ],
      "metadata": {
        "id": "vam8-UO3YZla"
      }
    },
    {
      "cell_type": "code",
      "source": [
        "import pandas as pd\n",
        "# Add a column\n",
        "cars_df = pd.DataFrame({'Cars':['Honda', 'Toyota','Ford','Tesla','Lucid','Rivian'], \n",
        "                        'Type':['IC', 'IC', 'IC', 'EV', 'EV', 'EV']})"
      ],
      "metadata": {
        "id": "iAQnihFCYzdP"
      },
      "execution_count": null,
      "outputs": []
    },
    {
      "cell_type": "code",
      "source": [
        "cars_df['Price'] = [30000, 35000,25000,50000,120000,90000]\n",
        "cars_df"
      ],
      "metadata": {
        "colab": {
          "base_uri": "https://localhost:8080/",
          "height": 231
        },
        "id": "vA85c9FyY4Ve",
        "outputId": "71026d43-cea3-49e9-ab53-f07e200c5cad"
      },
      "execution_count": null,
      "outputs": [
        {
          "output_type": "execute_result",
          "data": {
            "text/plain": [
              "     Cars Type   Price\n",
              "0   Honda   IC   30000\n",
              "1  Toyota   IC   35000\n",
              "2    Ford   IC   25000\n",
              "3   Tesla   EV   50000\n",
              "4   Lucid   EV  120000\n",
              "5  Rivian   EV   90000"
            ],
            "text/html": [
              "\n",
              "  <div id=\"df-da07dda4-a8e2-44fa-b1ca-4bd8f7bc61aa\">\n",
              "    <div class=\"colab-df-container\">\n",
              "      <div>\n",
              "<style scoped>\n",
              "    .dataframe tbody tr th:only-of-type {\n",
              "        vertical-align: middle;\n",
              "    }\n",
              "\n",
              "    .dataframe tbody tr th {\n",
              "        vertical-align: top;\n",
              "    }\n",
              "\n",
              "    .dataframe thead th {\n",
              "        text-align: right;\n",
              "    }\n",
              "</style>\n",
              "<table border=\"1\" class=\"dataframe\">\n",
              "  <thead>\n",
              "    <tr style=\"text-align: right;\">\n",
              "      <th></th>\n",
              "      <th>Cars</th>\n",
              "      <th>Type</th>\n",
              "      <th>Price</th>\n",
              "    </tr>\n",
              "  </thead>\n",
              "  <tbody>\n",
              "    <tr>\n",
              "      <th>0</th>\n",
              "      <td>Honda</td>\n",
              "      <td>IC</td>\n",
              "      <td>30000</td>\n",
              "    </tr>\n",
              "    <tr>\n",
              "      <th>1</th>\n",
              "      <td>Toyota</td>\n",
              "      <td>IC</td>\n",
              "      <td>35000</td>\n",
              "    </tr>\n",
              "    <tr>\n",
              "      <th>2</th>\n",
              "      <td>Ford</td>\n",
              "      <td>IC</td>\n",
              "      <td>25000</td>\n",
              "    </tr>\n",
              "    <tr>\n",
              "      <th>3</th>\n",
              "      <td>Tesla</td>\n",
              "      <td>EV</td>\n",
              "      <td>50000</td>\n",
              "    </tr>\n",
              "    <tr>\n",
              "      <th>4</th>\n",
              "      <td>Lucid</td>\n",
              "      <td>EV</td>\n",
              "      <td>120000</td>\n",
              "    </tr>\n",
              "    <tr>\n",
              "      <th>5</th>\n",
              "      <td>Rivian</td>\n",
              "      <td>EV</td>\n",
              "      <td>90000</td>\n",
              "    </tr>\n",
              "  </tbody>\n",
              "</table>\n",
              "</div>\n",
              "      <button class=\"colab-df-convert\" onclick=\"convertToInteractive('df-da07dda4-a8e2-44fa-b1ca-4bd8f7bc61aa')\"\n",
              "              title=\"Convert this dataframe to an interactive table.\"\n",
              "              style=\"display:none;\">\n",
              "        \n",
              "  <svg xmlns=\"http://www.w3.org/2000/svg\" height=\"24px\"viewBox=\"0 0 24 24\"\n",
              "       width=\"24px\">\n",
              "    <path d=\"M0 0h24v24H0V0z\" fill=\"none\"/>\n",
              "    <path d=\"M18.56 5.44l.94 2.06.94-2.06 2.06-.94-2.06-.94-.94-2.06-.94 2.06-2.06.94zm-11 1L8.5 8.5l.94-2.06 2.06-.94-2.06-.94L8.5 2.5l-.94 2.06-2.06.94zm10 10l.94 2.06.94-2.06 2.06-.94-2.06-.94-.94-2.06-.94 2.06-2.06.94z\"/><path d=\"M17.41 7.96l-1.37-1.37c-.4-.4-.92-.59-1.43-.59-.52 0-1.04.2-1.43.59L10.3 9.45l-7.72 7.72c-.78.78-.78 2.05 0 2.83L4 21.41c.39.39.9.59 1.41.59.51 0 1.02-.2 1.41-.59l7.78-7.78 2.81-2.81c.8-.78.8-2.07 0-2.86zM5.41 20L4 18.59l7.72-7.72 1.47 1.35L5.41 20z\"/>\n",
              "  </svg>\n",
              "      </button>\n",
              "      \n",
              "  <style>\n",
              "    .colab-df-container {\n",
              "      display:flex;\n",
              "      flex-wrap:wrap;\n",
              "      gap: 12px;\n",
              "    }\n",
              "\n",
              "    .colab-df-convert {\n",
              "      background-color: #E8F0FE;\n",
              "      border: none;\n",
              "      border-radius: 50%;\n",
              "      cursor: pointer;\n",
              "      display: none;\n",
              "      fill: #1967D2;\n",
              "      height: 32px;\n",
              "      padding: 0 0 0 0;\n",
              "      width: 32px;\n",
              "    }\n",
              "\n",
              "    .colab-df-convert:hover {\n",
              "      background-color: #E2EBFA;\n",
              "      box-shadow: 0px 1px 2px rgba(60, 64, 67, 0.3), 0px 1px 3px 1px rgba(60, 64, 67, 0.15);\n",
              "      fill: #174EA6;\n",
              "    }\n",
              "\n",
              "    [theme=dark] .colab-df-convert {\n",
              "      background-color: #3B4455;\n",
              "      fill: #D2E3FC;\n",
              "    }\n",
              "\n",
              "    [theme=dark] .colab-df-convert:hover {\n",
              "      background-color: #434B5C;\n",
              "      box-shadow: 0px 1px 3px 1px rgba(0, 0, 0, 0.15);\n",
              "      filter: drop-shadow(0px 1px 2px rgba(0, 0, 0, 0.3));\n",
              "      fill: #FFFFFF;\n",
              "    }\n",
              "  </style>\n",
              "\n",
              "      <script>\n",
              "        const buttonEl =\n",
              "          document.querySelector('#df-da07dda4-a8e2-44fa-b1ca-4bd8f7bc61aa button.colab-df-convert');\n",
              "        buttonEl.style.display =\n",
              "          google.colab.kernel.accessAllowed ? 'block' : 'none';\n",
              "\n",
              "        async function convertToInteractive(key) {\n",
              "          const element = document.querySelector('#df-da07dda4-a8e2-44fa-b1ca-4bd8f7bc61aa');\n",
              "          const dataTable =\n",
              "            await google.colab.kernel.invokeFunction('convertToInteractive',\n",
              "                                                     [key], {});\n",
              "          if (!dataTable) return;\n",
              "\n",
              "          const docLinkHtml = 'Like what you see? Visit the ' +\n",
              "            '<a target=\"_blank\" href=https://colab.research.google.com/notebooks/data_table.ipynb>data table notebook</a>'\n",
              "            + ' to learn more about interactive tables.';\n",
              "          element.innerHTML = '';\n",
              "          dataTable['output_type'] = 'display_data';\n",
              "          await google.colab.output.renderOutput(dataTable, element);\n",
              "          const docLink = document.createElement('div');\n",
              "          docLink.innerHTML = docLinkHtml;\n",
              "          element.appendChild(docLink);\n",
              "        }\n",
              "      </script>\n",
              "    </div>\n",
              "  </div>\n",
              "  "
            ]
          },
          "metadata": {},
          "execution_count": 2
        }
      ]
    },
    {
      "cell_type": "code",
      "source": [
        "#Insert a column based on the index.Here index 1\n",
        "cars_df = pd.DataFrame({'Cars':['Honda', 'Toyota','Ford','Tesla','Lucid','Rivian'], \n",
        "                        'Type':['IC', 'IC', 'IC', 'EV', 'EV', 'EV']})"
      ],
      "metadata": {
        "id": "s_vIdLGhY-jP"
      },
      "execution_count": null,
      "outputs": []
    },
    {
      "cell_type": "code",
      "source": [
        "cars_df.insert(1,column = 'Price', value = [30000, 35000,25000,50000,120000,90000] )\n",
        "cars_df"
      ],
      "metadata": {
        "colab": {
          "base_uri": "https://localhost:8080/",
          "height": 231
        },
        "id": "Mh5vNsc_ZKet",
        "outputId": "1b3fae21-1969-40c5-bedd-d5d463b3023a"
      },
      "execution_count": null,
      "outputs": [
        {
          "output_type": "execute_result",
          "data": {
            "text/plain": [
              "     Cars   Price Type\n",
              "0   Honda   30000   IC\n",
              "1  Toyota   35000   IC\n",
              "2    Ford   25000   IC\n",
              "3   Tesla   50000   EV\n",
              "4   Lucid  120000   EV\n",
              "5  Rivian   90000   EV"
            ],
            "text/html": [
              "\n",
              "  <div id=\"df-b3f04f26-3f6c-459f-8039-bb8bba32320a\">\n",
              "    <div class=\"colab-df-container\">\n",
              "      <div>\n",
              "<style scoped>\n",
              "    .dataframe tbody tr th:only-of-type {\n",
              "        vertical-align: middle;\n",
              "    }\n",
              "\n",
              "    .dataframe tbody tr th {\n",
              "        vertical-align: top;\n",
              "    }\n",
              "\n",
              "    .dataframe thead th {\n",
              "        text-align: right;\n",
              "    }\n",
              "</style>\n",
              "<table border=\"1\" class=\"dataframe\">\n",
              "  <thead>\n",
              "    <tr style=\"text-align: right;\">\n",
              "      <th></th>\n",
              "      <th>Cars</th>\n",
              "      <th>Price</th>\n",
              "      <th>Type</th>\n",
              "    </tr>\n",
              "  </thead>\n",
              "  <tbody>\n",
              "    <tr>\n",
              "      <th>0</th>\n",
              "      <td>Honda</td>\n",
              "      <td>30000</td>\n",
              "      <td>IC</td>\n",
              "    </tr>\n",
              "    <tr>\n",
              "      <th>1</th>\n",
              "      <td>Toyota</td>\n",
              "      <td>35000</td>\n",
              "      <td>IC</td>\n",
              "    </tr>\n",
              "    <tr>\n",
              "      <th>2</th>\n",
              "      <td>Ford</td>\n",
              "      <td>25000</td>\n",
              "      <td>IC</td>\n",
              "    </tr>\n",
              "    <tr>\n",
              "      <th>3</th>\n",
              "      <td>Tesla</td>\n",
              "      <td>50000</td>\n",
              "      <td>EV</td>\n",
              "    </tr>\n",
              "    <tr>\n",
              "      <th>4</th>\n",
              "      <td>Lucid</td>\n",
              "      <td>120000</td>\n",
              "      <td>EV</td>\n",
              "    </tr>\n",
              "    <tr>\n",
              "      <th>5</th>\n",
              "      <td>Rivian</td>\n",
              "      <td>90000</td>\n",
              "      <td>EV</td>\n",
              "    </tr>\n",
              "  </tbody>\n",
              "</table>\n",
              "</div>\n",
              "      <button class=\"colab-df-convert\" onclick=\"convertToInteractive('df-b3f04f26-3f6c-459f-8039-bb8bba32320a')\"\n",
              "              title=\"Convert this dataframe to an interactive table.\"\n",
              "              style=\"display:none;\">\n",
              "        \n",
              "  <svg xmlns=\"http://www.w3.org/2000/svg\" height=\"24px\"viewBox=\"0 0 24 24\"\n",
              "       width=\"24px\">\n",
              "    <path d=\"M0 0h24v24H0V0z\" fill=\"none\"/>\n",
              "    <path d=\"M18.56 5.44l.94 2.06.94-2.06 2.06-.94-2.06-.94-.94-2.06-.94 2.06-2.06.94zm-11 1L8.5 8.5l.94-2.06 2.06-.94-2.06-.94L8.5 2.5l-.94 2.06-2.06.94zm10 10l.94 2.06.94-2.06 2.06-.94-2.06-.94-.94-2.06-.94 2.06-2.06.94z\"/><path d=\"M17.41 7.96l-1.37-1.37c-.4-.4-.92-.59-1.43-.59-.52 0-1.04.2-1.43.59L10.3 9.45l-7.72 7.72c-.78.78-.78 2.05 0 2.83L4 21.41c.39.39.9.59 1.41.59.51 0 1.02-.2 1.41-.59l7.78-7.78 2.81-2.81c.8-.78.8-2.07 0-2.86zM5.41 20L4 18.59l7.72-7.72 1.47 1.35L5.41 20z\"/>\n",
              "  </svg>\n",
              "      </button>\n",
              "      \n",
              "  <style>\n",
              "    .colab-df-container {\n",
              "      display:flex;\n",
              "      flex-wrap:wrap;\n",
              "      gap: 12px;\n",
              "    }\n",
              "\n",
              "    .colab-df-convert {\n",
              "      background-color: #E8F0FE;\n",
              "      border: none;\n",
              "      border-radius: 50%;\n",
              "      cursor: pointer;\n",
              "      display: none;\n",
              "      fill: #1967D2;\n",
              "      height: 32px;\n",
              "      padding: 0 0 0 0;\n",
              "      width: 32px;\n",
              "    }\n",
              "\n",
              "    .colab-df-convert:hover {\n",
              "      background-color: #E2EBFA;\n",
              "      box-shadow: 0px 1px 2px rgba(60, 64, 67, 0.3), 0px 1px 3px 1px rgba(60, 64, 67, 0.15);\n",
              "      fill: #174EA6;\n",
              "    }\n",
              "\n",
              "    [theme=dark] .colab-df-convert {\n",
              "      background-color: #3B4455;\n",
              "      fill: #D2E3FC;\n",
              "    }\n",
              "\n",
              "    [theme=dark] .colab-df-convert:hover {\n",
              "      background-color: #434B5C;\n",
              "      box-shadow: 0px 1px 3px 1px rgba(0, 0, 0, 0.15);\n",
              "      filter: drop-shadow(0px 1px 2px rgba(0, 0, 0, 0.3));\n",
              "      fill: #FFFFFF;\n",
              "    }\n",
              "  </style>\n",
              "\n",
              "      <script>\n",
              "        const buttonEl =\n",
              "          document.querySelector('#df-b3f04f26-3f6c-459f-8039-bb8bba32320a button.colab-df-convert');\n",
              "        buttonEl.style.display =\n",
              "          google.colab.kernel.accessAllowed ? 'block' : 'none';\n",
              "\n",
              "        async function convertToInteractive(key) {\n",
              "          const element = document.querySelector('#df-b3f04f26-3f6c-459f-8039-bb8bba32320a');\n",
              "          const dataTable =\n",
              "            await google.colab.kernel.invokeFunction('convertToInteractive',\n",
              "                                                     [key], {});\n",
              "          if (!dataTable) return;\n",
              "\n",
              "          const docLinkHtml = 'Like what you see? Visit the ' +\n",
              "            '<a target=\"_blank\" href=https://colab.research.google.com/notebooks/data_table.ipynb>data table notebook</a>'\n",
              "            + ' to learn more about interactive tables.';\n",
              "          element.innerHTML = '';\n",
              "          dataTable['output_type'] = 'display_data';\n",
              "          await google.colab.output.renderOutput(dataTable, element);\n",
              "          const docLink = document.createElement('div');\n",
              "          docLink.innerHTML = docLinkHtml;\n",
              "          element.appendChild(docLink);\n",
              "        }\n",
              "      </script>\n",
              "    </div>\n",
              "  </div>\n",
              "  "
            ]
          },
          "metadata": {},
          "execution_count": 4
        }
      ]
    },
    {
      "cell_type": "markdown",
      "source": [
        "## como eliminar una columna del dataframe"
      ],
      "metadata": {
        "id": "FhdoSNQDZkB1"
      }
    },
    {
      "cell_type": "code",
      "source": [
        "cars_df = pd.DataFrame({'Cars':['Honda', 'Toyota','Ford','Tesla','Lucid','Rivian'], \n",
        "                        'Type':['IC', 'IC', 'IC', 'EV', 'EV', 'EV'],\n",
        "                        'Price':[30000, 35000,25000,50000,120000,90000]})\n",
        "#Delete a column\n",
        "del cars_df['Price']\n",
        "cars_df\n",
        "\n",
        "#Delete a column using drop\n",
        "cars_df.drop(labels = [\"Type\"], axis = 1, inplace = True)\n",
        "cars_df\n",
        "  \n",
        "#delete a column using pop and store that column in a another variable.\n",
        "prices_df = cars_df.pop('Price')\n",
        "prices_df\n",
        " "
      ],
      "metadata": {
        "id": "EM4Na-YAZR-O"
      },
      "execution_count": null,
      "outputs": []
    },
    {
      "cell_type": "code",
      "source": [
        "cars_df = pd.DataFrame({'Cars':['Honda', 'Toyota','Ford','Tesla','Lucid','Rivian'], \n",
        "                        'Type':['IC', 'IC', 'IC', 'EV', 'EV', 'EV'],\n",
        "                        'Price':[30000, 35000,25000,50000,120000,90000]})"
      ],
      "metadata": {
        "id": "d9_wxCSuZsUA"
      },
      "execution_count": null,
      "outputs": []
    },
    {
      "cell_type": "code",
      "source": [
        "#Delete a column\n",
        "del cars_df['Price']\n",
        "cars_df"
      ],
      "metadata": {
        "colab": {
          "base_uri": "https://localhost:8080/",
          "height": 231
        },
        "id": "zHE-F4mpZx-V",
        "outputId": "9ef652d7-0bee-4eac-d5f5-0243c3b968cc"
      },
      "execution_count": null,
      "outputs": [
        {
          "output_type": "execute_result",
          "data": {
            "text/plain": [
              "     Cars Type\n",
              "0   Honda   IC\n",
              "1  Toyota   IC\n",
              "2    Ford   IC\n",
              "3   Tesla   EV\n",
              "4   Lucid   EV\n",
              "5  Rivian   EV"
            ],
            "text/html": [
              "\n",
              "  <div id=\"df-a9a87354-99c3-45fc-830c-7013a51b080b\">\n",
              "    <div class=\"colab-df-container\">\n",
              "      <div>\n",
              "<style scoped>\n",
              "    .dataframe tbody tr th:only-of-type {\n",
              "        vertical-align: middle;\n",
              "    }\n",
              "\n",
              "    .dataframe tbody tr th {\n",
              "        vertical-align: top;\n",
              "    }\n",
              "\n",
              "    .dataframe thead th {\n",
              "        text-align: right;\n",
              "    }\n",
              "</style>\n",
              "<table border=\"1\" class=\"dataframe\">\n",
              "  <thead>\n",
              "    <tr style=\"text-align: right;\">\n",
              "      <th></th>\n",
              "      <th>Cars</th>\n",
              "      <th>Type</th>\n",
              "    </tr>\n",
              "  </thead>\n",
              "  <tbody>\n",
              "    <tr>\n",
              "      <th>0</th>\n",
              "      <td>Honda</td>\n",
              "      <td>IC</td>\n",
              "    </tr>\n",
              "    <tr>\n",
              "      <th>1</th>\n",
              "      <td>Toyota</td>\n",
              "      <td>IC</td>\n",
              "    </tr>\n",
              "    <tr>\n",
              "      <th>2</th>\n",
              "      <td>Ford</td>\n",
              "      <td>IC</td>\n",
              "    </tr>\n",
              "    <tr>\n",
              "      <th>3</th>\n",
              "      <td>Tesla</td>\n",
              "      <td>EV</td>\n",
              "    </tr>\n",
              "    <tr>\n",
              "      <th>4</th>\n",
              "      <td>Lucid</td>\n",
              "      <td>EV</td>\n",
              "    </tr>\n",
              "    <tr>\n",
              "      <th>5</th>\n",
              "      <td>Rivian</td>\n",
              "      <td>EV</td>\n",
              "    </tr>\n",
              "  </tbody>\n",
              "</table>\n",
              "</div>\n",
              "      <button class=\"colab-df-convert\" onclick=\"convertToInteractive('df-a9a87354-99c3-45fc-830c-7013a51b080b')\"\n",
              "              title=\"Convert this dataframe to an interactive table.\"\n",
              "              style=\"display:none;\">\n",
              "        \n",
              "  <svg xmlns=\"http://www.w3.org/2000/svg\" height=\"24px\"viewBox=\"0 0 24 24\"\n",
              "       width=\"24px\">\n",
              "    <path d=\"M0 0h24v24H0V0z\" fill=\"none\"/>\n",
              "    <path d=\"M18.56 5.44l.94 2.06.94-2.06 2.06-.94-2.06-.94-.94-2.06-.94 2.06-2.06.94zm-11 1L8.5 8.5l.94-2.06 2.06-.94-2.06-.94L8.5 2.5l-.94 2.06-2.06.94zm10 10l.94 2.06.94-2.06 2.06-.94-2.06-.94-.94-2.06-.94 2.06-2.06.94z\"/><path d=\"M17.41 7.96l-1.37-1.37c-.4-.4-.92-.59-1.43-.59-.52 0-1.04.2-1.43.59L10.3 9.45l-7.72 7.72c-.78.78-.78 2.05 0 2.83L4 21.41c.39.39.9.59 1.41.59.51 0 1.02-.2 1.41-.59l7.78-7.78 2.81-2.81c.8-.78.8-2.07 0-2.86zM5.41 20L4 18.59l7.72-7.72 1.47 1.35L5.41 20z\"/>\n",
              "  </svg>\n",
              "      </button>\n",
              "      \n",
              "  <style>\n",
              "    .colab-df-container {\n",
              "      display:flex;\n",
              "      flex-wrap:wrap;\n",
              "      gap: 12px;\n",
              "    }\n",
              "\n",
              "    .colab-df-convert {\n",
              "      background-color: #E8F0FE;\n",
              "      border: none;\n",
              "      border-radius: 50%;\n",
              "      cursor: pointer;\n",
              "      display: none;\n",
              "      fill: #1967D2;\n",
              "      height: 32px;\n",
              "      padding: 0 0 0 0;\n",
              "      width: 32px;\n",
              "    }\n",
              "\n",
              "    .colab-df-convert:hover {\n",
              "      background-color: #E2EBFA;\n",
              "      box-shadow: 0px 1px 2px rgba(60, 64, 67, 0.3), 0px 1px 3px 1px rgba(60, 64, 67, 0.15);\n",
              "      fill: #174EA6;\n",
              "    }\n",
              "\n",
              "    [theme=dark] .colab-df-convert {\n",
              "      background-color: #3B4455;\n",
              "      fill: #D2E3FC;\n",
              "    }\n",
              "\n",
              "    [theme=dark] .colab-df-convert:hover {\n",
              "      background-color: #434B5C;\n",
              "      box-shadow: 0px 1px 3px 1px rgba(0, 0, 0, 0.15);\n",
              "      filter: drop-shadow(0px 1px 2px rgba(0, 0, 0, 0.3));\n",
              "      fill: #FFFFFF;\n",
              "    }\n",
              "  </style>\n",
              "\n",
              "      <script>\n",
              "        const buttonEl =\n",
              "          document.querySelector('#df-a9a87354-99c3-45fc-830c-7013a51b080b button.colab-df-convert');\n",
              "        buttonEl.style.display =\n",
              "          google.colab.kernel.accessAllowed ? 'block' : 'none';\n",
              "\n",
              "        async function convertToInteractive(key) {\n",
              "          const element = document.querySelector('#df-a9a87354-99c3-45fc-830c-7013a51b080b');\n",
              "          const dataTable =\n",
              "            await google.colab.kernel.invokeFunction('convertToInteractive',\n",
              "                                                     [key], {});\n",
              "          if (!dataTable) return;\n",
              "\n",
              "          const docLinkHtml = 'Like what you see? Visit the ' +\n",
              "            '<a target=\"_blank\" href=https://colab.research.google.com/notebooks/data_table.ipynb>data table notebook</a>'\n",
              "            + ' to learn more about interactive tables.';\n",
              "          element.innerHTML = '';\n",
              "          dataTable['output_type'] = 'display_data';\n",
              "          await google.colab.output.renderOutput(dataTable, element);\n",
              "          const docLink = document.createElement('div');\n",
              "          docLink.innerHTML = docLinkHtml;\n",
              "          element.appendChild(docLink);\n",
              "        }\n",
              "      </script>\n",
              "    </div>\n",
              "  </div>\n",
              "  "
            ]
          },
          "metadata": {},
          "execution_count": 6
        }
      ]
    },
    {
      "cell_type": "code",
      "source": [
        "cars_df = pd.DataFrame({'Cars':['Honda', 'Toyota','Ford','Tesla','Lucid','Rivian'], \n",
        "                        'Type':['IC', 'IC', 'IC', 'EV', 'EV', 'EV'],\n",
        "                        'Price':[30000, 35000,25000,50000,120000,90000]})"
      ],
      "metadata": {
        "id": "vngSgXSaZ85W"
      },
      "execution_count": null,
      "outputs": []
    },
    {
      "cell_type": "code",
      "source": [
        "#delete a column using pop and store that column in a another variable.\n",
        "prices_df = cars_df.pop('Price')\n",
        "prices_df"
      ],
      "metadata": {
        "colab": {
          "base_uri": "https://localhost:8080/"
        },
        "id": "FvmzE1OOZ2H_",
        "outputId": "86e7b09a-e35c-40e0-ea7f-802a3b592517"
      },
      "execution_count": null,
      "outputs": [
        {
          "output_type": "execute_result",
          "data": {
            "text/plain": [
              "0     30000\n",
              "1     35000\n",
              "2     25000\n",
              "3     50000\n",
              "4    120000\n",
              "5     90000\n",
              "Name: Price, dtype: int64"
            ]
          },
          "metadata": {},
          "execution_count": 9
        }
      ]
    },
    {
      "cell_type": "markdown",
      "source": [
        "## como filtrar la columna y las filas del dataframe usando loc."
      ],
      "metadata": {
        "id": "Hf_Hky9baJnf"
      }
    },
    {
      "cell_type": "code",
      "source": [
        "#Set the index based on the passenger class\n",
        "titanic_df = pd.read_csv(\"/content/sample_data/train.csv\", index_col='Pclass')\n",
        "titanic_df\n",
        "#select the passengers travel in class 1\n",
        "titanic_df.loc[1,'Name']\n",
        "\n",
        "Pclass\n",
        "1    Cumings, Mrs. John Bradley (Florence Briggs Th...\n",
        "1         Futrelle, Mrs. Jacques Heath (Lily May Peel)\n",
        "1                              McCarthy, Mr. Timothy J\n",
        "1                             Bonnell, Miss. Elizabeth\n",
        "1                         Sloper, Mr. William Thompson\n",
        "                           ...                        \n",
        "1     Beckwith, Mrs. Richard Leonard (Sallie Monypeny)\n",
        "1                             Carlsson, Mr. Frans Olof\n",
        "1       Potter, Mrs. Thomas Jr (Lily Alexenia Wilson)\n",
        "1                         Graham, Miss. Margaret Edith\n",
        "1                                Behr, Mr. Karl Howell\n",
        "Name: Name, Length: 216, dtype: object"
      ],
      "metadata": {
        "id": "FVHbwGp8Z6-w"
      },
      "execution_count": null,
      "outputs": []
    },
    {
      "cell_type": "markdown",
      "source": [
        "## como filtrar la columna y las filas del dataframe usando iloc"
      ],
      "metadata": {
        "id": "XI6Toaefa4tS"
      }
    },
    {
      "cell_type": "code",
      "source": [
        "import pandas as pd\n",
        "titanic_df = pd.read_csv(\"/content/sample_data/train.csv\")\n",
        "titanic_df\n",
        "\n",
        "#use iloc to filter the dataframe\n",
        "titanic_df.loc[1:5]\n",
        "\n",
        "titanic_df.iloc[[10, 24, 90]]\n",
        "\n",
        "titanic_df.iloc[:9]\n",
        "\n",
        "titanic_df.iloc[90, 0:5]\n",
        "\n",
        "PassengerId                      91\n",
        "Survived                          0\n",
        "Pclass                            3\n",
        "Name           Christmann, Mr. Emil\n",
        "Sex                            male\n",
        "Name: 90, dtype: object"
      ],
      "metadata": {
        "id": "bD-VBdlva-Qn"
      },
      "execution_count": null,
      "outputs": []
    },
    {
      "cell_type": "markdown",
      "source": [
        "## como cambiar los valores de las columnas del dataframe"
      ],
      "metadata": {
        "id": "8DTTqbs3fUGU"
      }
    },
    {
      "cell_type": "code",
      "source": [
        "# por ejemplo tomemos el conjunto de datos de titanic. queremos crear una \n",
        "# nueva columna llamada nueva tarifa y añadir 10 euros a la tarifa existente\n",
        "titanic_df[@New Fare] = titanic_df[\"Fare\"].add(10)\n",
        "# asi de esta manera lo haríamos"
      ],
      "metadata": {
        "id": "Qq0QTt4YfYSW"
      },
      "execution_count": null,
      "outputs": []
    },
    {
      "cell_type": "code",
      "source": [
        "# si tenemos la edad equivocada de la persona y quieres corregrila con la \n",
        "# edad adecuada. podemos usar iloc y lueego darle indice\n",
        "titanic_df.iloc[4,5] = 99"
      ],
      "metadata": {
        "id": "l-p5k8QIf7up"
      },
      "execution_count": null,
      "outputs": []
    },
    {
      "cell_type": "markdown",
      "source": [
        "## como ordenar un dataframe"
      ],
      "metadata": {
        "id": "oeGHX_acgUUR"
      }
    },
    {
      "cell_type": "code",
      "source": [
        "import pandas as pd\n",
        "titanic_df = pd.read_csv(\"/content/sample_data/train.csv\")\n",
        "#Use the Titanic dataset from kaggle-sort by values-sort the column Age\n",
        "titanic_df.sort_values(by = 'Age', inplace = True) \n",
        "titanic_df\n",
        "\n",
        "#Sort by index\n",
        "titanic_df.sort_index(inplace = True) "
      ],
      "metadata": {
        "id": "BzY6_D-JgWtu"
      },
      "execution_count": null,
      "outputs": []
    },
    {
      "cell_type": "markdown",
      "source": [
        "## como aplicar una función a un dataframe. por ejemplo queremos calcular el impuesto sobre la tarifa. "
      ],
      "metadata": {
        "id": "L2FOlsO2gnn3"
      }
    },
    {
      "cell_type": "code",
      "source": [
        "#Calculate the tax of about 20% of the fare.Create a new column called Tax\n",
        "def tax_cal(fare):\n",
        "  return fare * 0.2\n",
        "\n",
        "titanic_df['Tax'] = titanic_df['Fare'].apply(tax_cal)\n",
        "titanic_df\n",
        "\n",
        "#output\n",
        "\n",
        "\tPassengerId\tSurvived\tName\tSex\tAge\tSibSp\tParch\tTicket\tFare\tCabin\tEmbarked\tTax\n",
        "Pclass\t\t\t\t\t\t\t\t\t\t\t\t\n",
        "1\t749\t0\tMarvin, Mr. Daniel Warner\tmale\t19.0\t1\t0\t113773\t53.1000\tD30\tS\t10.62000\n",
        "1\t271\t0\tCairns, Mr. Alexander\tmale\tNaN\t0\t0\t113798\t31.0000\tNaN\tS\t6.20000\n",
        "1\t600\t1\tDuff Gordon, Sir. Cosmo Edmund (\"Mr Morgan\")\tmale\t49.0\t1\t0\tPC 17485\t56.9292\tA20\tC\t11.3858"
      ],
      "metadata": {
        "id": "eeScIxQ7gvrh"
      },
      "execution_count": null,
      "outputs": []
    },
    {
      "cell_type": "markdown",
      "source": [
        "## como eliminars las filas duplicadas en el dataframe"
      ],
      "metadata": {
        "id": "3Yk0xi5Ng2tZ"
      }
    },
    {
      "cell_type": "code",
      "source": [
        "DataFrame.drop_duplicates(subset=None, keep=\"first\", implace=False,\n",
        "                          ignore_index=False)\n",
        "# first significa que quite todas menos la primera coincidencia\n",
        "# last significaría que quitara todas menos la última"
      ],
      "metadata": {
        "id": "J86EA959g6We"
      },
      "execution_count": null,
      "outputs": []
    },
    {
      "cell_type": "markdown",
      "source": [
        "## como haceer el filtrado del dataframe. "
      ],
      "metadata": {
        "id": "kDWpqwshhfY7"
      }
    },
    {
      "cell_type": "code",
      "source": [
        "#Select all the passenger records who are 70 and above.\n",
        "import pandas as pd\n",
        "titanic_df = pd.read_csv(\"/content/sample_data/train.csv\")\n",
        "age50_df = titanic_df[ (titanic_df['Age'] >= 70.0) ]\n",
        "age50_df\n",
        "\n",
        "#Output\n",
        "1 to 7 of 7 entries\n",
        "Filter\n",
        "\n",
        "index\tPassengerId\tSurvived\tPclass\tName\tSex\tAge\tSibSp\tParch\tTicket\tFare\tCabin\tEmbarked\n",
        "96\t97\t0\t1\tGoldschmidt, Mr. George B\tmale\t71.0\t0\t0\tPC 17754\t34.6542\tA5\tC\n",
        "116\t117\t0\t3\tConnors, Mr. Patrick\tmale\t70.5\t0\t0\t370369\t7.75\tNaN\tQ\n",
        "493\t494\t0\t1\tArtagaveytia, Mr. Ramon\tmale\t71.0\t0\t0\tPC 17609\t49.5042\tNaN\tC\n",
        "630\t631\t1\t1\tBarkworth, Mr. Algernon Henry Wilson\tmale\t80.0\t0\t0\t27042\t30.0\tA23\tS\n",
        "672\t673\t0\t2\tMitchell, Mr. Henry Michael\tmale\t70.0\t0\t0\tC.A. 24580\t10.5\tNaN\tS\n",
        "745\t746\t0\t1\tCrosby, Capt. Edward Gifford\tmale\t70.0\t1\t1\tWE/P 5735\t71.0\tB22\tS\n",
        "851\t852\t0\t3\tSvensson, Mr. Johan\tmale\t74.0\t0\t0\t347060\t7.775\tNaN\tS"
      ],
      "metadata": {
        "id": "XQfO8ilvhh2G"
      },
      "execution_count": null,
      "outputs": []
    },
    {
      "cell_type": "code",
      "source": [
        "#Using multiple logical operators\n",
        "#Use & for 'And'\n",
        "#Use | for 'Or'\n",
        "import pandas as pd\n",
        "titanic_df = pd.read_csv(\"/content/sample_data/train.csv\")\n",
        "age50_class1_df = titanic_df[(titanic_df.Age >= 50) & (titanic_df.Pclass == 1)]\n",
        "age50_class1_df"
      ],
      "metadata": {
        "id": "rU-waVIWhpNM"
      },
      "execution_count": null,
      "outputs": []
    },
    {
      "cell_type": "code",
      "source": [
        "#Use isin method\n",
        "import pandas as pd\n",
        "titanic_df = pd.read_csv(\"/content/sample_data/train.csv\")\n",
        "Last_Name = ['McCarthy, Mr. Timothy J','Fortune, Mr. Mark','Douglas']\n",
        "titanic_df[titanic_df.Name.isin(Last_Name)]"
      ],
      "metadata": {
        "id": "N1hkZlGShufO"
      },
      "execution_count": null,
      "outputs": []
    },
    {
      "cell_type": "code",
      "source": [
        "titanic_df[~titanic_df.Name.str.startswith(‘H’)]\n",
        "# así por ejemplo estariamos diciendo que queremos todos los nombres\n",
        "# que empiecen por h. "
      ],
      "metadata": {
        "id": "lBXDQjTGhzW3"
      },
      "execution_count": null,
      "outputs": []
    },
    {
      "cell_type": "code",
      "source": [
        "import pandas as pd\n",
        "titanic_df = pd.read_csv(\"/content/sample_data/train.csv\")\n",
        "w_filter = titanic_df['Age'] >= 70.0\n",
        "titanic_df.where(w_filter, inplace=True)\n",
        "titanic_df\n",
        "# esto también es filtrado pero con la clausula where."
      ],
      "metadata": {
        "id": "-hHGF5cwiCrq"
      },
      "execution_count": null,
      "outputs": []
    },
    {
      "cell_type": "markdown",
      "source": [
        "## quitar los valores nulos. "
      ],
      "metadata": {
        "id": "jKIhd4m5lSos"
      }
    },
    {
      "cell_type": "code",
      "source": [
        "# en este caso utilizaos any or all\n",
        "\n",
        "import pandas as pd\n",
        "titanic_df = pd.read_csv(\"/content/sample_data/train.csv\")\n",
        "titanic_df.dropna(how = 'any', inplace = True)\n",
        "titanic_df.shape\n",
        "\n",
        "import pandas as pd\n",
        "titanic_df = pd.read_csv(\"/content/sample_data/train.csv\")\n",
        "titanic_df.dropna(how = 'all', inplace = True)\n",
        "titanic_df.shape"
      ],
      "metadata": {
        "id": "SFFn2vyIlXLr"
      },
      "execution_count": null,
      "outputs": []
    },
    {
      "cell_type": "code",
      "source": [
        "# también lo podemos hacer para columnas específicas\n",
        "import pandas as pd\n",
        "titanic_df = pd.read_csv(“/content/sample_data/train.csv”)\n",
        "titanic_df.dropna(how = ‘any’, inplace = True, subset = [‘Age’, ‘Fare’])\n",
        "titanic_df.shape"
      ],
      "metadata": {
        "id": "v3W-dpmdlxvo"
      },
      "execution_count": null,
      "outputs": []
    },
    {
      "cell_type": "markdown",
      "source": [
        "## rellenar los valores nulos con un valor"
      ],
      "metadata": {
        "id": "qVfKuDQRmHOb"
      }
    },
    {
      "cell_type": "code",
      "source": [
        "#Now all the age null values are replaced by the mean\n",
        "import pandas as pd\n",
        "titanic_df = pd.read_csv(\"/content/sample_data/train.csv\")\n",
        "titanic_df[\"Age\"].fillna(titanic_df[\"Age\"].mean(), inplace = True)\n",
        "titanic_df.isnull().sum()\n",
        "\n",
        "PassengerId      0\n",
        "Survived         0\n",
        "Pclass           0\n",
        "Name             0\n",
        "Sex              0\n",
        "Age              0\n",
        "SibSp            0\n",
        "Parch            0\n",
        "Ticket           0\n",
        "Fare             0\n",
        "Cabin          687\n",
        "Embarked         2\n",
        "dtype: int64"
      ],
      "metadata": {
        "id": "ySEFDaEBmKFh"
      },
      "execution_count": null,
      "outputs": []
    },
    {
      "cell_type": "code",
      "source": [
        "# con esto lo que hacemos es analizar unos datos de manera aleatoria. \n",
        "\n",
        "import pandas as pd\n",
        "df = pd.DataFrame({'num_legs': [2, 4, 8, 0],\n",
        "                   'num_wings': [2, 0, 0, 0],\n",
        "                   'num_specimen_seen': [10, 2, 1, 8]},\n",
        "                  index=['falcon', 'dog', 'spider', 'fish'])\n",
        "df.sample(frac=0.5, replace=True, random_state=1)\n",
        "\n",
        "Output:\n",
        "\tnum_legs\tnum_wings\tnum_specimen_seen\n",
        "dog\t\t4\t\t0\t\t\t2\n",
        "fish\t0\t\t0\t"
      ],
      "metadata": {
        "id": "KYHsghBmmPkO"
      },
      "execution_count": null,
      "outputs": []
    },
    {
      "cell_type": "markdown",
      "source": [
        "## renombrar columnas de un dataframe"
      ],
      "metadata": {
        "id": "OigxzNC_ml0A"
      }
    },
    {
      "cell_type": "code",
      "source": [
        "#Change the column name\n",
        "df = pd.DataFrame({\"A\": [1, 2, 3], \"B\": [4, 5, 6]})"
      ],
      "metadata": {
        "id": "7J1hlXEtmyxi"
      },
      "execution_count": null,
      "outputs": []
    },
    {
      "cell_type": "code",
      "source": [
        "df.rename(columns={\"A\": \"a\", \"B\": \"c\"})"
      ],
      "metadata": {
        "colab": {
          "base_uri": "https://localhost:8080/",
          "height": 140
        },
        "id": "G9OkbAvtm1oB",
        "outputId": "0076fcf8-404c-47e7-9bb4-8608aef6a3f2"
      },
      "execution_count": null,
      "outputs": [
        {
          "output_type": "execute_result",
          "data": {
            "text/plain": [
              "   a  c\n",
              "0  1  4\n",
              "1  2  5\n",
              "2  3  6"
            ],
            "text/html": [
              "\n",
              "  <div id=\"df-6b99c36b-f57b-4621-8cc0-3c8358b6e63b\">\n",
              "    <div class=\"colab-df-container\">\n",
              "      <div>\n",
              "<style scoped>\n",
              "    .dataframe tbody tr th:only-of-type {\n",
              "        vertical-align: middle;\n",
              "    }\n",
              "\n",
              "    .dataframe tbody tr th {\n",
              "        vertical-align: top;\n",
              "    }\n",
              "\n",
              "    .dataframe thead th {\n",
              "        text-align: right;\n",
              "    }\n",
              "</style>\n",
              "<table border=\"1\" class=\"dataframe\">\n",
              "  <thead>\n",
              "    <tr style=\"text-align: right;\">\n",
              "      <th></th>\n",
              "      <th>a</th>\n",
              "      <th>c</th>\n",
              "    </tr>\n",
              "  </thead>\n",
              "  <tbody>\n",
              "    <tr>\n",
              "      <th>0</th>\n",
              "      <td>1</td>\n",
              "      <td>4</td>\n",
              "    </tr>\n",
              "    <tr>\n",
              "      <th>1</th>\n",
              "      <td>2</td>\n",
              "      <td>5</td>\n",
              "    </tr>\n",
              "    <tr>\n",
              "      <th>2</th>\n",
              "      <td>3</td>\n",
              "      <td>6</td>\n",
              "    </tr>\n",
              "  </tbody>\n",
              "</table>\n",
              "</div>\n",
              "      <button class=\"colab-df-convert\" onclick=\"convertToInteractive('df-6b99c36b-f57b-4621-8cc0-3c8358b6e63b')\"\n",
              "              title=\"Convert this dataframe to an interactive table.\"\n",
              "              style=\"display:none;\">\n",
              "        \n",
              "  <svg xmlns=\"http://www.w3.org/2000/svg\" height=\"24px\"viewBox=\"0 0 24 24\"\n",
              "       width=\"24px\">\n",
              "    <path d=\"M0 0h24v24H0V0z\" fill=\"none\"/>\n",
              "    <path d=\"M18.56 5.44l.94 2.06.94-2.06 2.06-.94-2.06-.94-.94-2.06-.94 2.06-2.06.94zm-11 1L8.5 8.5l.94-2.06 2.06-.94-2.06-.94L8.5 2.5l-.94 2.06-2.06.94zm10 10l.94 2.06.94-2.06 2.06-.94-2.06-.94-.94-2.06-.94 2.06-2.06.94z\"/><path d=\"M17.41 7.96l-1.37-1.37c-.4-.4-.92-.59-1.43-.59-.52 0-1.04.2-1.43.59L10.3 9.45l-7.72 7.72c-.78.78-.78 2.05 0 2.83L4 21.41c.39.39.9.59 1.41.59.51 0 1.02-.2 1.41-.59l7.78-7.78 2.81-2.81c.8-.78.8-2.07 0-2.86zM5.41 20L4 18.59l7.72-7.72 1.47 1.35L5.41 20z\"/>\n",
              "  </svg>\n",
              "      </button>\n",
              "      \n",
              "  <style>\n",
              "    .colab-df-container {\n",
              "      display:flex;\n",
              "      flex-wrap:wrap;\n",
              "      gap: 12px;\n",
              "    }\n",
              "\n",
              "    .colab-df-convert {\n",
              "      background-color: #E8F0FE;\n",
              "      border: none;\n",
              "      border-radius: 50%;\n",
              "      cursor: pointer;\n",
              "      display: none;\n",
              "      fill: #1967D2;\n",
              "      height: 32px;\n",
              "      padding: 0 0 0 0;\n",
              "      width: 32px;\n",
              "    }\n",
              "\n",
              "    .colab-df-convert:hover {\n",
              "      background-color: #E2EBFA;\n",
              "      box-shadow: 0px 1px 2px rgba(60, 64, 67, 0.3), 0px 1px 3px 1px rgba(60, 64, 67, 0.15);\n",
              "      fill: #174EA6;\n",
              "    }\n",
              "\n",
              "    [theme=dark] .colab-df-convert {\n",
              "      background-color: #3B4455;\n",
              "      fill: #D2E3FC;\n",
              "    }\n",
              "\n",
              "    [theme=dark] .colab-df-convert:hover {\n",
              "      background-color: #434B5C;\n",
              "      box-shadow: 0px 1px 3px 1px rgba(0, 0, 0, 0.15);\n",
              "      filter: drop-shadow(0px 1px 2px rgba(0, 0, 0, 0.3));\n",
              "      fill: #FFFFFF;\n",
              "    }\n",
              "  </style>\n",
              "\n",
              "      <script>\n",
              "        const buttonEl =\n",
              "          document.querySelector('#df-6b99c36b-f57b-4621-8cc0-3c8358b6e63b button.colab-df-convert');\n",
              "        buttonEl.style.display =\n",
              "          google.colab.kernel.accessAllowed ? 'block' : 'none';\n",
              "\n",
              "        async function convertToInteractive(key) {\n",
              "          const element = document.querySelector('#df-6b99c36b-f57b-4621-8cc0-3c8358b6e63b');\n",
              "          const dataTable =\n",
              "            await google.colab.kernel.invokeFunction('convertToInteractive',\n",
              "                                                     [key], {});\n",
              "          if (!dataTable) return;\n",
              "\n",
              "          const docLinkHtml = 'Like what you see? Visit the ' +\n",
              "            '<a target=\"_blank\" href=https://colab.research.google.com/notebooks/data_table.ipynb>data table notebook</a>'\n",
              "            + ' to learn more about interactive tables.';\n",
              "          element.innerHTML = '';\n",
              "          dataTable['output_type'] = 'display_data';\n",
              "          await google.colab.output.renderOutput(dataTable, element);\n",
              "          const docLink = document.createElement('div');\n",
              "          docLink.innerHTML = docLinkHtml;\n",
              "          element.appendChild(docLink);\n",
              "        }\n",
              "      </script>\n",
              "    </div>\n",
              "  </div>\n",
              "  "
            ]
          },
          "metadata": {},
          "execution_count": 31
        }
      ]
    },
    {
      "cell_type": "code",
      "source": [
        "#Rename the index\n",
        "\n",
        "df.rename(index={0: \"x\", 1: \"y\", 2: \"z\"})"
      ],
      "metadata": {
        "colab": {
          "base_uri": "https://localhost:8080/",
          "height": 140
        },
        "id": "jC-DZUqSm3yd",
        "outputId": "406b33dc-b39c-42ea-daaf-4ff501e999a3"
      },
      "execution_count": null,
      "outputs": [
        {
          "output_type": "execute_result",
          "data": {
            "text/plain": [
              "   A  B\n",
              "x  1  4\n",
              "y  2  5\n",
              "z  3  6"
            ],
            "text/html": [
              "\n",
              "  <div id=\"df-96dbc36a-926b-432e-8d09-865e87a05ba5\">\n",
              "    <div class=\"colab-df-container\">\n",
              "      <div>\n",
              "<style scoped>\n",
              "    .dataframe tbody tr th:only-of-type {\n",
              "        vertical-align: middle;\n",
              "    }\n",
              "\n",
              "    .dataframe tbody tr th {\n",
              "        vertical-align: top;\n",
              "    }\n",
              "\n",
              "    .dataframe thead th {\n",
              "        text-align: right;\n",
              "    }\n",
              "</style>\n",
              "<table border=\"1\" class=\"dataframe\">\n",
              "  <thead>\n",
              "    <tr style=\"text-align: right;\">\n",
              "      <th></th>\n",
              "      <th>A</th>\n",
              "      <th>B</th>\n",
              "    </tr>\n",
              "  </thead>\n",
              "  <tbody>\n",
              "    <tr>\n",
              "      <th>x</th>\n",
              "      <td>1</td>\n",
              "      <td>4</td>\n",
              "    </tr>\n",
              "    <tr>\n",
              "      <th>y</th>\n",
              "      <td>2</td>\n",
              "      <td>5</td>\n",
              "    </tr>\n",
              "    <tr>\n",
              "      <th>z</th>\n",
              "      <td>3</td>\n",
              "      <td>6</td>\n",
              "    </tr>\n",
              "  </tbody>\n",
              "</table>\n",
              "</div>\n",
              "      <button class=\"colab-df-convert\" onclick=\"convertToInteractive('df-96dbc36a-926b-432e-8d09-865e87a05ba5')\"\n",
              "              title=\"Convert this dataframe to an interactive table.\"\n",
              "              style=\"display:none;\">\n",
              "        \n",
              "  <svg xmlns=\"http://www.w3.org/2000/svg\" height=\"24px\"viewBox=\"0 0 24 24\"\n",
              "       width=\"24px\">\n",
              "    <path d=\"M0 0h24v24H0V0z\" fill=\"none\"/>\n",
              "    <path d=\"M18.56 5.44l.94 2.06.94-2.06 2.06-.94-2.06-.94-.94-2.06-.94 2.06-2.06.94zm-11 1L8.5 8.5l.94-2.06 2.06-.94-2.06-.94L8.5 2.5l-.94 2.06-2.06.94zm10 10l.94 2.06.94-2.06 2.06-.94-2.06-.94-.94-2.06-.94 2.06-2.06.94z\"/><path d=\"M17.41 7.96l-1.37-1.37c-.4-.4-.92-.59-1.43-.59-.52 0-1.04.2-1.43.59L10.3 9.45l-7.72 7.72c-.78.78-.78 2.05 0 2.83L4 21.41c.39.39.9.59 1.41.59.51 0 1.02-.2 1.41-.59l7.78-7.78 2.81-2.81c.8-.78.8-2.07 0-2.86zM5.41 20L4 18.59l7.72-7.72 1.47 1.35L5.41 20z\"/>\n",
              "  </svg>\n",
              "      </button>\n",
              "      \n",
              "  <style>\n",
              "    .colab-df-container {\n",
              "      display:flex;\n",
              "      flex-wrap:wrap;\n",
              "      gap: 12px;\n",
              "    }\n",
              "\n",
              "    .colab-df-convert {\n",
              "      background-color: #E8F0FE;\n",
              "      border: none;\n",
              "      border-radius: 50%;\n",
              "      cursor: pointer;\n",
              "      display: none;\n",
              "      fill: #1967D2;\n",
              "      height: 32px;\n",
              "      padding: 0 0 0 0;\n",
              "      width: 32px;\n",
              "    }\n",
              "\n",
              "    .colab-df-convert:hover {\n",
              "      background-color: #E2EBFA;\n",
              "      box-shadow: 0px 1px 2px rgba(60, 64, 67, 0.3), 0px 1px 3px 1px rgba(60, 64, 67, 0.15);\n",
              "      fill: #174EA6;\n",
              "    }\n",
              "\n",
              "    [theme=dark] .colab-df-convert {\n",
              "      background-color: #3B4455;\n",
              "      fill: #D2E3FC;\n",
              "    }\n",
              "\n",
              "    [theme=dark] .colab-df-convert:hover {\n",
              "      background-color: #434B5C;\n",
              "      box-shadow: 0px 1px 3px 1px rgba(0, 0, 0, 0.15);\n",
              "      filter: drop-shadow(0px 1px 2px rgba(0, 0, 0, 0.3));\n",
              "      fill: #FFFFFF;\n",
              "    }\n",
              "  </style>\n",
              "\n",
              "      <script>\n",
              "        const buttonEl =\n",
              "          document.querySelector('#df-96dbc36a-926b-432e-8d09-865e87a05ba5 button.colab-df-convert');\n",
              "        buttonEl.style.display =\n",
              "          google.colab.kernel.accessAllowed ? 'block' : 'none';\n",
              "\n",
              "        async function convertToInteractive(key) {\n",
              "          const element = document.querySelector('#df-96dbc36a-926b-432e-8d09-865e87a05ba5');\n",
              "          const dataTable =\n",
              "            await google.colab.kernel.invokeFunction('convertToInteractive',\n",
              "                                                     [key], {});\n",
              "          if (!dataTable) return;\n",
              "\n",
              "          const docLinkHtml = 'Like what you see? Visit the ' +\n",
              "            '<a target=\"_blank\" href=https://colab.research.google.com/notebooks/data_table.ipynb>data table notebook</a>'\n",
              "            + ' to learn more about interactive tables.';\n",
              "          element.innerHTML = '';\n",
              "          dataTable['output_type'] = 'display_data';\n",
              "          await google.colab.output.renderOutput(dataTable, element);\n",
              "          const docLink = document.createElement('div');\n",
              "          docLink.innerHTML = docLinkHtml;\n",
              "          element.appendChild(docLink);\n",
              "        }\n",
              "      </script>\n",
              "    </div>\n",
              "  </div>\n",
              "  "
            ]
          },
          "metadata": {},
          "execution_count": 32
        }
      ]
    },
    {
      "cell_type": "markdown",
      "source": [
        "## convertir cambiar tipo de datos"
      ],
      "metadata": {
        "id": "RE5pFXcrnCKR"
      }
    },
    {
      "cell_type": "code",
      "source": [
        "#Convert a data type using astype method\n",
        "import pandas as pd\n",
        "titanic_df = pd.read_csv(\"/content/sample_data/train.csv\")\n",
        "titanic_df.info()\n",
        "\n",
        "# 6   SibSp        891 non-null    int64 \n",
        "\n",
        "titanic_df[\"SibSp\"] = titanic_df[\"SibSp\"].astype(\"float64\")\n",
        "titanic_df.info()\n",
        "\n",
        "#6   SibSp        891 non-null    float64"
      ],
      "metadata": {
        "id": "xOSRx8PPm64U"
      },
      "execution_count": null,
      "outputs": []
    },
    {
      "cell_type": "markdown",
      "source": [
        "## remplazar un valor por otro valor en el dataframe. "
      ],
      "metadata": {
        "id": "Cw01dE4ynOsX"
      }
    },
    {
      "cell_type": "code",
      "source": [
        "#Use the replace() method.\n",
        "df['column name'] = df['column name'].replace(['old value'],'new value')\n",
        "#To replace the value for the whole dataframe\n",
        "df = df.replace(['old value'],'new value')"
      ],
      "metadata": {
        "id": "PjP0pwTHnSIF"
      },
      "execution_count": null,
      "outputs": []
    },
    {
      "cell_type": "code",
      "source": [
        "df = pd.DataFrame({'A': [0, 1, 2, 3, 4],\n",
        "                   'B': [5, 6, 7, 8, 9],\n",
        "                   'C': ['a', 'b', 'c', 'd', 'e']})\n",
        "\n",
        "df.replace(0, 5)\n",
        "\n",
        "#output\n",
        "\tA  B  C\n",
        "0  5  5  a\n",
        "1  1  6  b\n",
        "2  2  7  c\n",
        "3  3  8  d\n",
        "4  4  9  e\n",
        "\n",
        "df.replace([0, 1, 2, 3], 4)\n",
        "    \n",
        "   A  B  C\n",
        "0  4  5  a\n",
        "1  4  6  b\n",
        "2  4  7  c\n",
        "3  4  8  d\n",
        "4  4  9  e"
      ],
      "metadata": {
        "id": "qZTVQ_6snkAz"
      },
      "execution_count": null,
      "outputs": []
    },
    {
      "cell_type": "code",
      "source": [
        "df = pd.DataFrame({'A': [0, 1, 2, 3, 4],\n",
        "                   'B': [5, 6, 7, 8, 9],\n",
        "                   'C': ['a', 'b', 'c', 'd', 'e']})"
      ],
      "metadata": {
        "id": "NvzBrZeunnP6"
      },
      "execution_count": null,
      "outputs": []
    },
    {
      "cell_type": "code",
      "source": [
        "df"
      ],
      "metadata": {
        "colab": {
          "base_uri": "https://localhost:8080/",
          "height": 201
        },
        "id": "4tiMkMZRnxsz",
        "outputId": "65cd55d2-70f7-4dde-e7a6-0915cca85111"
      },
      "execution_count": null,
      "outputs": [
        {
          "output_type": "execute_result",
          "data": {
            "text/plain": [
              "   A  B  C\n",
              "0  0  5  a\n",
              "1  1  6  b\n",
              "2  2  7  c\n",
              "3  3  8  d\n",
              "4  4  9  e"
            ],
            "text/html": [
              "\n",
              "  <div id=\"df-a956ce96-2a7b-4977-8b40-59c37b24e0f0\">\n",
              "    <div class=\"colab-df-container\">\n",
              "      <div>\n",
              "<style scoped>\n",
              "    .dataframe tbody tr th:only-of-type {\n",
              "        vertical-align: middle;\n",
              "    }\n",
              "\n",
              "    .dataframe tbody tr th {\n",
              "        vertical-align: top;\n",
              "    }\n",
              "\n",
              "    .dataframe thead th {\n",
              "        text-align: right;\n",
              "    }\n",
              "</style>\n",
              "<table border=\"1\" class=\"dataframe\">\n",
              "  <thead>\n",
              "    <tr style=\"text-align: right;\">\n",
              "      <th></th>\n",
              "      <th>A</th>\n",
              "      <th>B</th>\n",
              "      <th>C</th>\n",
              "    </tr>\n",
              "  </thead>\n",
              "  <tbody>\n",
              "    <tr>\n",
              "      <th>0</th>\n",
              "      <td>0</td>\n",
              "      <td>5</td>\n",
              "      <td>a</td>\n",
              "    </tr>\n",
              "    <tr>\n",
              "      <th>1</th>\n",
              "      <td>1</td>\n",
              "      <td>6</td>\n",
              "      <td>b</td>\n",
              "    </tr>\n",
              "    <tr>\n",
              "      <th>2</th>\n",
              "      <td>2</td>\n",
              "      <td>7</td>\n",
              "      <td>c</td>\n",
              "    </tr>\n",
              "    <tr>\n",
              "      <th>3</th>\n",
              "      <td>3</td>\n",
              "      <td>8</td>\n",
              "      <td>d</td>\n",
              "    </tr>\n",
              "    <tr>\n",
              "      <th>4</th>\n",
              "      <td>4</td>\n",
              "      <td>9</td>\n",
              "      <td>e</td>\n",
              "    </tr>\n",
              "  </tbody>\n",
              "</table>\n",
              "</div>\n",
              "      <button class=\"colab-df-convert\" onclick=\"convertToInteractive('df-a956ce96-2a7b-4977-8b40-59c37b24e0f0')\"\n",
              "              title=\"Convert this dataframe to an interactive table.\"\n",
              "              style=\"display:none;\">\n",
              "        \n",
              "  <svg xmlns=\"http://www.w3.org/2000/svg\" height=\"24px\"viewBox=\"0 0 24 24\"\n",
              "       width=\"24px\">\n",
              "    <path d=\"M0 0h24v24H0V0z\" fill=\"none\"/>\n",
              "    <path d=\"M18.56 5.44l.94 2.06.94-2.06 2.06-.94-2.06-.94-.94-2.06-.94 2.06-2.06.94zm-11 1L8.5 8.5l.94-2.06 2.06-.94-2.06-.94L8.5 2.5l-.94 2.06-2.06.94zm10 10l.94 2.06.94-2.06 2.06-.94-2.06-.94-.94-2.06-.94 2.06-2.06.94z\"/><path d=\"M17.41 7.96l-1.37-1.37c-.4-.4-.92-.59-1.43-.59-.52 0-1.04.2-1.43.59L10.3 9.45l-7.72 7.72c-.78.78-.78 2.05 0 2.83L4 21.41c.39.39.9.59 1.41.59.51 0 1.02-.2 1.41-.59l7.78-7.78 2.81-2.81c.8-.78.8-2.07 0-2.86zM5.41 20L4 18.59l7.72-7.72 1.47 1.35L5.41 20z\"/>\n",
              "  </svg>\n",
              "      </button>\n",
              "      \n",
              "  <style>\n",
              "    .colab-df-container {\n",
              "      display:flex;\n",
              "      flex-wrap:wrap;\n",
              "      gap: 12px;\n",
              "    }\n",
              "\n",
              "    .colab-df-convert {\n",
              "      background-color: #E8F0FE;\n",
              "      border: none;\n",
              "      border-radius: 50%;\n",
              "      cursor: pointer;\n",
              "      display: none;\n",
              "      fill: #1967D2;\n",
              "      height: 32px;\n",
              "      padding: 0 0 0 0;\n",
              "      width: 32px;\n",
              "    }\n",
              "\n",
              "    .colab-df-convert:hover {\n",
              "      background-color: #E2EBFA;\n",
              "      box-shadow: 0px 1px 2px rgba(60, 64, 67, 0.3), 0px 1px 3px 1px rgba(60, 64, 67, 0.15);\n",
              "      fill: #174EA6;\n",
              "    }\n",
              "\n",
              "    [theme=dark] .colab-df-convert {\n",
              "      background-color: #3B4455;\n",
              "      fill: #D2E3FC;\n",
              "    }\n",
              "\n",
              "    [theme=dark] .colab-df-convert:hover {\n",
              "      background-color: #434B5C;\n",
              "      box-shadow: 0px 1px 3px 1px rgba(0, 0, 0, 0.15);\n",
              "      filter: drop-shadow(0px 1px 2px rgba(0, 0, 0, 0.3));\n",
              "      fill: #FFFFFF;\n",
              "    }\n",
              "  </style>\n",
              "\n",
              "      <script>\n",
              "        const buttonEl =\n",
              "          document.querySelector('#df-a956ce96-2a7b-4977-8b40-59c37b24e0f0 button.colab-df-convert');\n",
              "        buttonEl.style.display =\n",
              "          google.colab.kernel.accessAllowed ? 'block' : 'none';\n",
              "\n",
              "        async function convertToInteractive(key) {\n",
              "          const element = document.querySelector('#df-a956ce96-2a7b-4977-8b40-59c37b24e0f0');\n",
              "          const dataTable =\n",
              "            await google.colab.kernel.invokeFunction('convertToInteractive',\n",
              "                                                     [key], {});\n",
              "          if (!dataTable) return;\n",
              "\n",
              "          const docLinkHtml = 'Like what you see? Visit the ' +\n",
              "            '<a target=\"_blank\" href=https://colab.research.google.com/notebooks/data_table.ipynb>data table notebook</a>'\n",
              "            + ' to learn more about interactive tables.';\n",
              "          element.innerHTML = '';\n",
              "          dataTable['output_type'] = 'display_data';\n",
              "          await google.colab.output.renderOutput(dataTable, element);\n",
              "          const docLink = document.createElement('div');\n",
              "          docLink.innerHTML = docLinkHtml;\n",
              "          element.appendChild(docLink);\n",
              "        }\n",
              "      </script>\n",
              "    </div>\n",
              "  </div>\n",
              "  "
            ]
          },
          "metadata": {},
          "execution_count": 36
        }
      ]
    },
    {
      "cell_type": "code",
      "source": [
        "df.replace(0, 5) # como vemos esta remplazando los 0 por 5"
      ],
      "metadata": {
        "colab": {
          "base_uri": "https://localhost:8080/",
          "height": 201
        },
        "id": "nxzmuBjcnnqF",
        "outputId": "0b13dc0a-1237-44cf-934c-009ccaeb93d8"
      },
      "execution_count": null,
      "outputs": [
        {
          "output_type": "execute_result",
          "data": {
            "text/plain": [
              "   A  B  C\n",
              "0  5  5  a\n",
              "1  1  6  b\n",
              "2  2  7  c\n",
              "3  3  8  d\n",
              "4  4  9  e"
            ],
            "text/html": [
              "\n",
              "  <div id=\"df-81baa770-dc31-46a7-9f13-c0df9fdc5f8c\">\n",
              "    <div class=\"colab-df-container\">\n",
              "      <div>\n",
              "<style scoped>\n",
              "    .dataframe tbody tr th:only-of-type {\n",
              "        vertical-align: middle;\n",
              "    }\n",
              "\n",
              "    .dataframe tbody tr th {\n",
              "        vertical-align: top;\n",
              "    }\n",
              "\n",
              "    .dataframe thead th {\n",
              "        text-align: right;\n",
              "    }\n",
              "</style>\n",
              "<table border=\"1\" class=\"dataframe\">\n",
              "  <thead>\n",
              "    <tr style=\"text-align: right;\">\n",
              "      <th></th>\n",
              "      <th>A</th>\n",
              "      <th>B</th>\n",
              "      <th>C</th>\n",
              "    </tr>\n",
              "  </thead>\n",
              "  <tbody>\n",
              "    <tr>\n",
              "      <th>0</th>\n",
              "      <td>5</td>\n",
              "      <td>5</td>\n",
              "      <td>a</td>\n",
              "    </tr>\n",
              "    <tr>\n",
              "      <th>1</th>\n",
              "      <td>1</td>\n",
              "      <td>6</td>\n",
              "      <td>b</td>\n",
              "    </tr>\n",
              "    <tr>\n",
              "      <th>2</th>\n",
              "      <td>2</td>\n",
              "      <td>7</td>\n",
              "      <td>c</td>\n",
              "    </tr>\n",
              "    <tr>\n",
              "      <th>3</th>\n",
              "      <td>3</td>\n",
              "      <td>8</td>\n",
              "      <td>d</td>\n",
              "    </tr>\n",
              "    <tr>\n",
              "      <th>4</th>\n",
              "      <td>4</td>\n",
              "      <td>9</td>\n",
              "      <td>e</td>\n",
              "    </tr>\n",
              "  </tbody>\n",
              "</table>\n",
              "</div>\n",
              "      <button class=\"colab-df-convert\" onclick=\"convertToInteractive('df-81baa770-dc31-46a7-9f13-c0df9fdc5f8c')\"\n",
              "              title=\"Convert this dataframe to an interactive table.\"\n",
              "              style=\"display:none;\">\n",
              "        \n",
              "  <svg xmlns=\"http://www.w3.org/2000/svg\" height=\"24px\"viewBox=\"0 0 24 24\"\n",
              "       width=\"24px\">\n",
              "    <path d=\"M0 0h24v24H0V0z\" fill=\"none\"/>\n",
              "    <path d=\"M18.56 5.44l.94 2.06.94-2.06 2.06-.94-2.06-.94-.94-2.06-.94 2.06-2.06.94zm-11 1L8.5 8.5l.94-2.06 2.06-.94-2.06-.94L8.5 2.5l-.94 2.06-2.06.94zm10 10l.94 2.06.94-2.06 2.06-.94-2.06-.94-.94-2.06-.94 2.06-2.06.94z\"/><path d=\"M17.41 7.96l-1.37-1.37c-.4-.4-.92-.59-1.43-.59-.52 0-1.04.2-1.43.59L10.3 9.45l-7.72 7.72c-.78.78-.78 2.05 0 2.83L4 21.41c.39.39.9.59 1.41.59.51 0 1.02-.2 1.41-.59l7.78-7.78 2.81-2.81c.8-.78.8-2.07 0-2.86zM5.41 20L4 18.59l7.72-7.72 1.47 1.35L5.41 20z\"/>\n",
              "  </svg>\n",
              "      </button>\n",
              "      \n",
              "  <style>\n",
              "    .colab-df-container {\n",
              "      display:flex;\n",
              "      flex-wrap:wrap;\n",
              "      gap: 12px;\n",
              "    }\n",
              "\n",
              "    .colab-df-convert {\n",
              "      background-color: #E8F0FE;\n",
              "      border: none;\n",
              "      border-radius: 50%;\n",
              "      cursor: pointer;\n",
              "      display: none;\n",
              "      fill: #1967D2;\n",
              "      height: 32px;\n",
              "      padding: 0 0 0 0;\n",
              "      width: 32px;\n",
              "    }\n",
              "\n",
              "    .colab-df-convert:hover {\n",
              "      background-color: #E2EBFA;\n",
              "      box-shadow: 0px 1px 2px rgba(60, 64, 67, 0.3), 0px 1px 3px 1px rgba(60, 64, 67, 0.15);\n",
              "      fill: #174EA6;\n",
              "    }\n",
              "\n",
              "    [theme=dark] .colab-df-convert {\n",
              "      background-color: #3B4455;\n",
              "      fill: #D2E3FC;\n",
              "    }\n",
              "\n",
              "    [theme=dark] .colab-df-convert:hover {\n",
              "      background-color: #434B5C;\n",
              "      box-shadow: 0px 1px 3px 1px rgba(0, 0, 0, 0.15);\n",
              "      filter: drop-shadow(0px 1px 2px rgba(0, 0, 0, 0.3));\n",
              "      fill: #FFFFFF;\n",
              "    }\n",
              "  </style>\n",
              "\n",
              "      <script>\n",
              "        const buttonEl =\n",
              "          document.querySelector('#df-81baa770-dc31-46a7-9f13-c0df9fdc5f8c button.colab-df-convert');\n",
              "        buttonEl.style.display =\n",
              "          google.colab.kernel.accessAllowed ? 'block' : 'none';\n",
              "\n",
              "        async function convertToInteractive(key) {\n",
              "          const element = document.querySelector('#df-81baa770-dc31-46a7-9f13-c0df9fdc5f8c');\n",
              "          const dataTable =\n",
              "            await google.colab.kernel.invokeFunction('convertToInteractive',\n",
              "                                                     [key], {});\n",
              "          if (!dataTable) return;\n",
              "\n",
              "          const docLinkHtml = 'Like what you see? Visit the ' +\n",
              "            '<a target=\"_blank\" href=https://colab.research.google.com/notebooks/data_table.ipynb>data table notebook</a>'\n",
              "            + ' to learn more about interactive tables.';\n",
              "          element.innerHTML = '';\n",
              "          dataTable['output_type'] = 'display_data';\n",
              "          await google.colab.output.renderOutput(dataTable, element);\n",
              "          const docLink = document.createElement('div');\n",
              "          docLink.innerHTML = docLinkHtml;\n",
              "          element.appendChild(docLink);\n",
              "        }\n",
              "      </script>\n",
              "    </div>\n",
              "  </div>\n",
              "  "
            ]
          },
          "metadata": {},
          "execution_count": 37
        }
      ]
    },
    {
      "cell_type": "markdown",
      "source": [
        "## multiples condiciones en un filtro a uso de variables. "
      ],
      "metadata": {
        "id": "_5YiQG49oDbA"
      }
    },
    {
      "cell_type": "code",
      "source": [
        "#Long filter and confusing\n",
        "titanic_df[(titanic_df.Age >= 50) & (titanic_df.Pclass == 1) & (titanic_df.Sex == ‘male’) & (titanic_df.Survived == 1)]\n",
        "#Split the filter into smaller parts and assign it to variable\n",
        "v_age = titanic_df.Age >= 50\n",
        "v_class = titanic_df.Pclass == 1\n",
        "v_sex = titanic_df.Sex == ‘male’\n",
        "v_survived = titanic_df.Survived == 1\n",
        "titanic_df.loc[v_age & v_class & v_sex & v_survived]\n",
        "#Use & for And\n",
        "#Use | for Or "
      ],
      "metadata": {
        "id": "Jt8fzBlTnqtz"
      },
      "execution_count": null,
      "outputs": []
    },
    {
      "cell_type": "markdown",
      "source": [
        "## como usar el metodo agg mean, min, max, sum, product"
      ],
      "metadata": {
        "id": "TFF3uyZHohqJ"
      }
    },
    {
      "cell_type": "code",
      "source": [
        "#Use agg(mean) over the titanic dataset\n",
        "titanic_df.agg('mean')\n",
        "\n",
        "/usr/local/lib/python3.7/dist-packages/pandas/core/apply.py:577: FutureWarning: Dropping of nuisance columns in DataFrame reductions (with 'numeric_only=None') is deprecated; in a future version this will raise TypeError.  Select only valid columns before calling the reduction.\n",
        "  return f(*args, **kwargs)\n",
        "PassengerId    446.000000\n",
        "Survived         0.383838\n",
        "Pclass           2.308642\n",
        "Age             29.699118\n",
        "SibSp            0.523008\n",
        "Parch            0.381594\n",
        "Fare            32.204208\n",
        "dtype: float64\n",
        "\n",
        "##Use agg(mean) over the titanic dataset\n",
        "titanic_df.agg('max')\n",
        "\n",
        "#Another example\n",
        "df = pd.DataFrame([[1, 2, 3],\n",
        "                   [4, 5, 6],\n",
        "                   [7, 8, 9],\n",
        "                   [np.nan, np.nan, np.nan]],\n",
        "                  columns=['A', 'B', 'C'])\n",
        "\n",
        "df.agg({'A' : ['sum', 'min'], 'B' : ['min', 'max']})\n",
        "        A    B\n",
        "sum  12.0  NaN\n",
        "min   1.0  2.0\n",
        "max   NaN  8.0\n"
      ],
      "metadata": {
        "id": "4wm9t0qSonTP"
      },
      "execution_count": null,
      "outputs": []
    },
    {
      "cell_type": "markdown",
      "source": [
        "## como concatenar dos dataframes."
      ],
      "metadata": {
        "id": "Ba_ubFCmo5ml"
      }
    },
    {
      "cell_type": "code",
      "source": [
        "import pandas as pd\n",
        "ev_cars = pd.DataFrame([['Tesla', 'EV'], ['Lucid', 'EV']],\n",
        "                   columns=['Car_Name', 'Car_Type'])\n",
        "ev_cars"
      ],
      "metadata": {
        "colab": {
          "base_uri": "https://localhost:8080/",
          "height": 109
        },
        "id": "cxuooFjzpCVa",
        "outputId": "9ec42931-00fd-40aa-f447-d98bf3033b57"
      },
      "execution_count": null,
      "outputs": [
        {
          "output_type": "execute_result",
          "data": {
            "text/plain": [
              "  Car_Name Car_Type\n",
              "0    Tesla       EV\n",
              "1    Lucid       EV"
            ],
            "text/html": [
              "\n",
              "  <div id=\"df-c518c1c4-a8d0-4f1b-8d2b-b5b03a9d80a2\">\n",
              "    <div class=\"colab-df-container\">\n",
              "      <div>\n",
              "<style scoped>\n",
              "    .dataframe tbody tr th:only-of-type {\n",
              "        vertical-align: middle;\n",
              "    }\n",
              "\n",
              "    .dataframe tbody tr th {\n",
              "        vertical-align: top;\n",
              "    }\n",
              "\n",
              "    .dataframe thead th {\n",
              "        text-align: right;\n",
              "    }\n",
              "</style>\n",
              "<table border=\"1\" class=\"dataframe\">\n",
              "  <thead>\n",
              "    <tr style=\"text-align: right;\">\n",
              "      <th></th>\n",
              "      <th>Car_Name</th>\n",
              "      <th>Car_Type</th>\n",
              "    </tr>\n",
              "  </thead>\n",
              "  <tbody>\n",
              "    <tr>\n",
              "      <th>0</th>\n",
              "      <td>Tesla</td>\n",
              "      <td>EV</td>\n",
              "    </tr>\n",
              "    <tr>\n",
              "      <th>1</th>\n",
              "      <td>Lucid</td>\n",
              "      <td>EV</td>\n",
              "    </tr>\n",
              "  </tbody>\n",
              "</table>\n",
              "</div>\n",
              "      <button class=\"colab-df-convert\" onclick=\"convertToInteractive('df-c518c1c4-a8d0-4f1b-8d2b-b5b03a9d80a2')\"\n",
              "              title=\"Convert this dataframe to an interactive table.\"\n",
              "              style=\"display:none;\">\n",
              "        \n",
              "  <svg xmlns=\"http://www.w3.org/2000/svg\" height=\"24px\"viewBox=\"0 0 24 24\"\n",
              "       width=\"24px\">\n",
              "    <path d=\"M0 0h24v24H0V0z\" fill=\"none\"/>\n",
              "    <path d=\"M18.56 5.44l.94 2.06.94-2.06 2.06-.94-2.06-.94-.94-2.06-.94 2.06-2.06.94zm-11 1L8.5 8.5l.94-2.06 2.06-.94-2.06-.94L8.5 2.5l-.94 2.06-2.06.94zm10 10l.94 2.06.94-2.06 2.06-.94-2.06-.94-.94-2.06-.94 2.06-2.06.94z\"/><path d=\"M17.41 7.96l-1.37-1.37c-.4-.4-.92-.59-1.43-.59-.52 0-1.04.2-1.43.59L10.3 9.45l-7.72 7.72c-.78.78-.78 2.05 0 2.83L4 21.41c.39.39.9.59 1.41.59.51 0 1.02-.2 1.41-.59l7.78-7.78 2.81-2.81c.8-.78.8-2.07 0-2.86zM5.41 20L4 18.59l7.72-7.72 1.47 1.35L5.41 20z\"/>\n",
              "  </svg>\n",
              "      </button>\n",
              "      \n",
              "  <style>\n",
              "    .colab-df-container {\n",
              "      display:flex;\n",
              "      flex-wrap:wrap;\n",
              "      gap: 12px;\n",
              "    }\n",
              "\n",
              "    .colab-df-convert {\n",
              "      background-color: #E8F0FE;\n",
              "      border: none;\n",
              "      border-radius: 50%;\n",
              "      cursor: pointer;\n",
              "      display: none;\n",
              "      fill: #1967D2;\n",
              "      height: 32px;\n",
              "      padding: 0 0 0 0;\n",
              "      width: 32px;\n",
              "    }\n",
              "\n",
              "    .colab-df-convert:hover {\n",
              "      background-color: #E2EBFA;\n",
              "      box-shadow: 0px 1px 2px rgba(60, 64, 67, 0.3), 0px 1px 3px 1px rgba(60, 64, 67, 0.15);\n",
              "      fill: #174EA6;\n",
              "    }\n",
              "\n",
              "    [theme=dark] .colab-df-convert {\n",
              "      background-color: #3B4455;\n",
              "      fill: #D2E3FC;\n",
              "    }\n",
              "\n",
              "    [theme=dark] .colab-df-convert:hover {\n",
              "      background-color: #434B5C;\n",
              "      box-shadow: 0px 1px 3px 1px rgba(0, 0, 0, 0.15);\n",
              "      filter: drop-shadow(0px 1px 2px rgba(0, 0, 0, 0.3));\n",
              "      fill: #FFFFFF;\n",
              "    }\n",
              "  </style>\n",
              "\n",
              "      <script>\n",
              "        const buttonEl =\n",
              "          document.querySelector('#df-c518c1c4-a8d0-4f1b-8d2b-b5b03a9d80a2 button.colab-df-convert');\n",
              "        buttonEl.style.display =\n",
              "          google.colab.kernel.accessAllowed ? 'block' : 'none';\n",
              "\n",
              "        async function convertToInteractive(key) {\n",
              "          const element = document.querySelector('#df-c518c1c4-a8d0-4f1b-8d2b-b5b03a9d80a2');\n",
              "          const dataTable =\n",
              "            await google.colab.kernel.invokeFunction('convertToInteractive',\n",
              "                                                     [key], {});\n",
              "          if (!dataTable) return;\n",
              "\n",
              "          const docLinkHtml = 'Like what you see? Visit the ' +\n",
              "            '<a target=\"_blank\" href=https://colab.research.google.com/notebooks/data_table.ipynb>data table notebook</a>'\n",
              "            + ' to learn more about interactive tables.';\n",
              "          element.innerHTML = '';\n",
              "          dataTable['output_type'] = 'display_data';\n",
              "          await google.colab.output.renderOutput(dataTable, element);\n",
              "          const docLink = document.createElement('div');\n",
              "          docLink.innerHTML = docLinkHtml;\n",
              "          element.appendChild(docLink);\n",
              "        }\n",
              "      </script>\n",
              "    </div>\n",
              "  </div>\n",
              "  "
            ]
          },
          "metadata": {},
          "execution_count": 39
        }
      ]
    },
    {
      "cell_type": "code",
      "source": [
        "ic_cars = pd.DataFrame([['Honda', 'IC'], ['Toyota', 'IC']],\n",
        "                   columns=['Car_Name', 'Car_Type'])\n",
        "ic_cars"
      ],
      "metadata": {
        "colab": {
          "base_uri": "https://localhost:8080/",
          "height": 109
        },
        "id": "Tzegs9qEpCLf",
        "outputId": "977020f3-f94b-444e-d628-726559cbf53e"
      },
      "execution_count": null,
      "outputs": [
        {
          "output_type": "execute_result",
          "data": {
            "text/plain": [
              "  Car_Name Car_Type\n",
              "0    Honda       IC\n",
              "1   Toyota       IC"
            ],
            "text/html": [
              "\n",
              "  <div id=\"df-b84f3bbd-f424-4019-87f3-b66731524a05\">\n",
              "    <div class=\"colab-df-container\">\n",
              "      <div>\n",
              "<style scoped>\n",
              "    .dataframe tbody tr th:only-of-type {\n",
              "        vertical-align: middle;\n",
              "    }\n",
              "\n",
              "    .dataframe tbody tr th {\n",
              "        vertical-align: top;\n",
              "    }\n",
              "\n",
              "    .dataframe thead th {\n",
              "        text-align: right;\n",
              "    }\n",
              "</style>\n",
              "<table border=\"1\" class=\"dataframe\">\n",
              "  <thead>\n",
              "    <tr style=\"text-align: right;\">\n",
              "      <th></th>\n",
              "      <th>Car_Name</th>\n",
              "      <th>Car_Type</th>\n",
              "    </tr>\n",
              "  </thead>\n",
              "  <tbody>\n",
              "    <tr>\n",
              "      <th>0</th>\n",
              "      <td>Honda</td>\n",
              "      <td>IC</td>\n",
              "    </tr>\n",
              "    <tr>\n",
              "      <th>1</th>\n",
              "      <td>Toyota</td>\n",
              "      <td>IC</td>\n",
              "    </tr>\n",
              "  </tbody>\n",
              "</table>\n",
              "</div>\n",
              "      <button class=\"colab-df-convert\" onclick=\"convertToInteractive('df-b84f3bbd-f424-4019-87f3-b66731524a05')\"\n",
              "              title=\"Convert this dataframe to an interactive table.\"\n",
              "              style=\"display:none;\">\n",
              "        \n",
              "  <svg xmlns=\"http://www.w3.org/2000/svg\" height=\"24px\"viewBox=\"0 0 24 24\"\n",
              "       width=\"24px\">\n",
              "    <path d=\"M0 0h24v24H0V0z\" fill=\"none\"/>\n",
              "    <path d=\"M18.56 5.44l.94 2.06.94-2.06 2.06-.94-2.06-.94-.94-2.06-.94 2.06-2.06.94zm-11 1L8.5 8.5l.94-2.06 2.06-.94-2.06-.94L8.5 2.5l-.94 2.06-2.06.94zm10 10l.94 2.06.94-2.06 2.06-.94-2.06-.94-.94-2.06-.94 2.06-2.06.94z\"/><path d=\"M17.41 7.96l-1.37-1.37c-.4-.4-.92-.59-1.43-.59-.52 0-1.04.2-1.43.59L10.3 9.45l-7.72 7.72c-.78.78-.78 2.05 0 2.83L4 21.41c.39.39.9.59 1.41.59.51 0 1.02-.2 1.41-.59l7.78-7.78 2.81-2.81c.8-.78.8-2.07 0-2.86zM5.41 20L4 18.59l7.72-7.72 1.47 1.35L5.41 20z\"/>\n",
              "  </svg>\n",
              "      </button>\n",
              "      \n",
              "  <style>\n",
              "    .colab-df-container {\n",
              "      display:flex;\n",
              "      flex-wrap:wrap;\n",
              "      gap: 12px;\n",
              "    }\n",
              "\n",
              "    .colab-df-convert {\n",
              "      background-color: #E8F0FE;\n",
              "      border: none;\n",
              "      border-radius: 50%;\n",
              "      cursor: pointer;\n",
              "      display: none;\n",
              "      fill: #1967D2;\n",
              "      height: 32px;\n",
              "      padding: 0 0 0 0;\n",
              "      width: 32px;\n",
              "    }\n",
              "\n",
              "    .colab-df-convert:hover {\n",
              "      background-color: #E2EBFA;\n",
              "      box-shadow: 0px 1px 2px rgba(60, 64, 67, 0.3), 0px 1px 3px 1px rgba(60, 64, 67, 0.15);\n",
              "      fill: #174EA6;\n",
              "    }\n",
              "\n",
              "    [theme=dark] .colab-df-convert {\n",
              "      background-color: #3B4455;\n",
              "      fill: #D2E3FC;\n",
              "    }\n",
              "\n",
              "    [theme=dark] .colab-df-convert:hover {\n",
              "      background-color: #434B5C;\n",
              "      box-shadow: 0px 1px 3px 1px rgba(0, 0, 0, 0.15);\n",
              "      filter: drop-shadow(0px 1px 2px rgba(0, 0, 0, 0.3));\n",
              "      fill: #FFFFFF;\n",
              "    }\n",
              "  </style>\n",
              "\n",
              "      <script>\n",
              "        const buttonEl =\n",
              "          document.querySelector('#df-b84f3bbd-f424-4019-87f3-b66731524a05 button.colab-df-convert');\n",
              "        buttonEl.style.display =\n",
              "          google.colab.kernel.accessAllowed ? 'block' : 'none';\n",
              "\n",
              "        async function convertToInteractive(key) {\n",
              "          const element = document.querySelector('#df-b84f3bbd-f424-4019-87f3-b66731524a05');\n",
              "          const dataTable =\n",
              "            await google.colab.kernel.invokeFunction('convertToInteractive',\n",
              "                                                     [key], {});\n",
              "          if (!dataTable) return;\n",
              "\n",
              "          const docLinkHtml = 'Like what you see? Visit the ' +\n",
              "            '<a target=\"_blank\" href=https://colab.research.google.com/notebooks/data_table.ipynb>data table notebook</a>'\n",
              "            + ' to learn more about interactive tables.';\n",
              "          element.innerHTML = '';\n",
              "          dataTable['output_type'] = 'display_data';\n",
              "          await google.colab.output.renderOutput(dataTable, element);\n",
              "          const docLink = document.createElement('div');\n",
              "          docLink.innerHTML = docLinkHtml;\n",
              "          element.appendChild(docLink);\n",
              "        }\n",
              "      </script>\n",
              "    </div>\n",
              "  </div>\n",
              "  "
            ]
          },
          "metadata": {},
          "execution_count": 40
        }
      ]
    },
    {
      "cell_type": "code",
      "source": [
        "# Now merge the 2 dataframes\n",
        "all_cars = pd.concat([ev_cars, ic_cars])\n",
        "all_cars"
      ],
      "metadata": {
        "colab": {
          "base_uri": "https://localhost:8080/",
          "height": 170
        },
        "id": "aKwmSxidpMiZ",
        "outputId": "282bfbf5-d873-4a75-fffd-66a86266547b"
      },
      "execution_count": null,
      "outputs": [
        {
          "output_type": "execute_result",
          "data": {
            "text/plain": [
              "  Car_Name Car_Type\n",
              "0    Tesla       EV\n",
              "1    Lucid       EV\n",
              "0    Honda       IC\n",
              "1   Toyota       IC"
            ],
            "text/html": [
              "\n",
              "  <div id=\"df-4d76a312-82df-4253-b27a-6e6169375ae1\">\n",
              "    <div class=\"colab-df-container\">\n",
              "      <div>\n",
              "<style scoped>\n",
              "    .dataframe tbody tr th:only-of-type {\n",
              "        vertical-align: middle;\n",
              "    }\n",
              "\n",
              "    .dataframe tbody tr th {\n",
              "        vertical-align: top;\n",
              "    }\n",
              "\n",
              "    .dataframe thead th {\n",
              "        text-align: right;\n",
              "    }\n",
              "</style>\n",
              "<table border=\"1\" class=\"dataframe\">\n",
              "  <thead>\n",
              "    <tr style=\"text-align: right;\">\n",
              "      <th></th>\n",
              "      <th>Car_Name</th>\n",
              "      <th>Car_Type</th>\n",
              "    </tr>\n",
              "  </thead>\n",
              "  <tbody>\n",
              "    <tr>\n",
              "      <th>0</th>\n",
              "      <td>Tesla</td>\n",
              "      <td>EV</td>\n",
              "    </tr>\n",
              "    <tr>\n",
              "      <th>1</th>\n",
              "      <td>Lucid</td>\n",
              "      <td>EV</td>\n",
              "    </tr>\n",
              "    <tr>\n",
              "      <th>0</th>\n",
              "      <td>Honda</td>\n",
              "      <td>IC</td>\n",
              "    </tr>\n",
              "    <tr>\n",
              "      <th>1</th>\n",
              "      <td>Toyota</td>\n",
              "      <td>IC</td>\n",
              "    </tr>\n",
              "  </tbody>\n",
              "</table>\n",
              "</div>\n",
              "      <button class=\"colab-df-convert\" onclick=\"convertToInteractive('df-4d76a312-82df-4253-b27a-6e6169375ae1')\"\n",
              "              title=\"Convert this dataframe to an interactive table.\"\n",
              "              style=\"display:none;\">\n",
              "        \n",
              "  <svg xmlns=\"http://www.w3.org/2000/svg\" height=\"24px\"viewBox=\"0 0 24 24\"\n",
              "       width=\"24px\">\n",
              "    <path d=\"M0 0h24v24H0V0z\" fill=\"none\"/>\n",
              "    <path d=\"M18.56 5.44l.94 2.06.94-2.06 2.06-.94-2.06-.94-.94-2.06-.94 2.06-2.06.94zm-11 1L8.5 8.5l.94-2.06 2.06-.94-2.06-.94L8.5 2.5l-.94 2.06-2.06.94zm10 10l.94 2.06.94-2.06 2.06-.94-2.06-.94-.94-2.06-.94 2.06-2.06.94z\"/><path d=\"M17.41 7.96l-1.37-1.37c-.4-.4-.92-.59-1.43-.59-.52 0-1.04.2-1.43.59L10.3 9.45l-7.72 7.72c-.78.78-.78 2.05 0 2.83L4 21.41c.39.39.9.59 1.41.59.51 0 1.02-.2 1.41-.59l7.78-7.78 2.81-2.81c.8-.78.8-2.07 0-2.86zM5.41 20L4 18.59l7.72-7.72 1.47 1.35L5.41 20z\"/>\n",
              "  </svg>\n",
              "      </button>\n",
              "      \n",
              "  <style>\n",
              "    .colab-df-container {\n",
              "      display:flex;\n",
              "      flex-wrap:wrap;\n",
              "      gap: 12px;\n",
              "    }\n",
              "\n",
              "    .colab-df-convert {\n",
              "      background-color: #E8F0FE;\n",
              "      border: none;\n",
              "      border-radius: 50%;\n",
              "      cursor: pointer;\n",
              "      display: none;\n",
              "      fill: #1967D2;\n",
              "      height: 32px;\n",
              "      padding: 0 0 0 0;\n",
              "      width: 32px;\n",
              "    }\n",
              "\n",
              "    .colab-df-convert:hover {\n",
              "      background-color: #E2EBFA;\n",
              "      box-shadow: 0px 1px 2px rgba(60, 64, 67, 0.3), 0px 1px 3px 1px rgba(60, 64, 67, 0.15);\n",
              "      fill: #174EA6;\n",
              "    }\n",
              "\n",
              "    [theme=dark] .colab-df-convert {\n",
              "      background-color: #3B4455;\n",
              "      fill: #D2E3FC;\n",
              "    }\n",
              "\n",
              "    [theme=dark] .colab-df-convert:hover {\n",
              "      background-color: #434B5C;\n",
              "      box-shadow: 0px 1px 3px 1px rgba(0, 0, 0, 0.15);\n",
              "      filter: drop-shadow(0px 1px 2px rgba(0, 0, 0, 0.3));\n",
              "      fill: #FFFFFF;\n",
              "    }\n",
              "  </style>\n",
              "\n",
              "      <script>\n",
              "        const buttonEl =\n",
              "          document.querySelector('#df-4d76a312-82df-4253-b27a-6e6169375ae1 button.colab-df-convert');\n",
              "        buttonEl.style.display =\n",
              "          google.colab.kernel.accessAllowed ? 'block' : 'none';\n",
              "\n",
              "        async function convertToInteractive(key) {\n",
              "          const element = document.querySelector('#df-4d76a312-82df-4253-b27a-6e6169375ae1');\n",
              "          const dataTable =\n",
              "            await google.colab.kernel.invokeFunction('convertToInteractive',\n",
              "                                                     [key], {});\n",
              "          if (!dataTable) return;\n",
              "\n",
              "          const docLinkHtml = 'Like what you see? Visit the ' +\n",
              "            '<a target=\"_blank\" href=https://colab.research.google.com/notebooks/data_table.ipynb>data table notebook</a>'\n",
              "            + ' to learn more about interactive tables.';\n",
              "          element.innerHTML = '';\n",
              "          dataTable['output_type'] = 'display_data';\n",
              "          await google.colab.output.renderOutput(dataTable, element);\n",
              "          const docLink = document.createElement('div');\n",
              "          docLink.innerHTML = docLinkHtml;\n",
              "          element.appendChild(docLink);\n",
              "        }\n",
              "      </script>\n",
              "    </div>\n",
              "  </div>\n",
              "  "
            ]
          },
          "metadata": {},
          "execution_count": 41
        }
      ]
    },
    {
      "cell_type": "code",
      "source": [
        "all_cars = pd.concat([ev_cars, ic_cars],ignore_index = True)\n",
        "all_cars\n",
        "# aqui lo hemos hecho ignorando el index"
      ],
      "metadata": {
        "colab": {
          "base_uri": "https://localhost:8080/",
          "height": 170
        },
        "id": "xEbA2Q7QpRIi",
        "outputId": "86e09c36-9a68-4157-eb60-0ea39d81ae72"
      },
      "execution_count": null,
      "outputs": [
        {
          "output_type": "execute_result",
          "data": {
            "text/plain": [
              "  Car_Name Car_Type\n",
              "0    Tesla       EV\n",
              "1    Lucid       EV\n",
              "2    Honda       IC\n",
              "3   Toyota       IC"
            ],
            "text/html": [
              "\n",
              "  <div id=\"df-a44b038b-4248-44c7-acc6-6813dd091a01\">\n",
              "    <div class=\"colab-df-container\">\n",
              "      <div>\n",
              "<style scoped>\n",
              "    .dataframe tbody tr th:only-of-type {\n",
              "        vertical-align: middle;\n",
              "    }\n",
              "\n",
              "    .dataframe tbody tr th {\n",
              "        vertical-align: top;\n",
              "    }\n",
              "\n",
              "    .dataframe thead th {\n",
              "        text-align: right;\n",
              "    }\n",
              "</style>\n",
              "<table border=\"1\" class=\"dataframe\">\n",
              "  <thead>\n",
              "    <tr style=\"text-align: right;\">\n",
              "      <th></th>\n",
              "      <th>Car_Name</th>\n",
              "      <th>Car_Type</th>\n",
              "    </tr>\n",
              "  </thead>\n",
              "  <tbody>\n",
              "    <tr>\n",
              "      <th>0</th>\n",
              "      <td>Tesla</td>\n",
              "      <td>EV</td>\n",
              "    </tr>\n",
              "    <tr>\n",
              "      <th>1</th>\n",
              "      <td>Lucid</td>\n",
              "      <td>EV</td>\n",
              "    </tr>\n",
              "    <tr>\n",
              "      <th>2</th>\n",
              "      <td>Honda</td>\n",
              "      <td>IC</td>\n",
              "    </tr>\n",
              "    <tr>\n",
              "      <th>3</th>\n",
              "      <td>Toyota</td>\n",
              "      <td>IC</td>\n",
              "    </tr>\n",
              "  </tbody>\n",
              "</table>\n",
              "</div>\n",
              "      <button class=\"colab-df-convert\" onclick=\"convertToInteractive('df-a44b038b-4248-44c7-acc6-6813dd091a01')\"\n",
              "              title=\"Convert this dataframe to an interactive table.\"\n",
              "              style=\"display:none;\">\n",
              "        \n",
              "  <svg xmlns=\"http://www.w3.org/2000/svg\" height=\"24px\"viewBox=\"0 0 24 24\"\n",
              "       width=\"24px\">\n",
              "    <path d=\"M0 0h24v24H0V0z\" fill=\"none\"/>\n",
              "    <path d=\"M18.56 5.44l.94 2.06.94-2.06 2.06-.94-2.06-.94-.94-2.06-.94 2.06-2.06.94zm-11 1L8.5 8.5l.94-2.06 2.06-.94-2.06-.94L8.5 2.5l-.94 2.06-2.06.94zm10 10l.94 2.06.94-2.06 2.06-.94-2.06-.94-.94-2.06-.94 2.06-2.06.94z\"/><path d=\"M17.41 7.96l-1.37-1.37c-.4-.4-.92-.59-1.43-.59-.52 0-1.04.2-1.43.59L10.3 9.45l-7.72 7.72c-.78.78-.78 2.05 0 2.83L4 21.41c.39.39.9.59 1.41.59.51 0 1.02-.2 1.41-.59l7.78-7.78 2.81-2.81c.8-.78.8-2.07 0-2.86zM5.41 20L4 18.59l7.72-7.72 1.47 1.35L5.41 20z\"/>\n",
              "  </svg>\n",
              "      </button>\n",
              "      \n",
              "  <style>\n",
              "    .colab-df-container {\n",
              "      display:flex;\n",
              "      flex-wrap:wrap;\n",
              "      gap: 12px;\n",
              "    }\n",
              "\n",
              "    .colab-df-convert {\n",
              "      background-color: #E8F0FE;\n",
              "      border: none;\n",
              "      border-radius: 50%;\n",
              "      cursor: pointer;\n",
              "      display: none;\n",
              "      fill: #1967D2;\n",
              "      height: 32px;\n",
              "      padding: 0 0 0 0;\n",
              "      width: 32px;\n",
              "    }\n",
              "\n",
              "    .colab-df-convert:hover {\n",
              "      background-color: #E2EBFA;\n",
              "      box-shadow: 0px 1px 2px rgba(60, 64, 67, 0.3), 0px 1px 3px 1px rgba(60, 64, 67, 0.15);\n",
              "      fill: #174EA6;\n",
              "    }\n",
              "\n",
              "    [theme=dark] .colab-df-convert {\n",
              "      background-color: #3B4455;\n",
              "      fill: #D2E3FC;\n",
              "    }\n",
              "\n",
              "    [theme=dark] .colab-df-convert:hover {\n",
              "      background-color: #434B5C;\n",
              "      box-shadow: 0px 1px 3px 1px rgba(0, 0, 0, 0.15);\n",
              "      filter: drop-shadow(0px 1px 2px rgba(0, 0, 0, 0.3));\n",
              "      fill: #FFFFFF;\n",
              "    }\n",
              "  </style>\n",
              "\n",
              "      <script>\n",
              "        const buttonEl =\n",
              "          document.querySelector('#df-a44b038b-4248-44c7-acc6-6813dd091a01 button.colab-df-convert');\n",
              "        buttonEl.style.display =\n",
              "          google.colab.kernel.accessAllowed ? 'block' : 'none';\n",
              "\n",
              "        async function convertToInteractive(key) {\n",
              "          const element = document.querySelector('#df-a44b038b-4248-44c7-acc6-6813dd091a01');\n",
              "          const dataTable =\n",
              "            await google.colab.kernel.invokeFunction('convertToInteractive',\n",
              "                                                     [key], {});\n",
              "          if (!dataTable) return;\n",
              "\n",
              "          const docLinkHtml = 'Like what you see? Visit the ' +\n",
              "            '<a target=\"_blank\" href=https://colab.research.google.com/notebooks/data_table.ipynb>data table notebook</a>'\n",
              "            + ' to learn more about interactive tables.';\n",
              "          element.innerHTML = '';\n",
              "          dataTable['output_type'] = 'display_data';\n",
              "          await google.colab.output.renderOutput(dataTable, element);\n",
              "          const docLink = document.createElement('div');\n",
              "          docLink.innerHTML = docLinkHtml;\n",
              "          element.appendChild(docLink);\n",
              "        }\n",
              "      </script>\n",
              "    </div>\n",
              "  </div>\n",
              "  "
            ]
          },
          "metadata": {},
          "execution_count": 42
        }
      ]
    },
    {
      "cell_type": "code",
      "source": [
        "#Use append() method\n",
        "all_cars = ev_cars.append(ic_cars,ignore_index = True)\n",
        "all_cars\n",
        "# también podemos utilizar el metodo append "
      ],
      "metadata": {
        "colab": {
          "base_uri": "https://localhost:8080/",
          "height": 170
        },
        "id": "9k823vnbpWNB",
        "outputId": "64b1a5ad-ed62-45ad-825c-471ac499609d"
      },
      "execution_count": null,
      "outputs": [
        {
          "output_type": "execute_result",
          "data": {
            "text/plain": [
              "  Car_Name Car_Type\n",
              "0    Tesla       EV\n",
              "1    Lucid       EV\n",
              "2    Honda       IC\n",
              "3   Toyota       IC"
            ],
            "text/html": [
              "\n",
              "  <div id=\"df-21b59bfc-2bf7-4d79-8382-654c6c9290df\">\n",
              "    <div class=\"colab-df-container\">\n",
              "      <div>\n",
              "<style scoped>\n",
              "    .dataframe tbody tr th:only-of-type {\n",
              "        vertical-align: middle;\n",
              "    }\n",
              "\n",
              "    .dataframe tbody tr th {\n",
              "        vertical-align: top;\n",
              "    }\n",
              "\n",
              "    .dataframe thead th {\n",
              "        text-align: right;\n",
              "    }\n",
              "</style>\n",
              "<table border=\"1\" class=\"dataframe\">\n",
              "  <thead>\n",
              "    <tr style=\"text-align: right;\">\n",
              "      <th></th>\n",
              "      <th>Car_Name</th>\n",
              "      <th>Car_Type</th>\n",
              "    </tr>\n",
              "  </thead>\n",
              "  <tbody>\n",
              "    <tr>\n",
              "      <th>0</th>\n",
              "      <td>Tesla</td>\n",
              "      <td>EV</td>\n",
              "    </tr>\n",
              "    <tr>\n",
              "      <th>1</th>\n",
              "      <td>Lucid</td>\n",
              "      <td>EV</td>\n",
              "    </tr>\n",
              "    <tr>\n",
              "      <th>2</th>\n",
              "      <td>Honda</td>\n",
              "      <td>IC</td>\n",
              "    </tr>\n",
              "    <tr>\n",
              "      <th>3</th>\n",
              "      <td>Toyota</td>\n",
              "      <td>IC</td>\n",
              "    </tr>\n",
              "  </tbody>\n",
              "</table>\n",
              "</div>\n",
              "      <button class=\"colab-df-convert\" onclick=\"convertToInteractive('df-21b59bfc-2bf7-4d79-8382-654c6c9290df')\"\n",
              "              title=\"Convert this dataframe to an interactive table.\"\n",
              "              style=\"display:none;\">\n",
              "        \n",
              "  <svg xmlns=\"http://www.w3.org/2000/svg\" height=\"24px\"viewBox=\"0 0 24 24\"\n",
              "       width=\"24px\">\n",
              "    <path d=\"M0 0h24v24H0V0z\" fill=\"none\"/>\n",
              "    <path d=\"M18.56 5.44l.94 2.06.94-2.06 2.06-.94-2.06-.94-.94-2.06-.94 2.06-2.06.94zm-11 1L8.5 8.5l.94-2.06 2.06-.94-2.06-.94L8.5 2.5l-.94 2.06-2.06.94zm10 10l.94 2.06.94-2.06 2.06-.94-2.06-.94-.94-2.06-.94 2.06-2.06.94z\"/><path d=\"M17.41 7.96l-1.37-1.37c-.4-.4-.92-.59-1.43-.59-.52 0-1.04.2-1.43.59L10.3 9.45l-7.72 7.72c-.78.78-.78 2.05 0 2.83L4 21.41c.39.39.9.59 1.41.59.51 0 1.02-.2 1.41-.59l7.78-7.78 2.81-2.81c.8-.78.8-2.07 0-2.86zM5.41 20L4 18.59l7.72-7.72 1.47 1.35L5.41 20z\"/>\n",
              "  </svg>\n",
              "      </button>\n",
              "      \n",
              "  <style>\n",
              "    .colab-df-container {\n",
              "      display:flex;\n",
              "      flex-wrap:wrap;\n",
              "      gap: 12px;\n",
              "    }\n",
              "\n",
              "    .colab-df-convert {\n",
              "      background-color: #E8F0FE;\n",
              "      border: none;\n",
              "      border-radius: 50%;\n",
              "      cursor: pointer;\n",
              "      display: none;\n",
              "      fill: #1967D2;\n",
              "      height: 32px;\n",
              "      padding: 0 0 0 0;\n",
              "      width: 32px;\n",
              "    }\n",
              "\n",
              "    .colab-df-convert:hover {\n",
              "      background-color: #E2EBFA;\n",
              "      box-shadow: 0px 1px 2px rgba(60, 64, 67, 0.3), 0px 1px 3px 1px rgba(60, 64, 67, 0.15);\n",
              "      fill: #174EA6;\n",
              "    }\n",
              "\n",
              "    [theme=dark] .colab-df-convert {\n",
              "      background-color: #3B4455;\n",
              "      fill: #D2E3FC;\n",
              "    }\n",
              "\n",
              "    [theme=dark] .colab-df-convert:hover {\n",
              "      background-color: #434B5C;\n",
              "      box-shadow: 0px 1px 3px 1px rgba(0, 0, 0, 0.15);\n",
              "      filter: drop-shadow(0px 1px 2px rgba(0, 0, 0, 0.3));\n",
              "      fill: #FFFFFF;\n",
              "    }\n",
              "  </style>\n",
              "\n",
              "      <script>\n",
              "        const buttonEl =\n",
              "          document.querySelector('#df-21b59bfc-2bf7-4d79-8382-654c6c9290df button.colab-df-convert');\n",
              "        buttonEl.style.display =\n",
              "          google.colab.kernel.accessAllowed ? 'block' : 'none';\n",
              "\n",
              "        async function convertToInteractive(key) {\n",
              "          const element = document.querySelector('#df-21b59bfc-2bf7-4d79-8382-654c6c9290df');\n",
              "          const dataTable =\n",
              "            await google.colab.kernel.invokeFunction('convertToInteractive',\n",
              "                                                     [key], {});\n",
              "          if (!dataTable) return;\n",
              "\n",
              "          const docLinkHtml = 'Like what you see? Visit the ' +\n",
              "            '<a target=\"_blank\" href=https://colab.research.google.com/notebooks/data_table.ipynb>data table notebook</a>'\n",
              "            + ' to learn more about interactive tables.';\n",
              "          element.innerHTML = '';\n",
              "          dataTable['output_type'] = 'display_data';\n",
              "          await google.colab.output.renderOutput(dataTable, element);\n",
              "          const docLink = document.createElement('div');\n",
              "          docLink.innerHTML = docLinkHtml;\n",
              "          element.appendChild(docLink);\n",
              "        }\n",
              "      </script>\n",
              "    </div>\n",
              "  </div>\n",
              "  "
            ]
          },
          "metadata": {},
          "execution_count": 43
        }
      ]
    },
    {
      "cell_type": "markdown",
      "source": [
        "## vamos a crear multiindex dataframes. "
      ],
      "metadata": {
        "id": "IIueg_DmpytY"
      }
    },
    {
      "cell_type": "code",
      "source": [
        "#Create a multi index and concatenate 2 dataframes:\n",
        "import pandas as pd\n",
        "ev_cars = pd.DataFrame([['Tesla', 50000], ['Lucid', 100000]],\n",
        "                   columns=['Car_Name', 'Price'])\n",
        "ev_cars"
      ],
      "metadata": {
        "colab": {
          "base_uri": "https://localhost:8080/",
          "height": 109
        },
        "id": "t2nlcbXIqAu0",
        "outputId": "ac5cbfcd-a32b-416d-8abb-7892d84176f6"
      },
      "execution_count": null,
      "outputs": [
        {
          "output_type": "execute_result",
          "data": {
            "text/plain": [
              "  Car_Name   Price\n",
              "0    Tesla   50000\n",
              "1    Lucid  100000"
            ],
            "text/html": [
              "\n",
              "  <div id=\"df-f423df8b-26c3-4cab-9b9e-034c942e148e\">\n",
              "    <div class=\"colab-df-container\">\n",
              "      <div>\n",
              "<style scoped>\n",
              "    .dataframe tbody tr th:only-of-type {\n",
              "        vertical-align: middle;\n",
              "    }\n",
              "\n",
              "    .dataframe tbody tr th {\n",
              "        vertical-align: top;\n",
              "    }\n",
              "\n",
              "    .dataframe thead th {\n",
              "        text-align: right;\n",
              "    }\n",
              "</style>\n",
              "<table border=\"1\" class=\"dataframe\">\n",
              "  <thead>\n",
              "    <tr style=\"text-align: right;\">\n",
              "      <th></th>\n",
              "      <th>Car_Name</th>\n",
              "      <th>Price</th>\n",
              "    </tr>\n",
              "  </thead>\n",
              "  <tbody>\n",
              "    <tr>\n",
              "      <th>0</th>\n",
              "      <td>Tesla</td>\n",
              "      <td>50000</td>\n",
              "    </tr>\n",
              "    <tr>\n",
              "      <th>1</th>\n",
              "      <td>Lucid</td>\n",
              "      <td>100000</td>\n",
              "    </tr>\n",
              "  </tbody>\n",
              "</table>\n",
              "</div>\n",
              "      <button class=\"colab-df-convert\" onclick=\"convertToInteractive('df-f423df8b-26c3-4cab-9b9e-034c942e148e')\"\n",
              "              title=\"Convert this dataframe to an interactive table.\"\n",
              "              style=\"display:none;\">\n",
              "        \n",
              "  <svg xmlns=\"http://www.w3.org/2000/svg\" height=\"24px\"viewBox=\"0 0 24 24\"\n",
              "       width=\"24px\">\n",
              "    <path d=\"M0 0h24v24H0V0z\" fill=\"none\"/>\n",
              "    <path d=\"M18.56 5.44l.94 2.06.94-2.06 2.06-.94-2.06-.94-.94-2.06-.94 2.06-2.06.94zm-11 1L8.5 8.5l.94-2.06 2.06-.94-2.06-.94L8.5 2.5l-.94 2.06-2.06.94zm10 10l.94 2.06.94-2.06 2.06-.94-2.06-.94-.94-2.06-.94 2.06-2.06.94z\"/><path d=\"M17.41 7.96l-1.37-1.37c-.4-.4-.92-.59-1.43-.59-.52 0-1.04.2-1.43.59L10.3 9.45l-7.72 7.72c-.78.78-.78 2.05 0 2.83L4 21.41c.39.39.9.59 1.41.59.51 0 1.02-.2 1.41-.59l7.78-7.78 2.81-2.81c.8-.78.8-2.07 0-2.86zM5.41 20L4 18.59l7.72-7.72 1.47 1.35L5.41 20z\"/>\n",
              "  </svg>\n",
              "      </button>\n",
              "      \n",
              "  <style>\n",
              "    .colab-df-container {\n",
              "      display:flex;\n",
              "      flex-wrap:wrap;\n",
              "      gap: 12px;\n",
              "    }\n",
              "\n",
              "    .colab-df-convert {\n",
              "      background-color: #E8F0FE;\n",
              "      border: none;\n",
              "      border-radius: 50%;\n",
              "      cursor: pointer;\n",
              "      display: none;\n",
              "      fill: #1967D2;\n",
              "      height: 32px;\n",
              "      padding: 0 0 0 0;\n",
              "      width: 32px;\n",
              "    }\n",
              "\n",
              "    .colab-df-convert:hover {\n",
              "      background-color: #E2EBFA;\n",
              "      box-shadow: 0px 1px 2px rgba(60, 64, 67, 0.3), 0px 1px 3px 1px rgba(60, 64, 67, 0.15);\n",
              "      fill: #174EA6;\n",
              "    }\n",
              "\n",
              "    [theme=dark] .colab-df-convert {\n",
              "      background-color: #3B4455;\n",
              "      fill: #D2E3FC;\n",
              "    }\n",
              "\n",
              "    [theme=dark] .colab-df-convert:hover {\n",
              "      background-color: #434B5C;\n",
              "      box-shadow: 0px 1px 3px 1px rgba(0, 0, 0, 0.15);\n",
              "      filter: drop-shadow(0px 1px 2px rgba(0, 0, 0, 0.3));\n",
              "      fill: #FFFFFF;\n",
              "    }\n",
              "  </style>\n",
              "\n",
              "      <script>\n",
              "        const buttonEl =\n",
              "          document.querySelector('#df-f423df8b-26c3-4cab-9b9e-034c942e148e button.colab-df-convert');\n",
              "        buttonEl.style.display =\n",
              "          google.colab.kernel.accessAllowed ? 'block' : 'none';\n",
              "\n",
              "        async function convertToInteractive(key) {\n",
              "          const element = document.querySelector('#df-f423df8b-26c3-4cab-9b9e-034c942e148e');\n",
              "          const dataTable =\n",
              "            await google.colab.kernel.invokeFunction('convertToInteractive',\n",
              "                                                     [key], {});\n",
              "          if (!dataTable) return;\n",
              "\n",
              "          const docLinkHtml = 'Like what you see? Visit the ' +\n",
              "            '<a target=\"_blank\" href=https://colab.research.google.com/notebooks/data_table.ipynb>data table notebook</a>'\n",
              "            + ' to learn more about interactive tables.';\n",
              "          element.innerHTML = '';\n",
              "          dataTable['output_type'] = 'display_data';\n",
              "          await google.colab.output.renderOutput(dataTable, element);\n",
              "          const docLink = document.createElement('div');\n",
              "          docLink.innerHTML = docLinkHtml;\n",
              "          element.appendChild(docLink);\n",
              "        }\n",
              "      </script>\n",
              "    </div>\n",
              "  </div>\n",
              "  "
            ]
          },
          "metadata": {},
          "execution_count": 44
        }
      ]
    },
    {
      "cell_type": "code",
      "source": [
        "ic_cars = pd.DataFrame([['Honda', 25000], ['Toyota', 27000]],\n",
        "                   columns=['Car_Name', 'Price'])\n",
        "ic_cars"
      ],
      "metadata": {
        "colab": {
          "base_uri": "https://localhost:8080/",
          "height": 109
        },
        "id": "6DbtFPG8qBIS",
        "outputId": "da569fa5-5535-4f6e-e741-fb8340256fd0"
      },
      "execution_count": null,
      "outputs": [
        {
          "output_type": "execute_result",
          "data": {
            "text/plain": [
              "  Car_Name  Price\n",
              "0    Honda  25000\n",
              "1   Toyota  27000"
            ],
            "text/html": [
              "\n",
              "  <div id=\"df-d3006dca-8750-4c8a-bdd3-ee20d6c2b290\">\n",
              "    <div class=\"colab-df-container\">\n",
              "      <div>\n",
              "<style scoped>\n",
              "    .dataframe tbody tr th:only-of-type {\n",
              "        vertical-align: middle;\n",
              "    }\n",
              "\n",
              "    .dataframe tbody tr th {\n",
              "        vertical-align: top;\n",
              "    }\n",
              "\n",
              "    .dataframe thead th {\n",
              "        text-align: right;\n",
              "    }\n",
              "</style>\n",
              "<table border=\"1\" class=\"dataframe\">\n",
              "  <thead>\n",
              "    <tr style=\"text-align: right;\">\n",
              "      <th></th>\n",
              "      <th>Car_Name</th>\n",
              "      <th>Price</th>\n",
              "    </tr>\n",
              "  </thead>\n",
              "  <tbody>\n",
              "    <tr>\n",
              "      <th>0</th>\n",
              "      <td>Honda</td>\n",
              "      <td>25000</td>\n",
              "    </tr>\n",
              "    <tr>\n",
              "      <th>1</th>\n",
              "      <td>Toyota</td>\n",
              "      <td>27000</td>\n",
              "    </tr>\n",
              "  </tbody>\n",
              "</table>\n",
              "</div>\n",
              "      <button class=\"colab-df-convert\" onclick=\"convertToInteractive('df-d3006dca-8750-4c8a-bdd3-ee20d6c2b290')\"\n",
              "              title=\"Convert this dataframe to an interactive table.\"\n",
              "              style=\"display:none;\">\n",
              "        \n",
              "  <svg xmlns=\"http://www.w3.org/2000/svg\" height=\"24px\"viewBox=\"0 0 24 24\"\n",
              "       width=\"24px\">\n",
              "    <path d=\"M0 0h24v24H0V0z\" fill=\"none\"/>\n",
              "    <path d=\"M18.56 5.44l.94 2.06.94-2.06 2.06-.94-2.06-.94-.94-2.06-.94 2.06-2.06.94zm-11 1L8.5 8.5l.94-2.06 2.06-.94-2.06-.94L8.5 2.5l-.94 2.06-2.06.94zm10 10l.94 2.06.94-2.06 2.06-.94-2.06-.94-.94-2.06-.94 2.06-2.06.94z\"/><path d=\"M17.41 7.96l-1.37-1.37c-.4-.4-.92-.59-1.43-.59-.52 0-1.04.2-1.43.59L10.3 9.45l-7.72 7.72c-.78.78-.78 2.05 0 2.83L4 21.41c.39.39.9.59 1.41.59.51 0 1.02-.2 1.41-.59l7.78-7.78 2.81-2.81c.8-.78.8-2.07 0-2.86zM5.41 20L4 18.59l7.72-7.72 1.47 1.35L5.41 20z\"/>\n",
              "  </svg>\n",
              "      </button>\n",
              "      \n",
              "  <style>\n",
              "    .colab-df-container {\n",
              "      display:flex;\n",
              "      flex-wrap:wrap;\n",
              "      gap: 12px;\n",
              "    }\n",
              "\n",
              "    .colab-df-convert {\n",
              "      background-color: #E8F0FE;\n",
              "      border: none;\n",
              "      border-radius: 50%;\n",
              "      cursor: pointer;\n",
              "      display: none;\n",
              "      fill: #1967D2;\n",
              "      height: 32px;\n",
              "      padding: 0 0 0 0;\n",
              "      width: 32px;\n",
              "    }\n",
              "\n",
              "    .colab-df-convert:hover {\n",
              "      background-color: #E2EBFA;\n",
              "      box-shadow: 0px 1px 2px rgba(60, 64, 67, 0.3), 0px 1px 3px 1px rgba(60, 64, 67, 0.15);\n",
              "      fill: #174EA6;\n",
              "    }\n",
              "\n",
              "    [theme=dark] .colab-df-convert {\n",
              "      background-color: #3B4455;\n",
              "      fill: #D2E3FC;\n",
              "    }\n",
              "\n",
              "    [theme=dark] .colab-df-convert:hover {\n",
              "      background-color: #434B5C;\n",
              "      box-shadow: 0px 1px 3px 1px rgba(0, 0, 0, 0.15);\n",
              "      filter: drop-shadow(0px 1px 2px rgba(0, 0, 0, 0.3));\n",
              "      fill: #FFFFFF;\n",
              "    }\n",
              "  </style>\n",
              "\n",
              "      <script>\n",
              "        const buttonEl =\n",
              "          document.querySelector('#df-d3006dca-8750-4c8a-bdd3-ee20d6c2b290 button.colab-df-convert');\n",
              "        buttonEl.style.display =\n",
              "          google.colab.kernel.accessAllowed ? 'block' : 'none';\n",
              "\n",
              "        async function convertToInteractive(key) {\n",
              "          const element = document.querySelector('#df-d3006dca-8750-4c8a-bdd3-ee20d6c2b290');\n",
              "          const dataTable =\n",
              "            await google.colab.kernel.invokeFunction('convertToInteractive',\n",
              "                                                     [key], {});\n",
              "          if (!dataTable) return;\n",
              "\n",
              "          const docLinkHtml = 'Like what you see? Visit the ' +\n",
              "            '<a target=\"_blank\" href=https://colab.research.google.com/notebooks/data_table.ipynb>data table notebook</a>'\n",
              "            + ' to learn more about interactive tables.';\n",
              "          element.innerHTML = '';\n",
              "          dataTable['output_type'] = 'display_data';\n",
              "          await google.colab.output.renderOutput(dataTable, element);\n",
              "          const docLink = document.createElement('div');\n",
              "          docLink.innerHTML = docLinkHtml;\n",
              "          element.appendChild(docLink);\n",
              "        }\n",
              "      </script>\n",
              "    </div>\n",
              "  </div>\n",
              "  "
            ]
          },
          "metadata": {},
          "execution_count": 45
        }
      ]
    },
    {
      "cell_type": "code",
      "source": [
        "hybrid_cars = pd.DataFrame([['Nissan', 45000], ['BMW', 57000]],\n",
        "                   columns=['Car_Name', 'Price'])\n",
        "hybrid_cars"
      ],
      "metadata": {
        "colab": {
          "base_uri": "https://localhost:8080/",
          "height": 109
        },
        "id": "Xa4U9wScqEUt",
        "outputId": "8869c727-e325-4d80-bdf5-6511c033dae7"
      },
      "execution_count": null,
      "outputs": [
        {
          "output_type": "execute_result",
          "data": {
            "text/plain": [
              "  Car_Name  Price\n",
              "0   Nissan  45000\n",
              "1      BMW  57000"
            ],
            "text/html": [
              "\n",
              "  <div id=\"df-a3c49d03-361e-4a65-a749-0371ece7e9d8\">\n",
              "    <div class=\"colab-df-container\">\n",
              "      <div>\n",
              "<style scoped>\n",
              "    .dataframe tbody tr th:only-of-type {\n",
              "        vertical-align: middle;\n",
              "    }\n",
              "\n",
              "    .dataframe tbody tr th {\n",
              "        vertical-align: top;\n",
              "    }\n",
              "\n",
              "    .dataframe thead th {\n",
              "        text-align: right;\n",
              "    }\n",
              "</style>\n",
              "<table border=\"1\" class=\"dataframe\">\n",
              "  <thead>\n",
              "    <tr style=\"text-align: right;\">\n",
              "      <th></th>\n",
              "      <th>Car_Name</th>\n",
              "      <th>Price</th>\n",
              "    </tr>\n",
              "  </thead>\n",
              "  <tbody>\n",
              "    <tr>\n",
              "      <th>0</th>\n",
              "      <td>Nissan</td>\n",
              "      <td>45000</td>\n",
              "    </tr>\n",
              "    <tr>\n",
              "      <th>1</th>\n",
              "      <td>BMW</td>\n",
              "      <td>57000</td>\n",
              "    </tr>\n",
              "  </tbody>\n",
              "</table>\n",
              "</div>\n",
              "      <button class=\"colab-df-convert\" onclick=\"convertToInteractive('df-a3c49d03-361e-4a65-a749-0371ece7e9d8')\"\n",
              "              title=\"Convert this dataframe to an interactive table.\"\n",
              "              style=\"display:none;\">\n",
              "        \n",
              "  <svg xmlns=\"http://www.w3.org/2000/svg\" height=\"24px\"viewBox=\"0 0 24 24\"\n",
              "       width=\"24px\">\n",
              "    <path d=\"M0 0h24v24H0V0z\" fill=\"none\"/>\n",
              "    <path d=\"M18.56 5.44l.94 2.06.94-2.06 2.06-.94-2.06-.94-.94-2.06-.94 2.06-2.06.94zm-11 1L8.5 8.5l.94-2.06 2.06-.94-2.06-.94L8.5 2.5l-.94 2.06-2.06.94zm10 10l.94 2.06.94-2.06 2.06-.94-2.06-.94-.94-2.06-.94 2.06-2.06.94z\"/><path d=\"M17.41 7.96l-1.37-1.37c-.4-.4-.92-.59-1.43-.59-.52 0-1.04.2-1.43.59L10.3 9.45l-7.72 7.72c-.78.78-.78 2.05 0 2.83L4 21.41c.39.39.9.59 1.41.59.51 0 1.02-.2 1.41-.59l7.78-7.78 2.81-2.81c.8-.78.8-2.07 0-2.86zM5.41 20L4 18.59l7.72-7.72 1.47 1.35L5.41 20z\"/>\n",
              "  </svg>\n",
              "      </button>\n",
              "      \n",
              "  <style>\n",
              "    .colab-df-container {\n",
              "      display:flex;\n",
              "      flex-wrap:wrap;\n",
              "      gap: 12px;\n",
              "    }\n",
              "\n",
              "    .colab-df-convert {\n",
              "      background-color: #E8F0FE;\n",
              "      border: none;\n",
              "      border-radius: 50%;\n",
              "      cursor: pointer;\n",
              "      display: none;\n",
              "      fill: #1967D2;\n",
              "      height: 32px;\n",
              "      padding: 0 0 0 0;\n",
              "      width: 32px;\n",
              "    }\n",
              "\n",
              "    .colab-df-convert:hover {\n",
              "      background-color: #E2EBFA;\n",
              "      box-shadow: 0px 1px 2px rgba(60, 64, 67, 0.3), 0px 1px 3px 1px rgba(60, 64, 67, 0.15);\n",
              "      fill: #174EA6;\n",
              "    }\n",
              "\n",
              "    [theme=dark] .colab-df-convert {\n",
              "      background-color: #3B4455;\n",
              "      fill: #D2E3FC;\n",
              "    }\n",
              "\n",
              "    [theme=dark] .colab-df-convert:hover {\n",
              "      background-color: #434B5C;\n",
              "      box-shadow: 0px 1px 3px 1px rgba(0, 0, 0, 0.15);\n",
              "      filter: drop-shadow(0px 1px 2px rgba(0, 0, 0, 0.3));\n",
              "      fill: #FFFFFF;\n",
              "    }\n",
              "  </style>\n",
              "\n",
              "      <script>\n",
              "        const buttonEl =\n",
              "          document.querySelector('#df-a3c49d03-361e-4a65-a749-0371ece7e9d8 button.colab-df-convert');\n",
              "        buttonEl.style.display =\n",
              "          google.colab.kernel.accessAllowed ? 'block' : 'none';\n",
              "\n",
              "        async function convertToInteractive(key) {\n",
              "          const element = document.querySelector('#df-a3c49d03-361e-4a65-a749-0371ece7e9d8');\n",
              "          const dataTable =\n",
              "            await google.colab.kernel.invokeFunction('convertToInteractive',\n",
              "                                                     [key], {});\n",
              "          if (!dataTable) return;\n",
              "\n",
              "          const docLinkHtml = 'Like what you see? Visit the ' +\n",
              "            '<a target=\"_blank\" href=https://colab.research.google.com/notebooks/data_table.ipynb>data table notebook</a>'\n",
              "            + ' to learn more about interactive tables.';\n",
              "          element.innerHTML = '';\n",
              "          dataTable['output_type'] = 'display_data';\n",
              "          await google.colab.output.renderOutput(dataTable, element);\n",
              "          const docLink = document.createElement('div');\n",
              "          docLink.innerHTML = docLinkHtml;\n",
              "          element.appendChild(docLink);\n",
              "        }\n",
              "      </script>\n",
              "    </div>\n",
              "  </div>\n",
              "  "
            ]
          },
          "metadata": {},
          "execution_count": 46
        }
      ]
    },
    {
      "cell_type": "code",
      "source": [
        "all_cars = pd.concat([ev_cars, ic_cars,hybrid_cars], keys = ['EV','IC','HYBRID'])\n",
        "all_cars"
      ],
      "metadata": {
        "colab": {
          "base_uri": "https://localhost:8080/",
          "height": 231
        },
        "id": "gbE0JwE_qGsl",
        "outputId": "804fbd90-0827-43fe-cc6d-bcfc1b7a6c38"
      },
      "execution_count": null,
      "outputs": [
        {
          "output_type": "execute_result",
          "data": {
            "text/plain": [
              "         Car_Name   Price\n",
              "EV     0    Tesla   50000\n",
              "       1    Lucid  100000\n",
              "IC     0    Honda   25000\n",
              "       1   Toyota   27000\n",
              "HYBRID 0   Nissan   45000\n",
              "       1      BMW   57000"
            ],
            "text/html": [
              "\n",
              "  <div id=\"df-7c9ede5b-ccca-44b5-9933-18a253d534e8\">\n",
              "    <div class=\"colab-df-container\">\n",
              "      <div>\n",
              "<style scoped>\n",
              "    .dataframe tbody tr th:only-of-type {\n",
              "        vertical-align: middle;\n",
              "    }\n",
              "\n",
              "    .dataframe tbody tr th {\n",
              "        vertical-align: top;\n",
              "    }\n",
              "\n",
              "    .dataframe thead th {\n",
              "        text-align: right;\n",
              "    }\n",
              "</style>\n",
              "<table border=\"1\" class=\"dataframe\">\n",
              "  <thead>\n",
              "    <tr style=\"text-align: right;\">\n",
              "      <th></th>\n",
              "      <th></th>\n",
              "      <th>Car_Name</th>\n",
              "      <th>Price</th>\n",
              "    </tr>\n",
              "  </thead>\n",
              "  <tbody>\n",
              "    <tr>\n",
              "      <th rowspan=\"2\" valign=\"top\">EV</th>\n",
              "      <th>0</th>\n",
              "      <td>Tesla</td>\n",
              "      <td>50000</td>\n",
              "    </tr>\n",
              "    <tr>\n",
              "      <th>1</th>\n",
              "      <td>Lucid</td>\n",
              "      <td>100000</td>\n",
              "    </tr>\n",
              "    <tr>\n",
              "      <th rowspan=\"2\" valign=\"top\">IC</th>\n",
              "      <th>0</th>\n",
              "      <td>Honda</td>\n",
              "      <td>25000</td>\n",
              "    </tr>\n",
              "    <tr>\n",
              "      <th>1</th>\n",
              "      <td>Toyota</td>\n",
              "      <td>27000</td>\n",
              "    </tr>\n",
              "    <tr>\n",
              "      <th rowspan=\"2\" valign=\"top\">HYBRID</th>\n",
              "      <th>0</th>\n",
              "      <td>Nissan</td>\n",
              "      <td>45000</td>\n",
              "    </tr>\n",
              "    <tr>\n",
              "      <th>1</th>\n",
              "      <td>BMW</td>\n",
              "      <td>57000</td>\n",
              "    </tr>\n",
              "  </tbody>\n",
              "</table>\n",
              "</div>\n",
              "      <button class=\"colab-df-convert\" onclick=\"convertToInteractive('df-7c9ede5b-ccca-44b5-9933-18a253d534e8')\"\n",
              "              title=\"Convert this dataframe to an interactive table.\"\n",
              "              style=\"display:none;\">\n",
              "        \n",
              "  <svg xmlns=\"http://www.w3.org/2000/svg\" height=\"24px\"viewBox=\"0 0 24 24\"\n",
              "       width=\"24px\">\n",
              "    <path d=\"M0 0h24v24H0V0z\" fill=\"none\"/>\n",
              "    <path d=\"M18.56 5.44l.94 2.06.94-2.06 2.06-.94-2.06-.94-.94-2.06-.94 2.06-2.06.94zm-11 1L8.5 8.5l.94-2.06 2.06-.94-2.06-.94L8.5 2.5l-.94 2.06-2.06.94zm10 10l.94 2.06.94-2.06 2.06-.94-2.06-.94-.94-2.06-.94 2.06-2.06.94z\"/><path d=\"M17.41 7.96l-1.37-1.37c-.4-.4-.92-.59-1.43-.59-.52 0-1.04.2-1.43.59L10.3 9.45l-7.72 7.72c-.78.78-.78 2.05 0 2.83L4 21.41c.39.39.9.59 1.41.59.51 0 1.02-.2 1.41-.59l7.78-7.78 2.81-2.81c.8-.78.8-2.07 0-2.86zM5.41 20L4 18.59l7.72-7.72 1.47 1.35L5.41 20z\"/>\n",
              "  </svg>\n",
              "      </button>\n",
              "      \n",
              "  <style>\n",
              "    .colab-df-container {\n",
              "      display:flex;\n",
              "      flex-wrap:wrap;\n",
              "      gap: 12px;\n",
              "    }\n",
              "\n",
              "    .colab-df-convert {\n",
              "      background-color: #E8F0FE;\n",
              "      border: none;\n",
              "      border-radius: 50%;\n",
              "      cursor: pointer;\n",
              "      display: none;\n",
              "      fill: #1967D2;\n",
              "      height: 32px;\n",
              "      padding: 0 0 0 0;\n",
              "      width: 32px;\n",
              "    }\n",
              "\n",
              "    .colab-df-convert:hover {\n",
              "      background-color: #E2EBFA;\n",
              "      box-shadow: 0px 1px 2px rgba(60, 64, 67, 0.3), 0px 1px 3px 1px rgba(60, 64, 67, 0.15);\n",
              "      fill: #174EA6;\n",
              "    }\n",
              "\n",
              "    [theme=dark] .colab-df-convert {\n",
              "      background-color: #3B4455;\n",
              "      fill: #D2E3FC;\n",
              "    }\n",
              "\n",
              "    [theme=dark] .colab-df-convert:hover {\n",
              "      background-color: #434B5C;\n",
              "      box-shadow: 0px 1px 3px 1px rgba(0, 0, 0, 0.15);\n",
              "      filter: drop-shadow(0px 1px 2px rgba(0, 0, 0, 0.3));\n",
              "      fill: #FFFFFF;\n",
              "    }\n",
              "  </style>\n",
              "\n",
              "      <script>\n",
              "        const buttonEl =\n",
              "          document.querySelector('#df-7c9ede5b-ccca-44b5-9933-18a253d534e8 button.colab-df-convert');\n",
              "        buttonEl.style.display =\n",
              "          google.colab.kernel.accessAllowed ? 'block' : 'none';\n",
              "\n",
              "        async function convertToInteractive(key) {\n",
              "          const element = document.querySelector('#df-7c9ede5b-ccca-44b5-9933-18a253d534e8');\n",
              "          const dataTable =\n",
              "            await google.colab.kernel.invokeFunction('convertToInteractive',\n",
              "                                                     [key], {});\n",
              "          if (!dataTable) return;\n",
              "\n",
              "          const docLinkHtml = 'Like what you see? Visit the ' +\n",
              "            '<a target=\"_blank\" href=https://colab.research.google.com/notebooks/data_table.ipynb>data table notebook</a>'\n",
              "            + ' to learn more about interactive tables.';\n",
              "          element.innerHTML = '';\n",
              "          dataTable['output_type'] = 'display_data';\n",
              "          await google.colab.output.renderOutput(dataTable, element);\n",
              "          const docLink = document.createElement('div');\n",
              "          docLink.innerHTML = docLinkHtml;\n",
              "          element.appendChild(docLink);\n",
              "        }\n",
              "      </script>\n",
              "    </div>\n",
              "  </div>\n",
              "  "
            ]
          },
          "metadata": {},
          "execution_count": 47
        }
      ]
    },
    {
      "cell_type": "code",
      "source": [
        "# para acceder al elemento usar loc\n",
        "all_cars.loc[(\"EV\",1)]"
      ],
      "metadata": {
        "colab": {
          "base_uri": "https://localhost:8080/"
        },
        "id": "nmM5SabeqKnJ",
        "outputId": "8a1b6271-ba14-412a-f9c0-6611722ae7ab"
      },
      "execution_count": null,
      "outputs": [
        {
          "output_type": "execute_result",
          "data": {
            "text/plain": [
              "Car_Name     Lucid\n",
              "Price       100000\n",
              "Name: (EV, 1), dtype: object"
            ]
          },
          "metadata": {},
          "execution_count": 49
        }
      ]
    },
    {
      "cell_type": "markdown",
      "source": [
        "## como fusionar merge dos dataframes."
      ],
      "metadata": {
        "id": "su-P4p27qkT0"
      }
    },
    {
      "cell_type": "code",
      "source": [
        "#Dataframe 1\n",
        "all_cars = pd.DataFrame([['Honda', 25000], ['Toyota', 27000],['Nissan', 45000], ['BMW', 57000],['Tesla', 50000], ['Lucid', 100000]],\n",
        "                   columns=['Car_Name', 'Price'])\n",
        "all_cars"
      ],
      "metadata": {
        "colab": {
          "base_uri": "https://localhost:8080/",
          "height": 231
        },
        "id": "g3y4Sw81zNRc",
        "outputId": "1634eaa8-7a33-4e7e-d8c0-90e507674315"
      },
      "execution_count": null,
      "outputs": [
        {
          "output_type": "execute_result",
          "data": {
            "text/plain": [
              "  Car_Name   Price\n",
              "0    Honda   25000\n",
              "1   Toyota   27000\n",
              "2   Nissan   45000\n",
              "3      BMW   57000\n",
              "4    Tesla   50000\n",
              "5    Lucid  100000"
            ],
            "text/html": [
              "\n",
              "  <div id=\"df-09b75429-ad31-4018-b977-bfa9eb526b31\">\n",
              "    <div class=\"colab-df-container\">\n",
              "      <div>\n",
              "<style scoped>\n",
              "    .dataframe tbody tr th:only-of-type {\n",
              "        vertical-align: middle;\n",
              "    }\n",
              "\n",
              "    .dataframe tbody tr th {\n",
              "        vertical-align: top;\n",
              "    }\n",
              "\n",
              "    .dataframe thead th {\n",
              "        text-align: right;\n",
              "    }\n",
              "</style>\n",
              "<table border=\"1\" class=\"dataframe\">\n",
              "  <thead>\n",
              "    <tr style=\"text-align: right;\">\n",
              "      <th></th>\n",
              "      <th>Car_Name</th>\n",
              "      <th>Price</th>\n",
              "    </tr>\n",
              "  </thead>\n",
              "  <tbody>\n",
              "    <tr>\n",
              "      <th>0</th>\n",
              "      <td>Honda</td>\n",
              "      <td>25000</td>\n",
              "    </tr>\n",
              "    <tr>\n",
              "      <th>1</th>\n",
              "      <td>Toyota</td>\n",
              "      <td>27000</td>\n",
              "    </tr>\n",
              "    <tr>\n",
              "      <th>2</th>\n",
              "      <td>Nissan</td>\n",
              "      <td>45000</td>\n",
              "    </tr>\n",
              "    <tr>\n",
              "      <th>3</th>\n",
              "      <td>BMW</td>\n",
              "      <td>57000</td>\n",
              "    </tr>\n",
              "    <tr>\n",
              "      <th>4</th>\n",
              "      <td>Tesla</td>\n",
              "      <td>50000</td>\n",
              "    </tr>\n",
              "    <tr>\n",
              "      <th>5</th>\n",
              "      <td>Lucid</td>\n",
              "      <td>100000</td>\n",
              "    </tr>\n",
              "  </tbody>\n",
              "</table>\n",
              "</div>\n",
              "      <button class=\"colab-df-convert\" onclick=\"convertToInteractive('df-09b75429-ad31-4018-b977-bfa9eb526b31')\"\n",
              "              title=\"Convert this dataframe to an interactive table.\"\n",
              "              style=\"display:none;\">\n",
              "        \n",
              "  <svg xmlns=\"http://www.w3.org/2000/svg\" height=\"24px\"viewBox=\"0 0 24 24\"\n",
              "       width=\"24px\">\n",
              "    <path d=\"M0 0h24v24H0V0z\" fill=\"none\"/>\n",
              "    <path d=\"M18.56 5.44l.94 2.06.94-2.06 2.06-.94-2.06-.94-.94-2.06-.94 2.06-2.06.94zm-11 1L8.5 8.5l.94-2.06 2.06-.94-2.06-.94L8.5 2.5l-.94 2.06-2.06.94zm10 10l.94 2.06.94-2.06 2.06-.94-2.06-.94-.94-2.06-.94 2.06-2.06.94z\"/><path d=\"M17.41 7.96l-1.37-1.37c-.4-.4-.92-.59-1.43-.59-.52 0-1.04.2-1.43.59L10.3 9.45l-7.72 7.72c-.78.78-.78 2.05 0 2.83L4 21.41c.39.39.9.59 1.41.59.51 0 1.02-.2 1.41-.59l7.78-7.78 2.81-2.81c.8-.78.8-2.07 0-2.86zM5.41 20L4 18.59l7.72-7.72 1.47 1.35L5.41 20z\"/>\n",
              "  </svg>\n",
              "      </button>\n",
              "      \n",
              "  <style>\n",
              "    .colab-df-container {\n",
              "      display:flex;\n",
              "      flex-wrap:wrap;\n",
              "      gap: 12px;\n",
              "    }\n",
              "\n",
              "    .colab-df-convert {\n",
              "      background-color: #E8F0FE;\n",
              "      border: none;\n",
              "      border-radius: 50%;\n",
              "      cursor: pointer;\n",
              "      display: none;\n",
              "      fill: #1967D2;\n",
              "      height: 32px;\n",
              "      padding: 0 0 0 0;\n",
              "      width: 32px;\n",
              "    }\n",
              "\n",
              "    .colab-df-convert:hover {\n",
              "      background-color: #E2EBFA;\n",
              "      box-shadow: 0px 1px 2px rgba(60, 64, 67, 0.3), 0px 1px 3px 1px rgba(60, 64, 67, 0.15);\n",
              "      fill: #174EA6;\n",
              "    }\n",
              "\n",
              "    [theme=dark] .colab-df-convert {\n",
              "      background-color: #3B4455;\n",
              "      fill: #D2E3FC;\n",
              "    }\n",
              "\n",
              "    [theme=dark] .colab-df-convert:hover {\n",
              "      background-color: #434B5C;\n",
              "      box-shadow: 0px 1px 3px 1px rgba(0, 0, 0, 0.15);\n",
              "      filter: drop-shadow(0px 1px 2px rgba(0, 0, 0, 0.3));\n",
              "      fill: #FFFFFF;\n",
              "    }\n",
              "  </style>\n",
              "\n",
              "      <script>\n",
              "        const buttonEl =\n",
              "          document.querySelector('#df-09b75429-ad31-4018-b977-bfa9eb526b31 button.colab-df-convert');\n",
              "        buttonEl.style.display =\n",
              "          google.colab.kernel.accessAllowed ? 'block' : 'none';\n",
              "\n",
              "        async function convertToInteractive(key) {\n",
              "          const element = document.querySelector('#df-09b75429-ad31-4018-b977-bfa9eb526b31');\n",
              "          const dataTable =\n",
              "            await google.colab.kernel.invokeFunction('convertToInteractive',\n",
              "                                                     [key], {});\n",
              "          if (!dataTable) return;\n",
              "\n",
              "          const docLinkHtml = 'Like what you see? Visit the ' +\n",
              "            '<a target=\"_blank\" href=https://colab.research.google.com/notebooks/data_table.ipynb>data table notebook</a>'\n",
              "            + ' to learn more about interactive tables.';\n",
              "          element.innerHTML = '';\n",
              "          dataTable['output_type'] = 'display_data';\n",
              "          await google.colab.output.renderOutput(dataTable, element);\n",
              "          const docLink = document.createElement('div');\n",
              "          docLink.innerHTML = docLinkHtml;\n",
              "          element.appendChild(docLink);\n",
              "        }\n",
              "      </script>\n",
              "    </div>\n",
              "  </div>\n",
              "  "
            ]
          },
          "metadata": {},
          "execution_count": 50
        }
      ]
    },
    {
      "cell_type": "code",
      "source": [
        "#dataframe2\n",
        "mileage_cars = pd.DataFrame([['Honda','IC', 22], ['Toyota','IC',25],['Nissan','Hybrid', 80], ['BMW','Hybrid', 100],['Tesla','EV', 350],['Lucid','EV', 340]],\n",
        "                             columns=['Car_Name','Car_Type', 'Mileage'])\n",
        "mileage_cars     "
      ],
      "metadata": {
        "colab": {
          "base_uri": "https://localhost:8080/",
          "height": 231
        },
        "id": "SOQ-RkaXzNMf",
        "outputId": "2e982b85-a929-409c-bbce-8cb5db285469"
      },
      "execution_count": null,
      "outputs": [
        {
          "output_type": "execute_result",
          "data": {
            "text/plain": [
              "  Car_Name Car_Type  Mileage\n",
              "0    Honda       IC       22\n",
              "1   Toyota       IC       25\n",
              "2   Nissan   Hybrid       80\n",
              "3      BMW   Hybrid      100\n",
              "4    Tesla       EV      350\n",
              "5    Lucid       EV      340"
            ],
            "text/html": [
              "\n",
              "  <div id=\"df-f78ec657-c039-4aa5-b204-5a0b4e03ef90\">\n",
              "    <div class=\"colab-df-container\">\n",
              "      <div>\n",
              "<style scoped>\n",
              "    .dataframe tbody tr th:only-of-type {\n",
              "        vertical-align: middle;\n",
              "    }\n",
              "\n",
              "    .dataframe tbody tr th {\n",
              "        vertical-align: top;\n",
              "    }\n",
              "\n",
              "    .dataframe thead th {\n",
              "        text-align: right;\n",
              "    }\n",
              "</style>\n",
              "<table border=\"1\" class=\"dataframe\">\n",
              "  <thead>\n",
              "    <tr style=\"text-align: right;\">\n",
              "      <th></th>\n",
              "      <th>Car_Name</th>\n",
              "      <th>Car_Type</th>\n",
              "      <th>Mileage</th>\n",
              "    </tr>\n",
              "  </thead>\n",
              "  <tbody>\n",
              "    <tr>\n",
              "      <th>0</th>\n",
              "      <td>Honda</td>\n",
              "      <td>IC</td>\n",
              "      <td>22</td>\n",
              "    </tr>\n",
              "    <tr>\n",
              "      <th>1</th>\n",
              "      <td>Toyota</td>\n",
              "      <td>IC</td>\n",
              "      <td>25</td>\n",
              "    </tr>\n",
              "    <tr>\n",
              "      <th>2</th>\n",
              "      <td>Nissan</td>\n",
              "      <td>Hybrid</td>\n",
              "      <td>80</td>\n",
              "    </tr>\n",
              "    <tr>\n",
              "      <th>3</th>\n",
              "      <td>BMW</td>\n",
              "      <td>Hybrid</td>\n",
              "      <td>100</td>\n",
              "    </tr>\n",
              "    <tr>\n",
              "      <th>4</th>\n",
              "      <td>Tesla</td>\n",
              "      <td>EV</td>\n",
              "      <td>350</td>\n",
              "    </tr>\n",
              "    <tr>\n",
              "      <th>5</th>\n",
              "      <td>Lucid</td>\n",
              "      <td>EV</td>\n",
              "      <td>340</td>\n",
              "    </tr>\n",
              "  </tbody>\n",
              "</table>\n",
              "</div>\n",
              "      <button class=\"colab-df-convert\" onclick=\"convertToInteractive('df-f78ec657-c039-4aa5-b204-5a0b4e03ef90')\"\n",
              "              title=\"Convert this dataframe to an interactive table.\"\n",
              "              style=\"display:none;\">\n",
              "        \n",
              "  <svg xmlns=\"http://www.w3.org/2000/svg\" height=\"24px\"viewBox=\"0 0 24 24\"\n",
              "       width=\"24px\">\n",
              "    <path d=\"M0 0h24v24H0V0z\" fill=\"none\"/>\n",
              "    <path d=\"M18.56 5.44l.94 2.06.94-2.06 2.06-.94-2.06-.94-.94-2.06-.94 2.06-2.06.94zm-11 1L8.5 8.5l.94-2.06 2.06-.94-2.06-.94L8.5 2.5l-.94 2.06-2.06.94zm10 10l.94 2.06.94-2.06 2.06-.94-2.06-.94-.94-2.06-.94 2.06-2.06.94z\"/><path d=\"M17.41 7.96l-1.37-1.37c-.4-.4-.92-.59-1.43-.59-.52 0-1.04.2-1.43.59L10.3 9.45l-7.72 7.72c-.78.78-.78 2.05 0 2.83L4 21.41c.39.39.9.59 1.41.59.51 0 1.02-.2 1.41-.59l7.78-7.78 2.81-2.81c.8-.78.8-2.07 0-2.86zM5.41 20L4 18.59l7.72-7.72 1.47 1.35L5.41 20z\"/>\n",
              "  </svg>\n",
              "      </button>\n",
              "      \n",
              "  <style>\n",
              "    .colab-df-container {\n",
              "      display:flex;\n",
              "      flex-wrap:wrap;\n",
              "      gap: 12px;\n",
              "    }\n",
              "\n",
              "    .colab-df-convert {\n",
              "      background-color: #E8F0FE;\n",
              "      border: none;\n",
              "      border-radius: 50%;\n",
              "      cursor: pointer;\n",
              "      display: none;\n",
              "      fill: #1967D2;\n",
              "      height: 32px;\n",
              "      padding: 0 0 0 0;\n",
              "      width: 32px;\n",
              "    }\n",
              "\n",
              "    .colab-df-convert:hover {\n",
              "      background-color: #E2EBFA;\n",
              "      box-shadow: 0px 1px 2px rgba(60, 64, 67, 0.3), 0px 1px 3px 1px rgba(60, 64, 67, 0.15);\n",
              "      fill: #174EA6;\n",
              "    }\n",
              "\n",
              "    [theme=dark] .colab-df-convert {\n",
              "      background-color: #3B4455;\n",
              "      fill: #D2E3FC;\n",
              "    }\n",
              "\n",
              "    [theme=dark] .colab-df-convert:hover {\n",
              "      background-color: #434B5C;\n",
              "      box-shadow: 0px 1px 3px 1px rgba(0, 0, 0, 0.15);\n",
              "      filter: drop-shadow(0px 1px 2px rgba(0, 0, 0, 0.3));\n",
              "      fill: #FFFFFF;\n",
              "    }\n",
              "  </style>\n",
              "\n",
              "      <script>\n",
              "        const buttonEl =\n",
              "          document.querySelector('#df-f78ec657-c039-4aa5-b204-5a0b4e03ef90 button.colab-df-convert');\n",
              "        buttonEl.style.display =\n",
              "          google.colab.kernel.accessAllowed ? 'block' : 'none';\n",
              "\n",
              "        async function convertToInteractive(key) {\n",
              "          const element = document.querySelector('#df-f78ec657-c039-4aa5-b204-5a0b4e03ef90');\n",
              "          const dataTable =\n",
              "            await google.colab.kernel.invokeFunction('convertToInteractive',\n",
              "                                                     [key], {});\n",
              "          if (!dataTable) return;\n",
              "\n",
              "          const docLinkHtml = 'Like what you see? Visit the ' +\n",
              "            '<a target=\"_blank\" href=https://colab.research.google.com/notebooks/data_table.ipynb>data table notebook</a>'\n",
              "            + ' to learn more about interactive tables.';\n",
              "          element.innerHTML = '';\n",
              "          dataTable['output_type'] = 'display_data';\n",
              "          await google.colab.output.renderOutput(dataTable, element);\n",
              "          const docLink = document.createElement('div');\n",
              "          docLink.innerHTML = docLinkHtml;\n",
              "          element.appendChild(docLink);\n",
              "        }\n",
              "      </script>\n",
              "    </div>\n",
              "  </div>\n",
              "  "
            ]
          },
          "metadata": {},
          "execution_count": 51
        }
      ]
    },
    {
      "cell_type": "code",
      "source": [
        "#Merge the 2 dataframe on Car_Name\n",
        "cars_merged = pd.merge(all_cars, mileage_cars, on = 'Car_Name')\n",
        "cars_merged"
      ],
      "metadata": {
        "colab": {
          "base_uri": "https://localhost:8080/",
          "height": 231
        },
        "id": "KfY_JBJvzXmk",
        "outputId": "ea53f415-14f8-4c70-8156-2deafdeb9fe0"
      },
      "execution_count": null,
      "outputs": [
        {
          "output_type": "execute_result",
          "data": {
            "text/plain": [
              "  Car_Name   Price Car_Type  Mileage\n",
              "0    Honda   25000       IC       22\n",
              "1   Toyota   27000       IC       25\n",
              "2   Nissan   45000   Hybrid       80\n",
              "3      BMW   57000   Hybrid      100\n",
              "4    Tesla   50000       EV      350\n",
              "5    Lucid  100000       EV      340"
            ],
            "text/html": [
              "\n",
              "  <div id=\"df-34a38d8f-f7f4-4892-b49c-8009dff2b000\">\n",
              "    <div class=\"colab-df-container\">\n",
              "      <div>\n",
              "<style scoped>\n",
              "    .dataframe tbody tr th:only-of-type {\n",
              "        vertical-align: middle;\n",
              "    }\n",
              "\n",
              "    .dataframe tbody tr th {\n",
              "        vertical-align: top;\n",
              "    }\n",
              "\n",
              "    .dataframe thead th {\n",
              "        text-align: right;\n",
              "    }\n",
              "</style>\n",
              "<table border=\"1\" class=\"dataframe\">\n",
              "  <thead>\n",
              "    <tr style=\"text-align: right;\">\n",
              "      <th></th>\n",
              "      <th>Car_Name</th>\n",
              "      <th>Price</th>\n",
              "      <th>Car_Type</th>\n",
              "      <th>Mileage</th>\n",
              "    </tr>\n",
              "  </thead>\n",
              "  <tbody>\n",
              "    <tr>\n",
              "      <th>0</th>\n",
              "      <td>Honda</td>\n",
              "      <td>25000</td>\n",
              "      <td>IC</td>\n",
              "      <td>22</td>\n",
              "    </tr>\n",
              "    <tr>\n",
              "      <th>1</th>\n",
              "      <td>Toyota</td>\n",
              "      <td>27000</td>\n",
              "      <td>IC</td>\n",
              "      <td>25</td>\n",
              "    </tr>\n",
              "    <tr>\n",
              "      <th>2</th>\n",
              "      <td>Nissan</td>\n",
              "      <td>45000</td>\n",
              "      <td>Hybrid</td>\n",
              "      <td>80</td>\n",
              "    </tr>\n",
              "    <tr>\n",
              "      <th>3</th>\n",
              "      <td>BMW</td>\n",
              "      <td>57000</td>\n",
              "      <td>Hybrid</td>\n",
              "      <td>100</td>\n",
              "    </tr>\n",
              "    <tr>\n",
              "      <th>4</th>\n",
              "      <td>Tesla</td>\n",
              "      <td>50000</td>\n",
              "      <td>EV</td>\n",
              "      <td>350</td>\n",
              "    </tr>\n",
              "    <tr>\n",
              "      <th>5</th>\n",
              "      <td>Lucid</td>\n",
              "      <td>100000</td>\n",
              "      <td>EV</td>\n",
              "      <td>340</td>\n",
              "    </tr>\n",
              "  </tbody>\n",
              "</table>\n",
              "</div>\n",
              "      <button class=\"colab-df-convert\" onclick=\"convertToInteractive('df-34a38d8f-f7f4-4892-b49c-8009dff2b000')\"\n",
              "              title=\"Convert this dataframe to an interactive table.\"\n",
              "              style=\"display:none;\">\n",
              "        \n",
              "  <svg xmlns=\"http://www.w3.org/2000/svg\" height=\"24px\"viewBox=\"0 0 24 24\"\n",
              "       width=\"24px\">\n",
              "    <path d=\"M0 0h24v24H0V0z\" fill=\"none\"/>\n",
              "    <path d=\"M18.56 5.44l.94 2.06.94-2.06 2.06-.94-2.06-.94-.94-2.06-.94 2.06-2.06.94zm-11 1L8.5 8.5l.94-2.06 2.06-.94-2.06-.94L8.5 2.5l-.94 2.06-2.06.94zm10 10l.94 2.06.94-2.06 2.06-.94-2.06-.94-.94-2.06-.94 2.06-2.06.94z\"/><path d=\"M17.41 7.96l-1.37-1.37c-.4-.4-.92-.59-1.43-.59-.52 0-1.04.2-1.43.59L10.3 9.45l-7.72 7.72c-.78.78-.78 2.05 0 2.83L4 21.41c.39.39.9.59 1.41.59.51 0 1.02-.2 1.41-.59l7.78-7.78 2.81-2.81c.8-.78.8-2.07 0-2.86zM5.41 20L4 18.59l7.72-7.72 1.47 1.35L5.41 20z\"/>\n",
              "  </svg>\n",
              "      </button>\n",
              "      \n",
              "  <style>\n",
              "    .colab-df-container {\n",
              "      display:flex;\n",
              "      flex-wrap:wrap;\n",
              "      gap: 12px;\n",
              "    }\n",
              "\n",
              "    .colab-df-convert {\n",
              "      background-color: #E8F0FE;\n",
              "      border: none;\n",
              "      border-radius: 50%;\n",
              "      cursor: pointer;\n",
              "      display: none;\n",
              "      fill: #1967D2;\n",
              "      height: 32px;\n",
              "      padding: 0 0 0 0;\n",
              "      width: 32px;\n",
              "    }\n",
              "\n",
              "    .colab-df-convert:hover {\n",
              "      background-color: #E2EBFA;\n",
              "      box-shadow: 0px 1px 2px rgba(60, 64, 67, 0.3), 0px 1px 3px 1px rgba(60, 64, 67, 0.15);\n",
              "      fill: #174EA6;\n",
              "    }\n",
              "\n",
              "    [theme=dark] .colab-df-convert {\n",
              "      background-color: #3B4455;\n",
              "      fill: #D2E3FC;\n",
              "    }\n",
              "\n",
              "    [theme=dark] .colab-df-convert:hover {\n",
              "      background-color: #434B5C;\n",
              "      box-shadow: 0px 1px 3px 1px rgba(0, 0, 0, 0.15);\n",
              "      filter: drop-shadow(0px 1px 2px rgba(0, 0, 0, 0.3));\n",
              "      fill: #FFFFFF;\n",
              "    }\n",
              "  </style>\n",
              "\n",
              "      <script>\n",
              "        const buttonEl =\n",
              "          document.querySelector('#df-34a38d8f-f7f4-4892-b49c-8009dff2b000 button.colab-df-convert');\n",
              "        buttonEl.style.display =\n",
              "          google.colab.kernel.accessAllowed ? 'block' : 'none';\n",
              "\n",
              "        async function convertToInteractive(key) {\n",
              "          const element = document.querySelector('#df-34a38d8f-f7f4-4892-b49c-8009dff2b000');\n",
              "          const dataTable =\n",
              "            await google.colab.kernel.invokeFunction('convertToInteractive',\n",
              "                                                     [key], {});\n",
              "          if (!dataTable) return;\n",
              "\n",
              "          const docLinkHtml = 'Like what you see? Visit the ' +\n",
              "            '<a target=\"_blank\" href=https://colab.research.google.com/notebooks/data_table.ipynb>data table notebook</a>'\n",
              "            + ' to learn more about interactive tables.';\n",
              "          element.innerHTML = '';\n",
              "          dataTable['output_type'] = 'display_data';\n",
              "          await google.colab.output.renderOutput(dataTable, element);\n",
              "          const docLink = document.createElement('div');\n",
              "          docLink.innerHTML = docLinkHtml;\n",
              "          element.appendChild(docLink);\n",
              "        }\n",
              "      </script>\n",
              "    </div>\n",
              "  </div>\n",
              "  "
            ]
          },
          "metadata": {},
          "execution_count": 52
        }
      ]
    },
    {
      "cell_type": "code",
      "source": [
        "#left join\n",
        "merged_df = pd.merge(df1, df2, on=[‘key1’],how=\"left\")"
      ],
      "metadata": {
        "id": "1I5_6xMVzbiX"
      },
      "execution_count": null,
      "outputs": []
    },
    {
      "cell_type": "code",
      "source": [
        "#right join\n",
        "merged_df = pd.merge(df1, df2, on=[‘key1’],how=\"right\")"
      ],
      "metadata": {
        "id": "ZVv-KCV21jIh"
      },
      "execution_count": null,
      "outputs": []
    },
    {
      "cell_type": "code",
      "source": [
        "#outer join\n",
        "merged_df = pd.merge(df1, df2, on=[‘key1’],how=\"outer\")"
      ],
      "metadata": {
        "id": "jo8FHvXL13C9"
      },
      "execution_count": null,
      "outputs": []
    },
    {
      "cell_type": "code",
      "source": [
        "#Inner join\n",
        "merged_df = pd.merge(df1, df2, on=[‘key1’])"
      ],
      "metadata": {
        "id": "6avsEv2l2BF6"
      },
      "execution_count": null,
      "outputs": []
    },
    {
      "cell_type": "code",
      "source": [
        "#single key merge\n",
        "pd.merge(df1,df2, on = ‘Key1’)"
      ],
      "metadata": {
        "id": "pMkXglSv2BCh"
      },
      "execution_count": null,
      "outputs": []
    },
    {
      "cell_type": "code",
      "source": [
        "#multiple keys merge\n",
        "pd.merge(df1,df2, on =[‘key1’,’key2','Key3])"
      ],
      "metadata": {
        "id": "hKLKqy3E2A9z"
      },
      "execution_count": null,
      "outputs": []
    },
    {
      "cell_type": "code",
      "source": [
        "left.merge(right, left_on=['lkey1', 'lkey2'], right_on=['rkey1', 'rkey2'])"
      ],
      "metadata": {
        "id": "HGhEz_Ac2adO"
      },
      "execution_count": null,
      "outputs": []
    },
    {
      "cell_type": "markdown",
      "source": [
        "## como utilizar groupby y apply para algunas funciones"
      ],
      "metadata": {
        "id": "s_TGSO_P2cGL"
      }
    },
    {
      "cell_type": "code",
      "source": [
        "# lo primero que vamos a hacer es usar el groupby y después la funcion\n",
        "import pandas as pd\n",
        "titanic_df = pd.read_csv(\"/content/sample_data/train.csv\")\n",
        "titanic_df.groupby(\"Pclass\").sum()\n",
        "\n",
        "\t\tPassengerId\tSurvived\tAge\tSibSp\tParch\tFare\n",
        "Pclass\t\t\t\t\t\t\n",
        "1\t\t99705\t\t136\t\t7111.42\t\t90\t\t77\t18177.4125\n",
        "2\t\t82056\t\t87\t\t5168.83\t\t74\t\t70\t3801.8417\n",
        "3\t\t215625\t\t119\t\t8924.92\t\t302\t\t193\t6714.6951"
      ],
      "metadata": {
        "id": "taBQvt182aaB"
      },
      "execution_count": null,
      "outputs": []
    },
    {
      "cell_type": "code",
      "source": [
        "#You can also group by multiple columns. here groupby sex and passenger class. Then apply sum\n",
        "import pandas as pd\n",
        "titanic_df = pd.read_csv(\"/content/sample_data/train.csv\")\n",
        "titanic_df.groupby(['Sex','Pclass'])[['Fare']].sum()"
      ],
      "metadata": {
        "id": "nZ2Q7Kum2aT3"
      },
      "execution_count": null,
      "outputs": []
    },
    {
      "cell_type": "code",
      "source": [
        "# también podemos hacer esto. \n",
        "#Use the get_group() method.\n",
        "import pandas as pd\n",
        "titanic_df = pd.read_csv(“/content/sample_data/train.csv”)\n",
        "gender_df = titanic_df.groupby(“Sex”)\n",
        "gender_df.get_group(“male”)"
      ],
      "metadata": {
        "id": "PYGIr5X-2aQe"
      },
      "execution_count": null,
      "outputs": []
    },
    {
      "cell_type": "markdown",
      "source": [
        "## como utilizar apply the agg para groupby"
      ],
      "metadata": {
        "id": "l1_xltGn353S"
      }
    },
    {
      "cell_type": "code",
      "source": [
        "import pandas as pd\n",
        "titanic_df = pd.read_csv(\"/content/sample_data/train.csv\")\n",
        "titanic_df.groupby(\"Pclass\").agg({'Fare':['min', 'max','sum','std']}) \n",
        "\n",
        "\n",
        "\t\tFare\n",
        "\t\tmin\t\tmax\t\tsum\t\tstd\n",
        "Pclass\t\t\t\t\n",
        "1\t0.0\t512.3292\t18177.4125\t78.380373\n",
        "2\t0.0\t73.5000\t3801.8417\t13.417399\n",
        "3\t0.0\t69.5500\t6714.6951\t11.778142"
      ],
      "metadata": {
        "id": "1FXK-NCa2aLz"
      },
      "execution_count": null,
      "outputs": []
    },
    {
      "cell_type": "markdown",
      "source": [
        "## iterar por un dataframe. "
      ],
      "metadata": {
        "id": "D33KDVFt5hbA"
      }
    },
    {
      "cell_type": "code",
      "source": [
        "# esto itera por filas. \n",
        "cars = pd.DataFrame([['Honda', 25000], ['Toyota', 27000],['Nissan', 45000], ['BMW', 57000],['Tesla', 50000], ['Lucid', 100000]],\n",
        "                   columns=['Car_Name', 'Price'])\n",
        "cars\n"
      ],
      "metadata": {
        "colab": {
          "base_uri": "https://localhost:8080/",
          "height": 231
        },
        "id": "_e2ThBQp5ohC",
        "outputId": "45342654-421c-44f3-d73c-ba28504d4067"
      },
      "execution_count": null,
      "outputs": [
        {
          "output_type": "execute_result",
          "data": {
            "text/plain": [
              "  Car_Name   Price\n",
              "0    Honda   25000\n",
              "1   Toyota   27000\n",
              "2   Nissan   45000\n",
              "3      BMW   57000\n",
              "4    Tesla   50000\n",
              "5    Lucid  100000"
            ],
            "text/html": [
              "\n",
              "  <div id=\"df-b13ee115-a09a-4ff5-b4de-b331c2e1b950\">\n",
              "    <div class=\"colab-df-container\">\n",
              "      <div>\n",
              "<style scoped>\n",
              "    .dataframe tbody tr th:only-of-type {\n",
              "        vertical-align: middle;\n",
              "    }\n",
              "\n",
              "    .dataframe tbody tr th {\n",
              "        vertical-align: top;\n",
              "    }\n",
              "\n",
              "    .dataframe thead th {\n",
              "        text-align: right;\n",
              "    }\n",
              "</style>\n",
              "<table border=\"1\" class=\"dataframe\">\n",
              "  <thead>\n",
              "    <tr style=\"text-align: right;\">\n",
              "      <th></th>\n",
              "      <th>Car_Name</th>\n",
              "      <th>Price</th>\n",
              "    </tr>\n",
              "  </thead>\n",
              "  <tbody>\n",
              "    <tr>\n",
              "      <th>0</th>\n",
              "      <td>Honda</td>\n",
              "      <td>25000</td>\n",
              "    </tr>\n",
              "    <tr>\n",
              "      <th>1</th>\n",
              "      <td>Toyota</td>\n",
              "      <td>27000</td>\n",
              "    </tr>\n",
              "    <tr>\n",
              "      <th>2</th>\n",
              "      <td>Nissan</td>\n",
              "      <td>45000</td>\n",
              "    </tr>\n",
              "    <tr>\n",
              "      <th>3</th>\n",
              "      <td>BMW</td>\n",
              "      <td>57000</td>\n",
              "    </tr>\n",
              "    <tr>\n",
              "      <th>4</th>\n",
              "      <td>Tesla</td>\n",
              "      <td>50000</td>\n",
              "    </tr>\n",
              "    <tr>\n",
              "      <th>5</th>\n",
              "      <td>Lucid</td>\n",
              "      <td>100000</td>\n",
              "    </tr>\n",
              "  </tbody>\n",
              "</table>\n",
              "</div>\n",
              "      <button class=\"colab-df-convert\" onclick=\"convertToInteractive('df-b13ee115-a09a-4ff5-b4de-b331c2e1b950')\"\n",
              "              title=\"Convert this dataframe to an interactive table.\"\n",
              "              style=\"display:none;\">\n",
              "        \n",
              "  <svg xmlns=\"http://www.w3.org/2000/svg\" height=\"24px\"viewBox=\"0 0 24 24\"\n",
              "       width=\"24px\">\n",
              "    <path d=\"M0 0h24v24H0V0z\" fill=\"none\"/>\n",
              "    <path d=\"M18.56 5.44l.94 2.06.94-2.06 2.06-.94-2.06-.94-.94-2.06-.94 2.06-2.06.94zm-11 1L8.5 8.5l.94-2.06 2.06-.94-2.06-.94L8.5 2.5l-.94 2.06-2.06.94zm10 10l.94 2.06.94-2.06 2.06-.94-2.06-.94-.94-2.06-.94 2.06-2.06.94z\"/><path d=\"M17.41 7.96l-1.37-1.37c-.4-.4-.92-.59-1.43-.59-.52 0-1.04.2-1.43.59L10.3 9.45l-7.72 7.72c-.78.78-.78 2.05 0 2.83L4 21.41c.39.39.9.59 1.41.59.51 0 1.02-.2 1.41-.59l7.78-7.78 2.81-2.81c.8-.78.8-2.07 0-2.86zM5.41 20L4 18.59l7.72-7.72 1.47 1.35L5.41 20z\"/>\n",
              "  </svg>\n",
              "      </button>\n",
              "      \n",
              "  <style>\n",
              "    .colab-df-container {\n",
              "      display:flex;\n",
              "      flex-wrap:wrap;\n",
              "      gap: 12px;\n",
              "    }\n",
              "\n",
              "    .colab-df-convert {\n",
              "      background-color: #E8F0FE;\n",
              "      border: none;\n",
              "      border-radius: 50%;\n",
              "      cursor: pointer;\n",
              "      display: none;\n",
              "      fill: #1967D2;\n",
              "      height: 32px;\n",
              "      padding: 0 0 0 0;\n",
              "      width: 32px;\n",
              "    }\n",
              "\n",
              "    .colab-df-convert:hover {\n",
              "      background-color: #E2EBFA;\n",
              "      box-shadow: 0px 1px 2px rgba(60, 64, 67, 0.3), 0px 1px 3px 1px rgba(60, 64, 67, 0.15);\n",
              "      fill: #174EA6;\n",
              "    }\n",
              "\n",
              "    [theme=dark] .colab-df-convert {\n",
              "      background-color: #3B4455;\n",
              "      fill: #D2E3FC;\n",
              "    }\n",
              "\n",
              "    [theme=dark] .colab-df-convert:hover {\n",
              "      background-color: #434B5C;\n",
              "      box-shadow: 0px 1px 3px 1px rgba(0, 0, 0, 0.15);\n",
              "      filter: drop-shadow(0px 1px 2px rgba(0, 0, 0, 0.3));\n",
              "      fill: #FFFFFF;\n",
              "    }\n",
              "  </style>\n",
              "\n",
              "      <script>\n",
              "        const buttonEl =\n",
              "          document.querySelector('#df-b13ee115-a09a-4ff5-b4de-b331c2e1b950 button.colab-df-convert');\n",
              "        buttonEl.style.display =\n",
              "          google.colab.kernel.accessAllowed ? 'block' : 'none';\n",
              "\n",
              "        async function convertToInteractive(key) {\n",
              "          const element = document.querySelector('#df-b13ee115-a09a-4ff5-b4de-b331c2e1b950');\n",
              "          const dataTable =\n",
              "            await google.colab.kernel.invokeFunction('convertToInteractive',\n",
              "                                                     [key], {});\n",
              "          if (!dataTable) return;\n",
              "\n",
              "          const docLinkHtml = 'Like what you see? Visit the ' +\n",
              "            '<a target=\"_blank\" href=https://colab.research.google.com/notebooks/data_table.ipynb>data table notebook</a>'\n",
              "            + ' to learn more about interactive tables.';\n",
              "          element.innerHTML = '';\n",
              "          dataTable['output_type'] = 'display_data';\n",
              "          await google.colab.output.renderOutput(dataTable, element);\n",
              "          const docLink = document.createElement('div');\n",
              "          docLink.innerHTML = docLinkHtml;\n",
              "          element.appendChild(docLink);\n",
              "        }\n",
              "      </script>\n",
              "    </div>\n",
              "  </div>\n",
              "  "
            ]
          },
          "metadata": {},
          "execution_count": 53
        }
      ]
    },
    {
      "cell_type": "code",
      "source": [
        "for ind, row in cars.iterrows(): # esto lo que hace es ir fila por fila. \n",
        "    print(\"index {} values: {}\".format(ind, row.values))"
      ],
      "metadata": {
        "colab": {
          "base_uri": "https://localhost:8080/"
        },
        "id": "9XPlbBqC5wsK",
        "outputId": "55da6c17-5bdd-4cc3-a2cc-f166fd68102c"
      },
      "execution_count": null,
      "outputs": [
        {
          "output_type": "stream",
          "name": "stdout",
          "text": [
            "index 0 values: ['Honda' 25000]\n",
            "index 1 values: ['Toyota' 27000]\n",
            "index 2 values: ['Nissan' 45000]\n",
            "index 3 values: ['BMW' 57000]\n",
            "index 4 values: ['Tesla' 50000]\n",
            "index 5 values: ['Lucid' 100000]\n"
          ]
        }
      ]
    },
    {
      "cell_type": "code",
      "source": [
        "# esto lo que hace es ir columna por columna\n",
        "\n",
        "cars = pd.DataFrame([['Honda', 25000], ['Toyota', 27000],['Nissan', 45000], ['BMW', 57000],['Tesla', 50000], ['Lucid', 100000]],\n",
        "                   columns=['Car_Name', 'Price'])\n",
        "cars\n",
        "\n"
      ],
      "metadata": {
        "colab": {
          "base_uri": "https://localhost:8080/",
          "height": 231
        },
        "id": "Yb7EY5136GOQ",
        "outputId": "fca71cf1-812a-48b0-94b7-14ca15ab745d"
      },
      "execution_count": null,
      "outputs": [
        {
          "output_type": "execute_result",
          "data": {
            "text/plain": [
              "  Car_Name   Price\n",
              "0    Honda   25000\n",
              "1   Toyota   27000\n",
              "2   Nissan   45000\n",
              "3      BMW   57000\n",
              "4    Tesla   50000\n",
              "5    Lucid  100000"
            ],
            "text/html": [
              "\n",
              "  <div id=\"df-78e025d1-2ae6-4da8-8686-f4cd139c5d15\">\n",
              "    <div class=\"colab-df-container\">\n",
              "      <div>\n",
              "<style scoped>\n",
              "    .dataframe tbody tr th:only-of-type {\n",
              "        vertical-align: middle;\n",
              "    }\n",
              "\n",
              "    .dataframe tbody tr th {\n",
              "        vertical-align: top;\n",
              "    }\n",
              "\n",
              "    .dataframe thead th {\n",
              "        text-align: right;\n",
              "    }\n",
              "</style>\n",
              "<table border=\"1\" class=\"dataframe\">\n",
              "  <thead>\n",
              "    <tr style=\"text-align: right;\">\n",
              "      <th></th>\n",
              "      <th>Car_Name</th>\n",
              "      <th>Price</th>\n",
              "    </tr>\n",
              "  </thead>\n",
              "  <tbody>\n",
              "    <tr>\n",
              "      <th>0</th>\n",
              "      <td>Honda</td>\n",
              "      <td>25000</td>\n",
              "    </tr>\n",
              "    <tr>\n",
              "      <th>1</th>\n",
              "      <td>Toyota</td>\n",
              "      <td>27000</td>\n",
              "    </tr>\n",
              "    <tr>\n",
              "      <th>2</th>\n",
              "      <td>Nissan</td>\n",
              "      <td>45000</td>\n",
              "    </tr>\n",
              "    <tr>\n",
              "      <th>3</th>\n",
              "      <td>BMW</td>\n",
              "      <td>57000</td>\n",
              "    </tr>\n",
              "    <tr>\n",
              "      <th>4</th>\n",
              "      <td>Tesla</td>\n",
              "      <td>50000</td>\n",
              "    </tr>\n",
              "    <tr>\n",
              "      <th>5</th>\n",
              "      <td>Lucid</td>\n",
              "      <td>100000</td>\n",
              "    </tr>\n",
              "  </tbody>\n",
              "</table>\n",
              "</div>\n",
              "      <button class=\"colab-df-convert\" onclick=\"convertToInteractive('df-78e025d1-2ae6-4da8-8686-f4cd139c5d15')\"\n",
              "              title=\"Convert this dataframe to an interactive table.\"\n",
              "              style=\"display:none;\">\n",
              "        \n",
              "  <svg xmlns=\"http://www.w3.org/2000/svg\" height=\"24px\"viewBox=\"0 0 24 24\"\n",
              "       width=\"24px\">\n",
              "    <path d=\"M0 0h24v24H0V0z\" fill=\"none\"/>\n",
              "    <path d=\"M18.56 5.44l.94 2.06.94-2.06 2.06-.94-2.06-.94-.94-2.06-.94 2.06-2.06.94zm-11 1L8.5 8.5l.94-2.06 2.06-.94-2.06-.94L8.5 2.5l-.94 2.06-2.06.94zm10 10l.94 2.06.94-2.06 2.06-.94-2.06-.94-.94-2.06-.94 2.06-2.06.94z\"/><path d=\"M17.41 7.96l-1.37-1.37c-.4-.4-.92-.59-1.43-.59-.52 0-1.04.2-1.43.59L10.3 9.45l-7.72 7.72c-.78.78-.78 2.05 0 2.83L4 21.41c.39.39.9.59 1.41.59.51 0 1.02-.2 1.41-.59l7.78-7.78 2.81-2.81c.8-.78.8-2.07 0-2.86zM5.41 20L4 18.59l7.72-7.72 1.47 1.35L5.41 20z\"/>\n",
              "  </svg>\n",
              "      </button>\n",
              "      \n",
              "  <style>\n",
              "    .colab-df-container {\n",
              "      display:flex;\n",
              "      flex-wrap:wrap;\n",
              "      gap: 12px;\n",
              "    }\n",
              "\n",
              "    .colab-df-convert {\n",
              "      background-color: #E8F0FE;\n",
              "      border: none;\n",
              "      border-radius: 50%;\n",
              "      cursor: pointer;\n",
              "      display: none;\n",
              "      fill: #1967D2;\n",
              "      height: 32px;\n",
              "      padding: 0 0 0 0;\n",
              "      width: 32px;\n",
              "    }\n",
              "\n",
              "    .colab-df-convert:hover {\n",
              "      background-color: #E2EBFA;\n",
              "      box-shadow: 0px 1px 2px rgba(60, 64, 67, 0.3), 0px 1px 3px 1px rgba(60, 64, 67, 0.15);\n",
              "      fill: #174EA6;\n",
              "    }\n",
              "\n",
              "    [theme=dark] .colab-df-convert {\n",
              "      background-color: #3B4455;\n",
              "      fill: #D2E3FC;\n",
              "    }\n",
              "\n",
              "    [theme=dark] .colab-df-convert:hover {\n",
              "      background-color: #434B5C;\n",
              "      box-shadow: 0px 1px 3px 1px rgba(0, 0, 0, 0.15);\n",
              "      filter: drop-shadow(0px 1px 2px rgba(0, 0, 0, 0.3));\n",
              "      fill: #FFFFFF;\n",
              "    }\n",
              "  </style>\n",
              "\n",
              "      <script>\n",
              "        const buttonEl =\n",
              "          document.querySelector('#df-78e025d1-2ae6-4da8-8686-f4cd139c5d15 button.colab-df-convert');\n",
              "        buttonEl.style.display =\n",
              "          google.colab.kernel.accessAllowed ? 'block' : 'none';\n",
              "\n",
              "        async function convertToInteractive(key) {\n",
              "          const element = document.querySelector('#df-78e025d1-2ae6-4da8-8686-f4cd139c5d15');\n",
              "          const dataTable =\n",
              "            await google.colab.kernel.invokeFunction('convertToInteractive',\n",
              "                                                     [key], {});\n",
              "          if (!dataTable) return;\n",
              "\n",
              "          const docLinkHtml = 'Like what you see? Visit the ' +\n",
              "            '<a target=\"_blank\" href=https://colab.research.google.com/notebooks/data_table.ipynb>data table notebook</a>'\n",
              "            + ' to learn more about interactive tables.';\n",
              "          element.innerHTML = '';\n",
              "          dataTable['output_type'] = 'display_data';\n",
              "          await google.colab.output.renderOutput(dataTable, element);\n",
              "          const docLink = document.createElement('div');\n",
              "          docLink.innerHTML = docLinkHtml;\n",
              "          element.appendChild(docLink);\n",
              "        }\n",
              "      </script>\n",
              "    </div>\n",
              "  </div>\n",
              "  "
            ]
          },
          "metadata": {},
          "execution_count": 55
        }
      ]
    },
    {
      "cell_type": "code",
      "source": [
        "for ind, col in cars.iteritems():\n",
        "    print(\"index {} values: {}\".format(ind, col.values))"
      ],
      "metadata": {
        "colab": {
          "base_uri": "https://localhost:8080/"
        },
        "id": "5dMUdjvJ6bL-",
        "outputId": "eca75b1d-ad79-42d3-dbf2-1481bcc1cd66"
      },
      "execution_count": null,
      "outputs": [
        {
          "output_type": "stream",
          "name": "stdout",
          "text": [
            "index Car_Name values: ['Honda' 'Toyota' 'Nissan' 'BMW' 'Tesla' 'Lucid']\n",
            "index Price values: [ 25000  27000  45000  57000  50000 100000]\n"
          ]
        }
      ]
    },
    {
      "cell_type": "code",
      "source": [
        "# esto lo que hace es iterar intertuplas\n",
        "\n",
        "cars = pd.DataFrame([['Honda', 25000], ['Toyota', 27000],['Nissan', 45000], ['BMW', 57000],['Tesla', 50000], ['Lucid', 100000]],\n",
        "                   columns=['Car_Name', 'Price'])\n",
        "cars\n",
        "\n"
      ],
      "metadata": {
        "colab": {
          "base_uri": "https://localhost:8080/",
          "height": 231
        },
        "id": "NsLvP-CL6eLR",
        "outputId": "7245725c-2ecd-4d7a-edcc-0e3a0c0c3589"
      },
      "execution_count": null,
      "outputs": [
        {
          "output_type": "execute_result",
          "data": {
            "text/plain": [
              "  Car_Name   Price\n",
              "0    Honda   25000\n",
              "1   Toyota   27000\n",
              "2   Nissan   45000\n",
              "3      BMW   57000\n",
              "4    Tesla   50000\n",
              "5    Lucid  100000"
            ],
            "text/html": [
              "\n",
              "  <div id=\"df-26d9a177-825f-44dc-a076-447143e4b8df\">\n",
              "    <div class=\"colab-df-container\">\n",
              "      <div>\n",
              "<style scoped>\n",
              "    .dataframe tbody tr th:only-of-type {\n",
              "        vertical-align: middle;\n",
              "    }\n",
              "\n",
              "    .dataframe tbody tr th {\n",
              "        vertical-align: top;\n",
              "    }\n",
              "\n",
              "    .dataframe thead th {\n",
              "        text-align: right;\n",
              "    }\n",
              "</style>\n",
              "<table border=\"1\" class=\"dataframe\">\n",
              "  <thead>\n",
              "    <tr style=\"text-align: right;\">\n",
              "      <th></th>\n",
              "      <th>Car_Name</th>\n",
              "      <th>Price</th>\n",
              "    </tr>\n",
              "  </thead>\n",
              "  <tbody>\n",
              "    <tr>\n",
              "      <th>0</th>\n",
              "      <td>Honda</td>\n",
              "      <td>25000</td>\n",
              "    </tr>\n",
              "    <tr>\n",
              "      <th>1</th>\n",
              "      <td>Toyota</td>\n",
              "      <td>27000</td>\n",
              "    </tr>\n",
              "    <tr>\n",
              "      <th>2</th>\n",
              "      <td>Nissan</td>\n",
              "      <td>45000</td>\n",
              "    </tr>\n",
              "    <tr>\n",
              "      <th>3</th>\n",
              "      <td>BMW</td>\n",
              "      <td>57000</td>\n",
              "    </tr>\n",
              "    <tr>\n",
              "      <th>4</th>\n",
              "      <td>Tesla</td>\n",
              "      <td>50000</td>\n",
              "    </tr>\n",
              "    <tr>\n",
              "      <th>5</th>\n",
              "      <td>Lucid</td>\n",
              "      <td>100000</td>\n",
              "    </tr>\n",
              "  </tbody>\n",
              "</table>\n",
              "</div>\n",
              "      <button class=\"colab-df-convert\" onclick=\"convertToInteractive('df-26d9a177-825f-44dc-a076-447143e4b8df')\"\n",
              "              title=\"Convert this dataframe to an interactive table.\"\n",
              "              style=\"display:none;\">\n",
              "        \n",
              "  <svg xmlns=\"http://www.w3.org/2000/svg\" height=\"24px\"viewBox=\"0 0 24 24\"\n",
              "       width=\"24px\">\n",
              "    <path d=\"M0 0h24v24H0V0z\" fill=\"none\"/>\n",
              "    <path d=\"M18.56 5.44l.94 2.06.94-2.06 2.06-.94-2.06-.94-.94-2.06-.94 2.06-2.06.94zm-11 1L8.5 8.5l.94-2.06 2.06-.94-2.06-.94L8.5 2.5l-.94 2.06-2.06.94zm10 10l.94 2.06.94-2.06 2.06-.94-2.06-.94-.94-2.06-.94 2.06-2.06.94z\"/><path d=\"M17.41 7.96l-1.37-1.37c-.4-.4-.92-.59-1.43-.59-.52 0-1.04.2-1.43.59L10.3 9.45l-7.72 7.72c-.78.78-.78 2.05 0 2.83L4 21.41c.39.39.9.59 1.41.59.51 0 1.02-.2 1.41-.59l7.78-7.78 2.81-2.81c.8-.78.8-2.07 0-2.86zM5.41 20L4 18.59l7.72-7.72 1.47 1.35L5.41 20z\"/>\n",
              "  </svg>\n",
              "      </button>\n",
              "      \n",
              "  <style>\n",
              "    .colab-df-container {\n",
              "      display:flex;\n",
              "      flex-wrap:wrap;\n",
              "      gap: 12px;\n",
              "    }\n",
              "\n",
              "    .colab-df-convert {\n",
              "      background-color: #E8F0FE;\n",
              "      border: none;\n",
              "      border-radius: 50%;\n",
              "      cursor: pointer;\n",
              "      display: none;\n",
              "      fill: #1967D2;\n",
              "      height: 32px;\n",
              "      padding: 0 0 0 0;\n",
              "      width: 32px;\n",
              "    }\n",
              "\n",
              "    .colab-df-convert:hover {\n",
              "      background-color: #E2EBFA;\n",
              "      box-shadow: 0px 1px 2px rgba(60, 64, 67, 0.3), 0px 1px 3px 1px rgba(60, 64, 67, 0.15);\n",
              "      fill: #174EA6;\n",
              "    }\n",
              "\n",
              "    [theme=dark] .colab-df-convert {\n",
              "      background-color: #3B4455;\n",
              "      fill: #D2E3FC;\n",
              "    }\n",
              "\n",
              "    [theme=dark] .colab-df-convert:hover {\n",
              "      background-color: #434B5C;\n",
              "      box-shadow: 0px 1px 3px 1px rgba(0, 0, 0, 0.15);\n",
              "      filter: drop-shadow(0px 1px 2px rgba(0, 0, 0, 0.3));\n",
              "      fill: #FFFFFF;\n",
              "    }\n",
              "  </style>\n",
              "\n",
              "      <script>\n",
              "        const buttonEl =\n",
              "          document.querySelector('#df-26d9a177-825f-44dc-a076-447143e4b8df button.colab-df-convert');\n",
              "        buttonEl.style.display =\n",
              "          google.colab.kernel.accessAllowed ? 'block' : 'none';\n",
              "\n",
              "        async function convertToInteractive(key) {\n",
              "          const element = document.querySelector('#df-26d9a177-825f-44dc-a076-447143e4b8df');\n",
              "          const dataTable =\n",
              "            await google.colab.kernel.invokeFunction('convertToInteractive',\n",
              "                                                     [key], {});\n",
              "          if (!dataTable) return;\n",
              "\n",
              "          const docLinkHtml = 'Like what you see? Visit the ' +\n",
              "            '<a target=\"_blank\" href=https://colab.research.google.com/notebooks/data_table.ipynb>data table notebook</a>'\n",
              "            + ' to learn more about interactive tables.';\n",
              "          element.innerHTML = '';\n",
              "          dataTable['output_type'] = 'display_data';\n",
              "          await google.colab.output.renderOutput(dataTable, element);\n",
              "          const docLink = document.createElement('div');\n",
              "          docLink.innerHTML = docLinkHtml;\n",
              "          element.appendChild(docLink);\n",
              "        }\n",
              "      </script>\n",
              "    </div>\n",
              "  </div>\n",
              "  "
            ]
          },
          "metadata": {},
          "execution_count": 57
        }
      ]
    },
    {
      "cell_type": "code",
      "source": [
        "for t in cars.itertuples():\n",
        "    print('Index:',t.Index,'col1:',t.Car_Name,'col:2',t.Price)"
      ],
      "metadata": {
        "colab": {
          "base_uri": "https://localhost:8080/"
        },
        "id": "B_SXUQ7k6x4Z",
        "outputId": "fcc1c240-8ba2-446f-a700-4ddd38fbf203"
      },
      "execution_count": null,
      "outputs": [
        {
          "output_type": "stream",
          "name": "stdout",
          "text": [
            "Index: 0 col1: Honda col:2 25000\n",
            "Index: 1 col1: Toyota col:2 27000\n",
            "Index: 2 col1: Nissan col:2 45000\n",
            "Index: 3 col1: BMW col:2 57000\n",
            "Index: 4 col1: Tesla col:2 50000\n",
            "Index: 5 col1: Lucid col:2 100000\n"
          ]
        }
      ]
    },
    {
      "cell_type": "markdown",
      "source": [
        "## datarange. diario, semanal, mensual etc..."
      ],
      "metadata": {
        "id": "T_r0X9P569pQ"
      }
    },
    {
      "cell_type": "code",
      "source": [
        "import pandas as pd\n",
        "pd.date_range(\"4/1/2022\", periods=10)"
      ],
      "metadata": {
        "colab": {
          "base_uri": "https://localhost:8080/"
        },
        "id": "66HXWvHd7PaI",
        "outputId": "bcefa170-37cb-46dd-939e-347b824ab378"
      },
      "execution_count": null,
      "outputs": [
        {
          "output_type": "execute_result",
          "data": {
            "text/plain": [
              "DatetimeIndex(['2022-04-01', '2022-04-02', '2022-04-03', '2022-04-04',\n",
              "               '2022-04-05', '2022-04-06', '2022-04-07', '2022-04-08',\n",
              "               '2022-04-09', '2022-04-10'],\n",
              "              dtype='datetime64[ns]', freq='D')"
            ]
          },
          "metadata": {},
          "execution_count": 59
        }
      ]
    },
    {
      "cell_type": "code",
      "source": [
        "pd.date_range(\"4/1/2022\", periods=10, freq=\"W\")"
      ],
      "metadata": {
        "colab": {
          "base_uri": "https://localhost:8080/"
        },
        "id": "qo66jg0u7P_o",
        "outputId": "9c78ebec-8ace-40a7-be0c-ed9584c3f747"
      },
      "execution_count": null,
      "outputs": [
        {
          "output_type": "execute_result",
          "data": {
            "text/plain": [
              "DatetimeIndex(['2022-04-03', '2022-04-10', '2022-04-17', '2022-04-24',\n",
              "               '2022-05-01', '2022-05-08', '2022-05-15', '2022-05-22',\n",
              "               '2022-05-29', '2022-06-05'],\n",
              "              dtype='datetime64[ns]', freq='W-SUN')"
            ]
          },
          "metadata": {},
          "execution_count": 60
        }
      ]
    },
    {
      "cell_type": "code",
      "source": [
        "pd.date_range(\"4/1/2022\", periods=10, freq=\"MS\")"
      ],
      "metadata": {
        "colab": {
          "base_uri": "https://localhost:8080/"
        },
        "id": "n1Weoj4k7TJR",
        "outputId": "7497975f-ddfa-4952-cd2d-08aa50c002e0"
      },
      "execution_count": null,
      "outputs": [
        {
          "output_type": "execute_result",
          "data": {
            "text/plain": [
              "DatetimeIndex(['2022-04-01', '2022-05-01', '2022-06-01', '2022-07-01',\n",
              "               '2022-08-01', '2022-09-01', '2022-10-01', '2022-11-01',\n",
              "               '2022-12-01', '2023-01-01'],\n",
              "              dtype='datetime64[ns]', freq='MS')"
            ]
          },
          "metadata": {},
          "execution_count": 61
        }
      ]
    },
    {
      "cell_type": "markdown",
      "source": [
        "![image.png](data:image/png;base64,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)"
      ],
      "metadata": {
        "id": "55K3CuYe7edo"
      }
    },
    {
      "cell_type": "markdown",
      "source": [
        "## como convertir un string en fecha. "
      ],
      "metadata": {
        "id": "5dOlnZj_7j5R"
      }
    },
    {
      "cell_type": "code",
      "source": [
        "import pandas as pd\n",
        "v_date = pd.to_datetime(\"04/30/2022\")\n",
        "print(v_date)\n"
      ],
      "metadata": {
        "colab": {
          "base_uri": "https://localhost:8080/"
        },
        "id": "wQG6arpn7WDV",
        "outputId": "60d40cea-401a-4ee3-bde3-eec65f09f514"
      },
      "execution_count": null,
      "outputs": [
        {
          "output_type": "stream",
          "name": "stdout",
          "text": [
            "2022-04-30 00:00:00\n"
          ]
        }
      ]
    },
    {
      "cell_type": "code",
      "source": [
        "#or use Timestamp\n",
        "v_date = pd.Timestamp(\"04/30/2022\")\n",
        "print(v_date)\n"
      ],
      "metadata": {
        "colab": {
          "base_uri": "https://localhost:8080/"
        },
        "id": "hhtpEa387u5k",
        "outputId": "c6e5be46-7a72-4a6f-f28c-6b169468f80e"
      },
      "execution_count": null,
      "outputs": [
        {
          "output_type": "stream",
          "name": "stdout",
          "text": [
            "2022-04-30 00:00:00\n"
          ]
        }
      ]
    },
    {
      "cell_type": "code",
      "source": [
        "# también podemos convertir de Unix timestampo a normal date format\n",
        "import pandas as pd\n",
        "v_date = pd.Timestamp(1647834974, unit = \"s\")\n",
        "print(v_date)"
      ],
      "metadata": {
        "colab": {
          "base_uri": "https://localhost:8080/"
        },
        "id": "XdNXI-Fn7-Xd",
        "outputId": "8ca62511-9937-44a9-96b5-844702f49875"
      },
      "execution_count": null,
      "outputs": [
        {
          "output_type": "stream",
          "name": "stdout",
          "text": [
            "2022-03-21 03:56:14\n"
          ]
        }
      ]
    },
    {
      "cell_type": "markdown",
      "source": [
        "## como split el dataframe basado en criterior boolenanos. "
      ],
      "metadata": {
        "id": "DzAYIkhy8gpk"
      }
    },
    {
      "cell_type": "code",
      "source": [
        "cars = pd.DataFrame([['Honda', 25000], ['Toyota', 27000],['Nissan', 45000], ['BMW', 57000],['Tesla', 50000], ['Lucid', 100000]],\n",
        "                   columns=['Car_Name', 'Price'])\n",
        "cars"
      ],
      "metadata": {
        "colab": {
          "base_uri": "https://localhost:8080/",
          "height": 231
        },
        "id": "gEg3Voyt8q01",
        "outputId": "aeb43655-2f31-41fa-bc70-2b08f283749d"
      },
      "execution_count": null,
      "outputs": [
        {
          "output_type": "execute_result",
          "data": {
            "text/plain": [
              "  Car_Name   Price\n",
              "0    Honda   25000\n",
              "1   Toyota   27000\n",
              "2   Nissan   45000\n",
              "3      BMW   57000\n",
              "4    Tesla   50000\n",
              "5    Lucid  100000"
            ],
            "text/html": [
              "\n",
              "  <div id=\"df-5bd7530e-ea82-4bf2-8536-17c857f3a81d\">\n",
              "    <div class=\"colab-df-container\">\n",
              "      <div>\n",
              "<style scoped>\n",
              "    .dataframe tbody tr th:only-of-type {\n",
              "        vertical-align: middle;\n",
              "    }\n",
              "\n",
              "    .dataframe tbody tr th {\n",
              "        vertical-align: top;\n",
              "    }\n",
              "\n",
              "    .dataframe thead th {\n",
              "        text-align: right;\n",
              "    }\n",
              "</style>\n",
              "<table border=\"1\" class=\"dataframe\">\n",
              "  <thead>\n",
              "    <tr style=\"text-align: right;\">\n",
              "      <th></th>\n",
              "      <th>Car_Name</th>\n",
              "      <th>Price</th>\n",
              "    </tr>\n",
              "  </thead>\n",
              "  <tbody>\n",
              "    <tr>\n",
              "      <th>0</th>\n",
              "      <td>Honda</td>\n",
              "      <td>25000</td>\n",
              "    </tr>\n",
              "    <tr>\n",
              "      <th>1</th>\n",
              "      <td>Toyota</td>\n",
              "      <td>27000</td>\n",
              "    </tr>\n",
              "    <tr>\n",
              "      <th>2</th>\n",
              "      <td>Nissan</td>\n",
              "      <td>45000</td>\n",
              "    </tr>\n",
              "    <tr>\n",
              "      <th>3</th>\n",
              "      <td>BMW</td>\n",
              "      <td>57000</td>\n",
              "    </tr>\n",
              "    <tr>\n",
              "      <th>4</th>\n",
              "      <td>Tesla</td>\n",
              "      <td>50000</td>\n",
              "    </tr>\n",
              "    <tr>\n",
              "      <th>5</th>\n",
              "      <td>Lucid</td>\n",
              "      <td>100000</td>\n",
              "    </tr>\n",
              "  </tbody>\n",
              "</table>\n",
              "</div>\n",
              "      <button class=\"colab-df-convert\" onclick=\"convertToInteractive('df-5bd7530e-ea82-4bf2-8536-17c857f3a81d')\"\n",
              "              title=\"Convert this dataframe to an interactive table.\"\n",
              "              style=\"display:none;\">\n",
              "        \n",
              "  <svg xmlns=\"http://www.w3.org/2000/svg\" height=\"24px\"viewBox=\"0 0 24 24\"\n",
              "       width=\"24px\">\n",
              "    <path d=\"M0 0h24v24H0V0z\" fill=\"none\"/>\n",
              "    <path d=\"M18.56 5.44l.94 2.06.94-2.06 2.06-.94-2.06-.94-.94-2.06-.94 2.06-2.06.94zm-11 1L8.5 8.5l.94-2.06 2.06-.94-2.06-.94L8.5 2.5l-.94 2.06-2.06.94zm10 10l.94 2.06.94-2.06 2.06-.94-2.06-.94-.94-2.06-.94 2.06-2.06.94z\"/><path d=\"M17.41 7.96l-1.37-1.37c-.4-.4-.92-.59-1.43-.59-.52 0-1.04.2-1.43.59L10.3 9.45l-7.72 7.72c-.78.78-.78 2.05 0 2.83L4 21.41c.39.39.9.59 1.41.59.51 0 1.02-.2 1.41-.59l7.78-7.78 2.81-2.81c.8-.78.8-2.07 0-2.86zM5.41 20L4 18.59l7.72-7.72 1.47 1.35L5.41 20z\"/>\n",
              "  </svg>\n",
              "      </button>\n",
              "      \n",
              "  <style>\n",
              "    .colab-df-container {\n",
              "      display:flex;\n",
              "      flex-wrap:wrap;\n",
              "      gap: 12px;\n",
              "    }\n",
              "\n",
              "    .colab-df-convert {\n",
              "      background-color: #E8F0FE;\n",
              "      border: none;\n",
              "      border-radius: 50%;\n",
              "      cursor: pointer;\n",
              "      display: none;\n",
              "      fill: #1967D2;\n",
              "      height: 32px;\n",
              "      padding: 0 0 0 0;\n",
              "      width: 32px;\n",
              "    }\n",
              "\n",
              "    .colab-df-convert:hover {\n",
              "      background-color: #E2EBFA;\n",
              "      box-shadow: 0px 1px 2px rgba(60, 64, 67, 0.3), 0px 1px 3px 1px rgba(60, 64, 67, 0.15);\n",
              "      fill: #174EA6;\n",
              "    }\n",
              "\n",
              "    [theme=dark] .colab-df-convert {\n",
              "      background-color: #3B4455;\n",
              "      fill: #D2E3FC;\n",
              "    }\n",
              "\n",
              "    [theme=dark] .colab-df-convert:hover {\n",
              "      background-color: #434B5C;\n",
              "      box-shadow: 0px 1px 3px 1px rgba(0, 0, 0, 0.15);\n",
              "      filter: drop-shadow(0px 1px 2px rgba(0, 0, 0, 0.3));\n",
              "      fill: #FFFFFF;\n",
              "    }\n",
              "  </style>\n",
              "\n",
              "      <script>\n",
              "        const buttonEl =\n",
              "          document.querySelector('#df-5bd7530e-ea82-4bf2-8536-17c857f3a81d button.colab-df-convert');\n",
              "        buttonEl.style.display =\n",
              "          google.colab.kernel.accessAllowed ? 'block' : 'none';\n",
              "\n",
              "        async function convertToInteractive(key) {\n",
              "          const element = document.querySelector('#df-5bd7530e-ea82-4bf2-8536-17c857f3a81d');\n",
              "          const dataTable =\n",
              "            await google.colab.kernel.invokeFunction('convertToInteractive',\n",
              "                                                     [key], {});\n",
              "          if (!dataTable) return;\n",
              "\n",
              "          const docLinkHtml = 'Like what you see? Visit the ' +\n",
              "            '<a target=\"_blank\" href=https://colab.research.google.com/notebooks/data_table.ipynb>data table notebook</a>'\n",
              "            + ' to learn more about interactive tables.';\n",
              "          element.innerHTML = '';\n",
              "          dataTable['output_type'] = 'display_data';\n",
              "          await google.colab.output.renderOutput(dataTable, element);\n",
              "          const docLink = document.createElement('div');\n",
              "          docLink.innerHTML = docLinkHtml;\n",
              "          element.appendChild(docLink);\n",
              "        }\n",
              "      </script>\n",
              "    </div>\n",
              "  </div>\n",
              "  "
            ]
          },
          "metadata": {},
          "execution_count": 67
        }
      ]
    },
    {
      "cell_type": "code",
      "source": [
        "cars_le_50k = cars[cars.Price <= 50000]\n",
        "cars_le_50k"
      ],
      "metadata": {
        "colab": {
          "base_uri": "https://localhost:8080/",
          "height": 170
        },
        "id": "RTsM2FTr-4mT",
        "outputId": "0823233e-153e-4355-ab49-8a16b56c76a1"
      },
      "execution_count": null,
      "outputs": [
        {
          "output_type": "execute_result",
          "data": {
            "text/plain": [
              "  Car_Name  Price\n",
              "0    Honda  25000\n",
              "1   Toyota  27000\n",
              "2   Nissan  45000\n",
              "4    Tesla  50000"
            ],
            "text/html": [
              "\n",
              "  <div id=\"df-9637397a-6f0c-48e5-94af-0af271fa6654\">\n",
              "    <div class=\"colab-df-container\">\n",
              "      <div>\n",
              "<style scoped>\n",
              "    .dataframe tbody tr th:only-of-type {\n",
              "        vertical-align: middle;\n",
              "    }\n",
              "\n",
              "    .dataframe tbody tr th {\n",
              "        vertical-align: top;\n",
              "    }\n",
              "\n",
              "    .dataframe thead th {\n",
              "        text-align: right;\n",
              "    }\n",
              "</style>\n",
              "<table border=\"1\" class=\"dataframe\">\n",
              "  <thead>\n",
              "    <tr style=\"text-align: right;\">\n",
              "      <th></th>\n",
              "      <th>Car_Name</th>\n",
              "      <th>Price</th>\n",
              "    </tr>\n",
              "  </thead>\n",
              "  <tbody>\n",
              "    <tr>\n",
              "      <th>0</th>\n",
              "      <td>Honda</td>\n",
              "      <td>25000</td>\n",
              "    </tr>\n",
              "    <tr>\n",
              "      <th>1</th>\n",
              "      <td>Toyota</td>\n",
              "      <td>27000</td>\n",
              "    </tr>\n",
              "    <tr>\n",
              "      <th>2</th>\n",
              "      <td>Nissan</td>\n",
              "      <td>45000</td>\n",
              "    </tr>\n",
              "    <tr>\n",
              "      <th>4</th>\n",
              "      <td>Tesla</td>\n",
              "      <td>50000</td>\n",
              "    </tr>\n",
              "  </tbody>\n",
              "</table>\n",
              "</div>\n",
              "      <button class=\"colab-df-convert\" onclick=\"convertToInteractive('df-9637397a-6f0c-48e5-94af-0af271fa6654')\"\n",
              "              title=\"Convert this dataframe to an interactive table.\"\n",
              "              style=\"display:none;\">\n",
              "        \n",
              "  <svg xmlns=\"http://www.w3.org/2000/svg\" height=\"24px\"viewBox=\"0 0 24 24\"\n",
              "       width=\"24px\">\n",
              "    <path d=\"M0 0h24v24H0V0z\" fill=\"none\"/>\n",
              "    <path d=\"M18.56 5.44l.94 2.06.94-2.06 2.06-.94-2.06-.94-.94-2.06-.94 2.06-2.06.94zm-11 1L8.5 8.5l.94-2.06 2.06-.94-2.06-.94L8.5 2.5l-.94 2.06-2.06.94zm10 10l.94 2.06.94-2.06 2.06-.94-2.06-.94-.94-2.06-.94 2.06-2.06.94z\"/><path d=\"M17.41 7.96l-1.37-1.37c-.4-.4-.92-.59-1.43-.59-.52 0-1.04.2-1.43.59L10.3 9.45l-7.72 7.72c-.78.78-.78 2.05 0 2.83L4 21.41c.39.39.9.59 1.41.59.51 0 1.02-.2 1.41-.59l7.78-7.78 2.81-2.81c.8-.78.8-2.07 0-2.86zM5.41 20L4 18.59l7.72-7.72 1.47 1.35L5.41 20z\"/>\n",
              "  </svg>\n",
              "      </button>\n",
              "      \n",
              "  <style>\n",
              "    .colab-df-container {\n",
              "      display:flex;\n",
              "      flex-wrap:wrap;\n",
              "      gap: 12px;\n",
              "    }\n",
              "\n",
              "    .colab-df-convert {\n",
              "      background-color: #E8F0FE;\n",
              "      border: none;\n",
              "      border-radius: 50%;\n",
              "      cursor: pointer;\n",
              "      display: none;\n",
              "      fill: #1967D2;\n",
              "      height: 32px;\n",
              "      padding: 0 0 0 0;\n",
              "      width: 32px;\n",
              "    }\n",
              "\n",
              "    .colab-df-convert:hover {\n",
              "      background-color: #E2EBFA;\n",
              "      box-shadow: 0px 1px 2px rgba(60, 64, 67, 0.3), 0px 1px 3px 1px rgba(60, 64, 67, 0.15);\n",
              "      fill: #174EA6;\n",
              "    }\n",
              "\n",
              "    [theme=dark] .colab-df-convert {\n",
              "      background-color: #3B4455;\n",
              "      fill: #D2E3FC;\n",
              "    }\n",
              "\n",
              "    [theme=dark] .colab-df-convert:hover {\n",
              "      background-color: #434B5C;\n",
              "      box-shadow: 0px 1px 3px 1px rgba(0, 0, 0, 0.15);\n",
              "      filter: drop-shadow(0px 1px 2px rgba(0, 0, 0, 0.3));\n",
              "      fill: #FFFFFF;\n",
              "    }\n",
              "  </style>\n",
              "\n",
              "      <script>\n",
              "        const buttonEl =\n",
              "          document.querySelector('#df-9637397a-6f0c-48e5-94af-0af271fa6654 button.colab-df-convert');\n",
              "        buttonEl.style.display =\n",
              "          google.colab.kernel.accessAllowed ? 'block' : 'none';\n",
              "\n",
              "        async function convertToInteractive(key) {\n",
              "          const element = document.querySelector('#df-9637397a-6f0c-48e5-94af-0af271fa6654');\n",
              "          const dataTable =\n",
              "            await google.colab.kernel.invokeFunction('convertToInteractive',\n",
              "                                                     [key], {});\n",
              "          if (!dataTable) return;\n",
              "\n",
              "          const docLinkHtml = 'Like what you see? Visit the ' +\n",
              "            '<a target=\"_blank\" href=https://colab.research.google.com/notebooks/data_table.ipynb>data table notebook</a>'\n",
              "            + ' to learn more about interactive tables.';\n",
              "          element.innerHTML = '';\n",
              "          dataTable['output_type'] = 'display_data';\n",
              "          await google.colab.output.renderOutput(dataTable, element);\n",
              "          const docLink = document.createElement('div');\n",
              "          docLink.innerHTML = docLinkHtml;\n",
              "          element.appendChild(docLink);\n",
              "        }\n",
              "      </script>\n",
              "    </div>\n",
              "  </div>\n",
              "  "
            ]
          },
          "metadata": {},
          "execution_count": 68
        }
      ]
    },
    {
      "cell_type": "code",
      "source": [
        "cars_gt_50k = cars[cars.Price > 50000]\n",
        "cars_gt_50k"
      ],
      "metadata": {
        "colab": {
          "base_uri": "https://localhost:8080/",
          "height": 109
        },
        "id": "m-6bcBUd-7_y",
        "outputId": "0a910d28-be5d-456c-dd44-91056c349674"
      },
      "execution_count": null,
      "outputs": [
        {
          "output_type": "execute_result",
          "data": {
            "text/plain": [
              "  Car_Name   Price\n",
              "3      BMW   57000\n",
              "5    Lucid  100000"
            ],
            "text/html": [
              "\n",
              "  <div id=\"df-f6492c60-08bf-4990-83e0-e4c590eb2bf8\">\n",
              "    <div class=\"colab-df-container\">\n",
              "      <div>\n",
              "<style scoped>\n",
              "    .dataframe tbody tr th:only-of-type {\n",
              "        vertical-align: middle;\n",
              "    }\n",
              "\n",
              "    .dataframe tbody tr th {\n",
              "        vertical-align: top;\n",
              "    }\n",
              "\n",
              "    .dataframe thead th {\n",
              "        text-align: right;\n",
              "    }\n",
              "</style>\n",
              "<table border=\"1\" class=\"dataframe\">\n",
              "  <thead>\n",
              "    <tr style=\"text-align: right;\">\n",
              "      <th></th>\n",
              "      <th>Car_Name</th>\n",
              "      <th>Price</th>\n",
              "    </tr>\n",
              "  </thead>\n",
              "  <tbody>\n",
              "    <tr>\n",
              "      <th>3</th>\n",
              "      <td>BMW</td>\n",
              "      <td>57000</td>\n",
              "    </tr>\n",
              "    <tr>\n",
              "      <th>5</th>\n",
              "      <td>Lucid</td>\n",
              "      <td>100000</td>\n",
              "    </tr>\n",
              "  </tbody>\n",
              "</table>\n",
              "</div>\n",
              "      <button class=\"colab-df-convert\" onclick=\"convertToInteractive('df-f6492c60-08bf-4990-83e0-e4c590eb2bf8')\"\n",
              "              title=\"Convert this dataframe to an interactive table.\"\n",
              "              style=\"display:none;\">\n",
              "        \n",
              "  <svg xmlns=\"http://www.w3.org/2000/svg\" height=\"24px\"viewBox=\"0 0 24 24\"\n",
              "       width=\"24px\">\n",
              "    <path d=\"M0 0h24v24H0V0z\" fill=\"none\"/>\n",
              "    <path d=\"M18.56 5.44l.94 2.06.94-2.06 2.06-.94-2.06-.94-.94-2.06-.94 2.06-2.06.94zm-11 1L8.5 8.5l.94-2.06 2.06-.94-2.06-.94L8.5 2.5l-.94 2.06-2.06.94zm10 10l.94 2.06.94-2.06 2.06-.94-2.06-.94-.94-2.06-.94 2.06-2.06.94z\"/><path d=\"M17.41 7.96l-1.37-1.37c-.4-.4-.92-.59-1.43-.59-.52 0-1.04.2-1.43.59L10.3 9.45l-7.72 7.72c-.78.78-.78 2.05 0 2.83L4 21.41c.39.39.9.59 1.41.59.51 0 1.02-.2 1.41-.59l7.78-7.78 2.81-2.81c.8-.78.8-2.07 0-2.86zM5.41 20L4 18.59l7.72-7.72 1.47 1.35L5.41 20z\"/>\n",
              "  </svg>\n",
              "      </button>\n",
              "      \n",
              "  <style>\n",
              "    .colab-df-container {\n",
              "      display:flex;\n",
              "      flex-wrap:wrap;\n",
              "      gap: 12px;\n",
              "    }\n",
              "\n",
              "    .colab-df-convert {\n",
              "      background-color: #E8F0FE;\n",
              "      border: none;\n",
              "      border-radius: 50%;\n",
              "      cursor: pointer;\n",
              "      display: none;\n",
              "      fill: #1967D2;\n",
              "      height: 32px;\n",
              "      padding: 0 0 0 0;\n",
              "      width: 32px;\n",
              "    }\n",
              "\n",
              "    .colab-df-convert:hover {\n",
              "      background-color: #E2EBFA;\n",
              "      box-shadow: 0px 1px 2px rgba(60, 64, 67, 0.3), 0px 1px 3px 1px rgba(60, 64, 67, 0.15);\n",
              "      fill: #174EA6;\n",
              "    }\n",
              "\n",
              "    [theme=dark] .colab-df-convert {\n",
              "      background-color: #3B4455;\n",
              "      fill: #D2E3FC;\n",
              "    }\n",
              "\n",
              "    [theme=dark] .colab-df-convert:hover {\n",
              "      background-color: #434B5C;\n",
              "      box-shadow: 0px 1px 3px 1px rgba(0, 0, 0, 0.15);\n",
              "      filter: drop-shadow(0px 1px 2px rgba(0, 0, 0, 0.3));\n",
              "      fill: #FFFFFF;\n",
              "    }\n",
              "  </style>\n",
              "\n",
              "      <script>\n",
              "        const buttonEl =\n",
              "          document.querySelector('#df-f6492c60-08bf-4990-83e0-e4c590eb2bf8 button.colab-df-convert');\n",
              "        buttonEl.style.display =\n",
              "          google.colab.kernel.accessAllowed ? 'block' : 'none';\n",
              "\n",
              "        async function convertToInteractive(key) {\n",
              "          const element = document.querySelector('#df-f6492c60-08bf-4990-83e0-e4c590eb2bf8');\n",
              "          const dataTable =\n",
              "            await google.colab.kernel.invokeFunction('convertToInteractive',\n",
              "                                                     [key], {});\n",
              "          if (!dataTable) return;\n",
              "\n",
              "          const docLinkHtml = 'Like what you see? Visit the ' +\n",
              "            '<a target=\"_blank\" href=https://colab.research.google.com/notebooks/data_table.ipynb>data table notebook</a>'\n",
              "            + ' to learn more about interactive tables.';\n",
              "          element.innerHTML = '';\n",
              "          dataTable['output_type'] = 'display_data';\n",
              "          await google.colab.output.renderOutput(dataTable, element);\n",
              "          const docLink = document.createElement('div');\n",
              "          docLink.innerHTML = docLinkHtml;\n",
              "          element.appendChild(docLink);\n",
              "        }\n",
              "      </script>\n",
              "    </div>\n",
              "  </div>\n",
              "  "
            ]
          },
          "metadata": {},
          "execution_count": 69
        }
      ]
    },
    {
      "cell_type": "markdown",
      "source": [
        "## usando un string filtro para filtrar un dataframe"
      ],
      "metadata": {
        "id": "Z3XNDrcC_N5d"
      }
    },
    {
      "cell_type": "code",
      "source": [
        "import pandas as pd\n",
        "titanic_df = pd.read_csv(\"/content/sample_data/train.csv\")\n",
        "titanic_df\n",
        "\n",
        "titanic_df[titanic_df['Name'].str.startswith('All')]\n",
        "\n",
        "Output:\n",
        "PassengerId\tSurvived\tPclass\tName\tSex\tAge\tSibSp\tParch\tTicket\tFare\tCabin\tEmbarked\n",
        "4\t5\t0\t3\tAllen, Mr. William Henry\tmale\t35.00\t0\t0\t373450\t8.0500\tNaN\tS\n",
        "297\t298\t0\t1\tAllison, Miss. Helen Loraine\tfemale\t2.00\t1\t2\t113781\t151.5500\tC22 C26\tS\n",
        "305\t306\t1\t1\tAllison, Master. Hudson Trevor\tmale\t0.92\t1\t2\t113781\t151.5500\tC22 C26\tS\n",
        "498\t499\t0\t1\tAllison, Mrs. Hudson J C (Bessie Waldo Daniels)\tfemale\t25.00\t1\t2\t113781\t151.5500\tC22 C26\tS\n",
        "730\t731\t1\t1\tAllen, Miss. Elisabeth Walton\tfemale\t29.00\t0\t0\t24160\t211.3375\tB5\tS\n",
        "834\t8"
      ],
      "metadata": {
        "id": "4RYGJabi_Bva"
      },
      "execution_count": null,
      "outputs": []
    },
    {
      "cell_type": "markdown",
      "source": [
        "## usando la tilde para filtrar. no logical operator in filetering. "
      ],
      "metadata": {
        "id": "hpeDCEWL_ftU"
      }
    },
    {
      "cell_type": "code",
      "source": [
        "df = pd.DataFrame({\"AAA\": [4, 5, 6, 7], \"BBB\": [10, 20, 30, 40], \"CCC\": [100, 50, -30, -50]})\n",
        "df"
      ],
      "metadata": {
        "colab": {
          "base_uri": "https://localhost:8080/",
          "height": 170
        },
        "id": "xQ9t6HiI_k13",
        "outputId": "5f9d4dc0-1255-4d66-e08b-820e9a2b9f30"
      },
      "execution_count": null,
      "outputs": [
        {
          "output_type": "execute_result",
          "data": {
            "text/plain": [
              "   AAA  BBB  CCC\n",
              "0    4   10  100\n",
              "1    5   20   50\n",
              "2    6   30  -30\n",
              "3    7   40  -50"
            ],
            "text/html": [
              "\n",
              "  <div id=\"df-c4409277-3231-4d84-bf1f-0c4c7b8ae5bb\">\n",
              "    <div class=\"colab-df-container\">\n",
              "      <div>\n",
              "<style scoped>\n",
              "    .dataframe tbody tr th:only-of-type {\n",
              "        vertical-align: middle;\n",
              "    }\n",
              "\n",
              "    .dataframe tbody tr th {\n",
              "        vertical-align: top;\n",
              "    }\n",
              "\n",
              "    .dataframe thead th {\n",
              "        text-align: right;\n",
              "    }\n",
              "</style>\n",
              "<table border=\"1\" class=\"dataframe\">\n",
              "  <thead>\n",
              "    <tr style=\"text-align: right;\">\n",
              "      <th></th>\n",
              "      <th>AAA</th>\n",
              "      <th>BBB</th>\n",
              "      <th>CCC</th>\n",
              "    </tr>\n",
              "  </thead>\n",
              "  <tbody>\n",
              "    <tr>\n",
              "      <th>0</th>\n",
              "      <td>4</td>\n",
              "      <td>10</td>\n",
              "      <td>100</td>\n",
              "    </tr>\n",
              "    <tr>\n",
              "      <th>1</th>\n",
              "      <td>5</td>\n",
              "      <td>20</td>\n",
              "      <td>50</td>\n",
              "    </tr>\n",
              "    <tr>\n",
              "      <th>2</th>\n",
              "      <td>6</td>\n",
              "      <td>30</td>\n",
              "      <td>-30</td>\n",
              "    </tr>\n",
              "    <tr>\n",
              "      <th>3</th>\n",
              "      <td>7</td>\n",
              "      <td>40</td>\n",
              "      <td>-50</td>\n",
              "    </tr>\n",
              "  </tbody>\n",
              "</table>\n",
              "</div>\n",
              "      <button class=\"colab-df-convert\" onclick=\"convertToInteractive('df-c4409277-3231-4d84-bf1f-0c4c7b8ae5bb')\"\n",
              "              title=\"Convert this dataframe to an interactive table.\"\n",
              "              style=\"display:none;\">\n",
              "        \n",
              "  <svg xmlns=\"http://www.w3.org/2000/svg\" height=\"24px\"viewBox=\"0 0 24 24\"\n",
              "       width=\"24px\">\n",
              "    <path d=\"M0 0h24v24H0V0z\" fill=\"none\"/>\n",
              "    <path d=\"M18.56 5.44l.94 2.06.94-2.06 2.06-.94-2.06-.94-.94-2.06-.94 2.06-2.06.94zm-11 1L8.5 8.5l.94-2.06 2.06-.94-2.06-.94L8.5 2.5l-.94 2.06-2.06.94zm10 10l.94 2.06.94-2.06 2.06-.94-2.06-.94-.94-2.06-.94 2.06-2.06.94z\"/><path d=\"M17.41 7.96l-1.37-1.37c-.4-.4-.92-.59-1.43-.59-.52 0-1.04.2-1.43.59L10.3 9.45l-7.72 7.72c-.78.78-.78 2.05 0 2.83L4 21.41c.39.39.9.59 1.41.59.51 0 1.02-.2 1.41-.59l7.78-7.78 2.81-2.81c.8-.78.8-2.07 0-2.86zM5.41 20L4 18.59l7.72-7.72 1.47 1.35L5.41 20z\"/>\n",
              "  </svg>\n",
              "      </button>\n",
              "      \n",
              "  <style>\n",
              "    .colab-df-container {\n",
              "      display:flex;\n",
              "      flex-wrap:wrap;\n",
              "      gap: 12px;\n",
              "    }\n",
              "\n",
              "    .colab-df-convert {\n",
              "      background-color: #E8F0FE;\n",
              "      border: none;\n",
              "      border-radius: 50%;\n",
              "      cursor: pointer;\n",
              "      display: none;\n",
              "      fill: #1967D2;\n",
              "      height: 32px;\n",
              "      padding: 0 0 0 0;\n",
              "      width: 32px;\n",
              "    }\n",
              "\n",
              "    .colab-df-convert:hover {\n",
              "      background-color: #E2EBFA;\n",
              "      box-shadow: 0px 1px 2px rgba(60, 64, 67, 0.3), 0px 1px 3px 1px rgba(60, 64, 67, 0.15);\n",
              "      fill: #174EA6;\n",
              "    }\n",
              "\n",
              "    [theme=dark] .colab-df-convert {\n",
              "      background-color: #3B4455;\n",
              "      fill: #D2E3FC;\n",
              "    }\n",
              "\n",
              "    [theme=dark] .colab-df-convert:hover {\n",
              "      background-color: #434B5C;\n",
              "      box-shadow: 0px 1px 3px 1px rgba(0, 0, 0, 0.15);\n",
              "      filter: drop-shadow(0px 1px 2px rgba(0, 0, 0, 0.3));\n",
              "      fill: #FFFFFF;\n",
              "    }\n",
              "  </style>\n",
              "\n",
              "      <script>\n",
              "        const buttonEl =\n",
              "          document.querySelector('#df-c4409277-3231-4d84-bf1f-0c4c7b8ae5bb button.colab-df-convert');\n",
              "        buttonEl.style.display =\n",
              "          google.colab.kernel.accessAllowed ? 'block' : 'none';\n",
              "\n",
              "        async function convertToInteractive(key) {\n",
              "          const element = document.querySelector('#df-c4409277-3231-4d84-bf1f-0c4c7b8ae5bb');\n",
              "          const dataTable =\n",
              "            await google.colab.kernel.invokeFunction('convertToInteractive',\n",
              "                                                     [key], {});\n",
              "          if (!dataTable) return;\n",
              "\n",
              "          const docLinkHtml = 'Like what you see? Visit the ' +\n",
              "            '<a target=\"_blank\" href=https://colab.research.google.com/notebooks/data_table.ipynb>data table notebook</a>'\n",
              "            + ' to learn more about interactive tables.';\n",
              "          element.innerHTML = '';\n",
              "          dataTable['output_type'] = 'display_data';\n",
              "          await google.colab.output.renderOutput(dataTable, element);\n",
              "          const docLink = document.createElement('div');\n",
              "          docLink.innerHTML = docLinkHtml;\n",
              "          element.appendChild(docLink);\n",
              "        }\n",
              "      </script>\n",
              "    </div>\n",
              "  </div>\n",
              "  "
            ]
          },
          "metadata": {},
          "execution_count": 71
        }
      ]
    },
    {
      "cell_type": "code",
      "source": [
        "df[~((df.AAA <= 6))]"
      ],
      "metadata": {
        "colab": {
          "base_uri": "https://localhost:8080/",
          "height": 78
        },
        "id": "9DaPpM-I_sDa",
        "outputId": "e7f2cfde-e6ce-4e66-9054-6072c66ce10d"
      },
      "execution_count": null,
      "outputs": [
        {
          "output_type": "execute_result",
          "data": {
            "text/plain": [
              "   AAA  BBB  CCC\n",
              "3    7   40  -50"
            ],
            "text/html": [
              "\n",
              "  <div id=\"df-86b87423-ba7e-4972-bb35-3011f0f3058f\">\n",
              "    <div class=\"colab-df-container\">\n",
              "      <div>\n",
              "<style scoped>\n",
              "    .dataframe tbody tr th:only-of-type {\n",
              "        vertical-align: middle;\n",
              "    }\n",
              "\n",
              "    .dataframe tbody tr th {\n",
              "        vertical-align: top;\n",
              "    }\n",
              "\n",
              "    .dataframe thead th {\n",
              "        text-align: right;\n",
              "    }\n",
              "</style>\n",
              "<table border=\"1\" class=\"dataframe\">\n",
              "  <thead>\n",
              "    <tr style=\"text-align: right;\">\n",
              "      <th></th>\n",
              "      <th>AAA</th>\n",
              "      <th>BBB</th>\n",
              "      <th>CCC</th>\n",
              "    </tr>\n",
              "  </thead>\n",
              "  <tbody>\n",
              "    <tr>\n",
              "      <th>3</th>\n",
              "      <td>7</td>\n",
              "      <td>40</td>\n",
              "      <td>-50</td>\n",
              "    </tr>\n",
              "  </tbody>\n",
              "</table>\n",
              "</div>\n",
              "      <button class=\"colab-df-convert\" onclick=\"convertToInteractive('df-86b87423-ba7e-4972-bb35-3011f0f3058f')\"\n",
              "              title=\"Convert this dataframe to an interactive table.\"\n",
              "              style=\"display:none;\">\n",
              "        \n",
              "  <svg xmlns=\"http://www.w3.org/2000/svg\" height=\"24px\"viewBox=\"0 0 24 24\"\n",
              "       width=\"24px\">\n",
              "    <path d=\"M0 0h24v24H0V0z\" fill=\"none\"/>\n",
              "    <path d=\"M18.56 5.44l.94 2.06.94-2.06 2.06-.94-2.06-.94-.94-2.06-.94 2.06-2.06.94zm-11 1L8.5 8.5l.94-2.06 2.06-.94-2.06-.94L8.5 2.5l-.94 2.06-2.06.94zm10 10l.94 2.06.94-2.06 2.06-.94-2.06-.94-.94-2.06-.94 2.06-2.06.94z\"/><path d=\"M17.41 7.96l-1.37-1.37c-.4-.4-.92-.59-1.43-.59-.52 0-1.04.2-1.43.59L10.3 9.45l-7.72 7.72c-.78.78-.78 2.05 0 2.83L4 21.41c.39.39.9.59 1.41.59.51 0 1.02-.2 1.41-.59l7.78-7.78 2.81-2.81c.8-.78.8-2.07 0-2.86zM5.41 20L4 18.59l7.72-7.72 1.47 1.35L5.41 20z\"/>\n",
              "  </svg>\n",
              "      </button>\n",
              "      \n",
              "  <style>\n",
              "    .colab-df-container {\n",
              "      display:flex;\n",
              "      flex-wrap:wrap;\n",
              "      gap: 12px;\n",
              "    }\n",
              "\n",
              "    .colab-df-convert {\n",
              "      background-color: #E8F0FE;\n",
              "      border: none;\n",
              "      border-radius: 50%;\n",
              "      cursor: pointer;\n",
              "      display: none;\n",
              "      fill: #1967D2;\n",
              "      height: 32px;\n",
              "      padding: 0 0 0 0;\n",
              "      width: 32px;\n",
              "    }\n",
              "\n",
              "    .colab-df-convert:hover {\n",
              "      background-color: #E2EBFA;\n",
              "      box-shadow: 0px 1px 2px rgba(60, 64, 67, 0.3), 0px 1px 3px 1px rgba(60, 64, 67, 0.15);\n",
              "      fill: #174EA6;\n",
              "    }\n",
              "\n",
              "    [theme=dark] .colab-df-convert {\n",
              "      background-color: #3B4455;\n",
              "      fill: #D2E3FC;\n",
              "    }\n",
              "\n",
              "    [theme=dark] .colab-df-convert:hover {\n",
              "      background-color: #434B5C;\n",
              "      box-shadow: 0px 1px 3px 1px rgba(0, 0, 0, 0.15);\n",
              "      filter: drop-shadow(0px 1px 2px rgba(0, 0, 0, 0.3));\n",
              "      fill: #FFFFFF;\n",
              "    }\n",
              "  </style>\n",
              "\n",
              "      <script>\n",
              "        const buttonEl =\n",
              "          document.querySelector('#df-86b87423-ba7e-4972-bb35-3011f0f3058f button.colab-df-convert');\n",
              "        buttonEl.style.display =\n",
              "          google.colab.kernel.accessAllowed ? 'block' : 'none';\n",
              "\n",
              "        async function convertToInteractive(key) {\n",
              "          const element = document.querySelector('#df-86b87423-ba7e-4972-bb35-3011f0f3058f');\n",
              "          const dataTable =\n",
              "            await google.colab.kernel.invokeFunction('convertToInteractive',\n",
              "                                                     [key], {});\n",
              "          if (!dataTable) return;\n",
              "\n",
              "          const docLinkHtml = 'Like what you see? Visit the ' +\n",
              "            '<a target=\"_blank\" href=https://colab.research.google.com/notebooks/data_table.ipynb>data table notebook</a>'\n",
              "            + ' to learn more about interactive tables.';\n",
              "          element.innerHTML = '';\n",
              "          dataTable['output_type'] = 'display_data';\n",
              "          await google.colab.output.renderOutput(dataTable, element);\n",
              "          const docLink = document.createElement('div');\n",
              "          docLink.innerHTML = docLinkHtml;\n",
              "          element.appendChild(docLink);\n",
              "        }\n",
              "      </script>\n",
              "    </div>\n",
              "  </div>\n",
              "  "
            ]
          },
          "metadata": {},
          "execution_count": 75
        }
      ]
    },
    {
      "cell_type": "code",
      "source": [
        "# también podemos meter varios\n",
        "\n",
        "df[~((df.AAA <= 6) & (df.index.isin([0, 2, 4])) )]"
      ],
      "metadata": {
        "colab": {
          "base_uri": "https://localhost:8080/",
          "height": 109
        },
        "id": "Z4_No2Z1_6K4",
        "outputId": "915d0d8e-679b-49b3-e216-e02c0341f2d9"
      },
      "execution_count": null,
      "outputs": [
        {
          "output_type": "execute_result",
          "data": {
            "text/plain": [
              "   AAA  BBB  CCC\n",
              "1    5   20   50\n",
              "3    7   40  -50"
            ],
            "text/html": [
              "\n",
              "  <div id=\"df-7f1cd7af-dc48-415c-91ba-44c0afe0c215\">\n",
              "    <div class=\"colab-df-container\">\n",
              "      <div>\n",
              "<style scoped>\n",
              "    .dataframe tbody tr th:only-of-type {\n",
              "        vertical-align: middle;\n",
              "    }\n",
              "\n",
              "    .dataframe tbody tr th {\n",
              "        vertical-align: top;\n",
              "    }\n",
              "\n",
              "    .dataframe thead th {\n",
              "        text-align: right;\n",
              "    }\n",
              "</style>\n",
              "<table border=\"1\" class=\"dataframe\">\n",
              "  <thead>\n",
              "    <tr style=\"text-align: right;\">\n",
              "      <th></th>\n",
              "      <th>AAA</th>\n",
              "      <th>BBB</th>\n",
              "      <th>CCC</th>\n",
              "    </tr>\n",
              "  </thead>\n",
              "  <tbody>\n",
              "    <tr>\n",
              "      <th>1</th>\n",
              "      <td>5</td>\n",
              "      <td>20</td>\n",
              "      <td>50</td>\n",
              "    </tr>\n",
              "    <tr>\n",
              "      <th>3</th>\n",
              "      <td>7</td>\n",
              "      <td>40</td>\n",
              "      <td>-50</td>\n",
              "    </tr>\n",
              "  </tbody>\n",
              "</table>\n",
              "</div>\n",
              "      <button class=\"colab-df-convert\" onclick=\"convertToInteractive('df-7f1cd7af-dc48-415c-91ba-44c0afe0c215')\"\n",
              "              title=\"Convert this dataframe to an interactive table.\"\n",
              "              style=\"display:none;\">\n",
              "        \n",
              "  <svg xmlns=\"http://www.w3.org/2000/svg\" height=\"24px\"viewBox=\"0 0 24 24\"\n",
              "       width=\"24px\">\n",
              "    <path d=\"M0 0h24v24H0V0z\" fill=\"none\"/>\n",
              "    <path d=\"M18.56 5.44l.94 2.06.94-2.06 2.06-.94-2.06-.94-.94-2.06-.94 2.06-2.06.94zm-11 1L8.5 8.5l.94-2.06 2.06-.94-2.06-.94L8.5 2.5l-.94 2.06-2.06.94zm10 10l.94 2.06.94-2.06 2.06-.94-2.06-.94-.94-2.06-.94 2.06-2.06.94z\"/><path d=\"M17.41 7.96l-1.37-1.37c-.4-.4-.92-.59-1.43-.59-.52 0-1.04.2-1.43.59L10.3 9.45l-7.72 7.72c-.78.78-.78 2.05 0 2.83L4 21.41c.39.39.9.59 1.41.59.51 0 1.02-.2 1.41-.59l7.78-7.78 2.81-2.81c.8-.78.8-2.07 0-2.86zM5.41 20L4 18.59l7.72-7.72 1.47 1.35L5.41 20z\"/>\n",
              "  </svg>\n",
              "      </button>\n",
              "      \n",
              "  <style>\n",
              "    .colab-df-container {\n",
              "      display:flex;\n",
              "      flex-wrap:wrap;\n",
              "      gap: 12px;\n",
              "    }\n",
              "\n",
              "    .colab-df-convert {\n",
              "      background-color: #E8F0FE;\n",
              "      border: none;\n",
              "      border-radius: 50%;\n",
              "      cursor: pointer;\n",
              "      display: none;\n",
              "      fill: #1967D2;\n",
              "      height: 32px;\n",
              "      padding: 0 0 0 0;\n",
              "      width: 32px;\n",
              "    }\n",
              "\n",
              "    .colab-df-convert:hover {\n",
              "      background-color: #E2EBFA;\n",
              "      box-shadow: 0px 1px 2px rgba(60, 64, 67, 0.3), 0px 1px 3px 1px rgba(60, 64, 67, 0.15);\n",
              "      fill: #174EA6;\n",
              "    }\n",
              "\n",
              "    [theme=dark] .colab-df-convert {\n",
              "      background-color: #3B4455;\n",
              "      fill: #D2E3FC;\n",
              "    }\n",
              "\n",
              "    [theme=dark] .colab-df-convert:hover {\n",
              "      background-color: #434B5C;\n",
              "      box-shadow: 0px 1px 3px 1px rgba(0, 0, 0, 0.15);\n",
              "      filter: drop-shadow(0px 1px 2px rgba(0, 0, 0, 0.3));\n",
              "      fill: #FFFFFF;\n",
              "    }\n",
              "  </style>\n",
              "\n",
              "      <script>\n",
              "        const buttonEl =\n",
              "          document.querySelector('#df-7f1cd7af-dc48-415c-91ba-44c0afe0c215 button.colab-df-convert');\n",
              "        buttonEl.style.display =\n",
              "          google.colab.kernel.accessAllowed ? 'block' : 'none';\n",
              "\n",
              "        async function convertToInteractive(key) {\n",
              "          const element = document.querySelector('#df-7f1cd7af-dc48-415c-91ba-44c0afe0c215');\n",
              "          const dataTable =\n",
              "            await google.colab.kernel.invokeFunction('convertToInteractive',\n",
              "                                                     [key], {});\n",
              "          if (!dataTable) return;\n",
              "\n",
              "          const docLinkHtml = 'Like what you see? Visit the ' +\n",
              "            '<a target=\"_blank\" href=https://colab.research.google.com/notebooks/data_table.ipynb>data table notebook</a>'\n",
              "            + ' to learn more about interactive tables.';\n",
              "          element.innerHTML = '';\n",
              "          dataTable['output_type'] = 'display_data';\n",
              "          await google.colab.output.renderOutput(dataTable, element);\n",
              "          const docLink = document.createElement('div');\n",
              "          docLink.innerHTML = docLinkHtml;\n",
              "          element.appendChild(docLink);\n",
              "        }\n",
              "      </script>\n",
              "    </div>\n",
              "  </div>\n",
              "  "
            ]
          },
          "metadata": {},
          "execution_count": 74
        }
      ]
    },
    {
      "cell_type": "markdown",
      "source": [
        "## hay varios caminos para aplicar funciones en cada elemento de la columna.\n",
        "- apply() en dattafranes y sesries\n",
        "- applymap() en dataframes\n",
        "-map() solo en series. "
      ],
      "metadata": {
        "id": "SWu9NpD9A2U2"
      }
    },
    {
      "cell_type": "markdown",
      "source": [
        "Dataframe.apply opera en todas las filas o columnas a la vez. \n",
        "DataFrame.applymap, series.apply and Series.map opera en un elemento cada vez. "
      ],
      "metadata": {
        "id": "qRZw9YwABLKs"
      }
    },
    {
      "cell_type": "markdown",
      "source": [
        "## opciones de estilo de Pandas. "
      ],
      "metadata": {
        "id": "dc9Y3bN1BuRO"
      }
    },
    {
      "cell_type": "code",
      "source": [
        "import numpy as np\n",
        "import pandas as pd\n",
        "\n",
        "np.random.seed(0)\n",
        "df2 = pd.DataFrame(np.random.randn(10,4), columns=['A','B','C','D'])\n",
        "df2.style\n",
        "\n",
        "\n"
      ],
      "metadata": {
        "colab": {
          "base_uri": "https://localhost:8080/",
          "height": 352
        },
        "id": "FMhEIrulAgMJ",
        "outputId": "94b23202-5941-4b1a-f506-2df7b8c26066"
      },
      "execution_count": null,
      "outputs": [
        {
          "output_type": "execute_result",
          "data": {
            "text/plain": [
              "<pandas.io.formats.style.Styler at 0x7f50cf913ad0>"
            ],
            "text/html": [
              "<style type=\"text/css\">\n",
              "</style>\n",
              "<table id=\"T_08cde_\" class=\"dataframe\">\n",
              "  <thead>\n",
              "    <tr>\n",
              "      <th class=\"blank level0\" >&nbsp;</th>\n",
              "      <th class=\"col_heading level0 col0\" >A</th>\n",
              "      <th class=\"col_heading level0 col1\" >B</th>\n",
              "      <th class=\"col_heading level0 col2\" >C</th>\n",
              "      <th class=\"col_heading level0 col3\" >D</th>\n",
              "    </tr>\n",
              "  </thead>\n",
              "  <tbody>\n",
              "    <tr>\n",
              "      <th id=\"T_08cde_level0_row0\" class=\"row_heading level0 row0\" >0</th>\n",
              "      <td id=\"T_08cde_row0_col0\" class=\"data row0 col0\" >1.764052</td>\n",
              "      <td id=\"T_08cde_row0_col1\" class=\"data row0 col1\" >0.400157</td>\n",
              "      <td id=\"T_08cde_row0_col2\" class=\"data row0 col2\" >0.978738</td>\n",
              "      <td id=\"T_08cde_row0_col3\" class=\"data row0 col3\" >2.240893</td>\n",
              "    </tr>\n",
              "    <tr>\n",
              "      <th id=\"T_08cde_level0_row1\" class=\"row_heading level0 row1\" >1</th>\n",
              "      <td id=\"T_08cde_row1_col0\" class=\"data row1 col0\" >1.867558</td>\n",
              "      <td id=\"T_08cde_row1_col1\" class=\"data row1 col1\" >-0.977278</td>\n",
              "      <td id=\"T_08cde_row1_col2\" class=\"data row1 col2\" >0.950088</td>\n",
              "      <td id=\"T_08cde_row1_col3\" class=\"data row1 col3\" >-0.151357</td>\n",
              "    </tr>\n",
              "    <tr>\n",
              "      <th id=\"T_08cde_level0_row2\" class=\"row_heading level0 row2\" >2</th>\n",
              "      <td id=\"T_08cde_row2_col0\" class=\"data row2 col0\" >-0.103219</td>\n",
              "      <td id=\"T_08cde_row2_col1\" class=\"data row2 col1\" >0.410599</td>\n",
              "      <td id=\"T_08cde_row2_col2\" class=\"data row2 col2\" >0.144044</td>\n",
              "      <td id=\"T_08cde_row2_col3\" class=\"data row2 col3\" >1.454274</td>\n",
              "    </tr>\n",
              "    <tr>\n",
              "      <th id=\"T_08cde_level0_row3\" class=\"row_heading level0 row3\" >3</th>\n",
              "      <td id=\"T_08cde_row3_col0\" class=\"data row3 col0\" >0.761038</td>\n",
              "      <td id=\"T_08cde_row3_col1\" class=\"data row3 col1\" >0.121675</td>\n",
              "      <td id=\"T_08cde_row3_col2\" class=\"data row3 col2\" >0.443863</td>\n",
              "      <td id=\"T_08cde_row3_col3\" class=\"data row3 col3\" >0.333674</td>\n",
              "    </tr>\n",
              "    <tr>\n",
              "      <th id=\"T_08cde_level0_row4\" class=\"row_heading level0 row4\" >4</th>\n",
              "      <td id=\"T_08cde_row4_col0\" class=\"data row4 col0\" >1.494079</td>\n",
              "      <td id=\"T_08cde_row4_col1\" class=\"data row4 col1\" >-0.205158</td>\n",
              "      <td id=\"T_08cde_row4_col2\" class=\"data row4 col2\" >0.313068</td>\n",
              "      <td id=\"T_08cde_row4_col3\" class=\"data row4 col3\" >-0.854096</td>\n",
              "    </tr>\n",
              "    <tr>\n",
              "      <th id=\"T_08cde_level0_row5\" class=\"row_heading level0 row5\" >5</th>\n",
              "      <td id=\"T_08cde_row5_col0\" class=\"data row5 col0\" >-2.552990</td>\n",
              "      <td id=\"T_08cde_row5_col1\" class=\"data row5 col1\" >0.653619</td>\n",
              "      <td id=\"T_08cde_row5_col2\" class=\"data row5 col2\" >0.864436</td>\n",
              "      <td id=\"T_08cde_row5_col3\" class=\"data row5 col3\" >-0.742165</td>\n",
              "    </tr>\n",
              "    <tr>\n",
              "      <th id=\"T_08cde_level0_row6\" class=\"row_heading level0 row6\" >6</th>\n",
              "      <td id=\"T_08cde_row6_col0\" class=\"data row6 col0\" >2.269755</td>\n",
              "      <td id=\"T_08cde_row6_col1\" class=\"data row6 col1\" >-1.454366</td>\n",
              "      <td id=\"T_08cde_row6_col2\" class=\"data row6 col2\" >0.045759</td>\n",
              "      <td id=\"T_08cde_row6_col3\" class=\"data row6 col3\" >-0.187184</td>\n",
              "    </tr>\n",
              "    <tr>\n",
              "      <th id=\"T_08cde_level0_row7\" class=\"row_heading level0 row7\" >7</th>\n",
              "      <td id=\"T_08cde_row7_col0\" class=\"data row7 col0\" >1.532779</td>\n",
              "      <td id=\"T_08cde_row7_col1\" class=\"data row7 col1\" >1.469359</td>\n",
              "      <td id=\"T_08cde_row7_col2\" class=\"data row7 col2\" >0.154947</td>\n",
              "      <td id=\"T_08cde_row7_col3\" class=\"data row7 col3\" >0.378163</td>\n",
              "    </tr>\n",
              "    <tr>\n",
              "      <th id=\"T_08cde_level0_row8\" class=\"row_heading level0 row8\" >8</th>\n",
              "      <td id=\"T_08cde_row8_col0\" class=\"data row8 col0\" >-0.887786</td>\n",
              "      <td id=\"T_08cde_row8_col1\" class=\"data row8 col1\" >-1.980796</td>\n",
              "      <td id=\"T_08cde_row8_col2\" class=\"data row8 col2\" >-0.347912</td>\n",
              "      <td id=\"T_08cde_row8_col3\" class=\"data row8 col3\" >0.156349</td>\n",
              "    </tr>\n",
              "    <tr>\n",
              "      <th id=\"T_08cde_level0_row9\" class=\"row_heading level0 row9\" >9</th>\n",
              "      <td id=\"T_08cde_row9_col0\" class=\"data row9 col0\" >1.230291</td>\n",
              "      <td id=\"T_08cde_row9_col1\" class=\"data row9 col1\" >1.202380</td>\n",
              "      <td id=\"T_08cde_row9_col2\" class=\"data row9 col2\" >-0.387327</td>\n",
              "      <td id=\"T_08cde_row9_col3\" class=\"data row9 col3\" >-0.302303</td>\n",
              "    </tr>\n",
              "  </tbody>\n",
              "</table>\n"
            ]
          },
          "metadata": {},
          "execution_count": 2
        }
      ]
    },
    {
      "cell_type": "markdown",
      "source": [
        "## display los valores negativos. "
      ],
      "metadata": {
        "id": "-bk1mdYbCG2w"
      }
    },
    {
      "cell_type": "code",
      "source": [
        "def style_negative(v, props=\"\"):\n",
        "    return props if v < 0 else Non\n",
        "s2 = df2.style.applymap(style_negative, props=\"color:red;\")\\.applymap(lambda v: \"opacity: 20%;\" if (v < 0.3) and (v > -0.3) else None)\n",
        "s2"
      ],
      "metadata": {
        "colab": {
          "base_uri": "https://localhost:8080/",
          "height": 158
        },
        "id": "kIUbIctKB7Kd",
        "outputId": "ff9c676a-cb4f-409a-8e08-a539201c5bf3"
      },
      "execution_count": null,
      "outputs": [
        {
          "output_type": "error",
          "ename": "SyntaxError",
          "evalue": "ignored",
          "traceback": [
            "\u001b[0;36m  File \u001b[0;32m\"<ipython-input-85-c4bc6ff6d297>\"\u001b[0;36m, line \u001b[0;32m3\u001b[0m\n\u001b[0;31m    s2 = df2.style.applymap(style_negative, props=\"color:red;\")\\.applymap(lambda v: \"opacity: 20%;\" if (v < 0.3) and (v > -0.3) else None)\u001b[0m\n\u001b[0m                                                                                                                                          ^\u001b[0m\n\u001b[0;31mSyntaxError\u001b[0m\u001b[0;31m:\u001b[0m unexpected character after line continuation character\n"
          ]
        }
      ]
    },
    {
      "cell_type": "code",
      "source": [
        "# esto es para resaltar los valores mas altos. \n",
        "def highlight_max(s, props=\"\"):\n",
        "    return np.where(s == np.nanmax(s.values), props, \"\")\n",
        "s2.apply(highlight_max, props=\"color:white;background-color:pink;\", axis=1)\\.apply(highlight_max, props=\"color:white;background-color:purple\", axis=None)"
      ],
      "metadata": {
        "colab": {
          "base_uri": "https://localhost:8080/",
          "height": 175
        },
        "id": "pHl0mhRvCYCz",
        "outputId": "8f4c4b89-9aec-40d3-8b5a-275027d44385"
      },
      "execution_count": null,
      "outputs": [
        {
          "output_type": "error",
          "ename": "SyntaxError",
          "evalue": "ignored",
          "traceback": [
            "\u001b[0;36m  File \u001b[0;32m\"<ipython-input-92-4e5465f30a0b>\"\u001b[0;36m, line \u001b[0;32m4\u001b[0m\n\u001b[0;31m    s2.apply(highlight_max, props=\"color:white;background-color:pink;\", axis=1)\\.apply(highlight_max, props=\"color:white;background-color:purple\", axis=None)\u001b[0m\n\u001b[0m                                                                                                                                                             ^\u001b[0m\n\u001b[0;31mSyntaxError\u001b[0m\u001b[0;31m:\u001b[0m unexpected character after line continuation character\n"
          ]
        }
      ]
    },
    {
      "cell_type": "code",
      "source": [
        "# esto es para resalta los valores nan\n",
        "df2.iloc[0,2] = np.nan\n",
        "df2.iloc[4,3] = np.nan\n",
        "df2.iloc[2,2] = np.nan\n",
        "df2.iloc[5,2] = np.nan\n",
        "df2.style.highlight_null(null_color=\"lawngreen\")"
      ],
      "metadata": {
        "colab": {
          "base_uri": "https://localhost:8080/",
          "height": 352
        },
        "id": "bRznSe-NDH-o",
        "outputId": "5dda66f1-0356-429b-9a3f-4dd1501beef2"
      },
      "execution_count": null,
      "outputs": [
        {
          "output_type": "execute_result",
          "data": {
            "text/plain": [
              "<pandas.io.formats.style.Styler at 0x7f041bb33cd0>"
            ],
            "text/html": [
              "<style type=\"text/css\">\n",
              "#T_899a0_row0_col2, #T_899a0_row2_col2, #T_899a0_row4_col3, #T_899a0_row5_col2 {\n",
              "  background-color: lawngreen;\n",
              "}\n",
              "</style>\n",
              "<table id=\"T_899a0_\" class=\"dataframe\">\n",
              "  <thead>\n",
              "    <tr>\n",
              "      <th class=\"blank level0\" >&nbsp;</th>\n",
              "      <th class=\"col_heading level0 col0\" >A</th>\n",
              "      <th class=\"col_heading level0 col1\" >B</th>\n",
              "      <th class=\"col_heading level0 col2\" >C</th>\n",
              "      <th class=\"col_heading level0 col3\" >D</th>\n",
              "    </tr>\n",
              "  </thead>\n",
              "  <tbody>\n",
              "    <tr>\n",
              "      <th id=\"T_899a0_level0_row0\" class=\"row_heading level0 row0\" >0</th>\n",
              "      <td id=\"T_899a0_row0_col0\" class=\"data row0 col0\" >1.764052</td>\n",
              "      <td id=\"T_899a0_row0_col1\" class=\"data row0 col1\" >0.400157</td>\n",
              "      <td id=\"T_899a0_row0_col2\" class=\"data row0 col2\" >nan</td>\n",
              "      <td id=\"T_899a0_row0_col3\" class=\"data row0 col3\" >2.240893</td>\n",
              "    </tr>\n",
              "    <tr>\n",
              "      <th id=\"T_899a0_level0_row1\" class=\"row_heading level0 row1\" >1</th>\n",
              "      <td id=\"T_899a0_row1_col0\" class=\"data row1 col0\" >1.867558</td>\n",
              "      <td id=\"T_899a0_row1_col1\" class=\"data row1 col1\" >-0.977278</td>\n",
              "      <td id=\"T_899a0_row1_col2\" class=\"data row1 col2\" >0.950088</td>\n",
              "      <td id=\"T_899a0_row1_col3\" class=\"data row1 col3\" >-0.151357</td>\n",
              "    </tr>\n",
              "    <tr>\n",
              "      <th id=\"T_899a0_level0_row2\" class=\"row_heading level0 row2\" >2</th>\n",
              "      <td id=\"T_899a0_row2_col0\" class=\"data row2 col0\" >-0.103219</td>\n",
              "      <td id=\"T_899a0_row2_col1\" class=\"data row2 col1\" >0.410599</td>\n",
              "      <td id=\"T_899a0_row2_col2\" class=\"data row2 col2\" >nan</td>\n",
              "      <td id=\"T_899a0_row2_col3\" class=\"data row2 col3\" >1.454274</td>\n",
              "    </tr>\n",
              "    <tr>\n",
              "      <th id=\"T_899a0_level0_row3\" class=\"row_heading level0 row3\" >3</th>\n",
              "      <td id=\"T_899a0_row3_col0\" class=\"data row3 col0\" >0.761038</td>\n",
              "      <td id=\"T_899a0_row3_col1\" class=\"data row3 col1\" >0.121675</td>\n",
              "      <td id=\"T_899a0_row3_col2\" class=\"data row3 col2\" >0.443863</td>\n",
              "      <td id=\"T_899a0_row3_col3\" class=\"data row3 col3\" >0.333674</td>\n",
              "    </tr>\n",
              "    <tr>\n",
              "      <th id=\"T_899a0_level0_row4\" class=\"row_heading level0 row4\" >4</th>\n",
              "      <td id=\"T_899a0_row4_col0\" class=\"data row4 col0\" >1.494079</td>\n",
              "      <td id=\"T_899a0_row4_col1\" class=\"data row4 col1\" >-0.205158</td>\n",
              "      <td id=\"T_899a0_row4_col2\" class=\"data row4 col2\" >0.313068</td>\n",
              "      <td id=\"T_899a0_row4_col3\" class=\"data row4 col3\" >nan</td>\n",
              "    </tr>\n",
              "    <tr>\n",
              "      <th id=\"T_899a0_level0_row5\" class=\"row_heading level0 row5\" >5</th>\n",
              "      <td id=\"T_899a0_row5_col0\" class=\"data row5 col0\" >-2.552990</td>\n",
              "      <td id=\"T_899a0_row5_col1\" class=\"data row5 col1\" >0.653619</td>\n",
              "      <td id=\"T_899a0_row5_col2\" class=\"data row5 col2\" >nan</td>\n",
              "      <td id=\"T_899a0_row5_col3\" class=\"data row5 col3\" >-0.742165</td>\n",
              "    </tr>\n",
              "    <tr>\n",
              "      <th id=\"T_899a0_level0_row6\" class=\"row_heading level0 row6\" >6</th>\n",
              "      <td id=\"T_899a0_row6_col0\" class=\"data row6 col0\" >2.269755</td>\n",
              "      <td id=\"T_899a0_row6_col1\" class=\"data row6 col1\" >-1.454366</td>\n",
              "      <td id=\"T_899a0_row6_col2\" class=\"data row6 col2\" >0.045759</td>\n",
              "      <td id=\"T_899a0_row6_col3\" class=\"data row6 col3\" >-0.187184</td>\n",
              "    </tr>\n",
              "    <tr>\n",
              "      <th id=\"T_899a0_level0_row7\" class=\"row_heading level0 row7\" >7</th>\n",
              "      <td id=\"T_899a0_row7_col0\" class=\"data row7 col0\" >1.532779</td>\n",
              "      <td id=\"T_899a0_row7_col1\" class=\"data row7 col1\" >1.469359</td>\n",
              "      <td id=\"T_899a0_row7_col2\" class=\"data row7 col2\" >0.154947</td>\n",
              "      <td id=\"T_899a0_row7_col3\" class=\"data row7 col3\" >0.378163</td>\n",
              "    </tr>\n",
              "    <tr>\n",
              "      <th id=\"T_899a0_level0_row8\" class=\"row_heading level0 row8\" >8</th>\n",
              "      <td id=\"T_899a0_row8_col0\" class=\"data row8 col0\" >-0.887786</td>\n",
              "      <td id=\"T_899a0_row8_col1\" class=\"data row8 col1\" >-1.980796</td>\n",
              "      <td id=\"T_899a0_row8_col2\" class=\"data row8 col2\" >-0.347912</td>\n",
              "      <td id=\"T_899a0_row8_col3\" class=\"data row8 col3\" >0.156349</td>\n",
              "    </tr>\n",
              "    <tr>\n",
              "      <th id=\"T_899a0_level0_row9\" class=\"row_heading level0 row9\" >9</th>\n",
              "      <td id=\"T_899a0_row9_col0\" class=\"data row9 col0\" >1.230291</td>\n",
              "      <td id=\"T_899a0_row9_col1\" class=\"data row9 col1\" >1.202380</td>\n",
              "      <td id=\"T_899a0_row9_col2\" class=\"data row9 col2\" >-0.387327</td>\n",
              "      <td id=\"T_899a0_row9_col3\" class=\"data row9 col3\" >-0.302303</td>\n",
              "    </tr>\n",
              "  </tbody>\n",
              "</table>\n"
            ]
          },
          "metadata": {},
          "execution_count": 91
        }
      ]
    },
    {
      "cell_type": "code",
      "source": [
        "import seaborn as sns\n",
        "cm = sns.light_palette(\"green\", as_cmap=True)\n",
        "df2.style.background_gradient(cmap=cm)"
      ],
      "metadata": {
        "colab": {
          "base_uri": "https://localhost:8080/",
          "height": 352
        },
        "id": "_zdj2DCnD3jm",
        "outputId": "7bbbde02-2e91-44a3-94b3-f178a9b317c6"
      },
      "execution_count": null,
      "outputs": [
        {
          "output_type": "execute_result",
          "data": {
            "text/plain": [
              "<pandas.io.formats.style.Styler at 0x7f50c923ea50>"
            ],
            "text/html": [
              "<style type=\"text/css\">\n",
              "#T_6f2d1_row0_col0 {\n",
              "  background-color: #188c18;\n",
              "  color: #f1f1f1;\n",
              "}\n",
              "#T_6f2d1_row0_col1 {\n",
              "  background-color: #49a449;\n",
              "  color: #f1f1f1;\n",
              "}\n",
              "#T_6f2d1_row0_col2, #T_6f2d1_row0_col3, #T_6f2d1_row6_col0, #T_6f2d1_row7_col1 {\n",
              "  background-color: #008000;\n",
              "  color: #f1f1f1;\n",
              "}\n",
              "#T_6f2d1_row1_col0, #T_6f2d1_row5_col2 {\n",
              "  background-color: #138913;\n",
              "  color: #f1f1f1;\n",
              "}\n",
              "#T_6f2d1_row1_col1 {\n",
              "  background-color: #a6d2a6;\n",
              "  color: #000000;\n",
              "}\n",
              "#T_6f2d1_row1_col2 {\n",
              "  background-color: #058205;\n",
              "  color: #f1f1f1;\n",
              "}\n",
              "#T_6f2d1_row1_col3 {\n",
              "  background-color: #b5d9b5;\n",
              "  color: #000000;\n",
              "}\n",
              "#T_6f2d1_row2_col0 {\n",
              "  background-color: #73b873;\n",
              "  color: #f1f1f1;\n",
              "}\n",
              "#T_6f2d1_row2_col1 {\n",
              "  background-color: #48a348;\n",
              "  color: #f1f1f1;\n",
              "}\n",
              "#T_6f2d1_row2_col2 {\n",
              "  background-color: #8fc68f;\n",
              "  color: #000000;\n",
              "}\n",
              "#T_6f2d1_row2_col3 {\n",
              "  background-color: #3c9d3c;\n",
              "  color: #f1f1f1;\n",
              "}\n",
              "#T_6f2d1_row3_col0 {\n",
              "  background-color: #4aa44a;\n",
              "  color: #f1f1f1;\n",
              "}\n",
              "#T_6f2d1_row3_col1 {\n",
              "  background-color: #5bad5b;\n",
              "  color: #f1f1f1;\n",
              "}\n",
              "#T_6f2d1_row3_col2 {\n",
              "  background-color: #5cad5c;\n",
              "  color: #f1f1f1;\n",
              "}\n",
              "#T_6f2d1_row3_col3 {\n",
              "  background-color: #90c790;\n",
              "  color: #000000;\n",
              "}\n",
              "#T_6f2d1_row4_col0 {\n",
              "  background-color: #269226;\n",
              "  color: #f1f1f1;\n",
              "}\n",
              "#T_6f2d1_row4_col1, #T_6f2d1_row4_col2 {\n",
              "  background-color: #72b872;\n",
              "  color: #f1f1f1;\n",
              "}\n",
              "#T_6f2d1_row4_col3, #T_6f2d1_row5_col0, #T_6f2d1_row8_col1, #T_6f2d1_row9_col2 {\n",
              "  background-color: #ebf3eb;\n",
              "  color: #000000;\n",
              "}\n",
              "#T_6f2d1_row5_col1 {\n",
              "  background-color: #379b37;\n",
              "  color: #f1f1f1;\n",
              "}\n",
              "#T_6f2d1_row5_col3 {\n",
              "  background-color: #e2efe2;\n",
              "  color: #000000;\n",
              "}\n",
              "#T_6f2d1_row6_col1 {\n",
              "  background-color: #c7e1c7;\n",
              "  color: #000000;\n",
              "}\n",
              "#T_6f2d1_row6_col2 {\n",
              "  background-color: #a0cea0;\n",
              "  color: #000000;\n",
              "}\n",
              "#T_6f2d1_row6_col3 {\n",
              "  background-color: #b8dab8;\n",
              "  color: #000000;\n",
              "}\n",
              "#T_6f2d1_row7_col0 {\n",
              "  background-color: #249224;\n",
              "  color: #f1f1f1;\n",
              "}\n",
              "#T_6f2d1_row7_col2, #T_6f2d1_row7_col3 {\n",
              "  background-color: #8ec58e;\n",
              "  color: #000000;\n",
              "}\n",
              "#T_6f2d1_row8_col0 {\n",
              "  background-color: #9acb9a;\n",
              "  color: #000000;\n",
              "}\n",
              "#T_6f2d1_row8_col2 {\n",
              "  background-color: #e4f0e4;\n",
              "  color: #000000;\n",
              "}\n",
              "#T_6f2d1_row8_col3 {\n",
              "  background-color: #9ece9e;\n",
              "  color: #000000;\n",
              "}\n",
              "#T_6f2d1_row9_col0 {\n",
              "  background-color: #339933;\n",
              "  color: #f1f1f1;\n",
              "}\n",
              "#T_6f2d1_row9_col1 {\n",
              "  background-color: #118911;\n",
              "  color: #f1f1f1;\n",
              "}\n",
              "#T_6f2d1_row9_col3 {\n",
              "  background-color: #c1dfc1;\n",
              "  color: #000000;\n",
              "}\n",
              "</style>\n",
              "<table id=\"T_6f2d1_\" class=\"dataframe\">\n",
              "  <thead>\n",
              "    <tr>\n",
              "      <th class=\"blank level0\" >&nbsp;</th>\n",
              "      <th class=\"col_heading level0 col0\" >A</th>\n",
              "      <th class=\"col_heading level0 col1\" >B</th>\n",
              "      <th class=\"col_heading level0 col2\" >C</th>\n",
              "      <th class=\"col_heading level0 col3\" >D</th>\n",
              "    </tr>\n",
              "  </thead>\n",
              "  <tbody>\n",
              "    <tr>\n",
              "      <th id=\"T_6f2d1_level0_row0\" class=\"row_heading level0 row0\" >0</th>\n",
              "      <td id=\"T_6f2d1_row0_col0\" class=\"data row0 col0\" >1.764052</td>\n",
              "      <td id=\"T_6f2d1_row0_col1\" class=\"data row0 col1\" >0.400157</td>\n",
              "      <td id=\"T_6f2d1_row0_col2\" class=\"data row0 col2\" >0.978738</td>\n",
              "      <td id=\"T_6f2d1_row0_col3\" class=\"data row0 col3\" >2.240893</td>\n",
              "    </tr>\n",
              "    <tr>\n",
              "      <th id=\"T_6f2d1_level0_row1\" class=\"row_heading level0 row1\" >1</th>\n",
              "      <td id=\"T_6f2d1_row1_col0\" class=\"data row1 col0\" >1.867558</td>\n",
              "      <td id=\"T_6f2d1_row1_col1\" class=\"data row1 col1\" >-0.977278</td>\n",
              "      <td id=\"T_6f2d1_row1_col2\" class=\"data row1 col2\" >0.950088</td>\n",
              "      <td id=\"T_6f2d1_row1_col3\" class=\"data row1 col3\" >-0.151357</td>\n",
              "    </tr>\n",
              "    <tr>\n",
              "      <th id=\"T_6f2d1_level0_row2\" class=\"row_heading level0 row2\" >2</th>\n",
              "      <td id=\"T_6f2d1_row2_col0\" class=\"data row2 col0\" >-0.103219</td>\n",
              "      <td id=\"T_6f2d1_row2_col1\" class=\"data row2 col1\" >0.410599</td>\n",
              "      <td id=\"T_6f2d1_row2_col2\" class=\"data row2 col2\" >0.144044</td>\n",
              "      <td id=\"T_6f2d1_row2_col3\" class=\"data row2 col3\" >1.454274</td>\n",
              "    </tr>\n",
              "    <tr>\n",
              "      <th id=\"T_6f2d1_level0_row3\" class=\"row_heading level0 row3\" >3</th>\n",
              "      <td id=\"T_6f2d1_row3_col0\" class=\"data row3 col0\" >0.761038</td>\n",
              "      <td id=\"T_6f2d1_row3_col1\" class=\"data row3 col1\" >0.121675</td>\n",
              "      <td id=\"T_6f2d1_row3_col2\" class=\"data row3 col2\" >0.443863</td>\n",
              "      <td id=\"T_6f2d1_row3_col3\" class=\"data row3 col3\" >0.333674</td>\n",
              "    </tr>\n",
              "    <tr>\n",
              "      <th id=\"T_6f2d1_level0_row4\" class=\"row_heading level0 row4\" >4</th>\n",
              "      <td id=\"T_6f2d1_row4_col0\" class=\"data row4 col0\" >1.494079</td>\n",
              "      <td id=\"T_6f2d1_row4_col1\" class=\"data row4 col1\" >-0.205158</td>\n",
              "      <td id=\"T_6f2d1_row4_col2\" class=\"data row4 col2\" >0.313068</td>\n",
              "      <td id=\"T_6f2d1_row4_col3\" class=\"data row4 col3\" >-0.854096</td>\n",
              "    </tr>\n",
              "    <tr>\n",
              "      <th id=\"T_6f2d1_level0_row5\" class=\"row_heading level0 row5\" >5</th>\n",
              "      <td id=\"T_6f2d1_row5_col0\" class=\"data row5 col0\" >-2.552990</td>\n",
              "      <td id=\"T_6f2d1_row5_col1\" class=\"data row5 col1\" >0.653619</td>\n",
              "      <td id=\"T_6f2d1_row5_col2\" class=\"data row5 col2\" >0.864436</td>\n",
              "      <td id=\"T_6f2d1_row5_col3\" class=\"data row5 col3\" >-0.742165</td>\n",
              "    </tr>\n",
              "    <tr>\n",
              "      <th id=\"T_6f2d1_level0_row6\" class=\"row_heading level0 row6\" >6</th>\n",
              "      <td id=\"T_6f2d1_row6_col0\" class=\"data row6 col0\" >2.269755</td>\n",
              "      <td id=\"T_6f2d1_row6_col1\" class=\"data row6 col1\" >-1.454366</td>\n",
              "      <td id=\"T_6f2d1_row6_col2\" class=\"data row6 col2\" >0.045759</td>\n",
              "      <td id=\"T_6f2d1_row6_col3\" class=\"data row6 col3\" >-0.187184</td>\n",
              "    </tr>\n",
              "    <tr>\n",
              "      <th id=\"T_6f2d1_level0_row7\" class=\"row_heading level0 row7\" >7</th>\n",
              "      <td id=\"T_6f2d1_row7_col0\" class=\"data row7 col0\" >1.532779</td>\n",
              "      <td id=\"T_6f2d1_row7_col1\" class=\"data row7 col1\" >1.469359</td>\n",
              "      <td id=\"T_6f2d1_row7_col2\" class=\"data row7 col2\" >0.154947</td>\n",
              "      <td id=\"T_6f2d1_row7_col3\" class=\"data row7 col3\" >0.378163</td>\n",
              "    </tr>\n",
              "    <tr>\n",
              "      <th id=\"T_6f2d1_level0_row8\" class=\"row_heading level0 row8\" >8</th>\n",
              "      <td id=\"T_6f2d1_row8_col0\" class=\"data row8 col0\" >-0.887786</td>\n",
              "      <td id=\"T_6f2d1_row8_col1\" class=\"data row8 col1\" >-1.980796</td>\n",
              "      <td id=\"T_6f2d1_row8_col2\" class=\"data row8 col2\" >-0.347912</td>\n",
              "      <td id=\"T_6f2d1_row8_col3\" class=\"data row8 col3\" >0.156349</td>\n",
              "    </tr>\n",
              "    <tr>\n",
              "      <th id=\"T_6f2d1_level0_row9\" class=\"row_heading level0 row9\" >9</th>\n",
              "      <td id=\"T_6f2d1_row9_col0\" class=\"data row9 col0\" >1.230291</td>\n",
              "      <td id=\"T_6f2d1_row9_col1\" class=\"data row9 col1\" >1.202380</td>\n",
              "      <td id=\"T_6f2d1_row9_col2\" class=\"data row9 col2\" >-0.387327</td>\n",
              "      <td id=\"T_6f2d1_row9_col3\" class=\"data row9 col3\" >-0.302303</td>\n",
              "    </tr>\n",
              "  </tbody>\n",
              "</table>\n"
            ]
          },
          "metadata": {},
          "execution_count": 4
        }
      ]
    },
    {
      "cell_type": "code",
      "source": [
        "import pandas as pd\n",
        "cars = pd.DataFrame([['Honda', 25000], ['Toyota', 27000],['Nissan', 45000], ['BMW', 57000],['Tesla', 50000], ['Lucid', 100000]],\n",
        "                   columns=['Car_Name', 'Price'])\n",
        "cars.head(10).style.set_properties(**{'background-color': 'blue',                                                   \n",
        "                                    'color': 'lawngreen',                       \n",
        "                                    'border-color': 'white'})"
      ],
      "metadata": {
        "colab": {
          "base_uri": "https://localhost:8080/",
          "height": 231
        },
        "id": "7SusMESSTOgr",
        "outputId": "61381e58-e4a4-4392-eb2f-a821bc211849"
      },
      "execution_count": null,
      "outputs": [
        {
          "output_type": "execute_result",
          "data": {
            "text/plain": [
              "<pandas.io.formats.style.Styler at 0x7f50ba747a50>"
            ],
            "text/html": [
              "<style type=\"text/css\">\n",
              "#T_63230_row0_col0, #T_63230_row0_col1, #T_63230_row1_col0, #T_63230_row1_col1, #T_63230_row2_col0, #T_63230_row2_col1, #T_63230_row3_col0, #T_63230_row3_col1, #T_63230_row4_col0, #T_63230_row4_col1, #T_63230_row5_col0, #T_63230_row5_col1 {\n",
              "  background-color: blue;\n",
              "  color: lawngreen;\n",
              "  border-color: white;\n",
              "}\n",
              "</style>\n",
              "<table id=\"T_63230_\" class=\"dataframe\">\n",
              "  <thead>\n",
              "    <tr>\n",
              "      <th class=\"blank level0\" >&nbsp;</th>\n",
              "      <th class=\"col_heading level0 col0\" >Car_Name</th>\n",
              "      <th class=\"col_heading level0 col1\" >Price</th>\n",
              "    </tr>\n",
              "  </thead>\n",
              "  <tbody>\n",
              "    <tr>\n",
              "      <th id=\"T_63230_level0_row0\" class=\"row_heading level0 row0\" >0</th>\n",
              "      <td id=\"T_63230_row0_col0\" class=\"data row0 col0\" >Honda</td>\n",
              "      <td id=\"T_63230_row0_col1\" class=\"data row0 col1\" >25000</td>\n",
              "    </tr>\n",
              "    <tr>\n",
              "      <th id=\"T_63230_level0_row1\" class=\"row_heading level0 row1\" >1</th>\n",
              "      <td id=\"T_63230_row1_col0\" class=\"data row1 col0\" >Toyota</td>\n",
              "      <td id=\"T_63230_row1_col1\" class=\"data row1 col1\" >27000</td>\n",
              "    </tr>\n",
              "    <tr>\n",
              "      <th id=\"T_63230_level0_row2\" class=\"row_heading level0 row2\" >2</th>\n",
              "      <td id=\"T_63230_row2_col0\" class=\"data row2 col0\" >Nissan</td>\n",
              "      <td id=\"T_63230_row2_col1\" class=\"data row2 col1\" >45000</td>\n",
              "    </tr>\n",
              "    <tr>\n",
              "      <th id=\"T_63230_level0_row3\" class=\"row_heading level0 row3\" >3</th>\n",
              "      <td id=\"T_63230_row3_col0\" class=\"data row3 col0\" >BMW</td>\n",
              "      <td id=\"T_63230_row3_col1\" class=\"data row3 col1\" >57000</td>\n",
              "    </tr>\n",
              "    <tr>\n",
              "      <th id=\"T_63230_level0_row4\" class=\"row_heading level0 row4\" >4</th>\n",
              "      <td id=\"T_63230_row4_col0\" class=\"data row4 col0\" >Tesla</td>\n",
              "      <td id=\"T_63230_row4_col1\" class=\"data row4 col1\" >50000</td>\n",
              "    </tr>\n",
              "    <tr>\n",
              "      <th id=\"T_63230_level0_row5\" class=\"row_heading level0 row5\" >5</th>\n",
              "      <td id=\"T_63230_row5_col0\" class=\"data row5 col0\" >Lucid</td>\n",
              "      <td id=\"T_63230_row5_col1\" class=\"data row5 col1\" >100000</td>\n",
              "    </tr>\n",
              "  </tbody>\n",
              "</table>\n"
            ]
          },
          "metadata": {},
          "execution_count": 5
        }
      ]
    },
    {
      "cell_type": "markdown",
      "source": [
        "## como rearrange las columnas del dataframe"
      ],
      "metadata": {
        "id": "TFqi129qTwCU"
      }
    },
    {
      "cell_type": "code",
      "source": [
        "url = (\n",
        "    \"https://raw.github.com/pandas-dev\"\n",
        "    \"/pandas/main/pandas/tests/io/data/csv/tips.csv\"\n",
        ")\n",
        "\n",
        "tips = pd.read_csv(url)\n",
        "tips"
      ],
      "metadata": {
        "colab": {
          "base_uri": "https://localhost:8080/",
          "height": 411
        },
        "id": "qkpVTojvUD0A",
        "outputId": "b356d877-3e4a-4bb3-9da0-25a22e6714f4"
      },
      "execution_count": null,
      "outputs": [
        {
          "output_type": "execute_result",
          "data": {
            "text/plain": [
              "     total_bill   tip     sex smoker   day    time  size\n",
              "0         16.99  1.01  Female     No   Sun  Dinner     2\n",
              "1         10.34  1.66    Male     No   Sun  Dinner     3\n",
              "2         21.01  3.50    Male     No   Sun  Dinner     3\n",
              "3         23.68  3.31    Male     No   Sun  Dinner     2\n",
              "4         24.59  3.61  Female     No   Sun  Dinner     4\n",
              "..          ...   ...     ...    ...   ...     ...   ...\n",
              "239       29.03  5.92    Male     No   Sat  Dinner     3\n",
              "240       27.18  2.00  Female    Yes   Sat  Dinner     2\n",
              "241       22.67  2.00    Male    Yes   Sat  Dinner     2\n",
              "242       17.82  1.75    Male     No   Sat  Dinner     2\n",
              "243       18.78  3.00  Female     No  Thur  Dinner     2\n",
              "\n",
              "[244 rows x 7 columns]"
            ],
            "text/html": [
              "\n",
              "  <div id=\"df-6e69009f-f864-4d81-a466-810081970835\">\n",
              "    <div class=\"colab-df-container\">\n",
              "      <div>\n",
              "<style scoped>\n",
              "    .dataframe tbody tr th:only-of-type {\n",
              "        vertical-align: middle;\n",
              "    }\n",
              "\n",
              "    .dataframe tbody tr th {\n",
              "        vertical-align: top;\n",
              "    }\n",
              "\n",
              "    .dataframe thead th {\n",
              "        text-align: right;\n",
              "    }\n",
              "</style>\n",
              "<table border=\"1\" class=\"dataframe\">\n",
              "  <thead>\n",
              "    <tr style=\"text-align: right;\">\n",
              "      <th></th>\n",
              "      <th>total_bill</th>\n",
              "      <th>tip</th>\n",
              "      <th>sex</th>\n",
              "      <th>smoker</th>\n",
              "      <th>day</th>\n",
              "      <th>time</th>\n",
              "      <th>size</th>\n",
              "    </tr>\n",
              "  </thead>\n",
              "  <tbody>\n",
              "    <tr>\n",
              "      <th>0</th>\n",
              "      <td>16.99</td>\n",
              "      <td>1.01</td>\n",
              "      <td>Female</td>\n",
              "      <td>No</td>\n",
              "      <td>Sun</td>\n",
              "      <td>Dinner</td>\n",
              "      <td>2</td>\n",
              "    </tr>\n",
              "    <tr>\n",
              "      <th>1</th>\n",
              "      <td>10.34</td>\n",
              "      <td>1.66</td>\n",
              "      <td>Male</td>\n",
              "      <td>No</td>\n",
              "      <td>Sun</td>\n",
              "      <td>Dinner</td>\n",
              "      <td>3</td>\n",
              "    </tr>\n",
              "    <tr>\n",
              "      <th>2</th>\n",
              "      <td>21.01</td>\n",
              "      <td>3.50</td>\n",
              "      <td>Male</td>\n",
              "      <td>No</td>\n",
              "      <td>Sun</td>\n",
              "      <td>Dinner</td>\n",
              "      <td>3</td>\n",
              "    </tr>\n",
              "    <tr>\n",
              "      <th>3</th>\n",
              "      <td>23.68</td>\n",
              "      <td>3.31</td>\n",
              "      <td>Male</td>\n",
              "      <td>No</td>\n",
              "      <td>Sun</td>\n",
              "      <td>Dinner</td>\n",
              "      <td>2</td>\n",
              "    </tr>\n",
              "    <tr>\n",
              "      <th>4</th>\n",
              "      <td>24.59</td>\n",
              "      <td>3.61</td>\n",
              "      <td>Female</td>\n",
              "      <td>No</td>\n",
              "      <td>Sun</td>\n",
              "      <td>Dinner</td>\n",
              "      <td>4</td>\n",
              "    </tr>\n",
              "    <tr>\n",
              "      <th>...</th>\n",
              "      <td>...</td>\n",
              "      <td>...</td>\n",
              "      <td>...</td>\n",
              "      <td>...</td>\n",
              "      <td>...</td>\n",
              "      <td>...</td>\n",
              "      <td>...</td>\n",
              "    </tr>\n",
              "    <tr>\n",
              "      <th>239</th>\n",
              "      <td>29.03</td>\n",
              "      <td>5.92</td>\n",
              "      <td>Male</td>\n",
              "      <td>No</td>\n",
              "      <td>Sat</td>\n",
              "      <td>Dinner</td>\n",
              "      <td>3</td>\n",
              "    </tr>\n",
              "    <tr>\n",
              "      <th>240</th>\n",
              "      <td>27.18</td>\n",
              "      <td>2.00</td>\n",
              "      <td>Female</td>\n",
              "      <td>Yes</td>\n",
              "      <td>Sat</td>\n",
              "      <td>Dinner</td>\n",
              "      <td>2</td>\n",
              "    </tr>\n",
              "    <tr>\n",
              "      <th>241</th>\n",
              "      <td>22.67</td>\n",
              "      <td>2.00</td>\n",
              "      <td>Male</td>\n",
              "      <td>Yes</td>\n",
              "      <td>Sat</td>\n",
              "      <td>Dinner</td>\n",
              "      <td>2</td>\n",
              "    </tr>\n",
              "    <tr>\n",
              "      <th>242</th>\n",
              "      <td>17.82</td>\n",
              "      <td>1.75</td>\n",
              "      <td>Male</td>\n",
              "      <td>No</td>\n",
              "      <td>Sat</td>\n",
              "      <td>Dinner</td>\n",
              "      <td>2</td>\n",
              "    </tr>\n",
              "    <tr>\n",
              "      <th>243</th>\n",
              "      <td>18.78</td>\n",
              "      <td>3.00</td>\n",
              "      <td>Female</td>\n",
              "      <td>No</td>\n",
              "      <td>Thur</td>\n",
              "      <td>Dinner</td>\n",
              "      <td>2</td>\n",
              "    </tr>\n",
              "  </tbody>\n",
              "</table>\n",
              "<p>244 rows × 7 columns</p>\n",
              "</div>\n",
              "      <button class=\"colab-df-convert\" onclick=\"convertToInteractive('df-6e69009f-f864-4d81-a466-810081970835')\"\n",
              "              title=\"Convert this dataframe to an interactive table.\"\n",
              "              style=\"display:none;\">\n",
              "        \n",
              "  <svg xmlns=\"http://www.w3.org/2000/svg\" height=\"24px\"viewBox=\"0 0 24 24\"\n",
              "       width=\"24px\">\n",
              "    <path d=\"M0 0h24v24H0V0z\" fill=\"none\"/>\n",
              "    <path d=\"M18.56 5.44l.94 2.06.94-2.06 2.06-.94-2.06-.94-.94-2.06-.94 2.06-2.06.94zm-11 1L8.5 8.5l.94-2.06 2.06-.94-2.06-.94L8.5 2.5l-.94 2.06-2.06.94zm10 10l.94 2.06.94-2.06 2.06-.94-2.06-.94-.94-2.06-.94 2.06-2.06.94z\"/><path d=\"M17.41 7.96l-1.37-1.37c-.4-.4-.92-.59-1.43-.59-.52 0-1.04.2-1.43.59L10.3 9.45l-7.72 7.72c-.78.78-.78 2.05 0 2.83L4 21.41c.39.39.9.59 1.41.59.51 0 1.02-.2 1.41-.59l7.78-7.78 2.81-2.81c.8-.78.8-2.07 0-2.86zM5.41 20L4 18.59l7.72-7.72 1.47 1.35L5.41 20z\"/>\n",
              "  </svg>\n",
              "      </button>\n",
              "      \n",
              "  <style>\n",
              "    .colab-df-container {\n",
              "      display:flex;\n",
              "      flex-wrap:wrap;\n",
              "      gap: 12px;\n",
              "    }\n",
              "\n",
              "    .colab-df-convert {\n",
              "      background-color: #E8F0FE;\n",
              "      border: none;\n",
              "      border-radius: 50%;\n",
              "      cursor: pointer;\n",
              "      display: none;\n",
              "      fill: #1967D2;\n",
              "      height: 32px;\n",
              "      padding: 0 0 0 0;\n",
              "      width: 32px;\n",
              "    }\n",
              "\n",
              "    .colab-df-convert:hover {\n",
              "      background-color: #E2EBFA;\n",
              "      box-shadow: 0px 1px 2px rgba(60, 64, 67, 0.3), 0px 1px 3px 1px rgba(60, 64, 67, 0.15);\n",
              "      fill: #174EA6;\n",
              "    }\n",
              "\n",
              "    [theme=dark] .colab-df-convert {\n",
              "      background-color: #3B4455;\n",
              "      fill: #D2E3FC;\n",
              "    }\n",
              "\n",
              "    [theme=dark] .colab-df-convert:hover {\n",
              "      background-color: #434B5C;\n",
              "      box-shadow: 0px 1px 3px 1px rgba(0, 0, 0, 0.15);\n",
              "      filter: drop-shadow(0px 1px 2px rgba(0, 0, 0, 0.3));\n",
              "      fill: #FFFFFF;\n",
              "    }\n",
              "  </style>\n",
              "\n",
              "      <script>\n",
              "        const buttonEl =\n",
              "          document.querySelector('#df-6e69009f-f864-4d81-a466-810081970835 button.colab-df-convert');\n",
              "        buttonEl.style.display =\n",
              "          google.colab.kernel.accessAllowed ? 'block' : 'none';\n",
              "\n",
              "        async function convertToInteractive(key) {\n",
              "          const element = document.querySelector('#df-6e69009f-f864-4d81-a466-810081970835');\n",
              "          const dataTable =\n",
              "            await google.colab.kernel.invokeFunction('convertToInteractive',\n",
              "                                                     [key], {});\n",
              "          if (!dataTable) return;\n",
              "\n",
              "          const docLinkHtml = 'Like what you see? Visit the ' +\n",
              "            '<a target=\"_blank\" href=https://colab.research.google.com/notebooks/data_table.ipynb>data table notebook</a>'\n",
              "            + ' to learn more about interactive tables.';\n",
              "          element.innerHTML = '';\n",
              "          dataTable['output_type'] = 'display_data';\n",
              "          await google.colab.output.renderOutput(dataTable, element);\n",
              "          const docLink = document.createElement('div');\n",
              "          docLink.innerHTML = docLinkHtml;\n",
              "          element.appendChild(docLink);\n",
              "        }\n",
              "      </script>\n",
              "    </div>\n",
              "  </div>\n",
              "  "
            ]
          },
          "metadata": {},
          "execution_count": 9
        }
      ]
    },
    {
      "cell_type": "code",
      "source": [
        "cols = tips.columns.tolist()\n",
        "cols"
      ],
      "metadata": {
        "colab": {
          "base_uri": "https://localhost:8080/"
        },
        "id": "OCRLBUMVUQSF",
        "outputId": "ccad2c7f-6847-4a5e-ba2f-adb3925de25e"
      },
      "execution_count": null,
      "outputs": [
        {
          "output_type": "execute_result",
          "data": {
            "text/plain": [
              "['total_bill', 'tip', 'sex', 'smoker', 'day', 'time', 'size']"
            ]
          },
          "metadata": {},
          "execution_count": 10
        }
      ]
    },
    {
      "cell_type": "code",
      "source": [
        "#Here move the last column to the first\n",
        "cols = cols[-1:] + cols[:-1] # aqui lo que estamos haciendo es cambiar\n",
        "# la columna de sitio"
      ],
      "metadata": {
        "id": "OTaSHy8OUhqL"
      },
      "execution_count": null,
      "outputs": []
    },
    {
      "cell_type": "code",
      "source": [
        "#then assign the cols\n",
        "tips = tips[cols]\n",
        "tips"
      ],
      "metadata": {
        "colab": {
          "base_uri": "https://localhost:8080/",
          "height": 411
        },
        "id": "rzqjYEYoUo3f",
        "outputId": "13a3c9ce-2baa-4cd3-a83b-8fd5f85f329c"
      },
      "execution_count": null,
      "outputs": [
        {
          "output_type": "execute_result",
          "data": {
            "text/plain": [
              "     size  total_bill   tip     sex smoker   day    time\n",
              "0       2       16.99  1.01  Female     No   Sun  Dinner\n",
              "1       3       10.34  1.66    Male     No   Sun  Dinner\n",
              "2       3       21.01  3.50    Male     No   Sun  Dinner\n",
              "3       2       23.68  3.31    Male     No   Sun  Dinner\n",
              "4       4       24.59  3.61  Female     No   Sun  Dinner\n",
              "..    ...         ...   ...     ...    ...   ...     ...\n",
              "239     3       29.03  5.92    Male     No   Sat  Dinner\n",
              "240     2       27.18  2.00  Female    Yes   Sat  Dinner\n",
              "241     2       22.67  2.00    Male    Yes   Sat  Dinner\n",
              "242     2       17.82  1.75    Male     No   Sat  Dinner\n",
              "243     2       18.78  3.00  Female     No  Thur  Dinner\n",
              "\n",
              "[244 rows x 7 columns]"
            ],
            "text/html": [
              "\n",
              "  <div id=\"df-0dca3ec9-b601-4718-8b91-1e79cc901aa3\">\n",
              "    <div class=\"colab-df-container\">\n",
              "      <div>\n",
              "<style scoped>\n",
              "    .dataframe tbody tr th:only-of-type {\n",
              "        vertical-align: middle;\n",
              "    }\n",
              "\n",
              "    .dataframe tbody tr th {\n",
              "        vertical-align: top;\n",
              "    }\n",
              "\n",
              "    .dataframe thead th {\n",
              "        text-align: right;\n",
              "    }\n",
              "</style>\n",
              "<table border=\"1\" class=\"dataframe\">\n",
              "  <thead>\n",
              "    <tr style=\"text-align: right;\">\n",
              "      <th></th>\n",
              "      <th>size</th>\n",
              "      <th>total_bill</th>\n",
              "      <th>tip</th>\n",
              "      <th>sex</th>\n",
              "      <th>smoker</th>\n",
              "      <th>day</th>\n",
              "      <th>time</th>\n",
              "    </tr>\n",
              "  </thead>\n",
              "  <tbody>\n",
              "    <tr>\n",
              "      <th>0</th>\n",
              "      <td>2</td>\n",
              "      <td>16.99</td>\n",
              "      <td>1.01</td>\n",
              "      <td>Female</td>\n",
              "      <td>No</td>\n",
              "      <td>Sun</td>\n",
              "      <td>Dinner</td>\n",
              "    </tr>\n",
              "    <tr>\n",
              "      <th>1</th>\n",
              "      <td>3</td>\n",
              "      <td>10.34</td>\n",
              "      <td>1.66</td>\n",
              "      <td>Male</td>\n",
              "      <td>No</td>\n",
              "      <td>Sun</td>\n",
              "      <td>Dinner</td>\n",
              "    </tr>\n",
              "    <tr>\n",
              "      <th>2</th>\n",
              "      <td>3</td>\n",
              "      <td>21.01</td>\n",
              "      <td>3.50</td>\n",
              "      <td>Male</td>\n",
              "      <td>No</td>\n",
              "      <td>Sun</td>\n",
              "      <td>Dinner</td>\n",
              "    </tr>\n",
              "    <tr>\n",
              "      <th>3</th>\n",
              "      <td>2</td>\n",
              "      <td>23.68</td>\n",
              "      <td>3.31</td>\n",
              "      <td>Male</td>\n",
              "      <td>No</td>\n",
              "      <td>Sun</td>\n",
              "      <td>Dinner</td>\n",
              "    </tr>\n",
              "    <tr>\n",
              "      <th>4</th>\n",
              "      <td>4</td>\n",
              "      <td>24.59</td>\n",
              "      <td>3.61</td>\n",
              "      <td>Female</td>\n",
              "      <td>No</td>\n",
              "      <td>Sun</td>\n",
              "      <td>Dinner</td>\n",
              "    </tr>\n",
              "    <tr>\n",
              "      <th>...</th>\n",
              "      <td>...</td>\n",
              "      <td>...</td>\n",
              "      <td>...</td>\n",
              "      <td>...</td>\n",
              "      <td>...</td>\n",
              "      <td>...</td>\n",
              "      <td>...</td>\n",
              "    </tr>\n",
              "    <tr>\n",
              "      <th>239</th>\n",
              "      <td>3</td>\n",
              "      <td>29.03</td>\n",
              "      <td>5.92</td>\n",
              "      <td>Male</td>\n",
              "      <td>No</td>\n",
              "      <td>Sat</td>\n",
              "      <td>Dinner</td>\n",
              "    </tr>\n",
              "    <tr>\n",
              "      <th>240</th>\n",
              "      <td>2</td>\n",
              "      <td>27.18</td>\n",
              "      <td>2.00</td>\n",
              "      <td>Female</td>\n",
              "      <td>Yes</td>\n",
              "      <td>Sat</td>\n",
              "      <td>Dinner</td>\n",
              "    </tr>\n",
              "    <tr>\n",
              "      <th>241</th>\n",
              "      <td>2</td>\n",
              "      <td>22.67</td>\n",
              "      <td>2.00</td>\n",
              "      <td>Male</td>\n",
              "      <td>Yes</td>\n",
              "      <td>Sat</td>\n",
              "      <td>Dinner</td>\n",
              "    </tr>\n",
              "    <tr>\n",
              "      <th>242</th>\n",
              "      <td>2</td>\n",
              "      <td>17.82</td>\n",
              "      <td>1.75</td>\n",
              "      <td>Male</td>\n",
              "      <td>No</td>\n",
              "      <td>Sat</td>\n",
              "      <td>Dinner</td>\n",
              "    </tr>\n",
              "    <tr>\n",
              "      <th>243</th>\n",
              "      <td>2</td>\n",
              "      <td>18.78</td>\n",
              "      <td>3.00</td>\n",
              "      <td>Female</td>\n",
              "      <td>No</td>\n",
              "      <td>Thur</td>\n",
              "      <td>Dinner</td>\n",
              "    </tr>\n",
              "  </tbody>\n",
              "</table>\n",
              "<p>244 rows × 7 columns</p>\n",
              "</div>\n",
              "      <button class=\"colab-df-convert\" onclick=\"convertToInteractive('df-0dca3ec9-b601-4718-8b91-1e79cc901aa3')\"\n",
              "              title=\"Convert this dataframe to an interactive table.\"\n",
              "              style=\"display:none;\">\n",
              "        \n",
              "  <svg xmlns=\"http://www.w3.org/2000/svg\" height=\"24px\"viewBox=\"0 0 24 24\"\n",
              "       width=\"24px\">\n",
              "    <path d=\"M0 0h24v24H0V0z\" fill=\"none\"/>\n",
              "    <path d=\"M18.56 5.44l.94 2.06.94-2.06 2.06-.94-2.06-.94-.94-2.06-.94 2.06-2.06.94zm-11 1L8.5 8.5l.94-2.06 2.06-.94-2.06-.94L8.5 2.5l-.94 2.06-2.06.94zm10 10l.94 2.06.94-2.06 2.06-.94-2.06-.94-.94-2.06-.94 2.06-2.06.94z\"/><path d=\"M17.41 7.96l-1.37-1.37c-.4-.4-.92-.59-1.43-.59-.52 0-1.04.2-1.43.59L10.3 9.45l-7.72 7.72c-.78.78-.78 2.05 0 2.83L4 21.41c.39.39.9.59 1.41.59.51 0 1.02-.2 1.41-.59l7.78-7.78 2.81-2.81c.8-.78.8-2.07 0-2.86zM5.41 20L4 18.59l7.72-7.72 1.47 1.35L5.41 20z\"/>\n",
              "  </svg>\n",
              "      </button>\n",
              "      \n",
              "  <style>\n",
              "    .colab-df-container {\n",
              "      display:flex;\n",
              "      flex-wrap:wrap;\n",
              "      gap: 12px;\n",
              "    }\n",
              "\n",
              "    .colab-df-convert {\n",
              "      background-color: #E8F0FE;\n",
              "      border: none;\n",
              "      border-radius: 50%;\n",
              "      cursor: pointer;\n",
              "      display: none;\n",
              "      fill: #1967D2;\n",
              "      height: 32px;\n",
              "      padding: 0 0 0 0;\n",
              "      width: 32px;\n",
              "    }\n",
              "\n",
              "    .colab-df-convert:hover {\n",
              "      background-color: #E2EBFA;\n",
              "      box-shadow: 0px 1px 2px rgba(60, 64, 67, 0.3), 0px 1px 3px 1px rgba(60, 64, 67, 0.15);\n",
              "      fill: #174EA6;\n",
              "    }\n",
              "\n",
              "    [theme=dark] .colab-df-convert {\n",
              "      background-color: #3B4455;\n",
              "      fill: #D2E3FC;\n",
              "    }\n",
              "\n",
              "    [theme=dark] .colab-df-convert:hover {\n",
              "      background-color: #434B5C;\n",
              "      box-shadow: 0px 1px 3px 1px rgba(0, 0, 0, 0.15);\n",
              "      filter: drop-shadow(0px 1px 2px rgba(0, 0, 0, 0.3));\n",
              "      fill: #FFFFFF;\n",
              "    }\n",
              "  </style>\n",
              "\n",
              "      <script>\n",
              "        const buttonEl =\n",
              "          document.querySelector('#df-0dca3ec9-b601-4718-8b91-1e79cc901aa3 button.colab-df-convert');\n",
              "        buttonEl.style.display =\n",
              "          google.colab.kernel.accessAllowed ? 'block' : 'none';\n",
              "\n",
              "        async function convertToInteractive(key) {\n",
              "          const element = document.querySelector('#df-0dca3ec9-b601-4718-8b91-1e79cc901aa3');\n",
              "          const dataTable =\n",
              "            await google.colab.kernel.invokeFunction('convertToInteractive',\n",
              "                                                     [key], {});\n",
              "          if (!dataTable) return;\n",
              "\n",
              "          const docLinkHtml = 'Like what you see? Visit the ' +\n",
              "            '<a target=\"_blank\" href=https://colab.research.google.com/notebooks/data_table.ipynb>data table notebook</a>'\n",
              "            + ' to learn more about interactive tables.';\n",
              "          element.innerHTML = '';\n",
              "          dataTable['output_type'] = 'display_data';\n",
              "          await google.colab.output.renderOutput(dataTable, element);\n",
              "          const docLink = document.createElement('div');\n",
              "          docLink.innerHTML = docLinkHtml;\n",
              "          element.appendChild(docLink);\n",
              "        }\n",
              "      </script>\n",
              "    </div>\n",
              "  </div>\n",
              "  "
            ]
          },
          "metadata": {},
          "execution_count": 12
        }
      ]
    },
    {
      "cell_type": "markdown",
      "source": [
        "## conseguir una lista de una columna del un dataframe"
      ],
      "metadata": {
        "id": "VT-1oMIZVBBF"
      }
    },
    {
      "cell_type": "code",
      "source": [
        "url = (\n",
        "    \"https://raw.github.com/pandas-dev\"\n",
        "    \"/pandas/main/pandas/tests/io/data/csv/tips.csv\"\n",
        ")\n",
        "\n",
        "tips = pd.read_csv(url)\n",
        "\n",
        "cols = tips.columns.tolist()\n",
        "#or\n",
        "list(tips.columns.values)\n",
        "\n",
        "cols\n",
        "\n"
      ],
      "metadata": {
        "colab": {
          "base_uri": "https://localhost:8080/"
        },
        "id": "kmscFFG_Uxfw",
        "outputId": "601d9fc4-3bff-466b-ca32-73add1fbf31a"
      },
      "execution_count": null,
      "outputs": [
        {
          "output_type": "execute_result",
          "data": {
            "text/plain": [
              "['total_bill', 'tip', 'sex', 'smoker', 'day', 'time', 'size']"
            ]
          },
          "metadata": {},
          "execution_count": 13
        }
      ]
    },
    {
      "cell_type": "markdown",
      "source": [
        "![image.png](data:image/png;base64,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)"
      ],
      "metadata": {
        "id": "fGpeOecMVg4a"
      }
    },
    {
      "cell_type": "markdown",
      "source": [
        "## como cambiar de tipo de columna en un dataframe. "
      ],
      "metadata": {
        "id": "3JhIjppvVmaI"
      }
    },
    {
      "cell_type": "code",
      "source": [
        "import pandas as pd\n",
        "\n",
        "a = [['a', '1.2', '4.2'], ['b', '70', '0.03'], ['x', '5', '0']]\n",
        "df = pd.DataFrame(a, columns=['one', 'two', 'three'])\n",
        "df"
      ],
      "metadata": {
        "colab": {
          "base_uri": "https://localhost:8080/",
          "height": 143
        },
        "id": "kAb3uUTiVxVx",
        "outputId": "499c306d-fee4-493d-d29e-a1c7fb43936a"
      },
      "execution_count": 2,
      "outputs": [
        {
          "output_type": "execute_result",
          "data": {
            "text/plain": [
              "  one  two three\n",
              "0   a  1.2   4.2\n",
              "1   b   70  0.03\n",
              "2   x    5     0"
            ],
            "text/html": [
              "\n",
              "  <div id=\"df-25430213-d666-4c26-8673-08a14b0150c5\">\n",
              "    <div class=\"colab-df-container\">\n",
              "      <div>\n",
              "<style scoped>\n",
              "    .dataframe tbody tr th:only-of-type {\n",
              "        vertical-align: middle;\n",
              "    }\n",
              "\n",
              "    .dataframe tbody tr th {\n",
              "        vertical-align: top;\n",
              "    }\n",
              "\n",
              "    .dataframe thead th {\n",
              "        text-align: right;\n",
              "    }\n",
              "</style>\n",
              "<table border=\"1\" class=\"dataframe\">\n",
              "  <thead>\n",
              "    <tr style=\"text-align: right;\">\n",
              "      <th></th>\n",
              "      <th>one</th>\n",
              "      <th>two</th>\n",
              "      <th>three</th>\n",
              "    </tr>\n",
              "  </thead>\n",
              "  <tbody>\n",
              "    <tr>\n",
              "      <th>0</th>\n",
              "      <td>a</td>\n",
              "      <td>1.2</td>\n",
              "      <td>4.2</td>\n",
              "    </tr>\n",
              "    <tr>\n",
              "      <th>1</th>\n",
              "      <td>b</td>\n",
              "      <td>70</td>\n",
              "      <td>0.03</td>\n",
              "    </tr>\n",
              "    <tr>\n",
              "      <th>2</th>\n",
              "      <td>x</td>\n",
              "      <td>5</td>\n",
              "      <td>0</td>\n",
              "    </tr>\n",
              "  </tbody>\n",
              "</table>\n",
              "</div>\n",
              "      <button class=\"colab-df-convert\" onclick=\"convertToInteractive('df-25430213-d666-4c26-8673-08a14b0150c5')\"\n",
              "              title=\"Convert this dataframe to an interactive table.\"\n",
              "              style=\"display:none;\">\n",
              "        \n",
              "  <svg xmlns=\"http://www.w3.org/2000/svg\" height=\"24px\"viewBox=\"0 0 24 24\"\n",
              "       width=\"24px\">\n",
              "    <path d=\"M0 0h24v24H0V0z\" fill=\"none\"/>\n",
              "    <path d=\"M18.56 5.44l.94 2.06.94-2.06 2.06-.94-2.06-.94-.94-2.06-.94 2.06-2.06.94zm-11 1L8.5 8.5l.94-2.06 2.06-.94-2.06-.94L8.5 2.5l-.94 2.06-2.06.94zm10 10l.94 2.06.94-2.06 2.06-.94-2.06-.94-.94-2.06-.94 2.06-2.06.94z\"/><path d=\"M17.41 7.96l-1.37-1.37c-.4-.4-.92-.59-1.43-.59-.52 0-1.04.2-1.43.59L10.3 9.45l-7.72 7.72c-.78.78-.78 2.05 0 2.83L4 21.41c.39.39.9.59 1.41.59.51 0 1.02-.2 1.41-.59l7.78-7.78 2.81-2.81c.8-.78.8-2.07 0-2.86zM5.41 20L4 18.59l7.72-7.72 1.47 1.35L5.41 20z\"/>\n",
              "  </svg>\n",
              "      </button>\n",
              "      \n",
              "  <style>\n",
              "    .colab-df-container {\n",
              "      display:flex;\n",
              "      flex-wrap:wrap;\n",
              "      gap: 12px;\n",
              "    }\n",
              "\n",
              "    .colab-df-convert {\n",
              "      background-color: #E8F0FE;\n",
              "      border: none;\n",
              "      border-radius: 50%;\n",
              "      cursor: pointer;\n",
              "      display: none;\n",
              "      fill: #1967D2;\n",
              "      height: 32px;\n",
              "      padding: 0 0 0 0;\n",
              "      width: 32px;\n",
              "    }\n",
              "\n",
              "    .colab-df-convert:hover {\n",
              "      background-color: #E2EBFA;\n",
              "      box-shadow: 0px 1px 2px rgba(60, 64, 67, 0.3), 0px 1px 3px 1px rgba(60, 64, 67, 0.15);\n",
              "      fill: #174EA6;\n",
              "    }\n",
              "\n",
              "    [theme=dark] .colab-df-convert {\n",
              "      background-color: #3B4455;\n",
              "      fill: #D2E3FC;\n",
              "    }\n",
              "\n",
              "    [theme=dark] .colab-df-convert:hover {\n",
              "      background-color: #434B5C;\n",
              "      box-shadow: 0px 1px 3px 1px rgba(0, 0, 0, 0.15);\n",
              "      filter: drop-shadow(0px 1px 2px rgba(0, 0, 0, 0.3));\n",
              "      fill: #FFFFFF;\n",
              "    }\n",
              "  </style>\n",
              "\n",
              "      <script>\n",
              "        const buttonEl =\n",
              "          document.querySelector('#df-25430213-d666-4c26-8673-08a14b0150c5 button.colab-df-convert');\n",
              "        buttonEl.style.display =\n",
              "          google.colab.kernel.accessAllowed ? 'block' : 'none';\n",
              "\n",
              "        async function convertToInteractive(key) {\n",
              "          const element = document.querySelector('#df-25430213-d666-4c26-8673-08a14b0150c5');\n",
              "          const dataTable =\n",
              "            await google.colab.kernel.invokeFunction('convertToInteractive',\n",
              "                                                     [key], {});\n",
              "          if (!dataTable) return;\n",
              "\n",
              "          const docLinkHtml = 'Like what you see? Visit the ' +\n",
              "            '<a target=\"_blank\" href=https://colab.research.google.com/notebooks/data_table.ipynb>data table notebook</a>'\n",
              "            + ' to learn more about interactive tables.';\n",
              "          element.innerHTML = '';\n",
              "          dataTable['output_type'] = 'display_data';\n",
              "          await google.colab.output.renderOutput(dataTable, element);\n",
              "          const docLink = document.createElement('div');\n",
              "          docLink.innerHTML = docLinkHtml;\n",
              "          element.appendChild(docLink);\n",
              "        }\n",
              "      </script>\n",
              "    </div>\n",
              "  </div>\n",
              "  "
            ]
          },
          "metadata": {},
          "execution_count": 2
        }
      ]
    },
    {
      "cell_type": "code",
      "source": [
        "df.dtypes"
      ],
      "metadata": {
        "colab": {
          "base_uri": "https://localhost:8080/"
        },
        "id": "vTDfNI-zVyK9",
        "outputId": "620f3dae-8ff0-4735-9c0a-887ce6891436"
      },
      "execution_count": null,
      "outputs": [
        {
          "output_type": "execute_result",
          "data": {
            "text/plain": [
              "one      object\n",
              "two      object\n",
              "three    object\n",
              "dtype: object"
            ]
          },
          "metadata": {},
          "execution_count": 15
        }
      ]
    },
    {
      "cell_type": "code",
      "source": [
        "df[['two', 'three']] = df[['two', 'three']].astype(float)\n",
        "df.dtypes"
      ],
      "metadata": {
        "colab": {
          "base_uri": "https://localhost:8080/"
        },
        "id": "_9NrlcxgV3IE",
        "outputId": "f478c263-c084-43db-b45e-4874a0188aad"
      },
      "execution_count": null,
      "outputs": [
        {
          "output_type": "execute_result",
          "data": {
            "text/plain": [
              "one       object\n",
              "two      float64\n",
              "three    float64\n",
              "dtype: object"
            ]
          },
          "metadata": {},
          "execution_count": 16
        }
      ]
    },
    {
      "cell_type": "code",
      "source": [
        "df = pd.DataFrame({'a': ['1', '2', '3'], 'b': [4, 5, 6]}, dtype=object)\n",
        "df.dtypes     "
      ],
      "metadata": {
        "colab": {
          "base_uri": "https://localhost:8080/"
        },
        "id": "bnp52HDYV-Vy",
        "outputId": "21157094-69bc-4b46-b65a-f03c7a6ff8ec"
      },
      "execution_count": null,
      "outputs": [
        {
          "output_type": "execute_result",
          "data": {
            "text/plain": [
              "a    object\n",
              "b    object\n",
              "dtype: object"
            ]
          },
          "metadata": {},
          "execution_count": 17
        }
      ]
    },
    {
      "cell_type": "code",
      "source": [
        "# converts string to numeric - hard conversion\n",
        "df.apply(pd.to_numeric).dtypes "
      ],
      "metadata": {
        "colab": {
          "base_uri": "https://localhost:8080/"
        },
        "id": "Z2zXekQjWGuk",
        "outputId": "8d7867ee-b3ce-4575-b27f-a218287a6cc3"
      },
      "execution_count": null,
      "outputs": [
        {
          "output_type": "execute_result",
          "data": {
            "text/plain": [
              "a    int64\n",
              "b    int64\n",
              "dtype: object"
            ]
          },
          "metadata": {},
          "execution_count": 18
        }
      ]
    },
    {
      "cell_type": "code",
      "source": [
        "# Infers better data types for object data - soft conversion\n",
        "df.infer_objects().dtypes "
      ],
      "metadata": {
        "colab": {
          "base_uri": "https://localhost:8080/"
        },
        "id": "Qc82LHDHWOMv",
        "outputId": "871429c4-11dd-403e-aa67-a074d67b15c1"
      },
      "execution_count": null,
      "outputs": [
        {
          "output_type": "execute_result",
          "data": {
            "text/plain": [
              "a    object\n",
              "b     int64\n",
              "dtype: object"
            ]
          },
          "metadata": {},
          "execution_count": 19
        }
      ]
    },
    {
      "cell_type": "code",
      "source": [
        "# converts to equivalent ExtensionType\n",
        "df.convert_dtypes().dtypes  "
      ],
      "metadata": {
        "colab": {
          "base_uri": "https://localhost:8080/"
        },
        "id": "qrhb86hRWWhL",
        "outputId": "fc4680f6-4442-4432-b45d-19fb8f08fd90"
      },
      "execution_count": null,
      "outputs": [
        {
          "output_type": "execute_result",
          "data": {
            "text/plain": [
              "a    string\n",
              "b     Int64\n",
              "dtype: object"
            ]
          },
          "metadata": {},
          "execution_count": 20
        }
      ]
    },
    {
      "cell_type": "markdown",
      "source": [
        "## como combinar dos columnas de texto en un dataframe."
      ],
      "metadata": {
        "id": "lx1I0YKlWoYu"
      }
    },
    {
      "cell_type": "code",
      "source": [
        "#If both columns are strings, you can concatenate them directly\n",
        "df[\"period\"] = df[\"Year\"] + df[\"quarter\"]\n",
        "\n",
        "# If one (or both) of the columns are not string typed, you should convert it (them) first,\n",
        "\n",
        "df[\"period\"] = df[\"Year\"].astype(str) + df[\"quarter\"]\n",
        "\n",
        "#If you need to join multiple string columns, you can use agg\n",
        "\n",
        "df['period'] = df[['Year', 'quarter', ...]].agg('-'.join, axis=1)\n",
        "\n",
        "#The method cat() of the .str accessor works\n",
        "\n",
        "df = pd.DataFrame([[2022, 1],[2022, 2],[2022, 3],[2022, 4]],\n",
        "                 columns=('Year', 'Quarter'))\n",
        "df['Period'] = df.Year.astype(str).str.cat(df.Quarter.astype(str), sep='q')\n",
        "df\n",
        "\n",
        "Year\tQuarter\tPeriod\n",
        "0\t2022\t1\t2022q1\n",
        "1\t2022\t2\t2022q2\n",
        "2\t2022\t3\t2022q3\n",
        "3\t2022\t4\t2022q4"
      ],
      "metadata": {
        "id": "kGrB7G_4Wb9G"
      },
      "execution_count": null,
      "outputs": []
    },
    {
      "cell_type": "code",
      "source": [
        "df = pd.DataFrame([[2022, 1],[2022, 2],[2022, 3],[2022, 4]],\n",
        "                 columns=('Year', 'Quarter'))"
      ],
      "metadata": {
        "id": "EU3mmLvCkC1J"
      },
      "execution_count": 4,
      "outputs": []
    },
    {
      "cell_type": "code",
      "source": [
        "df['Period'] = df.Year.astype(str).str.cat(df.Quarter.astype(str), sep='q')\n",
        "df"
      ],
      "metadata": {
        "colab": {
          "base_uri": "https://localhost:8080/",
          "height": 174
        },
        "id": "PW9VRjglkFTM",
        "outputId": "2b6f9849-8c2f-4e7f-b374-2725595af460"
      },
      "execution_count": 5,
      "outputs": [
        {
          "output_type": "execute_result",
          "data": {
            "text/plain": [
              "   Year  Quarter  Period\n",
              "0  2022        1  2022q1\n",
              "1  2022        2  2022q2\n",
              "2  2022        3  2022q3\n",
              "3  2022        4  2022q4"
            ],
            "text/html": [
              "\n",
              "  <div id=\"df-bb316d19-ea5e-468d-8aad-d729c6bb0f15\">\n",
              "    <div class=\"colab-df-container\">\n",
              "      <div>\n",
              "<style scoped>\n",
              "    .dataframe tbody tr th:only-of-type {\n",
              "        vertical-align: middle;\n",
              "    }\n",
              "\n",
              "    .dataframe tbody tr th {\n",
              "        vertical-align: top;\n",
              "    }\n",
              "\n",
              "    .dataframe thead th {\n",
              "        text-align: right;\n",
              "    }\n",
              "</style>\n",
              "<table border=\"1\" class=\"dataframe\">\n",
              "  <thead>\n",
              "    <tr style=\"text-align: right;\">\n",
              "      <th></th>\n",
              "      <th>Year</th>\n",
              "      <th>Quarter</th>\n",
              "      <th>Period</th>\n",
              "    </tr>\n",
              "  </thead>\n",
              "  <tbody>\n",
              "    <tr>\n",
              "      <th>0</th>\n",
              "      <td>2022</td>\n",
              "      <td>1</td>\n",
              "      <td>2022q1</td>\n",
              "    </tr>\n",
              "    <tr>\n",
              "      <th>1</th>\n",
              "      <td>2022</td>\n",
              "      <td>2</td>\n",
              "      <td>2022q2</td>\n",
              "    </tr>\n",
              "    <tr>\n",
              "      <th>2</th>\n",
              "      <td>2022</td>\n",
              "      <td>3</td>\n",
              "      <td>2022q3</td>\n",
              "    </tr>\n",
              "    <tr>\n",
              "      <th>3</th>\n",
              "      <td>2022</td>\n",
              "      <td>4</td>\n",
              "      <td>2022q4</td>\n",
              "    </tr>\n",
              "  </tbody>\n",
              "</table>\n",
              "</div>\n",
              "      <button class=\"colab-df-convert\" onclick=\"convertToInteractive('df-bb316d19-ea5e-468d-8aad-d729c6bb0f15')\"\n",
              "              title=\"Convert this dataframe to an interactive table.\"\n",
              "              style=\"display:none;\">\n",
              "        \n",
              "  <svg xmlns=\"http://www.w3.org/2000/svg\" height=\"24px\"viewBox=\"0 0 24 24\"\n",
              "       width=\"24px\">\n",
              "    <path d=\"M0 0h24v24H0V0z\" fill=\"none\"/>\n",
              "    <path d=\"M18.56 5.44l.94 2.06.94-2.06 2.06-.94-2.06-.94-.94-2.06-.94 2.06-2.06.94zm-11 1L8.5 8.5l.94-2.06 2.06-.94-2.06-.94L8.5 2.5l-.94 2.06-2.06.94zm10 10l.94 2.06.94-2.06 2.06-.94-2.06-.94-.94-2.06-.94 2.06-2.06.94z\"/><path d=\"M17.41 7.96l-1.37-1.37c-.4-.4-.92-.59-1.43-.59-.52 0-1.04.2-1.43.59L10.3 9.45l-7.72 7.72c-.78.78-.78 2.05 0 2.83L4 21.41c.39.39.9.59 1.41.59.51 0 1.02-.2 1.41-.59l7.78-7.78 2.81-2.81c.8-.78.8-2.07 0-2.86zM5.41 20L4 18.59l7.72-7.72 1.47 1.35L5.41 20z\"/>\n",
              "  </svg>\n",
              "      </button>\n",
              "      \n",
              "  <style>\n",
              "    .colab-df-container {\n",
              "      display:flex;\n",
              "      flex-wrap:wrap;\n",
              "      gap: 12px;\n",
              "    }\n",
              "\n",
              "    .colab-df-convert {\n",
              "      background-color: #E8F0FE;\n",
              "      border: none;\n",
              "      border-radius: 50%;\n",
              "      cursor: pointer;\n",
              "      display: none;\n",
              "      fill: #1967D2;\n",
              "      height: 32px;\n",
              "      padding: 0 0 0 0;\n",
              "      width: 32px;\n",
              "    }\n",
              "\n",
              "    .colab-df-convert:hover {\n",
              "      background-color: #E2EBFA;\n",
              "      box-shadow: 0px 1px 2px rgba(60, 64, 67, 0.3), 0px 1px 3px 1px rgba(60, 64, 67, 0.15);\n",
              "      fill: #174EA6;\n",
              "    }\n",
              "\n",
              "    [theme=dark] .colab-df-convert {\n",
              "      background-color: #3B4455;\n",
              "      fill: #D2E3FC;\n",
              "    }\n",
              "\n",
              "    [theme=dark] .colab-df-convert:hover {\n",
              "      background-color: #434B5C;\n",
              "      box-shadow: 0px 1px 3px 1px rgba(0, 0, 0, 0.15);\n",
              "      filter: drop-shadow(0px 1px 2px rgba(0, 0, 0, 0.3));\n",
              "      fill: #FFFFFF;\n",
              "    }\n",
              "  </style>\n",
              "\n",
              "      <script>\n",
              "        const buttonEl =\n",
              "          document.querySelector('#df-bb316d19-ea5e-468d-8aad-d729c6bb0f15 button.colab-df-convert');\n",
              "        buttonEl.style.display =\n",
              "          google.colab.kernel.accessAllowed ? 'block' : 'none';\n",
              "\n",
              "        async function convertToInteractive(key) {\n",
              "          const element = document.querySelector('#df-bb316d19-ea5e-468d-8aad-d729c6bb0f15');\n",
              "          const dataTable =\n",
              "            await google.colab.kernel.invokeFunction('convertToInteractive',\n",
              "                                                     [key], {});\n",
              "          if (!dataTable) return;\n",
              "\n",
              "          const docLinkHtml = 'Like what you see? Visit the ' +\n",
              "            '<a target=\"_blank\" href=https://colab.research.google.com/notebooks/data_table.ipynb>data table notebook</a>'\n",
              "            + ' to learn more about interactive tables.';\n",
              "          element.innerHTML = '';\n",
              "          dataTable['output_type'] = 'display_data';\n",
              "          await google.colab.output.renderOutput(dataTable, element);\n",
              "          const docLink = document.createElement('div');\n",
              "          docLink.innerHTML = docLinkHtml;\n",
              "          element.appendChild(docLink);\n",
              "        }\n",
              "      </script>\n",
              "    </div>\n",
              "  </div>\n",
              "  "
            ]
          },
          "metadata": {},
          "execution_count": 5
        }
      ]
    },
    {
      "cell_type": "markdown",
      "source": [
        "## como copiar el index a una columna del dataframe"
      ],
      "metadata": {
        "id": "2AukLbGekeJx"
      }
    },
    {
      "cell_type": "code",
      "source": [
        "url = (\n",
        "    \"https://raw.github.com/pandas-dev\"\n",
        "    \"/pandas/main/pandas/tests/io/data/csv/tips.csv\"\n",
        ")"
      ],
      "metadata": {
        "id": "LtpYSTamlppX"
      },
      "execution_count": 6,
      "outputs": []
    },
    {
      "cell_type": "code",
      "source": [
        "tips = pd.read_csv(url)\n",
        "tips.head(5)"
      ],
      "metadata": {
        "colab": {
          "base_uri": "https://localhost:8080/",
          "height": 206
        },
        "id": "D7wz7nAjlqQs",
        "outputId": "6a637333-2ea8-4131-db68-374215fc628a"
      },
      "execution_count": 9,
      "outputs": [
        {
          "output_type": "execute_result",
          "data": {
            "text/plain": [
              "   total_bill   tip     sex smoker  day    time  size\n",
              "0       16.99  1.01  Female     No  Sun  Dinner     2\n",
              "1       10.34  1.66    Male     No  Sun  Dinner     3\n",
              "2       21.01  3.50    Male     No  Sun  Dinner     3\n",
              "3       23.68  3.31    Male     No  Sun  Dinner     2\n",
              "4       24.59  3.61  Female     No  Sun  Dinner     4"
            ],
            "text/html": [
              "\n",
              "  <div id=\"df-20549dc8-c865-4ad4-a612-ebbb29917eea\">\n",
              "    <div class=\"colab-df-container\">\n",
              "      <div>\n",
              "<style scoped>\n",
              "    .dataframe tbody tr th:only-of-type {\n",
              "        vertical-align: middle;\n",
              "    }\n",
              "\n",
              "    .dataframe tbody tr th {\n",
              "        vertical-align: top;\n",
              "    }\n",
              "\n",
              "    .dataframe thead th {\n",
              "        text-align: right;\n",
              "    }\n",
              "</style>\n",
              "<table border=\"1\" class=\"dataframe\">\n",
              "  <thead>\n",
              "    <tr style=\"text-align: right;\">\n",
              "      <th></th>\n",
              "      <th>total_bill</th>\n",
              "      <th>tip</th>\n",
              "      <th>sex</th>\n",
              "      <th>smoker</th>\n",
              "      <th>day</th>\n",
              "      <th>time</th>\n",
              "      <th>size</th>\n",
              "    </tr>\n",
              "  </thead>\n",
              "  <tbody>\n",
              "    <tr>\n",
              "      <th>0</th>\n",
              "      <td>16.99</td>\n",
              "      <td>1.01</td>\n",
              "      <td>Female</td>\n",
              "      <td>No</td>\n",
              "      <td>Sun</td>\n",
              "      <td>Dinner</td>\n",
              "      <td>2</td>\n",
              "    </tr>\n",
              "    <tr>\n",
              "      <th>1</th>\n",
              "      <td>10.34</td>\n",
              "      <td>1.66</td>\n",
              "      <td>Male</td>\n",
              "      <td>No</td>\n",
              "      <td>Sun</td>\n",
              "      <td>Dinner</td>\n",
              "      <td>3</td>\n",
              "    </tr>\n",
              "    <tr>\n",
              "      <th>2</th>\n",
              "      <td>21.01</td>\n",
              "      <td>3.50</td>\n",
              "      <td>Male</td>\n",
              "      <td>No</td>\n",
              "      <td>Sun</td>\n",
              "      <td>Dinner</td>\n",
              "      <td>3</td>\n",
              "    </tr>\n",
              "    <tr>\n",
              "      <th>3</th>\n",
              "      <td>23.68</td>\n",
              "      <td>3.31</td>\n",
              "      <td>Male</td>\n",
              "      <td>No</td>\n",
              "      <td>Sun</td>\n",
              "      <td>Dinner</td>\n",
              "      <td>2</td>\n",
              "    </tr>\n",
              "    <tr>\n",
              "      <th>4</th>\n",
              "      <td>24.59</td>\n",
              "      <td>3.61</td>\n",
              "      <td>Female</td>\n",
              "      <td>No</td>\n",
              "      <td>Sun</td>\n",
              "      <td>Dinner</td>\n",
              "      <td>4</td>\n",
              "    </tr>\n",
              "  </tbody>\n",
              "</table>\n",
              "</div>\n",
              "      <button class=\"colab-df-convert\" onclick=\"convertToInteractive('df-20549dc8-c865-4ad4-a612-ebbb29917eea')\"\n",
              "              title=\"Convert this dataframe to an interactive table.\"\n",
              "              style=\"display:none;\">\n",
              "        \n",
              "  <svg xmlns=\"http://www.w3.org/2000/svg\" height=\"24px\"viewBox=\"0 0 24 24\"\n",
              "       width=\"24px\">\n",
              "    <path d=\"M0 0h24v24H0V0z\" fill=\"none\"/>\n",
              "    <path d=\"M18.56 5.44l.94 2.06.94-2.06 2.06-.94-2.06-.94-.94-2.06-.94 2.06-2.06.94zm-11 1L8.5 8.5l.94-2.06 2.06-.94-2.06-.94L8.5 2.5l-.94 2.06-2.06.94zm10 10l.94 2.06.94-2.06 2.06-.94-2.06-.94-.94-2.06-.94 2.06-2.06.94z\"/><path d=\"M17.41 7.96l-1.37-1.37c-.4-.4-.92-.59-1.43-.59-.52 0-1.04.2-1.43.59L10.3 9.45l-7.72 7.72c-.78.78-.78 2.05 0 2.83L4 21.41c.39.39.9.59 1.41.59.51 0 1.02-.2 1.41-.59l7.78-7.78 2.81-2.81c.8-.78.8-2.07 0-2.86zM5.41 20L4 18.59l7.72-7.72 1.47 1.35L5.41 20z\"/>\n",
              "  </svg>\n",
              "      </button>\n",
              "      \n",
              "  <style>\n",
              "    .colab-df-container {\n",
              "      display:flex;\n",
              "      flex-wrap:wrap;\n",
              "      gap: 12px;\n",
              "    }\n",
              "\n",
              "    .colab-df-convert {\n",
              "      background-color: #E8F0FE;\n",
              "      border: none;\n",
              "      border-radius: 50%;\n",
              "      cursor: pointer;\n",
              "      display: none;\n",
              "      fill: #1967D2;\n",
              "      height: 32px;\n",
              "      padding: 0 0 0 0;\n",
              "      width: 32px;\n",
              "    }\n",
              "\n",
              "    .colab-df-convert:hover {\n",
              "      background-color: #E2EBFA;\n",
              "      box-shadow: 0px 1px 2px rgba(60, 64, 67, 0.3), 0px 1px 3px 1px rgba(60, 64, 67, 0.15);\n",
              "      fill: #174EA6;\n",
              "    }\n",
              "\n",
              "    [theme=dark] .colab-df-convert {\n",
              "      background-color: #3B4455;\n",
              "      fill: #D2E3FC;\n",
              "    }\n",
              "\n",
              "    [theme=dark] .colab-df-convert:hover {\n",
              "      background-color: #434B5C;\n",
              "      box-shadow: 0px 1px 3px 1px rgba(0, 0, 0, 0.15);\n",
              "      filter: drop-shadow(0px 1px 2px rgba(0, 0, 0, 0.3));\n",
              "      fill: #FFFFFF;\n",
              "    }\n",
              "  </style>\n",
              "\n",
              "      <script>\n",
              "        const buttonEl =\n",
              "          document.querySelector('#df-20549dc8-c865-4ad4-a612-ebbb29917eea button.colab-df-convert');\n",
              "        buttonEl.style.display =\n",
              "          google.colab.kernel.accessAllowed ? 'block' : 'none';\n",
              "\n",
              "        async function convertToInteractive(key) {\n",
              "          const element = document.querySelector('#df-20549dc8-c865-4ad4-a612-ebbb29917eea');\n",
              "          const dataTable =\n",
              "            await google.colab.kernel.invokeFunction('convertToInteractive',\n",
              "                                                     [key], {});\n",
              "          if (!dataTable) return;\n",
              "\n",
              "          const docLinkHtml = 'Like what you see? Visit the ' +\n",
              "            '<a target=\"_blank\" href=https://colab.research.google.com/notebooks/data_table.ipynb>data table notebook</a>'\n",
              "            + ' to learn more about interactive tables.';\n",
              "          element.innerHTML = '';\n",
              "          dataTable['output_type'] = 'display_data';\n",
              "          await google.colab.output.renderOutput(dataTable, element);\n",
              "          const docLink = document.createElement('div');\n",
              "          docLink.innerHTML = docLinkHtml;\n",
              "          element.appendChild(docLink);\n",
              "        }\n",
              "      </script>\n",
              "    </div>\n",
              "  </div>\n",
              "  "
            ]
          },
          "metadata": {},
          "execution_count": 9
        }
      ]
    },
    {
      "cell_type": "code",
      "source": [
        "tips = tips.rename_axis('index_col').reset_index()\n",
        "tips.head(5)"
      ],
      "metadata": {
        "colab": {
          "base_uri": "https://localhost:8080/",
          "height": 206
        },
        "id": "Kh1yDajDlubs",
        "outputId": "08881db7-33d5-4535-b45f-22eaf51502cd"
      },
      "execution_count": 10,
      "outputs": [
        {
          "output_type": "execute_result",
          "data": {
            "text/plain": [
              "   index_col  total_bill   tip     sex smoker  day    time  size\n",
              "0          0       16.99  1.01  Female     No  Sun  Dinner     2\n",
              "1          1       10.34  1.66    Male     No  Sun  Dinner     3\n",
              "2          2       21.01  3.50    Male     No  Sun  Dinner     3\n",
              "3          3       23.68  3.31    Male     No  Sun  Dinner     2\n",
              "4          4       24.59  3.61  Female     No  Sun  Dinner     4"
            ],
            "text/html": [
              "\n",
              "  <div id=\"df-0f4faf0a-2bc4-4b5c-95fb-64a0cfb08f3f\">\n",
              "    <div class=\"colab-df-container\">\n",
              "      <div>\n",
              "<style scoped>\n",
              "    .dataframe tbody tr th:only-of-type {\n",
              "        vertical-align: middle;\n",
              "    }\n",
              "\n",
              "    .dataframe tbody tr th {\n",
              "        vertical-align: top;\n",
              "    }\n",
              "\n",
              "    .dataframe thead th {\n",
              "        text-align: right;\n",
              "    }\n",
              "</style>\n",
              "<table border=\"1\" class=\"dataframe\">\n",
              "  <thead>\n",
              "    <tr style=\"text-align: right;\">\n",
              "      <th></th>\n",
              "      <th>index_col</th>\n",
              "      <th>total_bill</th>\n",
              "      <th>tip</th>\n",
              "      <th>sex</th>\n",
              "      <th>smoker</th>\n",
              "      <th>day</th>\n",
              "      <th>time</th>\n",
              "      <th>size</th>\n",
              "    </tr>\n",
              "  </thead>\n",
              "  <tbody>\n",
              "    <tr>\n",
              "      <th>0</th>\n",
              "      <td>0</td>\n",
              "      <td>16.99</td>\n",
              "      <td>1.01</td>\n",
              "      <td>Female</td>\n",
              "      <td>No</td>\n",
              "      <td>Sun</td>\n",
              "      <td>Dinner</td>\n",
              "      <td>2</td>\n",
              "    </tr>\n",
              "    <tr>\n",
              "      <th>1</th>\n",
              "      <td>1</td>\n",
              "      <td>10.34</td>\n",
              "      <td>1.66</td>\n",
              "      <td>Male</td>\n",
              "      <td>No</td>\n",
              "      <td>Sun</td>\n",
              "      <td>Dinner</td>\n",
              "      <td>3</td>\n",
              "    </tr>\n",
              "    <tr>\n",
              "      <th>2</th>\n",
              "      <td>2</td>\n",
              "      <td>21.01</td>\n",
              "      <td>3.50</td>\n",
              "      <td>Male</td>\n",
              "      <td>No</td>\n",
              "      <td>Sun</td>\n",
              "      <td>Dinner</td>\n",
              "      <td>3</td>\n",
              "    </tr>\n",
              "    <tr>\n",
              "      <th>3</th>\n",
              "      <td>3</td>\n",
              "      <td>23.68</td>\n",
              "      <td>3.31</td>\n",
              "      <td>Male</td>\n",
              "      <td>No</td>\n",
              "      <td>Sun</td>\n",
              "      <td>Dinner</td>\n",
              "      <td>2</td>\n",
              "    </tr>\n",
              "    <tr>\n",
              "      <th>4</th>\n",
              "      <td>4</td>\n",
              "      <td>24.59</td>\n",
              "      <td>3.61</td>\n",
              "      <td>Female</td>\n",
              "      <td>No</td>\n",
              "      <td>Sun</td>\n",
              "      <td>Dinner</td>\n",
              "      <td>4</td>\n",
              "    </tr>\n",
              "  </tbody>\n",
              "</table>\n",
              "</div>\n",
              "      <button class=\"colab-df-convert\" onclick=\"convertToInteractive('df-0f4faf0a-2bc4-4b5c-95fb-64a0cfb08f3f')\"\n",
              "              title=\"Convert this dataframe to an interactive table.\"\n",
              "              style=\"display:none;\">\n",
              "        \n",
              "  <svg xmlns=\"http://www.w3.org/2000/svg\" height=\"24px\"viewBox=\"0 0 24 24\"\n",
              "       width=\"24px\">\n",
              "    <path d=\"M0 0h24v24H0V0z\" fill=\"none\"/>\n",
              "    <path d=\"M18.56 5.44l.94 2.06.94-2.06 2.06-.94-2.06-.94-.94-2.06-.94 2.06-2.06.94zm-11 1L8.5 8.5l.94-2.06 2.06-.94-2.06-.94L8.5 2.5l-.94 2.06-2.06.94zm10 10l.94 2.06.94-2.06 2.06-.94-2.06-.94-.94-2.06-.94 2.06-2.06.94z\"/><path d=\"M17.41 7.96l-1.37-1.37c-.4-.4-.92-.59-1.43-.59-.52 0-1.04.2-1.43.59L10.3 9.45l-7.72 7.72c-.78.78-.78 2.05 0 2.83L4 21.41c.39.39.9.59 1.41.59.51 0 1.02-.2 1.41-.59l7.78-7.78 2.81-2.81c.8-.78.8-2.07 0-2.86zM5.41 20L4 18.59l7.72-7.72 1.47 1.35L5.41 20z\"/>\n",
              "  </svg>\n",
              "      </button>\n",
              "      \n",
              "  <style>\n",
              "    .colab-df-container {\n",
              "      display:flex;\n",
              "      flex-wrap:wrap;\n",
              "      gap: 12px;\n",
              "    }\n",
              "\n",
              "    .colab-df-convert {\n",
              "      background-color: #E8F0FE;\n",
              "      border: none;\n",
              "      border-radius: 50%;\n",
              "      cursor: pointer;\n",
              "      display: none;\n",
              "      fill: #1967D2;\n",
              "      height: 32px;\n",
              "      padding: 0 0 0 0;\n",
              "      width: 32px;\n",
              "    }\n",
              "\n",
              "    .colab-df-convert:hover {\n",
              "      background-color: #E2EBFA;\n",
              "      box-shadow: 0px 1px 2px rgba(60, 64, 67, 0.3), 0px 1px 3px 1px rgba(60, 64, 67, 0.15);\n",
              "      fill: #174EA6;\n",
              "    }\n",
              "\n",
              "    [theme=dark] .colab-df-convert {\n",
              "      background-color: #3B4455;\n",
              "      fill: #D2E3FC;\n",
              "    }\n",
              "\n",
              "    [theme=dark] .colab-df-convert:hover {\n",
              "      background-color: #434B5C;\n",
              "      box-shadow: 0px 1px 3px 1px rgba(0, 0, 0, 0.15);\n",
              "      filter: drop-shadow(0px 1px 2px rgba(0, 0, 0, 0.3));\n",
              "      fill: #FFFFFF;\n",
              "    }\n",
              "  </style>\n",
              "\n",
              "      <script>\n",
              "        const buttonEl =\n",
              "          document.querySelector('#df-0f4faf0a-2bc4-4b5c-95fb-64a0cfb08f3f button.colab-df-convert');\n",
              "        buttonEl.style.display =\n",
              "          google.colab.kernel.accessAllowed ? 'block' : 'none';\n",
              "\n",
              "        async function convertToInteractive(key) {\n",
              "          const element = document.querySelector('#df-0f4faf0a-2bc4-4b5c-95fb-64a0cfb08f3f');\n",
              "          const dataTable =\n",
              "            await google.colab.kernel.invokeFunction('convertToInteractive',\n",
              "                                                     [key], {});\n",
              "          if (!dataTable) return;\n",
              "\n",
              "          const docLinkHtml = 'Like what you see? Visit the ' +\n",
              "            '<a target=\"_blank\" href=https://colab.research.google.com/notebooks/data_table.ipynb>data table notebook</a>'\n",
              "            + ' to learn more about interactive tables.';\n",
              "          element.innerHTML = '';\n",
              "          dataTable['output_type'] = 'display_data';\n",
              "          await google.colab.output.renderOutput(dataTable, element);\n",
              "          const docLink = document.createElement('div');\n",
              "          docLink.innerHTML = docLinkHtml;\n",
              "          element.appendChild(docLink);\n",
              "        }\n",
              "      </script>\n",
              "    </div>\n",
              "  </div>\n",
              "  "
            ]
          },
          "metadata": {},
          "execution_count": 10
        }
      ]
    },
    {
      "cell_type": "markdown",
      "source": [
        "## como barajar el dataframe"
      ],
      "metadata": {
        "id": "_yWgy7gxm8f2"
      }
    },
    {
      "cell_type": "code",
      "source": [
        "url = (\"https://raw.githubusercontent.com/massquantity/Kaggle-Titanic/master/Data/train.csv\")"
      ],
      "metadata": {
        "id": "M59S1lnHnFNy"
      },
      "execution_count": 11,
      "outputs": []
    },
    {
      "cell_type": "code",
      "source": [
        "import pandas as pd\n",
        "titanic = pd.read_csv(url)\n",
        "titanic.head(5)"
      ],
      "metadata": {
        "id": "V9XY5PBanH4-",
        "outputId": "de2709eb-4a6d-4247-c9c2-58828ec7005c",
        "colab": {
          "base_uri": "https://localhost:8080/",
          "height": 206
        }
      },
      "execution_count": 12,
      "outputs": [
        {
          "output_type": "execute_result",
          "data": {
            "text/plain": [
              "   PassengerId  Survived  Pclass  \\\n",
              "0            1         0       3   \n",
              "1            2         1       1   \n",
              "2            3         1       3   \n",
              "3            4         1       1   \n",
              "4            5         0       3   \n",
              "\n",
              "                                                Name     Sex   Age  SibSp  \\\n",
              "0                            Braund, Mr. Owen Harris    male  22.0      1   \n",
              "1  Cumings, Mrs. John Bradley (Florence Briggs Th...  female  38.0      1   \n",
              "2                             Heikkinen, Miss. Laina  female  26.0      0   \n",
              "3       Futrelle, Mrs. Jacques Heath (Lily May Peel)  female  35.0      1   \n",
              "4                           Allen, Mr. William Henry    male  35.0      0   \n",
              "\n",
              "   Parch            Ticket     Fare Cabin Embarked  \n",
              "0      0         A/5 21171   7.2500   NaN        S  \n",
              "1      0          PC 17599  71.2833   C85        C  \n",
              "2      0  STON/O2. 3101282   7.9250   NaN        S  \n",
              "3      0            113803  53.1000  C123        S  \n",
              "4      0            373450   8.0500   NaN        S  "
            ],
            "text/html": [
              "\n",
              "  <div id=\"df-0ed6a7e2-42c1-45dc-ad8d-f7d69a4af1b3\">\n",
              "    <div class=\"colab-df-container\">\n",
              "      <div>\n",
              "<style scoped>\n",
              "    .dataframe tbody tr th:only-of-type {\n",
              "        vertical-align: middle;\n",
              "    }\n",
              "\n",
              "    .dataframe tbody tr th {\n",
              "        vertical-align: top;\n",
              "    }\n",
              "\n",
              "    .dataframe thead th {\n",
              "        text-align: right;\n",
              "    }\n",
              "</style>\n",
              "<table border=\"1\" class=\"dataframe\">\n",
              "  <thead>\n",
              "    <tr style=\"text-align: right;\">\n",
              "      <th></th>\n",
              "      <th>PassengerId</th>\n",
              "      <th>Survived</th>\n",
              "      <th>Pclass</th>\n",
              "      <th>Name</th>\n",
              "      <th>Sex</th>\n",
              "      <th>Age</th>\n",
              "      <th>SibSp</th>\n",
              "      <th>Parch</th>\n",
              "      <th>Ticket</th>\n",
              "      <th>Fare</th>\n",
              "      <th>Cabin</th>\n",
              "      <th>Embarked</th>\n",
              "    </tr>\n",
              "  </thead>\n",
              "  <tbody>\n",
              "    <tr>\n",
              "      <th>0</th>\n",
              "      <td>1</td>\n",
              "      <td>0</td>\n",
              "      <td>3</td>\n",
              "      <td>Braund, Mr. Owen Harris</td>\n",
              "      <td>male</td>\n",
              "      <td>22.0</td>\n",
              "      <td>1</td>\n",
              "      <td>0</td>\n",
              "      <td>A/5 21171</td>\n",
              "      <td>7.2500</td>\n",
              "      <td>NaN</td>\n",
              "      <td>S</td>\n",
              "    </tr>\n",
              "    <tr>\n",
              "      <th>1</th>\n",
              "      <td>2</td>\n",
              "      <td>1</td>\n",
              "      <td>1</td>\n",
              "      <td>Cumings, Mrs. John Bradley (Florence Briggs Th...</td>\n",
              "      <td>female</td>\n",
              "      <td>38.0</td>\n",
              "      <td>1</td>\n",
              "      <td>0</td>\n",
              "      <td>PC 17599</td>\n",
              "      <td>71.2833</td>\n",
              "      <td>C85</td>\n",
              "      <td>C</td>\n",
              "    </tr>\n",
              "    <tr>\n",
              "      <th>2</th>\n",
              "      <td>3</td>\n",
              "      <td>1</td>\n",
              "      <td>3</td>\n",
              "      <td>Heikkinen, Miss. Laina</td>\n",
              "      <td>female</td>\n",
              "      <td>26.0</td>\n",
              "      <td>0</td>\n",
              "      <td>0</td>\n",
              "      <td>STON/O2. 3101282</td>\n",
              "      <td>7.9250</td>\n",
              "      <td>NaN</td>\n",
              "      <td>S</td>\n",
              "    </tr>\n",
              "    <tr>\n",
              "      <th>3</th>\n",
              "      <td>4</td>\n",
              "      <td>1</td>\n",
              "      <td>1</td>\n",
              "      <td>Futrelle, Mrs. Jacques Heath (Lily May Peel)</td>\n",
              "      <td>female</td>\n",
              "      <td>35.0</td>\n",
              "      <td>1</td>\n",
              "      <td>0</td>\n",
              "      <td>113803</td>\n",
              "      <td>53.1000</td>\n",
              "      <td>C123</td>\n",
              "      <td>S</td>\n",
              "    </tr>\n",
              "    <tr>\n",
              "      <th>4</th>\n",
              "      <td>5</td>\n",
              "      <td>0</td>\n",
              "      <td>3</td>\n",
              "      <td>Allen, Mr. William Henry</td>\n",
              "      <td>male</td>\n",
              "      <td>35.0</td>\n",
              "      <td>0</td>\n",
              "      <td>0</td>\n",
              "      <td>373450</td>\n",
              "      <td>8.0500</td>\n",
              "      <td>NaN</td>\n",
              "      <td>S</td>\n",
              "    </tr>\n",
              "  </tbody>\n",
              "</table>\n",
              "</div>\n",
              "      <button class=\"colab-df-convert\" onclick=\"convertToInteractive('df-0ed6a7e2-42c1-45dc-ad8d-f7d69a4af1b3')\"\n",
              "              title=\"Convert this dataframe to an interactive table.\"\n",
              "              style=\"display:none;\">\n",
              "        \n",
              "  <svg xmlns=\"http://www.w3.org/2000/svg\" height=\"24px\"viewBox=\"0 0 24 24\"\n",
              "       width=\"24px\">\n",
              "    <path d=\"M0 0h24v24H0V0z\" fill=\"none\"/>\n",
              "    <path d=\"M18.56 5.44l.94 2.06.94-2.06 2.06-.94-2.06-.94-.94-2.06-.94 2.06-2.06.94zm-11 1L8.5 8.5l.94-2.06 2.06-.94-2.06-.94L8.5 2.5l-.94 2.06-2.06.94zm10 10l.94 2.06.94-2.06 2.06-.94-2.06-.94-.94-2.06-.94 2.06-2.06.94z\"/><path d=\"M17.41 7.96l-1.37-1.37c-.4-.4-.92-.59-1.43-.59-.52 0-1.04.2-1.43.59L10.3 9.45l-7.72 7.72c-.78.78-.78 2.05 0 2.83L4 21.41c.39.39.9.59 1.41.59.51 0 1.02-.2 1.41-.59l7.78-7.78 2.81-2.81c.8-.78.8-2.07 0-2.86zM5.41 20L4 18.59l7.72-7.72 1.47 1.35L5.41 20z\"/>\n",
              "  </svg>\n",
              "      </button>\n",
              "      \n",
              "  <style>\n",
              "    .colab-df-container {\n",
              "      display:flex;\n",
              "      flex-wrap:wrap;\n",
              "      gap: 12px;\n",
              "    }\n",
              "\n",
              "    .colab-df-convert {\n",
              "      background-color: #E8F0FE;\n",
              "      border: none;\n",
              "      border-radius: 50%;\n",
              "      cursor: pointer;\n",
              "      display: none;\n",
              "      fill: #1967D2;\n",
              "      height: 32px;\n",
              "      padding: 0 0 0 0;\n",
              "      width: 32px;\n",
              "    }\n",
              "\n",
              "    .colab-df-convert:hover {\n",
              "      background-color: #E2EBFA;\n",
              "      box-shadow: 0px 1px 2px rgba(60, 64, 67, 0.3), 0px 1px 3px 1px rgba(60, 64, 67, 0.15);\n",
              "      fill: #174EA6;\n",
              "    }\n",
              "\n",
              "    [theme=dark] .colab-df-convert {\n",
              "      background-color: #3B4455;\n",
              "      fill: #D2E3FC;\n",
              "    }\n",
              "\n",
              "    [theme=dark] .colab-df-convert:hover {\n",
              "      background-color: #434B5C;\n",
              "      box-shadow: 0px 1px 3px 1px rgba(0, 0, 0, 0.15);\n",
              "      filter: drop-shadow(0px 1px 2px rgba(0, 0, 0, 0.3));\n",
              "      fill: #FFFFFF;\n",
              "    }\n",
              "  </style>\n",
              "\n",
              "      <script>\n",
              "        const buttonEl =\n",
              "          document.querySelector('#df-0ed6a7e2-42c1-45dc-ad8d-f7d69a4af1b3 button.colab-df-convert');\n",
              "        buttonEl.style.display =\n",
              "          google.colab.kernel.accessAllowed ? 'block' : 'none';\n",
              "\n",
              "        async function convertToInteractive(key) {\n",
              "          const element = document.querySelector('#df-0ed6a7e2-42c1-45dc-ad8d-f7d69a4af1b3');\n",
              "          const dataTable =\n",
              "            await google.colab.kernel.invokeFunction('convertToInteractive',\n",
              "                                                     [key], {});\n",
              "          if (!dataTable) return;\n",
              "\n",
              "          const docLinkHtml = 'Like what you see? Visit the ' +\n",
              "            '<a target=\"_blank\" href=https://colab.research.google.com/notebooks/data_table.ipynb>data table notebook</a>'\n",
              "            + ' to learn more about interactive tables.';\n",
              "          element.innerHTML = '';\n",
              "          dataTable['output_type'] = 'display_data';\n",
              "          await google.colab.output.renderOutput(dataTable, element);\n",
              "          const docLink = document.createElement('div');\n",
              "          docLink.innerHTML = docLinkHtml;\n",
              "          element.appendChild(docLink);\n",
              "        }\n",
              "      </script>\n",
              "    </div>\n",
              "  </div>\n",
              "  "
            ]
          },
          "metadata": {},
          "execution_count": 12
        }
      ]
    },
    {
      "cell_type": "code",
      "source": [
        "titanic.sample(frac=1)"
      ],
      "metadata": {
        "id": "pb4x0xYTnLED",
        "outputId": "45675199-6f99-4c2b-e6a3-ae9abf1fff68",
        "colab": {
          "base_uri": "https://localhost:8080/",
          "height": 423
        }
      },
      "execution_count": 13,
      "outputs": [
        {
          "output_type": "execute_result",
          "data": {
            "text/plain": [
              "     PassengerId  Survived  Pclass                            Name     Sex  \\\n",
              "851          852         0       3             Svensson, Mr. Johan    male   \n",
              "629          630         0       3        O'Connell, Mr. Patrick D    male   \n",
              "603          604         0       3       Torber, Mr. Ernst William    male   \n",
              "152          153         0       3                Meo, Mr. Alfonzo    male   \n",
              "35            36         0       1  Holverson, Mr. Alexander Oskar    male   \n",
              "..           ...       ...     ...                             ...     ...   \n",
              "263          264         0       1           Harrison, Mr. William    male   \n",
              "825          826         0       3                 Flynn, Mr. John    male   \n",
              "583          584         0       1             Ross, Mr. John Hugo    male   \n",
              "400          401         1       3              Niskanen, Mr. Juha    male   \n",
              "730          731         1       1   Allen, Miss. Elisabeth Walton  female   \n",
              "\n",
              "      Age  SibSp  Parch             Ticket      Fare Cabin Embarked  \n",
              "851  74.0      0      0             347060    7.7750   NaN        S  \n",
              "629   NaN      0      0             334912    7.7333   NaN        Q  \n",
              "603  44.0      0      0             364511    8.0500   NaN        S  \n",
              "152  55.5      0      0         A.5. 11206    8.0500   NaN        S  \n",
              "35   42.0      1      0             113789   52.0000   NaN        S  \n",
              "..    ...    ...    ...                ...       ...   ...      ...  \n",
              "263  40.0      0      0             112059    0.0000   B94        S  \n",
              "825   NaN      0      0             368323    6.9500   NaN        Q  \n",
              "583  36.0      0      0              13049   40.1250   A10        C  \n",
              "400  39.0      0      0  STON/O 2. 3101289    7.9250   NaN        S  \n",
              "730  29.0      0      0              24160  211.3375    B5        S  \n",
              "\n",
              "[891 rows x 12 columns]"
            ],
            "text/html": [
              "\n",
              "  <div id=\"df-819faf97-b112-40d3-9db6-89088692ec5a\">\n",
              "    <div class=\"colab-df-container\">\n",
              "      <div>\n",
              "<style scoped>\n",
              "    .dataframe tbody tr th:only-of-type {\n",
              "        vertical-align: middle;\n",
              "    }\n",
              "\n",
              "    .dataframe tbody tr th {\n",
              "        vertical-align: top;\n",
              "    }\n",
              "\n",
              "    .dataframe thead th {\n",
              "        text-align: right;\n",
              "    }\n",
              "</style>\n",
              "<table border=\"1\" class=\"dataframe\">\n",
              "  <thead>\n",
              "    <tr style=\"text-align: right;\">\n",
              "      <th></th>\n",
              "      <th>PassengerId</th>\n",
              "      <th>Survived</th>\n",
              "      <th>Pclass</th>\n",
              "      <th>Name</th>\n",
              "      <th>Sex</th>\n",
              "      <th>Age</th>\n",
              "      <th>SibSp</th>\n",
              "      <th>Parch</th>\n",
              "      <th>Ticket</th>\n",
              "      <th>Fare</th>\n",
              "      <th>Cabin</th>\n",
              "      <th>Embarked</th>\n",
              "    </tr>\n",
              "  </thead>\n",
              "  <tbody>\n",
              "    <tr>\n",
              "      <th>851</th>\n",
              "      <td>852</td>\n",
              "      <td>0</td>\n",
              "      <td>3</td>\n",
              "      <td>Svensson, Mr. Johan</td>\n",
              "      <td>male</td>\n",
              "      <td>74.0</td>\n",
              "      <td>0</td>\n",
              "      <td>0</td>\n",
              "      <td>347060</td>\n",
              "      <td>7.7750</td>\n",
              "      <td>NaN</td>\n",
              "      <td>S</td>\n",
              "    </tr>\n",
              "    <tr>\n",
              "      <th>629</th>\n",
              "      <td>630</td>\n",
              "      <td>0</td>\n",
              "      <td>3</td>\n",
              "      <td>O'Connell, Mr. Patrick D</td>\n",
              "      <td>male</td>\n",
              "      <td>NaN</td>\n",
              "      <td>0</td>\n",
              "      <td>0</td>\n",
              "      <td>334912</td>\n",
              "      <td>7.7333</td>\n",
              "      <td>NaN</td>\n",
              "      <td>Q</td>\n",
              "    </tr>\n",
              "    <tr>\n",
              "      <th>603</th>\n",
              "      <td>604</td>\n",
              "      <td>0</td>\n",
              "      <td>3</td>\n",
              "      <td>Torber, Mr. Ernst William</td>\n",
              "      <td>male</td>\n",
              "      <td>44.0</td>\n",
              "      <td>0</td>\n",
              "      <td>0</td>\n",
              "      <td>364511</td>\n",
              "      <td>8.0500</td>\n",
              "      <td>NaN</td>\n",
              "      <td>S</td>\n",
              "    </tr>\n",
              "    <tr>\n",
              "      <th>152</th>\n",
              "      <td>153</td>\n",
              "      <td>0</td>\n",
              "      <td>3</td>\n",
              "      <td>Meo, Mr. Alfonzo</td>\n",
              "      <td>male</td>\n",
              "      <td>55.5</td>\n",
              "      <td>0</td>\n",
              "      <td>0</td>\n",
              "      <td>A.5. 11206</td>\n",
              "      <td>8.0500</td>\n",
              "      <td>NaN</td>\n",
              "      <td>S</td>\n",
              "    </tr>\n",
              "    <tr>\n",
              "      <th>35</th>\n",
              "      <td>36</td>\n",
              "      <td>0</td>\n",
              "      <td>1</td>\n",
              "      <td>Holverson, Mr. Alexander Oskar</td>\n",
              "      <td>male</td>\n",
              "      <td>42.0</td>\n",
              "      <td>1</td>\n",
              "      <td>0</td>\n",
              "      <td>113789</td>\n",
              "      <td>52.0000</td>\n",
              "      <td>NaN</td>\n",
              "      <td>S</td>\n",
              "    </tr>\n",
              "    <tr>\n",
              "      <th>...</th>\n",
              "      <td>...</td>\n",
              "      <td>...</td>\n",
              "      <td>...</td>\n",
              "      <td>...</td>\n",
              "      <td>...</td>\n",
              "      <td>...</td>\n",
              "      <td>...</td>\n",
              "      <td>...</td>\n",
              "      <td>...</td>\n",
              "      <td>...</td>\n",
              "      <td>...</td>\n",
              "      <td>...</td>\n",
              "    </tr>\n",
              "    <tr>\n",
              "      <th>263</th>\n",
              "      <td>264</td>\n",
              "      <td>0</td>\n",
              "      <td>1</td>\n",
              "      <td>Harrison, Mr. William</td>\n",
              "      <td>male</td>\n",
              "      <td>40.0</td>\n",
              "      <td>0</td>\n",
              "      <td>0</td>\n",
              "      <td>112059</td>\n",
              "      <td>0.0000</td>\n",
              "      <td>B94</td>\n",
              "      <td>S</td>\n",
              "    </tr>\n",
              "    <tr>\n",
              "      <th>825</th>\n",
              "      <td>826</td>\n",
              "      <td>0</td>\n",
              "      <td>3</td>\n",
              "      <td>Flynn, Mr. John</td>\n",
              "      <td>male</td>\n",
              "      <td>NaN</td>\n",
              "      <td>0</td>\n",
              "      <td>0</td>\n",
              "      <td>368323</td>\n",
              "      <td>6.9500</td>\n",
              "      <td>NaN</td>\n",
              "      <td>Q</td>\n",
              "    </tr>\n",
              "    <tr>\n",
              "      <th>583</th>\n",
              "      <td>584</td>\n",
              "      <td>0</td>\n",
              "      <td>1</td>\n",
              "      <td>Ross, Mr. John Hugo</td>\n",
              "      <td>male</td>\n",
              "      <td>36.0</td>\n",
              "      <td>0</td>\n",
              "      <td>0</td>\n",
              "      <td>13049</td>\n",
              "      <td>40.1250</td>\n",
              "      <td>A10</td>\n",
              "      <td>C</td>\n",
              "    </tr>\n",
              "    <tr>\n",
              "      <th>400</th>\n",
              "      <td>401</td>\n",
              "      <td>1</td>\n",
              "      <td>3</td>\n",
              "      <td>Niskanen, Mr. Juha</td>\n",
              "      <td>male</td>\n",
              "      <td>39.0</td>\n",
              "      <td>0</td>\n",
              "      <td>0</td>\n",
              "      <td>STON/O 2. 3101289</td>\n",
              "      <td>7.9250</td>\n",
              "      <td>NaN</td>\n",
              "      <td>S</td>\n",
              "    </tr>\n",
              "    <tr>\n",
              "      <th>730</th>\n",
              "      <td>731</td>\n",
              "      <td>1</td>\n",
              "      <td>1</td>\n",
              "      <td>Allen, Miss. Elisabeth Walton</td>\n",
              "      <td>female</td>\n",
              "      <td>29.0</td>\n",
              "      <td>0</td>\n",
              "      <td>0</td>\n",
              "      <td>24160</td>\n",
              "      <td>211.3375</td>\n",
              "      <td>B5</td>\n",
              "      <td>S</td>\n",
              "    </tr>\n",
              "  </tbody>\n",
              "</table>\n",
              "<p>891 rows × 12 columns</p>\n",
              "</div>\n",
              "      <button class=\"colab-df-convert\" onclick=\"convertToInteractive('df-819faf97-b112-40d3-9db6-89088692ec5a')\"\n",
              "              title=\"Convert this dataframe to an interactive table.\"\n",
              "              style=\"display:none;\">\n",
              "        \n",
              "  <svg xmlns=\"http://www.w3.org/2000/svg\" height=\"24px\"viewBox=\"0 0 24 24\"\n",
              "       width=\"24px\">\n",
              "    <path d=\"M0 0h24v24H0V0z\" fill=\"none\"/>\n",
              "    <path d=\"M18.56 5.44l.94 2.06.94-2.06 2.06-.94-2.06-.94-.94-2.06-.94 2.06-2.06.94zm-11 1L8.5 8.5l.94-2.06 2.06-.94-2.06-.94L8.5 2.5l-.94 2.06-2.06.94zm10 10l.94 2.06.94-2.06 2.06-.94-2.06-.94-.94-2.06-.94 2.06-2.06.94z\"/><path d=\"M17.41 7.96l-1.37-1.37c-.4-.4-.92-.59-1.43-.59-.52 0-1.04.2-1.43.59L10.3 9.45l-7.72 7.72c-.78.78-.78 2.05 0 2.83L4 21.41c.39.39.9.59 1.41.59.51 0 1.02-.2 1.41-.59l7.78-7.78 2.81-2.81c.8-.78.8-2.07 0-2.86zM5.41 20L4 18.59l7.72-7.72 1.47 1.35L5.41 20z\"/>\n",
              "  </svg>\n",
              "      </button>\n",
              "      \n",
              "  <style>\n",
              "    .colab-df-container {\n",
              "      display:flex;\n",
              "      flex-wrap:wrap;\n",
              "      gap: 12px;\n",
              "    }\n",
              "\n",
              "    .colab-df-convert {\n",
              "      background-color: #E8F0FE;\n",
              "      border: none;\n",
              "      border-radius: 50%;\n",
              "      cursor: pointer;\n",
              "      display: none;\n",
              "      fill: #1967D2;\n",
              "      height: 32px;\n",
              "      padding: 0 0 0 0;\n",
              "      width: 32px;\n",
              "    }\n",
              "\n",
              "    .colab-df-convert:hover {\n",
              "      background-color: #E2EBFA;\n",
              "      box-shadow: 0px 1px 2px rgba(60, 64, 67, 0.3), 0px 1px 3px 1px rgba(60, 64, 67, 0.15);\n",
              "      fill: #174EA6;\n",
              "    }\n",
              "\n",
              "    [theme=dark] .colab-df-convert {\n",
              "      background-color: #3B4455;\n",
              "      fill: #D2E3FC;\n",
              "    }\n",
              "\n",
              "    [theme=dark] .colab-df-convert:hover {\n",
              "      background-color: #434B5C;\n",
              "      box-shadow: 0px 1px 3px 1px rgba(0, 0, 0, 0.15);\n",
              "      filter: drop-shadow(0px 1px 2px rgba(0, 0, 0, 0.3));\n",
              "      fill: #FFFFFF;\n",
              "    }\n",
              "  </style>\n",
              "\n",
              "      <script>\n",
              "        const buttonEl =\n",
              "          document.querySelector('#df-819faf97-b112-40d3-9db6-89088692ec5a button.colab-df-convert');\n",
              "        buttonEl.style.display =\n",
              "          google.colab.kernel.accessAllowed ? 'block' : 'none';\n",
              "\n",
              "        async function convertToInteractive(key) {\n",
              "          const element = document.querySelector('#df-819faf97-b112-40d3-9db6-89088692ec5a');\n",
              "          const dataTable =\n",
              "            await google.colab.kernel.invokeFunction('convertToInteractive',\n",
              "                                                     [key], {});\n",
              "          if (!dataTable) return;\n",
              "\n",
              "          const docLinkHtml = 'Like what you see? Visit the ' +\n",
              "            '<a target=\"_blank\" href=https://colab.research.google.com/notebooks/data_table.ipynb>data table notebook</a>'\n",
              "            + ' to learn more about interactive tables.';\n",
              "          element.innerHTML = '';\n",
              "          dataTable['output_type'] = 'display_data';\n",
              "          await google.colab.output.renderOutput(dataTable, element);\n",
              "          const docLink = document.createElement('div');\n",
              "          docLink.innerHTML = docLinkHtml;\n",
              "          element.appendChild(docLink);\n",
              "        }\n",
              "      </script>\n",
              "    </div>\n",
              "  </div>\n",
              "  "
            ]
          },
          "metadata": {},
          "execution_count": 13
        }
      ]
    },
    {
      "cell_type": "code",
      "source": [
        "titanic = titanic.sample(frac=1).reset_index(drop=True)\n",
        "titanic.head(5)"
      ],
      "metadata": {
        "id": "LypAZ2g8nRH9",
        "outputId": "59e5c248-9dfd-4c92-84d9-81c8c9017f39",
        "colab": {
          "base_uri": "https://localhost:8080/",
          "height": 206
        }
      },
      "execution_count": 15,
      "outputs": [
        {
          "output_type": "execute_result",
          "data": {
            "text/plain": [
              "   PassengerId  Survived  Pclass                                  Name  \\\n",
              "0          278         0       2           Parkes, Mr. Francis \"Frank\"   \n",
              "1          399         0       2                      Pain, Dr. Alfred   \n",
              "2          886         0       3  Rice, Mrs. William (Margaret Norton)   \n",
              "3          887         0       2                 Montvila, Rev. Juozas   \n",
              "4          318         0       2                  Moraweck, Dr. Ernest   \n",
              "\n",
              "      Sex   Age  SibSp  Parch  Ticket    Fare Cabin Embarked  \n",
              "0    male   NaN      0      0  239853   0.000   NaN        S  \n",
              "1    male  23.0      0      0  244278  10.500   NaN        S  \n",
              "2  female  39.0      0      5  382652  29.125   NaN        Q  \n",
              "3    male  27.0      0      0  211536  13.000   NaN        S  \n",
              "4    male  54.0      0      0   29011  14.000   NaN        S  "
            ],
            "text/html": [
              "\n",
              "  <div id=\"df-d7f25e10-a0d9-4bd9-8ca1-7823db108716\">\n",
              "    <div class=\"colab-df-container\">\n",
              "      <div>\n",
              "<style scoped>\n",
              "    .dataframe tbody tr th:only-of-type {\n",
              "        vertical-align: middle;\n",
              "    }\n",
              "\n",
              "    .dataframe tbody tr th {\n",
              "        vertical-align: top;\n",
              "    }\n",
              "\n",
              "    .dataframe thead th {\n",
              "        text-align: right;\n",
              "    }\n",
              "</style>\n",
              "<table border=\"1\" class=\"dataframe\">\n",
              "  <thead>\n",
              "    <tr style=\"text-align: right;\">\n",
              "      <th></th>\n",
              "      <th>PassengerId</th>\n",
              "      <th>Survived</th>\n",
              "      <th>Pclass</th>\n",
              "      <th>Name</th>\n",
              "      <th>Sex</th>\n",
              "      <th>Age</th>\n",
              "      <th>SibSp</th>\n",
              "      <th>Parch</th>\n",
              "      <th>Ticket</th>\n",
              "      <th>Fare</th>\n",
              "      <th>Cabin</th>\n",
              "      <th>Embarked</th>\n",
              "    </tr>\n",
              "  </thead>\n",
              "  <tbody>\n",
              "    <tr>\n",
              "      <th>0</th>\n",
              "      <td>278</td>\n",
              "      <td>0</td>\n",
              "      <td>2</td>\n",
              "      <td>Parkes, Mr. Francis \"Frank\"</td>\n",
              "      <td>male</td>\n",
              "      <td>NaN</td>\n",
              "      <td>0</td>\n",
              "      <td>0</td>\n",
              "      <td>239853</td>\n",
              "      <td>0.000</td>\n",
              "      <td>NaN</td>\n",
              "      <td>S</td>\n",
              "    </tr>\n",
              "    <tr>\n",
              "      <th>1</th>\n",
              "      <td>399</td>\n",
              "      <td>0</td>\n",
              "      <td>2</td>\n",
              "      <td>Pain, Dr. Alfred</td>\n",
              "      <td>male</td>\n",
              "      <td>23.0</td>\n",
              "      <td>0</td>\n",
              "      <td>0</td>\n",
              "      <td>244278</td>\n",
              "      <td>10.500</td>\n",
              "      <td>NaN</td>\n",
              "      <td>S</td>\n",
              "    </tr>\n",
              "    <tr>\n",
              "      <th>2</th>\n",
              "      <td>886</td>\n",
              "      <td>0</td>\n",
              "      <td>3</td>\n",
              "      <td>Rice, Mrs. William (Margaret Norton)</td>\n",
              "      <td>female</td>\n",
              "      <td>39.0</td>\n",
              "      <td>0</td>\n",
              "      <td>5</td>\n",
              "      <td>382652</td>\n",
              "      <td>29.125</td>\n",
              "      <td>NaN</td>\n",
              "      <td>Q</td>\n",
              "    </tr>\n",
              "    <tr>\n",
              "      <th>3</th>\n",
              "      <td>887</td>\n",
              "      <td>0</td>\n",
              "      <td>2</td>\n",
              "      <td>Montvila, Rev. Juozas</td>\n",
              "      <td>male</td>\n",
              "      <td>27.0</td>\n",
              "      <td>0</td>\n",
              "      <td>0</td>\n",
              "      <td>211536</td>\n",
              "      <td>13.000</td>\n",
              "      <td>NaN</td>\n",
              "      <td>S</td>\n",
              "    </tr>\n",
              "    <tr>\n",
              "      <th>4</th>\n",
              "      <td>318</td>\n",
              "      <td>0</td>\n",
              "      <td>2</td>\n",
              "      <td>Moraweck, Dr. Ernest</td>\n",
              "      <td>male</td>\n",
              "      <td>54.0</td>\n",
              "      <td>0</td>\n",
              "      <td>0</td>\n",
              "      <td>29011</td>\n",
              "      <td>14.000</td>\n",
              "      <td>NaN</td>\n",
              "      <td>S</td>\n",
              "    </tr>\n",
              "  </tbody>\n",
              "</table>\n",
              "</div>\n",
              "      <button class=\"colab-df-convert\" onclick=\"convertToInteractive('df-d7f25e10-a0d9-4bd9-8ca1-7823db108716')\"\n",
              "              title=\"Convert this dataframe to an interactive table.\"\n",
              "              style=\"display:none;\">\n",
              "        \n",
              "  <svg xmlns=\"http://www.w3.org/2000/svg\" height=\"24px\"viewBox=\"0 0 24 24\"\n",
              "       width=\"24px\">\n",
              "    <path d=\"M0 0h24v24H0V0z\" fill=\"none\"/>\n",
              "    <path d=\"M18.56 5.44l.94 2.06.94-2.06 2.06-.94-2.06-.94-.94-2.06-.94 2.06-2.06.94zm-11 1L8.5 8.5l.94-2.06 2.06-.94-2.06-.94L8.5 2.5l-.94 2.06-2.06.94zm10 10l.94 2.06.94-2.06 2.06-.94-2.06-.94-.94-2.06-.94 2.06-2.06.94z\"/><path d=\"M17.41 7.96l-1.37-1.37c-.4-.4-.92-.59-1.43-.59-.52 0-1.04.2-1.43.59L10.3 9.45l-7.72 7.72c-.78.78-.78 2.05 0 2.83L4 21.41c.39.39.9.59 1.41.59.51 0 1.02-.2 1.41-.59l7.78-7.78 2.81-2.81c.8-.78.8-2.07 0-2.86zM5.41 20L4 18.59l7.72-7.72 1.47 1.35L5.41 20z\"/>\n",
              "  </svg>\n",
              "      </button>\n",
              "      \n",
              "  <style>\n",
              "    .colab-df-container {\n",
              "      display:flex;\n",
              "      flex-wrap:wrap;\n",
              "      gap: 12px;\n",
              "    }\n",
              "\n",
              "    .colab-df-convert {\n",
              "      background-color: #E8F0FE;\n",
              "      border: none;\n",
              "      border-radius: 50%;\n",
              "      cursor: pointer;\n",
              "      display: none;\n",
              "      fill: #1967D2;\n",
              "      height: 32px;\n",
              "      padding: 0 0 0 0;\n",
              "      width: 32px;\n",
              "    }\n",
              "\n",
              "    .colab-df-convert:hover {\n",
              "      background-color: #E2EBFA;\n",
              "      box-shadow: 0px 1px 2px rgba(60, 64, 67, 0.3), 0px 1px 3px 1px rgba(60, 64, 67, 0.15);\n",
              "      fill: #174EA6;\n",
              "    }\n",
              "\n",
              "    [theme=dark] .colab-df-convert {\n",
              "      background-color: #3B4455;\n",
              "      fill: #D2E3FC;\n",
              "    }\n",
              "\n",
              "    [theme=dark] .colab-df-convert:hover {\n",
              "      background-color: #434B5C;\n",
              "      box-shadow: 0px 1px 3px 1px rgba(0, 0, 0, 0.15);\n",
              "      filter: drop-shadow(0px 1px 2px rgba(0, 0, 0, 0.3));\n",
              "      fill: #FFFFFF;\n",
              "    }\n",
              "  </style>\n",
              "\n",
              "      <script>\n",
              "        const buttonEl =\n",
              "          document.querySelector('#df-d7f25e10-a0d9-4bd9-8ca1-7823db108716 button.colab-df-convert');\n",
              "        buttonEl.style.display =\n",
              "          google.colab.kernel.accessAllowed ? 'block' : 'none';\n",
              "\n",
              "        async function convertToInteractive(key) {\n",
              "          const element = document.querySelector('#df-d7f25e10-a0d9-4bd9-8ca1-7823db108716');\n",
              "          const dataTable =\n",
              "            await google.colab.kernel.invokeFunction('convertToInteractive',\n",
              "                                                     [key], {});\n",
              "          if (!dataTable) return;\n",
              "\n",
              "          const docLinkHtml = 'Like what you see? Visit the ' +\n",
              "            '<a target=\"_blank\" href=https://colab.research.google.com/notebooks/data_table.ipynb>data table notebook</a>'\n",
              "            + ' to learn more about interactive tables.';\n",
              "          element.innerHTML = '';\n",
              "          dataTable['output_type'] = 'display_data';\n",
              "          await google.colab.output.renderOutput(dataTable, element);\n",
              "          const docLink = document.createElement('div');\n",
              "          docLink.innerHTML = docLinkHtml;\n",
              "          element.appendChild(docLink);\n",
              "        }\n",
              "      </script>\n",
              "    </div>\n",
              "  </div>\n",
              "  "
            ]
          },
          "metadata": {},
          "execution_count": 15
        }
      ]
    },
    {
      "cell_type": "code",
      "source": [
        "from sklearn.utils import shuffle\n",
        "titanic = shuffle(titanic)\n",
        "titanic"
      ],
      "metadata": {
        "id": "rGK0iCHOnXwe",
        "outputId": "ee8cf1e7-7b89-489b-cc3c-d7b2da729f7e",
        "colab": {
          "base_uri": "https://localhost:8080/",
          "height": 423
        }
      },
      "execution_count": 17,
      "outputs": [
        {
          "output_type": "execute_result",
          "data": {
            "text/plain": [
              "     PassengerId  Survived  Pclass  \\\n",
              "81           668         0       3   \n",
              "242          427         1       2   \n",
              "243          120         0       3   \n",
              "641          355         0       3   \n",
              "635          537         0       1   \n",
              "..           ...       ...     ...   \n",
              "110          448         1       1   \n",
              "404          117         0       3   \n",
              "798           77         0       3   \n",
              "157          734         0       2   \n",
              "433          291         1       1   \n",
              "\n",
              "                                            Name     Sex   Age  SibSp  Parch  \\\n",
              "81                    Rommetvedt, Mr. Knud Paust    male   NaN      0      0   \n",
              "242  Clarke, Mrs. Charles V (Ada Maria Winfield)  female  28.0      1      0   \n",
              "243            Andersson, Miss. Ellis Anna Maria  female   2.0      4      2   \n",
              "641                            Yousif, Mr. Wazli    male   NaN      0      0   \n",
              "635            Butt, Major. Archibald Willingham    male  45.0      0      0   \n",
              "..                                           ...     ...   ...    ...    ...   \n",
              "110                  Seward, Mr. Frederic Kimber    male  34.0      0      0   \n",
              "404                         Connors, Mr. Patrick    male  70.5      0      0   \n",
              "798                            Staneff, Mr. Ivan    male   NaN      0      0   \n",
              "157                   Berriman, Mr. William John    male  23.0      0      0   \n",
              "433                 Barber, Miss. Ellen \"Nellie\"  female  26.0      0      0   \n",
              "\n",
              "     Ticket     Fare Cabin Embarked  \n",
              "81   312993   7.7750   NaN        S  \n",
              "242    2003  26.0000   NaN        S  \n",
              "243  347082  31.2750   NaN        S  \n",
              "641    2647   7.2250   NaN        C  \n",
              "635  113050  26.5500   B38        S  \n",
              "..      ...      ...   ...      ...  \n",
              "110  113794  26.5500   NaN        S  \n",
              "404  370369   7.7500   NaN        Q  \n",
              "798  349208   7.8958   NaN        S  \n",
              "157   28425  13.0000   NaN        S  \n",
              "433   19877  78.8500   NaN        S  \n",
              "\n",
              "[891 rows x 12 columns]"
            ],
            "text/html": [
              "\n",
              "  <div id=\"df-e0d7614a-3d6a-42e5-99a3-4d74d093528b\">\n",
              "    <div class=\"colab-df-container\">\n",
              "      <div>\n",
              "<style scoped>\n",
              "    .dataframe tbody tr th:only-of-type {\n",
              "        vertical-align: middle;\n",
              "    }\n",
              "\n",
              "    .dataframe tbody tr th {\n",
              "        vertical-align: top;\n",
              "    }\n",
              "\n",
              "    .dataframe thead th {\n",
              "        text-align: right;\n",
              "    }\n",
              "</style>\n",
              "<table border=\"1\" class=\"dataframe\">\n",
              "  <thead>\n",
              "    <tr style=\"text-align: right;\">\n",
              "      <th></th>\n",
              "      <th>PassengerId</th>\n",
              "      <th>Survived</th>\n",
              "      <th>Pclass</th>\n",
              "      <th>Name</th>\n",
              "      <th>Sex</th>\n",
              "      <th>Age</th>\n",
              "      <th>SibSp</th>\n",
              "      <th>Parch</th>\n",
              "      <th>Ticket</th>\n",
              "      <th>Fare</th>\n",
              "      <th>Cabin</th>\n",
              "      <th>Embarked</th>\n",
              "    </tr>\n",
              "  </thead>\n",
              "  <tbody>\n",
              "    <tr>\n",
              "      <th>81</th>\n",
              "      <td>668</td>\n",
              "      <td>0</td>\n",
              "      <td>3</td>\n",
              "      <td>Rommetvedt, Mr. Knud Paust</td>\n",
              "      <td>male</td>\n",
              "      <td>NaN</td>\n",
              "      <td>0</td>\n",
              "      <td>0</td>\n",
              "      <td>312993</td>\n",
              "      <td>7.7750</td>\n",
              "      <td>NaN</td>\n",
              "      <td>S</td>\n",
              "    </tr>\n",
              "    <tr>\n",
              "      <th>242</th>\n",
              "      <td>427</td>\n",
              "      <td>1</td>\n",
              "      <td>2</td>\n",
              "      <td>Clarke, Mrs. Charles V (Ada Maria Winfield)</td>\n",
              "      <td>female</td>\n",
              "      <td>28.0</td>\n",
              "      <td>1</td>\n",
              "      <td>0</td>\n",
              "      <td>2003</td>\n",
              "      <td>26.0000</td>\n",
              "      <td>NaN</td>\n",
              "      <td>S</td>\n",
              "    </tr>\n",
              "    <tr>\n",
              "      <th>243</th>\n",
              "      <td>120</td>\n",
              "      <td>0</td>\n",
              "      <td>3</td>\n",
              "      <td>Andersson, Miss. Ellis Anna Maria</td>\n",
              "      <td>female</td>\n",
              "      <td>2.0</td>\n",
              "      <td>4</td>\n",
              "      <td>2</td>\n",
              "      <td>347082</td>\n",
              "      <td>31.2750</td>\n",
              "      <td>NaN</td>\n",
              "      <td>S</td>\n",
              "    </tr>\n",
              "    <tr>\n",
              "      <th>641</th>\n",
              "      <td>355</td>\n",
              "      <td>0</td>\n",
              "      <td>3</td>\n",
              "      <td>Yousif, Mr. Wazli</td>\n",
              "      <td>male</td>\n",
              "      <td>NaN</td>\n",
              "      <td>0</td>\n",
              "      <td>0</td>\n",
              "      <td>2647</td>\n",
              "      <td>7.2250</td>\n",
              "      <td>NaN</td>\n",
              "      <td>C</td>\n",
              "    </tr>\n",
              "    <tr>\n",
              "      <th>635</th>\n",
              "      <td>537</td>\n",
              "      <td>0</td>\n",
              "      <td>1</td>\n",
              "      <td>Butt, Major. Archibald Willingham</td>\n",
              "      <td>male</td>\n",
              "      <td>45.0</td>\n",
              "      <td>0</td>\n",
              "      <td>0</td>\n",
              "      <td>113050</td>\n",
              "      <td>26.5500</td>\n",
              "      <td>B38</td>\n",
              "      <td>S</td>\n",
              "    </tr>\n",
              "    <tr>\n",
              "      <th>...</th>\n",
              "      <td>...</td>\n",
              "      <td>...</td>\n",
              "      <td>...</td>\n",
              "      <td>...</td>\n",
              "      <td>...</td>\n",
              "      <td>...</td>\n",
              "      <td>...</td>\n",
              "      <td>...</td>\n",
              "      <td>...</td>\n",
              "      <td>...</td>\n",
              "      <td>...</td>\n",
              "      <td>...</td>\n",
              "    </tr>\n",
              "    <tr>\n",
              "      <th>110</th>\n",
              "      <td>448</td>\n",
              "      <td>1</td>\n",
              "      <td>1</td>\n",
              "      <td>Seward, Mr. Frederic Kimber</td>\n",
              "      <td>male</td>\n",
              "      <td>34.0</td>\n",
              "      <td>0</td>\n",
              "      <td>0</td>\n",
              "      <td>113794</td>\n",
              "      <td>26.5500</td>\n",
              "      <td>NaN</td>\n",
              "      <td>S</td>\n",
              "    </tr>\n",
              "    <tr>\n",
              "      <th>404</th>\n",
              "      <td>117</td>\n",
              "      <td>0</td>\n",
              "      <td>3</td>\n",
              "      <td>Connors, Mr. Patrick</td>\n",
              "      <td>male</td>\n",
              "      <td>70.5</td>\n",
              "      <td>0</td>\n",
              "      <td>0</td>\n",
              "      <td>370369</td>\n",
              "      <td>7.7500</td>\n",
              "      <td>NaN</td>\n",
              "      <td>Q</td>\n",
              "    </tr>\n",
              "    <tr>\n",
              "      <th>798</th>\n",
              "      <td>77</td>\n",
              "      <td>0</td>\n",
              "      <td>3</td>\n",
              "      <td>Staneff, Mr. Ivan</td>\n",
              "      <td>male</td>\n",
              "      <td>NaN</td>\n",
              "      <td>0</td>\n",
              "      <td>0</td>\n",
              "      <td>349208</td>\n",
              "      <td>7.8958</td>\n",
              "      <td>NaN</td>\n",
              "      <td>S</td>\n",
              "    </tr>\n",
              "    <tr>\n",
              "      <th>157</th>\n",
              "      <td>734</td>\n",
              "      <td>0</td>\n",
              "      <td>2</td>\n",
              "      <td>Berriman, Mr. William John</td>\n",
              "      <td>male</td>\n",
              "      <td>23.0</td>\n",
              "      <td>0</td>\n",
              "      <td>0</td>\n",
              "      <td>28425</td>\n",
              "      <td>13.0000</td>\n",
              "      <td>NaN</td>\n",
              "      <td>S</td>\n",
              "    </tr>\n",
              "    <tr>\n",
              "      <th>433</th>\n",
              "      <td>291</td>\n",
              "      <td>1</td>\n",
              "      <td>1</td>\n",
              "      <td>Barber, Miss. Ellen \"Nellie\"</td>\n",
              "      <td>female</td>\n",
              "      <td>26.0</td>\n",
              "      <td>0</td>\n",
              "      <td>0</td>\n",
              "      <td>19877</td>\n",
              "      <td>78.8500</td>\n",
              "      <td>NaN</td>\n",
              "      <td>S</td>\n",
              "    </tr>\n",
              "  </tbody>\n",
              "</table>\n",
              "<p>891 rows × 12 columns</p>\n",
              "</div>\n",
              "      <button class=\"colab-df-convert\" onclick=\"convertToInteractive('df-e0d7614a-3d6a-42e5-99a3-4d74d093528b')\"\n",
              "              title=\"Convert this dataframe to an interactive table.\"\n",
              "              style=\"display:none;\">\n",
              "        \n",
              "  <svg xmlns=\"http://www.w3.org/2000/svg\" height=\"24px\"viewBox=\"0 0 24 24\"\n",
              "       width=\"24px\">\n",
              "    <path d=\"M0 0h24v24H0V0z\" fill=\"none\"/>\n",
              "    <path d=\"M18.56 5.44l.94 2.06.94-2.06 2.06-.94-2.06-.94-.94-2.06-.94 2.06-2.06.94zm-11 1L8.5 8.5l.94-2.06 2.06-.94-2.06-.94L8.5 2.5l-.94 2.06-2.06.94zm10 10l.94 2.06.94-2.06 2.06-.94-2.06-.94-.94-2.06-.94 2.06-2.06.94z\"/><path d=\"M17.41 7.96l-1.37-1.37c-.4-.4-.92-.59-1.43-.59-.52 0-1.04.2-1.43.59L10.3 9.45l-7.72 7.72c-.78.78-.78 2.05 0 2.83L4 21.41c.39.39.9.59 1.41.59.51 0 1.02-.2 1.41-.59l7.78-7.78 2.81-2.81c.8-.78.8-2.07 0-2.86zM5.41 20L4 18.59l7.72-7.72 1.47 1.35L5.41 20z\"/>\n",
              "  </svg>\n",
              "      </button>\n",
              "      \n",
              "  <style>\n",
              "    .colab-df-container {\n",
              "      display:flex;\n",
              "      flex-wrap:wrap;\n",
              "      gap: 12px;\n",
              "    }\n",
              "\n",
              "    .colab-df-convert {\n",
              "      background-color: #E8F0FE;\n",
              "      border: none;\n",
              "      border-radius: 50%;\n",
              "      cursor: pointer;\n",
              "      display: none;\n",
              "      fill: #1967D2;\n",
              "      height: 32px;\n",
              "      padding: 0 0 0 0;\n",
              "      width: 32px;\n",
              "    }\n",
              "\n",
              "    .colab-df-convert:hover {\n",
              "      background-color: #E2EBFA;\n",
              "      box-shadow: 0px 1px 2px rgba(60, 64, 67, 0.3), 0px 1px 3px 1px rgba(60, 64, 67, 0.15);\n",
              "      fill: #174EA6;\n",
              "    }\n",
              "\n",
              "    [theme=dark] .colab-df-convert {\n",
              "      background-color: #3B4455;\n",
              "      fill: #D2E3FC;\n",
              "    }\n",
              "\n",
              "    [theme=dark] .colab-df-convert:hover {\n",
              "      background-color: #434B5C;\n",
              "      box-shadow: 0px 1px 3px 1px rgba(0, 0, 0, 0.15);\n",
              "      filter: drop-shadow(0px 1px 2px rgba(0, 0, 0, 0.3));\n",
              "      fill: #FFFFFF;\n",
              "    }\n",
              "  </style>\n",
              "\n",
              "      <script>\n",
              "        const buttonEl =\n",
              "          document.querySelector('#df-e0d7614a-3d6a-42e5-99a3-4d74d093528b button.colab-df-convert');\n",
              "        buttonEl.style.display =\n",
              "          google.colab.kernel.accessAllowed ? 'block' : 'none';\n",
              "\n",
              "        async function convertToInteractive(key) {\n",
              "          const element = document.querySelector('#df-e0d7614a-3d6a-42e5-99a3-4d74d093528b');\n",
              "          const dataTable =\n",
              "            await google.colab.kernel.invokeFunction('convertToInteractive',\n",
              "                                                     [key], {});\n",
              "          if (!dataTable) return;\n",
              "\n",
              "          const docLinkHtml = 'Like what you see? Visit the ' +\n",
              "            '<a target=\"_blank\" href=https://colab.research.google.com/notebooks/data_table.ipynb>data table notebook</a>'\n",
              "            + ' to learn more about interactive tables.';\n",
              "          element.innerHTML = '';\n",
              "          dataTable['output_type'] = 'display_data';\n",
              "          await google.colab.output.renderOutput(dataTable, element);\n",
              "          const docLink = document.createElement('div');\n",
              "          docLink.innerHTML = docLinkHtml;\n",
              "          element.appendChild(docLink);\n",
              "        }\n",
              "      </script>\n",
              "    </div>\n",
              "  </div>\n",
              "  "
            ]
          },
          "metadata": {},
          "execution_count": 17
        }
      ]
    },
    {
      "cell_type": "markdown",
      "source": [
        "## como obtener estadisticas de cada grupo"
      ],
      "metadata": {
        "id": "nnr9QutQn0XN"
      }
    },
    {
      "cell_type": "code",
      "source": [
        "url = (\"https://raw.githubusercontent.com/massquantity/Kaggle-Titanic/master/Data/train.csv\")\n",
        "\n",
        "import pandas as pd\n",
        "titanic = pd.read_csv(url)\n",
        "\n",
        "titanic.groupby(['Pclass','Sex']).size().reset_index(name='counts')\n",
        "\n",
        "Pclass\tSex\tcounts\n",
        "0\t1\tfemale\t94\n",
        "1\t1\tmale\t122\n",
        "2\t2\tfemale\t76\n",
        "3\t2\tmale\t108\n",
        "4\t3\tfemale\t144\n",
        "5\t3\tmale\t347\n",
        "\n",
        "# Or use the agg method.\n",
        "titanic.groupby(['Pclass','Sex']).agg(['mean', 'count'])"
      ],
      "metadata": {
        "id": "oq6bVKYznsD3"
      },
      "execution_count": null,
      "outputs": []
    },
    {
      "cell_type": "code",
      "source": [
        "url = (\"https://raw.githubusercontent.com/massquantity/Kaggle-Titanic/master/Data/train.csv\")\n",
        "\n",
        "import pandas as pd\n",
        "titanic = pd.read_csv(url)\n",
        "titanic.head(5)"
      ],
      "metadata": {
        "id": "sfY9GVs8n-xu",
        "outputId": "d597be02-b7d1-4130-d992-568f18afd3d7",
        "colab": {
          "base_uri": "https://localhost:8080/",
          "height": 206
        }
      },
      "execution_count": 18,
      "outputs": [
        {
          "output_type": "execute_result",
          "data": {
            "text/plain": [
              "   PassengerId  Survived  Pclass  \\\n",
              "0            1         0       3   \n",
              "1            2         1       1   \n",
              "2            3         1       3   \n",
              "3            4         1       1   \n",
              "4            5         0       3   \n",
              "\n",
              "                                                Name     Sex   Age  SibSp  \\\n",
              "0                            Braund, Mr. Owen Harris    male  22.0      1   \n",
              "1  Cumings, Mrs. John Bradley (Florence Briggs Th...  female  38.0      1   \n",
              "2                             Heikkinen, Miss. Laina  female  26.0      0   \n",
              "3       Futrelle, Mrs. Jacques Heath (Lily May Peel)  female  35.0      1   \n",
              "4                           Allen, Mr. William Henry    male  35.0      0   \n",
              "\n",
              "   Parch            Ticket     Fare Cabin Embarked  \n",
              "0      0         A/5 21171   7.2500   NaN        S  \n",
              "1      0          PC 17599  71.2833   C85        C  \n",
              "2      0  STON/O2. 3101282   7.9250   NaN        S  \n",
              "3      0            113803  53.1000  C123        S  \n",
              "4      0            373450   8.0500   NaN        S  "
            ],
            "text/html": [
              "\n",
              "  <div id=\"df-88ef89e5-3a91-46f6-ae7a-0e3914c53d90\">\n",
              "    <div class=\"colab-df-container\">\n",
              "      <div>\n",
              "<style scoped>\n",
              "    .dataframe tbody tr th:only-of-type {\n",
              "        vertical-align: middle;\n",
              "    }\n",
              "\n",
              "    .dataframe tbody tr th {\n",
              "        vertical-align: top;\n",
              "    }\n",
              "\n",
              "    .dataframe thead th {\n",
              "        text-align: right;\n",
              "    }\n",
              "</style>\n",
              "<table border=\"1\" class=\"dataframe\">\n",
              "  <thead>\n",
              "    <tr style=\"text-align: right;\">\n",
              "      <th></th>\n",
              "      <th>PassengerId</th>\n",
              "      <th>Survived</th>\n",
              "      <th>Pclass</th>\n",
              "      <th>Name</th>\n",
              "      <th>Sex</th>\n",
              "      <th>Age</th>\n",
              "      <th>SibSp</th>\n",
              "      <th>Parch</th>\n",
              "      <th>Ticket</th>\n",
              "      <th>Fare</th>\n",
              "      <th>Cabin</th>\n",
              "      <th>Embarked</th>\n",
              "    </tr>\n",
              "  </thead>\n",
              "  <tbody>\n",
              "    <tr>\n",
              "      <th>0</th>\n",
              "      <td>1</td>\n",
              "      <td>0</td>\n",
              "      <td>3</td>\n",
              "      <td>Braund, Mr. Owen Harris</td>\n",
              "      <td>male</td>\n",
              "      <td>22.0</td>\n",
              "      <td>1</td>\n",
              "      <td>0</td>\n",
              "      <td>A/5 21171</td>\n",
              "      <td>7.2500</td>\n",
              "      <td>NaN</td>\n",
              "      <td>S</td>\n",
              "    </tr>\n",
              "    <tr>\n",
              "      <th>1</th>\n",
              "      <td>2</td>\n",
              "      <td>1</td>\n",
              "      <td>1</td>\n",
              "      <td>Cumings, Mrs. John Bradley (Florence Briggs Th...</td>\n",
              "      <td>female</td>\n",
              "      <td>38.0</td>\n",
              "      <td>1</td>\n",
              "      <td>0</td>\n",
              "      <td>PC 17599</td>\n",
              "      <td>71.2833</td>\n",
              "      <td>C85</td>\n",
              "      <td>C</td>\n",
              "    </tr>\n",
              "    <tr>\n",
              "      <th>2</th>\n",
              "      <td>3</td>\n",
              "      <td>1</td>\n",
              "      <td>3</td>\n",
              "      <td>Heikkinen, Miss. Laina</td>\n",
              "      <td>female</td>\n",
              "      <td>26.0</td>\n",
              "      <td>0</td>\n",
              "      <td>0</td>\n",
              "      <td>STON/O2. 3101282</td>\n",
              "      <td>7.9250</td>\n",
              "      <td>NaN</td>\n",
              "      <td>S</td>\n",
              "    </tr>\n",
              "    <tr>\n",
              "      <th>3</th>\n",
              "      <td>4</td>\n",
              "      <td>1</td>\n",
              "      <td>1</td>\n",
              "      <td>Futrelle, Mrs. Jacques Heath (Lily May Peel)</td>\n",
              "      <td>female</td>\n",
              "      <td>35.0</td>\n",
              "      <td>1</td>\n",
              "      <td>0</td>\n",
              "      <td>113803</td>\n",
              "      <td>53.1000</td>\n",
              "      <td>C123</td>\n",
              "      <td>S</td>\n",
              "    </tr>\n",
              "    <tr>\n",
              "      <th>4</th>\n",
              "      <td>5</td>\n",
              "      <td>0</td>\n",
              "      <td>3</td>\n",
              "      <td>Allen, Mr. William Henry</td>\n",
              "      <td>male</td>\n",
              "      <td>35.0</td>\n",
              "      <td>0</td>\n",
              "      <td>0</td>\n",
              "      <td>373450</td>\n",
              "      <td>8.0500</td>\n",
              "      <td>NaN</td>\n",
              "      <td>S</td>\n",
              "    </tr>\n",
              "  </tbody>\n",
              "</table>\n",
              "</div>\n",
              "      <button class=\"colab-df-convert\" onclick=\"convertToInteractive('df-88ef89e5-3a91-46f6-ae7a-0e3914c53d90')\"\n",
              "              title=\"Convert this dataframe to an interactive table.\"\n",
              "              style=\"display:none;\">\n",
              "        \n",
              "  <svg xmlns=\"http://www.w3.org/2000/svg\" height=\"24px\"viewBox=\"0 0 24 24\"\n",
              "       width=\"24px\">\n",
              "    <path d=\"M0 0h24v24H0V0z\" fill=\"none\"/>\n",
              "    <path d=\"M18.56 5.44l.94 2.06.94-2.06 2.06-.94-2.06-.94-.94-2.06-.94 2.06-2.06.94zm-11 1L8.5 8.5l.94-2.06 2.06-.94-2.06-.94L8.5 2.5l-.94 2.06-2.06.94zm10 10l.94 2.06.94-2.06 2.06-.94-2.06-.94-.94-2.06-.94 2.06-2.06.94z\"/><path d=\"M17.41 7.96l-1.37-1.37c-.4-.4-.92-.59-1.43-.59-.52 0-1.04.2-1.43.59L10.3 9.45l-7.72 7.72c-.78.78-.78 2.05 0 2.83L4 21.41c.39.39.9.59 1.41.59.51 0 1.02-.2 1.41-.59l7.78-7.78 2.81-2.81c.8-.78.8-2.07 0-2.86zM5.41 20L4 18.59l7.72-7.72 1.47 1.35L5.41 20z\"/>\n",
              "  </svg>\n",
              "      </button>\n",
              "      \n",
              "  <style>\n",
              "    .colab-df-container {\n",
              "      display:flex;\n",
              "      flex-wrap:wrap;\n",
              "      gap: 12px;\n",
              "    }\n",
              "\n",
              "    .colab-df-convert {\n",
              "      background-color: #E8F0FE;\n",
              "      border: none;\n",
              "      border-radius: 50%;\n",
              "      cursor: pointer;\n",
              "      display: none;\n",
              "      fill: #1967D2;\n",
              "      height: 32px;\n",
              "      padding: 0 0 0 0;\n",
              "      width: 32px;\n",
              "    }\n",
              "\n",
              "    .colab-df-convert:hover {\n",
              "      background-color: #E2EBFA;\n",
              "      box-shadow: 0px 1px 2px rgba(60, 64, 67, 0.3), 0px 1px 3px 1px rgba(60, 64, 67, 0.15);\n",
              "      fill: #174EA6;\n",
              "    }\n",
              "\n",
              "    [theme=dark] .colab-df-convert {\n",
              "      background-color: #3B4455;\n",
              "      fill: #D2E3FC;\n",
              "    }\n",
              "\n",
              "    [theme=dark] .colab-df-convert:hover {\n",
              "      background-color: #434B5C;\n",
              "      box-shadow: 0px 1px 3px 1px rgba(0, 0, 0, 0.15);\n",
              "      filter: drop-shadow(0px 1px 2px rgba(0, 0, 0, 0.3));\n",
              "      fill: #FFFFFF;\n",
              "    }\n",
              "  </style>\n",
              "\n",
              "      <script>\n",
              "        const buttonEl =\n",
              "          document.querySelector('#df-88ef89e5-3a91-46f6-ae7a-0e3914c53d90 button.colab-df-convert');\n",
              "        buttonEl.style.display =\n",
              "          google.colab.kernel.accessAllowed ? 'block' : 'none';\n",
              "\n",
              "        async function convertToInteractive(key) {\n",
              "          const element = document.querySelector('#df-88ef89e5-3a91-46f6-ae7a-0e3914c53d90');\n",
              "          const dataTable =\n",
              "            await google.colab.kernel.invokeFunction('convertToInteractive',\n",
              "                                                     [key], {});\n",
              "          if (!dataTable) return;\n",
              "\n",
              "          const docLinkHtml = 'Like what you see? Visit the ' +\n",
              "            '<a target=\"_blank\" href=https://colab.research.google.com/notebooks/data_table.ipynb>data table notebook</a>'\n",
              "            + ' to learn more about interactive tables.';\n",
              "          element.innerHTML = '';\n",
              "          dataTable['output_type'] = 'display_data';\n",
              "          await google.colab.output.renderOutput(dataTable, element);\n",
              "          const docLink = document.createElement('div');\n",
              "          docLink.innerHTML = docLinkHtml;\n",
              "          element.appendChild(docLink);\n",
              "        }\n",
              "      </script>\n",
              "    </div>\n",
              "  </div>\n",
              "  "
            ]
          },
          "metadata": {},
          "execution_count": 18
        }
      ]
    },
    {
      "cell_type": "code",
      "source": [
        "titanic.groupby(['Pclass','Sex']).size().reset_index(name='counts')"
      ],
      "metadata": {
        "id": "-ta0w6jCoD7n",
        "outputId": "9b348de6-e8fd-473a-b9f2-9a345039be98",
        "colab": {
          "base_uri": "https://localhost:8080/",
          "height": 238
        }
      },
      "execution_count": 19,
      "outputs": [
        {
          "output_type": "execute_result",
          "data": {
            "text/plain": [
              "   Pclass     Sex  counts\n",
              "0       1  female      94\n",
              "1       1    male     122\n",
              "2       2  female      76\n",
              "3       2    male     108\n",
              "4       3  female     144\n",
              "5       3    male     347"
            ],
            "text/html": [
              "\n",
              "  <div id=\"df-87d6b72b-9e88-466c-918f-bededbff325e\">\n",
              "    <div class=\"colab-df-container\">\n",
              "      <div>\n",
              "<style scoped>\n",
              "    .dataframe tbody tr th:only-of-type {\n",
              "        vertical-align: middle;\n",
              "    }\n",
              "\n",
              "    .dataframe tbody tr th {\n",
              "        vertical-align: top;\n",
              "    }\n",
              "\n",
              "    .dataframe thead th {\n",
              "        text-align: right;\n",
              "    }\n",
              "</style>\n",
              "<table border=\"1\" class=\"dataframe\">\n",
              "  <thead>\n",
              "    <tr style=\"text-align: right;\">\n",
              "      <th></th>\n",
              "      <th>Pclass</th>\n",
              "      <th>Sex</th>\n",
              "      <th>counts</th>\n",
              "    </tr>\n",
              "  </thead>\n",
              "  <tbody>\n",
              "    <tr>\n",
              "      <th>0</th>\n",
              "      <td>1</td>\n",
              "      <td>female</td>\n",
              "      <td>94</td>\n",
              "    </tr>\n",
              "    <tr>\n",
              "      <th>1</th>\n",
              "      <td>1</td>\n",
              "      <td>male</td>\n",
              "      <td>122</td>\n",
              "    </tr>\n",
              "    <tr>\n",
              "      <th>2</th>\n",
              "      <td>2</td>\n",
              "      <td>female</td>\n",
              "      <td>76</td>\n",
              "    </tr>\n",
              "    <tr>\n",
              "      <th>3</th>\n",
              "      <td>2</td>\n",
              "      <td>male</td>\n",
              "      <td>108</td>\n",
              "    </tr>\n",
              "    <tr>\n",
              "      <th>4</th>\n",
              "      <td>3</td>\n",
              "      <td>female</td>\n",
              "      <td>144</td>\n",
              "    </tr>\n",
              "    <tr>\n",
              "      <th>5</th>\n",
              "      <td>3</td>\n",
              "      <td>male</td>\n",
              "      <td>347</td>\n",
              "    </tr>\n",
              "  </tbody>\n",
              "</table>\n",
              "</div>\n",
              "      <button class=\"colab-df-convert\" onclick=\"convertToInteractive('df-87d6b72b-9e88-466c-918f-bededbff325e')\"\n",
              "              title=\"Convert this dataframe to an interactive table.\"\n",
              "              style=\"display:none;\">\n",
              "        \n",
              "  <svg xmlns=\"http://www.w3.org/2000/svg\" height=\"24px\"viewBox=\"0 0 24 24\"\n",
              "       width=\"24px\">\n",
              "    <path d=\"M0 0h24v24H0V0z\" fill=\"none\"/>\n",
              "    <path d=\"M18.56 5.44l.94 2.06.94-2.06 2.06-.94-2.06-.94-.94-2.06-.94 2.06-2.06.94zm-11 1L8.5 8.5l.94-2.06 2.06-.94-2.06-.94L8.5 2.5l-.94 2.06-2.06.94zm10 10l.94 2.06.94-2.06 2.06-.94-2.06-.94-.94-2.06-.94 2.06-2.06.94z\"/><path d=\"M17.41 7.96l-1.37-1.37c-.4-.4-.92-.59-1.43-.59-.52 0-1.04.2-1.43.59L10.3 9.45l-7.72 7.72c-.78.78-.78 2.05 0 2.83L4 21.41c.39.39.9.59 1.41.59.51 0 1.02-.2 1.41-.59l7.78-7.78 2.81-2.81c.8-.78.8-2.07 0-2.86zM5.41 20L4 18.59l7.72-7.72 1.47 1.35L5.41 20z\"/>\n",
              "  </svg>\n",
              "      </button>\n",
              "      \n",
              "  <style>\n",
              "    .colab-df-container {\n",
              "      display:flex;\n",
              "      flex-wrap:wrap;\n",
              "      gap: 12px;\n",
              "    }\n",
              "\n",
              "    .colab-df-convert {\n",
              "      background-color: #E8F0FE;\n",
              "      border: none;\n",
              "      border-radius: 50%;\n",
              "      cursor: pointer;\n",
              "      display: none;\n",
              "      fill: #1967D2;\n",
              "      height: 32px;\n",
              "      padding: 0 0 0 0;\n",
              "      width: 32px;\n",
              "    }\n",
              "\n",
              "    .colab-df-convert:hover {\n",
              "      background-color: #E2EBFA;\n",
              "      box-shadow: 0px 1px 2px rgba(60, 64, 67, 0.3), 0px 1px 3px 1px rgba(60, 64, 67, 0.15);\n",
              "      fill: #174EA6;\n",
              "    }\n",
              "\n",
              "    [theme=dark] .colab-df-convert {\n",
              "      background-color: #3B4455;\n",
              "      fill: #D2E3FC;\n",
              "    }\n",
              "\n",
              "    [theme=dark] .colab-df-convert:hover {\n",
              "      background-color: #434B5C;\n",
              "      box-shadow: 0px 1px 3px 1px rgba(0, 0, 0, 0.15);\n",
              "      filter: drop-shadow(0px 1px 2px rgba(0, 0, 0, 0.3));\n",
              "      fill: #FFFFFF;\n",
              "    }\n",
              "  </style>\n",
              "\n",
              "      <script>\n",
              "        const buttonEl =\n",
              "          document.querySelector('#df-87d6b72b-9e88-466c-918f-bededbff325e button.colab-df-convert');\n",
              "        buttonEl.style.display =\n",
              "          google.colab.kernel.accessAllowed ? 'block' : 'none';\n",
              "\n",
              "        async function convertToInteractive(key) {\n",
              "          const element = document.querySelector('#df-87d6b72b-9e88-466c-918f-bededbff325e');\n",
              "          const dataTable =\n",
              "            await google.colab.kernel.invokeFunction('convertToInteractive',\n",
              "                                                     [key], {});\n",
              "          if (!dataTable) return;\n",
              "\n",
              "          const docLinkHtml = 'Like what you see? Visit the ' +\n",
              "            '<a target=\"_blank\" href=https://colab.research.google.com/notebooks/data_table.ipynb>data table notebook</a>'\n",
              "            + ' to learn more about interactive tables.';\n",
              "          element.innerHTML = '';\n",
              "          dataTable['output_type'] = 'display_data';\n",
              "          await google.colab.output.renderOutput(dataTable, element);\n",
              "          const docLink = document.createElement('div');\n",
              "          docLink.innerHTML = docLinkHtml;\n",
              "          element.appendChild(docLink);\n",
              "        }\n",
              "      </script>\n",
              "    </div>\n",
              "  </div>\n",
              "  "
            ]
          },
          "metadata": {},
          "execution_count": 19
        }
      ]
    },
    {
      "cell_type": "code",
      "source": [
        "# Or use the agg method.\n",
        "titanic.groupby(['Pclass','Sex']).agg(['mean', 'count'])"
      ],
      "metadata": {
        "id": "VFNTx8Q9oJWF",
        "outputId": "1d2f8d9a-20a9-4126-bdb3-ba44604a616f",
        "colab": {
          "base_uri": "https://localhost:8080/",
          "height": 300
        }
      },
      "execution_count": 20,
      "outputs": [
        {
          "output_type": "execute_result",
          "data": {
            "text/plain": [
              "              PassengerId        Survived              Age           SibSp  \\\n",
              "                     mean count      mean count       mean count      mean   \n",
              "Pclass Sex                                                                   \n",
              "1      female  469.212766    94  0.968085    94  34.611765    85  0.553191   \n",
              "       male    455.729508   122  0.368852   122  41.281386   101  0.311475   \n",
              "2      female  443.105263    76  0.921053    76  28.722973    74  0.486842   \n",
              "       male    447.962963   108  0.157407   108  30.740707    99  0.342593   \n",
              "3      female  399.729167   144  0.500000   144  21.750000   102  0.895833   \n",
              "       male    455.515850   347  0.135447   347  26.507589   253  0.498559   \n",
              "\n",
              "                        Parch              Fare        \n",
              "              count      mean count        mean count  \n",
              "Pclass Sex                                             \n",
              "1      female    94  0.457447    94  106.125798    94  \n",
              "       male     122  0.278689   122   67.226127   122  \n",
              "2      female    76  0.605263    76   21.970121    76  \n",
              "       male     108  0.222222   108   19.741782   108  \n",
              "3      female   144  0.798611   144   16.118810   144  \n",
              "       male     347  0.224784   347   12.661633   347  "
            ],
            "text/html": [
              "\n",
              "  <div id=\"df-defe172e-0e10-4449-abbd-3ed6fd34da98\">\n",
              "    <div class=\"colab-df-container\">\n",
              "      <div>\n",
              "<style scoped>\n",
              "    .dataframe tbody tr th:only-of-type {\n",
              "        vertical-align: middle;\n",
              "    }\n",
              "\n",
              "    .dataframe tbody tr th {\n",
              "        vertical-align: top;\n",
              "    }\n",
              "\n",
              "    .dataframe thead tr th {\n",
              "        text-align: left;\n",
              "    }\n",
              "\n",
              "    .dataframe thead tr:last-of-type th {\n",
              "        text-align: right;\n",
              "    }\n",
              "</style>\n",
              "<table border=\"1\" class=\"dataframe\">\n",
              "  <thead>\n",
              "    <tr>\n",
              "      <th></th>\n",
              "      <th></th>\n",
              "      <th colspan=\"2\" halign=\"left\">PassengerId</th>\n",
              "      <th colspan=\"2\" halign=\"left\">Survived</th>\n",
              "      <th colspan=\"2\" halign=\"left\">Age</th>\n",
              "      <th colspan=\"2\" halign=\"left\">SibSp</th>\n",
              "      <th colspan=\"2\" halign=\"left\">Parch</th>\n",
              "      <th colspan=\"2\" halign=\"left\">Fare</th>\n",
              "    </tr>\n",
              "    <tr>\n",
              "      <th></th>\n",
              "      <th></th>\n",
              "      <th>mean</th>\n",
              "      <th>count</th>\n",
              "      <th>mean</th>\n",
              "      <th>count</th>\n",
              "      <th>mean</th>\n",
              "      <th>count</th>\n",
              "      <th>mean</th>\n",
              "      <th>count</th>\n",
              "      <th>mean</th>\n",
              "      <th>count</th>\n",
              "      <th>mean</th>\n",
              "      <th>count</th>\n",
              "    </tr>\n",
              "    <tr>\n",
              "      <th>Pclass</th>\n",
              "      <th>Sex</th>\n",
              "      <th></th>\n",
              "      <th></th>\n",
              "      <th></th>\n",
              "      <th></th>\n",
              "      <th></th>\n",
              "      <th></th>\n",
              "      <th></th>\n",
              "      <th></th>\n",
              "      <th></th>\n",
              "      <th></th>\n",
              "      <th></th>\n",
              "      <th></th>\n",
              "    </tr>\n",
              "  </thead>\n",
              "  <tbody>\n",
              "    <tr>\n",
              "      <th rowspan=\"2\" valign=\"top\">1</th>\n",
              "      <th>female</th>\n",
              "      <td>469.212766</td>\n",
              "      <td>94</td>\n",
              "      <td>0.968085</td>\n",
              "      <td>94</td>\n",
              "      <td>34.611765</td>\n",
              "      <td>85</td>\n",
              "      <td>0.553191</td>\n",
              "      <td>94</td>\n",
              "      <td>0.457447</td>\n",
              "      <td>94</td>\n",
              "      <td>106.125798</td>\n",
              "      <td>94</td>\n",
              "    </tr>\n",
              "    <tr>\n",
              "      <th>male</th>\n",
              "      <td>455.729508</td>\n",
              "      <td>122</td>\n",
              "      <td>0.368852</td>\n",
              "      <td>122</td>\n",
              "      <td>41.281386</td>\n",
              "      <td>101</td>\n",
              "      <td>0.311475</td>\n",
              "      <td>122</td>\n",
              "      <td>0.278689</td>\n",
              "      <td>122</td>\n",
              "      <td>67.226127</td>\n",
              "      <td>122</td>\n",
              "    </tr>\n",
              "    <tr>\n",
              "      <th rowspan=\"2\" valign=\"top\">2</th>\n",
              "      <th>female</th>\n",
              "      <td>443.105263</td>\n",
              "      <td>76</td>\n",
              "      <td>0.921053</td>\n",
              "      <td>76</td>\n",
              "      <td>28.722973</td>\n",
              "      <td>74</td>\n",
              "      <td>0.486842</td>\n",
              "      <td>76</td>\n",
              "      <td>0.605263</td>\n",
              "      <td>76</td>\n",
              "      <td>21.970121</td>\n",
              "      <td>76</td>\n",
              "    </tr>\n",
              "    <tr>\n",
              "      <th>male</th>\n",
              "      <td>447.962963</td>\n",
              "      <td>108</td>\n",
              "      <td>0.157407</td>\n",
              "      <td>108</td>\n",
              "      <td>30.740707</td>\n",
              "      <td>99</td>\n",
              "      <td>0.342593</td>\n",
              "      <td>108</td>\n",
              "      <td>0.222222</td>\n",
              "      <td>108</td>\n",
              "      <td>19.741782</td>\n",
              "      <td>108</td>\n",
              "    </tr>\n",
              "    <tr>\n",
              "      <th rowspan=\"2\" valign=\"top\">3</th>\n",
              "      <th>female</th>\n",
              "      <td>399.729167</td>\n",
              "      <td>144</td>\n",
              "      <td>0.500000</td>\n",
              "      <td>144</td>\n",
              "      <td>21.750000</td>\n",
              "      <td>102</td>\n",
              "      <td>0.895833</td>\n",
              "      <td>144</td>\n",
              "      <td>0.798611</td>\n",
              "      <td>144</td>\n",
              "      <td>16.118810</td>\n",
              "      <td>144</td>\n",
              "    </tr>\n",
              "    <tr>\n",
              "      <th>male</th>\n",
              "      <td>455.515850</td>\n",
              "      <td>347</td>\n",
              "      <td>0.135447</td>\n",
              "      <td>347</td>\n",
              "      <td>26.507589</td>\n",
              "      <td>253</td>\n",
              "      <td>0.498559</td>\n",
              "      <td>347</td>\n",
              "      <td>0.224784</td>\n",
              "      <td>347</td>\n",
              "      <td>12.661633</td>\n",
              "      <td>347</td>\n",
              "    </tr>\n",
              "  </tbody>\n",
              "</table>\n",
              "</div>\n",
              "      <button class=\"colab-df-convert\" onclick=\"convertToInteractive('df-defe172e-0e10-4449-abbd-3ed6fd34da98')\"\n",
              "              title=\"Convert this dataframe to an interactive table.\"\n",
              "              style=\"display:none;\">\n",
              "        \n",
              "  <svg xmlns=\"http://www.w3.org/2000/svg\" height=\"24px\"viewBox=\"0 0 24 24\"\n",
              "       width=\"24px\">\n",
              "    <path d=\"M0 0h24v24H0V0z\" fill=\"none\"/>\n",
              "    <path d=\"M18.56 5.44l.94 2.06.94-2.06 2.06-.94-2.06-.94-.94-2.06-.94 2.06-2.06.94zm-11 1L8.5 8.5l.94-2.06 2.06-.94-2.06-.94L8.5 2.5l-.94 2.06-2.06.94zm10 10l.94 2.06.94-2.06 2.06-.94-2.06-.94-.94-2.06-.94 2.06-2.06.94z\"/><path d=\"M17.41 7.96l-1.37-1.37c-.4-.4-.92-.59-1.43-.59-.52 0-1.04.2-1.43.59L10.3 9.45l-7.72 7.72c-.78.78-.78 2.05 0 2.83L4 21.41c.39.39.9.59 1.41.59.51 0 1.02-.2 1.41-.59l7.78-7.78 2.81-2.81c.8-.78.8-2.07 0-2.86zM5.41 20L4 18.59l7.72-7.72 1.47 1.35L5.41 20z\"/>\n",
              "  </svg>\n",
              "      </button>\n",
              "      \n",
              "  <style>\n",
              "    .colab-df-container {\n",
              "      display:flex;\n",
              "      flex-wrap:wrap;\n",
              "      gap: 12px;\n",
              "    }\n",
              "\n",
              "    .colab-df-convert {\n",
              "      background-color: #E8F0FE;\n",
              "      border: none;\n",
              "      border-radius: 50%;\n",
              "      cursor: pointer;\n",
              "      display: none;\n",
              "      fill: #1967D2;\n",
              "      height: 32px;\n",
              "      padding: 0 0 0 0;\n",
              "      width: 32px;\n",
              "    }\n",
              "\n",
              "    .colab-df-convert:hover {\n",
              "      background-color: #E2EBFA;\n",
              "      box-shadow: 0px 1px 2px rgba(60, 64, 67, 0.3), 0px 1px 3px 1px rgba(60, 64, 67, 0.15);\n",
              "      fill: #174EA6;\n",
              "    }\n",
              "\n",
              "    [theme=dark] .colab-df-convert {\n",
              "      background-color: #3B4455;\n",
              "      fill: #D2E3FC;\n",
              "    }\n",
              "\n",
              "    [theme=dark] .colab-df-convert:hover {\n",
              "      background-color: #434B5C;\n",
              "      box-shadow: 0px 1px 3px 1px rgba(0, 0, 0, 0.15);\n",
              "      filter: drop-shadow(0px 1px 2px rgba(0, 0, 0, 0.3));\n",
              "      fill: #FFFFFF;\n",
              "    }\n",
              "  </style>\n",
              "\n",
              "      <script>\n",
              "        const buttonEl =\n",
              "          document.querySelector('#df-defe172e-0e10-4449-abbd-3ed6fd34da98 button.colab-df-convert');\n",
              "        buttonEl.style.display =\n",
              "          google.colab.kernel.accessAllowed ? 'block' : 'none';\n",
              "\n",
              "        async function convertToInteractive(key) {\n",
              "          const element = document.querySelector('#df-defe172e-0e10-4449-abbd-3ed6fd34da98');\n",
              "          const dataTable =\n",
              "            await google.colab.kernel.invokeFunction('convertToInteractive',\n",
              "                                                     [key], {});\n",
              "          if (!dataTable) return;\n",
              "\n",
              "          const docLinkHtml = 'Like what you see? Visit the ' +\n",
              "            '<a target=\"_blank\" href=https://colab.research.google.com/notebooks/data_table.ipynb>data table notebook</a>'\n",
              "            + ' to learn more about interactive tables.';\n",
              "          element.innerHTML = '';\n",
              "          dataTable['output_type'] = 'display_data';\n",
              "          await google.colab.output.renderOutput(dataTable, element);\n",
              "          const docLink = document.createElement('div');\n",
              "          docLink.innerHTML = docLinkHtml;\n",
              "          element.appendChild(docLink);\n",
              "        }\n",
              "      </script>\n",
              "    </div>\n",
              "  </div>\n",
              "  "
            ]
          },
          "metadata": {},
          "execution_count": 20
        }
      ]
    },
    {
      "cell_type": "markdown",
      "source": [
        "## como ver si un dataframe esta vacío y general un mensaje. "
      ],
      "metadata": {
        "id": "rfcBBOxrokOn"
      }
    },
    {
      "cell_type": "code",
      "source": [
        ""
      ],
      "metadata": {
        "id": "JrRfrmlkoSyg"
      },
      "execution_count": null,
      "outputs": []
    }
  ]
}