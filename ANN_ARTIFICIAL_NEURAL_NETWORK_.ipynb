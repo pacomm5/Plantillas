{
  "cells": [
    {
      "cell_type": "markdown",
      "metadata": {
        "id": "view-in-github",
        "colab_type": "text"
      },
      "source": [
        "<a href=\"https://colab.research.google.com/github/pacomm5/Plantillas/blob/main/ANN_ARTIFICIAL_NEURAL_NETWORK_.ipynb\" target=\"_parent\"><img src=\"https://colab.research.google.com/assets/colab-badge.svg\" alt=\"Open In Colab\"/></a>"
      ]
    },
    {
      "cell_type": "markdown",
      "metadata": {
        "id": "KdUFcDsdzRyw"
      },
      "source": [
        "# Clonamos el repositorio para obtener los dataSet"
      ]
    },
    {
      "cell_type": "code",
      "execution_count": null,
      "metadata": {
        "id": "mHReFf3_y9ms"
      },
      "outputs": [],
      "source": [
        "!git clone https://github.com/joanby/machinelearning-az.git"
      ]
    },
    {
      "cell_type": "markdown",
      "metadata": {
        "id": "vNKZXgtKzU2x"
      },
      "source": [
        "# Damos acceso a nuestro Drive"
      ]
    },
    {
      "cell_type": "code",
      "execution_count": null,
      "metadata": {
        "id": "5gu7KWnzzUQ0"
      },
      "outputs": [],
      "source": [
        "from google.colab import drive\n",
        "drive.mount('/content/drive')"
      ]
    },
    {
      "cell_type": "markdown",
      "metadata": {
        "id": "1gUxIkHWzfHV"
      },
      "source": [
        "# Test it"
      ]
    },
    {
      "cell_type": "code",
      "execution_count": null,
      "metadata": {
        "id": "mIQt3jBMzYRE"
      },
      "outputs": [],
      "source": [
        "!ls '/content/drive/My Drive' "
      ]
    },
    {
      "cell_type": "markdown",
      "metadata": {
        "id": "mHsK36uN0XB-"
      },
      "source": [
        "# Google colab tools"
      ]
    },
    {
      "cell_type": "code",
      "execution_count": null,
      "metadata": {
        "id": "kTzwfUPWzrm4"
      },
      "outputs": [],
      "source": [
        "from google.colab import files # Para manejar los archivos y, por ejemplo, exportar a su navegador\n",
        "import glob # Para manejar los archivos y, por ejemplo, exportar a su navegador\n",
        "from google.colab import drive # Montar tu Google drive"
      ]
    },
    {
      "cell_type": "markdown",
      "metadata": {
        "id": "uab9OAbV8hYN"
      },
      "source": [
        "# Instalar dependendias"
      ]
    },
    {
      "cell_type": "code",
      "execution_count": null,
      "metadata": {
        "id": "qukjDgj98kE4"
      },
      "outputs": [],
      "source": [
        "!pip install sklearn"
      ]
    },
    {
      "cell_type": "markdown",
      "metadata": {
        "id": "3CGi-WTu_dlK"
      },
      "source": [
        "# Instalar Theano"
      ]
    },
    {
      "cell_type": "code",
      "execution_count": null,
      "metadata": {
        "id": "d5lGNNKu_dlK"
      },
      "outputs": [],
      "source": [
        "!pip install --upgrade --no-deps git+git://github.com/Theano/Theano.git"
      ]
    },
    {
      "cell_type": "markdown",
      "metadata": {
        "id": "ZTScmVty_dlK"
      },
      "source": [
        "# Instalar Tensorflow y Keras\n"
      ]
    },
    {
      "cell_type": "code",
      "execution_count": null,
      "metadata": {
        "id": "nTdaNrx9_dlL"
      },
      "outputs": [],
      "source": [
        "!pip install keras\n",
        "!pip install tensorflow"
      ]
    },
    {
      "cell_type": "markdown",
      "metadata": {
        "id": "3yFpBwmNz70v"
      },
      "source": [
        "# Redes Neuronales Artificales"
      ]
    },
    {
      "cell_type": "markdown",
      "metadata": {
        "id": "v8OxSXXSz-OP"
      },
      "source": [
        "# Cómo importar las librerías\n"
      ]
    },
    {
      "cell_type": "code",
      "execution_count": null,
      "metadata": {
        "id": "edZX51YLzs59"
      },
      "outputs": [],
      "source": [
        "import numpy as np\n",
        "import matplotlib.pyplot as plt\n",
        "import pandas as pd"
      ]
    },
    {
      "cell_type": "markdown",
      "metadata": {
        "id": "8XfXlqtF0B58"
      },
      "source": [
        "# Importar el data set\n"
      ]
    },
    {
      "cell_type": "code",
      "execution_count": null,
      "metadata": {
        "id": "-nnozsHsz_-N"
      },
      "outputs": [],
      "source": [
        "dataset = pd.read_csv('/content/machinelearning-az/datasets/Part 8 - Deep Learning/Section 39 - Artificial Neural Networks (ANN)/Churn_Modelling.csv')\n",
        "X = dataset.iloc[:, 3:13].values\n",
        "y = dataset.iloc[:, 13].values"
      ]
    },
    {
      "cell_type": "markdown",
      "metadata": {
        "id": "Z6aLppcY_dlN"
      },
      "source": [
        "# Parte 1 - Pre procesado de datos"
      ]
    },
    {
      "cell_type": "markdown",
      "metadata": {
        "id": "SsVEdPzf4XmV"
      },
      "source": [
        "# Codificar datos categóricos"
      ]
    },
    {
      "cell_type": "code",
      "execution_count": null,
      "metadata": {
        "id": "v9CtwK834bjy"
      },
      "outputs": [],
      "source": [
        "from sklearn.preprocessing import LabelEncoder, OneHotEncoder\n",
        "from sklearn.compose import ColumnTransformer\n",
        "\n",
        "labelencoder_X_1 = LabelEncoder()\n",
        "X[:, 1] = labelencoder_X_1.fit_transform(X[:, 1])\n",
        "labelencoder_X_2 = LabelEncoder()\n",
        "X[:, 2] = labelencoder_X_2.fit_transform(X[:, 2])\n",
        "onehotencoder = ColumnTransformer(\n",
        "    [('one_hot_encoder', OneHotEncoder(categories='auto'), [1])],   \n",
        "    remainder='passthrough'                        \n",
        ")\n",
        "X = onehotencoder.fit_transform(X)\n",
        "X = X[:, 1:]"
      ]
    },
    {
      "cell_type": "markdown",
      "metadata": {
        "id": "5AH_uCEz68rb"
      },
      "source": [
        "# Dividir el data set en conjunto de entrenamiento y conjunto de testing"
      ]
    },
    {
      "cell_type": "code",
      "execution_count": null,
      "metadata": {
        "id": "oeuAy8LI69vi"
      },
      "outputs": [],
      "source": [
        "from sklearn.model_selection import train_test_split\n",
        "X_train, X_test, y_train, y_test = train_test_split(X, y, test_size = 0.2, random_state = 0)"
      ]
    },
    {
      "cell_type": "markdown",
      "metadata": {
        "id": "huHQWDYr_dlO"
      },
      "source": [
        "# Escalado de variables"
      ]
    },
    {
      "cell_type": "code",
      "execution_count": null,
      "metadata": {
        "id": "ML4TqxPC_dlP"
      },
      "outputs": [],
      "source": [
        "from sklearn.preprocessing import StandardScaler\n",
        "sc_X = StandardScaler()\n",
        "X_train = sc_X.fit_transform(X_train)\n",
        "X_test = sc_X.transform(X_test)"
      ]
    },
    {
      "cell_type": "markdown",
      "metadata": {
        "id": "cgweTaJ67BOB"
      },
      "source": [
        "# Parte 2 - Construir la RNA"
      ]
    },
    {
      "cell_type": "markdown",
      "metadata": {
        "id": "MW7otBSV_dlP"
      },
      "source": [
        "# Importar Keras y librerías adicionales\n"
      ]
    },
    {
      "cell_type": "code",
      "execution_count": null,
      "metadata": {
        "id": "sKdCWcJs_dlP"
      },
      "outputs": [],
      "source": [
        "import keras\n",
        "from keras.models import Sequential\n",
        "from keras.layers import Dense"
      ]
    },
    {
      "cell_type": "markdown",
      "metadata": {
        "id": "rY8MFN-G_dlQ"
      },
      "source": [
        "# Inicializar la RNA"
      ]
    },
    {
      "cell_type": "code",
      "execution_count": null,
      "metadata": {
        "id": "1xQLLqjH_dlQ"
      },
      "outputs": [],
      "source": [
        "classifier = Sequential()"
      ]
    },
    {
      "cell_type": "markdown",
      "metadata": {
        "id": "P0i7wepl_dlQ"
      },
      "source": [
        "# Añadir las capas de entrada y primera capa oculta\n"
      ]
    },
    {
      "cell_type": "code",
      "execution_count": null,
      "metadata": {
        "id": "jcjGYdm9_dlQ"
      },
      "outputs": [],
      "source": [
        "classifier.add(Dense(units = 6, kernel_initializer = \"uniform\",  \n",
        "                     activation = \"relu\", input_dim = 11))"
      ]
    },
    {
      "cell_type": "markdown",
      "metadata": {
        "id": "4Ykd9xfL_dlQ"
      },
      "source": [
        "# Añadir la segunda capa oculta"
      ]
    },
    {
      "cell_type": "code",
      "execution_count": null,
      "metadata": {
        "id": "iUkcgFjj_dlR"
      },
      "outputs": [],
      "source": [
        "classifier.add(Dense(units = 6, kernel_initializer = \"uniform\",  activation = \"relu\"))"
      ]
    },
    {
      "cell_type": "markdown",
      "metadata": {
        "id": "qT5WRAP1_dlR"
      },
      "source": [
        "# Añadir la capa de salida"
      ]
    },
    {
      "cell_type": "code",
      "execution_count": null,
      "metadata": {
        "id": "iKcfjgIU_dlR"
      },
      "outputs": [],
      "source": [
        "classifier.add(Dense(units = 1, kernel_initializer = \"uniform\",  activation = \"sigmoid\"))"
      ]
    },
    {
      "cell_type": "markdown",
      "metadata": {
        "id": "FXbd6n1B_dlS"
      },
      "source": [
        "# Compilar la RNA"
      ]
    },
    {
      "cell_type": "code",
      "execution_count": null,
      "metadata": {
        "id": "HvfmmjcQ_dlT"
      },
      "outputs": [],
      "source": [
        "classifier.compile(optimizer = \"adam\", loss = \"binary_crossentropy\", metrics = [\"accuracy\"])"
      ]
    },
    {
      "cell_type": "markdown",
      "metadata": {
        "id": "L1e9VFY0_dlT"
      },
      "source": [
        "# Ajustamos la RNA al Conjunto de Entrenamiento"
      ]
    },
    {
      "cell_type": "code",
      "execution_count": null,
      "metadata": {
        "id": "aD9A89qL_dlT"
      },
      "outputs": [],
      "source": [
        "classifier.fit(X_train, y_train,  batch_size = 10, epochs = 100)"
      ]
    },
    {
      "cell_type": "markdown",
      "metadata": {
        "id": "aLidSote_dlU"
      },
      "source": [
        "# Parte 3 - Evaluar el modelo y calcular predicciones finales"
      ]
    },
    {
      "cell_type": "markdown",
      "metadata": {
        "id": "b-r-zSxY_dlU"
      },
      "source": [
        "# Predicción de los resultados con el Conjunto de Testing"
      ]
    },
    {
      "cell_type": "code",
      "execution_count": null,
      "metadata": {
        "id": "dNhQ-Ua4_dlU"
      },
      "outputs": [],
      "source": [
        "y_pred  = classifier.predict(X_test)\n",
        "y_pred = (y_pred>0.5)"
      ]
    },
    {
      "cell_type": "markdown",
      "metadata": {
        "id": "m9wsqF2F_dlU"
      },
      "source": [
        "# Elaborar una matriz de confusión"
      ]
    },
    {
      "cell_type": "code",
      "execution_count": null,
      "metadata": {
        "id": "3X6iQmzQ_dlV"
      },
      "outputs": [],
      "source": [
        "from sklearn.metrics import confusion_matrix\n",
        "cm = confusion_matrix(y_test, y_pred)"
      ]
    }
  ],
  "metadata": {
    "colab": {
      "collapsed_sections": [],
      "name": "ANN ARTIFICIAL NEURAL NETWORK .ipynb",
      "provenance": [],
      "toc_visible": true,
      "include_colab_link": true
    },
    "kernelspec": {
      "display_name": "Python 3",
      "language": "python",
      "name": "python3"
    },
    "language_info": {
      "codemirror_mode": {
        "name": "ipython",
        "version": 3
      },
      "file_extension": ".py",
      "mimetype": "text/x-python",
      "name": "python",
      "nbconvert_exporter": "python",
      "pygments_lexer": "ipython3",
      "version": "3.8.3"
    }
  },
  "nbformat": 4,
  "nbformat_minor": 0
}