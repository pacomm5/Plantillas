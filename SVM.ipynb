{
  "cells": [
    {
      "cell_type": "markdown",
      "metadata": {
        "id": "view-in-github",
        "colab_type": "text"
      },
      "source": [
        "<a href=\"https://colab.research.google.com/github/pacomm5/Plantillas/blob/main/SVM.ipynb\" target=\"_parent\"><img src=\"https://colab.research.google.com/assets/colab-badge.svg\" alt=\"Open In Colab\"/></a>"
      ]
    },
    {
      "cell_type": "markdown",
      "metadata": {
        "id": "KdUFcDsdzRyw"
      },
      "source": [
        "# Clonamos el repositorio para obtener los dataSet"
      ]
    },
    {
      "cell_type": "code",
      "execution_count": 1,
      "metadata": {
        "id": "mHReFf3_y9ms",
        "colab": {
          "base_uri": "https://localhost:8080/"
        },
        "outputId": "d705711c-5e4b-4d00-ad49-3a475fdcaa79"
      },
      "outputs": [
        {
          "output_type": "stream",
          "name": "stdout",
          "text": [
            "Cloning into 'machinelearning-az'...\n",
            "remote: Enumerating objects: 10541, done.\u001b[K\n",
            "remote: Counting objects: 100% (36/36), done.\u001b[K\n",
            "remote: Compressing objects: 100% (36/36), done.\u001b[K\n",
            "remote: Total 10541 (delta 25), reused 0 (delta 0), pack-reused 10505\u001b[K\n",
            "Receiving objects: 100% (10541/10541), 311.58 MiB | 20.17 MiB/s, done.\n",
            "Resolving deltas: 100% (245/245), done.\n",
            "Checking out files: 100% (10250/10250), done.\n"
          ]
        }
      ],
      "source": [
        "#!git clone https://github.com/joanby/machinelearning-az.git\n",
        "! git clone https://github.com/pacomm5/machinelearning-az #"
      ]
    },
    {
      "cell_type": "markdown",
      "metadata": {
        "id": "vNKZXgtKzU2x"
      },
      "source": [
        "# Damos acceso a nuestro Drive"
      ]
    },
    {
      "cell_type": "code",
      "execution_count": 2,
      "metadata": {
        "id": "5gu7KWnzzUQ0",
        "colab": {
          "base_uri": "https://localhost:8080/"
        },
        "outputId": "340d33e5-cae4-4652-97f7-4b844508fab6"
      },
      "outputs": [
        {
          "output_type": "stream",
          "name": "stdout",
          "text": [
            "Mounted at /content/drive\n"
          ]
        }
      ],
      "source": [
        "from google.colab import drive\n",
        "drive.mount('/content/drive')"
      ]
    },
    {
      "cell_type": "markdown",
      "metadata": {
        "id": "1gUxIkHWzfHV"
      },
      "source": [
        "# Test it"
      ]
    },
    {
      "cell_type": "code",
      "execution_count": null,
      "metadata": {
        "id": "mIQt3jBMzYRE"
      },
      "outputs": [],
      "source": [
        "!ls '/content/drive/My Drive' "
      ]
    },
    {
      "cell_type": "markdown",
      "metadata": {
        "id": "mHsK36uN0XB-"
      },
      "source": [
        "# Google colab tools"
      ]
    },
    {
      "cell_type": "code",
      "execution_count": 4,
      "metadata": {
        "id": "kTzwfUPWzrm4"
      },
      "outputs": [],
      "source": [
        "from google.colab import files # Para manejar los archivos y, por ejemplo, exportar a su navegador\n",
        "import glob # Para manejar los archivos y, por ejemplo, exportar a su navegador\n",
        "from google.colab import drive # Montar tu Google drive"
      ]
    },
    {
      "cell_type": "markdown",
      "metadata": {
        "id": "uab9OAbV8hYN"
      },
      "source": [
        "# Instalar dependendias"
      ]
    },
    {
      "cell_type": "code",
      "execution_count": 5,
      "metadata": {
        "id": "qukjDgj98kE4",
        "colab": {
          "base_uri": "https://localhost:8080/"
        },
        "outputId": "2ae40b6f-83fb-422a-c345-6f66488cec56"
      },
      "outputs": [
        {
          "output_type": "stream",
          "name": "stdout",
          "text": [
            "Requirement already satisfied: sklearn in /usr/local/lib/python3.7/dist-packages (0.0)\n",
            "Requirement already satisfied: scikit-learn in /usr/local/lib/python3.7/dist-packages (from sklearn) (1.0.2)\n",
            "Requirement already satisfied: scipy>=1.1.0 in /usr/local/lib/python3.7/dist-packages (from scikit-learn->sklearn) (1.4.1)\n",
            "Requirement already satisfied: threadpoolctl>=2.0.0 in /usr/local/lib/python3.7/dist-packages (from scikit-learn->sklearn) (3.1.0)\n",
            "Requirement already satisfied: joblib>=0.11 in /usr/local/lib/python3.7/dist-packages (from scikit-learn->sklearn) (1.1.0)\n",
            "Requirement already satisfied: numpy>=1.14.6 in /usr/local/lib/python3.7/dist-packages (from scikit-learn->sklearn) (1.21.5)\n"
          ]
        }
      ],
      "source": [
        "!pip install sklearn"
      ]
    },
    {
      "cell_type": "markdown",
      "metadata": {
        "id": "3yFpBwmNz70v"
      },
      "source": [
        "# SVM"
      ]
    },
    {
      "cell_type": "markdown",
      "metadata": {
        "id": "v8OxSXXSz-OP"
      },
      "source": [
        "# Cómo importar las librerías\n"
      ]
    },
    {
      "cell_type": "code",
      "execution_count": 6,
      "metadata": {
        "id": "edZX51YLzs59"
      },
      "outputs": [],
      "source": [
        "import numpy as np\n",
        "import matplotlib.pyplot as plt\n",
        "import pandas as pd"
      ]
    },
    {
      "cell_type": "markdown",
      "metadata": {
        "id": "8XfXlqtF0B58"
      },
      "source": [
        "# Importar el data set\n"
      ]
    },
    {
      "cell_type": "code",
      "execution_count": 8,
      "metadata": {
        "id": "-nnozsHsz_-N"
      },
      "outputs": [],
      "source": [
        "dataset = pd.read_csv('/content/machinelearning-az/datasets/Part 3 - Classification/Section 16 - Support Vector Machine (SVM)/Social_Network_Ads.csv')\n"
      ]
    },
    {
      "cell_type": "code",
      "source": [
        "dataset.head(5)"
      ],
      "metadata": {
        "colab": {
          "base_uri": "https://localhost:8080/",
          "height": 201
        },
        "id": "QQbaHebL4X9F",
        "outputId": "05ffec48-67c8-4731-bdf5-f309579f76a9"
      },
      "execution_count": 9,
      "outputs": [
        {
          "output_type": "execute_result",
          "data": {
            "text/plain": [
              "    User ID  Gender   Age  EstimatedSalary  Purchased\n",
              "0  15624510    Male  19.0          19000.0          0\n",
              "1  15810944    Male  35.0          20000.0          0\n",
              "2  15668575  Female  26.0          43000.0          0\n",
              "3  15603246  Female  27.0          57000.0          0\n",
              "4  15804002    Male  19.0          76000.0          0"
            ],
            "text/html": [
              "\n",
              "  <div id=\"df-597cda19-7a63-4c8a-ae48-c7e81506dbf2\">\n",
              "    <div class=\"colab-df-container\">\n",
              "      <div>\n",
              "<style scoped>\n",
              "    .dataframe tbody tr th:only-of-type {\n",
              "        vertical-align: middle;\n",
              "    }\n",
              "\n",
              "    .dataframe tbody tr th {\n",
              "        vertical-align: top;\n",
              "    }\n",
              "\n",
              "    .dataframe thead th {\n",
              "        text-align: right;\n",
              "    }\n",
              "</style>\n",
              "<table border=\"1\" class=\"dataframe\">\n",
              "  <thead>\n",
              "    <tr style=\"text-align: right;\">\n",
              "      <th></th>\n",
              "      <th>User ID</th>\n",
              "      <th>Gender</th>\n",
              "      <th>Age</th>\n",
              "      <th>EstimatedSalary</th>\n",
              "      <th>Purchased</th>\n",
              "    </tr>\n",
              "  </thead>\n",
              "  <tbody>\n",
              "    <tr>\n",
              "      <th>0</th>\n",
              "      <td>15624510</td>\n",
              "      <td>Male</td>\n",
              "      <td>19.0</td>\n",
              "      <td>19000.0</td>\n",
              "      <td>0</td>\n",
              "    </tr>\n",
              "    <tr>\n",
              "      <th>1</th>\n",
              "      <td>15810944</td>\n",
              "      <td>Male</td>\n",
              "      <td>35.0</td>\n",
              "      <td>20000.0</td>\n",
              "      <td>0</td>\n",
              "    </tr>\n",
              "    <tr>\n",
              "      <th>2</th>\n",
              "      <td>15668575</td>\n",
              "      <td>Female</td>\n",
              "      <td>26.0</td>\n",
              "      <td>43000.0</td>\n",
              "      <td>0</td>\n",
              "    </tr>\n",
              "    <tr>\n",
              "      <th>3</th>\n",
              "      <td>15603246</td>\n",
              "      <td>Female</td>\n",
              "      <td>27.0</td>\n",
              "      <td>57000.0</td>\n",
              "      <td>0</td>\n",
              "    </tr>\n",
              "    <tr>\n",
              "      <th>4</th>\n",
              "      <td>15804002</td>\n",
              "      <td>Male</td>\n",
              "      <td>19.0</td>\n",
              "      <td>76000.0</td>\n",
              "      <td>0</td>\n",
              "    </tr>\n",
              "  </tbody>\n",
              "</table>\n",
              "</div>\n",
              "      <button class=\"colab-df-convert\" onclick=\"convertToInteractive('df-597cda19-7a63-4c8a-ae48-c7e81506dbf2')\"\n",
              "              title=\"Convert this dataframe to an interactive table.\"\n",
              "              style=\"display:none;\">\n",
              "        \n",
              "  <svg xmlns=\"http://www.w3.org/2000/svg\" height=\"24px\"viewBox=\"0 0 24 24\"\n",
              "       width=\"24px\">\n",
              "    <path d=\"M0 0h24v24H0V0z\" fill=\"none\"/>\n",
              "    <path d=\"M18.56 5.44l.94 2.06.94-2.06 2.06-.94-2.06-.94-.94-2.06-.94 2.06-2.06.94zm-11 1L8.5 8.5l.94-2.06 2.06-.94-2.06-.94L8.5 2.5l-.94 2.06-2.06.94zm10 10l.94 2.06.94-2.06 2.06-.94-2.06-.94-.94-2.06-.94 2.06-2.06.94z\"/><path d=\"M17.41 7.96l-1.37-1.37c-.4-.4-.92-.59-1.43-.59-.52 0-1.04.2-1.43.59L10.3 9.45l-7.72 7.72c-.78.78-.78 2.05 0 2.83L4 21.41c.39.39.9.59 1.41.59.51 0 1.02-.2 1.41-.59l7.78-7.78 2.81-2.81c.8-.78.8-2.07 0-2.86zM5.41 20L4 18.59l7.72-7.72 1.47 1.35L5.41 20z\"/>\n",
              "  </svg>\n",
              "      </button>\n",
              "      \n",
              "  <style>\n",
              "    .colab-df-container {\n",
              "      display:flex;\n",
              "      flex-wrap:wrap;\n",
              "      gap: 12px;\n",
              "    }\n",
              "\n",
              "    .colab-df-convert {\n",
              "      background-color: #E8F0FE;\n",
              "      border: none;\n",
              "      border-radius: 50%;\n",
              "      cursor: pointer;\n",
              "      display: none;\n",
              "      fill: #1967D2;\n",
              "      height: 32px;\n",
              "      padding: 0 0 0 0;\n",
              "      width: 32px;\n",
              "    }\n",
              "\n",
              "    .colab-df-convert:hover {\n",
              "      background-color: #E2EBFA;\n",
              "      box-shadow: 0px 1px 2px rgba(60, 64, 67, 0.3), 0px 1px 3px 1px rgba(60, 64, 67, 0.15);\n",
              "      fill: #174EA6;\n",
              "    }\n",
              "\n",
              "    [theme=dark] .colab-df-convert {\n",
              "      background-color: #3B4455;\n",
              "      fill: #D2E3FC;\n",
              "    }\n",
              "\n",
              "    [theme=dark] .colab-df-convert:hover {\n",
              "      background-color: #434B5C;\n",
              "      box-shadow: 0px 1px 3px 1px rgba(0, 0, 0, 0.15);\n",
              "      filter: drop-shadow(0px 1px 2px rgba(0, 0, 0, 0.3));\n",
              "      fill: #FFFFFF;\n",
              "    }\n",
              "  </style>\n",
              "\n",
              "      <script>\n",
              "        const buttonEl =\n",
              "          document.querySelector('#df-597cda19-7a63-4c8a-ae48-c7e81506dbf2 button.colab-df-convert');\n",
              "        buttonEl.style.display =\n",
              "          google.colab.kernel.accessAllowed ? 'block' : 'none';\n",
              "\n",
              "        async function convertToInteractive(key) {\n",
              "          const element = document.querySelector('#df-597cda19-7a63-4c8a-ae48-c7e81506dbf2');\n",
              "          const dataTable =\n",
              "            await google.colab.kernel.invokeFunction('convertToInteractive',\n",
              "                                                     [key], {});\n",
              "          if (!dataTable) return;\n",
              "\n",
              "          const docLinkHtml = 'Like what you see? Visit the ' +\n",
              "            '<a target=\"_blank\" href=https://colab.research.google.com/notebooks/data_table.ipynb>data table notebook</a>'\n",
              "            + ' to learn more about interactive tables.';\n",
              "          element.innerHTML = '';\n",
              "          dataTable['output_type'] = 'display_data';\n",
              "          await google.colab.output.renderOutput(dataTable, element);\n",
              "          const docLink = document.createElement('div');\n",
              "          docLink.innerHTML = docLinkHtml;\n",
              "          element.appendChild(docLink);\n",
              "        }\n",
              "      </script>\n",
              "    </div>\n",
              "  </div>\n",
              "  "
            ]
          },
          "metadata": {},
          "execution_count": 9
        }
      ]
    },
    {
      "cell_type": "code",
      "source": [
        "X = dataset.iloc[:, [2,3]].values\n",
        "y = dataset.iloc[:, 4].values"
      ],
      "metadata": {
        "id": "6CQGUxnk37Bs"
      },
      "execution_count": 10,
      "outputs": []
    },
    {
      "cell_type": "code",
      "source": [
        "X"
      ],
      "metadata": {
        "colab": {
          "base_uri": "https://localhost:8080/"
        },
        "id": "186ARYaU4dh-",
        "outputId": "07a698b8-28dd-41c9-e000-05613e1cedaa"
      },
      "execution_count": 11,
      "outputs": [
        {
          "output_type": "execute_result",
          "data": {
            "text/plain": [
              "array([[1.90e+01, 1.90e+04],\n",
              "       [3.50e+01, 2.00e+04],\n",
              "       [2.60e+01, 4.30e+04],\n",
              "       [2.70e+01, 5.70e+04],\n",
              "       [1.90e+01, 7.60e+04],\n",
              "       [2.70e+01, 5.80e+04],\n",
              "       [2.70e+01, 8.40e+04],\n",
              "       [3.20e+01, 1.50e+05],\n",
              "       [2.50e+01, 3.30e+04],\n",
              "       [3.50e+01, 6.50e+04],\n",
              "       [2.60e+01, 8.00e+04],\n",
              "       [2.60e+01, 5.20e+04],\n",
              "       [2.00e+01, 8.60e+04],\n",
              "       [3.20e+01, 1.80e+04],\n",
              "       [1.80e+01, 8.20e+04],\n",
              "       [2.90e+01, 8.00e+04],\n",
              "       [4.70e+01, 2.50e+04],\n",
              "       [4.50e+01, 2.60e+04],\n",
              "       [4.60e+01, 2.80e+04],\n",
              "       [4.80e+01, 2.90e+04],\n",
              "       [4.50e+01, 2.20e+04],\n",
              "       [4.70e+01, 4.90e+04],\n",
              "       [4.80e+01, 4.10e+04],\n",
              "       [4.50e+01, 2.20e+04],\n",
              "       [4.60e+01, 2.30e+04],\n",
              "       [4.70e+01, 2.00e+04],\n",
              "       [4.90e+01, 2.80e+04],\n",
              "       [4.70e+01, 3.00e+04],\n",
              "       [2.90e+01, 4.30e+04],\n",
              "       [3.10e+01, 1.80e+04],\n",
              "       [3.10e+01, 7.40e+04],\n",
              "       [2.70e+01, 1.37e+05],\n",
              "       [2.10e+01, 1.60e+04],\n",
              "       [2.80e+01, 4.40e+04],\n",
              "       [2.70e+01, 9.00e+04],\n",
              "       [3.50e+01, 2.70e+04],\n",
              "       [3.30e+01, 2.80e+04],\n",
              "       [3.00e+01, 4.90e+04],\n",
              "       [2.60e+01, 7.20e+04],\n",
              "       [2.70e+01, 3.10e+04],\n",
              "       [2.70e+01, 1.70e+04],\n",
              "       [3.30e+01, 5.10e+04],\n",
              "       [3.50e+01, 1.08e+05],\n",
              "       [3.00e+01, 1.50e+04],\n",
              "       [2.80e+01, 8.40e+04],\n",
              "       [2.30e+01, 2.00e+04],\n",
              "       [2.50e+01, 7.90e+04],\n",
              "       [2.70e+01, 5.40e+04],\n",
              "       [3.00e+01, 1.35e+05],\n",
              "       [3.10e+01, 8.90e+04],\n",
              "       [2.40e+01, 3.20e+04],\n",
              "       [1.80e+01, 4.40e+04],\n",
              "       [2.90e+01, 8.30e+04],\n",
              "       [3.50e+01, 2.30e+04],\n",
              "       [2.70e+01, 5.80e+04],\n",
              "       [2.40e+01, 5.50e+04],\n",
              "       [2.30e+01, 4.80e+04],\n",
              "       [2.80e+01, 7.90e+04],\n",
              "       [2.20e+01, 1.80e+04],\n",
              "       [3.20e+01, 1.17e+05],\n",
              "       [2.70e+01, 2.00e+04],\n",
              "       [2.50e+01, 8.70e+04],\n",
              "       [2.30e+01, 6.60e+04],\n",
              "       [3.20e+01, 1.20e+05],\n",
              "       [5.90e+01, 8.30e+04],\n",
              "       [2.40e+01, 5.80e+04],\n",
              "       [2.40e+01, 1.90e+04],\n",
              "       [2.30e+01, 8.20e+04],\n",
              "       [2.20e+01, 6.30e+04],\n",
              "       [3.10e+01, 6.80e+04],\n",
              "       [2.50e+01, 8.00e+04],\n",
              "       [2.40e+01, 2.70e+04],\n",
              "       [2.00e+01, 2.30e+04],\n",
              "       [3.30e+01, 1.13e+05],\n",
              "       [3.20e+01, 1.80e+04],\n",
              "       [3.40e+01, 1.12e+05],\n",
              "       [1.80e+01, 5.20e+04],\n",
              "       [2.20e+01, 2.70e+04],\n",
              "       [2.80e+01, 8.70e+04],\n",
              "       [2.60e+01, 1.70e+04],\n",
              "       [3.00e+01, 8.00e+04],\n",
              "       [3.90e+01, 4.20e+04],\n",
              "       [2.00e+01, 4.90e+04],\n",
              "       [3.50e+01, 8.80e+04],\n",
              "       [3.00e+01, 6.20e+04],\n",
              "       [3.10e+01, 1.18e+05],\n",
              "       [2.40e+01, 5.50e+04],\n",
              "       [2.80e+01, 8.50e+04],\n",
              "       [2.60e+01, 8.10e+04],\n",
              "       [3.50e+01, 5.00e+04],\n",
              "       [2.20e+01, 8.10e+04],\n",
              "       [3.00e+01, 1.16e+05],\n",
              "       [2.60e+01, 1.50e+04],\n",
              "       [2.90e+01, 2.80e+04],\n",
              "       [2.90e+01, 8.30e+04],\n",
              "       [3.50e+01, 4.40e+04],\n",
              "       [3.50e+01, 2.50e+04],\n",
              "       [2.80e+01, 1.23e+05],\n",
              "       [3.50e+01, 7.30e+04],\n",
              "       [2.80e+01, 3.70e+04],\n",
              "       [2.70e+01, 8.80e+04],\n",
              "       [2.80e+01, 5.90e+04],\n",
              "       [3.20e+01, 8.60e+04],\n",
              "       [3.30e+01, 1.49e+05],\n",
              "       [1.90e+01, 2.10e+04],\n",
              "       [2.10e+01, 7.20e+04],\n",
              "       [2.60e+01, 3.50e+04],\n",
              "       [2.70e+01, 8.90e+04],\n",
              "       [2.60e+01, 8.60e+04],\n",
              "       [3.80e+01, 8.00e+04],\n",
              "       [3.90e+01, 7.10e+04],\n",
              "       [3.70e+01, 7.10e+04],\n",
              "       [3.80e+01, 6.10e+04],\n",
              "       [3.70e+01, 5.50e+04],\n",
              "       [4.20e+01, 8.00e+04],\n",
              "       [4.00e+01, 5.70e+04],\n",
              "       [3.50e+01, 7.50e+04],\n",
              "       [3.60e+01, 5.20e+04],\n",
              "       [4.00e+01, 5.90e+04],\n",
              "       [4.10e+01, 5.90e+04],\n",
              "       [3.60e+01, 7.50e+04],\n",
              "       [3.70e+01, 7.20e+04],\n",
              "       [4.00e+01, 7.50e+04],\n",
              "       [3.50e+01, 5.30e+04],\n",
              "       [4.10e+01, 5.10e+04],\n",
              "       [3.90e+01, 6.10e+04],\n",
              "       [4.20e+01, 6.50e+04],\n",
              "       [2.60e+01, 3.20e+04],\n",
              "       [3.00e+01, 1.70e+04],\n",
              "       [2.60e+01, 8.40e+04],\n",
              "       [3.10e+01, 5.80e+04],\n",
              "       [3.30e+01, 3.10e+04],\n",
              "       [3.00e+01, 8.70e+04],\n",
              "       [2.10e+01, 6.80e+04],\n",
              "       [2.80e+01, 5.50e+04],\n",
              "       [2.30e+01, 6.30e+04],\n",
              "       [2.00e+01, 8.20e+04],\n",
              "       [3.00e+01, 1.07e+05],\n",
              "       [2.80e+01, 5.90e+04],\n",
              "       [1.90e+01, 2.50e+04],\n",
              "       [1.90e+01, 8.50e+04],\n",
              "       [1.80e+01, 6.80e+04],\n",
              "       [3.50e+01, 5.90e+04],\n",
              "       [3.00e+01, 8.90e+04],\n",
              "       [3.40e+01, 2.50e+04],\n",
              "       [2.40e+01, 8.90e+04],\n",
              "       [2.70e+01, 9.60e+04],\n",
              "       [4.10e+01, 3.00e+04],\n",
              "       [2.90e+01, 6.10e+04],\n",
              "       [2.00e+01, 7.40e+04],\n",
              "       [2.60e+01, 1.50e+04],\n",
              "       [4.10e+01, 4.50e+04],\n",
              "       [3.10e+01, 7.60e+04],\n",
              "       [3.60e+01, 5.00e+04],\n",
              "       [4.00e+01, 4.70e+04],\n",
              "       [3.10e+01, 1.50e+04],\n",
              "       [4.60e+01, 5.90e+04],\n",
              "       [2.90e+01, 7.50e+04],\n",
              "       [2.60e+01, 3.00e+04],\n",
              "       [3.20e+01, 1.35e+05],\n",
              "       [3.20e+01, 1.00e+05],\n",
              "       [2.50e+01, 9.00e+04],\n",
              "       [3.70e+01, 3.30e+04],\n",
              "       [3.50e+01, 3.80e+04],\n",
              "       [3.30e+01, 6.90e+04],\n",
              "       [1.80e+01, 8.60e+04],\n",
              "       [2.20e+01, 5.50e+04],\n",
              "       [3.50e+01, 7.10e+04],\n",
              "       [2.90e+01, 1.48e+05],\n",
              "       [2.90e+01, 4.70e+04],\n",
              "       [2.10e+01, 8.80e+04],\n",
              "       [3.40e+01, 1.15e+05],\n",
              "       [2.60e+01, 1.18e+05],\n",
              "       [3.40e+01, 4.30e+04],\n",
              "       [3.40e+01, 7.20e+04],\n",
              "       [2.30e+01, 2.80e+04],\n",
              "       [3.50e+01, 4.70e+04],\n",
              "       [2.50e+01, 2.20e+04],\n",
              "       [2.40e+01, 2.30e+04],\n",
              "       [3.10e+01, 3.40e+04],\n",
              "       [2.60e+01, 1.60e+04],\n",
              "       [3.10e+01, 7.10e+04],\n",
              "       [3.20e+01, 1.17e+05],\n",
              "       [3.30e+01, 4.30e+04],\n",
              "       [3.30e+01, 6.00e+04],\n",
              "       [3.10e+01, 6.60e+04],\n",
              "       [2.00e+01, 8.20e+04],\n",
              "       [3.30e+01, 4.10e+04],\n",
              "       [3.50e+01, 7.20e+04],\n",
              "       [2.80e+01, 3.20e+04],\n",
              "       [2.40e+01, 8.40e+04],\n",
              "       [1.90e+01, 2.60e+04],\n",
              "       [2.90e+01, 4.30e+04],\n",
              "       [1.90e+01, 7.00e+04],\n",
              "       [2.80e+01, 8.90e+04],\n",
              "       [3.40e+01, 4.30e+04],\n",
              "       [3.00e+01, 7.90e+04],\n",
              "       [2.00e+01, 3.60e+04],\n",
              "       [2.60e+01, 8.00e+04],\n",
              "       [3.50e+01, 2.20e+04],\n",
              "       [3.50e+01, 3.90e+04],\n",
              "       [4.90e+01, 7.40e+04],\n",
              "       [3.90e+01, 1.34e+05],\n",
              "       [4.10e+01, 7.10e+04],\n",
              "       [5.80e+01, 1.01e+05],\n",
              "       [4.70e+01, 4.70e+04],\n",
              "       [5.50e+01, 1.30e+05],\n",
              "       [5.20e+01, 1.14e+05],\n",
              "       [4.00e+01, 1.42e+05],\n",
              "       [4.60e+01, 2.20e+04],\n",
              "       [4.80e+01, 9.60e+04],\n",
              "       [5.20e+01, 1.50e+05],\n",
              "       [5.90e+01, 4.20e+04],\n",
              "       [3.50e+01, 5.80e+04],\n",
              "       [4.70e+01, 4.30e+04],\n",
              "       [6.00e+01, 1.08e+05],\n",
              "       [4.90e+01, 6.50e+04],\n",
              "       [4.00e+01, 7.80e+04],\n",
              "       [4.60e+01, 9.60e+04],\n",
              "       [5.90e+01, 1.43e+05],\n",
              "       [4.10e+01, 8.00e+04],\n",
              "       [3.50e+01, 9.10e+04],\n",
              "       [3.70e+01, 1.44e+05],\n",
              "       [6.00e+01, 1.02e+05],\n",
              "       [3.50e+01, 6.00e+04],\n",
              "       [3.70e+01, 5.30e+04],\n",
              "       [3.60e+01, 1.26e+05],\n",
              "       [5.60e+01, 1.33e+05],\n",
              "       [4.00e+01, 7.20e+04],\n",
              "       [4.20e+01, 8.00e+04],\n",
              "       [3.50e+01, 1.47e+05],\n",
              "       [3.90e+01, 4.20e+04],\n",
              "       [4.00e+01, 1.07e+05],\n",
              "       [4.90e+01, 8.60e+04],\n",
              "       [3.80e+01, 1.12e+05],\n",
              "       [4.60e+01, 7.90e+04],\n",
              "       [4.00e+01, 5.70e+04],\n",
              "       [3.70e+01, 8.00e+04],\n",
              "       [4.60e+01, 8.20e+04],\n",
              "       [5.30e+01, 1.43e+05],\n",
              "       [4.20e+01, 1.49e+05],\n",
              "       [3.80e+01, 5.90e+04],\n",
              "       [5.00e+01, 8.80e+04],\n",
              "       [5.60e+01, 1.04e+05],\n",
              "       [4.10e+01, 7.20e+04],\n",
              "       [5.10e+01, 1.46e+05],\n",
              "       [3.50e+01, 5.00e+04],\n",
              "       [5.70e+01, 1.22e+05],\n",
              "       [4.10e+01, 5.20e+04],\n",
              "       [3.50e+01, 9.70e+04],\n",
              "       [4.40e+01, 3.90e+04],\n",
              "       [3.70e+01, 5.20e+04],\n",
              "       [4.80e+01, 1.34e+05],\n",
              "       [3.70e+01, 1.46e+05],\n",
              "       [5.00e+01, 4.40e+04],\n",
              "       [5.20e+01, 9.00e+04],\n",
              "       [4.10e+01, 7.20e+04],\n",
              "       [4.00e+01, 5.70e+04],\n",
              "       [5.80e+01, 9.50e+04],\n",
              "       [4.50e+01, 1.31e+05],\n",
              "       [3.50e+01, 7.70e+04],\n",
              "       [3.60e+01, 1.44e+05],\n",
              "       [5.50e+01, 1.25e+05],\n",
              "       [3.50e+01, 7.20e+04],\n",
              "       [4.80e+01, 9.00e+04],\n",
              "       [4.20e+01, 1.08e+05],\n",
              "       [4.00e+01, 7.50e+04],\n",
              "       [3.70e+01, 7.40e+04],\n",
              "       [4.70e+01, 1.44e+05],\n",
              "       [4.00e+01, 6.10e+04],\n",
              "       [4.30e+01, 1.33e+05],\n",
              "       [5.90e+01, 7.60e+04],\n",
              "       [6.00e+01, 4.20e+04],\n",
              "       [3.90e+01, 1.06e+05],\n",
              "       [5.70e+01, 2.60e+04],\n",
              "       [5.70e+01, 7.40e+04],\n",
              "       [3.80e+01, 7.10e+04],\n",
              "       [4.90e+01, 8.80e+04],\n",
              "       [5.20e+01, 3.80e+04],\n",
              "       [5.00e+01, 3.60e+04],\n",
              "       [5.90e+01, 8.80e+04],\n",
              "       [3.50e+01, 6.10e+04],\n",
              "       [3.70e+01, 7.00e+04],\n",
              "       [5.20e+01, 2.10e+04],\n",
              "       [4.80e+01, 1.41e+05],\n",
              "       [3.70e+01, 9.30e+04],\n",
              "       [3.70e+01, 6.20e+04],\n",
              "       [4.80e+01, 1.38e+05],\n",
              "       [4.10e+01, 7.90e+04],\n",
              "       [3.70e+01, 7.80e+04],\n",
              "       [3.90e+01, 1.34e+05],\n",
              "       [4.90e+01, 8.90e+04],\n",
              "       [5.50e+01, 3.90e+04],\n",
              "       [3.70e+01, 7.70e+04],\n",
              "       [3.50e+01, 5.70e+04],\n",
              "       [3.60e+01, 6.30e+04],\n",
              "       [4.20e+01, 7.30e+04],\n",
              "       [4.30e+01, 1.12e+05],\n",
              "       [4.50e+01, 7.90e+04],\n",
              "       [4.60e+01, 1.17e+05],\n",
              "       [5.80e+01, 3.80e+04],\n",
              "       [4.80e+01, 7.40e+04],\n",
              "       [3.70e+01, 1.37e+05],\n",
              "       [3.70e+01, 7.90e+04],\n",
              "       [4.00e+01, 6.00e+04],\n",
              "       [4.20e+01, 5.40e+04],\n",
              "       [5.10e+01, 1.34e+05],\n",
              "       [4.70e+01, 1.13e+05],\n",
              "       [3.60e+01, 1.25e+05],\n",
              "       [3.80e+01, 5.00e+04],\n",
              "       [4.20e+01, 7.00e+04],\n",
              "       [3.90e+01, 9.60e+04],\n",
              "       [3.80e+01, 5.00e+04],\n",
              "       [4.90e+01, 1.41e+05],\n",
              "       [3.90e+01, 7.90e+04],\n",
              "       [3.90e+01, 7.50e+04],\n",
              "       [5.40e+01, 1.04e+05],\n",
              "       [3.50e+01, 5.50e+04],\n",
              "       [4.50e+01, 3.20e+04],\n",
              "       [3.60e+01, 6.00e+04],\n",
              "       [5.20e+01, 1.38e+05],\n",
              "       [5.30e+01, 8.20e+04],\n",
              "       [4.10e+01, 5.20e+04],\n",
              "       [4.80e+01, 3.00e+04],\n",
              "       [4.80e+01, 1.31e+05],\n",
              "       [4.10e+01, 6.00e+04],\n",
              "       [4.10e+01, 7.20e+04],\n",
              "       [4.20e+01, 7.50e+04],\n",
              "       [3.60e+01, 1.18e+05],\n",
              "       [4.70e+01, 1.07e+05],\n",
              "       [3.80e+01, 5.10e+04],\n",
              "       [4.80e+01, 1.19e+05],\n",
              "       [4.20e+01, 6.50e+04],\n",
              "       [4.00e+01, 6.50e+04],\n",
              "       [5.70e+01, 6.00e+04],\n",
              "       [3.60e+01, 5.40e+04],\n",
              "       [5.80e+01, 1.44e+05],\n",
              "       [3.50e+01, 7.90e+04],\n",
              "       [3.80e+01, 5.50e+04],\n",
              "       [3.90e+01, 1.22e+05],\n",
              "       [5.30e+01, 1.04e+05],\n",
              "       [3.50e+01, 7.50e+04],\n",
              "       [3.80e+01, 6.50e+04],\n",
              "       [4.70e+01, 5.10e+04],\n",
              "       [4.70e+01, 1.05e+05],\n",
              "       [4.10e+01, 6.30e+04],\n",
              "       [5.30e+01, 7.20e+04],\n",
              "       [5.40e+01, 1.08e+05],\n",
              "       [3.90e+01, 7.70e+04],\n",
              "       [3.80e+01, 6.10e+04],\n",
              "       [3.80e+01, 1.13e+05],\n",
              "       [3.70e+01, 7.50e+04],\n",
              "       [4.20e+01, 9.00e+04],\n",
              "       [3.70e+01, 5.70e+04],\n",
              "       [3.60e+01, 9.90e+04],\n",
              "       [6.00e+01, 3.40e+04],\n",
              "       [5.40e+01, 7.00e+04],\n",
              "       [4.10e+01, 7.20e+04],\n",
              "       [4.00e+01, 7.10e+04],\n",
              "       [4.20e+01, 5.40e+04],\n",
              "       [4.30e+01, 1.29e+05],\n",
              "       [5.30e+01, 3.40e+04],\n",
              "       [4.70e+01, 5.00e+04],\n",
              "       [4.20e+01, 7.90e+04],\n",
              "       [4.20e+01, 1.04e+05],\n",
              "       [5.90e+01, 2.90e+04],\n",
              "       [5.80e+01, 4.70e+04],\n",
              "       [4.60e+01, 8.80e+04],\n",
              "       [3.80e+01, 7.10e+04],\n",
              "       [5.40e+01, 2.60e+04],\n",
              "       [6.00e+01, 4.60e+04],\n",
              "       [6.00e+01, 8.30e+04],\n",
              "       [3.90e+01, 7.30e+04],\n",
              "       [5.90e+01, 1.30e+05],\n",
              "       [3.70e+01, 8.00e+04],\n",
              "       [4.60e+01, 3.20e+04],\n",
              "       [4.60e+01, 7.40e+04],\n",
              "       [4.20e+01, 5.30e+04],\n",
              "       [4.10e+01, 8.70e+04],\n",
              "       [5.80e+01, 2.30e+04],\n",
              "       [4.20e+01, 6.40e+04],\n",
              "       [4.80e+01, 3.30e+04],\n",
              "       [4.40e+01, 1.39e+05],\n",
              "       [4.90e+01, 2.80e+04],\n",
              "       [5.70e+01, 3.30e+04],\n",
              "       [5.60e+01, 6.00e+04],\n",
              "       [4.90e+01, 3.90e+04],\n",
              "       [3.90e+01, 7.10e+04],\n",
              "       [4.70e+01, 3.40e+04],\n",
              "       [4.80e+01, 3.50e+04],\n",
              "       [4.80e+01, 3.30e+04],\n",
              "       [4.70e+01, 2.30e+04],\n",
              "       [4.50e+01, 4.50e+04],\n",
              "       [6.00e+01, 4.20e+04],\n",
              "       [3.90e+01, 5.90e+04],\n",
              "       [4.60e+01, 4.10e+04],\n",
              "       [5.10e+01, 2.30e+04],\n",
              "       [5.00e+01, 2.00e+04],\n",
              "       [3.60e+01, 3.30e+04],\n",
              "       [4.90e+01, 3.60e+04]])"
            ]
          },
          "metadata": {},
          "execution_count": 11
        }
      ]
    },
    {
      "cell_type": "code",
      "source": [
        "y"
      ],
      "metadata": {
        "colab": {
          "base_uri": "https://localhost:8080/"
        },
        "id": "GPojB8EO4i5D",
        "outputId": "b08b47e8-f734-418d-822b-212944468156"
      },
      "execution_count": 12,
      "outputs": [
        {
          "output_type": "execute_result",
          "data": {
            "text/plain": [
              "array([0, 0, 0, 0, 0, 0, 0, 1, 0, 0, 0, 0, 0, 0, 0, 0, 1, 1, 1, 1, 1, 1,\n",
              "       1, 1, 1, 1, 1, 1, 0, 0, 0, 1, 0, 0, 0, 0, 0, 0, 0, 0, 0, 0, 0, 0,\n",
              "       0, 0, 0, 0, 1, 0, 0, 0, 0, 0, 0, 0, 0, 0, 0, 0, 0, 0, 0, 1, 0, 0,\n",
              "       0, 0, 0, 0, 0, 0, 0, 0, 0, 1, 0, 0, 0, 0, 0, 0, 0, 0, 0, 1, 0, 0,\n",
              "       0, 0, 0, 0, 0, 0, 0, 0, 0, 1, 0, 0, 0, 0, 0, 1, 0, 0, 0, 0, 0, 0,\n",
              "       0, 0, 0, 0, 0, 0, 0, 0, 0, 0, 0, 0, 0, 0, 0, 0, 0, 0, 0, 0, 0, 0,\n",
              "       0, 0, 0, 0, 0, 1, 0, 0, 0, 0, 0, 0, 0, 0, 1, 0, 0, 0, 0, 0, 0, 0,\n",
              "       0, 0, 0, 0, 0, 1, 1, 0, 0, 0, 0, 0, 0, 0, 1, 0, 0, 0, 0, 0, 0, 0,\n",
              "       0, 0, 0, 0, 0, 0, 1, 0, 0, 0, 0, 0, 0, 0, 0, 0, 0, 0, 0, 0, 0, 0,\n",
              "       0, 0, 0, 0, 1, 0, 1, 0, 1, 0, 1, 0, 1, 1, 0, 0, 0, 1, 0, 0, 0, 1,\n",
              "       0, 1, 1, 1, 0, 0, 1, 1, 0, 1, 1, 0, 1, 1, 0, 1, 0, 0, 0, 1, 1, 0,\n",
              "       1, 1, 0, 1, 0, 1, 0, 1, 0, 0, 1, 1, 0, 1, 0, 0, 1, 1, 0, 1, 1, 0,\n",
              "       1, 1, 0, 0, 1, 0, 0, 1, 1, 1, 1, 1, 0, 1, 1, 1, 1, 0, 1, 1, 0, 1,\n",
              "       0, 1, 0, 1, 1, 1, 1, 0, 0, 0, 1, 1, 0, 1, 1, 1, 1, 1, 0, 0, 0, 1,\n",
              "       1, 0, 0, 1, 0, 1, 0, 1, 1, 0, 1, 0, 1, 1, 0, 1, 1, 0, 0, 0, 1, 1,\n",
              "       0, 1, 0, 0, 1, 0, 1, 0, 0, 1, 1, 0, 0, 1, 1, 0, 1, 1, 0, 0, 1, 0,\n",
              "       1, 0, 1, 1, 1, 0, 1, 0, 1, 1, 1, 0, 1, 1, 1, 1, 0, 1, 1, 1, 0, 1,\n",
              "       0, 1, 0, 0, 1, 1, 0, 1, 1, 1, 1, 1, 1, 0, 1, 1, 1, 1, 1, 1, 0, 1,\n",
              "       1, 1, 0, 1])"
            ]
          },
          "metadata": {},
          "execution_count": 12
        }
      ]
    },
    {
      "cell_type": "markdown",
      "metadata": {
        "id": "SsVEdPzf4XmV"
      },
      "source": [
        "# Dividir el data set en conjunto de entrenamiento y conjunto de testing\n"
      ]
    },
    {
      "cell_type": "code",
      "execution_count": 13,
      "metadata": {
        "id": "R71g9nYM2kRW"
      },
      "outputs": [],
      "source": [
        "from sklearn.model_selection import train_test_split"
      ]
    },
    {
      "cell_type": "code",
      "execution_count": 14,
      "metadata": {
        "id": "v9CtwK834bjy"
      },
      "outputs": [],
      "source": [
        "X_train, X_test, y_train, y_test = train_test_split(X, y, test_size = 0.25, random_state = 0)"
      ]
    },
    {
      "cell_type": "markdown",
      "metadata": {
        "id": "5AH_uCEz68rb"
      },
      "source": [
        "# Escalado de variables"
      ]
    },
    {
      "cell_type": "code",
      "execution_count": 15,
      "metadata": {
        "id": "oeuAy8LI69vi"
      },
      "outputs": [],
      "source": [
        "from sklearn.preprocessing import StandardScaler\n",
        "sc_X = StandardScaler()\n",
        "X_train = sc_X.fit_transform(X_train)\n",
        "X_test = sc_X.transform(X_test)"
      ]
    },
    {
      "cell_type": "markdown",
      "metadata": {
        "id": "cgweTaJ67BOB"
      },
      "source": [
        "# Ajustar el SVM en el Conjunto de Entrenamiento"
      ]
    },
    {
      "cell_type": "code",
      "execution_count": 16,
      "metadata": {
        "id": "rLiv1URv2kRX"
      },
      "outputs": [],
      "source": [
        "from sklearn.svm import SVC"
      ]
    },
    {
      "cell_type": "code",
      "execution_count": 17,
      "metadata": {
        "id": "2AwTWELX7DZQ",
        "colab": {
          "base_uri": "https://localhost:8080/"
        },
        "outputId": "9b2a6287-3c48-41b8-ee52-0e02b87aeb14"
      },
      "outputs": [
        {
          "output_type": "execute_result",
          "data": {
            "text/plain": [
              "SVC(kernel='linear', random_state=0)"
            ]
          },
          "metadata": {},
          "execution_count": 17
        }
      ],
      "source": [
        "classifier = SVC(kernel = \"linear\", random_state = 0)  # aqui estamos utilizando el lineal. \n",
        "classifier.fit(X_train, y_train) # ajustamos al x train e y train. "
      ]
    },
    {
      "cell_type": "markdown",
      "metadata": {
        "id": "je3kcRlG7JV5"
      },
      "source": [
        "# Predicción de los resultados con el Conjunto de Testing\n"
      ]
    },
    {
      "cell_type": "code",
      "execution_count": 19,
      "metadata": {
        "id": "HS-M9s587Kj3",
        "colab": {
          "base_uri": "https://localhost:8080/"
        },
        "outputId": "2ee03f45-fd5f-45c3-87f7-1ac7a0feee22"
      },
      "outputs": [
        {
          "output_type": "execute_result",
          "data": {
            "text/plain": [
              "array([0, 0, 0, 0, 0, 0, 0, 1, 0, 0, 0, 0, 0, 0, 0, 0, 0, 0, 1, 0, 0, 1,\n",
              "       0, 1, 0, 1, 0, 0, 0, 0, 0, 0, 1, 0, 0, 0, 0, 0, 0, 1, 0, 0, 0, 0,\n",
              "       1, 0, 0, 1, 0, 1, 1, 0, 0, 0, 1, 0, 0, 0, 0, 0, 0, 1, 0, 0, 0, 1,\n",
              "       0, 0, 0, 0, 1, 0, 0, 0, 0, 0, 1, 0, 1, 1, 1, 1, 0, 0, 1, 1, 0, 1,\n",
              "       0, 0, 0, 1, 0, 0, 0, 0, 0, 0, 1, 1])"
            ]
          },
          "metadata": {},
          "execution_count": 19
        }
      ],
      "source": [
        "y_pred  = classifier.predict(X_test)\n",
        "y_pred # vamos a comparar el predicho con el real que es el test. y tiene bastante buena pinta. \n",
        "# perfecto nunca puede salir. sería sintomático de overfitting. "
      ]
    },
    {
      "cell_type": "code",
      "source": [
        "y_test"
      ],
      "metadata": {
        "colab": {
          "base_uri": "https://localhost:8080/"
        },
        "id": "jhvsNf6T6Gpj",
        "outputId": "c96a59c5-d57d-4de8-f4f1-4ef3d362584d"
      },
      "execution_count": 20,
      "outputs": [
        {
          "output_type": "execute_result",
          "data": {
            "text/plain": [
              "array([0, 0, 0, 0, 0, 0, 0, 1, 0, 0, 0, 0, 0, 0, 0, 0, 0, 0, 1, 0, 0, 1,\n",
              "       0, 1, 0, 1, 0, 0, 0, 0, 0, 1, 1, 0, 0, 0, 0, 0, 0, 1, 0, 0, 0, 0,\n",
              "       1, 0, 0, 1, 0, 1, 1, 0, 0, 0, 1, 1, 0, 0, 1, 0, 0, 1, 0, 1, 0, 1,\n",
              "       0, 0, 0, 0, 1, 0, 0, 1, 0, 0, 0, 0, 1, 1, 1, 0, 0, 0, 1, 1, 0, 1,\n",
              "       1, 0, 0, 1, 0, 0, 0, 1, 0, 1, 1, 1])"
            ]
          },
          "metadata": {},
          "execution_count": 20
        }
      ]
    },
    {
      "cell_type": "markdown",
      "metadata": {
        "id": "0I8lcDPv2kRY"
      },
      "source": [
        "# Elaborar una matriz de confusión"
      ]
    },
    {
      "cell_type": "code",
      "execution_count": 22,
      "metadata": {
        "id": "igDpCZak2kRY",
        "outputId": "c0228118-5426-46f2-ba88-fb04ff375841",
        "colab": {
          "base_uri": "https://localhost:8080/"
        }
      },
      "outputs": [
        {
          "output_type": "execute_result",
          "data": {
            "text/plain": [
              "array([[66,  2],\n",
              "       [ 8, 24]])"
            ]
          },
          "metadata": {},
          "execution_count": 22
        }
      ],
      "source": [
        "from sklearn.metrics import confusion_matrix\n",
        "cm = confusion_matrix(y_test, y_pred)\n",
        "cm"
      ]
    },
    {
      "cell_type": "code",
      "source": [
        "(66+24)/(66+24+8+2) # 90% está bastante bien. "
      ],
      "metadata": {
        "colab": {
          "base_uri": "https://localhost:8080/"
        },
        "id": "UcFze3tW6qWL",
        "outputId": "d2c49c9a-9cab-4e46-9c18-db10d8d3172b"
      },
      "execution_count": 23,
      "outputs": [
        {
          "output_type": "execute_result",
          "data": {
            "text/plain": [
              "0.9"
            ]
          },
          "metadata": {},
          "execution_count": 23
        }
      ]
    },
    {
      "cell_type": "markdown",
      "metadata": {
        "id": "JnMLSqzW8NH7"
      },
      "source": [
        "# Representación gráfica de los resultados del algoritmo en el Conjunto de Entrenamiento"
      ]
    },
    {
      "cell_type": "code",
      "execution_count": 24,
      "metadata": {
        "id": "1qZ3wRR08Oar",
        "colab": {
          "base_uri": "https://localhost:8080/",
          "height": 328
        },
        "outputId": "e11ce104-4a02-4d94-f2ef-a0a07c2f87b4"
      },
      "outputs": [
        {
          "output_type": "stream",
          "name": "stderr",
          "text": [
            "*c* argument looks like a single numeric RGB or RGBA sequence, which should be avoided as value-mapping will have precedence in case its length matches with *x* & *y*.  Please use the *color* keyword-argument or provide a 2-D array with a single row if you intend to specify the same RGB or RGBA value for all points.\n",
            "*c* argument looks like a single numeric RGB or RGBA sequence, which should be avoided as value-mapping will have precedence in case its length matches with *x* & *y*.  Please use the *color* keyword-argument or provide a 2-D array with a single row if you intend to specify the same RGB or RGBA value for all points.\n"
          ]
        },
        {
          "output_type": "display_data",
          "data": {
            "text/plain": [
              "<Figure size 432x288 with 1 Axes>"
            ],
            "image/png": "[encoded data removed]"
          },
          "metadata": {
            "needs_background": "light"
          }
        }
      ],
      "source": [
        "from matplotlib.colors import ListedColormap\n",
        "X_set, y_set = X_train, y_train\n",
        "X1, X2 = np.meshgrid(np.arange(start = X_set[:, 0].min() - 1, stop = X_set[:, 0].max() + 1, step = 0.01),\n",
        "                     np.arange(start = X_set[:, 1].min() - 1, stop = X_set[:, 1].max() + 1, step = 0.01))\n",
        "plt.contourf(X1, X2, classifier.predict(np.array([X1.ravel(), X2.ravel()]).T).reshape(X1.shape),\n",
        "             alpha = 0.75, cmap = ListedColormap(('red', 'green')))\n",
        "plt.xlim(X1.min(), X1.max())\n",
        "plt.ylim(X2.min(), X2.max())\n",
        "for i, j in enumerate(np.unique(y_set)):\n",
        "    plt.scatter(X_set[y_set == j, 0], X_set[y_set == j, 1],\n",
        "                c = ListedColormap(('red', 'green'))(i), label = j)\n",
        "plt.title('SVM (Conjunto de Entrenamiento)')\n",
        "plt.xlabel('Edad')\n",
        "plt.ylabel('Sueldo Estimado')\n",
        "plt.legend()\n",
        "plt.show()\n",
        "# el kernel es lineal por lo tanto es una recta. "
      ]
    },
    {
      "cell_type": "markdown",
      "metadata": {
        "id": "8EoxNOCL2kRZ"
      },
      "source": [
        "# Representación gráfica de los resultados del algoritmo en el Conjunto de Testing"
      ]
    },
    {
      "cell_type": "code",
      "execution_count": 25,
      "metadata": {
        "id": "2l1UGTMi2kRZ",
        "colab": {
          "base_uri": "https://localhost:8080/",
          "height": 328
        },
        "outputId": "cf97df39-27af-4d70-9589-db1c7a84a014"
      },
      "outputs": [
        {
          "output_type": "stream",
          "name": "stderr",
          "text": [
            "*c* argument looks like a single numeric RGB or RGBA sequence, which should be avoided as value-mapping will have precedence in case its length matches with *x* & *y*.  Please use the *color* keyword-argument or provide a 2-D array with a single row if you intend to specify the same RGB or RGBA value for all points.\n",
            "*c* argument looks like a single numeric RGB or RGBA sequence, which should be avoided as value-mapping will have precedence in case its length matches with *x* & *y*.  Please use the *color* keyword-argument or provide a 2-D array with a single row if you intend to specify the same RGB or RGBA value for all points.\n"
          ]
        },
        {
          "output_type": "display_data",
          "data": {
            "text/plain": [
              "<Figure size 432x288 with 1 Axes>"
            ],
            "image/png": "[encoded data removed]"
          },
          "metadata": {
            "needs_background": "light"
          }
        }
      ],
      "source": [
        "X_set, y_set = X_test, y_test\n",
        "X1, X2 = np.meshgrid(np.arange(start = X_set[:, 0].min() - 1, stop = X_set[:, 0].max() + 1, step = 0.01),\n",
        "                     np.arange(start = X_set[:, 1].min() - 1, stop = X_set[:, 1].max() + 1, step = 0.01))\n",
        "plt.contourf(X1, X2, classifier.predict(np.array([X1.ravel(), X2.ravel()]).T).reshape(X1.shape),\n",
        "             alpha = 0.75, cmap = ListedColormap(('red', 'green')))\n",
        "plt.xlim(X1.min(), X1.max())\n",
        "plt.ylim(X2.min(), X2.max())\n",
        "for i, j in enumerate(np.unique(y_set)):\n",
        "    plt.scatter(X_set[y_set == j, 0], X_set[y_set == j, 1],\n",
        "                c = ListedColormap(('red', 'green'))(i), label = j)\n",
        "plt.title('SVM (Conjunto de Test)')\n",
        "plt.xlabel('Edad')\n",
        "plt.ylabel('Sueldo Estimado')\n",
        "plt.legend()\n",
        "plt.show()"
      ]
    },
    {
      "cell_type": "code",
      "source": [
        ""
      ],
      "metadata": {
        "id": "5-23nLTi7DEq"
      },
      "execution_count": null,
      "outputs": []
    }
  ],
  "metadata": {
    "colab": {
      "collapsed_sections": [],
      "name": "SVM.ipynb",
      "provenance": [],
      "include_colab_link": true
    },
    "kernelspec": {
      "display_name": "Python 3",
      "language": "python",
      "name": "python3"
    },
    "language_info": {
      "codemirror_mode": {
        "name": "ipython",
        "version": 3
      },
      "file_extension": ".py",
      "mimetype": "text/x-python",
      "name": "python",
      "nbconvert_exporter": "python",
      "pygments_lexer": "ipython3",
      "version": "3.8.3"
    }
  },
  "nbformat": 4,
  "nbformat_minor": 0
}