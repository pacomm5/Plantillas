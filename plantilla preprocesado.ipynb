{
  "cells": [
    {
      "cell_type": "markdown",
      "metadata": {
        "id": "view-in-github",
        "colab_type": "text"
      },
      "source": [
        "<a href=\"https://colab.research.google.com/github/pacomm5/Plantillas/blob/main/plantilla%20preprocesado.ipynb\" target=\"_parent\"><img src=\"https://colab.research.google.com/assets/colab-badge.svg\" alt=\"Open In Colab\"/></a>"
      ]
    },
    {
      "cell_type": "markdown",
      "source": [
        "# IMPORTACIÓN DE KAGGLE. "
      ],
      "metadata": {
        "id": "YxnAB5NbHjWT"
      }
    },
    {
      "cell_type": "markdown",
      "source": [
        "## IMPORTACION FISICA A GOOGLE DRIVE. "
      ],
      "metadata": {
        "id": "opAdsLr8HyR0"
      }
    },
    {
      "cell_type": "markdown",
      "source": [
        "IMPORTANTE SE DESCARGA FISICAMENTE EL DATASETS. Y NO ES LO QUE BUSCO PORQUE ME LLENARÁ GOOGLE DRIVE. "
      ],
      "metadata": {
        "id": "jtx5KB89H29-"
      }
    },
    {
      "cell_type": "code",
      "source": [
        "from google.colab import drive\n",
        "drive.mount(\"/content/gdrive\")\n",
        "# así me conecto como siempre a mi drive. "
      ],
      "metadata": {
        "id": "wYH4plNvH4ay"
      },
      "execution_count": null,
      "outputs": []
    },
    {
      "cell_type": "code",
      "source": [
        "%cd /content/gdrive/MyDrive/Colab Notebooks/KAGGLE\n",
        "# así me pongo en el directorio mencionado. "
      ],
      "metadata": {
        "id": "FsVB_Rw7H9ia"
      },
      "execution_count": null,
      "outputs": []
    },
    {
      "cell_type": "code",
      "source": [
        "!kaggle datasets download -d datasnaek/youtube-new\n",
        "# estando en Kaggle en la hoja principal del datasets copio lo ultimo que pone en la dirección web, en este caso dasnael/youtube-mew\n",
        "# con esto lo que estoy haciendo es bajarme en zip el contenido de los datasets. \n",
        "# entiendo que el notebook me lo tengo que descargar. "
      ],
      "metadata": {
        "id": "FhgGn-yIICjX"
      },
      "execution_count": null,
      "outputs": []
    },
    {
      "cell_type": "code",
      "source": [
        "!ls # asi vemos que archivo hemos bajado. "
      ],
      "metadata": {
        "id": "vPHPrLL3IJNa"
      },
      "execution_count": null,
      "outputs": []
    },
    {
      "cell_type": "code",
      "source": [
        "#unzipping the zip files and deleting the zip files\n",
        "!unzip \\*.zip  && rm *.zip\n",
        "# "
      ],
      "metadata": {
        "id": "wQI0jQvDIPHr"
      },
      "execution_count": null,
      "outputs": []
    },
    {
      "cell_type": "code",
      "source": [
        "#unzipping the zip files and deleting the zip files\n",
        "#unzipping the zip files and deleting the zip files\n",
        "!unzip \\*.zip  && rm *.zip"
      ],
      "metadata": {
        "id": "8lu4MrrQIaYO"
      },
      "execution_count": null,
      "outputs": []
    },
    {
      "cell_type": "markdown",
      "source": [
        "## METER UN ARCHIVO QUE ME INTERES DE KAGGLE EN GITHUB"
      ],
      "metadata": {
        "id": "pYw0bjy3Ikib"
      }
    },
    {
      "cell_type": "markdown",
      "source": [
        "- veo un notebook que me interese y hago una copia en kaggle para dejarlo grabado. \n",
        "- lo edito y le doy a guardar ( importante que en file este el link con github). cuando le de a continuar me dirá donde lo quiero guardar de github. \n",
        "- solo importa el notebook pero no los datos.\n",
        "- ya lo tendriamos en github y lo podemos abrir como un notebook aqui en google colab. \n",
        "- ahora tengo que ver como acceder a los datos que tiene sin importarlos "
      ],
      "metadata": {
        "id": "FIpDYxi4I1GC"
      }
    },
    {
      "cell_type": "markdown",
      "source": [
        "## DESCARGAR EL REPOSITORIO DE KAGGLE SIN DESCARGAR SOLO EN TEMPORAL"
      ],
      "metadata": {
        "id": "qmDhRm27JAW_"
      }
    },
    {
      "cell_type": "code",
      "source": [
        "!pip install kaggle update # instalamos kaggle. "
      ],
      "metadata": {
        "id": "UbvjCng9JKn0"
      },
      "execution_count": null,
      "outputs": []
    },
    {
      "cell_type": "code",
      "source": [
        "# antes de nada subimos en temporal kaggle.json\n",
        "!mkdir -p ~/.kaggle # creamos el provisional directorio de kaggle. "
      ],
      "metadata": {
        "id": "fEMcfKvmJOyQ"
      },
      "execution_count": null,
      "outputs": []
    },
    {
      "cell_type": "code",
      "source": [
        "! cp kaggle.json ~/.kaggle/ # llevamos el archivo al directorio creado."
      ],
      "metadata": {
        "id": "m7lx-p3UJUiG"
      },
      "execution_count": null,
      "outputs": []
    },
    {
      "cell_type": "code",
      "source": [
        "! chmod 600 ~/.kaggle/kaggle.json # le damos permios para acceder. "
      ],
      "metadata": {
        "id": "TTAH1R6wJb0x"
      },
      "execution_count": null,
      "outputs": []
    },
    {
      "cell_type": "code",
      "source": [
        "! kaggle competitions download google-smartphone-decimeter-challenge # si esta en competición parece que no puede. \n",
        "# lo que hay que copiar despues de download es por ejemplo si en la barra del navegador pone esto “https://www.kaggle.com/c/google-smartphone-decimeter-challenge”\n",
        "# lo que ponemos después de download es google-smartphone-decimeter-challenge"
      ],
      "metadata": {
        "id": "PA9uIRS7JgBb"
      },
      "execution_count": null,
      "outputs": []
    },
    {
      "cell_type": "code",
      "source": [
        "! kaggle datasets download arenagrenade/the-complete-pokemon-images-data-set\n",
        "# aqui es cuando no es competición e igualmente solo tenemos que meter después del download lo siguiente “https://www.kaggle.com/arenagrenade/the-complete-pokemon-images-data-set”\n",
        "# arenagrenade/the-complete-pokemon-images-data-set”"
      ],
      "metadata": {
        "id": "mX32FHTBJp-X"
      },
      "execution_count": null,
      "outputs": []
    },
    {
      "cell_type": "code",
      "source": [
        "# ahora ya en teoría tenemos los archivos subidos. y podemos tirar de ellos. recordad que estan en temporal"
      ],
      "metadata": {
        "id": "3duhZvmhJu5o"
      },
      "execution_count": null,
      "outputs": []
    },
    {
      "cell_type": "code",
      "source": [
        "! kaggle competitions download -c house-prices-advanced-regression-techniques # aqui he copiado el codigo del api pero con la admiración delante y me lo ha permitido. y es una competicion.\n",
        "# ya solo tendriamos que abrir el notebook y hacer lo mismo dentro."
      ],
      "metadata": {
        "id": "gBYiHABDJ0oE"
      },
      "execution_count": null,
      "outputs": []
    },
    {
      "cell_type": "markdown",
      "metadata": {
        "id": "KdUFcDsdzRyw"
      },
      "source": [
        "# Clonamos el repositorio para obtener los dataSet"
      ]
    },
    {
      "cell_type": "code",
      "source": [
        ""
      ],
      "metadata": {
        "id": "4UTFP7rqIOUe"
      },
      "execution_count": null,
      "outputs": []
    },
    {
      "cell_type": "code",
      "execution_count": null,
      "metadata": {
        "colab": {
          "base_uri": "https://localhost:8080/"
        },
        "id": "mHReFf3_y9ms",
        "outputId": "0305c40d-db2e-4509-cf00-1c0e528155f6"
      },
      "outputs": [
        {
          "output_type": "stream",
          "name": "stdout",
          "text": [
            "Cloning into 'machinelearning-az'...\n",
            "remote: Enumerating objects: 10541, done.\u001b[K\n",
            "remote: Counting objects: 100% (36/36), done.\u001b[K\n",
            "remote: Compressing objects: 100% (36/36), done.\u001b[K\n",
            "remote: Total 10541 (delta 25), reused 0 (delta 0), pack-reused 10505\u001b[K\n",
            "Receiving objects: 100% (10541/10541), 311.58 MiB | 22.41 MiB/s, done.\n",
            "Resolving deltas: 100% (245/245), done.\n",
            "Checking out files: 100% (10250/10250), done.\n"
          ]
        }
      ],
      "source": [
        "# si ponemos la dirección que tengo debajo lo que estoy clonando es el original, pero\n",
        "# no el que tenga guardado yo en github. \n",
        "#!git clone https://github.com/joanby/machinelearning-az.git\n",
        "! git clone https://github.com/pacomm5/machinelearning-az # de esta manera lo que hacemos es acceder a todos los datasets mios de github. en este caso de marchine learning de la a a la z"
      ]
    },
    {
      "cell_type": "markdown",
      "metadata": {
        "id": "vNKZXgtKzU2x"
      },
      "source": [
        "# Damos acceso a nuestro Drive"
      ]
    },
    {
      "cell_type": "code",
      "execution_count": null,
      "metadata": {
        "colab": {
          "base_uri": "https://localhost:8080/"
        },
        "id": "5gu7KWnzzUQ0",
        "outputId": "fce0b3d1-3519-4450-b03b-15754f8378dd"
      },
      "outputs": [
        {
          "output_type": "stream",
          "name": "stdout",
          "text": [
            "Mounted at /content/drive\n"
          ]
        }
      ],
      "source": [
        "from google.colab import drive\n",
        "drive.mount('/content/drive')"
      ]
    },
    {
      "cell_type": "markdown",
      "metadata": {
        "id": "1gUxIkHWzfHV"
      },
      "source": [
        "# Test it"
      ]
    },
    {
      "cell_type": "code",
      "execution_count": null,
      "metadata": {
        "colab": {
          "base_uri": "https://localhost:8080/"
        },
        "id": "mIQt3jBMzYRE",
        "outputId": "4cdeb636-3a5e-4bd3-a786-d974b01a4d47"
      },
      "outputs": [
        {
          "output_type": "stream",
          "name": "stdout",
          "text": [
            "'additional materials'\t LICENSE\t\t    README.md\n",
            " datasets\t\t machinelearning-az.Rproj\n"
          ]
        }
      ],
      "source": [
        "!ls '/content/machinelearning-az' "
      ]
    },
    {
      "cell_type": "markdown",
      "metadata": {
        "id": "mHsK36uN0XB-"
      },
      "source": [
        "# Google colab tools"
      ]
    },
    {
      "cell_type": "code",
      "execution_count": null,
      "metadata": {
        "id": "kTzwfUPWzrm4"
      },
      "outputs": [],
      "source": [
        "from google.colab import files # Para manejar los archivos y, por ejemplo, exportar a su navegador\n",
        "import glob # Para manejar los archivos y, por ejemplo, exportar a su navegador\n",
        "from google.colab import drive # Montar tu Google drive\n",
        "import sklearn\n",
        "from sklearn.impute import SimpleImputer"
      ]
    },
    {
      "cell_type": "markdown",
      "metadata": {
        "id": "3yFpBwmNz70v"
      },
      "source": [
        "# Plantilla de Pre Procesado"
      ]
    },
    {
      "cell_type": "markdown",
      "metadata": {
        "id": "v8OxSXXSz-OP"
      },
      "source": [
        "## Cómo importar las librerías\n"
      ]
    },
    {
      "cell_type": "code",
      "execution_count": null,
      "metadata": {
        "id": "edZX51YLzs59"
      },
      "outputs": [],
      "source": [
        "import numpy as np # este para matemáticas. \n",
        "import matplotlib.pyplot as plt # este para gráficos\n",
        "import pandas as pd # perfecta carga, manipular.... datos. "
      ]
    },
    {
      "cell_type": "markdown",
      "metadata": {
        "id": "8XfXlqtF0B58"
      },
      "source": [
        "## Importar el data set\n"
      ]
    },
    {
      "cell_type": "code",
      "execution_count": null,
      "metadata": {
        "colab": {
          "base_uri": "https://localhost:8080/",
          "height": 58
        },
        "id": "-nnozsHsz_-N",
        "outputId": "9aaa1d3f-326c-489e-8b27-72f728f94131"
      },
      "outputs": [
        {
          "output_type": "execute_result",
          "data": {
            "application/vnd.google.colaboratory.intrinsic+json": {
              "type": "string"
            },
            "text/plain": [
              "' escribiendo código\\nX = dataset.iloc[:,:-1].values\\ny = dataset.iloc[:, 3]'"
            ]
          },
          "metadata": {},
          "execution_count": 6
        }
      ],
      "source": [
        "dataset = pd.read_csv('/content/machinelearning-az/datasets/Part 1 - Data Preprocessing/Section 2 -------------------- Part 1 - Data Preprocessing --------------------/Data.csv')\n",
        "\n",
        "X = dataset.iloc[:, :-1].values # con esto quitamos la variable dependiente que es purchased. poenmos .values para que nos saque los valores. \n",
        "y = dataset.iloc[:, 3].values # aqui dejamos la variable  independientes. \n"
      ]
    },
    {
      "cell_type": "markdown",
      "source": [
        "después de realizar esto tendremos las variables independientes en X y la variable dependiente en y. ambos son arrays"
      ],
      "metadata": {
        "id": "5BMzE_JuOMTz"
      }
    },
    {
      "cell_type": "markdown",
      "source": [
        "## PROBLEMAS DE FORMATO AL IMPORTAR"
      ],
      "metadata": {
        "id": "PJ7Wl5oYYoy1"
      }
    },
    {
      "cell_type": "code",
      "source": [
        "df1 = pd.read_csv(\"/content/drive/MyDrive/Colab Notebooks/TRABAJO MASTER/df_est_total.csv\", sep=\"|\", encoding=\"ISO-8859-1\")"
      ],
      "metadata": {
        "id": "UM6_w6OjYtKQ"
      },
      "execution_count": null,
      "outputs": []
    },
    {
      "cell_type": "markdown",
      "source": [
        "## serie y dataframe"
      ],
      "metadata": {
        "id": "-BBWBJ9GZ2Ss"
      }
    },
    {
      "cell_type": "code",
      "source": [
        "df[\"Title\"] # esto es una serie no es un dataframe. "
      ],
      "metadata": {
        "id": "1BWwWTG-aQOJ"
      },
      "execution_count": null,
      "outputs": []
    },
    {
      "cell_type": "code",
      "source": [
        "serie_titulo = df.Title # lo guardamos en una variable pero sigue siendo una serie\n",
        "# si seleccionamos varias columnas ya sería un data frame. "
      ],
      "metadata": {
        "id": "cThhm-XZaWJB"
      },
      "execution_count": null,
      "outputs": []
    },
    {
      "cell_type": "code",
      "source": [
        "df[[\"Title\", \"Director\"]] # esto ya si es un dataframe. "
      ],
      "metadata": {
        "id": "Dy1g_R7Eadqt"
      },
      "execution_count": null,
      "outputs": []
    },
    {
      "cell_type": "code",
      "source": [
        "mis_columnas = [\"Title\", \"Director\"] # este es los mismo que arriba pero hemos definido la selección\n",
        "# en una variable. \n",
        "df[mis_columnas]"
      ],
      "metadata": {
        "id": "SQHwy-pLat0R"
      },
      "execution_count": null,
      "outputs": []
    },
    {
      "cell_type": "code",
      "source": [
        "# esto es para coger una una unica columna pero en formato dataframe.\n",
        "df[[\"Title\"]]"
      ],
      "metadata": {
        "id": "mnBh1aUXa3zr"
      },
      "execution_count": null,
      "outputs": []
    },
    {
      "cell_type": "code",
      "source": [
        "movies_column = list(df.columns) # aqui estamos convirtiendo en una lista los nombres de las columnda de un dataframe"
      ],
      "metadata": {
        "id": "4ySrT6VGbFaS"
      },
      "execution_count": null,
      "outputs": []
    },
    {
      "cell_type": "code",
      "source": [
        "type()"
      ],
      "metadata": {
        "id": "6nMNZdkBbUy-"
      },
      "execution_count": null,
      "outputs": []
    },
    {
      "cell_type": "markdown",
      "source": [
        "## VER LOS NOMBRES DE LAS COLUMNAS QUE TIENE"
      ],
      "metadata": {
        "id": "mtrDW3usZMW5"
      }
    },
    {
      "cell_type": "code",
      "source": [
        "df1.columns"
      ],
      "metadata": {
        "id": "SWh1GbqPZQxX"
      },
      "execution_count": null,
      "outputs": []
    },
    {
      "cell_type": "markdown",
      "source": [
        "## ver el tipo de formato de las variables etc..."
      ],
      "metadata": {
        "id": "OHM_OEficMtd"
      }
    },
    {
      "cell_type": "code",
      "source": [
        "df2.types con esto vemos el tipo de las variables. "
      ],
      "metadata": {
        "id": "KMDhkHyccR6Z"
      },
      "execution_count": null,
      "outputs": []
    },
    {
      "cell_type": "code",
      "source": [
        "df2.describe() # con esto vemos contar, media minimoo max quartiles. "
      ],
      "metadata": {
        "id": "QBAu5PXJcUvx"
      },
      "execution_count": null,
      "outputs": []
    },
    {
      "cell_type": "code",
      "source": [
        "df2.isnull().sum() #para ver los nan"
      ],
      "metadata": {
        "id": "faBhGrs0crd4"
      },
      "execution_count": null,
      "outputs": []
    },
    {
      "cell_type": "code",
      "source": [
        "df.shape # con esto vemos la forma de dataframe, también lo podemos hacer con un array. "
      ],
      "metadata": {
        "id": "efTWtFNdf_fu"
      },
      "execution_count": null,
      "outputs": []
    },
    {
      "cell_type": "code",
      "source": [
        "df.info() # información del dataset"
      ],
      "metadata": {
        "id": "QFaaH9w3aGOH"
      },
      "execution_count": null,
      "outputs": []
    },
    {
      "cell_type": "markdown",
      "source": [
        "## ver la forma. "
      ],
      "metadata": {
        "id": "XLoM_ZX3ZfWe"
      }
    },
    {
      "cell_type": "code",
      "source": [
        "df.shape"
      ],
      "metadata": {
        "id": "ywTgWCgoZjVI"
      },
      "execution_count": null,
      "outputs": []
    },
    {
      "cell_type": "markdown",
      "source": [
        "## CONVERTIR EL TIPO DE VARIABLES. "
      ],
      "metadata": {
        "id": "h8UczwOIhJ0z"
      }
    },
    {
      "cell_type": "code",
      "source": [
        "df['id_cl']=df['id_cl'].apply(str)\n",
        "df[\"anno\"] = df[\"anno\"].apply(str)\n",
        "df[\"mes\"] = df[\"mes\"].apply(str)\n",
        "df[\"cod_sector\"] = df[\"cod_sector\"].apply(str)\n",
        "df[\"provincia\"] = df[\"provincia\"].apply(str)"
      ],
      "metadata": {
        "id": "5ejjokQ1hOGe"
      },
      "execution_count": null,
      "outputs": []
    },
    {
      "cell_type": "code",
      "source": [
        "# con esto creamos la columna de fecha desde varias columnas. \n",
        "\n",
        "\n",
        "df[\"Fecha\"] = df[\"anno\"] + \"/\" + df[\"mes\"] \n",
        "#data[\"Fecha\"] = data[\"anno\"] + \"/\" + data[\"mes\"] + \"/\" + \"01\"\n",
        "df.Fecha = pd.to_datetime(df.Fecha, dayfirst = True)"
      ],
      "metadata": {
        "id": "rgQGmrOtheoF"
      },
      "execution_count": null,
      "outputs": []
    },
    {
      "cell_type": "markdown",
      "source": [
        "## RENOMBRAR VARIABLES. "
      ],
      "metadata": {
        "id": "g-zIXxzVjwd6"
      }
    },
    {
      "cell_type": "code",
      "source": [
        "df_gr_cl = df_gr_cl.rename(columns={'importe2':'imp2_tot_cl'}).reset_index()"
      ],
      "metadata": {
        "id": "3wWbcPPmjzOP"
      },
      "execution_count": null,
      "outputs": []
    },
    {
      "cell_type": "markdown",
      "source": [
        "##RESET INDEX"
      ],
      "metadata": {
        "id": "7Bd4Eu6Q6i5a"
      }
    },
    {
      "cell_type": "code",
      "source": [
        "df3.reset_index(inplace=True, drop=True)\n",
        "df3.head()"
      ],
      "metadata": {
        "id": "s50_RR0C6qVr"
      },
      "execution_count": null,
      "outputs": []
    },
    {
      "cell_type": "markdown",
      "source": [
        "## TRASPONER EL DATAFRAME Y PIVOT TABLE"
      ],
      "metadata": {
        "id": "KRBDuhEzMZCB"
      }
    },
    {
      "cell_type": "code",
      "source": [
        "# estamos geneando un diccionario con diferentes variables. \n",
        "# cada variable contiene una lista de valores. \n",
        "import pandas as pd\n",
        "datos = {'nombre':['María', 'Luis', 'Carmen'],\n",
        "        'edad':[18, 22, 20],\n",
        "        'Matemáticas':[8.5, 7, 3.5],\n",
        "        'Economía':[8, 6.5, 5],\n",
        "        'Programación':[6.5, 4, 9]}\n",
        "df = pd.DataFrame(datos) # aqui lo convertimos a dataframe.\n",
        "# después lo que estamos haciendo es crear el nombre de las columnas. \n",
        "df1 = df.melt(id_vars=['nombre', 'edad'], var_name='asignatura', value_name='nota')\n",
        "#print(df1)\n",
        "df1"
      ],
      "metadata": {
        "colab": {
          "base_uri": "https://localhost:8080/",
          "height": 343
        },
        "id": "zRvuXEw1Mczh",
        "outputId": "12861483-e6a2-4627-d583-fd0c84a7f72f"
      },
      "execution_count": 1,
      "outputs": [
        {
          "output_type": "execute_result",
          "data": {
            "text/plain": [
              "   nombre  edad    asignatura  nota\n",
              "0   María    18   Matemáticas   8.5\n",
              "1    Luis    22   Matemáticas   7.0\n",
              "2  Carmen    20   Matemáticas   3.5\n",
              "3   María    18      Economía   8.0\n",
              "4    Luis    22      Economía   6.5\n",
              "5  Carmen    20      Economía   5.0\n",
              "6   María    18  Programación   6.5\n",
              "7    Luis    22  Programación   4.0\n",
              "8  Carmen    20  Programación   9.0"
            ],
            "text/html": [
              "\n",
              "  <div id=\"df-8a7433b7-bf2e-418d-93c7-a681138d5210\">\n",
              "    <div class=\"colab-df-container\">\n",
              "      <div>\n",
              "<style scoped>\n",
              "    .dataframe tbody tr th:only-of-type {\n",
              "        vertical-align: middle;\n",
              "    }\n",
              "\n",
              "    .dataframe tbody tr th {\n",
              "        vertical-align: top;\n",
              "    }\n",
              "\n",
              "    .dataframe thead th {\n",
              "        text-align: right;\n",
              "    }\n",
              "</style>\n",
              "<table border=\"1\" class=\"dataframe\">\n",
              "  <thead>\n",
              "    <tr style=\"text-align: right;\">\n",
              "      <th></th>\n",
              "      <th>nombre</th>\n",
              "      <th>edad</th>\n",
              "      <th>asignatura</th>\n",
              "      <th>nota</th>\n",
              "    </tr>\n",
              "  </thead>\n",
              "  <tbody>\n",
              "    <tr>\n",
              "      <th>0</th>\n",
              "      <td>María</td>\n",
              "      <td>18</td>\n",
              "      <td>Matemáticas</td>\n",
              "      <td>8.5</td>\n",
              "    </tr>\n",
              "    <tr>\n",
              "      <th>1</th>\n",
              "      <td>Luis</td>\n",
              "      <td>22</td>\n",
              "      <td>Matemáticas</td>\n",
              "      <td>7.0</td>\n",
              "    </tr>\n",
              "    <tr>\n",
              "      <th>2</th>\n",
              "      <td>Carmen</td>\n",
              "      <td>20</td>\n",
              "      <td>Matemáticas</td>\n",
              "      <td>3.5</td>\n",
              "    </tr>\n",
              "    <tr>\n",
              "      <th>3</th>\n",
              "      <td>María</td>\n",
              "      <td>18</td>\n",
              "      <td>Economía</td>\n",
              "      <td>8.0</td>\n",
              "    </tr>\n",
              "    <tr>\n",
              "      <th>4</th>\n",
              "      <td>Luis</td>\n",
              "      <td>22</td>\n",
              "      <td>Economía</td>\n",
              "      <td>6.5</td>\n",
              "    </tr>\n",
              "    <tr>\n",
              "      <th>5</th>\n",
              "      <td>Carmen</td>\n",
              "      <td>20</td>\n",
              "      <td>Economía</td>\n",
              "      <td>5.0</td>\n",
              "    </tr>\n",
              "    <tr>\n",
              "      <th>6</th>\n",
              "      <td>María</td>\n",
              "      <td>18</td>\n",
              "      <td>Programación</td>\n",
              "      <td>6.5</td>\n",
              "    </tr>\n",
              "    <tr>\n",
              "      <th>7</th>\n",
              "      <td>Luis</td>\n",
              "      <td>22</td>\n",
              "      <td>Programación</td>\n",
              "      <td>4.0</td>\n",
              "    </tr>\n",
              "    <tr>\n",
              "      <th>8</th>\n",
              "      <td>Carmen</td>\n",
              "      <td>20</td>\n",
              "      <td>Programación</td>\n",
              "      <td>9.0</td>\n",
              "    </tr>\n",
              "  </tbody>\n",
              "</table>\n",
              "</div>\n",
              "      <button class=\"colab-df-convert\" onclick=\"convertToInteractive('df-8a7433b7-bf2e-418d-93c7-a681138d5210')\"\n",
              "              title=\"Convert this dataframe to an interactive table.\"\n",
              "              style=\"display:none;\">\n",
              "        \n",
              "  <svg xmlns=\"http://www.w3.org/2000/svg\" height=\"24px\"viewBox=\"0 0 24 24\"\n",
              "       width=\"24px\">\n",
              "    <path d=\"M0 0h24v24H0V0z\" fill=\"none\"/>\n",
              "    <path d=\"M18.56 5.44l.94 2.06.94-2.06 2.06-.94-2.06-.94-.94-2.06-.94 2.06-2.06.94zm-11 1L8.5 8.5l.94-2.06 2.06-.94-2.06-.94L8.5 2.5l-.94 2.06-2.06.94zm10 10l.94 2.06.94-2.06 2.06-.94-2.06-.94-.94-2.06-.94 2.06-2.06.94z\"/><path d=\"M17.41 7.96l-1.37-1.37c-.4-.4-.92-.59-1.43-.59-.52 0-1.04.2-1.43.59L10.3 9.45l-7.72 7.72c-.78.78-.78 2.05 0 2.83L4 21.41c.39.39.9.59 1.41.59.51 0 1.02-.2 1.41-.59l7.78-7.78 2.81-2.81c.8-.78.8-2.07 0-2.86zM5.41 20L4 18.59l7.72-7.72 1.47 1.35L5.41 20z\"/>\n",
              "  </svg>\n",
              "      </button>\n",
              "      \n",
              "  <style>\n",
              "    .colab-df-container {\n",
              "      display:flex;\n",
              "      flex-wrap:wrap;\n",
              "      gap: 12px;\n",
              "    }\n",
              "\n",
              "    .colab-df-convert {\n",
              "      background-color: #E8F0FE;\n",
              "      border: none;\n",
              "      border-radius: 50%;\n",
              "      cursor: pointer;\n",
              "      display: none;\n",
              "      fill: #1967D2;\n",
              "      height: 32px;\n",
              "      padding: 0 0 0 0;\n",
              "      width: 32px;\n",
              "    }\n",
              "\n",
              "    .colab-df-convert:hover {\n",
              "      background-color: #E2EBFA;\n",
              "      box-shadow: 0px 1px 2px rgba(60, 64, 67, 0.3), 0px 1px 3px 1px rgba(60, 64, 67, 0.15);\n",
              "      fill: #174EA6;\n",
              "    }\n",
              "\n",
              "    [theme=dark] .colab-df-convert {\n",
              "      background-color: #3B4455;\n",
              "      fill: #D2E3FC;\n",
              "    }\n",
              "\n",
              "    [theme=dark] .colab-df-convert:hover {\n",
              "      background-color: #434B5C;\n",
              "      box-shadow: 0px 1px 3px 1px rgba(0, 0, 0, 0.15);\n",
              "      filter: drop-shadow(0px 1px 2px rgba(0, 0, 0, 0.3));\n",
              "      fill: #FFFFFF;\n",
              "    }\n",
              "  </style>\n",
              "\n",
              "      <script>\n",
              "        const buttonEl =\n",
              "          document.querySelector('#df-8a7433b7-bf2e-418d-93c7-a681138d5210 button.colab-df-convert');\n",
              "        buttonEl.style.display =\n",
              "          google.colab.kernel.accessAllowed ? 'block' : 'none';\n",
              "\n",
              "        async function convertToInteractive(key) {\n",
              "          const element = document.querySelector('#df-8a7433b7-bf2e-418d-93c7-a681138d5210');\n",
              "          const dataTable =\n",
              "            await google.colab.kernel.invokeFunction('convertToInteractive',\n",
              "                                                     [key], {});\n",
              "          if (!dataTable) return;\n",
              "\n",
              "          const docLinkHtml = 'Like what you see? Visit the ' +\n",
              "            '<a target=\"_blank\" href=https://colab.research.google.com/notebooks/data_table.ipynb>data table notebook</a>'\n",
              "            + ' to learn more about interactive tables.';\n",
              "          element.innerHTML = '';\n",
              "          dataTable['output_type'] = 'display_data';\n",
              "          await google.colab.output.renderOutput(dataTable, element);\n",
              "          const docLink = document.createElement('div');\n",
              "          docLink.innerHTML = docLinkHtml;\n",
              "          element.appendChild(docLink);\n",
              "        }\n",
              "      </script>\n",
              "    </div>\n",
              "  </div>\n",
              "  "
            ]
          },
          "metadata": {},
          "execution_count": 1
        }
      ]
    },
    {
      "cell_type": "code",
      "source": [
        "# aqui lo que estamos es transponer parte, hemos pasado las asignatura a las columnas\n",
        "# el nombre es el index, en la columna la asignatura y como valores la nota. \n",
        "print(df1.pivot(index='nombre', columns='asignatura', values='nota'))"
      ],
      "metadata": {
        "colab": {
          "base_uri": "https://localhost:8080/"
        },
        "id": "oUKLQPZcNBZh",
        "outputId": "b21da476-2707-4be9-ac60-f8967fd60354"
      },
      "execution_count": 2,
      "outputs": [
        {
          "output_type": "stream",
          "name": "stdout",
          "text": [
            "asignatura  Economía  Matemáticas  Programación\n",
            "nombre                                         \n",
            "Carmen           5.0          3.5           9.0\n",
            "Luis             6.5          7.0           4.0\n",
            "María            8.0          8.5           6.5\n"
          ]
        }
      ]
    },
    {
      "cell_type": "code",
      "source": [
        "#df2 = df1.pivot(index='nombre', columns='asignatura', values='nota')\n",
        "df2 = df1.pivot( columns='asignatura', values='nota')\n",
        "df2 # en este caso lo unico que hemos dejado son las asignaturas con sus notas. "
      ],
      "metadata": {
        "colab": {
          "base_uri": "https://localhost:8080/",
          "height": 343
        },
        "id": "NAStbLAONwVu",
        "outputId": "9119f483-4344-4924-a8c5-960c683c4e67"
      },
      "execution_count": 4,
      "outputs": [
        {
          "output_type": "execute_result",
          "data": {
            "text/plain": [
              "asignatura  Economía  Matemáticas  Programación\n",
              "0                NaN          8.5           NaN\n",
              "1                NaN          7.0           NaN\n",
              "2                NaN          3.5           NaN\n",
              "3                8.0          NaN           NaN\n",
              "4                6.5          NaN           NaN\n",
              "5                5.0          NaN           NaN\n",
              "6                NaN          NaN           6.5\n",
              "7                NaN          NaN           4.0\n",
              "8                NaN          NaN           9.0"
            ],
            "text/html": [
              "\n",
              "  <div id=\"df-b1bee62c-2694-4e79-8857-66263e42a63b\">\n",
              "    <div class=\"colab-df-container\">\n",
              "      <div>\n",
              "<style scoped>\n",
              "    .dataframe tbody tr th:only-of-type {\n",
              "        vertical-align: middle;\n",
              "    }\n",
              "\n",
              "    .dataframe tbody tr th {\n",
              "        vertical-align: top;\n",
              "    }\n",
              "\n",
              "    .dataframe thead th {\n",
              "        text-align: right;\n",
              "    }\n",
              "</style>\n",
              "<table border=\"1\" class=\"dataframe\">\n",
              "  <thead>\n",
              "    <tr style=\"text-align: right;\">\n",
              "      <th>asignatura</th>\n",
              "      <th>Economía</th>\n",
              "      <th>Matemáticas</th>\n",
              "      <th>Programación</th>\n",
              "    </tr>\n",
              "  </thead>\n",
              "  <tbody>\n",
              "    <tr>\n",
              "      <th>0</th>\n",
              "      <td>NaN</td>\n",
              "      <td>8.5</td>\n",
              "      <td>NaN</td>\n",
              "    </tr>\n",
              "    <tr>\n",
              "      <th>1</th>\n",
              "      <td>NaN</td>\n",
              "      <td>7.0</td>\n",
              "      <td>NaN</td>\n",
              "    </tr>\n",
              "    <tr>\n",
              "      <th>2</th>\n",
              "      <td>NaN</td>\n",
              "      <td>3.5</td>\n",
              "      <td>NaN</td>\n",
              "    </tr>\n",
              "    <tr>\n",
              "      <th>3</th>\n",
              "      <td>8.0</td>\n",
              "      <td>NaN</td>\n",
              "      <td>NaN</td>\n",
              "    </tr>\n",
              "    <tr>\n",
              "      <th>4</th>\n",
              "      <td>6.5</td>\n",
              "      <td>NaN</td>\n",
              "      <td>NaN</td>\n",
              "    </tr>\n",
              "    <tr>\n",
              "      <th>5</th>\n",
              "      <td>5.0</td>\n",
              "      <td>NaN</td>\n",
              "      <td>NaN</td>\n",
              "    </tr>\n",
              "    <tr>\n",
              "      <th>6</th>\n",
              "      <td>NaN</td>\n",
              "      <td>NaN</td>\n",
              "      <td>6.5</td>\n",
              "    </tr>\n",
              "    <tr>\n",
              "      <th>7</th>\n",
              "      <td>NaN</td>\n",
              "      <td>NaN</td>\n",
              "      <td>4.0</td>\n",
              "    </tr>\n",
              "    <tr>\n",
              "      <th>8</th>\n",
              "      <td>NaN</td>\n",
              "      <td>NaN</td>\n",
              "      <td>9.0</td>\n",
              "    </tr>\n",
              "  </tbody>\n",
              "</table>\n",
              "</div>\n",
              "      <button class=\"colab-df-convert\" onclick=\"convertToInteractive('df-b1bee62c-2694-4e79-8857-66263e42a63b')\"\n",
              "              title=\"Convert this dataframe to an interactive table.\"\n",
              "              style=\"display:none;\">\n",
              "        \n",
              "  <svg xmlns=\"http://www.w3.org/2000/svg\" height=\"24px\"viewBox=\"0 0 24 24\"\n",
              "       width=\"24px\">\n",
              "    <path d=\"M0 0h24v24H0V0z\" fill=\"none\"/>\n",
              "    <path d=\"M18.56 5.44l.94 2.06.94-2.06 2.06-.94-2.06-.94-.94-2.06-.94 2.06-2.06.94zm-11 1L8.5 8.5l.94-2.06 2.06-.94-2.06-.94L8.5 2.5l-.94 2.06-2.06.94zm10 10l.94 2.06.94-2.06 2.06-.94-2.06-.94-.94-2.06-.94 2.06-2.06.94z\"/><path d=\"M17.41 7.96l-1.37-1.37c-.4-.4-.92-.59-1.43-.59-.52 0-1.04.2-1.43.59L10.3 9.45l-7.72 7.72c-.78.78-.78 2.05 0 2.83L4 21.41c.39.39.9.59 1.41.59.51 0 1.02-.2 1.41-.59l7.78-7.78 2.81-2.81c.8-.78.8-2.07 0-2.86zM5.41 20L4 18.59l7.72-7.72 1.47 1.35L5.41 20z\"/>\n",
              "  </svg>\n",
              "      </button>\n",
              "      \n",
              "  <style>\n",
              "    .colab-df-container {\n",
              "      display:flex;\n",
              "      flex-wrap:wrap;\n",
              "      gap: 12px;\n",
              "    }\n",
              "\n",
              "    .colab-df-convert {\n",
              "      background-color: #E8F0FE;\n",
              "      border: none;\n",
              "      border-radius: 50%;\n",
              "      cursor: pointer;\n",
              "      display: none;\n",
              "      fill: #1967D2;\n",
              "      height: 32px;\n",
              "      padding: 0 0 0 0;\n",
              "      width: 32px;\n",
              "    }\n",
              "\n",
              "    .colab-df-convert:hover {\n",
              "      background-color: #E2EBFA;\n",
              "      box-shadow: 0px 1px 2px rgba(60, 64, 67, 0.3), 0px 1px 3px 1px rgba(60, 64, 67, 0.15);\n",
              "      fill: #174EA6;\n",
              "    }\n",
              "\n",
              "    [theme=dark] .colab-df-convert {\n",
              "      background-color: #3B4455;\n",
              "      fill: #D2E3FC;\n",
              "    }\n",
              "\n",
              "    [theme=dark] .colab-df-convert:hover {\n",
              "      background-color: #434B5C;\n",
              "      box-shadow: 0px 1px 3px 1px rgba(0, 0, 0, 0.15);\n",
              "      filter: drop-shadow(0px 1px 2px rgba(0, 0, 0, 0.3));\n",
              "      fill: #FFFFFF;\n",
              "    }\n",
              "  </style>\n",
              "\n",
              "      <script>\n",
              "        const buttonEl =\n",
              "          document.querySelector('#df-b1bee62c-2694-4e79-8857-66263e42a63b button.colab-df-convert');\n",
              "        buttonEl.style.display =\n",
              "          google.colab.kernel.accessAllowed ? 'block' : 'none';\n",
              "\n",
              "        async function convertToInteractive(key) {\n",
              "          const element = document.querySelector('#df-b1bee62c-2694-4e79-8857-66263e42a63b');\n",
              "          const dataTable =\n",
              "            await google.colab.kernel.invokeFunction('convertToInteractive',\n",
              "                                                     [key], {});\n",
              "          if (!dataTable) return;\n",
              "\n",
              "          const docLinkHtml = 'Like what you see? Visit the ' +\n",
              "            '<a target=\"_blank\" href=https://colab.research.google.com/notebooks/data_table.ipynb>data table notebook</a>'\n",
              "            + ' to learn more about interactive tables.';\n",
              "          element.innerHTML = '';\n",
              "          dataTable['output_type'] = 'display_data';\n",
              "          await google.colab.output.renderOutput(dataTable, element);\n",
              "          const docLink = document.createElement('div');\n",
              "          docLink.innerHTML = docLinkHtml;\n",
              "          element.appendChild(docLink);\n",
              "        }\n",
              "      </script>\n",
              "    </div>\n",
              "  </div>\n",
              "  "
            ]
          },
          "metadata": {},
          "execution_count": 4
        }
      ]
    },
    {
      "cell_type": "code",
      "source": [
        "# AHORA VAMOS A HACER UN PIVOTE"
      ],
      "metadata": {
        "id": "OUx6SJhtgYUv"
      },
      "execution_count": null,
      "outputs": []
    },
    {
      "cell_type": "code",
      "source": [
        "df.groupby([\"Year\", \"Subject\"]).agg({\"Popularity\": np.mean})"
      ],
      "metadata": {
        "id": "YKP13m5KgcAS"
      },
      "execution_count": null,
      "outputs": []
    },
    {
      "cell_type": "code",
      "source": [
        "df.pivot_table(values =\"Popularity\",index = \"Year\", columns = \"Subject\", aggfunc = np.mean)\n",
        "# estamos haciendo una table pivot de en la que sacamos la media de popularidad \n",
        "# con una agregación de año y tema. \n",
        "# importante cuando entramos en el parentesis ver la ayuda flotante para ver los argumentos por defecto. "
      ],
      "metadata": {
        "id": "aueWLbXDghEs"
      },
      "execution_count": null,
      "outputs": []
    },
    {
      "cell_type": "code",
      "source": [
        ""
      ],
      "metadata": {
        "id": "kH9158Eggpf1"
      },
      "execution_count": null,
      "outputs": []
    },
    {
      "cell_type": "markdown",
      "source": [
        "## FILTRAR DATASET"
      ],
      "metadata": {
        "id": "XHkLkxcQQI-4"
      }
    },
    {
      "cell_type": "code",
      "source": [
        "dataset.iloc[:, 0:3].head() # esto no vale para nada es para ver como filtrar un data set. \n",
        "# NO HEMOS ASIGNADO VARIABLE POR LO TANTO NO CAMBIA NADA SOLO SE VISUALIZA"
      ],
      "metadata": {
        "id": "qjMdfhfXQM39"
      },
      "execution_count": null,
      "outputs": []
    },
    {
      "cell_type": "markdown",
      "source": [
        "también lo podemos hacer así. "
      ],
      "metadata": {
        "id": "7UWrS2fwZ6rh"
      }
    },
    {
      "cell_type": "code",
      "source": [
        "df2 = df1[[\"id_cl\", \"Fecha\"]] # vamos introduciendo todas las columnas que queramos. \n",
        "# se colocarán en el orden que las pongamos. "
      ],
      "metadata": {
        "id": "h0MCGg5CZ9WU"
      },
      "execution_count": null,
      "outputs": []
    },
    {
      "cell_type": "markdown",
      "source": [
        "### FILTRAR POR FECHA"
      ],
      "metadata": {
        "id": "_bl4NVQWepcN"
      }
    },
    {
      "cell_type": "code",
      "source": [
        "split_date = pd.datetime(2018,12,1)\n",
        "df_fecha_cl = df_fecha_cl0.loc[df_fecha_cl0.index <= split_date].copy()\n",
        "df_fecha_cl.head(30)\n",
        "# con esto filtramos por fecha menor o igual al split_date\n",
        "# también lo podemos hacer así. \n",
        "    # vamos hacer algo pareceido a un where en sql\n",
        "    # primero hacemos df[\"year\"] > 1991 y luego le ponemos los corchetes por fuera. \n",
        "\n",
        "    df[df[\"Year\"] > 1991]"
      ],
      "metadata": {
        "id": "0CLSDfmyesY0"
      },
      "execution_count": null,
      "outputs": []
    },
    {
      "cell_type": "markdown",
      "source": [
        "### filtrar por fila"
      ],
      "metadata": {
        "id": "6GU2dzH1sz4y"
      }
    },
    {
      "cell_type": "code",
      "source": [
        "df[\"nombre de la columna\"]==\"nombre de lo que queremos filtrar \"\n",
        "df[\"nombre de la columna\"]==\"300\" # filtro por un valor. "
      ],
      "metadata": {
        "id": "jQyLmHrAs2nf"
      },
      "execution_count": null,
      "outputs": []
    },
    {
      "cell_type": "code",
      "source": [
        "df_mask = df2[(df2.PIB >0) & (df2.cotiz_empleadores>0)] # aqui estamos filtrando por dos condiciones.\n",
        "df_mask = df2[(df2.PIB >0)]# aqui por una condición"
      ],
      "metadata": {
        "id": "6b3CkM813r6l"
      },
      "execution_count": null,
      "outputs": []
    },
    {
      "cell_type": "markdown",
      "source": [
        "### filtrar"
      ],
      "metadata": {
        "id": "Bb15gd7fb-Co"
      }
    },
    {
      "cell_type": "code",
      "source": [
        "es_posterior_1991 = df[\"Year\"] > 1991\n",
        "es_comedia = df [\"Subject\"] == \"Comedy\"\n",
        "df[es_posterior_1991 & es_comedia] # ojo el and tiene que ser con el aspersan y or con |"
      ],
      "metadata": {
        "id": "E2KPCW8kcApo"
      },
      "execution_count": null,
      "outputs": []
    },
    {
      "cell_type": "code",
      "source": [
        "es_igual_1991_1992 = df[\"Year\"].isin([1991, 1992])\n",
        "es_comedia = df [\"Subject\"] == \"Comedy\"\n",
        "df[es_posterior_1991 & es_comedia] # ojo el and tiene que ser con el aspersan y or con |"
      ],
      "metadata": {
        "id": "gnS_w7_ocZLV"
      },
      "execution_count": null,
      "outputs": []
    },
    {
      "cell_type": "markdown",
      "source": [
        "### filtros de texto"
      ],
      "metadata": {
        "id": "Pg99qx8ecqyJ"
      }
    },
    {
      "cell_type": "code",
      "source": [
        "titulo_empieza_por_A = df.Title.str.startswith(\"A\") \n",
        "director_empieza_por_A = df.Director.str.startswith(\"A\")\n",
        "df[titulo_empieza_por_A | director_empieza_por_A] # o una u otra"
      ],
      "metadata": {
        "id": "QhhXKYubctUb"
      },
      "execution_count": null,
      "outputs": []
    },
    {
      "cell_type": "code",
      "source": [
        "titulo_empieza_por_A = df.Title.str.startswith(\"A\") \n",
        "director_empieza_por_A = df.Director.str.startswith(\"A\")\n",
        "df[titulo_empieza_por_A & director_empieza_por_A] # aqui se tienen que cumplir las dos. "
      ],
      "metadata": {
        "id": "xOHHgpf1cz60"
      },
      "execution_count": null,
      "outputs": []
    },
    {
      "cell_type": "code",
      "source": [
        "titulo_empieza_por_A = df.Title.str.startswith(\"A\") \n",
        "director_empieza_por_A = df.Director.str.startswith(\"A\")\n",
        "df[titulo_empieza_por_A | director_empieza_por_A] # o una u otra\n",
        "df2 = df[titulo_empieza_por_A | director_empieza_por_A]"
      ],
      "metadata": {
        "id": "tIx6fKSEc4Fo"
      },
      "execution_count": null,
      "outputs": []
    },
    {
      "cell_type": "code",
      "source": [
        "titulo_empieza_por_A = df.Title.str.startswith(\"A\") \n",
        "director_empieza_por_A = df.Director.str.startswith(\"A\")\n",
        "df[titulo_empieza_por_A | director_empieza_por_A] # o una u otra\n",
        "df2 = df[titulo_empieza_por_A | director_empieza_por_A][[\"Title\", \"Director\"]]\n",
        "df2"
      ],
      "metadata": {
        "id": "7KHWAs53c9jZ"
      },
      "execution_count": null,
      "outputs": []
    },
    {
      "cell_type": "markdown",
      "source": [
        "### filtro unique"
      ],
      "metadata": {
        "id": "QSpKYrFOdW-J"
      }
    },
    {
      "cell_type": "code",
      "source": [
        "df[\"Subject\"].unique() # titulos únicos. "
      ],
      "metadata": {
        "id": "TxFCu-97dZrc"
      },
      "execution_count": null,
      "outputs": []
    },
    {
      "cell_type": "code",
      "source": [
        "df[\"Subject\"].unique() # titulos únicos. "
      ],
      "metadata": {
        "id": "SIS2dKtSdUSc"
      },
      "execution_count": null,
      "outputs": []
    },
    {
      "cell_type": "markdown",
      "source": [
        "### suma, mediana, count"
      ],
      "metadata": {
        "id": "fBmU8cv0dkZc"
      }
    },
    {
      "cell_type": "code",
      "source": [
        "df[\"Length\"].sum() # suma de toda la serie Length\n",
        "df[\"Length\"].mean()\n",
        "df[\"Length\"].count()\n",
        "df[\"Length\"].unique() # haciendo un len de esto lo tendríamos para hacer un contar de distintos"
      ],
      "metadata": {
        "id": "js4r9YWldnTc"
      },
      "execution_count": null,
      "outputs": []
    },
    {
      "cell_type": "code",
      "source": [
        "df[\"Length\"].max()"
      ],
      "metadata": {
        "id": "amGEWM_xd-BR"
      },
      "execution_count": null,
      "outputs": []
    },
    {
      "cell_type": "code",
      "source": [
        ""
      ],
      "metadata": {
        "id": "Xab4qj4Vd-6P"
      },
      "execution_count": null,
      "outputs": []
    },
    {
      "cell_type": "markdown",
      "source": [
        "## OPERACIONES CON COLUMNAS"
      ],
      "metadata": {
        "id": "DtPa-9EueGtL"
      }
    },
    {
      "cell_type": "code",
      "source": [
        "df[\"Length\"] * 2\n",
        "df[\"Length\"] = df[\"Length\"] * 2 # así pisaríamos la variable length\n",
        "df[\"Length_by_2\"] = df[\"Length\"] * 2 # de esta manera creamos una nueva sin sustituir. "
      ],
      "metadata": {
        "id": "XA8Ag9bmeKdH"
      },
      "execution_count": null,
      "outputs": []
    },
    {
      "cell_type": "code",
      "source": [
        "# va a ser el porcentaje de popularity añadir columna\n",
        "df[\"Popularity_percentaje\"] = df[\"Popularity\"] / 100"
      ],
      "metadata": {
        "id": "dgtQV4wfecla"
      },
      "execution_count": null,
      "outputs": []
    },
    {
      "cell_type": "markdown",
      "source": [
        "## AGREGACIONES"
      ],
      "metadata": {
        "id": "LZM43eVJepws"
      }
    },
    {
      "cell_type": "code",
      "source": [
        "#Agregaciones. \n",
        "# hacemos la agregación por año y genero y sobre popukarity hacemos la media. \n",
        "# ojo que no devuelve un dataframe. tiene un indice de year y subject y luego saca la media. \n",
        "# para devolver como data frame lo vemos debajo utilizando el diccionario. \n",
        "df.groupby([\"Year\", \"Subject\"])[\"Popularity\"].mean()"
      ],
      "metadata": {
        "id": "vmQGKWHMesKP"
      },
      "execution_count": null,
      "outputs": []
    },
    {
      "cell_type": "code",
      "source": [
        "import numpy as np\n",
        "\n",
        "# vamos a agrupar por varias length y popuarity. en el diccionario de debajo\n",
        "# ponemos la clave y como valor su función. \n",
        "\n",
        "agregaciones = {\n",
        "    \"Length\": np.max,\n",
        "    \"Popularity\":np.min\n",
        "}\n",
        "\n",
        "agregado_df = df.groupby([\"Year\", \"Subject\"]).agg(agregaciones)\n",
        "# tenemos un indice de dos columnas. "
      ],
      "metadata": {
        "id": "Oyqu3cVmewBN"
      },
      "execution_count": null,
      "outputs": []
    },
    {
      "cell_type": "code",
      "source": [
        "# vamos a hacer para cada uno de los directores la media de popularidad del director. \n",
        "\n",
        "agregaciones = {\n",
        "    \n",
        "    \"Popularity\":np.mean\n",
        "}\n",
        "\n",
        "agregado_df_popularity_director = df.groupby([\"Director\"]).agg(agregaciones)\n",
        "agregado_df_popularity_director\n",
        "\n",
        "# otra manera df([\"Director\"]).agg({\"Popularity\": np.mean})"
      ],
      "metadata": {
        "id": "BBS6lVEBf0BV"
      },
      "execution_count": null,
      "outputs": []
    },
    {
      "cell_type": "markdown",
      "source": [
        "## AGRUPAR POR UNA VARIABLE. "
      ],
      "metadata": {
        "id": "kZcRV59miU_l"
      }
    },
    {
      "cell_type": "code",
      "source": [
        "df_gr_cl=pd.DataFrame(df_fecha.groupby('id_cl')['importe2'].sum())"
      ],
      "metadata": {
        "id": "IZZAyC28iYhU"
      },
      "execution_count": null,
      "outputs": []
    },
    {
      "cell_type": "code",
      "source": [
        "gr_activ=df_fecha.groupby(['rama_actividad','desc_actividad']).count() # AGRUPAR Y CONTAR "
      ],
      "metadata": {
        "id": "_US3-_SLiSWf"
      },
      "execution_count": null,
      "outputs": []
    },
    {
      "cell_type": "code",
      "source": [
        "df5 = df3.groupby([\"Fecha\", \"desc_actividad\"]).agg({\"importe2\":[\"sum\"], \"PIB\":[\"mean\"], \"cotiz_empleadores\":[\"mean\"]}).reset_index()\n",
        "df5.head()\n",
        "# agrupar por varias variables y asignandoles una función diferente. \n",
        "# ejemplo el importe2 lo sumamos, el importe hacemos la media, y la cotizacion hacemos la media. \n",
        "\n",
        "# OJO ESTO GENERA UN PROBLEMA YA QUE LAS COLUMNAS SE CONVIERTEN EN MULTIINDEX\n",
        "# PARA QUITARLO HACEMOS ESTO\n",
        "df5.columns = [\"Fecha\", \"desc_actividad\", \"importe2\", \"PIB\", \"cotiz_empleadores\"] \n",
        "# lo que hacemos es renombrar las columnas y se quita. "
      ],
      "metadata": {
        "id": "GgnCY-mZDWnm"
      },
      "execution_count": null,
      "outputs": []
    },
    {
      "cell_type": "markdown",
      "source": [
        "## MOVER UNA COLUMNA DE POSICION"
      ],
      "metadata": {
        "id": "BDMB0byCRWbj"
      }
    },
    {
      "cell_type": "code",
      "source": [
        "# si por ejemplo tenemos un df = con las columnas a,b,c,d,e,f\n",
        "# y queremos monver la columna b al último lugar lo hacemos así. \n",
        "# df= df[[\"a\", \"c\", \"d\", \"e\", \"f\", \"a\"]]\n",
        "# de esta manera la colocaremos al final. muy util para separa variables independientes de las independientes. \n",
        "# servirça para filtrar y tambien para recolocar las filas. "
      ],
      "metadata": {
        "id": "sRYtMNVSRavR"
      },
      "execution_count": null,
      "outputs": []
    },
    {
      "cell_type": "code",
      "source": [
        "# otra manera sería así. \n",
        "# df.reindex(columns=[\"a\", \"c\", \"d\", \"e\", \"f\", \"a\"])"
      ],
      "metadata": {
        "id": "YoYrnIOATDdo"
      },
      "execution_count": null,
      "outputs": []
    },
    {
      "cell_type": "markdown",
      "source": [
        "## INTRODUCIR UNA NUEVA COLUMNA"
      ],
      "metadata": {
        "id": "4qHN0FjOSVak"
      }
    },
    {
      "cell_type": "code",
      "source": [
        "# si queremos meter una nueva columna se hace así. \n",
        "# df.insert(0, \"nombre de la columna\", df.mean(1)) en este caso hemos insertado una nueva columna \n",
        "# en la posición 0, y el valor que hemos metido es la media de toda la fila."
      ],
      "metadata": {
        "id": "fGk8gFIWSZkg"
      },
      "execution_count": null,
      "outputs": []
    },
    {
      "cell_type": "markdown",
      "source": [
        "## UNIMOS DOS DATASET"
      ],
      "metadata": {
        "id": "Ro5_OT7rT625"
      }
    },
    {
      "cell_type": "code",
      "source": [
        "# si queremos unir dos dataset se hace así. \n",
        "# dataset4 = pd.concat([dataset2,dataset3], axis=1, join=\"inner\")"
      ],
      "metadata": {
        "id": "zS3FhjiWUDIc"
      },
      "execution_count": null,
      "outputs": []
    },
    {
      "cell_type": "markdown",
      "source": [
        "### UNIR DOS DATASET CON CLAVE PRIMARIA"
      ],
      "metadata": {
        "id": "naMZ1YgKeKsr"
      }
    },
    {
      "cell_type": "code",
      "source": [
        "df_fecha_tot=pd.merge(df_fecha,df_cl_tot,left_on=['id_cl','Fecha'], right_on=['id_cl','Fecha'],how='left')"
      ],
      "metadata": {
        "id": "OdEFDVO4eQc5"
      },
      "execution_count": null,
      "outputs": []
    },
    {
      "cell_type": "markdown",
      "source": [
        "## DATOS FALTANTES VALORES NAN"
      ],
      "metadata": {
        "id": "d8NWpQuiRvMs"
      }
    },
    {
      "cell_type": "markdown",
      "source": [
        "con los datos faltantes podemos hacer muchas cosas. eliminar la columna, la fila, rellenar con un valor, rellenar con la media, con el valor anterior, posterior etc..."
      ],
      "metadata": {
        "id": "K9iqKAakR_JV"
      }
    },
    {
      "cell_type": "code",
      "source": [
        "df.isnull().sum().sort_value(ascending = False) # con esto sacamos el resumen y ordenador de mayor a menor\n",
        "# si queremos ver el porcentaje lo hacemos de la siguiente manera. \n",
        "percent = (df.isnull().sum() / df.isnull().count().sort_values(ascending = False))"
      ],
      "metadata": {
        "id": "4Z52KePKgRkT"
      },
      "execution_count": null,
      "outputs": []
    },
    {
      "cell_type": "code",
      "source": [
        "df.fillna(0) # con esto rellenamos los valores faltantes a 0"
      ],
      "metadata": {
        "id": "iKoQpSBuhUxO"
      },
      "execution_count": null,
      "outputs": []
    },
    {
      "cell_type": "code",
      "source": [
        "from pandas.core import missing\n",
        "# VAMOS A REMPLAZAR POR LA MEDIA. \n",
        "# recordatorio axis = 0 es media de columna si fuera 1 sería por linea. \n",
        "imputer = SimpleImputer(missing_values = np.nan, strategy = \"mean\", verbose=0) # asi lo que hacemos es convertir los valores nan por la media de la columna. \n",
        "imputer = imputer.fit(X[:,1:3]) # el objeto que queremos arreglar es la X, le decimos que todas las filas, y acotamos las columnas a las que se lo queremos hacer. recordar ponemos 3 porque coge siempre la anterior. \n",
        "# en python la primera columna es 0 y cuando acotamos la última que cogemos siempre ponemos un numero más. \n",
        "X[:, 1:3] = imputer.transform(X[:,1:3]) # asi es como definitivamente lo hacemos. \n",
        " \n",
        "\"\"\"\n",
        "Escribimos código\n",
        "imputer = SimpleImputer(missing_values= np.nan, strategy= \"mean\", verbose=0)\n",
        "imputer = imputer.fit(X[:,1:3])\n",
        "x[:,1:3] = imputer.transform[X[:,1:3]] \"\"\"\n",
        "X # veremos debajo que ha quedado sustituido."
      ],
      "metadata": {
        "colab": {
          "base_uri": "https://localhost:8080/"
        },
        "id": "3TGfIEGiRyYa",
        "outputId": "6af4d878-46a4-4036-9352-15f9e032b5ff"
      },
      "execution_count": null,
      "outputs": [
        {
          "output_type": "execute_result",
          "data": {
            "text/plain": [
              "array([['France', 44.0, 72000.0],\n",
              "       ['Spain', 27.0, 48000.0],\n",
              "       ['Germany', 30.0, 54000.0],\n",
              "       ['Spain', 38.0, 61000.0],\n",
              "       ['Germany', 40.0, 63777.77777777778],\n",
              "       ['France', 35.0, 58000.0],\n",
              "       ['Spain', 38.77777777777778, 52000.0],\n",
              "       ['France', 48.0, 79000.0],\n",
              "       ['Germany', 50.0, 83000.0],\n",
              "       ['France', 37.0, 67000.0]], dtype=object)"
            ]
          },
          "metadata": {},
          "execution_count": 10
        }
      ]
    },
    {
      "cell_type": "markdown",
      "source": [
        "## DATOS CATEGORICOS TRADUCIR A NUMEROS. "
      ],
      "metadata": {
        "id": "T6UQlhK6dcSg"
      }
    },
    {
      "cell_type": "markdown",
      "source": [
        "lo que vamos a hacer estraducir los datos categoriocs a números. ejemplo españa 1, alemania 2 ..."
      ],
      "metadata": {
        "id": "mvAKnqzOd9Dz"
      }
    },
    {
      "cell_type": "code",
      "source": [
        "from sklearn.preprocessing import LabelEncoder, OneHotEncoder\n",
        "from sklearn.compose import ColumnTransformer"
      ],
      "metadata": {
        "id": "j2EqI_SYdhCF"
      },
      "execution_count": null,
      "outputs": []
    },
    {
      "cell_type": "markdown",
      "source": [
        "hay dos maneras de hacerlo. la primera lo pone como numeros en una columna. pero eso puede dar luegar a que los entienda como ordinales. la otra manera es ponerlos en columnas."
      ],
      "metadata": {
        "id": "gRArkGNWOuCS"
      }
    },
    {
      "cell_type": "code",
      "source": [
        "# OJOO NO HAY QUE CODIFICARLO ASÍ PORQUE TE LO PONE EN UNA UNICA COLUMNA Y LO PUEDE CONSIDERAR ORDINAL\n",
        "#labelencoder_X = LabelEncoder() # este es el constructor \n",
        "#X[:, 0] = labelencoder_X.fit_transform(X[:, 0]) # sabemos que 0 es la columna de país. \n",
        "#X[:,0] # como podemos ver la primera que era Francia la ha codificado como 0, la seguna españa 2, la tercera alemania 1...."
      ],
      "metadata": {
        "id": "aFaPOksJdnNh",
        "outputId": "a91d4b66-bc23-4f99-85a3-06be67701bc1",
        "colab": {
          "base_uri": "https://localhost:8080/"
        }
      },
      "execution_count": null,
      "outputs": [
        {
          "output_type": "execute_result",
          "data": {
            "text/plain": [
              "array([0, 2, 1, 2, 1, 0, 2, 0, 1, 0], dtype=object)"
            ]
          },
          "metadata": {},
          "execution_count": 11
        }
      ]
    },
    {
      "cell_type": "code",
      "source": [
        "#X # aqui vemos como lo ha cambiado. el problema que al codificarlo así, va a entender que 0 es menor que 1. es decir la va a considerar como ordinal.....\n",
        "# ahora debajo vamos a ver las variables dummy. "
      ],
      "metadata": {
        "id": "IuXlTsYlfVKG",
        "outputId": "520f15ff-b9d0-43b5-dddf-e7b8c85ddafc",
        "colab": {
          "base_uri": "https://localhost:8080/"
        }
      },
      "execution_count": null,
      "outputs": [
        {
          "output_type": "execute_result",
          "data": {
            "text/plain": [
              "array([[0, 44.0, 72000.0],\n",
              "       [2, 27.0, 48000.0],\n",
              "       [1, 30.0, 54000.0],\n",
              "       [2, 38.0, 61000.0],\n",
              "       [1, 40.0, 63777.77777777778],\n",
              "       [0, 35.0, 58000.0],\n",
              "       [2, 38.77777777777778, 52000.0],\n",
              "       [0, 48.0, 79000.0],\n",
              "       [1, 50.0, 83000.0],\n",
              "       [0, 37.0, 67000.0]], dtype=object)"
            ]
          },
          "metadata": {},
          "execution_count": 12
        }
      ]
    },
    {
      "cell_type": "markdown",
      "source": [
        "esta es la segunda manera con la que lo que hace es ponerlo en columnas. "
      ],
      "metadata": {
        "id": "RTqmkP7ePC8P"
      }
    },
    {
      "cell_type": "code",
      "source": [
        "ct = ColumnTransformer(\n",
        "    [('one_hot_encoder', OneHotEncoder(categories='auto'), [0])],    # The column numbers to be transformed (here is [0] but can be [0, 1, 3])\n",
        "    remainder='passthrough'                         # Leave the rest of the columns untouched\n",
        ")\n"
      ],
      "metadata": {
        "id": "WVDrNshWdsPu"
      },
      "execution_count": null,
      "outputs": []
    },
    {
      "cell_type": "code",
      "source": [
        "X = ct.fit_transform(X)\n",
        "X # vemos que aquí ya lo ha transformado, p"
      ],
      "metadata": {
        "id": "NB_915QqhA4d",
        "outputId": "6d984398-d7fa-4590-810a-8c1a6751a65b",
        "colab": {
          "base_uri": "https://localhost:8080/"
        }
      },
      "execution_count": null,
      "outputs": [
        {
          "output_type": "execute_result",
          "data": {
            "text/plain": [
              "array([[1.0, 0.0, 0.0, 44.0, 72000.0],\n",
              "       [0.0, 0.0, 1.0, 27.0, 48000.0],\n",
              "       [0.0, 1.0, 0.0, 30.0, 54000.0],\n",
              "       [0.0, 0.0, 1.0, 38.0, 61000.0],\n",
              "       [0.0, 1.0, 0.0, 40.0, 63777.77777777778],\n",
              "       [1.0, 0.0, 0.0, 35.0, 58000.0],\n",
              "       [0.0, 0.0, 1.0, 38.77777777777778, 52000.0],\n",
              "       [1.0, 0.0, 0.0, 48.0, 79000.0],\n",
              "       [0.0, 1.0, 0.0, 50.0, 83000.0],\n",
              "       [1.0, 0.0, 0.0, 37.0, 67000.0]], dtype=object)"
            ]
          },
          "metadata": {},
          "execution_count": 13
        }
      ]
    },
    {
      "cell_type": "markdown",
      "source": [
        "aqui lo hacemo de una vez este segundo metodo"
      ],
      "metadata": {
        "id": "4Ly6zr9NVuSb"
      }
    },
    {
      "cell_type": "code",
      "source": [
        "\"\"\"from sklearn.preprocessing import LabelEncoder, OneHotEncoder\n",
        "from sklearn.compose import make_column_transformer\n",
        "labelencoder_X = LabelEncoder()\n",
        "X[:, 3] = labelencoder_X.fit_transform(X[:, 3])\n",
        "onehotencoder = make_column_transformer((OneHotEncoder(), [3]), remainder = \"passthrough\")\n",
        "X = onehotencoder.fit_transform(X)\"\"\""
      ],
      "metadata": {
        "id": "kgHEs9FdVy15"
      },
      "execution_count": null,
      "outputs": []
    },
    {
      "cell_type": "markdown",
      "source": [
        "###EVITAR LA TRAS DE LAS VARIABLES FICTICIAS. "
      ],
      "metadata": {
        "id": "C287Vz2jQfBu"
      }
    },
    {
      "cell_type": "code",
      "source": [
        "X = X[:, 1:] # con esto lo que hacemos es eliminar una ya que cuando dos den 0 será la tercera. "
      ],
      "metadata": {
        "id": "tfaSaX01Qn5V"
      },
      "execution_count": null,
      "outputs": []
    },
    {
      "cell_type": "markdown",
      "source": [
        "## operaciones con dataframes"
      ],
      "metadata": {
        "id": "8i3yE9Zyg-r-"
      }
    },
    {
      "cell_type": "code",
      "source": [
        "# vamos a ver los merge es decir los joins.\n",
        "df_movies_1 = pd.read_csv(\"movies_1.csv\", sep=\";\")\n",
        "df_movies_2 = pd.read_csv(\"movies_2.csv\", sep=\";\")"
      ],
      "metadata": {
        "id": "3xhMnogkhD4Q"
      },
      "execution_count": null,
      "outputs": []
    },
    {
      "cell_type": "code",
      "source": [
        "# vamos a cruzar 1 con tres. pero en una se llama title y en otra name. \n",
        "# lo tenemos que hacer por año y por título\n",
        "# left_on es para movies1 y right_on para movies 3\n",
        "# estamos cruzando izquierda con derecho\n",
        "pd.merge(df_movies1, df_movies_3, left_on=[\"Title\", \"Year\"], right_on= [\"Name\", \"Year\"] )"
      ],
      "metadata": {
        "id": "lVYz_KgzhOqW"
      },
      "execution_count": null,
      "outputs": []
    },
    {
      "cell_type": "code",
      "source": [
        "# siempre por defecto how(argumento dentro de merge) es inner.\n",
        "# solo se queda con los coincidentes entre los dos. \n",
        "# how = left se queda con todo lo de la izquierda y las que coinciden de la derecha. \n",
        "# how = right lo contraio\n",
        "# how = outer, te dá todo. "
      ],
      "metadata": {
        "id": "uXbWAU4khVZF"
      },
      "execution_count": null,
      "outputs": []
    },
    {
      "cell_type": "code",
      "source": [
        "merge_left = pd.merge(df_movies1, df_movies_3, left_on=[\"Title\", \"Year\"], \n",
        "                      right_on= [\"Name\", \"Year\"], how= \"left\",  )"
      ],
      "metadata": {
        "id": "htQKhQj7hoPP"
      },
      "execution_count": null,
      "outputs": []
    },
    {
      "cell_type": "code",
      "source": [
        "merge_right = pd.merge(df_movies1, df_movies_3, left_on=[\"Title\", \"Year\"],\n",
        "                       right_on= [\"Name\", \"Year\"], how= \"right\" )"
      ],
      "metadata": {
        "id": "R-5-ot-lhpAg"
      },
      "execution_count": null,
      "outputs": []
    },
    {
      "cell_type": "code",
      "source": [
        "merge_right[merge_right[\"Title\"].isnull()] # aqui estamos mostrando los vacios de titulo\n",
        "# izuqierda y derecha me da igual, derecha nos quedamos con toda la derecha, \n",
        "# izquierda nos quedamos con toda la izquierda. \n",
        "# luego buscamos los vacios según sea derecha o izquierda. "
      ],
      "metadata": {
        "id": "BWj2qP5whsO3"
      },
      "execution_count": null,
      "outputs": []
    },
    {
      "cell_type": "code",
      "source": [
        "# el full es todo es mezclar el right y el left a la vez. \n",
        "merge_full = pd.merge(df_movies1, df_movies_3, left_on=[\"Title\", \"Year\"],\n",
        "                       right_on= [\"Name\", \"Year\"], how= \"outer\" )\n",
        "merge_full"
      ],
      "metadata": {
        "id": "wWe47vCqh2R1"
      },
      "execution_count": null,
      "outputs": []
    },
    {
      "cell_type": "markdown",
      "metadata": {
        "id": "x8PABYut0i7y"
      },
      "source": [
        "## Dividir el data set en conjunto de entrenamiento y conjunto de testing\n"
      ]
    },
    {
      "cell_type": "code",
      "execution_count": null,
      "metadata": {
        "id": "oPVZUP870DoR"
      },
      "outputs": [],
      "source": [
        "from sklearn.model_selection import train_test_split"
      ]
    },
    {
      "cell_type": "code",
      "execution_count": null,
      "metadata": {
        "id": "3lajo7ye0lEs"
      },
      "outputs": [],
      "source": [
        "X_train, X_test, y_train, y_test = train_test_split(X, y, test_size = 0.2, random_state = 0) # random_state es la semilla. "
      ]
    },
    {
      "cell_type": "markdown",
      "source": [
        "## TRANSFORMAR UN ARRAY EN DATAFRAME"
      ],
      "metadata": {
        "id": "562sg02LWccC"
      }
    },
    {
      "cell_type": "code",
      "source": [
        "result = pd.DataFrame({'California': X[:, 0], 'Florida': X[:, 1],'New York': X[:, 2]})\n",
        "#result = pd.DataFrame({'Column1': X[:, 0], 'Column2': X[:, 1],'Column3': X[:, 2]})\n",
        "# esto entiendo es para convertir el array en un dataframe. "
      ],
      "metadata": {
        "id": "UhpexPAXWgnx"
      },
      "execution_count": null,
      "outputs": []
    },
    {
      "cell_type": "markdown",
      "metadata": {
        "id": "YRMD7_oq3J_f"
      },
      "source": [
        "## Escalado de variables"
      ]
    },
    {
      "cell_type": "markdown",
      "source": [
        "### StandarScaler"
      ],
      "metadata": {
        "id": "UnL4e1T7PTbx"
      }
    },
    {
      "cell_type": "code",
      "execution_count": null,
      "metadata": {
        "id": "BQ-MnRSO0md2"
      },
      "outputs": [],
      "source": [
        "from sklearn.preprocessing import StandardScaler # esta tenderá a crear una campana de gauss. aglutina valores en torno a la media. \n",
        "# la normalización, transforma en 0 y 1"
      ]
    },
    {
      "cell_type": "code",
      "execution_count": null,
      "metadata": {
        "id": "kt9uD3hE0nxd"
      },
      "outputs": [],
      "source": [
        "sc_X = StandardScaler()\n",
        "X_train = sc_X.fit_transform(X_train)\n",
        "X_test = sc_X.transform(X_test) # aqui le decimos que escale igual que en X_train. \n",
        "# la pregunta sería ¿tenemos que escalar las variables dummy?.  AQUI SI LO HACEMOS. "
      ]
    },
    {
      "cell_type": "code",
      "source": [
        ""
      ],
      "metadata": {
        "id": "ymwl8fsHESF8"
      },
      "execution_count": null,
      "outputs": []
    },
    {
      "cell_type": "code",
      "source": [
        "X_train # como vemos al haberlo transformados el 0 1 de los paises se ha convertido en numeros diferentes. "
      ],
      "metadata": {
        "colab": {
          "base_uri": "https://localhost:8080/"
        },
        "id": "LBCCLAxdBHve",
        "outputId": "5ed1fe2a-b2fc-4331-ad6d-49d8b47ebc55"
      },
      "execution_count": null,
      "outputs": [
        {
          "output_type": "execute_result",
          "data": {
            "text/plain": [
              "array([[-1.        ,  2.64575131, -0.77459667,  0.26306757,  0.12381479],\n",
              "       [ 1.        , -0.37796447, -0.77459667, -0.25350148,  0.46175632],\n",
              "       [-1.        , -0.37796447,  1.29099445, -1.97539832, -1.53093341],\n",
              "       [-1.        , -0.37796447,  1.29099445,  0.05261351, -1.11141978],\n",
              "       [ 1.        , -0.37796447, -0.77459667,  1.64058505,  1.7202972 ],\n",
              "       [-1.        , -0.37796447,  1.29099445, -0.0813118 , -0.16751412],\n",
              "       [ 1.        , -0.37796447, -0.77459667,  0.95182631,  0.98614835],\n",
              "       [ 1.        , -0.37796447, -0.77459667, -0.59788085, -0.48214934]])"
            ]
          },
          "metadata": {},
          "execution_count": 27
        }
      ]
    },
    {
      "cell_type": "code",
      "source": [
        "X_test"
      ],
      "metadata": {
        "colab": {
          "base_uri": "https://localhost:8080/"
        },
        "id": "5VsVa0hfBJjb",
        "outputId": "c4751a1e-37ad-4238-a74e-921d5a6bb0c6"
      },
      "execution_count": null,
      "outputs": [
        {
          "output_type": "execute_result",
          "data": {
            "text/plain": [
              "array([[-1.        ,  2.64575131, -0.77459667, -1.45882927, -0.90166297],\n",
              "       [-1.        ,  2.64575131, -0.77459667,  1.98496442,  2.13981082]])"
            ]
          },
          "metadata": {},
          "execution_count": 28
        }
      ]
    },
    {
      "cell_type": "markdown",
      "source": [
        "#EXCEL"
      ],
      "metadata": {
        "id": "AG9T10pAXlWg"
      }
    },
    {
      "cell_type": "markdown",
      "source": [
        "## LLEVAR A UN EXCEL CSV"
      ],
      "metadata": {
        "id": "_Z-xD1qZh_fn"
      }
    },
    {
      "cell_type": "code",
      "source": [
        "# una vez hecho todo toca volcar la información de vuelta a csv\n",
        "merge_full.to_csv(\"salida.csv\", sep= \"|\", index = False)\n",
        "# lo que ha hecho es mandarmelo al temporal de collab, como sabemos lo tenemos que descargar \n",
        "# porque desaparece.\n",
        "# imagino que si lo haces en otra herramienta que no sea colab, habrá que ponerle\n",
        "# la dirección que corresponda. "
      ],
      "metadata": {
        "id": "ujM43nSnEWHT"
      },
      "execution_count": null,
      "outputs": []
    },
    {
      "cell_type": "markdown",
      "source": [
        "## TRABAJANDO CON EXCEL EN ARCHIVOS"
      ],
      "metadata": {
        "id": "AvNnKeXUXdnt"
      }
    },
    {
      "cell_type": "code",
      "source": [
        "# imaginemos que los archivos que tenemos de movies son los archivos. \n"
      ],
      "metadata": {
        "id": "_ukAvtQlXvkW"
      },
      "execution_count": null,
      "outputs": []
    },
    {
      "cell_type": "code",
      "source": [
        "import pandas as pd\n",
        "import os"
      ],
      "metadata": {
        "id": "BdYNJJuTX4gb"
      },
      "execution_count": null,
      "outputs": []
    },
    {
      "cell_type": "code",
      "source": [
        "# hemos creado tres carpetas y en cada uno hemos metido el mismo archivo de movies. \n",
        "# para poder ver como se hace.....\n",
        "\n",
        "print(os.listdir(\".\"))  # esto lo que hace es listar todo el contenido de una carpeta.\n",
        "# \".\" te dice lo que hay en el directorio actual\n"
      ],
      "metadata": {
        "id": "G3oiHRzBX9p1"
      },
      "execution_count": null,
      "outputs": []
    },
    {
      "cell_type": "code",
      "source": [
        "carpetas = os.listdir(\".\")\n",
        "print(carpetas)"
      ],
      "metadata": {
        "id": "S38eRA5FYEv_"
      },
      "execution_count": null,
      "outputs": []
    },
    {
      "cell_type": "code",
      "source": [
        "# asi filtramos solo los ficheros que empiecen por dt=\n",
        "\n",
        "dias_df = [] # abrimos la lista\n",
        "\n",
        "for carpeta in carpetas: # recorre carpeta in carpetas, carpetas ya la hemos definido arriba. \n",
        "    if carpeta.startswith(\"dt=\"): # si la carpeta empieza por lo que está dentro del parentesis. \n",
        "        fichero_datos = f\"{carpeta}/movies.csv\" # esto lo que hace es guardar en fichero de datos los nombres de todas las carpetas que tenemos con esa condición\n",
        "\n",
        "        print(fichero_datos) # aquí la imprime. \n",
        "        df = pd.read_csv(fichero_datos, sep=\";\") # aqui estamos leyendo todas las carpetas de datos. \n",
        "        df[\"fecha\"] = carpeta[-10:]\n",
        "        dias_df.append(df) # aqui apendiza a la lista de arriba el dataframe. \n",
        "\n",
        "print(len(dias_df)) # aqui lo que imprime es el numero de archivos. "
      ],
      "metadata": {
        "id": "7o2WxsTYYKqV"
      },
      "execution_count": null,
      "outputs": []
    },
    {
      "cell_type": "code",
      "source": [
        "all_dfs = pd.concat(dias_df) # aqui lo que estamos haciendo es concatenar todos los archivos en uno de la lista que hemos generado arriba. "
      ],
      "metadata": {
        "id": "BKxIO659Zevv"
      },
      "execution_count": null,
      "outputs": []
    },
    {
      "cell_type": "code",
      "source": [
        "len(all_dfs) # con esto sabriamos la longitud del dataframe resultante. "
      ],
      "metadata": {
        "id": "z__AoiGlZ-Gk"
      },
      "execution_count": null,
      "outputs": []
    },
    {
      "cell_type": "code",
      "source": [
        "n_fechas = all_dfs[\"fecha\"].unique() # con esto le estamos diciendo que nos diga las fechas unicas dentro del dataframe"
      ],
      "metadata": {
        "id": "RYTX_mizaGnf"
      },
      "execution_count": null,
      "outputs": []
    },
    {
      "cell_type": "code",
      "source": [
        "len(n_fechas) # con esto nos diría la cantidad de registros únicos de fechas. "
      ],
      "metadata": {
        "id": "5SpmrfJ5acxp"
      },
      "execution_count": null,
      "outputs": []
    },
    {
      "cell_type": "code",
      "source": [
        "from datetime import datetime\n",
        "fecha_hoy = datetime.today().strftime(\"%Y-%m-%d\") # asi formateamos la fecha que sale igua que la\n",
        "# tenemos en los\n",
        "# archivos.  Y año m es mes d es día. \n",
        "carpeta_salida = f\"salidas/dt={fecha_hoy}\"\n",
        "print(carpeta_salida)\n",
        "os.makedirs(carpeta_salida, exist_ok = True) # esto crea la carpeta "
      ],
      "metadata": {
        "id": "G5ixyI7Mao8e"
      },
      "execution_count": null,
      "outputs": []
    },
    {
      "cell_type": "code",
      "source": [
        "all_dfs.to_csv(f\"{carpeta_salida}/salida_{fecha_hoy}.csv\", sep = \"|\", index = False)\n",
        "# esto mete el dataframe dentro de una carpeta y le pone el nombre"
      ],
      "metadata": {
        "id": "eY41uizaa6PQ"
      },
      "execution_count": null,
      "outputs": []
    }
  ],
  "metadata": {
    "colab": {
      "name": "data_preprocessing_template.ipynb",
      "provenance": [],
      "toc_visible": true,
      "include_colab_link": true
    },
    "kernelspec": {
      "display_name": "Python 3",
      "language": "python",
      "name": "python3"
    },
    "language_info": {
      "codemirror_mode": {
        "name": "ipython",
        "version": 3
      },
      "file_extension": ".py",
      "mimetype": "text/x-python",
      "name": "python",
      "nbconvert_exporter": "python",
      "pygments_lexer": "ipython3",
      "version": "3.8.3"
    }
  },
  "nbformat": 4,
  "nbformat_minor": 0
}