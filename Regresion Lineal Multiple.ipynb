{
  "cells": [
    {
      "cell_type": "markdown",
      "metadata": {
        "id": "view-in-github",
        "colab_type": "text"
      },
      "source": [
        "<a href=\"https://colab.research.google.com/github/pacomm5/Plantillas/blob/main/Regresion%20Lineal%20Multiple.ipynb\" target=\"_parent\"><img src=\"https://colab.research.google.com/assets/colab-badge.svg\" alt=\"Open In Colab\"/></a>"
      ]
    },
    {
      "cell_type": "markdown",
      "source": [
        "# REGRESION LINEAL MULTIPLE"
      ],
      "metadata": {
        "id": "VH203vgglusb"
      }
    },
    {
      "cell_type": "markdown",
      "metadata": {
        "id": "KdUFcDsdzRyw"
      },
      "source": [
        "# Clonamos el repositorio para obtener los dataSet"
      ]
    },
    {
      "cell_type": "code",
      "execution_count": 1,
      "metadata": {
        "colab": {
          "base_uri": "https://localhost:8080/"
        },
        "id": "mHReFf3_y9ms",
        "outputId": "47333117-8666-4c9d-c192-ef1e5187c9ff"
      },
      "outputs": [
        {
          "output_type": "stream",
          "name": "stdout",
          "text": [
            "Cloning into 'machinelearning-az'...\n",
            "remote: Enumerating objects: 10541, done.\u001b[K\n",
            "remote: Counting objects: 100% (36/36), done.\u001b[K\n",
            "remote: Compressing objects: 100% (36/36), done.\u001b[K\n",
            "remote: Total 10541 (delta 25), reused 0 (delta 0), pack-reused 10505\u001b[K\n",
            "Receiving objects: 100% (10541/10541), 311.58 MiB | 22.92 MiB/s, done.\n",
            "Resolving deltas: 100% (245/245), done.\n",
            "Checking out files: 100% (10250/10250), done.\n"
          ]
        }
      ],
      "source": [
        "#!git clone https://github.com/joanby/machinelearning-az.git\n",
        "! git clone https://github.com/pacomm5/machinelearning-az # de esta manera lo que hacemos es acceder a todos los datasets mios de github. en este caso de marchine learning de la a a la z"
      ]
    },
    {
      "cell_type": "markdown",
      "metadata": {
        "id": "vNKZXgtKzU2x"
      },
      "source": [
        "# Damos acceso a nuestro Drive"
      ]
    },
    {
      "cell_type": "code",
      "execution_count": 2,
      "metadata": {
        "colab": {
          "base_uri": "https://localhost:8080/"
        },
        "id": "5gu7KWnzzUQ0",
        "outputId": "39abeeb1-235e-4b94-f4cd-e28289d74c83"
      },
      "outputs": [
        {
          "output_type": "stream",
          "name": "stdout",
          "text": [
            "Mounted at /content/drive\n"
          ]
        }
      ],
      "source": [
        "from google.colab import drive\n",
        "drive.mount('/content/drive')   "
      ]
    },
    {
      "cell_type": "markdown",
      "metadata": {
        "id": "1gUxIkHWzfHV"
      },
      "source": [
        "# Test it"
      ]
    },
    {
      "cell_type": "code",
      "execution_count": 3,
      "metadata": {
        "colab": {
          "base_uri": "https://localhost:8080/"
        },
        "id": "mIQt3jBMzYRE",
        "outputId": "780ee12a-7745-4222-e779-dfd93d756624"
      },
      "outputs": [
        {
          "output_type": "stream",
          "name": "stdout",
          "text": [
            "'additional materials'\t LICENSE\t\t    README.md\n",
            " datasets\t\t machinelearning-az.Rproj\n"
          ]
        }
      ],
      "source": [
        "!ls '/content/machinelearning-az' "
      ]
    },
    {
      "cell_type": "markdown",
      "metadata": {
        "id": "mHsK36uN0XB-"
      },
      "source": [
        "# Google colab tools"
      ]
    },
    {
      "cell_type": "code",
      "execution_count": 4,
      "metadata": {
        "id": "kTzwfUPWzrm4"
      },
      "outputs": [],
      "source": [
        "from google.colab import files # Para manejar los archivos y, por ejemplo, exportar a su navegador\n",
        "import glob # Para manejar los archivos y, por ejemplo, exportar a su navegador\n",
        "from google.colab import drive # Montar tu Google drive\n",
        "import sklearn\n",
        "from sklearn.impute import SimpleImputer"
      ]
    },
    {
      "cell_type": "markdown",
      "metadata": {
        "id": "3yFpBwmNz70v"
      },
      "source": [
        "# Plantilla de Pre Procesado"
      ]
    },
    {
      "cell_type": "markdown",
      "metadata": {
        "id": "v8OxSXXSz-OP"
      },
      "source": [
        "# Cómo importar las librerías\n"
      ]
    },
    {
      "cell_type": "code",
      "execution_count": 5,
      "metadata": {
        "id": "edZX51YLzs59"
      },
      "outputs": [],
      "source": [
        "import numpy as np # este para matemáticas. \n",
        "import matplotlib.pyplot as plt # este para gráficos\n",
        "import pandas as pd # perfecta carga, manipular.... datos. "
      ]
    },
    {
      "cell_type": "markdown",
      "metadata": {
        "id": "8XfXlqtF0B58"
      },
      "source": [
        "# Importar el data set\n"
      ]
    },
    {
      "cell_type": "code",
      "execution_count": 64,
      "metadata": {
        "id": "-nnozsHsz_-N"
      },
      "outputs": [],
      "source": [
        "# VAMOS A HACER UNA REGRESSION LINEAL SIMPLE. \n",
        "\n",
        "dataset = pd.read_csv('/content/machinelearning-az/datasets/Part 2 - Regression/Section 5 - Multiple Linear Regression/50_Startups.csv')\n",
        "\n",
        "\n",
        "# tenemos 5 columnas enteindo que las variables independientes serán todas excepto la de profit que es la última. "
      ]
    },
    {
      "cell_type": "code",
      "source": [
        "dataset.head(5) # I+D, GASTOS EN ADMON, GASTOS EN MARKETING, ESTADO, BENEFICIO. VEMOS QUE HAY QUE CONVERTIR UNA A VARIABLE DUMMY. "
      ],
      "metadata": {
        "colab": {
          "base_uri": "https://localhost:8080/",
          "height": 221
        },
        "id": "c5LcfOjrj0aS",
        "outputId": "efb0fe3f-d1f6-4be4-e16a-1c7821f40988"
      },
      "execution_count": 57,
      "outputs": [
        {
          "output_type": "execute_result",
          "data": {
            "text/plain": [
              "   R&D Spend  Administration  Marketing Spend       State     Profit\n",
              "0  165349.20       136897.80        471784.10    New York  192261.83\n",
              "1  162597.70       151377.59        443898.53  California  191792.06\n",
              "2  153441.51       101145.55        407934.54     Florida  191050.39\n",
              "3  144372.41       118671.85        383199.62    New York  182901.99\n",
              "4  142107.34        91391.77        366168.42     Florida  166187.94"
            ],
            "text/html": [
              "\n",
              "  <div id=\"df-2163a30a-58f0-43b6-93e3-c3be794275de\">\n",
              "    <div class=\"colab-df-container\">\n",
              "      <div>\n",
              "<style scoped>\n",
              "    .dataframe tbody tr th:only-of-type {\n",
              "        vertical-align: middle;\n",
              "    }\n",
              "\n",
              "    .dataframe tbody tr th {\n",
              "        vertical-align: top;\n",
              "    }\n",
              "\n",
              "    .dataframe thead th {\n",
              "        text-align: right;\n",
              "    }\n",
              "</style>\n",
              "<table border=\"1\" class=\"dataframe\">\n",
              "  <thead>\n",
              "    <tr style=\"text-align: right;\">\n",
              "      <th></th>\n",
              "      <th>R&amp;D Spend</th>\n",
              "      <th>Administration</th>\n",
              "      <th>Marketing Spend</th>\n",
              "      <th>State</th>\n",
              "      <th>Profit</th>\n",
              "    </tr>\n",
              "  </thead>\n",
              "  <tbody>\n",
              "    <tr>\n",
              "      <th>0</th>\n",
              "      <td>165349.20</td>\n",
              "      <td>136897.80</td>\n",
              "      <td>471784.10</td>\n",
              "      <td>New York</td>\n",
              "      <td>192261.83</td>\n",
              "    </tr>\n",
              "    <tr>\n",
              "      <th>1</th>\n",
              "      <td>162597.70</td>\n",
              "      <td>151377.59</td>\n",
              "      <td>443898.53</td>\n",
              "      <td>California</td>\n",
              "      <td>191792.06</td>\n",
              "    </tr>\n",
              "    <tr>\n",
              "      <th>2</th>\n",
              "      <td>153441.51</td>\n",
              "      <td>101145.55</td>\n",
              "      <td>407934.54</td>\n",
              "      <td>Florida</td>\n",
              "      <td>191050.39</td>\n",
              "    </tr>\n",
              "    <tr>\n",
              "      <th>3</th>\n",
              "      <td>144372.41</td>\n",
              "      <td>118671.85</td>\n",
              "      <td>383199.62</td>\n",
              "      <td>New York</td>\n",
              "      <td>182901.99</td>\n",
              "    </tr>\n",
              "    <tr>\n",
              "      <th>4</th>\n",
              "      <td>142107.34</td>\n",
              "      <td>91391.77</td>\n",
              "      <td>366168.42</td>\n",
              "      <td>Florida</td>\n",
              "      <td>166187.94</td>\n",
              "    </tr>\n",
              "  </tbody>\n",
              "</table>\n",
              "</div>\n",
              "      <button class=\"colab-df-convert\" onclick=\"convertToInteractive('df-2163a30a-58f0-43b6-93e3-c3be794275de')\"\n",
              "              title=\"Convert this dataframe to an interactive table.\"\n",
              "              style=\"display:none;\">\n",
              "        \n",
              "  <svg xmlns=\"http://www.w3.org/2000/svg\" height=\"24px\"viewBox=\"0 0 24 24\"\n",
              "       width=\"24px\">\n",
              "    <path d=\"M0 0h24v24H0V0z\" fill=\"none\"/>\n",
              "    <path d=\"M18.56 5.44l.94 2.06.94-2.06 2.06-.94-2.06-.94-.94-2.06-.94 2.06-2.06.94zm-11 1L8.5 8.5l.94-2.06 2.06-.94-2.06-.94L8.5 2.5l-.94 2.06-2.06.94zm10 10l.94 2.06.94-2.06 2.06-.94-2.06-.94-.94-2.06-.94 2.06-2.06.94z\"/><path d=\"M17.41 7.96l-1.37-1.37c-.4-.4-.92-.59-1.43-.59-.52 0-1.04.2-1.43.59L10.3 9.45l-7.72 7.72c-.78.78-.78 2.05 0 2.83L4 21.41c.39.39.9.59 1.41.59.51 0 1.02-.2 1.41-.59l7.78-7.78 2.81-2.81c.8-.78.8-2.07 0-2.86zM5.41 20L4 18.59l7.72-7.72 1.47 1.35L5.41 20z\"/>\n",
              "  </svg>\n",
              "      </button>\n",
              "      \n",
              "  <style>\n",
              "    .colab-df-container {\n",
              "      display:flex;\n",
              "      flex-wrap:wrap;\n",
              "      gap: 12px;\n",
              "    }\n",
              "\n",
              "    .colab-df-convert {\n",
              "      background-color: #E8F0FE;\n",
              "      border: none;\n",
              "      border-radius: 50%;\n",
              "      cursor: pointer;\n",
              "      display: none;\n",
              "      fill: #1967D2;\n",
              "      height: 32px;\n",
              "      padding: 0 0 0 0;\n",
              "      width: 32px;\n",
              "    }\n",
              "\n",
              "    .colab-df-convert:hover {\n",
              "      background-color: #E2EBFA;\n",
              "      box-shadow: 0px 1px 2px rgba(60, 64, 67, 0.3), 0px 1px 3px 1px rgba(60, 64, 67, 0.15);\n",
              "      fill: #174EA6;\n",
              "    }\n",
              "\n",
              "    [theme=dark] .colab-df-convert {\n",
              "      background-color: #3B4455;\n",
              "      fill: #D2E3FC;\n",
              "    }\n",
              "\n",
              "    [theme=dark] .colab-df-convert:hover {\n",
              "      background-color: #434B5C;\n",
              "      box-shadow: 0px 1px 3px 1px rgba(0, 0, 0, 0.15);\n",
              "      filter: drop-shadow(0px 1px 2px rgba(0, 0, 0, 0.3));\n",
              "      fill: #FFFFFF;\n",
              "    }\n",
              "  </style>\n",
              "\n",
              "      <script>\n",
              "        const buttonEl =\n",
              "          document.querySelector('#df-2163a30a-58f0-43b6-93e3-c3be794275de button.colab-df-convert');\n",
              "        buttonEl.style.display =\n",
              "          google.colab.kernel.accessAllowed ? 'block' : 'none';\n",
              "\n",
              "        async function convertToInteractive(key) {\n",
              "          const element = document.querySelector('#df-2163a30a-58f0-43b6-93e3-c3be794275de');\n",
              "          const dataTable =\n",
              "            await google.colab.kernel.invokeFunction('convertToInteractive',\n",
              "                                                     [key], {});\n",
              "          if (!dataTable) return;\n",
              "\n",
              "          const docLinkHtml = 'Like what you see? Visit the ' +\n",
              "            '<a target=\"_blank\" href=https://colab.research.google.com/notebooks/data_table.ipynb>data table notebook</a>'\n",
              "            + ' to learn more about interactive tables.';\n",
              "          element.innerHTML = '';\n",
              "          dataTable['output_type'] = 'display_data';\n",
              "          await google.colab.output.renderOutput(dataTable, element);\n",
              "          const docLink = document.createElement('div');\n",
              "          docLink.innerHTML = docLinkHtml;\n",
              "          element.appendChild(docLink);\n",
              "        }\n",
              "      </script>\n",
              "    </div>\n",
              "  </div>\n",
              "  "
            ]
          },
          "metadata": {},
          "execution_count": 57
        }
      ]
    },
    {
      "cell_type": "code",
      "source": [
        "dataset.iloc[:, 0:3].head()"
      ],
      "metadata": {
        "id": "gNuPxKX_npwM",
        "outputId": "9a0724ff-bf12-4a75-bb7f-76ad6543a08f",
        "colab": {
          "base_uri": "https://localhost:8080/",
          "height": 221
        }
      },
      "execution_count": 101,
      "outputs": [
        {
          "output_type": "execute_result",
          "data": {
            "text/plain": [
              "   R&D Spend  Administration  Marketing Spend\n",
              "0  165349.20       136897.80        471784.10\n",
              "1  162597.70       151377.59        443898.53\n",
              "2  153441.51       101145.55        407934.54\n",
              "3  144372.41       118671.85        383199.62\n",
              "4  142107.34        91391.77        366168.42"
            ],
            "text/html": [
              "\n",
              "  <div id=\"df-efa3c456-7893-4603-9150-ee91c3613444\">\n",
              "    <div class=\"colab-df-container\">\n",
              "      <div>\n",
              "<style scoped>\n",
              "    .dataframe tbody tr th:only-of-type {\n",
              "        vertical-align: middle;\n",
              "    }\n",
              "\n",
              "    .dataframe tbody tr th {\n",
              "        vertical-align: top;\n",
              "    }\n",
              "\n",
              "    .dataframe thead th {\n",
              "        text-align: right;\n",
              "    }\n",
              "</style>\n",
              "<table border=\"1\" class=\"dataframe\">\n",
              "  <thead>\n",
              "    <tr style=\"text-align: right;\">\n",
              "      <th></th>\n",
              "      <th>R&amp;D Spend</th>\n",
              "      <th>Administration</th>\n",
              "      <th>Marketing Spend</th>\n",
              "    </tr>\n",
              "  </thead>\n",
              "  <tbody>\n",
              "    <tr>\n",
              "      <th>0</th>\n",
              "      <td>165349.20</td>\n",
              "      <td>136897.80</td>\n",
              "      <td>471784.10</td>\n",
              "    </tr>\n",
              "    <tr>\n",
              "      <th>1</th>\n",
              "      <td>162597.70</td>\n",
              "      <td>151377.59</td>\n",
              "      <td>443898.53</td>\n",
              "    </tr>\n",
              "    <tr>\n",
              "      <th>2</th>\n",
              "      <td>153441.51</td>\n",
              "      <td>101145.55</td>\n",
              "      <td>407934.54</td>\n",
              "    </tr>\n",
              "    <tr>\n",
              "      <th>3</th>\n",
              "      <td>144372.41</td>\n",
              "      <td>118671.85</td>\n",
              "      <td>383199.62</td>\n",
              "    </tr>\n",
              "    <tr>\n",
              "      <th>4</th>\n",
              "      <td>142107.34</td>\n",
              "      <td>91391.77</td>\n",
              "      <td>366168.42</td>\n",
              "    </tr>\n",
              "  </tbody>\n",
              "</table>\n",
              "</div>\n",
              "      <button class=\"colab-df-convert\" onclick=\"convertToInteractive('df-efa3c456-7893-4603-9150-ee91c3613444')\"\n",
              "              title=\"Convert this dataframe to an interactive table.\"\n",
              "              style=\"display:none;\">\n",
              "        \n",
              "  <svg xmlns=\"http://www.w3.org/2000/svg\" height=\"24px\"viewBox=\"0 0 24 24\"\n",
              "       width=\"24px\">\n",
              "    <path d=\"M0 0h24v24H0V0z\" fill=\"none\"/>\n",
              "    <path d=\"M18.56 5.44l.94 2.06.94-2.06 2.06-.94-2.06-.94-.94-2.06-.94 2.06-2.06.94zm-11 1L8.5 8.5l.94-2.06 2.06-.94-2.06-.94L8.5 2.5l-.94 2.06-2.06.94zm10 10l.94 2.06.94-2.06 2.06-.94-2.06-.94-.94-2.06-.94 2.06-2.06.94z\"/><path d=\"M17.41 7.96l-1.37-1.37c-.4-.4-.92-.59-1.43-.59-.52 0-1.04.2-1.43.59L10.3 9.45l-7.72 7.72c-.78.78-.78 2.05 0 2.83L4 21.41c.39.39.9.59 1.41.59.51 0 1.02-.2 1.41-.59l7.78-7.78 2.81-2.81c.8-.78.8-2.07 0-2.86zM5.41 20L4 18.59l7.72-7.72 1.47 1.35L5.41 20z\"/>\n",
              "  </svg>\n",
              "      </button>\n",
              "      \n",
              "  <style>\n",
              "    .colab-df-container {\n",
              "      display:flex;\n",
              "      flex-wrap:wrap;\n",
              "      gap: 12px;\n",
              "    }\n",
              "\n",
              "    .colab-df-convert {\n",
              "      background-color: #E8F0FE;\n",
              "      border: none;\n",
              "      border-radius: 50%;\n",
              "      cursor: pointer;\n",
              "      display: none;\n",
              "      fill: #1967D2;\n",
              "      height: 32px;\n",
              "      padding: 0 0 0 0;\n",
              "      width: 32px;\n",
              "    }\n",
              "\n",
              "    .colab-df-convert:hover {\n",
              "      background-color: #E2EBFA;\n",
              "      box-shadow: 0px 1px 2px rgba(60, 64, 67, 0.3), 0px 1px 3px 1px rgba(60, 64, 67, 0.15);\n",
              "      fill: #174EA6;\n",
              "    }\n",
              "\n",
              "    [theme=dark] .colab-df-convert {\n",
              "      background-color: #3B4455;\n",
              "      fill: #D2E3FC;\n",
              "    }\n",
              "\n",
              "    [theme=dark] .colab-df-convert:hover {\n",
              "      background-color: #434B5C;\n",
              "      box-shadow: 0px 1px 3px 1px rgba(0, 0, 0, 0.15);\n",
              "      filter: drop-shadow(0px 1px 2px rgba(0, 0, 0, 0.3));\n",
              "      fill: #FFFFFF;\n",
              "    }\n",
              "  </style>\n",
              "\n",
              "      <script>\n",
              "        const buttonEl =\n",
              "          document.querySelector('#df-efa3c456-7893-4603-9150-ee91c3613444 button.colab-df-convert');\n",
              "        buttonEl.style.display =\n",
              "          google.colab.kernel.accessAllowed ? 'block' : 'none';\n",
              "\n",
              "        async function convertToInteractive(key) {\n",
              "          const element = document.querySelector('#df-efa3c456-7893-4603-9150-ee91c3613444');\n",
              "          const dataTable =\n",
              "            await google.colab.kernel.invokeFunction('convertToInteractive',\n",
              "                                                     [key], {});\n",
              "          if (!dataTable) return;\n",
              "\n",
              "          const docLinkHtml = 'Like what you see? Visit the ' +\n",
              "            '<a target=\"_blank\" href=https://colab.research.google.com/notebooks/data_table.ipynb>data table notebook</a>'\n",
              "            + ' to learn more about interactive tables.';\n",
              "          element.innerHTML = '';\n",
              "          dataTable['output_type'] = 'display_data';\n",
              "          await google.colab.output.renderOutput(dataTable, element);\n",
              "          const docLink = document.createElement('div');\n",
              "          docLink.innerHTML = docLinkHtml;\n",
              "          element.appendChild(docLink);\n",
              "        }\n",
              "      </script>\n",
              "    </div>\n",
              "  </div>\n",
              "  "
            ]
          },
          "metadata": {},
          "execution_count": 101
        }
      ]
    },
    {
      "cell_type": "code",
      "source": [
        "X = dataset.iloc[:, :-1].values # años de experiencia son las variables independientes \n",
        "y = dataset.iloc[:, 4].values # Salary es la variable dependiente "
      ],
      "metadata": {
        "id": "ceA0XafSmMy0"
      },
      "execution_count": 8,
      "outputs": []
    },
    {
      "cell_type": "code",
      "source": [
        "dataset.iloc[:]"
      ],
      "metadata": {
        "id": "uVp0gfVEnWgL"
      },
      "execution_count": null,
      "outputs": []
    },
    {
      "cell_type": "code",
      "source": [
        "X"
      ],
      "metadata": {
        "colab": {
          "base_uri": "https://localhost:8080/"
        },
        "id": "Wjx-nR7unJYv",
        "outputId": "8fbeaaad-119a-4caa-86e8-a64f0399bedb"
      },
      "execution_count": 14,
      "outputs": [
        {
          "output_type": "execute_result",
          "data": {
            "text/plain": [
              "array([[165349.2, 136897.8, 471784.1, 'New York'],\n",
              "       [162597.7, 151377.59, 443898.53, 'California'],\n",
              "       [153441.51, 101145.55, 407934.54, 'Florida'],\n",
              "       [144372.41, 118671.85, 383199.62, 'New York'],\n",
              "       [142107.34, 91391.77, 366168.42, 'Florida'],\n",
              "       [131876.9, 99814.71, 362861.36, 'New York'],\n",
              "       [134615.46, 147198.87, 127716.82, 'California'],\n",
              "       [130298.13, 145530.06, 323876.68, 'Florida'],\n",
              "       [120542.52, 148718.95, 311613.29, 'New York'],\n",
              "       [123334.88, 108679.17, 304981.62, 'California'],\n",
              "       [101913.08, 110594.11, 229160.95, 'Florida'],\n",
              "       [100671.96, 91790.61, 249744.55, 'California'],\n",
              "       [93863.75, 127320.38, 249839.44, 'Florida'],\n",
              "       [91992.39, 135495.07, 252664.93, 'California'],\n",
              "       [119943.24, 156547.42, 256512.92, 'Florida'],\n",
              "       [114523.61, 122616.84, 261776.23, 'New York'],\n",
              "       [78013.11, 121597.55, 264346.06, 'California'],\n",
              "       [94657.16, 145077.58, 282574.31, 'New York'],\n",
              "       [91749.16, 114175.79, 294919.57, 'Florida'],\n",
              "       [86419.7, 153514.11, 0.0, 'New York'],\n",
              "       [76253.86, 113867.3, 298664.47, 'California'],\n",
              "       [78389.47, 153773.43, 299737.29, 'New York'],\n",
              "       [73994.56, 122782.75, 303319.26, 'Florida'],\n",
              "       [67532.53, 105751.03, 304768.73, 'Florida'],\n",
              "       [77044.01, 99281.34, 140574.81, 'New York'],\n",
              "       [64664.71, 139553.16, 137962.62, 'California'],\n",
              "       [75328.87, 144135.98, 134050.07, 'Florida'],\n",
              "       [72107.6, 127864.55, 353183.81, 'New York'],\n",
              "       [66051.52, 182645.56, 118148.2, 'Florida'],\n",
              "       [65605.48, 153032.06, 107138.38, 'New York'],\n",
              "       [61994.48, 115641.28, 91131.24, 'Florida'],\n",
              "       [61136.38, 152701.92, 88218.23, 'New York'],\n",
              "       [63408.86, 129219.61, 46085.25, 'California'],\n",
              "       [55493.95, 103057.49, 214634.81, 'Florida'],\n",
              "       [46426.07, 157693.92, 210797.67, 'California'],\n",
              "       [46014.02, 85047.44, 205517.64, 'New York'],\n",
              "       [28663.76, 127056.21, 201126.82, 'Florida'],\n",
              "       [44069.95, 51283.14, 197029.42, 'California'],\n",
              "       [20229.59, 65947.93, 185265.1, 'New York'],\n",
              "       [38558.51, 82982.09, 174999.3, 'California'],\n",
              "       [28754.33, 118546.05, 172795.67, 'California'],\n",
              "       [27892.92, 84710.77, 164470.71, 'Florida'],\n",
              "       [23640.93, 96189.63, 148001.11, 'California'],\n",
              "       [15505.73, 127382.3, 35534.17, 'New York'],\n",
              "       [22177.74, 154806.14, 28334.72, 'California'],\n",
              "       [1000.23, 124153.04, 1903.93, 'New York'],\n",
              "       [1315.46, 115816.21, 297114.46, 'Florida'],\n",
              "       [0.0, 135426.92, 0.0, 'California'],\n",
              "       [542.05, 51743.15, 0.0, 'New York'],\n",
              "       [0.0, 116983.8, 45173.06, 'California']], dtype=object)"
            ]
          },
          "metadata": {},
          "execution_count": 14
        }
      ]
    },
    {
      "cell_type": "code",
      "source": [
        "X.shape"
      ],
      "metadata": {
        "colab": {
          "base_uri": "https://localhost:8080/"
        },
        "id": "xTmZNriQn4Kf",
        "outputId": "9cfd16b4-3f0b-4951-e645-cd87c8db392d"
      },
      "execution_count": 15,
      "outputs": [
        {
          "output_type": "execute_result",
          "data": {
            "text/plain": [
              "(50, 4)"
            ]
          },
          "metadata": {},
          "execution_count": 15
        }
      ]
    },
    {
      "cell_type": "code",
      "source": [
        "y"
      ],
      "metadata": {
        "colab": {
          "base_uri": "https://localhost:8080/"
        },
        "id": "sX5TZM3vny_a",
        "outputId": "41e0456e-a290-43e7-ffbd-bfc9cda55c06"
      },
      "execution_count": 16,
      "outputs": [
        {
          "output_type": "execute_result",
          "data": {
            "text/plain": [
              "array([192261.83, 191792.06, 191050.39, 182901.99, 166187.94, 156991.12,\n",
              "       156122.51, 155752.6 , 152211.77, 149759.96, 146121.95, 144259.4 ,\n",
              "       141585.52, 134307.35, 132602.65, 129917.04, 126992.93, 125370.37,\n",
              "       124266.9 , 122776.86, 118474.03, 111313.02, 110352.25, 108733.99,\n",
              "       108552.04, 107404.34, 105733.54, 105008.31, 103282.38, 101004.64,\n",
              "        99937.59,  97483.56,  97427.84,  96778.92,  96712.8 ,  96479.51,\n",
              "        90708.19,  89949.14,  81229.06,  81005.76,  78239.91,  77798.83,\n",
              "        71498.49,  69758.98,  65200.33,  64926.08,  49490.75,  42559.73,\n",
              "        35673.41,  14681.4 ])"
            ]
          },
          "metadata": {},
          "execution_count": 16
        }
      ]
    },
    {
      "cell_type": "code",
      "source": [
        "y.shape"
      ],
      "metadata": {
        "colab": {
          "base_uri": "https://localhost:8080/"
        },
        "id": "kobIwmULn8r-",
        "outputId": "866a28a2-35ed-4729-80e6-9e678dbfc487"
      },
      "execution_count": 17,
      "outputs": [
        {
          "output_type": "execute_result",
          "data": {
            "text/plain": [
              "(50,)"
            ]
          },
          "metadata": {},
          "execution_count": 17
        }
      ]
    },
    {
      "cell_type": "code",
      "source": [
        "dataset.head() # aqui tenemos el dataset"
      ],
      "metadata": {
        "colab": {
          "base_uri": "https://localhost:8080/",
          "height": 221
        },
        "id": "YLsf3THsPMXo",
        "outputId": "87532f1f-8408-4baf-cd8d-e4c4a2cd1649"
      },
      "execution_count": 18,
      "outputs": [
        {
          "output_type": "execute_result",
          "data": {
            "text/plain": [
              "   R&D Spend  Administration  Marketing Spend       State     Profit\n",
              "0  165349.20       136897.80        471784.10    New York  192261.83\n",
              "1  162597.70       151377.59        443898.53  California  191792.06\n",
              "2  153441.51       101145.55        407934.54     Florida  191050.39\n",
              "3  144372.41       118671.85        383199.62    New York  182901.99\n",
              "4  142107.34        91391.77        366168.42     Florida  166187.94"
            ],
            "text/html": [
              "\n",
              "  <div id=\"df-327f8092-f39b-4d53-bbe9-ecfc7842d9c4\">\n",
              "    <div class=\"colab-df-container\">\n",
              "      <div>\n",
              "<style scoped>\n",
              "    .dataframe tbody tr th:only-of-type {\n",
              "        vertical-align: middle;\n",
              "    }\n",
              "\n",
              "    .dataframe tbody tr th {\n",
              "        vertical-align: top;\n",
              "    }\n",
              "\n",
              "    .dataframe thead th {\n",
              "        text-align: right;\n",
              "    }\n",
              "</style>\n",
              "<table border=\"1\" class=\"dataframe\">\n",
              "  <thead>\n",
              "    <tr style=\"text-align: right;\">\n",
              "      <th></th>\n",
              "      <th>R&amp;D Spend</th>\n",
              "      <th>Administration</th>\n",
              "      <th>Marketing Spend</th>\n",
              "      <th>State</th>\n",
              "      <th>Profit</th>\n",
              "    </tr>\n",
              "  </thead>\n",
              "  <tbody>\n",
              "    <tr>\n",
              "      <th>0</th>\n",
              "      <td>165349.20</td>\n",
              "      <td>136897.80</td>\n",
              "      <td>471784.10</td>\n",
              "      <td>New York</td>\n",
              "      <td>192261.83</td>\n",
              "    </tr>\n",
              "    <tr>\n",
              "      <th>1</th>\n",
              "      <td>162597.70</td>\n",
              "      <td>151377.59</td>\n",
              "      <td>443898.53</td>\n",
              "      <td>California</td>\n",
              "      <td>191792.06</td>\n",
              "    </tr>\n",
              "    <tr>\n",
              "      <th>2</th>\n",
              "      <td>153441.51</td>\n",
              "      <td>101145.55</td>\n",
              "      <td>407934.54</td>\n",
              "      <td>Florida</td>\n",
              "      <td>191050.39</td>\n",
              "    </tr>\n",
              "    <tr>\n",
              "      <th>3</th>\n",
              "      <td>144372.41</td>\n",
              "      <td>118671.85</td>\n",
              "      <td>383199.62</td>\n",
              "      <td>New York</td>\n",
              "      <td>182901.99</td>\n",
              "    </tr>\n",
              "    <tr>\n",
              "      <th>4</th>\n",
              "      <td>142107.34</td>\n",
              "      <td>91391.77</td>\n",
              "      <td>366168.42</td>\n",
              "      <td>Florida</td>\n",
              "      <td>166187.94</td>\n",
              "    </tr>\n",
              "  </tbody>\n",
              "</table>\n",
              "</div>\n",
              "      <button class=\"colab-df-convert\" onclick=\"convertToInteractive('df-327f8092-f39b-4d53-bbe9-ecfc7842d9c4')\"\n",
              "              title=\"Convert this dataframe to an interactive table.\"\n",
              "              style=\"display:none;\">\n",
              "        \n",
              "  <svg xmlns=\"http://www.w3.org/2000/svg\" height=\"24px\"viewBox=\"0 0 24 24\"\n",
              "       width=\"24px\">\n",
              "    <path d=\"M0 0h24v24H0V0z\" fill=\"none\"/>\n",
              "    <path d=\"M18.56 5.44l.94 2.06.94-2.06 2.06-.94-2.06-.94-.94-2.06-.94 2.06-2.06.94zm-11 1L8.5 8.5l.94-2.06 2.06-.94-2.06-.94L8.5 2.5l-.94 2.06-2.06.94zm10 10l.94 2.06.94-2.06 2.06-.94-2.06-.94-.94-2.06-.94 2.06-2.06.94z\"/><path d=\"M17.41 7.96l-1.37-1.37c-.4-.4-.92-.59-1.43-.59-.52 0-1.04.2-1.43.59L10.3 9.45l-7.72 7.72c-.78.78-.78 2.05 0 2.83L4 21.41c.39.39.9.59 1.41.59.51 0 1.02-.2 1.41-.59l7.78-7.78 2.81-2.81c.8-.78.8-2.07 0-2.86zM5.41 20L4 18.59l7.72-7.72 1.47 1.35L5.41 20z\"/>\n",
              "  </svg>\n",
              "      </button>\n",
              "      \n",
              "  <style>\n",
              "    .colab-df-container {\n",
              "      display:flex;\n",
              "      flex-wrap:wrap;\n",
              "      gap: 12px;\n",
              "    }\n",
              "\n",
              "    .colab-df-convert {\n",
              "      background-color: #E8F0FE;\n",
              "      border: none;\n",
              "      border-radius: 50%;\n",
              "      cursor: pointer;\n",
              "      display: none;\n",
              "      fill: #1967D2;\n",
              "      height: 32px;\n",
              "      padding: 0 0 0 0;\n",
              "      width: 32px;\n",
              "    }\n",
              "\n",
              "    .colab-df-convert:hover {\n",
              "      background-color: #E2EBFA;\n",
              "      box-shadow: 0px 1px 2px rgba(60, 64, 67, 0.3), 0px 1px 3px 1px rgba(60, 64, 67, 0.15);\n",
              "      fill: #174EA6;\n",
              "    }\n",
              "\n",
              "    [theme=dark] .colab-df-convert {\n",
              "      background-color: #3B4455;\n",
              "      fill: #D2E3FC;\n",
              "    }\n",
              "\n",
              "    [theme=dark] .colab-df-convert:hover {\n",
              "      background-color: #434B5C;\n",
              "      box-shadow: 0px 1px 3px 1px rgba(0, 0, 0, 0.15);\n",
              "      filter: drop-shadow(0px 1px 2px rgba(0, 0, 0, 0.3));\n",
              "      fill: #FFFFFF;\n",
              "    }\n",
              "  </style>\n",
              "\n",
              "      <script>\n",
              "        const buttonEl =\n",
              "          document.querySelector('#df-327f8092-f39b-4d53-bbe9-ecfc7842d9c4 button.colab-df-convert');\n",
              "        buttonEl.style.display =\n",
              "          google.colab.kernel.accessAllowed ? 'block' : 'none';\n",
              "\n",
              "        async function convertToInteractive(key) {\n",
              "          const element = document.querySelector('#df-327f8092-f39b-4d53-bbe9-ecfc7842d9c4');\n",
              "          const dataTable =\n",
              "            await google.colab.kernel.invokeFunction('convertToInteractive',\n",
              "                                                     [key], {});\n",
              "          if (!dataTable) return;\n",
              "\n",
              "          const docLinkHtml = 'Like what you see? Visit the ' +\n",
              "            '<a target=\"_blank\" href=https://colab.research.google.com/notebooks/data_table.ipynb>data table notebook</a>'\n",
              "            + ' to learn more about interactive tables.';\n",
              "          element.innerHTML = '';\n",
              "          dataTable['output_type'] = 'display_data';\n",
              "          await google.colab.output.renderOutput(dataTable, element);\n",
              "          const docLink = document.createElement('div');\n",
              "          docLink.innerHTML = docLinkHtml;\n",
              "          element.appendChild(docLink);\n",
              "        }\n",
              "      </script>\n",
              "    </div>\n",
              "  </div>\n",
              "  "
            ]
          },
          "metadata": {},
          "execution_count": 18
        }
      ]
    },
    {
      "cell_type": "code",
      "source": [
        "X # aqui tenemos un array con todas las filas y todas las columnas menos la última. "
      ],
      "metadata": {
        "colab": {
          "base_uri": "https://localhost:8080/"
        },
        "id": "itpSJ2tEPSe2",
        "outputId": "bce01171-6114-4af7-ee20-31b84bbfdf23"
      },
      "execution_count": 19,
      "outputs": [
        {
          "output_type": "execute_result",
          "data": {
            "text/plain": [
              "array([[165349.2, 136897.8, 471784.1, 'New York'],\n",
              "       [162597.7, 151377.59, 443898.53, 'California'],\n",
              "       [153441.51, 101145.55, 407934.54, 'Florida'],\n",
              "       [144372.41, 118671.85, 383199.62, 'New York'],\n",
              "       [142107.34, 91391.77, 366168.42, 'Florida'],\n",
              "       [131876.9, 99814.71, 362861.36, 'New York'],\n",
              "       [134615.46, 147198.87, 127716.82, 'California'],\n",
              "       [130298.13, 145530.06, 323876.68, 'Florida'],\n",
              "       [120542.52, 148718.95, 311613.29, 'New York'],\n",
              "       [123334.88, 108679.17, 304981.62, 'California'],\n",
              "       [101913.08, 110594.11, 229160.95, 'Florida'],\n",
              "       [100671.96, 91790.61, 249744.55, 'California'],\n",
              "       [93863.75, 127320.38, 249839.44, 'Florida'],\n",
              "       [91992.39, 135495.07, 252664.93, 'California'],\n",
              "       [119943.24, 156547.42, 256512.92, 'Florida'],\n",
              "       [114523.61, 122616.84, 261776.23, 'New York'],\n",
              "       [78013.11, 121597.55, 264346.06, 'California'],\n",
              "       [94657.16, 145077.58, 282574.31, 'New York'],\n",
              "       [91749.16, 114175.79, 294919.57, 'Florida'],\n",
              "       [86419.7, 153514.11, 0.0, 'New York'],\n",
              "       [76253.86, 113867.3, 298664.47, 'California'],\n",
              "       [78389.47, 153773.43, 299737.29, 'New York'],\n",
              "       [73994.56, 122782.75, 303319.26, 'Florida'],\n",
              "       [67532.53, 105751.03, 304768.73, 'Florida'],\n",
              "       [77044.01, 99281.34, 140574.81, 'New York'],\n",
              "       [64664.71, 139553.16, 137962.62, 'California'],\n",
              "       [75328.87, 144135.98, 134050.07, 'Florida'],\n",
              "       [72107.6, 127864.55, 353183.81, 'New York'],\n",
              "       [66051.52, 182645.56, 118148.2, 'Florida'],\n",
              "       [65605.48, 153032.06, 107138.38, 'New York'],\n",
              "       [61994.48, 115641.28, 91131.24, 'Florida'],\n",
              "       [61136.38, 152701.92, 88218.23, 'New York'],\n",
              "       [63408.86, 129219.61, 46085.25, 'California'],\n",
              "       [55493.95, 103057.49, 214634.81, 'Florida'],\n",
              "       [46426.07, 157693.92, 210797.67, 'California'],\n",
              "       [46014.02, 85047.44, 205517.64, 'New York'],\n",
              "       [28663.76, 127056.21, 201126.82, 'Florida'],\n",
              "       [44069.95, 51283.14, 197029.42, 'California'],\n",
              "       [20229.59, 65947.93, 185265.1, 'New York'],\n",
              "       [38558.51, 82982.09, 174999.3, 'California'],\n",
              "       [28754.33, 118546.05, 172795.67, 'California'],\n",
              "       [27892.92, 84710.77, 164470.71, 'Florida'],\n",
              "       [23640.93, 96189.63, 148001.11, 'California'],\n",
              "       [15505.73, 127382.3, 35534.17, 'New York'],\n",
              "       [22177.74, 154806.14, 28334.72, 'California'],\n",
              "       [1000.23, 124153.04, 1903.93, 'New York'],\n",
              "       [1315.46, 115816.21, 297114.46, 'Florida'],\n",
              "       [0.0, 135426.92, 0.0, 'California'],\n",
              "       [542.05, 51743.15, 0.0, 'New York'],\n",
              "       [0.0, 116983.8, 45173.06, 'California']], dtype=object)"
            ]
          },
          "metadata": {},
          "execution_count": 19
        }
      ]
    },
    {
      "cell_type": "code",
      "source": [
        "y # aquí tenemos la variable a predecir. "
      ],
      "metadata": {
        "colab": {
          "base_uri": "https://localhost:8080/"
        },
        "id": "T5CFAjWhPW4Y",
        "outputId": "fa67cd0b-8afe-4883-a6a6-122a0e458fe8"
      },
      "execution_count": 20,
      "outputs": [
        {
          "output_type": "execute_result",
          "data": {
            "text/plain": [
              "array([192261.83, 191792.06, 191050.39, 182901.99, 166187.94, 156991.12,\n",
              "       156122.51, 155752.6 , 152211.77, 149759.96, 146121.95, 144259.4 ,\n",
              "       141585.52, 134307.35, 132602.65, 129917.04, 126992.93, 125370.37,\n",
              "       124266.9 , 122776.86, 118474.03, 111313.02, 110352.25, 108733.99,\n",
              "       108552.04, 107404.34, 105733.54, 105008.31, 103282.38, 101004.64,\n",
              "        99937.59,  97483.56,  97427.84,  96778.92,  96712.8 ,  96479.51,\n",
              "        90708.19,  89949.14,  81229.06,  81005.76,  78239.91,  77798.83,\n",
              "        71498.49,  69758.98,  65200.33,  64926.08,  49490.75,  42559.73,\n",
              "        35673.41,  14681.4 ])"
            ]
          },
          "metadata": {},
          "execution_count": 20
        }
      ]
    },
    {
      "cell_type": "markdown",
      "source": [
        "# DATOS FALTANTES"
      ],
      "metadata": {
        "id": "d8NWpQuiRvMs"
      }
    },
    {
      "cell_type": "markdown",
      "source": [
        "con los datos faltantes podemos hacer muchas cosas. eliminar la columna, la fila, rellenar con un valor, rellenar con la media, con el valor anterior, posterior etc..."
      ],
      "metadata": {
        "id": "K9iqKAakR_JV"
      }
    },
    {
      "cell_type": "code",
      "source": [
        "\"\"\" NO LO EJECUTAMOS PORQUE NO TENEMOS VALORES FALTANTES\"\"\"\n",
        "from pandas.core import missing\n",
        "# VAMOS A REMPLAZAR POR LA MEDIA. \n",
        "# recordatorio axis = 0 es media de columna si fuera 1 sería por linea. \n",
        "imputer = SimpleImputer(missing_values = np.nan, strategy = \"mean\", verbose=0) # asi lo que hacemos es convertir los valores nan por la media de la columna. \n",
        "imputer = imputer.fit(X[:,1:3]) # el objeto que queremos arreglar es la X, le decimos que todas las filas, y acotamos las columnas a las que se lo queremos hacer. recordar ponemos 3 porque coge siempre la anterior. \n",
        "# en python la primera columna es 0 y cuando acotamos la última que cogemos siempre ponemos un numero más. \n",
        "X[:, 1:3] = imputer.transform(X[:,1:3]) # asi es como definitivamente lo hacemos. \n",
        " \n",
        "\"\"\"\n",
        "Escribimos código\n",
        "imputer = SimpleImputer(missing_values= np.nan, strategy= \"mean\", verbose=0)\n",
        "imputer = imputer.fit(X[:,1:3])\n",
        "x[:,1:3] = imputer.transform[X[:,1:3]] \"\"\"\n",
        "X # veremos debajo que ha quedado sustituido."
      ],
      "metadata": {
        "colab": {
          "base_uri": "https://localhost:8080/"
        },
        "id": "3TGfIEGiRyYa",
        "outputId": "6af4d878-46a4-4036-9352-15f9e032b5ff"
      },
      "execution_count": null,
      "outputs": [
        {
          "output_type": "execute_result",
          "data": {
            "text/plain": [
              "array([['France', 44.0, 72000.0],\n",
              "       ['Spain', 27.0, 48000.0],\n",
              "       ['Germany', 30.0, 54000.0],\n",
              "       ['Spain', 38.0, 61000.0],\n",
              "       ['Germany', 40.0, 63777.77777777778],\n",
              "       ['France', 35.0, 58000.0],\n",
              "       ['Spain', 38.77777777777778, 52000.0],\n",
              "       ['France', 48.0, 79000.0],\n",
              "       ['Germany', 50.0, 83000.0],\n",
              "       ['France', 37.0, 67000.0]], dtype=object)"
            ]
          },
          "metadata": {},
          "execution_count": 10
        }
      ]
    },
    {
      "cell_type": "markdown",
      "source": [
        "# DATOS CATEGORICOS TRADUCIR A NUMEROS. "
      ],
      "metadata": {
        "id": "T6UQlhK6dcSg"
      }
    },
    {
      "cell_type": "markdown",
      "source": [
        "esta vez lo vamos a hacer así, lo hace de una vez y no nos repite la serie. "
      ],
      "metadata": {
        "id": "mvAKnqzOd9Dz"
      }
    },
    {
      "cell_type": "code",
      "source": [
        "from sklearn.preprocessing import LabelEncoder, OneHotEncoder\n",
        "from sklearn.compose import make_column_transformer\n",
        "labelencoder_X = LabelEncoder()\n",
        "X[:, 3] = labelencoder_X.fit_transform(X[:, 3])\n",
        "onehotencoder = make_column_transformer((OneHotEncoder(), [3]), remainder = \"passthrough\")\n",
        "X = onehotencoder.fit_transform(X)"
      ],
      "metadata": {
        "id": "Wzk1XMgJ5F8J"
      },
      "execution_count": 21,
      "outputs": []
    },
    {
      "cell_type": "code",
      "source": [
        "dataset.head(5)"
      ],
      "metadata": {
        "colab": {
          "base_uri": "https://localhost:8080/",
          "height": 221
        },
        "id": "r0OTntzi5z-9",
        "outputId": "cb2bd3bc-e4ea-4579-891b-3ccf36a3e59d"
      },
      "execution_count": 22,
      "outputs": [
        {
          "output_type": "execute_result",
          "data": {
            "text/plain": [
              "   R&D Spend  Administration  Marketing Spend       State     Profit\n",
              "0  165349.20       136897.80        471784.10    New York  192261.83\n",
              "1  162597.70       151377.59        443898.53  California  191792.06\n",
              "2  153441.51       101145.55        407934.54     Florida  191050.39\n",
              "3  144372.41       118671.85        383199.62    New York  182901.99\n",
              "4  142107.34        91391.77        366168.42     Florida  166187.94"
            ],
            "text/html": [
              "\n",
              "  <div id=\"df-872cfbfd-18d9-4378-9357-f7ac3d8cf9df\">\n",
              "    <div class=\"colab-df-container\">\n",
              "      <div>\n",
              "<style scoped>\n",
              "    .dataframe tbody tr th:only-of-type {\n",
              "        vertical-align: middle;\n",
              "    }\n",
              "\n",
              "    .dataframe tbody tr th {\n",
              "        vertical-align: top;\n",
              "    }\n",
              "\n",
              "    .dataframe thead th {\n",
              "        text-align: right;\n",
              "    }\n",
              "</style>\n",
              "<table border=\"1\" class=\"dataframe\">\n",
              "  <thead>\n",
              "    <tr style=\"text-align: right;\">\n",
              "      <th></th>\n",
              "      <th>R&amp;D Spend</th>\n",
              "      <th>Administration</th>\n",
              "      <th>Marketing Spend</th>\n",
              "      <th>State</th>\n",
              "      <th>Profit</th>\n",
              "    </tr>\n",
              "  </thead>\n",
              "  <tbody>\n",
              "    <tr>\n",
              "      <th>0</th>\n",
              "      <td>165349.20</td>\n",
              "      <td>136897.80</td>\n",
              "      <td>471784.10</td>\n",
              "      <td>New York</td>\n",
              "      <td>192261.83</td>\n",
              "    </tr>\n",
              "    <tr>\n",
              "      <th>1</th>\n",
              "      <td>162597.70</td>\n",
              "      <td>151377.59</td>\n",
              "      <td>443898.53</td>\n",
              "      <td>California</td>\n",
              "      <td>191792.06</td>\n",
              "    </tr>\n",
              "    <tr>\n",
              "      <th>2</th>\n",
              "      <td>153441.51</td>\n",
              "      <td>101145.55</td>\n",
              "      <td>407934.54</td>\n",
              "      <td>Florida</td>\n",
              "      <td>191050.39</td>\n",
              "    </tr>\n",
              "    <tr>\n",
              "      <th>3</th>\n",
              "      <td>144372.41</td>\n",
              "      <td>118671.85</td>\n",
              "      <td>383199.62</td>\n",
              "      <td>New York</td>\n",
              "      <td>182901.99</td>\n",
              "    </tr>\n",
              "    <tr>\n",
              "      <th>4</th>\n",
              "      <td>142107.34</td>\n",
              "      <td>91391.77</td>\n",
              "      <td>366168.42</td>\n",
              "      <td>Florida</td>\n",
              "      <td>166187.94</td>\n",
              "    </tr>\n",
              "  </tbody>\n",
              "</table>\n",
              "</div>\n",
              "      <button class=\"colab-df-convert\" onclick=\"convertToInteractive('df-872cfbfd-18d9-4378-9357-f7ac3d8cf9df')\"\n",
              "              title=\"Convert this dataframe to an interactive table.\"\n",
              "              style=\"display:none;\">\n",
              "        \n",
              "  <svg xmlns=\"http://www.w3.org/2000/svg\" height=\"24px\"viewBox=\"0 0 24 24\"\n",
              "       width=\"24px\">\n",
              "    <path d=\"M0 0h24v24H0V0z\" fill=\"none\"/>\n",
              "    <path d=\"M18.56 5.44l.94 2.06.94-2.06 2.06-.94-2.06-.94-.94-2.06-.94 2.06-2.06.94zm-11 1L8.5 8.5l.94-2.06 2.06-.94-2.06-.94L8.5 2.5l-.94 2.06-2.06.94zm10 10l.94 2.06.94-2.06 2.06-.94-2.06-.94-.94-2.06-.94 2.06-2.06.94z\"/><path d=\"M17.41 7.96l-1.37-1.37c-.4-.4-.92-.59-1.43-.59-.52 0-1.04.2-1.43.59L10.3 9.45l-7.72 7.72c-.78.78-.78 2.05 0 2.83L4 21.41c.39.39.9.59 1.41.59.51 0 1.02-.2 1.41-.59l7.78-7.78 2.81-2.81c.8-.78.8-2.07 0-2.86zM5.41 20L4 18.59l7.72-7.72 1.47 1.35L5.41 20z\"/>\n",
              "  </svg>\n",
              "      </button>\n",
              "      \n",
              "  <style>\n",
              "    .colab-df-container {\n",
              "      display:flex;\n",
              "      flex-wrap:wrap;\n",
              "      gap: 12px;\n",
              "    }\n",
              "\n",
              "    .colab-df-convert {\n",
              "      background-color: #E8F0FE;\n",
              "      border: none;\n",
              "      border-radius: 50%;\n",
              "      cursor: pointer;\n",
              "      display: none;\n",
              "      fill: #1967D2;\n",
              "      height: 32px;\n",
              "      padding: 0 0 0 0;\n",
              "      width: 32px;\n",
              "    }\n",
              "\n",
              "    .colab-df-convert:hover {\n",
              "      background-color: #E2EBFA;\n",
              "      box-shadow: 0px 1px 2px rgba(60, 64, 67, 0.3), 0px 1px 3px 1px rgba(60, 64, 67, 0.15);\n",
              "      fill: #174EA6;\n",
              "    }\n",
              "\n",
              "    [theme=dark] .colab-df-convert {\n",
              "      background-color: #3B4455;\n",
              "      fill: #D2E3FC;\n",
              "    }\n",
              "\n",
              "    [theme=dark] .colab-df-convert:hover {\n",
              "      background-color: #434B5C;\n",
              "      box-shadow: 0px 1px 3px 1px rgba(0, 0, 0, 0.15);\n",
              "      filter: drop-shadow(0px 1px 2px rgba(0, 0, 0, 0.3));\n",
              "      fill: #FFFFFF;\n",
              "    }\n",
              "  </style>\n",
              "\n",
              "      <script>\n",
              "        const buttonEl =\n",
              "          document.querySelector('#df-872cfbfd-18d9-4378-9357-f7ac3d8cf9df button.colab-df-convert');\n",
              "        buttonEl.style.display =\n",
              "          google.colab.kernel.accessAllowed ? 'block' : 'none';\n",
              "\n",
              "        async function convertToInteractive(key) {\n",
              "          const element = document.querySelector('#df-872cfbfd-18d9-4378-9357-f7ac3d8cf9df');\n",
              "          const dataTable =\n",
              "            await google.colab.kernel.invokeFunction('convertToInteractive',\n",
              "                                                     [key], {});\n",
              "          if (!dataTable) return;\n",
              "\n",
              "          const docLinkHtml = 'Like what you see? Visit the ' +\n",
              "            '<a target=\"_blank\" href=https://colab.research.google.com/notebooks/data_table.ipynb>data table notebook</a>'\n",
              "            + ' to learn more about interactive tables.';\n",
              "          element.innerHTML = '';\n",
              "          dataTable['output_type'] = 'display_data';\n",
              "          await google.colab.output.renderOutput(dataTable, element);\n",
              "          const docLink = document.createElement('div');\n",
              "          docLink.innerHTML = docLinkHtml;\n",
              "          element.appendChild(docLink);\n",
              "        }\n",
              "      </script>\n",
              "    </div>\n",
              "  </div>\n",
              "  "
            ]
          },
          "metadata": {},
          "execution_count": 22
        }
      ]
    },
    {
      "cell_type": "code",
      "source": [
        " X #√emos que la columna 3 es New York, la columna 1 es california, Florida es la dos. "
      ],
      "metadata": {
        "colab": {
          "base_uri": "https://localhost:8080/"
        },
        "id": "84O4Rb2P5l5b",
        "outputId": "2ee7c079-5b2e-4cb5-b7d8-305aae3270bb"
      },
      "execution_count": 23,
      "outputs": [
        {
          "output_type": "execute_result",
          "data": {
            "text/plain": [
              "array([[0.0, 0.0, 1.0, 165349.2, 136897.8, 471784.1],\n",
              "       [1.0, 0.0, 0.0, 162597.7, 151377.59, 443898.53],\n",
              "       [0.0, 1.0, 0.0, 153441.51, 101145.55, 407934.54],\n",
              "       [0.0, 0.0, 1.0, 144372.41, 118671.85, 383199.62],\n",
              "       [0.0, 1.0, 0.0, 142107.34, 91391.77, 366168.42],\n",
              "       [0.0, 0.0, 1.0, 131876.9, 99814.71, 362861.36],\n",
              "       [1.0, 0.0, 0.0, 134615.46, 147198.87, 127716.82],\n",
              "       [0.0, 1.0, 0.0, 130298.13, 145530.06, 323876.68],\n",
              "       [0.0, 0.0, 1.0, 120542.52, 148718.95, 311613.29],\n",
              "       [1.0, 0.0, 0.0, 123334.88, 108679.17, 304981.62],\n",
              "       [0.0, 1.0, 0.0, 101913.08, 110594.11, 229160.95],\n",
              "       [1.0, 0.0, 0.0, 100671.96, 91790.61, 249744.55],\n",
              "       [0.0, 1.0, 0.0, 93863.75, 127320.38, 249839.44],\n",
              "       [1.0, 0.0, 0.0, 91992.39, 135495.07, 252664.93],\n",
              "       [0.0, 1.0, 0.0, 119943.24, 156547.42, 256512.92],\n",
              "       [0.0, 0.0, 1.0, 114523.61, 122616.84, 261776.23],\n",
              "       [1.0, 0.0, 0.0, 78013.11, 121597.55, 264346.06],\n",
              "       [0.0, 0.0, 1.0, 94657.16, 145077.58, 282574.31],\n",
              "       [0.0, 1.0, 0.0, 91749.16, 114175.79, 294919.57],\n",
              "       [0.0, 0.0, 1.0, 86419.7, 153514.11, 0.0],\n",
              "       [1.0, 0.0, 0.0, 76253.86, 113867.3, 298664.47],\n",
              "       [0.0, 0.0, 1.0, 78389.47, 153773.43, 299737.29],\n",
              "       [0.0, 1.0, 0.0, 73994.56, 122782.75, 303319.26],\n",
              "       [0.0, 1.0, 0.0, 67532.53, 105751.03, 304768.73],\n",
              "       [0.0, 0.0, 1.0, 77044.01, 99281.34, 140574.81],\n",
              "       [1.0, 0.0, 0.0, 64664.71, 139553.16, 137962.62],\n",
              "       [0.0, 1.0, 0.0, 75328.87, 144135.98, 134050.07],\n",
              "       [0.0, 0.0, 1.0, 72107.6, 127864.55, 353183.81],\n",
              "       [0.0, 1.0, 0.0, 66051.52, 182645.56, 118148.2],\n",
              "       [0.0, 0.0, 1.0, 65605.48, 153032.06, 107138.38],\n",
              "       [0.0, 1.0, 0.0, 61994.48, 115641.28, 91131.24],\n",
              "       [0.0, 0.0, 1.0, 61136.38, 152701.92, 88218.23],\n",
              "       [1.0, 0.0, 0.0, 63408.86, 129219.61, 46085.25],\n",
              "       [0.0, 1.0, 0.0, 55493.95, 103057.49, 214634.81],\n",
              "       [1.0, 0.0, 0.0, 46426.07, 157693.92, 210797.67],\n",
              "       [0.0, 0.0, 1.0, 46014.02, 85047.44, 205517.64],\n",
              "       [0.0, 1.0, 0.0, 28663.76, 127056.21, 201126.82],\n",
              "       [1.0, 0.0, 0.0, 44069.95, 51283.14, 197029.42],\n",
              "       [0.0, 0.0, 1.0, 20229.59, 65947.93, 185265.1],\n",
              "       [1.0, 0.0, 0.0, 38558.51, 82982.09, 174999.3],\n",
              "       [1.0, 0.0, 0.0, 28754.33, 118546.05, 172795.67],\n",
              "       [0.0, 1.0, 0.0, 27892.92, 84710.77, 164470.71],\n",
              "       [1.0, 0.0, 0.0, 23640.93, 96189.63, 148001.11],\n",
              "       [0.0, 0.0, 1.0, 15505.73, 127382.3, 35534.17],\n",
              "       [1.0, 0.0, 0.0, 22177.74, 154806.14, 28334.72],\n",
              "       [0.0, 0.0, 1.0, 1000.23, 124153.04, 1903.93],\n",
              "       [0.0, 1.0, 0.0, 1315.46, 115816.21, 297114.46],\n",
              "       [1.0, 0.0, 0.0, 0.0, 135426.92, 0.0],\n",
              "       [0.0, 0.0, 1.0, 542.05, 51743.15, 0.0],\n",
              "       [1.0, 0.0, 0.0, 0.0, 116983.8, 45173.06]], dtype=object)"
            ]
          },
          "metadata": {},
          "execution_count": 23
        }
      ]
    },
    {
      "cell_type": "code",
      "source": [
        "\"\"\"# LO HAGOCON EL METODO DE DEBAJO EL HOTENCODER\n",
        "labelencoder_X = LabelEncoder() # este es el constructor \n",
        "X[:, 0] = labelencoder_X.fit_transform(X[:, 0]) # sabemos que 0 es la columna de país. \n",
        "X[:,0] # como podemos ver la primera que era Francia la ha codificado como 0, la seguna españa 2, la tercera alemania 1....\"\"\""
      ],
      "metadata": {
        "id": "aFaPOksJdnNh",
        "outputId": "a91d4b66-bc23-4f99-85a3-06be67701bc1",
        "colab": {
          "base_uri": "https://localhost:8080/"
        }
      },
      "execution_count": null,
      "outputs": [
        {
          "output_type": "execute_result",
          "data": {
            "text/plain": [
              "array([0, 2, 1, 2, 1, 0, 2, 0, 1, 0], dtype=object)"
            ]
          },
          "metadata": {},
          "execution_count": 11
        }
      ]
    },
    {
      "cell_type": "code",
      "source": [
        "\"\"\"#X # aqui vemos como lo ha cambiado. el problema que al codificarlo así, va a entender que 0 es menor que 1. es decir la va a considerar como ordinal.....\n",
        "# ahora debajo vamos a ver las variables dummy.\"\"\" "
      ],
      "metadata": {
        "id": "IuXlTsYlfVKG",
        "outputId": "520f15ff-b9d0-43b5-dddf-e7b8c85ddafc",
        "colab": {
          "base_uri": "https://localhost:8080/"
        }
      },
      "execution_count": null,
      "outputs": [
        {
          "output_type": "execute_result",
          "data": {
            "text/plain": [
              "array([[0, 44.0, 72000.0],\n",
              "       [2, 27.0, 48000.0],\n",
              "       [1, 30.0, 54000.0],\n",
              "       [2, 38.0, 61000.0],\n",
              "       [1, 40.0, 63777.77777777778],\n",
              "       [0, 35.0, 58000.0],\n",
              "       [2, 38.77777777777778, 52000.0],\n",
              "       [0, 48.0, 79000.0],\n",
              "       [1, 50.0, 83000.0],\n",
              "       [0, 37.0, 67000.0]], dtype=object)"
            ]
          },
          "metadata": {},
          "execution_count": 12
        }
      ]
    },
    {
      "cell_type": "code",
      "source": [
        "\"\"\"ct = ColumnTransformer(\n",
        "    [('one_hot_encoder', OneHotEncoder(categories='auto'), [0])],    # The column numbers to be transformed (here is [0] but can be [0, 1, 3])\n",
        "    remainder='passthrough'                         # Leave the rest of the columns untouched\n",
        ")\n",
        "\"\"\""
      ],
      "metadata": {
        "id": "WVDrNshWdsPu"
      },
      "execution_count": 59,
      "outputs": []
    },
    {
      "cell_type": "code",
      "source": [
        "\"\"\"X = ct.fit_transform(X)\n",
        "X # vemos que aquí ya lo ha transformado, p\"\"\""
      ],
      "metadata": {
        "id": "NB_915QqhA4d"
      },
      "execution_count": null,
      "outputs": []
    },
    {
      "cell_type": "code",
      "source": [
        "dataset.head() # en el dataset no ha hecho nada sigue igual que en el origen. "
      ],
      "metadata": {
        "id": "D4NYN0y8hhAF",
        "outputId": "f4d553de-dcc5-4e30-f9f4-5be1c0238059",
        "colab": {
          "base_uri": "https://localhost:8080/",
          "height": 221
        }
      },
      "execution_count": 43,
      "outputs": [
        {
          "output_type": "execute_result",
          "data": {
            "text/plain": [
              "   R&D Spend  Administration  Marketing Spend       State     Profit\n",
              "0  165349.20       136897.80        471784.10    New York  192261.83\n",
              "1  162597.70       151377.59        443898.53  California  191792.06\n",
              "2  153441.51       101145.55        407934.54     Florida  191050.39\n",
              "3  144372.41       118671.85        383199.62    New York  182901.99\n",
              "4  142107.34        91391.77        366168.42     Florida  166187.94"
            ],
            "text/html": [
              "\n",
              "  <div id=\"df-622330ab-f099-47fd-8ef9-f184405c84e3\">\n",
              "    <div class=\"colab-df-container\">\n",
              "      <div>\n",
              "<style scoped>\n",
              "    .dataframe tbody tr th:only-of-type {\n",
              "        vertical-align: middle;\n",
              "    }\n",
              "\n",
              "    .dataframe tbody tr th {\n",
              "        vertical-align: top;\n",
              "    }\n",
              "\n",
              "    .dataframe thead th {\n",
              "        text-align: right;\n",
              "    }\n",
              "</style>\n",
              "<table border=\"1\" class=\"dataframe\">\n",
              "  <thead>\n",
              "    <tr style=\"text-align: right;\">\n",
              "      <th></th>\n",
              "      <th>R&amp;D Spend</th>\n",
              "      <th>Administration</th>\n",
              "      <th>Marketing Spend</th>\n",
              "      <th>State</th>\n",
              "      <th>Profit</th>\n",
              "    </tr>\n",
              "  </thead>\n",
              "  <tbody>\n",
              "    <tr>\n",
              "      <th>0</th>\n",
              "      <td>165349.20</td>\n",
              "      <td>136897.80</td>\n",
              "      <td>471784.10</td>\n",
              "      <td>New York</td>\n",
              "      <td>192261.83</td>\n",
              "    </tr>\n",
              "    <tr>\n",
              "      <th>1</th>\n",
              "      <td>162597.70</td>\n",
              "      <td>151377.59</td>\n",
              "      <td>443898.53</td>\n",
              "      <td>California</td>\n",
              "      <td>191792.06</td>\n",
              "    </tr>\n",
              "    <tr>\n",
              "      <th>2</th>\n",
              "      <td>153441.51</td>\n",
              "      <td>101145.55</td>\n",
              "      <td>407934.54</td>\n",
              "      <td>Florida</td>\n",
              "      <td>191050.39</td>\n",
              "    </tr>\n",
              "    <tr>\n",
              "      <th>3</th>\n",
              "      <td>144372.41</td>\n",
              "      <td>118671.85</td>\n",
              "      <td>383199.62</td>\n",
              "      <td>New York</td>\n",
              "      <td>182901.99</td>\n",
              "    </tr>\n",
              "    <tr>\n",
              "      <th>4</th>\n",
              "      <td>142107.34</td>\n",
              "      <td>91391.77</td>\n",
              "      <td>366168.42</td>\n",
              "      <td>Florida</td>\n",
              "      <td>166187.94</td>\n",
              "    </tr>\n",
              "  </tbody>\n",
              "</table>\n",
              "</div>\n",
              "      <button class=\"colab-df-convert\" onclick=\"convertToInteractive('df-622330ab-f099-47fd-8ef9-f184405c84e3')\"\n",
              "              title=\"Convert this dataframe to an interactive table.\"\n",
              "              style=\"display:none;\">\n",
              "        \n",
              "  <svg xmlns=\"http://www.w3.org/2000/svg\" height=\"24px\"viewBox=\"0 0 24 24\"\n",
              "       width=\"24px\">\n",
              "    <path d=\"M0 0h24v24H0V0z\" fill=\"none\"/>\n",
              "    <path d=\"M18.56 5.44l.94 2.06.94-2.06 2.06-.94-2.06-.94-.94-2.06-.94 2.06-2.06.94zm-11 1L8.5 8.5l.94-2.06 2.06-.94-2.06-.94L8.5 2.5l-.94 2.06-2.06.94zm10 10l.94 2.06.94-2.06 2.06-.94-2.06-.94-.94-2.06-.94 2.06-2.06.94z\"/><path d=\"M17.41 7.96l-1.37-1.37c-.4-.4-.92-.59-1.43-.59-.52 0-1.04.2-1.43.59L10.3 9.45l-7.72 7.72c-.78.78-.78 2.05 0 2.83L4 21.41c.39.39.9.59 1.41.59.51 0 1.02-.2 1.41-.59l7.78-7.78 2.81-2.81c.8-.78.8-2.07 0-2.86zM5.41 20L4 18.59l7.72-7.72 1.47 1.35L5.41 20z\"/>\n",
              "  </svg>\n",
              "      </button>\n",
              "      \n",
              "  <style>\n",
              "    .colab-df-container {\n",
              "      display:flex;\n",
              "      flex-wrap:wrap;\n",
              "      gap: 12px;\n",
              "    }\n",
              "\n",
              "    .colab-df-convert {\n",
              "      background-color: #E8F0FE;\n",
              "      border: none;\n",
              "      border-radius: 50%;\n",
              "      cursor: pointer;\n",
              "      display: none;\n",
              "      fill: #1967D2;\n",
              "      height: 32px;\n",
              "      padding: 0 0 0 0;\n",
              "      width: 32px;\n",
              "    }\n",
              "\n",
              "    .colab-df-convert:hover {\n",
              "      background-color: #E2EBFA;\n",
              "      box-shadow: 0px 1px 2px rgba(60, 64, 67, 0.3), 0px 1px 3px 1px rgba(60, 64, 67, 0.15);\n",
              "      fill: #174EA6;\n",
              "    }\n",
              "\n",
              "    [theme=dark] .colab-df-convert {\n",
              "      background-color: #3B4455;\n",
              "      fill: #D2E3FC;\n",
              "    }\n",
              "\n",
              "    [theme=dark] .colab-df-convert:hover {\n",
              "      background-color: #434B5C;\n",
              "      box-shadow: 0px 1px 3px 1px rgba(0, 0, 0, 0.15);\n",
              "      filter: drop-shadow(0px 1px 2px rgba(0, 0, 0, 0.3));\n",
              "      fill: #FFFFFF;\n",
              "    }\n",
              "  </style>\n",
              "\n",
              "      <script>\n",
              "        const buttonEl =\n",
              "          document.querySelector('#df-622330ab-f099-47fd-8ef9-f184405c84e3 button.colab-df-convert');\n",
              "        buttonEl.style.display =\n",
              "          google.colab.kernel.accessAllowed ? 'block' : 'none';\n",
              "\n",
              "        async function convertToInteractive(key) {\n",
              "          const element = document.querySelector('#df-622330ab-f099-47fd-8ef9-f184405c84e3');\n",
              "          const dataTable =\n",
              "            await google.colab.kernel.invokeFunction('convertToInteractive',\n",
              "                                                     [key], {});\n",
              "          if (!dataTable) return;\n",
              "\n",
              "          const docLinkHtml = 'Like what you see? Visit the ' +\n",
              "            '<a target=\"_blank\" href=https://colab.research.google.com/notebooks/data_table.ipynb>data table notebook</a>'\n",
              "            + ' to learn more about interactive tables.';\n",
              "          element.innerHTML = '';\n",
              "          dataTable['output_type'] = 'display_data';\n",
              "          await google.colab.output.renderOutput(dataTable, element);\n",
              "          const docLink = document.createElement('div');\n",
              "          docLink.innerHTML = docLinkHtml;\n",
              "          element.appendChild(docLink);\n",
              "        }\n",
              "      </script>\n",
              "    </div>\n",
              "  </div>\n",
              "  "
            ]
          },
          "metadata": {},
          "execution_count": 43
        }
      ]
    },
    {
      "cell_type": "markdown",
      "source": [
        "# Evitar la trampa de las variables ficticias"
      ],
      "metadata": {
        "id": "HGsOanHW6OUE"
      }
    },
    {
      "cell_type": "code",
      "source": [
        "X = X[:, 1:] # con esto lo que hacemos es eliminar una ya que cuando dos den 0 será la tercera. "
      ],
      "metadata": {
        "id": "lYIkj3LQ6U2p"
      },
      "execution_count": 25,
      "outputs": []
    },
    {
      "cell_type": "code",
      "source": [
        "X"
      ],
      "metadata": {
        "colab": {
          "base_uri": "https://localhost:8080/"
        },
        "id": "t7cBna9Q6W16",
        "outputId": "8877144e-39e1-407c-fe2d-12670fe522e9"
      },
      "execution_count": 26,
      "outputs": [
        {
          "output_type": "execute_result",
          "data": {
            "text/plain": [
              "array([[0.0, 1.0, 165349.2, 136897.8, 471784.1],\n",
              "       [0.0, 0.0, 162597.7, 151377.59, 443898.53],\n",
              "       [1.0, 0.0, 153441.51, 101145.55, 407934.54],\n",
              "       [0.0, 1.0, 144372.41, 118671.85, 383199.62],\n",
              "       [1.0, 0.0, 142107.34, 91391.77, 366168.42],\n",
              "       [0.0, 1.0, 131876.9, 99814.71, 362861.36],\n",
              "       [0.0, 0.0, 134615.46, 147198.87, 127716.82],\n",
              "       [1.0, 0.0, 130298.13, 145530.06, 323876.68],\n",
              "       [0.0, 1.0, 120542.52, 148718.95, 311613.29],\n",
              "       [0.0, 0.0, 123334.88, 108679.17, 304981.62],\n",
              "       [1.0, 0.0, 101913.08, 110594.11, 229160.95],\n",
              "       [0.0, 0.0, 100671.96, 91790.61, 249744.55],\n",
              "       [1.0, 0.0, 93863.75, 127320.38, 249839.44],\n",
              "       [0.0, 0.0, 91992.39, 135495.07, 252664.93],\n",
              "       [1.0, 0.0, 119943.24, 156547.42, 256512.92],\n",
              "       [0.0, 1.0, 114523.61, 122616.84, 261776.23],\n",
              "       [0.0, 0.0, 78013.11, 121597.55, 264346.06],\n",
              "       [0.0, 1.0, 94657.16, 145077.58, 282574.31],\n",
              "       [1.0, 0.0, 91749.16, 114175.79, 294919.57],\n",
              "       [0.0, 1.0, 86419.7, 153514.11, 0.0],\n",
              "       [0.0, 0.0, 76253.86, 113867.3, 298664.47],\n",
              "       [0.0, 1.0, 78389.47, 153773.43, 299737.29],\n",
              "       [1.0, 0.0, 73994.56, 122782.75, 303319.26],\n",
              "       [1.0, 0.0, 67532.53, 105751.03, 304768.73],\n",
              "       [0.0, 1.0, 77044.01, 99281.34, 140574.81],\n",
              "       [0.0, 0.0, 64664.71, 139553.16, 137962.62],\n",
              "       [1.0, 0.0, 75328.87, 144135.98, 134050.07],\n",
              "       [0.0, 1.0, 72107.6, 127864.55, 353183.81],\n",
              "       [1.0, 0.0, 66051.52, 182645.56, 118148.2],\n",
              "       [0.0, 1.0, 65605.48, 153032.06, 107138.38],\n",
              "       [1.0, 0.0, 61994.48, 115641.28, 91131.24],\n",
              "       [0.0, 1.0, 61136.38, 152701.92, 88218.23],\n",
              "       [0.0, 0.0, 63408.86, 129219.61, 46085.25],\n",
              "       [1.0, 0.0, 55493.95, 103057.49, 214634.81],\n",
              "       [0.0, 0.0, 46426.07, 157693.92, 210797.67],\n",
              "       [0.0, 1.0, 46014.02, 85047.44, 205517.64],\n",
              "       [1.0, 0.0, 28663.76, 127056.21, 201126.82],\n",
              "       [0.0, 0.0, 44069.95, 51283.14, 197029.42],\n",
              "       [0.0, 1.0, 20229.59, 65947.93, 185265.1],\n",
              "       [0.0, 0.0, 38558.51, 82982.09, 174999.3],\n",
              "       [0.0, 0.0, 28754.33, 118546.05, 172795.67],\n",
              "       [1.0, 0.0, 27892.92, 84710.77, 164470.71],\n",
              "       [0.0, 0.0, 23640.93, 96189.63, 148001.11],\n",
              "       [0.0, 1.0, 15505.73, 127382.3, 35534.17],\n",
              "       [0.0, 0.0, 22177.74, 154806.14, 28334.72],\n",
              "       [0.0, 1.0, 1000.23, 124153.04, 1903.93],\n",
              "       [1.0, 0.0, 1315.46, 115816.21, 297114.46],\n",
              "       [0.0, 0.0, 0.0, 135426.92, 0.0],\n",
              "       [0.0, 1.0, 542.05, 51743.15, 0.0],\n",
              "       [0.0, 0.0, 0.0, 116983.8, 45173.06]], dtype=object)"
            ]
          },
          "metadata": {},
          "execution_count": 26
        }
      ]
    },
    {
      "cell_type": "markdown",
      "metadata": {
        "id": "x8PABYut0i7y"
      },
      "source": [
        "# Dividir el data set en conjunto de entrenamiento y conjunto de testing\n"
      ]
    },
    {
      "cell_type": "code",
      "execution_count": 27,
      "metadata": {
        "id": "oPVZUP870DoR"
      },
      "outputs": [],
      "source": [
        "from sklearn.model_selection import train_test_split"
      ]
    },
    {
      "cell_type": "code",
      "execution_count": 28,
      "metadata": {
        "id": "3lajo7ye0lEs"
      },
      "outputs": [],
      "source": [
        "X_train, X_test, y_train, y_test = train_test_split(X, y, test_size = 0.2, random_state = 0) # random_state es la semilla. "
      ]
    },
    {
      "cell_type": "code",
      "source": [
        "print(X_train.shape)\n",
        "print(X_test.shape)\n",
        "print(y_train.shape)\n",
        "print(y_test.shape)"
      ],
      "metadata": {
        "colab": {
          "base_uri": "https://localhost:8080/"
        },
        "id": "1Kj0LSwLo-4l",
        "outputId": "8995adff-0bee-4883-c376-ec446d91bb5b"
      },
      "execution_count": 33,
      "outputs": [
        {
          "output_type": "stream",
          "name": "stdout",
          "text": [
            "(40, 5)\n",
            "(10, 5)\n",
            "(40,)\n",
            "(10,)\n"
          ]
        }
      ]
    },
    {
      "cell_type": "code",
      "source": [
        "X_train"
      ],
      "metadata": {
        "colab": {
          "base_uri": "https://localhost:8080/"
        },
        "id": "FD-TpL8sot86",
        "outputId": "27ea7ea4-77a8-4d02-fae4-19f6a08055cf"
      },
      "execution_count": 29,
      "outputs": [
        {
          "output_type": "execute_result",
          "data": {
            "text/plain": [
              "array([[1.0, 0.0, 55493.95, 103057.49, 214634.81],\n",
              "       [0.0, 1.0, 46014.02, 85047.44, 205517.64],\n",
              "       [1.0, 0.0, 75328.87, 144135.98, 134050.07],\n",
              "       [0.0, 0.0, 46426.07, 157693.92, 210797.67],\n",
              "       [1.0, 0.0, 91749.16, 114175.79, 294919.57],\n",
              "       [1.0, 0.0, 130298.13, 145530.06, 323876.68],\n",
              "       [1.0, 0.0, 119943.24, 156547.42, 256512.92],\n",
              "       [0.0, 1.0, 1000.23, 124153.04, 1903.93],\n",
              "       [0.0, 1.0, 542.05, 51743.15, 0.0],\n",
              "       [0.0, 1.0, 65605.48, 153032.06, 107138.38],\n",
              "       [0.0, 1.0, 114523.61, 122616.84, 261776.23],\n",
              "       [1.0, 0.0, 61994.48, 115641.28, 91131.24],\n",
              "       [0.0, 0.0, 63408.86, 129219.61, 46085.25],\n",
              "       [0.0, 0.0, 78013.11, 121597.55, 264346.06],\n",
              "       [0.0, 0.0, 23640.93, 96189.63, 148001.11],\n",
              "       [0.0, 0.0, 76253.86, 113867.3, 298664.47],\n",
              "       [0.0, 1.0, 15505.73, 127382.3, 35534.17],\n",
              "       [0.0, 1.0, 120542.52, 148718.95, 311613.29],\n",
              "       [0.0, 0.0, 91992.39, 135495.07, 252664.93],\n",
              "       [0.0, 0.0, 64664.71, 139553.16, 137962.62],\n",
              "       [0.0, 1.0, 131876.9, 99814.71, 362861.36],\n",
              "       [0.0, 1.0, 94657.16, 145077.58, 282574.31],\n",
              "       [0.0, 0.0, 28754.33, 118546.05, 172795.67],\n",
              "       [0.0, 0.0, 0.0, 116983.8, 45173.06],\n",
              "       [0.0, 0.0, 162597.7, 151377.59, 443898.53],\n",
              "       [1.0, 0.0, 93863.75, 127320.38, 249839.44],\n",
              "       [0.0, 0.0, 44069.95, 51283.14, 197029.42],\n",
              "       [0.0, 1.0, 77044.01, 99281.34, 140574.81],\n",
              "       [0.0, 0.0, 134615.46, 147198.87, 127716.82],\n",
              "       [1.0, 0.0, 67532.53, 105751.03, 304768.73],\n",
              "       [1.0, 0.0, 28663.76, 127056.21, 201126.82],\n",
              "       [0.0, 1.0, 78389.47, 153773.43, 299737.29],\n",
              "       [0.0, 1.0, 86419.7, 153514.11, 0.0],\n",
              "       [0.0, 0.0, 123334.88, 108679.17, 304981.62],\n",
              "       [0.0, 0.0, 38558.51, 82982.09, 174999.3],\n",
              "       [1.0, 0.0, 1315.46, 115816.21, 297114.46],\n",
              "       [0.0, 1.0, 144372.41, 118671.85, 383199.62],\n",
              "       [0.0, 1.0, 165349.2, 136897.8, 471784.1],\n",
              "       [0.0, 0.0, 0.0, 135426.92, 0.0],\n",
              "       [0.0, 0.0, 22177.74, 154806.14, 28334.72]], dtype=object)"
            ]
          },
          "metadata": {},
          "execution_count": 29
        }
      ]
    },
    {
      "cell_type": "code",
      "source": [
        "X_test"
      ],
      "metadata": {
        "colab": {
          "base_uri": "https://localhost:8080/"
        },
        "id": "_IWapf63o0X-",
        "outputId": "cc17f121-20be-4d5a-d3d8-3323e7b00871"
      },
      "execution_count": 30,
      "outputs": [
        {
          "output_type": "execute_result",
          "data": {
            "text/plain": [
              "array([[1.0, 0.0, 66051.52, 182645.56, 118148.2],\n",
              "       [0.0, 0.0, 100671.96, 91790.61, 249744.55],\n",
              "       [1.0, 0.0, 101913.08, 110594.11, 229160.95],\n",
              "       [1.0, 0.0, 27892.92, 84710.77, 164470.71],\n",
              "       [1.0, 0.0, 153441.51, 101145.55, 407934.54],\n",
              "       [0.0, 1.0, 72107.6, 127864.55, 353183.81],\n",
              "       [0.0, 1.0, 20229.59, 65947.93, 185265.1],\n",
              "       [0.0, 1.0, 61136.38, 152701.92, 88218.23],\n",
              "       [1.0, 0.0, 73994.56, 122782.75, 303319.26],\n",
              "       [1.0, 0.0, 142107.34, 91391.77, 366168.42]], dtype=object)"
            ]
          },
          "metadata": {},
          "execution_count": 30
        }
      ]
    },
    {
      "cell_type": "code",
      "source": [
        "y_train"
      ],
      "metadata": {
        "colab": {
          "base_uri": "https://localhost:8080/"
        },
        "id": "0nOEzT9Jo3T8",
        "outputId": "86ccd6a9-f5a4-44f5-edb8-bb2f96fbb423"
      },
      "execution_count": 31,
      "outputs": [
        {
          "output_type": "execute_result",
          "data": {
            "text/plain": [
              "array([ 96778.92,  96479.51, 105733.54,  96712.8 , 124266.9 , 155752.6 ,\n",
              "       132602.65,  64926.08,  35673.41, 101004.64, 129917.04,  99937.59,\n",
              "        97427.84, 126992.93,  71498.49, 118474.03,  69758.98, 152211.77,\n",
              "       134307.35, 107404.34, 156991.12, 125370.37,  78239.91,  14681.4 ,\n",
              "       191792.06, 141585.52,  89949.14, 108552.04, 156122.51, 108733.99,\n",
              "        90708.19, 111313.02, 122776.86, 149759.96,  81005.76,  49490.75,\n",
              "       182901.99, 192261.83,  42559.73,  65200.33])"
            ]
          },
          "metadata": {},
          "execution_count": 31
        }
      ]
    },
    {
      "cell_type": "code",
      "source": [
        "y_test"
      ],
      "metadata": {
        "colab": {
          "base_uri": "https://localhost:8080/"
        },
        "id": "zw_XK1JNo6pd",
        "outputId": "2f07f3aa-bcbd-4ccf-f368-2f02314416f2"
      },
      "execution_count": 32,
      "outputs": [
        {
          "output_type": "execute_result",
          "data": {
            "text/plain": [
              "array([103282.38, 144259.4 , 146121.95,  77798.83, 191050.39, 105008.31,\n",
              "        81229.06,  97483.56, 110352.25, 166187.94])"
            ]
          },
          "metadata": {},
          "execution_count": 32
        }
      ]
    },
    {
      "cell_type": "markdown",
      "metadata": {
        "id": "YRMD7_oq3J_f"
      },
      "source": [
        "# Escalado de variables"
      ]
    },
    {
      "cell_type": "markdown",
      "source": [
        "No hace falta porque solo tenemos una variable."
      ],
      "metadata": {
        "id": "6dkpI8Z4pa6-"
      }
    },
    {
      "cell_type": "code",
      "execution_count": null,
      "metadata": {
        "id": "BQ-MnRSO0md2"
      },
      "outputs": [],
      "source": [
        "from sklearn.preprocessing import StandardScaler # esta tenderá a crear una campana de gauss. aglutina valores en torno a la media. \n",
        "# la normalización, transforma en 0 y 1"
      ]
    },
    {
      "cell_type": "code",
      "execution_count": null,
      "metadata": {
        "id": "kt9uD3hE0nxd"
      },
      "outputs": [],
      "source": [
        "sc_X = StandardScaler()\n",
        "X_train = sc_X.fit_transform(X_train)\n",
        "X_test = sc_X.transform(X_test) # aqui le decimos que escale igual que en X_train. \n",
        "# la pregunta sería ¿tenemos que escalar las variables dummy?.  AQUI SI LO HACEMOS. "
      ]
    },
    {
      "cell_type": "code",
      "source": [
        ""
      ],
      "metadata": {
        "id": "ymwl8fsHESF8"
      },
      "execution_count": null,
      "outputs": []
    },
    {
      "cell_type": "code",
      "source": [
        "X_train # como vemos al haberlo transformados el 0 1 de los paises se ha convertido en numeros diferentes. "
      ],
      "metadata": {
        "colab": {
          "base_uri": "https://localhost:8080/"
        },
        "id": "LBCCLAxdBHve",
        "outputId": "5ed1fe2a-b2fc-4331-ad6d-49d8b47ebc55"
      },
      "execution_count": null,
      "outputs": [
        {
          "output_type": "execute_result",
          "data": {
            "text/plain": [
              "array([[-1.        ,  2.64575131, -0.77459667,  0.26306757,  0.12381479],\n",
              "       [ 1.        , -0.37796447, -0.77459667, -0.25350148,  0.46175632],\n",
              "       [-1.        , -0.37796447,  1.29099445, -1.97539832, -1.53093341],\n",
              "       [-1.        , -0.37796447,  1.29099445,  0.05261351, -1.11141978],\n",
              "       [ 1.        , -0.37796447, -0.77459667,  1.64058505,  1.7202972 ],\n",
              "       [-1.        , -0.37796447,  1.29099445, -0.0813118 , -0.16751412],\n",
              "       [ 1.        , -0.37796447, -0.77459667,  0.95182631,  0.98614835],\n",
              "       [ 1.        , -0.37796447, -0.77459667, -0.59788085, -0.48214934]])"
            ]
          },
          "metadata": {},
          "execution_count": 27
        }
      ]
    },
    {
      "cell_type": "code",
      "source": [
        "X_test"
      ],
      "metadata": {
        "colab": {
          "base_uri": "https://localhost:8080/"
        },
        "id": "5VsVa0hfBJjb",
        "outputId": "c4751a1e-37ad-4238-a74e-921d5a6bb0c6"
      },
      "execution_count": null,
      "outputs": [
        {
          "output_type": "execute_result",
          "data": {
            "text/plain": [
              "array([[-1.        ,  2.64575131, -0.77459667, -1.45882927, -0.90166297],\n",
              "       [-1.        ,  2.64575131, -0.77459667,  1.98496442,  2.13981082]])"
            ]
          },
          "metadata": {},
          "execution_count": 28
        }
      ]
    },
    {
      "cell_type": "code",
      "source": [
        "dataset # aui tenemos el dataset original. no se ha modificado nada. "
      ],
      "metadata": {
        "colab": {
          "base_uri": "https://localhost:8080/",
          "height": 374
        },
        "id": "G9FDWpfOBQXf",
        "outputId": "feae1d76-59cf-409c-b523-52467a5a6094"
      },
      "execution_count": null,
      "outputs": [
        {
          "output_type": "execute_result",
          "data": {
            "text/html": [
              "\n",
              "  <div id=\"df-3d9a0c4d-dae2-4411-8985-1c007568c11b\">\n",
              "    <div class=\"colab-df-container\">\n",
              "      <div>\n",
              "<style scoped>\n",
              "    .dataframe tbody tr th:only-of-type {\n",
              "        vertical-align: middle;\n",
              "    }\n",
              "\n",
              "    .dataframe tbody tr th {\n",
              "        vertical-align: top;\n",
              "    }\n",
              "\n",
              "    .dataframe thead th {\n",
              "        text-align: right;\n",
              "    }\n",
              "</style>\n",
              "<table border=\"1\" class=\"dataframe\">\n",
              "  <thead>\n",
              "    <tr style=\"text-align: right;\">\n",
              "      <th></th>\n",
              "      <th>Country</th>\n",
              "      <th>Age</th>\n",
              "      <th>Salary</th>\n",
              "      <th>Purchased</th>\n",
              "    </tr>\n",
              "  </thead>\n",
              "  <tbody>\n",
              "    <tr>\n",
              "      <th>0</th>\n",
              "      <td>France</td>\n",
              "      <td>44.0</td>\n",
              "      <td>72000.0</td>\n",
              "      <td>No</td>\n",
              "    </tr>\n",
              "    <tr>\n",
              "      <th>1</th>\n",
              "      <td>Spain</td>\n",
              "      <td>27.0</td>\n",
              "      <td>48000.0</td>\n",
              "      <td>Yes</td>\n",
              "    </tr>\n",
              "    <tr>\n",
              "      <th>2</th>\n",
              "      <td>Germany</td>\n",
              "      <td>30.0</td>\n",
              "      <td>54000.0</td>\n",
              "      <td>No</td>\n",
              "    </tr>\n",
              "    <tr>\n",
              "      <th>3</th>\n",
              "      <td>Spain</td>\n",
              "      <td>38.0</td>\n",
              "      <td>61000.0</td>\n",
              "      <td>No</td>\n",
              "    </tr>\n",
              "    <tr>\n",
              "      <th>4</th>\n",
              "      <td>Germany</td>\n",
              "      <td>40.0</td>\n",
              "      <td>NaN</td>\n",
              "      <td>Yes</td>\n",
              "    </tr>\n",
              "    <tr>\n",
              "      <th>5</th>\n",
              "      <td>France</td>\n",
              "      <td>35.0</td>\n",
              "      <td>58000.0</td>\n",
              "      <td>Yes</td>\n",
              "    </tr>\n",
              "    <tr>\n",
              "      <th>6</th>\n",
              "      <td>Spain</td>\n",
              "      <td>NaN</td>\n",
              "      <td>52000.0</td>\n",
              "      <td>No</td>\n",
              "    </tr>\n",
              "    <tr>\n",
              "      <th>7</th>\n",
              "      <td>France</td>\n",
              "      <td>48.0</td>\n",
              "      <td>79000.0</td>\n",
              "      <td>Yes</td>\n",
              "    </tr>\n",
              "    <tr>\n",
              "      <th>8</th>\n",
              "      <td>Germany</td>\n",
              "      <td>50.0</td>\n",
              "      <td>83000.0</td>\n",
              "      <td>No</td>\n",
              "    </tr>\n",
              "    <tr>\n",
              "      <th>9</th>\n",
              "      <td>France</td>\n",
              "      <td>37.0</td>\n",
              "      <td>67000.0</td>\n",
              "      <td>Yes</td>\n",
              "    </tr>\n",
              "  </tbody>\n",
              "</table>\n",
              "</div>\n",
              "      <button class=\"colab-df-convert\" onclick=\"convertToInteractive('df-3d9a0c4d-dae2-4411-8985-1c007568c11b')\"\n",
              "              title=\"Convert this dataframe to an interactive table.\"\n",
              "              style=\"display:none;\">\n",
              "        \n",
              "  <svg xmlns=\"http://www.w3.org/2000/svg\" height=\"24px\"viewBox=\"0 0 24 24\"\n",
              "       width=\"24px\">\n",
              "    <path d=\"M0 0h24v24H0V0z\" fill=\"none\"/>\n",
              "    <path d=\"M18.56 5.44l.94 2.06.94-2.06 2.06-.94-2.06-.94-.94-2.06-.94 2.06-2.06.94zm-11 1L8.5 8.5l.94-2.06 2.06-.94-2.06-.94L8.5 2.5l-.94 2.06-2.06.94zm10 10l.94 2.06.94-2.06 2.06-.94-2.06-.94-.94-2.06-.94 2.06-2.06.94z\"/><path d=\"M17.41 7.96l-1.37-1.37c-.4-.4-.92-.59-1.43-.59-.52 0-1.04.2-1.43.59L10.3 9.45l-7.72 7.72c-.78.78-.78 2.05 0 2.83L4 21.41c.39.39.9.59 1.41.59.51 0 1.02-.2 1.41-.59l7.78-7.78 2.81-2.81c.8-.78.8-2.07 0-2.86zM5.41 20L4 18.59l7.72-7.72 1.47 1.35L5.41 20z\"/>\n",
              "  </svg>\n",
              "      </button>\n",
              "      \n",
              "  <style>\n",
              "    .colab-df-container {\n",
              "      display:flex;\n",
              "      flex-wrap:wrap;\n",
              "      gap: 12px;\n",
              "    }\n",
              "\n",
              "    .colab-df-convert {\n",
              "      background-color: #E8F0FE;\n",
              "      border: none;\n",
              "      border-radius: 50%;\n",
              "      cursor: pointer;\n",
              "      display: none;\n",
              "      fill: #1967D2;\n",
              "      height: 32px;\n",
              "      padding: 0 0 0 0;\n",
              "      width: 32px;\n",
              "    }\n",
              "\n",
              "    .colab-df-convert:hover {\n",
              "      background-color: #E2EBFA;\n",
              "      box-shadow: 0px 1px 2px rgba(60, 64, 67, 0.3), 0px 1px 3px 1px rgba(60, 64, 67, 0.15);\n",
              "      fill: #174EA6;\n",
              "    }\n",
              "\n",
              "    [theme=dark] .colab-df-convert {\n",
              "      background-color: #3B4455;\n",
              "      fill: #D2E3FC;\n",
              "    }\n",
              "\n",
              "    [theme=dark] .colab-df-convert:hover {\n",
              "      background-color: #434B5C;\n",
              "      box-shadow: 0px 1px 3px 1px rgba(0, 0, 0, 0.15);\n",
              "      filter: drop-shadow(0px 1px 2px rgba(0, 0, 0, 0.3));\n",
              "      fill: #FFFFFF;\n",
              "    }\n",
              "  </style>\n",
              "\n",
              "      <script>\n",
              "        const buttonEl =\n",
              "          document.querySelector('#df-3d9a0c4d-dae2-4411-8985-1c007568c11b button.colab-df-convert');\n",
              "        buttonEl.style.display =\n",
              "          google.colab.kernel.accessAllowed ? 'block' : 'none';\n",
              "\n",
              "        async function convertToInteractive(key) {\n",
              "          const element = document.querySelector('#df-3d9a0c4d-dae2-4411-8985-1c007568c11b');\n",
              "          const dataTable =\n",
              "            await google.colab.kernel.invokeFunction('convertToInteractive',\n",
              "                                                     [key], {});\n",
              "          if (!dataTable) return;\n",
              "\n",
              "          const docLinkHtml = 'Like what you see? Visit the ' +\n",
              "            '<a target=\"_blank\" href=https://colab.research.google.com/notebooks/data_table.ipynb>data table notebook</a>'\n",
              "            + ' to learn more about interactive tables.';\n",
              "          element.innerHTML = '';\n",
              "          dataTable['output_type'] = 'display_data';\n",
              "          await google.colab.output.renderOutput(dataTable, element);\n",
              "          const docLink = document.createElement('div');\n",
              "          docLink.innerHTML = docLinkHtml;\n",
              "          element.appendChild(docLink);\n",
              "        }\n",
              "      </script>\n",
              "    </div>\n",
              "  </div>\n",
              "  "
            ],
            "text/plain": [
              "   Country   Age   Salary Purchased\n",
              "0   France  44.0  72000.0        No\n",
              "1    Spain  27.0  48000.0       Yes\n",
              "2  Germany  30.0  54000.0        No\n",
              "3    Spain  38.0  61000.0        No\n",
              "4  Germany  40.0      NaN       Yes\n",
              "5   France  35.0  58000.0       Yes\n",
              "6    Spain   NaN  52000.0        No\n",
              "7   France  48.0  79000.0       Yes\n",
              "8  Germany  50.0  83000.0        No\n",
              "9   France  37.0  67000.0       Yes"
            ]
          },
          "metadata": {},
          "execution_count": 29
        }
      ]
    },
    {
      "cell_type": "code",
      "source": [
        ""
      ],
      "metadata": {
        "id": "ujM43nSnEWHT"
      },
      "execution_count": null,
      "outputs": []
    },
    {
      "cell_type": "markdown",
      "source": [
        "# REGRESION LINEAL multiple"
      ],
      "metadata": {
        "id": "hZJO11MPpwlR"
      }
    },
    {
      "cell_type": "code",
      "source": [
        "from sklearn.linear_model import LinearRegression"
      ],
      "metadata": {
        "id": "SNgc3IuIp2Ep"
      },
      "execution_count": 34,
      "outputs": []
    },
    {
      "cell_type": "code",
      "source": [
        "# se hace igual que la simple\n",
        "regression = LinearRegression()\n",
        "regression.fit(X_train, y_train)\n",
        "# hay que observar que tengan el mismo tamaño. lo hemos visto arriba con shape. "
      ],
      "metadata": {
        "colab": {
          "base_uri": "https://localhost:8080/"
        },
        "id": "f0NSQgtAqAJK",
        "outputId": "b9cd88e8-6128-4f03-97b3-d4fd3b383893"
      },
      "execution_count": 35,
      "outputs": [
        {
          "output_type": "execute_result",
          "data": {
            "text/plain": [
              "LinearRegression()"
            ]
          },
          "metadata": {},
          "execution_count": 35
        }
      ]
    },
    {
      "cell_type": "markdown",
      "source": [
        "# PREDECIR EL CONJUNTO DE TEST"
      ],
      "metadata": {
        "id": "7gXYwsTZtlQc"
      }
    },
    {
      "cell_type": "code",
      "source": [
        "y_pred = regression.predict(X_test) # utilizamos el predict de Xtest"
      ],
      "metadata": {
        "id": "NIpnvEYAqFCy"
      },
      "execution_count": 36,
      "outputs": []
    },
    {
      "cell_type": "code",
      "source": [
        "y_pred # estos representan una recta. "
      ],
      "metadata": {
        "colab": {
          "base_uri": "https://localhost:8080/"
        },
        "id": "1BR3-OS-rNLd",
        "outputId": "18a2cde4-1c8b-4146-f2db-e93e9d555a31"
      },
      "execution_count": 37,
      "outputs": [
        {
          "output_type": "execute_result",
          "data": {
            "text/plain": [
              "array([103015.20159796, 132582.27760816, 132447.73845175,  71976.09851259,\n",
              "       178537.48221054, 116161.24230163,  67851.69209676,  98791.73374688,\n",
              "       113969.43533012, 167921.0656955 ])"
            ]
          },
          "metadata": {},
          "execution_count": 37
        }
      ]
    },
    {
      "cell_type": "code",
      "source": [
        "y_test # estos no son una recta son los reales. "
      ],
      "metadata": {
        "colab": {
          "base_uri": "https://localhost:8080/"
        },
        "id": "y62C3MzFt4gU",
        "outputId": "b02cd249-82ab-49f8-a6df-bf22b9aa9a57"
      },
      "execution_count": 38,
      "outputs": [
        {
          "output_type": "execute_result",
          "data": {
            "text/plain": [
              "array([103282.38, 144259.4 , 146121.95,  77798.83, 191050.39, 105008.31,\n",
              "        81229.06,  97483.56, 110352.25, 166187.94])"
            ]
          },
          "metadata": {},
          "execution_count": 38
        }
      ]
    },
    {
      "cell_type": "markdown",
      "source": [
        "como vemos arriba con la primera persona hemos predecido 103015 y el real es 103282, el segundo 132582 y el real es 144259 y así sucesivamente. "
      ],
      "metadata": {
        "id": "SRo4D9lsudQn"
      }
    },
    {
      "cell_type": "markdown",
      "source": [
        "# Construir el modelo óptimo de RLM utilizando la Eliminación hacia atrás"
      ],
      "metadata": {
        "id": "M0OZTBWt2wvN"
      }
    },
    {
      "cell_type": "code",
      "source": [
        "import statsmodels.api as sm\n",
        "X = np.append(arr = np.ones((50,1)).astype(int), values = X, axis = 1) # le vamos añadir un array de unos al inicio. (50,1) 50 unos en la fila 1\n",
        "# le decimos que sean enteros. axis igual a 1 porque queremos que vaya en columna, \n",
        "SL = 0.05"
      ],
      "metadata": {
        "colab": {
          "base_uri": "https://localhost:8080/"
        },
        "id": "7ziKk_xs211Q",
        "outputId": "7a90ad65-5fe2-480c-d919-6e8b3fecd33c"
      },
      "execution_count": 39,
      "outputs": [
        {
          "output_type": "stream",
          "name": "stderr",
          "text": [
            "/usr/local/lib/python3.7/dist-packages/statsmodels/tools/_testing.py:19: FutureWarning: pandas.util.testing is deprecated. Use the functions in the public API at pandas.testing instead.\n",
            "  import pandas.util.testing as tm\n"
          ]
        }
      ]
    },
    {
      "cell_type": "code",
      "source": [
        "X"
      ],
      "metadata": {
        "colab": {
          "base_uri": "https://localhost:8080/"
        },
        "id": "2C0VR4Gt4Nmg",
        "outputId": "c086f5ca-eb9e-4565-80f4-e1351b3a685f"
      },
      "execution_count": 40,
      "outputs": [
        {
          "output_type": "execute_result",
          "data": {
            "text/plain": [
              "array([[1, 0.0, 1.0, 165349.2, 136897.8, 471784.1],\n",
              "       [1, 0.0, 0.0, 162597.7, 151377.59, 443898.53],\n",
              "       [1, 1.0, 0.0, 153441.51, 101145.55, 407934.54],\n",
              "       [1, 0.0, 1.0, 144372.41, 118671.85, 383199.62],\n",
              "       [1, 1.0, 0.0, 142107.34, 91391.77, 366168.42],\n",
              "       [1, 0.0, 1.0, 131876.9, 99814.71, 362861.36],\n",
              "       [1, 0.0, 0.0, 134615.46, 147198.87, 127716.82],\n",
              "       [1, 1.0, 0.0, 130298.13, 145530.06, 323876.68],\n",
              "       [1, 0.0, 1.0, 120542.52, 148718.95, 311613.29],\n",
              "       [1, 0.0, 0.0, 123334.88, 108679.17, 304981.62],\n",
              "       [1, 1.0, 0.0, 101913.08, 110594.11, 229160.95],\n",
              "       [1, 0.0, 0.0, 100671.96, 91790.61, 249744.55],\n",
              "       [1, 1.0, 0.0, 93863.75, 127320.38, 249839.44],\n",
              "       [1, 0.0, 0.0, 91992.39, 135495.07, 252664.93],\n",
              "       [1, 1.0, 0.0, 119943.24, 156547.42, 256512.92],\n",
              "       [1, 0.0, 1.0, 114523.61, 122616.84, 261776.23],\n",
              "       [1, 0.0, 0.0, 78013.11, 121597.55, 264346.06],\n",
              "       [1, 0.0, 1.0, 94657.16, 145077.58, 282574.31],\n",
              "       [1, 1.0, 0.0, 91749.16, 114175.79, 294919.57],\n",
              "       [1, 0.0, 1.0, 86419.7, 153514.11, 0.0],\n",
              "       [1, 0.0, 0.0, 76253.86, 113867.3, 298664.47],\n",
              "       [1, 0.0, 1.0, 78389.47, 153773.43, 299737.29],\n",
              "       [1, 1.0, 0.0, 73994.56, 122782.75, 303319.26],\n",
              "       [1, 1.0, 0.0, 67532.53, 105751.03, 304768.73],\n",
              "       [1, 0.0, 1.0, 77044.01, 99281.34, 140574.81],\n",
              "       [1, 0.0, 0.0, 64664.71, 139553.16, 137962.62],\n",
              "       [1, 1.0, 0.0, 75328.87, 144135.98, 134050.07],\n",
              "       [1, 0.0, 1.0, 72107.6, 127864.55, 353183.81],\n",
              "       [1, 1.0, 0.0, 66051.52, 182645.56, 118148.2],\n",
              "       [1, 0.0, 1.0, 65605.48, 153032.06, 107138.38],\n",
              "       [1, 1.0, 0.0, 61994.48, 115641.28, 91131.24],\n",
              "       [1, 0.0, 1.0, 61136.38, 152701.92, 88218.23],\n",
              "       [1, 0.0, 0.0, 63408.86, 129219.61, 46085.25],\n",
              "       [1, 1.0, 0.0, 55493.95, 103057.49, 214634.81],\n",
              "       [1, 0.0, 0.0, 46426.07, 157693.92, 210797.67],\n",
              "       [1, 0.0, 1.0, 46014.02, 85047.44, 205517.64],\n",
              "       [1, 1.0, 0.0, 28663.76, 127056.21, 201126.82],\n",
              "       [1, 0.0, 0.0, 44069.95, 51283.14, 197029.42],\n",
              "       [1, 0.0, 1.0, 20229.59, 65947.93, 185265.1],\n",
              "       [1, 0.0, 0.0, 38558.51, 82982.09, 174999.3],\n",
              "       [1, 0.0, 0.0, 28754.33, 118546.05, 172795.67],\n",
              "       [1, 1.0, 0.0, 27892.92, 84710.77, 164470.71],\n",
              "       [1, 0.0, 0.0, 23640.93, 96189.63, 148001.11],\n",
              "       [1, 0.0, 1.0, 15505.73, 127382.3, 35534.17],\n",
              "       [1, 0.0, 0.0, 22177.74, 154806.14, 28334.72],\n",
              "       [1, 0.0, 1.0, 1000.23, 124153.04, 1903.93],\n",
              "       [1, 1.0, 0.0, 1315.46, 115816.21, 297114.46],\n",
              "       [1, 0.0, 0.0, 0.0, 135426.92, 0.0],\n",
              "       [1, 0.0, 1.0, 542.05, 51743.15, 0.0],\n",
              "       [1, 0.0, 0.0, 0.0, 116983.8, 45173.06]], dtype=object)"
            ]
          },
          "metadata": {},
          "execution_count": 40
        }
      ]
    },
    {
      "cell_type": "markdown",
      "source": [
        "#Se ha añadido el modificador .tolist() al X_opt para adaptarse a Python 3.7"
      ],
      "metadata": {
        "id": "hGx9CGG83KsI"
      }
    },
    {
      "cell_type": "code",
      "source": [
        "# vamos a ir una a una. primero comprobamos todas, que son las tres lineas de debajo\n",
        "X_opt = X[:, [0, 1, 2, 3, 4, 5]]\n",
        "regression_OLS = sm.OLS(endog = y, exog = X_opt.tolist()).fit()\n",
        "regression_OLS.summary() # al ejecutar esto me queda que debo utilizar 0 y 3\n",
        "\"\"\"\n",
        "X_opt = X[:, [0, 1, 3, 4, 5]]\n",
        "regression_OLS = sm.OLS(endog = y, exog = X_opt.tolist()).fit()\n",
        "regression_OLS.summary()\n",
        "\n",
        "X_opt = X[:, [0, 3, 4, 5]]\n",
        "regression_OLS = sm.OLS(endog = y, exog = X_opt.tolist()).fit()\n",
        "regression_OLS.summary()\n",
        "\n",
        "X_opt = X[:, [0, 3, 5]]\n",
        "regression_OLS = sm.OLS(endog = y, exog = X_opt.tolist()).fit()\n",
        "regression_OLS.summary()\n",
        "\n",
        "X_opt = X[:, [0, 3]]\n",
        "regression_OLS = sm.OLS(endog = y, exog = X_opt.tolist()).fit()\n",
        "regression_OLS.summary()\"\"\""
      ],
      "metadata": {
        "colab": {
          "base_uri": "https://localhost:8080/",
          "height": 107
        },
        "id": "kCvYChPP3EhN",
        "outputId": "06662edc-fa37-46a4-eadf-d4b9d64e039a"
      },
      "execution_count": 41,
      "outputs": [
        {
          "output_type": "execute_result",
          "data": {
            "text/plain": [
              "'\\nX_opt = X[:, [0, 1, 3, 4, 5]]\\nregression_OLS = sm.OLS(endog = y, exog = X_opt.tolist()).fit()\\nregression_OLS.summary()\\n\\nX_opt = X[:, [0, 3, 4, 5]]\\nregression_OLS = sm.OLS(endog = y, exog = X_opt.tolist()).fit()\\nregression_OLS.summary()\\n\\nX_opt = X[:, [0, 3, 5]]\\nregression_OLS = sm.OLS(endog = y, exog = X_opt.tolist()).fit()\\nregression_OLS.summary()\\n\\nX_opt = X[:, [0, 3]]\\nregression_OLS = sm.OLS(endog = y, exog = X_opt.tolist()).fit()\\nregression_OLS.summary()'"
            ],
            "application/vnd.google.colaboratory.intrinsic+json": {
              "type": "string"
            }
          },
          "metadata": {},
          "execution_count": 41
        }
      ]
    },
    {
      "cell_type": "markdown",
      "source": [
        "- EN ESTE TEXTO AL FINAL VEMOS COMO NOS DICE CUAL ES LA OPTIMA CON EL REGRESSION_OLS.SUMARY(\n",
        "- '\\nX_opt = X[:, [0, 1, 3, 4, 5]]\\nregression_OLS = sm.OLS(endog = y, exog = X_opt.tolist()).fit()\\nregression_OLS.summary()\\n\\nX_opt = X[:, [0, 3, 4, 5]]\\nregression_OLS = sm.OLS(endog = y, exog = X_opt.tolist()).fit()\\nregression_OLS.summary()\\n\\nX_opt = X[:, [0, 3, 5]]\\nregression_OLS = sm.OLS(endog = y, exog = X_opt.tolist()).fit()\\nregression_OLS.summary()\\n\\nX_opt = X[:, [0, 3]]\\nregression_OLS = sm.OLS(endog = y, exog = X_opt.tolist()).fit()\\nregression_OLS.summary()'"
      ],
      "metadata": {
        "id": "7GYoMczI7kPo"
      }
    },
    {
      "cell_type": "code",
      "source": [
        "X_opt = X[:, [0, 3]] # la 3 es el gasto en marketing. \n",
        "regression_OLS = sm.OLS(endog = y, exog = X_opt.tolist()).fit()\n",
        "regression_OLS.summary()\n",
        "# arriba lo que ha hecho ha sido eliminar paso a paso las que su p valor no es significativo. "
      ],
      "metadata": {
        "colab": {
          "base_uri": "https://localhost:8080/",
          "height": 487
        },
        "id": "DRjWZHss7E2H",
        "outputId": "0038954c-374d-4afb-9d58-8ed5e7260b3b"
      },
      "execution_count": 42,
      "outputs": [
        {
          "output_type": "execute_result",
          "data": {
            "text/plain": [
              "<class 'statsmodels.iolib.summary.Summary'>\n",
              "\"\"\"\n",
              "                            OLS Regression Results                            \n",
              "==============================================================================\n",
              "Dep. Variable:                      y   R-squared:                       0.947\n",
              "Model:                            OLS   Adj. R-squared:                  0.945\n",
              "Method:                 Least Squares   F-statistic:                     849.8\n",
              "Date:                Sat, 12 Mar 2022   Prob (F-statistic):           3.50e-32\n",
              "Time:                        10:09:38   Log-Likelihood:                -527.44\n",
              "No. Observations:                  50   AIC:                             1059.\n",
              "Df Residuals:                      48   BIC:                             1063.\n",
              "Df Model:                           1                                         \n",
              "Covariance Type:            nonrobust                                         \n",
              "==============================================================================\n",
              "                 coef    std err          t      P>|t|      [0.025      0.975]\n",
              "------------------------------------------------------------------------------\n",
              "const       4.903e+04   2537.897     19.320      0.000    4.39e+04    5.41e+04\n",
              "x1             0.8543      0.029     29.151      0.000       0.795       0.913\n",
              "==============================================================================\n",
              "Omnibus:                       13.727   Durbin-Watson:                   1.116\n",
              "Prob(Omnibus):                  0.001   Jarque-Bera (JB):               18.536\n",
              "Skew:                          -0.911   Prob(JB):                     9.44e-05\n",
              "Kurtosis:                       5.361   Cond. No.                     1.65e+05\n",
              "==============================================================================\n",
              "\n",
              "Warnings:\n",
              "[1] Standard Errors assume that the covariance matrix of the errors is correctly specified.\n",
              "[2] The condition number is large, 1.65e+05. This might indicate that there are\n",
              "strong multicollinearity or other numerical problems.\n",
              "\"\"\""
            ],
            "text/html": [
              "<table class=\"simpletable\">\n",
              "<caption>OLS Regression Results</caption>\n",
              "<tr>\n",
              "  <th>Dep. Variable:</th>            <td>y</td>        <th>  R-squared:         </th> <td>   0.947</td>\n",
              "</tr>\n",
              "<tr>\n",
              "  <th>Model:</th>                   <td>OLS</td>       <th>  Adj. R-squared:    </th> <td>   0.945</td>\n",
              "</tr>\n",
              "<tr>\n",
              "  <th>Method:</th>             <td>Least Squares</td>  <th>  F-statistic:       </th> <td>   849.8</td>\n",
              "</tr>\n",
              "<tr>\n",
              "  <th>Date:</th>             <td>Sat, 12 Mar 2022</td> <th>  Prob (F-statistic):</th> <td>3.50e-32</td>\n",
              "</tr>\n",
              "<tr>\n",
              "  <th>Time:</th>                 <td>10:09:38</td>     <th>  Log-Likelihood:    </th> <td> -527.44</td>\n",
              "</tr>\n",
              "<tr>\n",
              "  <th>No. Observations:</th>      <td>    50</td>      <th>  AIC:               </th> <td>   1059.</td>\n",
              "</tr>\n",
              "<tr>\n",
              "  <th>Df Residuals:</th>          <td>    48</td>      <th>  BIC:               </th> <td>   1063.</td>\n",
              "</tr>\n",
              "<tr>\n",
              "  <th>Df Model:</th>              <td>     1</td>      <th>                     </th>     <td> </td>   \n",
              "</tr>\n",
              "<tr>\n",
              "  <th>Covariance Type:</th>      <td>nonrobust</td>    <th>                     </th>     <td> </td>   \n",
              "</tr>\n",
              "</table>\n",
              "<table class=\"simpletable\">\n",
              "<tr>\n",
              "    <td></td>       <th>coef</th>     <th>std err</th>      <th>t</th>      <th>P>|t|</th>  <th>[0.025</th>    <th>0.975]</th>  \n",
              "</tr>\n",
              "<tr>\n",
              "  <th>const</th> <td> 4.903e+04</td> <td> 2537.897</td> <td>   19.320</td> <td> 0.000</td> <td> 4.39e+04</td> <td> 5.41e+04</td>\n",
              "</tr>\n",
              "<tr>\n",
              "  <th>x1</th>    <td>    0.8543</td> <td>    0.029</td> <td>   29.151</td> <td> 0.000</td> <td>    0.795</td> <td>    0.913</td>\n",
              "</tr>\n",
              "</table>\n",
              "<table class=\"simpletable\">\n",
              "<tr>\n",
              "  <th>Omnibus:</th>       <td>13.727</td> <th>  Durbin-Watson:     </th> <td>   1.116</td>\n",
              "</tr>\n",
              "<tr>\n",
              "  <th>Prob(Omnibus):</th> <td> 0.001</td> <th>  Jarque-Bera (JB):  </th> <td>  18.536</td>\n",
              "</tr>\n",
              "<tr>\n",
              "  <th>Skew:</th>          <td>-0.911</td> <th>  Prob(JB):          </th> <td>9.44e-05</td>\n",
              "</tr>\n",
              "<tr>\n",
              "  <th>Kurtosis:</th>      <td> 5.361</td> <th>  Cond. No.          </th> <td>1.65e+05</td>\n",
              "</tr>\n",
              "</table><br/><br/>Warnings:<br/>[1] Standard Errors assume that the covariance matrix of the errors is correctly specified.<br/>[2] The condition number is large, 1.65e+05. This might indicate that there are<br/>strong multicollinearity or other numerical problems."
            ]
          },
          "metadata": {},
          "execution_count": 42
        }
      ]
    },
    {
      "cell_type": "markdown",
      "source": [
        "# VAMOS A HACER EL GRAFICO SEGÚN LOS RESULTADOS. AL FINAL COMO SOLO NOS QUEDAMOS CON UNA VARIABLE INDEPENDIENTE ES COMO SI FUERA UNA REGRESIÓN LINEAL SIMPLE"
      ],
      "metadata": {
        "id": "pNKwt_6jqI9y"
      }
    },
    {
      "cell_type": "code",
      "source": [
        "dataset2 =dataset.iloc[:, 2:3]\n",
        "dataset2.head(5)"
      ],
      "metadata": {
        "id": "Ol9XxFn3qOZQ",
        "outputId": "fa3c09b7-72d6-450d-f0f1-b3c9a705e1ff",
        "colab": {
          "base_uri": "https://localhost:8080/",
          "height": 221
        }
      },
      "execution_count": 88,
      "outputs": [
        {
          "output_type": "execute_result",
          "data": {
            "text/plain": [
              "   Marketing Spend\n",
              "0        471784.10\n",
              "1        443898.53\n",
              "2        407934.54\n",
              "3        383199.62\n",
              "4        366168.42"
            ],
            "text/html": [
              "\n",
              "  <div id=\"df-b652cebd-cdaf-4fdf-9aca-cacd6136cc24\">\n",
              "    <div class=\"colab-df-container\">\n",
              "      <div>\n",
              "<style scoped>\n",
              "    .dataframe tbody tr th:only-of-type {\n",
              "        vertical-align: middle;\n",
              "    }\n",
              "\n",
              "    .dataframe tbody tr th {\n",
              "        vertical-align: top;\n",
              "    }\n",
              "\n",
              "    .dataframe thead th {\n",
              "        text-align: right;\n",
              "    }\n",
              "</style>\n",
              "<table border=\"1\" class=\"dataframe\">\n",
              "  <thead>\n",
              "    <tr style=\"text-align: right;\">\n",
              "      <th></th>\n",
              "      <th>Marketing Spend</th>\n",
              "    </tr>\n",
              "  </thead>\n",
              "  <tbody>\n",
              "    <tr>\n",
              "      <th>0</th>\n",
              "      <td>471784.10</td>\n",
              "    </tr>\n",
              "    <tr>\n",
              "      <th>1</th>\n",
              "      <td>443898.53</td>\n",
              "    </tr>\n",
              "    <tr>\n",
              "      <th>2</th>\n",
              "      <td>407934.54</td>\n",
              "    </tr>\n",
              "    <tr>\n",
              "      <th>3</th>\n",
              "      <td>383199.62</td>\n",
              "    </tr>\n",
              "    <tr>\n",
              "      <th>4</th>\n",
              "      <td>366168.42</td>\n",
              "    </tr>\n",
              "  </tbody>\n",
              "</table>\n",
              "</div>\n",
              "      <button class=\"colab-df-convert\" onclick=\"convertToInteractive('df-b652cebd-cdaf-4fdf-9aca-cacd6136cc24')\"\n",
              "              title=\"Convert this dataframe to an interactive table.\"\n",
              "              style=\"display:none;\">\n",
              "        \n",
              "  <svg xmlns=\"http://www.w3.org/2000/svg\" height=\"24px\"viewBox=\"0 0 24 24\"\n",
              "       width=\"24px\">\n",
              "    <path d=\"M0 0h24v24H0V0z\" fill=\"none\"/>\n",
              "    <path d=\"M18.56 5.44l.94 2.06.94-2.06 2.06-.94-2.06-.94-.94-2.06-.94 2.06-2.06.94zm-11 1L8.5 8.5l.94-2.06 2.06-.94-2.06-.94L8.5 2.5l-.94 2.06-2.06.94zm10 10l.94 2.06.94-2.06 2.06-.94-2.06-.94-.94-2.06-.94 2.06-2.06.94z\"/><path d=\"M17.41 7.96l-1.37-1.37c-.4-.4-.92-.59-1.43-.59-.52 0-1.04.2-1.43.59L10.3 9.45l-7.72 7.72c-.78.78-.78 2.05 0 2.83L4 21.41c.39.39.9.59 1.41.59.51 0 1.02-.2 1.41-.59l7.78-7.78 2.81-2.81c.8-.78.8-2.07 0-2.86zM5.41 20L4 18.59l7.72-7.72 1.47 1.35L5.41 20z\"/>\n",
              "  </svg>\n",
              "      </button>\n",
              "      \n",
              "  <style>\n",
              "    .colab-df-container {\n",
              "      display:flex;\n",
              "      flex-wrap:wrap;\n",
              "      gap: 12px;\n",
              "    }\n",
              "\n",
              "    .colab-df-convert {\n",
              "      background-color: #E8F0FE;\n",
              "      border: none;\n",
              "      border-radius: 50%;\n",
              "      cursor: pointer;\n",
              "      display: none;\n",
              "      fill: #1967D2;\n",
              "      height: 32px;\n",
              "      padding: 0 0 0 0;\n",
              "      width: 32px;\n",
              "    }\n",
              "\n",
              "    .colab-df-convert:hover {\n",
              "      background-color: #E2EBFA;\n",
              "      box-shadow: 0px 1px 2px rgba(60, 64, 67, 0.3), 0px 1px 3px 1px rgba(60, 64, 67, 0.15);\n",
              "      fill: #174EA6;\n",
              "    }\n",
              "\n",
              "    [theme=dark] .colab-df-convert {\n",
              "      background-color: #3B4455;\n",
              "      fill: #D2E3FC;\n",
              "    }\n",
              "\n",
              "    [theme=dark] .colab-df-convert:hover {\n",
              "      background-color: #434B5C;\n",
              "      box-shadow: 0px 1px 3px 1px rgba(0, 0, 0, 0.15);\n",
              "      filter: drop-shadow(0px 1px 2px rgba(0, 0, 0, 0.3));\n",
              "      fill: #FFFFFF;\n",
              "    }\n",
              "  </style>\n",
              "\n",
              "      <script>\n",
              "        const buttonEl =\n",
              "          document.querySelector('#df-b652cebd-cdaf-4fdf-9aca-cacd6136cc24 button.colab-df-convert');\n",
              "        buttonEl.style.display =\n",
              "          google.colab.kernel.accessAllowed ? 'block' : 'none';\n",
              "\n",
              "        async function convertToInteractive(key) {\n",
              "          const element = document.querySelector('#df-b652cebd-cdaf-4fdf-9aca-cacd6136cc24');\n",
              "          const dataTable =\n",
              "            await google.colab.kernel.invokeFunction('convertToInteractive',\n",
              "                                                     [key], {});\n",
              "          if (!dataTable) return;\n",
              "\n",
              "          const docLinkHtml = 'Like what you see? Visit the ' +\n",
              "            '<a target=\"_blank\" href=https://colab.research.google.com/notebooks/data_table.ipynb>data table notebook</a>'\n",
              "            + ' to learn more about interactive tables.';\n",
              "          element.innerHTML = '';\n",
              "          dataTable['output_type'] = 'display_data';\n",
              "          await google.colab.output.renderOutput(dataTable, element);\n",
              "          const docLink = document.createElement('div');\n",
              "          docLink.innerHTML = docLinkHtml;\n",
              "          element.appendChild(docLink);\n",
              "        }\n",
              "      </script>\n",
              "    </div>\n",
              "  </div>\n",
              "  "
            ]
          },
          "metadata": {},
          "execution_count": 88
        }
      ]
    },
    {
      "cell_type": "code",
      "source": [
        "dataset3 = dataset.iloc[:, -1]\n",
        "dataset3.dtype"
      ],
      "metadata": {
        "id": "Std-06veuLqJ",
        "outputId": "a9eef2f4-f668-49dc-e879-28d5fcc548f7",
        "colab": {
          "base_uri": "https://localhost:8080/"
        }
      },
      "execution_count": 89,
      "outputs": [
        {
          "output_type": "execute_result",
          "data": {
            "text/plain": [
              "dtype('float64')"
            ]
          },
          "metadata": {},
          "execution_count": 89
        }
      ]
    },
    {
      "cell_type": "code",
      "source": [
        "dataset3 = dataset.iloc[:, -1]\n",
        "dataset3 = pd.DataFrame(dataset3) # aqui lo estamos convirtiendo a dataframe. \n",
        "dataset3.head()"
      ],
      "metadata": {
        "id": "SGfALPEpq1La",
        "outputId": "94973769-2974-4aeb-cf5b-7eba9be2ec52",
        "colab": {
          "base_uri": "https://localhost:8080/",
          "height": 221
        }
      },
      "execution_count": 90,
      "outputs": [
        {
          "output_type": "execute_result",
          "data": {
            "text/plain": [
              "      Profit\n",
              "0  192261.83\n",
              "1  191792.06\n",
              "2  191050.39\n",
              "3  182901.99\n",
              "4  166187.94"
            ],
            "text/html": [
              "\n",
              "  <div id=\"df-47a322b2-6588-4d49-9d1b-0713879ab45b\">\n",
              "    <div class=\"colab-df-container\">\n",
              "      <div>\n",
              "<style scoped>\n",
              "    .dataframe tbody tr th:only-of-type {\n",
              "        vertical-align: middle;\n",
              "    }\n",
              "\n",
              "    .dataframe tbody tr th {\n",
              "        vertical-align: top;\n",
              "    }\n",
              "\n",
              "    .dataframe thead th {\n",
              "        text-align: right;\n",
              "    }\n",
              "</style>\n",
              "<table border=\"1\" class=\"dataframe\">\n",
              "  <thead>\n",
              "    <tr style=\"text-align: right;\">\n",
              "      <th></th>\n",
              "      <th>Profit</th>\n",
              "    </tr>\n",
              "  </thead>\n",
              "  <tbody>\n",
              "    <tr>\n",
              "      <th>0</th>\n",
              "      <td>192261.83</td>\n",
              "    </tr>\n",
              "    <tr>\n",
              "      <th>1</th>\n",
              "      <td>191792.06</td>\n",
              "    </tr>\n",
              "    <tr>\n",
              "      <th>2</th>\n",
              "      <td>191050.39</td>\n",
              "    </tr>\n",
              "    <tr>\n",
              "      <th>3</th>\n",
              "      <td>182901.99</td>\n",
              "    </tr>\n",
              "    <tr>\n",
              "      <th>4</th>\n",
              "      <td>166187.94</td>\n",
              "    </tr>\n",
              "  </tbody>\n",
              "</table>\n",
              "</div>\n",
              "      <button class=\"colab-df-convert\" onclick=\"convertToInteractive('df-47a322b2-6588-4d49-9d1b-0713879ab45b')\"\n",
              "              title=\"Convert this dataframe to an interactive table.\"\n",
              "              style=\"display:none;\">\n",
              "        \n",
              "  <svg xmlns=\"http://www.w3.org/2000/svg\" height=\"24px\"viewBox=\"0 0 24 24\"\n",
              "       width=\"24px\">\n",
              "    <path d=\"M0 0h24v24H0V0z\" fill=\"none\"/>\n",
              "    <path d=\"M18.56 5.44l.94 2.06.94-2.06 2.06-.94-2.06-.94-.94-2.06-.94 2.06-2.06.94zm-11 1L8.5 8.5l.94-2.06 2.06-.94-2.06-.94L8.5 2.5l-.94 2.06-2.06.94zm10 10l.94 2.06.94-2.06 2.06-.94-2.06-.94-.94-2.06-.94 2.06-2.06.94z\"/><path d=\"M17.41 7.96l-1.37-1.37c-.4-.4-.92-.59-1.43-.59-.52 0-1.04.2-1.43.59L10.3 9.45l-7.72 7.72c-.78.78-.78 2.05 0 2.83L4 21.41c.39.39.9.59 1.41.59.51 0 1.02-.2 1.41-.59l7.78-7.78 2.81-2.81c.8-.78.8-2.07 0-2.86zM5.41 20L4 18.59l7.72-7.72 1.47 1.35L5.41 20z\"/>\n",
              "  </svg>\n",
              "      </button>\n",
              "      \n",
              "  <style>\n",
              "    .colab-df-container {\n",
              "      display:flex;\n",
              "      flex-wrap:wrap;\n",
              "      gap: 12px;\n",
              "    }\n",
              "\n",
              "    .colab-df-convert {\n",
              "      background-color: #E8F0FE;\n",
              "      border: none;\n",
              "      border-radius: 50%;\n",
              "      cursor: pointer;\n",
              "      display: none;\n",
              "      fill: #1967D2;\n",
              "      height: 32px;\n",
              "      padding: 0 0 0 0;\n",
              "      width: 32px;\n",
              "    }\n",
              "\n",
              "    .colab-df-convert:hover {\n",
              "      background-color: #E2EBFA;\n",
              "      box-shadow: 0px 1px 2px rgba(60, 64, 67, 0.3), 0px 1px 3px 1px rgba(60, 64, 67, 0.15);\n",
              "      fill: #174EA6;\n",
              "    }\n",
              "\n",
              "    [theme=dark] .colab-df-convert {\n",
              "      background-color: #3B4455;\n",
              "      fill: #D2E3FC;\n",
              "    }\n",
              "\n",
              "    [theme=dark] .colab-df-convert:hover {\n",
              "      background-color: #434B5C;\n",
              "      box-shadow: 0px 1px 3px 1px rgba(0, 0, 0, 0.15);\n",
              "      filter: drop-shadow(0px 1px 2px rgba(0, 0, 0, 0.3));\n",
              "      fill: #FFFFFF;\n",
              "    }\n",
              "  </style>\n",
              "\n",
              "      <script>\n",
              "        const buttonEl =\n",
              "          document.querySelector('#df-47a322b2-6588-4d49-9d1b-0713879ab45b button.colab-df-convert');\n",
              "        buttonEl.style.display =\n",
              "          google.colab.kernel.accessAllowed ? 'block' : 'none';\n",
              "\n",
              "        async function convertToInteractive(key) {\n",
              "          const element = document.querySelector('#df-47a322b2-6588-4d49-9d1b-0713879ab45b');\n",
              "          const dataTable =\n",
              "            await google.colab.kernel.invokeFunction('convertToInteractive',\n",
              "                                                     [key], {});\n",
              "          if (!dataTable) return;\n",
              "\n",
              "          const docLinkHtml = 'Like what you see? Visit the ' +\n",
              "            '<a target=\"_blank\" href=https://colab.research.google.com/notebooks/data_table.ipynb>data table notebook</a>'\n",
              "            + ' to learn more about interactive tables.';\n",
              "          element.innerHTML = '';\n",
              "          dataTable['output_type'] = 'display_data';\n",
              "          await google.colab.output.renderOutput(dataTable, element);\n",
              "          const docLink = document.createElement('div');\n",
              "          docLink.innerHTML = docLinkHtml;\n",
              "          element.appendChild(docLink);\n",
              "        }\n",
              "      </script>\n",
              "    </div>\n",
              "  </div>\n",
              "  "
            ]
          },
          "metadata": {},
          "execution_count": 90
        }
      ]
    },
    {
      "cell_type": "code",
      "source": [
        "# así lo que hacemos es unir los dos dataframes. \n",
        "dataset4 = pd.concat([dataset2, dataset3], axis=1, join='inner')\n",
        "dataset4.head()"
      ],
      "metadata": {
        "id": "OylGw21vsN3C",
        "outputId": "193b4908-dfaf-4a34-f528-c49d787328bc",
        "colab": {
          "base_uri": "https://localhost:8080/",
          "height": 221
        }
      },
      "execution_count": 91,
      "outputs": [
        {
          "output_type": "execute_result",
          "data": {
            "text/plain": [
              "   Marketing Spend     Profit\n",
              "0        471784.10  192261.83\n",
              "1        443898.53  191792.06\n",
              "2        407934.54  191050.39\n",
              "3        383199.62  182901.99\n",
              "4        366168.42  166187.94"
            ],
            "text/html": [
              "\n",
              "  <div id=\"df-b8c19fe4-4e0c-433a-a493-4967bbc9f4fa\">\n",
              "    <div class=\"colab-df-container\">\n",
              "      <div>\n",
              "<style scoped>\n",
              "    .dataframe tbody tr th:only-of-type {\n",
              "        vertical-align: middle;\n",
              "    }\n",
              "\n",
              "    .dataframe tbody tr th {\n",
              "        vertical-align: top;\n",
              "    }\n",
              "\n",
              "    .dataframe thead th {\n",
              "        text-align: right;\n",
              "    }\n",
              "</style>\n",
              "<table border=\"1\" class=\"dataframe\">\n",
              "  <thead>\n",
              "    <tr style=\"text-align: right;\">\n",
              "      <th></th>\n",
              "      <th>Marketing Spend</th>\n",
              "      <th>Profit</th>\n",
              "    </tr>\n",
              "  </thead>\n",
              "  <tbody>\n",
              "    <tr>\n",
              "      <th>0</th>\n",
              "      <td>471784.10</td>\n",
              "      <td>192261.83</td>\n",
              "    </tr>\n",
              "    <tr>\n",
              "      <th>1</th>\n",
              "      <td>443898.53</td>\n",
              "      <td>191792.06</td>\n",
              "    </tr>\n",
              "    <tr>\n",
              "      <th>2</th>\n",
              "      <td>407934.54</td>\n",
              "      <td>191050.39</td>\n",
              "    </tr>\n",
              "    <tr>\n",
              "      <th>3</th>\n",
              "      <td>383199.62</td>\n",
              "      <td>182901.99</td>\n",
              "    </tr>\n",
              "    <tr>\n",
              "      <th>4</th>\n",
              "      <td>366168.42</td>\n",
              "      <td>166187.94</td>\n",
              "    </tr>\n",
              "  </tbody>\n",
              "</table>\n",
              "</div>\n",
              "      <button class=\"colab-df-convert\" onclick=\"convertToInteractive('df-b8c19fe4-4e0c-433a-a493-4967bbc9f4fa')\"\n",
              "              title=\"Convert this dataframe to an interactive table.\"\n",
              "              style=\"display:none;\">\n",
              "        \n",
              "  <svg xmlns=\"http://www.w3.org/2000/svg\" height=\"24px\"viewBox=\"0 0 24 24\"\n",
              "       width=\"24px\">\n",
              "    <path d=\"M0 0h24v24H0V0z\" fill=\"none\"/>\n",
              "    <path d=\"M18.56 5.44l.94 2.06.94-2.06 2.06-.94-2.06-.94-.94-2.06-.94 2.06-2.06.94zm-11 1L8.5 8.5l.94-2.06 2.06-.94-2.06-.94L8.5 2.5l-.94 2.06-2.06.94zm10 10l.94 2.06.94-2.06 2.06-.94-2.06-.94-.94-2.06-.94 2.06-2.06.94z\"/><path d=\"M17.41 7.96l-1.37-1.37c-.4-.4-.92-.59-1.43-.59-.52 0-1.04.2-1.43.59L10.3 9.45l-7.72 7.72c-.78.78-.78 2.05 0 2.83L4 21.41c.39.39.9.59 1.41.59.51 0 1.02-.2 1.41-.59l7.78-7.78 2.81-2.81c.8-.78.8-2.07 0-2.86zM5.41 20L4 18.59l7.72-7.72 1.47 1.35L5.41 20z\"/>\n",
              "  </svg>\n",
              "      </button>\n",
              "      \n",
              "  <style>\n",
              "    .colab-df-container {\n",
              "      display:flex;\n",
              "      flex-wrap:wrap;\n",
              "      gap: 12px;\n",
              "    }\n",
              "\n",
              "    .colab-df-convert {\n",
              "      background-color: #E8F0FE;\n",
              "      border: none;\n",
              "      border-radius: 50%;\n",
              "      cursor: pointer;\n",
              "      display: none;\n",
              "      fill: #1967D2;\n",
              "      height: 32px;\n",
              "      padding: 0 0 0 0;\n",
              "      width: 32px;\n",
              "    }\n",
              "\n",
              "    .colab-df-convert:hover {\n",
              "      background-color: #E2EBFA;\n",
              "      box-shadow: 0px 1px 2px rgba(60, 64, 67, 0.3), 0px 1px 3px 1px rgba(60, 64, 67, 0.15);\n",
              "      fill: #174EA6;\n",
              "    }\n",
              "\n",
              "    [theme=dark] .colab-df-convert {\n",
              "      background-color: #3B4455;\n",
              "      fill: #D2E3FC;\n",
              "    }\n",
              "\n",
              "    [theme=dark] .colab-df-convert:hover {\n",
              "      background-color: #434B5C;\n",
              "      box-shadow: 0px 1px 3px 1px rgba(0, 0, 0, 0.15);\n",
              "      filter: drop-shadow(0px 1px 2px rgba(0, 0, 0, 0.3));\n",
              "      fill: #FFFFFF;\n",
              "    }\n",
              "  </style>\n",
              "\n",
              "      <script>\n",
              "        const buttonEl =\n",
              "          document.querySelector('#df-b8c19fe4-4e0c-433a-a493-4967bbc9f4fa button.colab-df-convert');\n",
              "        buttonEl.style.display =\n",
              "          google.colab.kernel.accessAllowed ? 'block' : 'none';\n",
              "\n",
              "        async function convertToInteractive(key) {\n",
              "          const element = document.querySelector('#df-b8c19fe4-4e0c-433a-a493-4967bbc9f4fa');\n",
              "          const dataTable =\n",
              "            await google.colab.kernel.invokeFunction('convertToInteractive',\n",
              "                                                     [key], {});\n",
              "          if (!dataTable) return;\n",
              "\n",
              "          const docLinkHtml = 'Like what you see? Visit the ' +\n",
              "            '<a target=\"_blank\" href=https://colab.research.google.com/notebooks/data_table.ipynb>data table notebook</a>'\n",
              "            + ' to learn more about interactive tables.';\n",
              "          element.innerHTML = '';\n",
              "          dataTable['output_type'] = 'display_data';\n",
              "          await google.colab.output.renderOutput(dataTable, element);\n",
              "          const docLink = document.createElement('div');\n",
              "          docLink.innerHTML = docLinkHtml;\n",
              "          element.appendChild(docLink);\n",
              "        }\n",
              "      </script>\n",
              "    </div>\n",
              "  </div>\n",
              "  "
            ]
          },
          "metadata": {},
          "execution_count": 91
        }
      ]
    },
    {
      "cell_type": "markdown",
      "source": [
        "AHORA VAMOS A SEPARAR LA VARIABLE DEPEDIENTE DE LA INDEPENDIENTE"
      ],
      "metadata": {
        "id": "GQEt_jmLusB5"
      }
    },
    {
      "cell_type": "code",
      "source": [
        "X = dataset4.iloc[:, 0].values # años de experiencia son las variables independientes \n",
        "y = dataset4.iloc[:, 1].values # Salary es la variable dependiente "
      ],
      "metadata": {
        "id": "Q1KplgE0vj8O"
      },
      "execution_count": 92,
      "outputs": []
    },
    {
      "cell_type": "code",
      "source": [
        "#result = pd.DataFrame({'Column1': X[:, 0], 'Column2': X[:, 1],'Column3': X[:, 2]})"
      ],
      "metadata": {
        "id": "BMknUfqQzdPT"
      },
      "execution_count": null,
      "outputs": []
    },
    {
      "cell_type": "code",
      "source": [
        "print(X.shape)\n",
        "print(y.shape)"
      ],
      "metadata": {
        "id": "tH-9KQ1pwNH8",
        "outputId": "dd780456-2b2f-4bfb-a4ad-a8614dd47998",
        "colab": {
          "base_uri": "https://localhost:8080/"
        }
      },
      "execution_count": 93,
      "outputs": [
        {
          "output_type": "stream",
          "name": "stdout",
          "text": [
            "(50,)\n",
            "(50,)\n"
          ]
        }
      ]
    },
    {
      "cell_type": "code",
      "source": [
        "X"
      ],
      "metadata": {
        "id": "5f2udet1vti2"
      },
      "execution_count": null,
      "outputs": []
    },
    {
      "cell_type": "code",
      "source": [
        "y"
      ],
      "metadata": {
        "id": "hiXmFhknvxZ9"
      },
      "execution_count": null,
      "outputs": []
    },
    {
      "cell_type": "markdown",
      "source": [
        "# vamos a hacer la regresión lineal"
      ],
      "metadata": {
        "id": "XnwvqUiOz8L7"
      }
    },
    {
      "cell_type": "code",
      "source": [
        "from sklearn.model_selection import train_test_split"
      ],
      "metadata": {
        "id": "dh1HD0S30TI_"
      },
      "execution_count": 96,
      "outputs": []
    },
    {
      "cell_type": "code",
      "source": [
        "X_train, X_test, y_train, y_test = train_test_split(X, y, test_size = 0.2, random_state = 0) # random_state es la semilla. "
      ],
      "metadata": {
        "id": "LJQ89Xgc0pqb"
      },
      "execution_count": 99,
      "outputs": []
    },
    {
      "cell_type": "code",
      "source": [
        "from sklearn.linear_model import LinearRegression"
      ],
      "metadata": {
        "id": "eatIHohO0ACR"
      },
      "execution_count": 94,
      "outputs": []
    },
    {
      "cell_type": "code",
      "source": [
        "regression = LinearRegression()\n",
        "regression.fit(X_train, y_train)\n",
        "# hay que observar que tengan el mismo tamaño. lo hemos visto arriba con shape. "
      ],
      "metadata": {
        "id": "yZJAz9x-0EBv",
        "outputId": "4ca0a414-5ae8-4e7f-db8e-8f697e48d8c2",
        "colab": {
          "base_uri": "https://localhost:8080/"
        }
      },
      "execution_count": 95,
      "outputs": [
        {
          "output_type": "execute_result",
          "data": {
            "text/plain": [
              "LinearRegression()"
            ]
          },
          "metadata": {},
          "execution_count": 95
        }
      ]
    },
    {
      "cell_type": "markdown",
      "source": [
        "# predecir el conjunto de test"
      ],
      "metadata": {
        "id": "cbY8UrkZ09Tr"
      }
    },
    {
      "cell_type": "code",
      "source": [
        "y_pred = regression.predict(X_test) # utilizamos el predict de Xtest"
      ],
      "metadata": {
        "id": "6iK_g2tS0KXv",
        "outputId": "5797c3a0-9a23-4e23-ffea-50978a449ae2",
        "colab": {
          "base_uri": "https://localhost:8080/",
          "height": 404
        }
      },
      "execution_count": 100,
      "outputs": [
        {
          "output_type": "error",
          "ename": "ValueError",
          "evalue": "ignored",
          "traceback": [
            "\u001b[0;31m---------------------------------------------------------------------------\u001b[0m",
            "\u001b[0;31mValueError\u001b[0m                                Traceback (most recent call last)",
            "\u001b[0;32m<ipython-input-100-fb5ab4ae084b>\u001b[0m in \u001b[0;36m<module>\u001b[0;34m()\u001b[0m\n\u001b[0;32m----> 1\u001b[0;31m \u001b[0my_pred\u001b[0m \u001b[0;34m=\u001b[0m \u001b[0mregression\u001b[0m\u001b[0;34m.\u001b[0m\u001b[0mpredict\u001b[0m\u001b[0;34m(\u001b[0m\u001b[0mX_test\u001b[0m\u001b[0;34m)\u001b[0m \u001b[0;31m# utilizamos el predict de Xtest\u001b[0m\u001b[0;34m\u001b[0m\u001b[0;34m\u001b[0m\u001b[0m\n\u001b[0m",
            "\u001b[0;32m/usr/local/lib/python3.7/dist-packages/sklearn/linear_model/_base.py\u001b[0m in \u001b[0;36mpredict\u001b[0;34m(self, X)\u001b[0m\n\u001b[1;32m    360\u001b[0m             \u001b[0mReturns\u001b[0m \u001b[0mpredicted\u001b[0m \u001b[0mvalues\u001b[0m\u001b[0;34m.\u001b[0m\u001b[0;34m\u001b[0m\u001b[0;34m\u001b[0m\u001b[0m\n\u001b[1;32m    361\u001b[0m         \"\"\"\n\u001b[0;32m--> 362\u001b[0;31m         \u001b[0;32mreturn\u001b[0m \u001b[0mself\u001b[0m\u001b[0;34m.\u001b[0m\u001b[0m_decision_function\u001b[0m\u001b[0;34m(\u001b[0m\u001b[0mX\u001b[0m\u001b[0;34m)\u001b[0m\u001b[0;34m\u001b[0m\u001b[0;34m\u001b[0m\u001b[0m\n\u001b[0m\u001b[1;32m    363\u001b[0m \u001b[0;34m\u001b[0m\u001b[0m\n\u001b[1;32m    364\u001b[0m     \u001b[0m_preprocess_data\u001b[0m \u001b[0;34m=\u001b[0m \u001b[0mstaticmethod\u001b[0m\u001b[0;34m(\u001b[0m\u001b[0m_preprocess_data\u001b[0m\u001b[0;34m)\u001b[0m\u001b[0;34m\u001b[0m\u001b[0;34m\u001b[0m\u001b[0m\n",
            "\u001b[0;32m/usr/local/lib/python3.7/dist-packages/sklearn/linear_model/_base.py\u001b[0m in \u001b[0;36m_decision_function\u001b[0;34m(self, X)\u001b[0m\n\u001b[1;32m    343\u001b[0m         \u001b[0mcheck_is_fitted\u001b[0m\u001b[0;34m(\u001b[0m\u001b[0mself\u001b[0m\u001b[0;34m)\u001b[0m\u001b[0;34m\u001b[0m\u001b[0;34m\u001b[0m\u001b[0m\n\u001b[1;32m    344\u001b[0m \u001b[0;34m\u001b[0m\u001b[0m\n\u001b[0;32m--> 345\u001b[0;31m         \u001b[0mX\u001b[0m \u001b[0;34m=\u001b[0m \u001b[0mself\u001b[0m\u001b[0;34m.\u001b[0m\u001b[0m_validate_data\u001b[0m\u001b[0;34m(\u001b[0m\u001b[0mX\u001b[0m\u001b[0;34m,\u001b[0m \u001b[0maccept_sparse\u001b[0m\u001b[0;34m=\u001b[0m\u001b[0;34m[\u001b[0m\u001b[0;34m\"csr\"\u001b[0m\u001b[0;34m,\u001b[0m \u001b[0;34m\"csc\"\u001b[0m\u001b[0;34m,\u001b[0m \u001b[0;34m\"coo\"\u001b[0m\u001b[0;34m]\u001b[0m\u001b[0;34m,\u001b[0m \u001b[0mreset\u001b[0m\u001b[0;34m=\u001b[0m\u001b[0;32mFalse\u001b[0m\u001b[0;34m)\u001b[0m\u001b[0;34m\u001b[0m\u001b[0;34m\u001b[0m\u001b[0m\n\u001b[0m\u001b[1;32m    346\u001b[0m         \u001b[0;32mreturn\u001b[0m \u001b[0msafe_sparse_dot\u001b[0m\u001b[0;34m(\u001b[0m\u001b[0mX\u001b[0m\u001b[0;34m,\u001b[0m \u001b[0mself\u001b[0m\u001b[0;34m.\u001b[0m\u001b[0mcoef_\u001b[0m\u001b[0;34m.\u001b[0m\u001b[0mT\u001b[0m\u001b[0;34m,\u001b[0m \u001b[0mdense_output\u001b[0m\u001b[0;34m=\u001b[0m\u001b[0;32mTrue\u001b[0m\u001b[0;34m)\u001b[0m \u001b[0;34m+\u001b[0m \u001b[0mself\u001b[0m\u001b[0;34m.\u001b[0m\u001b[0mintercept_\u001b[0m\u001b[0;34m\u001b[0m\u001b[0;34m\u001b[0m\u001b[0m\n\u001b[1;32m    347\u001b[0m \u001b[0;34m\u001b[0m\u001b[0m\n",
            "\u001b[0;32m/usr/local/lib/python3.7/dist-packages/sklearn/base.py\u001b[0m in \u001b[0;36m_validate_data\u001b[0;34m(self, X, y, reset, validate_separately, **check_params)\u001b[0m\n\u001b[1;32m    564\u001b[0m             \u001b[0;32mraise\u001b[0m \u001b[0mValueError\u001b[0m\u001b[0;34m(\u001b[0m\u001b[0;34m\"Validation should be done on X, y or both.\"\u001b[0m\u001b[0;34m)\u001b[0m\u001b[0;34m\u001b[0m\u001b[0;34m\u001b[0m\u001b[0m\n\u001b[1;32m    565\u001b[0m         \u001b[0;32melif\u001b[0m \u001b[0;32mnot\u001b[0m \u001b[0mno_val_X\u001b[0m \u001b[0;32mand\u001b[0m \u001b[0mno_val_y\u001b[0m\u001b[0;34m:\u001b[0m\u001b[0;34m\u001b[0m\u001b[0;34m\u001b[0m\u001b[0m\n\u001b[0;32m--> 566\u001b[0;31m             \u001b[0mX\u001b[0m \u001b[0;34m=\u001b[0m \u001b[0mcheck_array\u001b[0m\u001b[0;34m(\u001b[0m\u001b[0mX\u001b[0m\u001b[0;34m,\u001b[0m \u001b[0;34m**\u001b[0m\u001b[0mcheck_params\u001b[0m\u001b[0;34m)\u001b[0m\u001b[0;34m\u001b[0m\u001b[0;34m\u001b[0m\u001b[0m\n\u001b[0m\u001b[1;32m    567\u001b[0m             \u001b[0mout\u001b[0m \u001b[0;34m=\u001b[0m \u001b[0mX\u001b[0m\u001b[0;34m\u001b[0m\u001b[0;34m\u001b[0m\u001b[0m\n\u001b[1;32m    568\u001b[0m         \u001b[0;32melif\u001b[0m \u001b[0mno_val_X\u001b[0m \u001b[0;32mand\u001b[0m \u001b[0;32mnot\u001b[0m \u001b[0mno_val_y\u001b[0m\u001b[0;34m:\u001b[0m\u001b[0;34m\u001b[0m\u001b[0;34m\u001b[0m\u001b[0m\n",
            "\u001b[0;32m/usr/local/lib/python3.7/dist-packages/sklearn/utils/validation.py\u001b[0m in \u001b[0;36mcheck_array\u001b[0;34m(array, accept_sparse, accept_large_sparse, dtype, order, copy, force_all_finite, ensure_2d, allow_nd, ensure_min_samples, ensure_min_features, estimator)\u001b[0m\n\u001b[1;32m    771\u001b[0m                     \u001b[0;34m\"Reshape your data either using array.reshape(-1, 1) if \"\u001b[0m\u001b[0;34m\u001b[0m\u001b[0;34m\u001b[0m\u001b[0m\n\u001b[1;32m    772\u001b[0m                     \u001b[0;34m\"your data has a single feature or array.reshape(1, -1) \"\u001b[0m\u001b[0;34m\u001b[0m\u001b[0;34m\u001b[0m\u001b[0m\n\u001b[0;32m--> 773\u001b[0;31m                     \u001b[0;34m\"if it contains a single sample.\"\u001b[0m\u001b[0;34m.\u001b[0m\u001b[0mformat\u001b[0m\u001b[0;34m(\u001b[0m\u001b[0marray\u001b[0m\u001b[0;34m)\u001b[0m\u001b[0;34m\u001b[0m\u001b[0;34m\u001b[0m\u001b[0m\n\u001b[0m\u001b[1;32m    774\u001b[0m                 )\n\u001b[1;32m    775\u001b[0m \u001b[0;34m\u001b[0m\u001b[0m\n",
            "\u001b[0;31mValueError\u001b[0m: Expected 2D array, got 1D array instead:\narray=[118148.2  249744.55 229160.95 164470.71 407934.54 353183.81 185265.1\n  88218.23 303319.26 366168.42].\nReshape your data either using array.reshape(-1, 1) if your data has a single feature or array.reshape(1, -1) if it contains a single sample."
          ]
        }
      ]
    },
    {
      "cell_type": "markdown",
      "source": [
        "# VISUALIZAR LOS DATOS DE ENTRENAMIENTO"
      ],
      "metadata": {
        "id": "fLnHH8a6vlOE"
      }
    },
    {
      "cell_type": "code",
      "source": [
        "\"\"\"plt.scatter(X_train, y_train, color = \"red\") # scatter es nube de puntos. \n",
        "plt.plot(X_train, regression.predict(X_train), color = \"blue\") # X_train son los valores de entrenamiento, regression.predict(X_train) es la predicciión en base a los fit de X_train (esto es la y)\n",
        "plt.title(\"Sueldo vs Años de Experiencia (Conjunto de Entrenamiento)\")\n",
        "plt.xlabel(\"Años de Experiencia\")\n",
        "plt.ylabel(\"Sueldo (en $)\")\n",
        "plt.show()\"\"\""
      ],
      "metadata": {
        "id": "9zC-HUZkuUWw"
      },
      "execution_count": null,
      "outputs": []
    },
    {
      "cell_type": "markdown",
      "source": [
        "# visualizar datos de testing"
      ],
      "metadata": {
        "id": "Y6rRCwVwyXDr"
      }
    },
    {
      "cell_type": "code",
      "source": [
        "\"\"\"plt.scatter(X_test, y_test, color = \"red\") # scatter es nube de puntos. \n",
        "plt.plot(X_train, regression.predict(X_train), color = \"blue\") # la recta tiene que ser la misma. \n",
        "plt.title(\"Sueldo vs Años de Experiencia (Conjunto de Testin)\")\n",
        "plt.xlabel(\"Años de Experiencia\")\n",
        "plt.ylabel(\"Sueldo (en $)\")\n",
        "plt.show()\"\"\""
      ],
      "metadata": {
        "id": "hdJYaRczwLMN"
      },
      "execution_count": null,
      "outputs": []
    },
    {
      "cell_type": "code",
      "source": [
        ""
      ],
      "metadata": {
        "id": "H9G2ec2CyLbS"
      },
      "execution_count": null,
      "outputs": []
    }
  ],
  "metadata": {
    "colab": {
      "name": "data_preprocessing_template.ipynb",
      "provenance": [],
      "include_colab_link": true
    },
    "kernelspec": {
      "display_name": "Python 3",
      "language": "python",
      "name": "python3"
    },
    "language_info": {
      "codemirror_mode": {
        "name": "ipython",
        "version": 3
      },
      "file_extension": ".py",
      "mimetype": "text/x-python",
      "name": "python",
      "nbconvert_exporter": "python",
      "pygments_lexer": "ipython3",
      "version": "3.8.3"
    }
  },
  "nbformat": 4,
  "nbformat_minor": 0
}